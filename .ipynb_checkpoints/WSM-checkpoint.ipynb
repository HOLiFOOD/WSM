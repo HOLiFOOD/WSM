{
 "cells": [
  {
   "cell_type": "code",
   "execution_count": 1,
   "metadata": {
    "id": "q3XIVa5xkAZm",
    "tags": []
   },
   "outputs": [],
   "source": [
    "!pip install -q bertopic pandas nltk scikit-learn matplotlib xlwt "
   ]
  },
  {
   "cell_type": "code",
   "execution_count": 7,
   "metadata": {
    "colab": {
     "base_uri": "https://localhost:8080/"
    },
    "id": "-a0xU37Bihqv",
    "outputId": "ff2f2b68-aac7-49b8-a3a2-0d149fe2ead0",
    "tags": []
   },
   "outputs": [
    {
     "data": {
      "text/html": [
       "<div>\n",
       "<style scoped>\n",
       "    .dataframe tbody tr th:only-of-type {\n",
       "        vertical-align: middle;\n",
       "    }\n",
       "\n",
       "    .dataframe tbody tr th {\n",
       "        vertical-align: top;\n",
       "    }\n",
       "\n",
       "    .dataframe thead th {\n",
       "        text-align: right;\n",
       "    }\n",
       "</style>\n",
       "<table border=\"1\" class=\"dataframe\">\n",
       "  <thead>\n",
       "    <tr style=\"text-align: right;\">\n",
       "      <th></th>\n",
       "      <th>Date</th>\n",
       "      <th>Abstract</th>\n",
       "    </tr>\n",
       "  </thead>\n",
       "  <tbody>\n",
       "    <tr>\n",
       "      <th>0</th>\n",
       "      <td>2015-03-10</td>\n",
       "      <td>Garlic is valued more for its flavoring and us...</td>\n",
       "    </tr>\n",
       "    <tr>\n",
       "      <th>1</th>\n",
       "      <td>2015-03-10</td>\n",
       "      <td>The present investigation was undertaken to st...</td>\n",
       "    </tr>\n",
       "    <tr>\n",
       "      <th>2</th>\n",
       "      <td>2015-01-01</td>\n",
       "      <td>Upland areas of southeastern U.S. tidal creek ...</td>\n",
       "    </tr>\n",
       "    <tr>\n",
       "      <th>3</th>\n",
       "      <td>2014-12-10</td>\n",
       "      <td>The specific activity of 90Sr in milk and vege...</td>\n",
       "    </tr>\n",
       "    <tr>\n",
       "      <th>4</th>\n",
       "      <td>2014-06-11</td>\n",
       "      <td>A survey was conducted to evaluate aflatoxin c...</td>\n",
       "    </tr>\n",
       "    <tr>\n",
       "      <th>...</th>\n",
       "      <td>...</td>\n",
       "      <td>...</td>\n",
       "    </tr>\n",
       "    <tr>\n",
       "      <th>12686</th>\n",
       "      <td>2020-09-29</td>\n",
       "      <td>The gluten-free food market is growing with th...</td>\n",
       "    </tr>\n",
       "    <tr>\n",
       "      <th>12687</th>\n",
       "      <td>2020-09-02</td>\n",
       "      <td>Hurricane Sandy made landfall in New Jersey on...</td>\n",
       "    </tr>\n",
       "    <tr>\n",
       "      <th>12688</th>\n",
       "      <td>2020-08-28</td>\n",
       "      <td>Prevalent risks in meat value-chains of sub-Sa...</td>\n",
       "    </tr>\n",
       "    <tr>\n",
       "      <th>12689</th>\n",
       "      <td>2020-06-03</td>\n",
       "      <td>The presence of metal contaminants in agricult...</td>\n",
       "    </tr>\n",
       "    <tr>\n",
       "      <th>12690</th>\n",
       "      <td>2019-03-04</td>\n",
       "      <td>The organochlorine pollution by chlordecone, a...</td>\n",
       "    </tr>\n",
       "  </tbody>\n",
       "</table>\n",
       "<p>12373 rows × 2 columns</p>\n",
       "</div>"
      ],
      "text/plain": [
       "             Date                                           Abstract\n",
       "0      2015-03-10  Garlic is valued more for its flavoring and us...\n",
       "1      2015-03-10  The present investigation was undertaken to st...\n",
       "2      2015-01-01  Upland areas of southeastern U.S. tidal creek ...\n",
       "3      2014-12-10  The specific activity of 90Sr in milk and vege...\n",
       "4      2014-06-11  A survey was conducted to evaluate aflatoxin c...\n",
       "...           ...                                                ...\n",
       "12686  2020-09-29  The gluten-free food market is growing with th...\n",
       "12687  2020-09-02  Hurricane Sandy made landfall in New Jersey on...\n",
       "12688  2020-08-28  Prevalent risks in meat value-chains of sub-Sa...\n",
       "12689  2020-06-03  The presence of metal contaminants in agricult...\n",
       "12690  2019-03-04  The organochlorine pollution by chlordecone, a...\n",
       "\n",
       "[12373 rows x 2 columns]"
      ]
     },
     "execution_count": 7,
     "metadata": {},
     "output_type": "execute_result"
    }
   ],
   "source": [
    "import pandas as pd\n",
    "Paper = pd.read_csv('/home/jupyter/WSM/data/papers.csv')\n",
    "Paper = Paper.dropna()\n",
    "Paper"
   ]
  },
  {
   "cell_type": "code",
   "execution_count": 8,
   "metadata": {
    "colab": {
     "base_uri": "https://localhost:8080/"
    },
    "id": "SPMYB13olo8F",
    "outputId": "6cac99a6-da25-40d2-fdcb-e5785a4f2b51",
    "tags": []
   },
   "outputs": [
    {
     "name": "stdout",
     "output_type": "stream",
     "text": [
      "                                                Abstract  Year\n",
      "0      Garlic is valued more for its flavoring and us...  2015\n",
      "1      The present investigation was undertaken to st...  2015\n",
      "2      Upland areas of southeastern U.S. tidal creek ...  2015\n",
      "3      The specific activity of 90Sr in milk and vege...  2014\n",
      "4      A survey was conducted to evaluate aflatoxin c...  2014\n",
      "...                                                  ...   ...\n",
      "12686  The gluten-free food market is growing with th...  2020\n",
      "12687  Hurricane Sandy made landfall in New Jersey on...  2020\n",
      "12688  Prevalent risks in meat value-chains of sub-Sa...  2020\n",
      "12689  The presence of metal contaminants in agricult...  2020\n",
      "12690  The organochlorine pollution by chlordecone, a...  2019\n",
      "\n",
      "[12262 rows x 2 columns]\n"
     ]
    }
   ],
   "source": [
    "# sometimes dates outside of desired timeframe are scraped. This is to make sure only dates within ranage are kept.\n",
    "\n",
    "Paper['Date'] = pd.to_datetime(Paper['Date'])\n",
    "\n",
    "# Extract the year from the datetime column\n",
    "Paper['Year'] = Paper['Date'].dt.year\n",
    "\n",
    "# Define the range of years\n",
    "start_year = 2013\n",
    "end_year = 2023\n",
    "\n",
    "# Filter the DataFrame and create a copy\n",
    "Paper = Paper[(Paper['Year'] >= start_year) & (Paper['Year'] <= end_year)].copy()\n",
    "\n",
    "# Drop the original date column if needed\n",
    "Paper.drop('Date', axis=1, inplace=True)\n",
    "\n",
    "# Print the resulting DataFrame\n",
    "print(Paper)"
   ]
  },
  {
   "cell_type": "code",
   "execution_count": 9,
   "metadata": {
    "id": "pjXq0KZGktK5",
    "tags": []
   },
   "outputs": [],
   "source": [
    "import pandas as pd\n",
    "from bertopic import BERTopic\n",
    "from sklearn.feature_extraction.text import CountVectorizer\n",
    "from sklearn.cluster import AgglomerativeClustering\n",
    "from sentence_transformers import SentenceTransformer\n",
    "from umap import UMAP\n",
    "from collections import Counter\n",
    "import numpy as np\n",
    "import matplotlib.pyplot as plt\n",
    "from scipy.stats import gmean\n",
    "import nltk"
   ]
  },
  {
   "cell_type": "code",
   "execution_count": 10,
   "metadata": {
    "id": "u9yPtI2BcIS1",
    "tags": []
   },
   "outputs": [],
   "source": [
    "import re\n",
    "# Convert the 'abstract' column to string data type\n",
    "Paper['Abstract'] = Paper['Abstract'].astype(str)\n",
    "\n",
    "# Define a regular expression pattern to match non-Latin characters\n",
    "non_latin_pattern = re.compile(r'[^\\x00-\\x7F]')\n",
    "\n",
    "# Apply the regular expression pattern to the 'abstract' column\n",
    "Paper = Paper[~Paper['Abstract'].str.contains(non_latin_pattern)]"
   ]
  },
  {
   "cell_type": "code",
   "execution_count": 11,
   "metadata": {
    "id": "Am1Jrc-12LIa",
    "tags": []
   },
   "outputs": [],
   "source": [
    "abstracts = Paper[\"Abstract\"].astype('str')\n",
    "text = abstracts.tolist()\n",
    "#timestamp = Paper[\"Year\"].tolist()\n"
   ]
  },
  {
   "cell_type": "code",
   "execution_count": 12,
   "metadata": {
    "colab": {
     "base_uri": "https://localhost:8080/",
     "height": 211
    },
    "id": "D0LUBg0T0rrO",
    "outputId": "7e3378b5-fab5-4b97-db28-a0f1b6779b30",
    "tags": []
   },
   "outputs": [
    {
     "data": {
      "application/vnd.jupyter.widget-view+json": {
       "model_id": "d647fe694be849ffb7e87d3933228a9e",
       "version_major": 2,
       "version_minor": 0
      },
      "text/plain": [
       "modules.json:   0%|          | 0.00/349 [00:00<?, ?B/s]"
      ]
     },
     "metadata": {},
     "output_type": "display_data"
    },
    {
     "data": {
      "application/vnd.jupyter.widget-view+json": {
       "model_id": "4994bfa1dab24597ab262b971d8f2b96",
       "version_major": 2,
       "version_minor": 0
      },
      "text/plain": [
       "config_sentence_transformers.json:   0%|          | 0.00/116 [00:00<?, ?B/s]"
      ]
     },
     "metadata": {},
     "output_type": "display_data"
    },
    {
     "data": {
      "application/vnd.jupyter.widget-view+json": {
       "model_id": "334d3f3a333d477ca79c5f7f2f40a8b7",
       "version_major": 2,
       "version_minor": 0
      },
      "text/plain": [
       "README.md:   0%|          | 0.00/10.6k [00:00<?, ?B/s]"
      ]
     },
     "metadata": {},
     "output_type": "display_data"
    },
    {
     "data": {
      "application/vnd.jupyter.widget-view+json": {
       "model_id": "5fc9eb66032a43899174ebb470f6d760",
       "version_major": 2,
       "version_minor": 0
      },
      "text/plain": [
       "sentence_bert_config.json:   0%|          | 0.00/53.0 [00:00<?, ?B/s]"
      ]
     },
     "metadata": {},
     "output_type": "display_data"
    },
    {
     "data": {
      "application/vnd.jupyter.widget-view+json": {
       "model_id": "3fdfa46fff714ab9b93c5beb497b7924",
       "version_major": 2,
       "version_minor": 0
      },
      "text/plain": [
       "config.json:   0%|          | 0.00/571 [00:00<?, ?B/s]"
      ]
     },
     "metadata": {},
     "output_type": "display_data"
    },
    {
     "data": {
      "application/vnd.jupyter.widget-view+json": {
       "model_id": "85d2816240144c0bae69c566d6b8184f",
       "version_major": 2,
       "version_minor": 0
      },
      "text/plain": [
       "model.safetensors:   0%|          | 0.00/438M [00:00<?, ?B/s]"
      ]
     },
     "metadata": {},
     "output_type": "display_data"
    },
    {
     "data": {
      "application/vnd.jupyter.widget-view+json": {
       "model_id": "40f40324245641b684fd618381927919",
       "version_major": 2,
       "version_minor": 0
      },
      "text/plain": [
       "tokenizer_config.json:   0%|          | 0.00/363 [00:00<?, ?B/s]"
      ]
     },
     "metadata": {},
     "output_type": "display_data"
    },
    {
     "data": {
      "application/vnd.jupyter.widget-view+json": {
       "model_id": "dbc95f6f3a3b4a0691a84a7eb445c731",
       "version_major": 2,
       "version_minor": 0
      },
      "text/plain": [
       "vocab.txt:   0%|          | 0.00/232k [00:00<?, ?B/s]"
      ]
     },
     "metadata": {},
     "output_type": "display_data"
    },
    {
     "data": {
      "application/vnd.jupyter.widget-view+json": {
       "model_id": "b268ba8ce1654a66b402327fed449460",
       "version_major": 2,
       "version_minor": 0
      },
      "text/plain": [
       "tokenizer.json:   0%|          | 0.00/466k [00:00<?, ?B/s]"
      ]
     },
     "metadata": {},
     "output_type": "display_data"
    },
    {
     "data": {
      "application/vnd.jupyter.widget-view+json": {
       "model_id": "0b433bf38e474180b7d9a9a54ca83248",
       "version_major": 2,
       "version_minor": 0
      },
      "text/plain": [
       "special_tokens_map.json:   0%|          | 0.00/239 [00:00<?, ?B/s]"
      ]
     },
     "metadata": {},
     "output_type": "display_data"
    },
    {
     "data": {
      "application/vnd.jupyter.widget-view+json": {
       "model_id": "de06d0c7234442b58e84cd0e2024c166",
       "version_major": 2,
       "version_minor": 0
      },
      "text/plain": [
       "1_Pooling/config.json:   0%|          | 0.00/190 [00:00<?, ?B/s]"
      ]
     },
     "metadata": {},
     "output_type": "display_data"
    },
    {
     "ename": "KeyboardInterrupt",
     "evalue": "",
     "output_type": "error",
     "traceback": [
      "\u001b[0;31m---------------------------------------------------------------------------\u001b[0m",
      "\u001b[0;31mKeyboardInterrupt\u001b[0m                         Traceback (most recent call last)",
      "Cell \u001b[0;32mIn[12], line 3\u001b[0m\n\u001b[1;32m      1\u001b[0m \u001b[38;5;66;03m# Prepare embeddings\u001b[39;00m\n\u001b[1;32m      2\u001b[0m sentence_model \u001b[38;5;241m=\u001b[39m SentenceTransformer(\u001b[38;5;124m\"\u001b[39m\u001b[38;5;124mall-mpnet-base-v2\u001b[39m\u001b[38;5;124m\"\u001b[39m)\n\u001b[0;32m----> 3\u001b[0m embeddings \u001b[38;5;241m=\u001b[39m \u001b[43msentence_model\u001b[49m\u001b[38;5;241;43m.\u001b[39;49m\u001b[43mencode\u001b[49m\u001b[43m(\u001b[49m\u001b[43mtext\u001b[49m\u001b[43m,\u001b[49m\u001b[43m \u001b[49m\u001b[43mshow_progress_bar\u001b[49m\u001b[38;5;241;43m=\u001b[39;49m\u001b[38;5;28;43;01mFalse\u001b[39;49;00m\u001b[43m)\u001b[49m\n\u001b[1;32m      4\u001b[0m cluster_model \u001b[38;5;241m=\u001b[39m AgglomerativeClustering(distance_threshold\u001b[38;5;241m=\u001b[39m\u001b[38;5;241m0.2\u001b[39m, n_clusters\u001b[38;5;241m=\u001b[39m\u001b[38;5;28;01mNone\u001b[39;00m)\n\u001b[1;32m      6\u001b[0m \u001b[38;5;66;03m# Train BERTopic\u001b[39;00m\n",
      "File \u001b[0;32m/opt/conda/lib/python3.10/site-packages/sentence_transformers/SentenceTransformer.py:516\u001b[0m, in \u001b[0;36mSentenceTransformer.encode\u001b[0;34m(self, sentences, prompt_name, prompt, batch_size, show_progress_bar, output_value, precision, convert_to_numpy, convert_to_tensor, device, normalize_embeddings)\u001b[0m\n\u001b[1;32m    513\u001b[0m features\u001b[38;5;241m.\u001b[39mupdate(extra_features)\n\u001b[1;32m    515\u001b[0m \u001b[38;5;28;01mwith\u001b[39;00m torch\u001b[38;5;241m.\u001b[39mno_grad():\n\u001b[0;32m--> 516\u001b[0m     out_features \u001b[38;5;241m=\u001b[39m \u001b[38;5;28;43mself\u001b[39;49m\u001b[38;5;241;43m.\u001b[39;49m\u001b[43mforward\u001b[49m\u001b[43m(\u001b[49m\u001b[43mfeatures\u001b[49m\u001b[43m)\u001b[49m\n\u001b[1;32m    517\u001b[0m     \u001b[38;5;28;01mif\u001b[39;00m \u001b[38;5;28mself\u001b[39m\u001b[38;5;241m.\u001b[39mdevice\u001b[38;5;241m.\u001b[39mtype \u001b[38;5;241m==\u001b[39m \u001b[38;5;124m\"\u001b[39m\u001b[38;5;124mhpu\u001b[39m\u001b[38;5;124m\"\u001b[39m:\n\u001b[1;32m    518\u001b[0m         out_features \u001b[38;5;241m=\u001b[39m copy\u001b[38;5;241m.\u001b[39mdeepcopy(out_features)\n",
      "File \u001b[0;32m/opt/conda/lib/python3.10/site-packages/torch/nn/modules/container.py:217\u001b[0m, in \u001b[0;36mSequential.forward\u001b[0;34m(self, input)\u001b[0m\n\u001b[1;32m    215\u001b[0m \u001b[38;5;28;01mdef\u001b[39;00m \u001b[38;5;21mforward\u001b[39m(\u001b[38;5;28mself\u001b[39m, \u001b[38;5;28minput\u001b[39m):\n\u001b[1;32m    216\u001b[0m     \u001b[38;5;28;01mfor\u001b[39;00m module \u001b[38;5;129;01min\u001b[39;00m \u001b[38;5;28mself\u001b[39m:\n\u001b[0;32m--> 217\u001b[0m         \u001b[38;5;28minput\u001b[39m \u001b[38;5;241m=\u001b[39m \u001b[43mmodule\u001b[49m\u001b[43m(\u001b[49m\u001b[38;5;28;43minput\u001b[39;49m\u001b[43m)\u001b[49m\n\u001b[1;32m    218\u001b[0m     \u001b[38;5;28;01mreturn\u001b[39;00m \u001b[38;5;28minput\u001b[39m\n",
      "File \u001b[0;32m/opt/conda/lib/python3.10/site-packages/torch/nn/modules/module.py:1511\u001b[0m, in \u001b[0;36mModule._wrapped_call_impl\u001b[0;34m(self, *args, **kwargs)\u001b[0m\n\u001b[1;32m   1509\u001b[0m     \u001b[38;5;28;01mreturn\u001b[39;00m \u001b[38;5;28mself\u001b[39m\u001b[38;5;241m.\u001b[39m_compiled_call_impl(\u001b[38;5;241m*\u001b[39margs, \u001b[38;5;241m*\u001b[39m\u001b[38;5;241m*\u001b[39mkwargs)  \u001b[38;5;66;03m# type: ignore[misc]\u001b[39;00m\n\u001b[1;32m   1510\u001b[0m \u001b[38;5;28;01melse\u001b[39;00m:\n\u001b[0;32m-> 1511\u001b[0m     \u001b[38;5;28;01mreturn\u001b[39;00m \u001b[38;5;28;43mself\u001b[39;49m\u001b[38;5;241;43m.\u001b[39;49m\u001b[43m_call_impl\u001b[49m\u001b[43m(\u001b[49m\u001b[38;5;241;43m*\u001b[39;49m\u001b[43margs\u001b[49m\u001b[43m,\u001b[49m\u001b[43m \u001b[49m\u001b[38;5;241;43m*\u001b[39;49m\u001b[38;5;241;43m*\u001b[39;49m\u001b[43mkwargs\u001b[49m\u001b[43m)\u001b[49m\n",
      "File \u001b[0;32m/opt/conda/lib/python3.10/site-packages/torch/nn/modules/module.py:1520\u001b[0m, in \u001b[0;36mModule._call_impl\u001b[0;34m(self, *args, **kwargs)\u001b[0m\n\u001b[1;32m   1515\u001b[0m \u001b[38;5;66;03m# If we don't have any hooks, we want to skip the rest of the logic in\u001b[39;00m\n\u001b[1;32m   1516\u001b[0m \u001b[38;5;66;03m# this function, and just call forward.\u001b[39;00m\n\u001b[1;32m   1517\u001b[0m \u001b[38;5;28;01mif\u001b[39;00m \u001b[38;5;129;01mnot\u001b[39;00m (\u001b[38;5;28mself\u001b[39m\u001b[38;5;241m.\u001b[39m_backward_hooks \u001b[38;5;129;01mor\u001b[39;00m \u001b[38;5;28mself\u001b[39m\u001b[38;5;241m.\u001b[39m_backward_pre_hooks \u001b[38;5;129;01mor\u001b[39;00m \u001b[38;5;28mself\u001b[39m\u001b[38;5;241m.\u001b[39m_forward_hooks \u001b[38;5;129;01mor\u001b[39;00m \u001b[38;5;28mself\u001b[39m\u001b[38;5;241m.\u001b[39m_forward_pre_hooks\n\u001b[1;32m   1518\u001b[0m         \u001b[38;5;129;01mor\u001b[39;00m _global_backward_pre_hooks \u001b[38;5;129;01mor\u001b[39;00m _global_backward_hooks\n\u001b[1;32m   1519\u001b[0m         \u001b[38;5;129;01mor\u001b[39;00m _global_forward_hooks \u001b[38;5;129;01mor\u001b[39;00m _global_forward_pre_hooks):\n\u001b[0;32m-> 1520\u001b[0m     \u001b[38;5;28;01mreturn\u001b[39;00m \u001b[43mforward_call\u001b[49m\u001b[43m(\u001b[49m\u001b[38;5;241;43m*\u001b[39;49m\u001b[43margs\u001b[49m\u001b[43m,\u001b[49m\u001b[43m \u001b[49m\u001b[38;5;241;43m*\u001b[39;49m\u001b[38;5;241;43m*\u001b[39;49m\u001b[43mkwargs\u001b[49m\u001b[43m)\u001b[49m\n\u001b[1;32m   1522\u001b[0m \u001b[38;5;28;01mtry\u001b[39;00m:\n\u001b[1;32m   1523\u001b[0m     result \u001b[38;5;241m=\u001b[39m \u001b[38;5;28;01mNone\u001b[39;00m\n",
      "File \u001b[0;32m/opt/conda/lib/python3.10/site-packages/sentence_transformers/models/Transformer.py:117\u001b[0m, in \u001b[0;36mTransformer.forward\u001b[0;34m(self, features)\u001b[0m\n\u001b[1;32m    114\u001b[0m \u001b[38;5;28;01mif\u001b[39;00m \u001b[38;5;124m\"\u001b[39m\u001b[38;5;124mtoken_type_ids\u001b[39m\u001b[38;5;124m\"\u001b[39m \u001b[38;5;129;01min\u001b[39;00m features:\n\u001b[1;32m    115\u001b[0m     trans_features[\u001b[38;5;124m\"\u001b[39m\u001b[38;5;124mtoken_type_ids\u001b[39m\u001b[38;5;124m\"\u001b[39m] \u001b[38;5;241m=\u001b[39m features[\u001b[38;5;124m\"\u001b[39m\u001b[38;5;124mtoken_type_ids\u001b[39m\u001b[38;5;124m\"\u001b[39m]\n\u001b[0;32m--> 117\u001b[0m output_states \u001b[38;5;241m=\u001b[39m \u001b[38;5;28;43mself\u001b[39;49m\u001b[38;5;241;43m.\u001b[39;49m\u001b[43mauto_model\u001b[49m\u001b[43m(\u001b[49m\u001b[38;5;241;43m*\u001b[39;49m\u001b[38;5;241;43m*\u001b[39;49m\u001b[43mtrans_features\u001b[49m\u001b[43m,\u001b[49m\u001b[43m \u001b[49m\u001b[43mreturn_dict\u001b[49m\u001b[38;5;241;43m=\u001b[39;49m\u001b[38;5;28;43;01mFalse\u001b[39;49;00m\u001b[43m)\u001b[49m\n\u001b[1;32m    118\u001b[0m output_tokens \u001b[38;5;241m=\u001b[39m output_states[\u001b[38;5;241m0\u001b[39m]\n\u001b[1;32m    120\u001b[0m features\u001b[38;5;241m.\u001b[39mupdate({\u001b[38;5;124m\"\u001b[39m\u001b[38;5;124mtoken_embeddings\u001b[39m\u001b[38;5;124m\"\u001b[39m: output_tokens, \u001b[38;5;124m\"\u001b[39m\u001b[38;5;124mattention_mask\u001b[39m\u001b[38;5;124m\"\u001b[39m: features[\u001b[38;5;124m\"\u001b[39m\u001b[38;5;124mattention_mask\u001b[39m\u001b[38;5;124m\"\u001b[39m]})\n",
      "File \u001b[0;32m/opt/conda/lib/python3.10/site-packages/torch/nn/modules/module.py:1511\u001b[0m, in \u001b[0;36mModule._wrapped_call_impl\u001b[0;34m(self, *args, **kwargs)\u001b[0m\n\u001b[1;32m   1509\u001b[0m     \u001b[38;5;28;01mreturn\u001b[39;00m \u001b[38;5;28mself\u001b[39m\u001b[38;5;241m.\u001b[39m_compiled_call_impl(\u001b[38;5;241m*\u001b[39margs, \u001b[38;5;241m*\u001b[39m\u001b[38;5;241m*\u001b[39mkwargs)  \u001b[38;5;66;03m# type: ignore[misc]\u001b[39;00m\n\u001b[1;32m   1510\u001b[0m \u001b[38;5;28;01melse\u001b[39;00m:\n\u001b[0;32m-> 1511\u001b[0m     \u001b[38;5;28;01mreturn\u001b[39;00m \u001b[38;5;28;43mself\u001b[39;49m\u001b[38;5;241;43m.\u001b[39;49m\u001b[43m_call_impl\u001b[49m\u001b[43m(\u001b[49m\u001b[38;5;241;43m*\u001b[39;49m\u001b[43margs\u001b[49m\u001b[43m,\u001b[49m\u001b[43m \u001b[49m\u001b[38;5;241;43m*\u001b[39;49m\u001b[38;5;241;43m*\u001b[39;49m\u001b[43mkwargs\u001b[49m\u001b[43m)\u001b[49m\n",
      "File \u001b[0;32m/opt/conda/lib/python3.10/site-packages/torch/nn/modules/module.py:1520\u001b[0m, in \u001b[0;36mModule._call_impl\u001b[0;34m(self, *args, **kwargs)\u001b[0m\n\u001b[1;32m   1515\u001b[0m \u001b[38;5;66;03m# If we don't have any hooks, we want to skip the rest of the logic in\u001b[39;00m\n\u001b[1;32m   1516\u001b[0m \u001b[38;5;66;03m# this function, and just call forward.\u001b[39;00m\n\u001b[1;32m   1517\u001b[0m \u001b[38;5;28;01mif\u001b[39;00m \u001b[38;5;129;01mnot\u001b[39;00m (\u001b[38;5;28mself\u001b[39m\u001b[38;5;241m.\u001b[39m_backward_hooks \u001b[38;5;129;01mor\u001b[39;00m \u001b[38;5;28mself\u001b[39m\u001b[38;5;241m.\u001b[39m_backward_pre_hooks \u001b[38;5;129;01mor\u001b[39;00m \u001b[38;5;28mself\u001b[39m\u001b[38;5;241m.\u001b[39m_forward_hooks \u001b[38;5;129;01mor\u001b[39;00m \u001b[38;5;28mself\u001b[39m\u001b[38;5;241m.\u001b[39m_forward_pre_hooks\n\u001b[1;32m   1518\u001b[0m         \u001b[38;5;129;01mor\u001b[39;00m _global_backward_pre_hooks \u001b[38;5;129;01mor\u001b[39;00m _global_backward_hooks\n\u001b[1;32m   1519\u001b[0m         \u001b[38;5;129;01mor\u001b[39;00m _global_forward_hooks \u001b[38;5;129;01mor\u001b[39;00m _global_forward_pre_hooks):\n\u001b[0;32m-> 1520\u001b[0m     \u001b[38;5;28;01mreturn\u001b[39;00m \u001b[43mforward_call\u001b[49m\u001b[43m(\u001b[49m\u001b[38;5;241;43m*\u001b[39;49m\u001b[43margs\u001b[49m\u001b[43m,\u001b[49m\u001b[43m \u001b[49m\u001b[38;5;241;43m*\u001b[39;49m\u001b[38;5;241;43m*\u001b[39;49m\u001b[43mkwargs\u001b[49m\u001b[43m)\u001b[49m\n\u001b[1;32m   1522\u001b[0m \u001b[38;5;28;01mtry\u001b[39;00m:\n\u001b[1;32m   1523\u001b[0m     result \u001b[38;5;241m=\u001b[39m \u001b[38;5;28;01mNone\u001b[39;00m\n",
      "File \u001b[0;32m/opt/conda/lib/python3.10/site-packages/transformers/models/mpnet/modeling_mpnet.py:551\u001b[0m, in \u001b[0;36mMPNetModel.forward\u001b[0;34m(self, input_ids, attention_mask, position_ids, head_mask, inputs_embeds, output_attentions, output_hidden_states, return_dict, **kwargs)\u001b[0m\n\u001b[1;32m    549\u001b[0m head_mask \u001b[38;5;241m=\u001b[39m \u001b[38;5;28mself\u001b[39m\u001b[38;5;241m.\u001b[39mget_head_mask(head_mask, \u001b[38;5;28mself\u001b[39m\u001b[38;5;241m.\u001b[39mconfig\u001b[38;5;241m.\u001b[39mnum_hidden_layers)\n\u001b[1;32m    550\u001b[0m embedding_output \u001b[38;5;241m=\u001b[39m \u001b[38;5;28mself\u001b[39m\u001b[38;5;241m.\u001b[39membeddings(input_ids\u001b[38;5;241m=\u001b[39minput_ids, position_ids\u001b[38;5;241m=\u001b[39mposition_ids, inputs_embeds\u001b[38;5;241m=\u001b[39minputs_embeds)\n\u001b[0;32m--> 551\u001b[0m encoder_outputs \u001b[38;5;241m=\u001b[39m \u001b[38;5;28;43mself\u001b[39;49m\u001b[38;5;241;43m.\u001b[39;49m\u001b[43mencoder\u001b[49m\u001b[43m(\u001b[49m\n\u001b[1;32m    552\u001b[0m \u001b[43m    \u001b[49m\u001b[43membedding_output\u001b[49m\u001b[43m,\u001b[49m\n\u001b[1;32m    553\u001b[0m \u001b[43m    \u001b[49m\u001b[43mattention_mask\u001b[49m\u001b[38;5;241;43m=\u001b[39;49m\u001b[43mextended_attention_mask\u001b[49m\u001b[43m,\u001b[49m\n\u001b[1;32m    554\u001b[0m \u001b[43m    \u001b[49m\u001b[43mhead_mask\u001b[49m\u001b[38;5;241;43m=\u001b[39;49m\u001b[43mhead_mask\u001b[49m\u001b[43m,\u001b[49m\n\u001b[1;32m    555\u001b[0m \u001b[43m    \u001b[49m\u001b[43moutput_attentions\u001b[49m\u001b[38;5;241;43m=\u001b[39;49m\u001b[43moutput_attentions\u001b[49m\u001b[43m,\u001b[49m\n\u001b[1;32m    556\u001b[0m \u001b[43m    \u001b[49m\u001b[43moutput_hidden_states\u001b[49m\u001b[38;5;241;43m=\u001b[39;49m\u001b[43moutput_hidden_states\u001b[49m\u001b[43m,\u001b[49m\n\u001b[1;32m    557\u001b[0m \u001b[43m    \u001b[49m\u001b[43mreturn_dict\u001b[49m\u001b[38;5;241;43m=\u001b[39;49m\u001b[43mreturn_dict\u001b[49m\u001b[43m,\u001b[49m\n\u001b[1;32m    558\u001b[0m \u001b[43m\u001b[49m\u001b[43m)\u001b[49m\n\u001b[1;32m    559\u001b[0m sequence_output \u001b[38;5;241m=\u001b[39m encoder_outputs[\u001b[38;5;241m0\u001b[39m]\n\u001b[1;32m    560\u001b[0m pooled_output \u001b[38;5;241m=\u001b[39m \u001b[38;5;28mself\u001b[39m\u001b[38;5;241m.\u001b[39mpooler(sequence_output) \u001b[38;5;28;01mif\u001b[39;00m \u001b[38;5;28mself\u001b[39m\u001b[38;5;241m.\u001b[39mpooler \u001b[38;5;129;01mis\u001b[39;00m \u001b[38;5;129;01mnot\u001b[39;00m \u001b[38;5;28;01mNone\u001b[39;00m \u001b[38;5;28;01melse\u001b[39;00m \u001b[38;5;28;01mNone\u001b[39;00m\n",
      "File \u001b[0;32m/opt/conda/lib/python3.10/site-packages/torch/nn/modules/module.py:1511\u001b[0m, in \u001b[0;36mModule._wrapped_call_impl\u001b[0;34m(self, *args, **kwargs)\u001b[0m\n\u001b[1;32m   1509\u001b[0m     \u001b[38;5;28;01mreturn\u001b[39;00m \u001b[38;5;28mself\u001b[39m\u001b[38;5;241m.\u001b[39m_compiled_call_impl(\u001b[38;5;241m*\u001b[39margs, \u001b[38;5;241m*\u001b[39m\u001b[38;5;241m*\u001b[39mkwargs)  \u001b[38;5;66;03m# type: ignore[misc]\u001b[39;00m\n\u001b[1;32m   1510\u001b[0m \u001b[38;5;28;01melse\u001b[39;00m:\n\u001b[0;32m-> 1511\u001b[0m     \u001b[38;5;28;01mreturn\u001b[39;00m \u001b[38;5;28;43mself\u001b[39;49m\u001b[38;5;241;43m.\u001b[39;49m\u001b[43m_call_impl\u001b[49m\u001b[43m(\u001b[49m\u001b[38;5;241;43m*\u001b[39;49m\u001b[43margs\u001b[49m\u001b[43m,\u001b[49m\u001b[43m \u001b[49m\u001b[38;5;241;43m*\u001b[39;49m\u001b[38;5;241;43m*\u001b[39;49m\u001b[43mkwargs\u001b[49m\u001b[43m)\u001b[49m\n",
      "File \u001b[0;32m/opt/conda/lib/python3.10/site-packages/torch/nn/modules/module.py:1520\u001b[0m, in \u001b[0;36mModule._call_impl\u001b[0;34m(self, *args, **kwargs)\u001b[0m\n\u001b[1;32m   1515\u001b[0m \u001b[38;5;66;03m# If we don't have any hooks, we want to skip the rest of the logic in\u001b[39;00m\n\u001b[1;32m   1516\u001b[0m \u001b[38;5;66;03m# this function, and just call forward.\u001b[39;00m\n\u001b[1;32m   1517\u001b[0m \u001b[38;5;28;01mif\u001b[39;00m \u001b[38;5;129;01mnot\u001b[39;00m (\u001b[38;5;28mself\u001b[39m\u001b[38;5;241m.\u001b[39m_backward_hooks \u001b[38;5;129;01mor\u001b[39;00m \u001b[38;5;28mself\u001b[39m\u001b[38;5;241m.\u001b[39m_backward_pre_hooks \u001b[38;5;129;01mor\u001b[39;00m \u001b[38;5;28mself\u001b[39m\u001b[38;5;241m.\u001b[39m_forward_hooks \u001b[38;5;129;01mor\u001b[39;00m \u001b[38;5;28mself\u001b[39m\u001b[38;5;241m.\u001b[39m_forward_pre_hooks\n\u001b[1;32m   1518\u001b[0m         \u001b[38;5;129;01mor\u001b[39;00m _global_backward_pre_hooks \u001b[38;5;129;01mor\u001b[39;00m _global_backward_hooks\n\u001b[1;32m   1519\u001b[0m         \u001b[38;5;129;01mor\u001b[39;00m _global_forward_hooks \u001b[38;5;129;01mor\u001b[39;00m _global_forward_pre_hooks):\n\u001b[0;32m-> 1520\u001b[0m     \u001b[38;5;28;01mreturn\u001b[39;00m \u001b[43mforward_call\u001b[49m\u001b[43m(\u001b[49m\u001b[38;5;241;43m*\u001b[39;49m\u001b[43margs\u001b[49m\u001b[43m,\u001b[49m\u001b[43m \u001b[49m\u001b[38;5;241;43m*\u001b[39;49m\u001b[38;5;241;43m*\u001b[39;49m\u001b[43mkwargs\u001b[49m\u001b[43m)\u001b[49m\n\u001b[1;32m   1522\u001b[0m \u001b[38;5;28;01mtry\u001b[39;00m:\n\u001b[1;32m   1523\u001b[0m     result \u001b[38;5;241m=\u001b[39m \u001b[38;5;28;01mNone\u001b[39;00m\n",
      "File \u001b[0;32m/opt/conda/lib/python3.10/site-packages/transformers/models/mpnet/modeling_mpnet.py:341\u001b[0m, in \u001b[0;36mMPNetEncoder.forward\u001b[0;34m(self, hidden_states, attention_mask, head_mask, output_attentions, output_hidden_states, return_dict, **kwargs)\u001b[0m\n\u001b[1;32m    338\u001b[0m \u001b[38;5;28;01mif\u001b[39;00m output_hidden_states:\n\u001b[1;32m    339\u001b[0m     all_hidden_states \u001b[38;5;241m=\u001b[39m all_hidden_states \u001b[38;5;241m+\u001b[39m (hidden_states,)\n\u001b[0;32m--> 341\u001b[0m layer_outputs \u001b[38;5;241m=\u001b[39m \u001b[43mlayer_module\u001b[49m\u001b[43m(\u001b[49m\n\u001b[1;32m    342\u001b[0m \u001b[43m    \u001b[49m\u001b[43mhidden_states\u001b[49m\u001b[43m,\u001b[49m\n\u001b[1;32m    343\u001b[0m \u001b[43m    \u001b[49m\u001b[43mattention_mask\u001b[49m\u001b[43m,\u001b[49m\n\u001b[1;32m    344\u001b[0m \u001b[43m    \u001b[49m\u001b[43mhead_mask\u001b[49m\u001b[43m[\u001b[49m\u001b[43mi\u001b[49m\u001b[43m]\u001b[49m\u001b[43m,\u001b[49m\n\u001b[1;32m    345\u001b[0m \u001b[43m    \u001b[49m\u001b[43mposition_bias\u001b[49m\u001b[43m,\u001b[49m\n\u001b[1;32m    346\u001b[0m \u001b[43m    \u001b[49m\u001b[43moutput_attentions\u001b[49m\u001b[38;5;241;43m=\u001b[39;49m\u001b[43moutput_attentions\u001b[49m\u001b[43m,\u001b[49m\n\u001b[1;32m    347\u001b[0m \u001b[43m    \u001b[49m\u001b[38;5;241;43m*\u001b[39;49m\u001b[38;5;241;43m*\u001b[39;49m\u001b[43mkwargs\u001b[49m\u001b[43m,\u001b[49m\n\u001b[1;32m    348\u001b[0m \u001b[43m\u001b[49m\u001b[43m)\u001b[49m\n\u001b[1;32m    349\u001b[0m hidden_states \u001b[38;5;241m=\u001b[39m layer_outputs[\u001b[38;5;241m0\u001b[39m]\n\u001b[1;32m    351\u001b[0m \u001b[38;5;28;01mif\u001b[39;00m output_attentions:\n",
      "File \u001b[0;32m/opt/conda/lib/python3.10/site-packages/torch/nn/modules/module.py:1511\u001b[0m, in \u001b[0;36mModule._wrapped_call_impl\u001b[0;34m(self, *args, **kwargs)\u001b[0m\n\u001b[1;32m   1509\u001b[0m     \u001b[38;5;28;01mreturn\u001b[39;00m \u001b[38;5;28mself\u001b[39m\u001b[38;5;241m.\u001b[39m_compiled_call_impl(\u001b[38;5;241m*\u001b[39margs, \u001b[38;5;241m*\u001b[39m\u001b[38;5;241m*\u001b[39mkwargs)  \u001b[38;5;66;03m# type: ignore[misc]\u001b[39;00m\n\u001b[1;32m   1510\u001b[0m \u001b[38;5;28;01melse\u001b[39;00m:\n\u001b[0;32m-> 1511\u001b[0m     \u001b[38;5;28;01mreturn\u001b[39;00m \u001b[38;5;28;43mself\u001b[39;49m\u001b[38;5;241;43m.\u001b[39;49m\u001b[43m_call_impl\u001b[49m\u001b[43m(\u001b[49m\u001b[38;5;241;43m*\u001b[39;49m\u001b[43margs\u001b[49m\u001b[43m,\u001b[49m\u001b[43m \u001b[49m\u001b[38;5;241;43m*\u001b[39;49m\u001b[38;5;241;43m*\u001b[39;49m\u001b[43mkwargs\u001b[49m\u001b[43m)\u001b[49m\n",
      "File \u001b[0;32m/opt/conda/lib/python3.10/site-packages/torch/nn/modules/module.py:1520\u001b[0m, in \u001b[0;36mModule._call_impl\u001b[0;34m(self, *args, **kwargs)\u001b[0m\n\u001b[1;32m   1515\u001b[0m \u001b[38;5;66;03m# If we don't have any hooks, we want to skip the rest of the logic in\u001b[39;00m\n\u001b[1;32m   1516\u001b[0m \u001b[38;5;66;03m# this function, and just call forward.\u001b[39;00m\n\u001b[1;32m   1517\u001b[0m \u001b[38;5;28;01mif\u001b[39;00m \u001b[38;5;129;01mnot\u001b[39;00m (\u001b[38;5;28mself\u001b[39m\u001b[38;5;241m.\u001b[39m_backward_hooks \u001b[38;5;129;01mor\u001b[39;00m \u001b[38;5;28mself\u001b[39m\u001b[38;5;241m.\u001b[39m_backward_pre_hooks \u001b[38;5;129;01mor\u001b[39;00m \u001b[38;5;28mself\u001b[39m\u001b[38;5;241m.\u001b[39m_forward_hooks \u001b[38;5;129;01mor\u001b[39;00m \u001b[38;5;28mself\u001b[39m\u001b[38;5;241m.\u001b[39m_forward_pre_hooks\n\u001b[1;32m   1518\u001b[0m         \u001b[38;5;129;01mor\u001b[39;00m _global_backward_pre_hooks \u001b[38;5;129;01mor\u001b[39;00m _global_backward_hooks\n\u001b[1;32m   1519\u001b[0m         \u001b[38;5;129;01mor\u001b[39;00m _global_forward_hooks \u001b[38;5;129;01mor\u001b[39;00m _global_forward_pre_hooks):\n\u001b[0;32m-> 1520\u001b[0m     \u001b[38;5;28;01mreturn\u001b[39;00m \u001b[43mforward_call\u001b[49m\u001b[43m(\u001b[49m\u001b[38;5;241;43m*\u001b[39;49m\u001b[43margs\u001b[49m\u001b[43m,\u001b[49m\u001b[43m \u001b[49m\u001b[38;5;241;43m*\u001b[39;49m\u001b[38;5;241;43m*\u001b[39;49m\u001b[43mkwargs\u001b[49m\u001b[43m)\u001b[49m\n\u001b[1;32m   1522\u001b[0m \u001b[38;5;28;01mtry\u001b[39;00m:\n\u001b[1;32m   1523\u001b[0m     result \u001b[38;5;241m=\u001b[39m \u001b[38;5;28;01mNone\u001b[39;00m\n",
      "File \u001b[0;32m/opt/conda/lib/python3.10/site-packages/transformers/models/mpnet/modeling_mpnet.py:310\u001b[0m, in \u001b[0;36mMPNetLayer.forward\u001b[0;34m(self, hidden_states, attention_mask, head_mask, position_bias, output_attentions, **kwargs)\u001b[0m\n\u001b[1;32m    307\u001b[0m attention_output \u001b[38;5;241m=\u001b[39m self_attention_outputs[\u001b[38;5;241m0\u001b[39m]\n\u001b[1;32m    308\u001b[0m outputs \u001b[38;5;241m=\u001b[39m self_attention_outputs[\u001b[38;5;241m1\u001b[39m:]  \u001b[38;5;66;03m# add self attentions if we output attention weights\u001b[39;00m\n\u001b[0;32m--> 310\u001b[0m intermediate_output \u001b[38;5;241m=\u001b[39m \u001b[38;5;28;43mself\u001b[39;49m\u001b[38;5;241;43m.\u001b[39;49m\u001b[43mintermediate\u001b[49m\u001b[43m(\u001b[49m\u001b[43mattention_output\u001b[49m\u001b[43m)\u001b[49m\n\u001b[1;32m    311\u001b[0m layer_output \u001b[38;5;241m=\u001b[39m \u001b[38;5;28mself\u001b[39m\u001b[38;5;241m.\u001b[39moutput(intermediate_output, attention_output)\n\u001b[1;32m    312\u001b[0m outputs \u001b[38;5;241m=\u001b[39m (layer_output,) \u001b[38;5;241m+\u001b[39m outputs\n",
      "File \u001b[0;32m/opt/conda/lib/python3.10/site-packages/torch/nn/modules/module.py:1511\u001b[0m, in \u001b[0;36mModule._wrapped_call_impl\u001b[0;34m(self, *args, **kwargs)\u001b[0m\n\u001b[1;32m   1509\u001b[0m     \u001b[38;5;28;01mreturn\u001b[39;00m \u001b[38;5;28mself\u001b[39m\u001b[38;5;241m.\u001b[39m_compiled_call_impl(\u001b[38;5;241m*\u001b[39margs, \u001b[38;5;241m*\u001b[39m\u001b[38;5;241m*\u001b[39mkwargs)  \u001b[38;5;66;03m# type: ignore[misc]\u001b[39;00m\n\u001b[1;32m   1510\u001b[0m \u001b[38;5;28;01melse\u001b[39;00m:\n\u001b[0;32m-> 1511\u001b[0m     \u001b[38;5;28;01mreturn\u001b[39;00m \u001b[38;5;28;43mself\u001b[39;49m\u001b[38;5;241;43m.\u001b[39;49m\u001b[43m_call_impl\u001b[49m\u001b[43m(\u001b[49m\u001b[38;5;241;43m*\u001b[39;49m\u001b[43margs\u001b[49m\u001b[43m,\u001b[49m\u001b[43m \u001b[49m\u001b[38;5;241;43m*\u001b[39;49m\u001b[38;5;241;43m*\u001b[39;49m\u001b[43mkwargs\u001b[49m\u001b[43m)\u001b[49m\n",
      "File \u001b[0;32m/opt/conda/lib/python3.10/site-packages/torch/nn/modules/module.py:1520\u001b[0m, in \u001b[0;36mModule._call_impl\u001b[0;34m(self, *args, **kwargs)\u001b[0m\n\u001b[1;32m   1515\u001b[0m \u001b[38;5;66;03m# If we don't have any hooks, we want to skip the rest of the logic in\u001b[39;00m\n\u001b[1;32m   1516\u001b[0m \u001b[38;5;66;03m# this function, and just call forward.\u001b[39;00m\n\u001b[1;32m   1517\u001b[0m \u001b[38;5;28;01mif\u001b[39;00m \u001b[38;5;129;01mnot\u001b[39;00m (\u001b[38;5;28mself\u001b[39m\u001b[38;5;241m.\u001b[39m_backward_hooks \u001b[38;5;129;01mor\u001b[39;00m \u001b[38;5;28mself\u001b[39m\u001b[38;5;241m.\u001b[39m_backward_pre_hooks \u001b[38;5;129;01mor\u001b[39;00m \u001b[38;5;28mself\u001b[39m\u001b[38;5;241m.\u001b[39m_forward_hooks \u001b[38;5;129;01mor\u001b[39;00m \u001b[38;5;28mself\u001b[39m\u001b[38;5;241m.\u001b[39m_forward_pre_hooks\n\u001b[1;32m   1518\u001b[0m         \u001b[38;5;129;01mor\u001b[39;00m _global_backward_pre_hooks \u001b[38;5;129;01mor\u001b[39;00m _global_backward_hooks\n\u001b[1;32m   1519\u001b[0m         \u001b[38;5;129;01mor\u001b[39;00m _global_forward_hooks \u001b[38;5;129;01mor\u001b[39;00m _global_forward_pre_hooks):\n\u001b[0;32m-> 1520\u001b[0m     \u001b[38;5;28;01mreturn\u001b[39;00m \u001b[43mforward_call\u001b[49m\u001b[43m(\u001b[49m\u001b[38;5;241;43m*\u001b[39;49m\u001b[43margs\u001b[49m\u001b[43m,\u001b[49m\u001b[43m \u001b[49m\u001b[38;5;241;43m*\u001b[39;49m\u001b[38;5;241;43m*\u001b[39;49m\u001b[43mkwargs\u001b[49m\u001b[43m)\u001b[49m\n\u001b[1;32m   1522\u001b[0m \u001b[38;5;28;01mtry\u001b[39;00m:\n\u001b[1;32m   1523\u001b[0m     result \u001b[38;5;241m=\u001b[39m \u001b[38;5;28;01mNone\u001b[39;00m\n",
      "File \u001b[0;32m/opt/conda/lib/python3.10/site-packages/transformers/models/mpnet/modeling_mpnet.py:265\u001b[0m, in \u001b[0;36mMPNetIntermediate.forward\u001b[0;34m(self, hidden_states)\u001b[0m\n\u001b[1;32m    263\u001b[0m \u001b[38;5;28;01mdef\u001b[39;00m \u001b[38;5;21mforward\u001b[39m(\u001b[38;5;28mself\u001b[39m, hidden_states: torch\u001b[38;5;241m.\u001b[39mTensor) \u001b[38;5;241m-\u001b[39m\u001b[38;5;241m>\u001b[39m torch\u001b[38;5;241m.\u001b[39mTensor:\n\u001b[1;32m    264\u001b[0m     hidden_states \u001b[38;5;241m=\u001b[39m \u001b[38;5;28mself\u001b[39m\u001b[38;5;241m.\u001b[39mdense(hidden_states)\n\u001b[0;32m--> 265\u001b[0m     hidden_states \u001b[38;5;241m=\u001b[39m \u001b[38;5;28;43mself\u001b[39;49m\u001b[38;5;241;43m.\u001b[39;49m\u001b[43mintermediate_act_fn\u001b[49m\u001b[43m(\u001b[49m\u001b[43mhidden_states\u001b[49m\u001b[43m)\u001b[49m\n\u001b[1;32m    266\u001b[0m     \u001b[38;5;28;01mreturn\u001b[39;00m hidden_states\n",
      "File \u001b[0;32m/opt/conda/lib/python3.10/site-packages/torch/nn/modules/module.py:1511\u001b[0m, in \u001b[0;36mModule._wrapped_call_impl\u001b[0;34m(self, *args, **kwargs)\u001b[0m\n\u001b[1;32m   1509\u001b[0m     \u001b[38;5;28;01mreturn\u001b[39;00m \u001b[38;5;28mself\u001b[39m\u001b[38;5;241m.\u001b[39m_compiled_call_impl(\u001b[38;5;241m*\u001b[39margs, \u001b[38;5;241m*\u001b[39m\u001b[38;5;241m*\u001b[39mkwargs)  \u001b[38;5;66;03m# type: ignore[misc]\u001b[39;00m\n\u001b[1;32m   1510\u001b[0m \u001b[38;5;28;01melse\u001b[39;00m:\n\u001b[0;32m-> 1511\u001b[0m     \u001b[38;5;28;01mreturn\u001b[39;00m \u001b[38;5;28;43mself\u001b[39;49m\u001b[38;5;241;43m.\u001b[39;49m\u001b[43m_call_impl\u001b[49m\u001b[43m(\u001b[49m\u001b[38;5;241;43m*\u001b[39;49m\u001b[43margs\u001b[49m\u001b[43m,\u001b[49m\u001b[43m \u001b[49m\u001b[38;5;241;43m*\u001b[39;49m\u001b[38;5;241;43m*\u001b[39;49m\u001b[43mkwargs\u001b[49m\u001b[43m)\u001b[49m\n",
      "File \u001b[0;32m/opt/conda/lib/python3.10/site-packages/torch/nn/modules/module.py:1520\u001b[0m, in \u001b[0;36mModule._call_impl\u001b[0;34m(self, *args, **kwargs)\u001b[0m\n\u001b[1;32m   1515\u001b[0m \u001b[38;5;66;03m# If we don't have any hooks, we want to skip the rest of the logic in\u001b[39;00m\n\u001b[1;32m   1516\u001b[0m \u001b[38;5;66;03m# this function, and just call forward.\u001b[39;00m\n\u001b[1;32m   1517\u001b[0m \u001b[38;5;28;01mif\u001b[39;00m \u001b[38;5;129;01mnot\u001b[39;00m (\u001b[38;5;28mself\u001b[39m\u001b[38;5;241m.\u001b[39m_backward_hooks \u001b[38;5;129;01mor\u001b[39;00m \u001b[38;5;28mself\u001b[39m\u001b[38;5;241m.\u001b[39m_backward_pre_hooks \u001b[38;5;129;01mor\u001b[39;00m \u001b[38;5;28mself\u001b[39m\u001b[38;5;241m.\u001b[39m_forward_hooks \u001b[38;5;129;01mor\u001b[39;00m \u001b[38;5;28mself\u001b[39m\u001b[38;5;241m.\u001b[39m_forward_pre_hooks\n\u001b[1;32m   1518\u001b[0m         \u001b[38;5;129;01mor\u001b[39;00m _global_backward_pre_hooks \u001b[38;5;129;01mor\u001b[39;00m _global_backward_hooks\n\u001b[1;32m   1519\u001b[0m         \u001b[38;5;129;01mor\u001b[39;00m _global_forward_hooks \u001b[38;5;129;01mor\u001b[39;00m _global_forward_pre_hooks):\n\u001b[0;32m-> 1520\u001b[0m     \u001b[38;5;28;01mreturn\u001b[39;00m \u001b[43mforward_call\u001b[49m\u001b[43m(\u001b[49m\u001b[38;5;241;43m*\u001b[39;49m\u001b[43margs\u001b[49m\u001b[43m,\u001b[49m\u001b[43m \u001b[49m\u001b[38;5;241;43m*\u001b[39;49m\u001b[38;5;241;43m*\u001b[39;49m\u001b[43mkwargs\u001b[49m\u001b[43m)\u001b[49m\n\u001b[1;32m   1522\u001b[0m \u001b[38;5;28;01mtry\u001b[39;00m:\n\u001b[1;32m   1523\u001b[0m     result \u001b[38;5;241m=\u001b[39m \u001b[38;5;28;01mNone\u001b[39;00m\n",
      "File \u001b[0;32m/opt/conda/lib/python3.10/site-packages/transformers/activations.py:78\u001b[0m, in \u001b[0;36mGELUActivation.forward\u001b[0;34m(self, input)\u001b[0m\n\u001b[1;32m     77\u001b[0m \u001b[38;5;28;01mdef\u001b[39;00m \u001b[38;5;21mforward\u001b[39m(\u001b[38;5;28mself\u001b[39m, \u001b[38;5;28minput\u001b[39m: Tensor) \u001b[38;5;241m-\u001b[39m\u001b[38;5;241m>\u001b[39m Tensor:\n\u001b[0;32m---> 78\u001b[0m     \u001b[38;5;28;01mreturn\u001b[39;00m \u001b[38;5;28;43mself\u001b[39;49m\u001b[38;5;241;43m.\u001b[39;49m\u001b[43mact\u001b[49m\u001b[43m(\u001b[49m\u001b[38;5;28;43minput\u001b[39;49m\u001b[43m)\u001b[49m\n",
      "\u001b[0;31mKeyboardInterrupt\u001b[0m: "
     ]
    }
   ],
   "source": [
    "# Prepare embeddings\n",
    "sentence_model = SentenceTransformer(\"all-mpnet-base-v2\")\n",
    "embeddings = sentence_model.encode(text, show_progress_bar=False)\n",
    "cluster_model = AgglomerativeClustering(distance_threshold=0.2, n_clusters=None)\n",
    "\n",
    "# Train BERTopic\n",
    "topic_model = BERTopic(hdbscan_model=cluster_model).fit(text, embeddings)\n",
    "topic_info = topic_model.get_topic_info()"
   ]
  },
  {
   "cell_type": "code",
   "execution_count": 110,
   "metadata": {
    "colab": {
     "base_uri": "https://localhost:8080/",
     "height": 424
    },
    "id": "9FWRGVu79_e1",
    "outputId": "40a3c6d3-80a6-4364-d971-e814778d2ad9",
    "tags": []
   },
   "outputs": [
    {
     "data": {
      "text/html": [
       "<div>\n",
       "<style scoped>\n",
       "    .dataframe tbody tr th:only-of-type {\n",
       "        vertical-align: middle;\n",
       "    }\n",
       "\n",
       "    .dataframe tbody tr th {\n",
       "        vertical-align: top;\n",
       "    }\n",
       "\n",
       "    .dataframe thead th {\n",
       "        text-align: right;\n",
       "    }\n",
       "</style>\n",
       "<table border=\"1\" class=\"dataframe\">\n",
       "  <thead>\n",
       "    <tr style=\"text-align: right;\">\n",
       "      <th></th>\n",
       "      <th>Topic</th>\n",
       "      <th>Count</th>\n",
       "      <th>Name</th>\n",
       "      <th>Representation</th>\n",
       "      <th>Representative_Docs</th>\n",
       "    </tr>\n",
       "  </thead>\n",
       "  <tbody>\n",
       "    <tr>\n",
       "      <th>0</th>\n",
       "      <td>0</td>\n",
       "      <td>39</td>\n",
       "      <td>0_none_highest_some_of</td>\n",
       "      <td>[none, highest, some, of, the, , , , , ]</td>\n",
       "      <td>[None, None, None]</td>\n",
       "    </tr>\n",
       "    <tr>\n",
       "      <th>1</th>\n",
       "      <td>1</td>\n",
       "      <td>34</td>\n",
       "      <td>1_pfas_pfass_pfos_pfaas</td>\n",
       "      <td>[pfas, pfass, pfos, pfaas, pfoa, perfluoroalky...</td>\n",
       "      <td>[Beef and dairy products may be important vect...</td>\n",
       "    </tr>\n",
       "    <tr>\n",
       "      <th>2</th>\n",
       "      <td>2</td>\n",
       "      <td>33</td>\n",
       "      <td>2_sarscov2_covid19_coronavirus_virus</td>\n",
       "      <td>[sarscov2, covid19, coronavirus, virus, respir...</td>\n",
       "      <td>[Humanity is currently facing a life-threateni...</td>\n",
       "    </tr>\n",
       "    <tr>\n",
       "      <th>3</th>\n",
       "      <td>3</td>\n",
       "      <td>29</td>\n",
       "      <td>3_phage_phages_bacteriophages_kit03</td>\n",
       "      <td>[phage, phages, bacteriophages, kit03, disinfe...</td>\n",
       "      <td>[This review focuses on the impact of bacterio...</td>\n",
       "    </tr>\n",
       "    <tr>\n",
       "      <th>4</th>\n",
       "      <td>4</td>\n",
       "      <td>28</td>\n",
       "      <td>4_nov_oysters_shellfish_asari</td>\n",
       "      <td>[nov, oysters, shellfish, asari, clams, hav, o...</td>\n",
       "      <td>[Internationally human enteric viruses, such a...</td>\n",
       "    </tr>\n",
       "    <tr>\n",
       "      <th>...</th>\n",
       "      <td>...</td>\n",
       "      <td>...</td>\n",
       "      <td>...</td>\n",
       "      <td>...</td>\n",
       "      <td>...</td>\n",
       "    </tr>\n",
       "    <tr>\n",
       "      <th>1429</th>\n",
       "      <td>1429</td>\n",
       "      <td>1</td>\n",
       "      <td>1429_melanocytes_chlortetracycline_phototoxic_...</td>\n",
       "      <td>[melanocytes, chlortetracycline, phototoxic, m...</td>\n",
       "      <td>[Tetracyclines belong to antimicrobial classes...</td>\n",
       "    </tr>\n",
       "    <tr>\n",
       "      <th>1430</th>\n",
       "      <td>1430</td>\n",
       "      <td>1</td>\n",
       "      <td>1430_subsystems_soilfood_highpriority_physiolo...</td>\n",
       "      <td>[subsystems, soilfood, highpriority, physiolog...</td>\n",
       "      <td>[Food security is a high-priority issue for su...</td>\n",
       "    </tr>\n",
       "    <tr>\n",
       "      <th>1431</th>\n",
       "      <td>1431</td>\n",
       "      <td>1</td>\n",
       "      <td>1431_unhealthy_healthier_why_systems</td>\n",
       "      <td>[unhealthy, healthier, why, systems, political...</td>\n",
       "      <td>[The urgent call to transform global food syst...</td>\n",
       "    </tr>\n",
       "    <tr>\n",
       "      <th>1432</th>\n",
       "      <td>1432</td>\n",
       "      <td>1</td>\n",
       "      <td>1432_enterococcal_slovak_slovakia_salami</td>\n",
       "      <td>[enterococcal, slovak, slovakia, salami, enter...</td>\n",
       "      <td>[This study investigated eight types of Slovak...</td>\n",
       "    </tr>\n",
       "    <tr>\n",
       "      <th>1433</th>\n",
       "      <td>1433</td>\n",
       "      <td>1</td>\n",
       "      <td>1433_pitaya_undatus_extract_cholinergic</td>\n",
       "      <td>[pitaya, undatus, extract, cholinergic, hyloce...</td>\n",
       "      <td>[Copper (Cu) is an essential metal and it is i...</td>\n",
       "    </tr>\n",
       "  </tbody>\n",
       "</table>\n",
       "<p>1434 rows × 5 columns</p>\n",
       "</div>"
      ],
      "text/plain": [
       "      Topic  Count                                               Name  \\\n",
       "0         0     39                             0_none_highest_some_of   \n",
       "1         1     34                            1_pfas_pfass_pfos_pfaas   \n",
       "2         2     33               2_sarscov2_covid19_coronavirus_virus   \n",
       "3         3     29                3_phage_phages_bacteriophages_kit03   \n",
       "4         4     28                      4_nov_oysters_shellfish_asari   \n",
       "...     ...    ...                                                ...   \n",
       "1429   1429      1  1429_melanocytes_chlortetracycline_phototoxic_...   \n",
       "1430   1430      1  1430_subsystems_soilfood_highpriority_physiolo...   \n",
       "1431   1431      1               1431_unhealthy_healthier_why_systems   \n",
       "1432   1432      1           1432_enterococcal_slovak_slovakia_salami   \n",
       "1433   1433      1            1433_pitaya_undatus_extract_cholinergic   \n",
       "\n",
       "                                         Representation  \\\n",
       "0              [none, highest, some, of, the, , , , , ]   \n",
       "1     [pfas, pfass, pfos, pfaas, pfoa, perfluoroalky...   \n",
       "2     [sarscov2, covid19, coronavirus, virus, respir...   \n",
       "3     [phage, phages, bacteriophages, kit03, disinfe...   \n",
       "4     [nov, oysters, shellfish, asari, clams, hav, o...   \n",
       "...                                                 ...   \n",
       "1429  [melanocytes, chlortetracycline, phototoxic, m...   \n",
       "1430  [subsystems, soilfood, highpriority, physiolog...   \n",
       "1431  [unhealthy, healthier, why, systems, political...   \n",
       "1432  [enterococcal, slovak, slovakia, salami, enter...   \n",
       "1433  [pitaya, undatus, extract, cholinergic, hyloce...   \n",
       "\n",
       "                                    Representative_Docs  \n",
       "0                                    [None, None, None]  \n",
       "1     [Beef and dairy products may be important vect...  \n",
       "2     [Humanity is currently facing a life-threateni...  \n",
       "3     [This review focuses on the impact of bacterio...  \n",
       "4     [Internationally human enteric viruses, such a...  \n",
       "...                                                 ...  \n",
       "1429  [Tetracyclines belong to antimicrobial classes...  \n",
       "1430  [Food security is a high-priority issue for su...  \n",
       "1431  [The urgent call to transform global food syst...  \n",
       "1432  [This study investigated eight types of Slovak...  \n",
       "1433  [Copper (Cu) is an essential metal and it is i...  \n",
       "\n",
       "[1434 rows x 5 columns]"
      ]
     },
     "execution_count": 110,
     "metadata": {},
     "output_type": "execute_result"
    }
   ],
   "source": [
    "topic_info"
   ]
  },
  {
   "cell_type": "code",
   "execution_count": 111,
   "metadata": {
    "colab": {
     "base_uri": "https://localhost:8080/",
     "height": 597
    },
    "id": "9xJtRWs5DUIH",
    "outputId": "04c22166-27e2-41f3-a331-368332282575",
    "tags": []
   },
   "outputs": [
    {
     "data": {
      "text/html": [
       "<div>\n",
       "<style scoped>\n",
       "    .dataframe tbody tr th:only-of-type {\n",
       "        vertical-align: middle;\n",
       "    }\n",
       "\n",
       "    .dataframe tbody tr th {\n",
       "        vertical-align: top;\n",
       "    }\n",
       "\n",
       "    .dataframe thead th {\n",
       "        text-align: right;\n",
       "    }\n",
       "</style>\n",
       "<table border=\"1\" class=\"dataframe\">\n",
       "  <thead>\n",
       "    <tr style=\"text-align: right;\">\n",
       "      <th></th>\n",
       "      <th>Document</th>\n",
       "      <th>Topic</th>\n",
       "      <th>Name</th>\n",
       "      <th>Representation</th>\n",
       "      <th>Representative_Docs</th>\n",
       "      <th>Top_n_words</th>\n",
       "      <th>Representative_document</th>\n",
       "      <th>ID</th>\n",
       "      <th>Year</th>\n",
       "    </tr>\n",
       "  </thead>\n",
       "  <tbody>\n",
       "    <tr>\n",
       "      <th>0</th>\n",
       "      <td>Upland areas of southeastern U.S. tidal creek ...</td>\n",
       "      <td>77</td>\n",
       "      <td>77_mehg_tidal_songbirds_creek</td>\n",
       "      <td>[mehg, tidal, songbirds, creek, thg, river, te...</td>\n",
       "      <td>[Upland areas of southeastern U.S. tidal creek...</td>\n",
       "      <td>mehg - tidal - songbirds - creek - thg - river...</td>\n",
       "      <td>True</td>\n",
       "      <td>0</td>\n",
       "      <td>2015</td>\n",
       "    </tr>\n",
       "    <tr>\n",
       "      <th>1</th>\n",
       "      <td>The specific activity of 90Sr in milk and vege...</td>\n",
       "      <td>176</td>\n",
       "      <td>176_bqkg_inago_fallout_137cs</td>\n",
       "      <td>[bqkg, inago, fallout, 137cs, territories, str...</td>\n",
       "      <td>[This replication study investigated whether t...</td>\n",
       "      <td>bqkg - inago - fallout - 137cs - territories -...</td>\n",
       "      <td>False</td>\n",
       "      <td>1</td>\n",
       "      <td>2014</td>\n",
       "    </tr>\n",
       "    <tr>\n",
       "      <th>2</th>\n",
       "      <td>Aflatoxin and ochratoxin levels were determine...</td>\n",
       "      <td>312</td>\n",
       "      <td>312_cassava_b2_aflatoxin_kinshasa</td>\n",
       "      <td>[cassava, b2, aflatoxin, kinshasa, pretoria, m...</td>\n",
       "      <td>[Aflatoxins are carcinogenic compounds produce...</td>\n",
       "      <td>cassava - b2 - aflatoxin - kinshasa - pretoria...</td>\n",
       "      <td>True</td>\n",
       "      <td>2</td>\n",
       "      <td>2014</td>\n",
       "    </tr>\n",
       "    <tr>\n",
       "      <th>3</th>\n",
       "      <td>The science-based assessment of foodborne zoon...</td>\n",
       "      <td>934</td>\n",
       "      <td>934_ci_95_african_goat</td>\n",
       "      <td>[ci, 95, african, goat, reporting, campylobact...</td>\n",
       "      <td>[The science-based assessment of foodborne zoo...</td>\n",
       "      <td>ci - 95 - african - goat - reporting - campylo...</td>\n",
       "      <td>True</td>\n",
       "      <td>3</td>\n",
       "      <td>2014</td>\n",
       "    </tr>\n",
       "    <tr>\n",
       "      <th>4</th>\n",
       "      <td>Bisphenol A (BPA), the highest volume chemical...</td>\n",
       "      <td>40</td>\n",
       "      <td>40_bpa_bisphenol_bps_canned</td>\n",
       "      <td>[bpa, bisphenol, bps, canned, neutrophils, ins...</td>\n",
       "      <td>[Bisphenol A (BPA) and its main substitute, bi...</td>\n",
       "      <td>bpa - bisphenol - bps - canned - neutrophils -...</td>\n",
       "      <td>True</td>\n",
       "      <td>4</td>\n",
       "      <td>2014</td>\n",
       "    </tr>\n",
       "    <tr>\n",
       "      <th>...</th>\n",
       "      <td>...</td>\n",
       "      <td>...</td>\n",
       "      <td>...</td>\n",
       "      <td>...</td>\n",
       "      <td>...</td>\n",
       "      <td>...</td>\n",
       "      <td>...</td>\n",
       "      <td>...</td>\n",
       "      <td>...</td>\n",
       "    </tr>\n",
       "    <tr>\n",
       "      <th>7700</th>\n",
       "      <td>The gluten-free food market is growing with th...</td>\n",
       "      <td>15</td>\n",
       "      <td>15_glutenfree_gluten_celiac_gfd</td>\n",
       "      <td>[glutenfree, gluten, celiac, gfd, diet, coelia...</td>\n",
       "      <td>[The gluten-free food market is growing with t...</td>\n",
       "      <td>glutenfree - gluten - celiac - gfd - diet - co...</td>\n",
       "      <td>True</td>\n",
       "      <td>7700</td>\n",
       "      <td>2020</td>\n",
       "    </tr>\n",
       "    <tr>\n",
       "      <th>7701</th>\n",
       "      <td>Hurricane Sandy made landfall in New Jersey on...</td>\n",
       "      <td>996</td>\n",
       "      <td>996_sandyrelated_gasoline_njpies_acceleration</td>\n",
       "      <td>[sandyrelated, gasoline, njpies, acceleration,...</td>\n",
       "      <td>[Since the novel coronavirus emerged in late 2...</td>\n",
       "      <td>sandyrelated - gasoline - njpies - acceleratio...</td>\n",
       "      <td>True</td>\n",
       "      <td>7701</td>\n",
       "      <td>2020</td>\n",
       "    </tr>\n",
       "    <tr>\n",
       "      <th>7702</th>\n",
       "      <td>Prevalent risks in meat value-chains of sub-Sa...</td>\n",
       "      <td>1094</td>\n",
       "      <td>1094_ssa_abandon_valuechains_unwilling</td>\n",
       "      <td>[ssa, abandon, valuechains, unwilling, institu...</td>\n",
       "      <td>[Prevalent risks in meat value-chains of sub-S...</td>\n",
       "      <td>ssa - abandon - valuechains - unwilling - inst...</td>\n",
       "      <td>True</td>\n",
       "      <td>7702</td>\n",
       "      <td>2020</td>\n",
       "    </tr>\n",
       "    <tr>\n",
       "      <th>7703</th>\n",
       "      <td>The presence of metal contaminants in agricult...</td>\n",
       "      <td>190</td>\n",
       "      <td>190_iplc_mining_sovereignty_nigeria</td>\n",
       "      <td>[iplc, mining, sovereignty, nigeria, tubers, n...</td>\n",
       "      <td>[The presence of metal contaminants in agricul...</td>\n",
       "      <td>iplc - mining - sovereignty - nigeria - tubers...</td>\n",
       "      <td>True</td>\n",
       "      <td>7703</td>\n",
       "      <td>2020</td>\n",
       "    </tr>\n",
       "    <tr>\n",
       "      <th>7704</th>\n",
       "      <td>The organochlorine pollution by chlordecone, a...</td>\n",
       "      <td>339</td>\n",
       "      <td>339_chlordecone_allophanes_cld_guadeloupe</td>\n",
       "      <td>[chlordecone, allophanes, cld, guadeloupe, das...</td>\n",
       "      <td>[Chlordecone, an organochlorine insecticide, c...</td>\n",
       "      <td>chlordecone - allophanes - cld - guadeloupe - ...</td>\n",
       "      <td>True</td>\n",
       "      <td>7704</td>\n",
       "      <td>2019</td>\n",
       "    </tr>\n",
       "  </tbody>\n",
       "</table>\n",
       "<p>7705 rows × 9 columns</p>\n",
       "</div>"
      ],
      "text/plain": [
       "                                               Document  Topic  \\\n",
       "0     Upland areas of southeastern U.S. tidal creek ...     77   \n",
       "1     The specific activity of 90Sr in milk and vege...    176   \n",
       "2     Aflatoxin and ochratoxin levels were determine...    312   \n",
       "3     The science-based assessment of foodborne zoon...    934   \n",
       "4     Bisphenol A (BPA), the highest volume chemical...     40   \n",
       "...                                                 ...    ...   \n",
       "7700  The gluten-free food market is growing with th...     15   \n",
       "7701  Hurricane Sandy made landfall in New Jersey on...    996   \n",
       "7702  Prevalent risks in meat value-chains of sub-Sa...   1094   \n",
       "7703  The presence of metal contaminants in agricult...    190   \n",
       "7704  The organochlorine pollution by chlordecone, a...    339   \n",
       "\n",
       "                                               Name  \\\n",
       "0                     77_mehg_tidal_songbirds_creek   \n",
       "1                      176_bqkg_inago_fallout_137cs   \n",
       "2                 312_cassava_b2_aflatoxin_kinshasa   \n",
       "3                            934_ci_95_african_goat   \n",
       "4                       40_bpa_bisphenol_bps_canned   \n",
       "...                                             ...   \n",
       "7700                15_glutenfree_gluten_celiac_gfd   \n",
       "7701  996_sandyrelated_gasoline_njpies_acceleration   \n",
       "7702         1094_ssa_abandon_valuechains_unwilling   \n",
       "7703            190_iplc_mining_sovereignty_nigeria   \n",
       "7704      339_chlordecone_allophanes_cld_guadeloupe   \n",
       "\n",
       "                                         Representation  \\\n",
       "0     [mehg, tidal, songbirds, creek, thg, river, te...   \n",
       "1     [bqkg, inago, fallout, 137cs, territories, str...   \n",
       "2     [cassava, b2, aflatoxin, kinshasa, pretoria, m...   \n",
       "3     [ci, 95, african, goat, reporting, campylobact...   \n",
       "4     [bpa, bisphenol, bps, canned, neutrophils, ins...   \n",
       "...                                                 ...   \n",
       "7700  [glutenfree, gluten, celiac, gfd, diet, coelia...   \n",
       "7701  [sandyrelated, gasoline, njpies, acceleration,...   \n",
       "7702  [ssa, abandon, valuechains, unwilling, institu...   \n",
       "7703  [iplc, mining, sovereignty, nigeria, tubers, n...   \n",
       "7704  [chlordecone, allophanes, cld, guadeloupe, das...   \n",
       "\n",
       "                                    Representative_Docs  \\\n",
       "0     [Upland areas of southeastern U.S. tidal creek...   \n",
       "1     [This replication study investigated whether t...   \n",
       "2     [Aflatoxins are carcinogenic compounds produce...   \n",
       "3     [The science-based assessment of foodborne zoo...   \n",
       "4     [Bisphenol A (BPA) and its main substitute, bi...   \n",
       "...                                                 ...   \n",
       "7700  [The gluten-free food market is growing with t...   \n",
       "7701  [Since the novel coronavirus emerged in late 2...   \n",
       "7702  [Prevalent risks in meat value-chains of sub-S...   \n",
       "7703  [The presence of metal contaminants in agricul...   \n",
       "7704  [Chlordecone, an organochlorine insecticide, c...   \n",
       "\n",
       "                                            Top_n_words  \\\n",
       "0     mehg - tidal - songbirds - creek - thg - river...   \n",
       "1     bqkg - inago - fallout - 137cs - territories -...   \n",
       "2     cassava - b2 - aflatoxin - kinshasa - pretoria...   \n",
       "3     ci - 95 - african - goat - reporting - campylo...   \n",
       "4     bpa - bisphenol - bps - canned - neutrophils -...   \n",
       "...                                                 ...   \n",
       "7700  glutenfree - gluten - celiac - gfd - diet - co...   \n",
       "7701  sandyrelated - gasoline - njpies - acceleratio...   \n",
       "7702  ssa - abandon - valuechains - unwilling - inst...   \n",
       "7703  iplc - mining - sovereignty - nigeria - tubers...   \n",
       "7704  chlordecone - allophanes - cld - guadeloupe - ...   \n",
       "\n",
       "      Representative_document    ID  Year  \n",
       "0                        True     0  2015  \n",
       "1                       False     1  2014  \n",
       "2                        True     2  2014  \n",
       "3                        True     3  2014  \n",
       "4                        True     4  2014  \n",
       "...                       ...   ...   ...  \n",
       "7700                     True  7700  2020  \n",
       "7701                     True  7701  2020  \n",
       "7702                     True  7702  2020  \n",
       "7703                     True  7703  2020  \n",
       "7704                     True  7704  2019  \n",
       "\n",
       "[7705 rows x 9 columns]"
      ]
     },
     "execution_count": 111,
     "metadata": {},
     "output_type": "execute_result"
    }
   ],
   "source": [
    "doc_info = topic_model.get_document_info(text)\n",
    "doc_info[\"ID\"] = doc_info.index\n",
    "doc_info[\"Year\"] = Paper[\"Year\"].tolist()\n",
    "doc_info"
   ]
  },
  {
   "cell_type": "code",
   "execution_count": 112,
   "metadata": {
    "id": "oGe4d2tqSyfZ",
    "tags": []
   },
   "outputs": [],
   "source": [
    "# Split the data\n",
    "paper_split = dict(tuple(doc_info.groupby('Year')))\n",
    "\n",
    "# Get the maximum year, ignoring NaNs\n",
    "max_year = doc_info['Year'].max()"
   ]
  },
  {
   "cell_type": "code",
   "execution_count": 113,
   "metadata": {
    "id": "Va5BVs25MIHU",
    "tags": []
   },
   "outputs": [],
   "source": [
    "# Initialize an empty DataFrame\n",
    "dov = pd.DataFrame()\n",
    "\n",
    "# Create a list to store individual DataFrames for each year\n",
    "dfs = []\n",
    "\n",
    "# Set the time weight (tw)\n",
    "tw = 0.05\n",
    "\n",
    "# Iterate over each year's data\n",
    "for year, group in doc_info.groupby('Year'):\n",
    "    # Count the occurrences of each topic for that year\n",
    "    topic_count = group['Name'].value_counts().reset_index()\n",
    "\n",
    "    # Rename the columns to \"Topic\" and \"Count\"\n",
    "    topic_count.columns = ['Name', 'Count']\n",
    "\n",
    "    # Add a 'Year' column to the DataFrame\n",
    "    topic_count['Year'] = year\n",
    "\n",
    "    # Get the minimum and maximum year, ignoring NaNs\n",
    "    min_year = group['Year'].min()\n",
    "\n",
    "    # Create a DataFrame for the current year's DoV values\n",
    "    df = pd.DataFrame(index=[min_year], columns=topic_count['Name'])\n",
    "    for _, row in topic_count.iterrows():\n",
    "        topic = row['Name']\n",
    "        frequency = row['Count']\n",
    "        df[topic] = (frequency / len(group)) * (1 - tw * (max_year - min_year))\n",
    "\n",
    "    # Append this DataFrame to the list\n",
    "    dfs.append(df)\n",
    "\n",
    "# Concatenate all the yearly DataFrames into a single DataFrame\n",
    "dov = pd.concat(dfs)"
   ]
  },
  {
   "cell_type": "code",
   "execution_count": 114,
   "metadata": {
    "id": "rTf39VbzpX_n",
    "tags": []
   },
   "outputs": [],
   "source": [
    "dov_means = pd.DataFrame(columns=dov.columns)\n",
    "\n",
    "for column in dov.columns:\n",
    "    column_mean = gmean(dov[column].dropna())\n",
    "    dov_means[column] = [column_mean]\n",
    "\n",
    "t_DoV = dov_means.melt(var_name=\"Name\", value_name=\"dov\")\n",
    "\n",
    "#DoV_means = DoV.mean()\n",
    "\n",
    "# Convert to DataFrame and reset index\n",
    "#DoV_means = pd.DataFrame(DoV_means, index=DoV_without_NA.columns, columns=['dov_means']).reset_index()\n",
    "#DoV_means.columns = ['term', 'dov_means']\n",
    "\n",
    "# Merge with tstat_freq_all\n",
    "wsm_dov = pd.merge(t_DoV, topic_info, on='Name')"
   ]
  },
  {
   "cell_type": "code",
   "execution_count": 115,
   "metadata": {
    "colab": {
     "base_uri": "https://localhost:8080/",
     "height": 424
    },
    "id": "VCsFnOwinYNl",
    "outputId": "23fba5bb-7489-46c9-c0fe-91eea70ac91b",
    "tags": []
   },
   "outputs": [
    {
     "data": {
      "text/html": [
       "<div>\n",
       "<style scoped>\n",
       "    .dataframe tbody tr th:only-of-type {\n",
       "        vertical-align: middle;\n",
       "    }\n",
       "\n",
       "    .dataframe tbody tr th {\n",
       "        vertical-align: top;\n",
       "    }\n",
       "\n",
       "    .dataframe thead th {\n",
       "        text-align: right;\n",
       "    }\n",
       "</style>\n",
       "<table border=\"1\" class=\"dataframe\">\n",
       "  <thead>\n",
       "    <tr style=\"text-align: right;\">\n",
       "      <th></th>\n",
       "      <th>Name</th>\n",
       "      <th>dov</th>\n",
       "      <th>Topic</th>\n",
       "      <th>Count</th>\n",
       "      <th>Representation</th>\n",
       "      <th>Representative_Docs</th>\n",
       "    </tr>\n",
       "  </thead>\n",
       "  <tbody>\n",
       "    <tr>\n",
       "      <th>0</th>\n",
       "      <td>243_stec_o104h4_hyphae_eaec</td>\n",
       "      <td>0.001456</td>\n",
       "      <td>243</td>\n",
       "      <td>9</td>\n",
       "      <td>[stec, o104h4, hyphae, eaec, o157, party, gues...</td>\n",
       "      <td>[We investigated a cluster of shiga toxin-prod...</td>\n",
       "    </tr>\n",
       "    <tr>\n",
       "      <th>1</th>\n",
       "      <td>28_disgust_stimuli_disgusting_pictures</td>\n",
       "      <td>0.001846</td>\n",
       "      <td>28</td>\n",
       "      <td>19</td>\n",
       "      <td>[disgust, stimuli, disgusting, pictures, scene...</td>\n",
       "      <td>[While disgust is a clinically and theoretical...</td>\n",
       "    </tr>\n",
       "    <tr>\n",
       "      <th>2</th>\n",
       "      <td>90_pcddfs_dioxin_polychlorinated_dlpcbs</td>\n",
       "      <td>0.001756</td>\n",
       "      <td>90</td>\n",
       "      <td>13</td>\n",
       "      <td>[pcddfs, dioxin, polychlorinated, dlpcbs, dibe...</td>\n",
       "      <td>[The article reviews the transition from bleac...</td>\n",
       "    </tr>\n",
       "    <tr>\n",
       "      <th>3</th>\n",
       "      <td>130_rip_mk_interception_tfs</td>\n",
       "      <td>0.001679</td>\n",
       "      <td>130</td>\n",
       "      <td>12</td>\n",
       "      <td>[rip, mk, interception, tfs, ir, radionuclides...</td>\n",
       "      <td>[Carbon-14 ((14)C) is a radionuclide of major ...</td>\n",
       "    </tr>\n",
       "    <tr>\n",
       "      <th>4</th>\n",
       "      <td>132_fusarium_bea_graminearum_ens</td>\n",
       "      <td>0.001975</td>\n",
       "      <td>132</td>\n",
       "      <td>12</td>\n",
       "      <td>[fusarium, bea, graminearum, ens, fgsc, avenac...</td>\n",
       "      <td>[Members of the Fusarium graminearum species c...</td>\n",
       "    </tr>\n",
       "    <tr>\n",
       "      <th>...</th>\n",
       "      <td>...</td>\n",
       "      <td>...</td>\n",
       "      <td>...</td>\n",
       "      <td>...</td>\n",
       "      <td>...</td>\n",
       "      <td>...</td>\n",
       "    </tr>\n",
       "    <tr>\n",
       "      <th>1429</th>\n",
       "      <td>1273_baghdad_soft_percentage_cheese</td>\n",
       "      <td>0.015625</td>\n",
       "      <td>1273</td>\n",
       "      <td>1</td>\n",
       "      <td>[baghdad, soft, percentage, cheese, isolation,...</td>\n",
       "      <td>[Milk and cheese were recognized as highly nut...</td>\n",
       "    </tr>\n",
       "    <tr>\n",
       "      <th>1430</th>\n",
       "      <td>1271_fhb_biomin_temporalgeographical_20102019</td>\n",
       "      <td>0.015625</td>\n",
       "      <td>1271</td>\n",
       "      <td>1</td>\n",
       "      <td>[fhb, biomin, temporalgeographical, 20102019, ...</td>\n",
       "      <td>[Mycotoxins harm human and livestock health, w...</td>\n",
       "    </tr>\n",
       "    <tr>\n",
       "      <th>1431</th>\n",
       "      <td>1270_fin_whale_whales_borneo</td>\n",
       "      <td>0.015625</td>\n",
       "      <td>1270</td>\n",
       "      <td>1</td>\n",
       "      <td>[fin, whale, whales, borneo, sabah, malaysia, ...</td>\n",
       "      <td>[Fin whales are a cosmopolitan species found i...</td>\n",
       "    </tr>\n",
       "    <tr>\n",
       "      <th>1432</th>\n",
       "      <td>1267_thirdworld_underdeveloped_seriously_millions</td>\n",
       "      <td>0.015625</td>\n",
       "      <td>1267</td>\n",
       "      <td>1</td>\n",
       "      <td>[thirdworld, underdeveloped, seriously, millio...</td>\n",
       "      <td>[Third-world countries have a higher prevalenc...</td>\n",
       "    </tr>\n",
       "    <tr>\n",
       "      <th>1433</th>\n",
       "      <td>1266_git_buffering_fat_intriguingly</td>\n",
       "      <td>0.015625</td>\n",
       "      <td>1266</td>\n",
       "      <td>1</td>\n",
       "      <td>[git, buffering, fat, intriguingly, invading, ...</td>\n",
       "      <td>[Even though a plethora of barriers are employ...</td>\n",
       "    </tr>\n",
       "  </tbody>\n",
       "</table>\n",
       "<p>1434 rows × 6 columns</p>\n",
       "</div>"
      ],
      "text/plain": [
       "                                                   Name       dov  Topic  \\\n",
       "0                           243_stec_o104h4_hyphae_eaec  0.001456    243   \n",
       "1                28_disgust_stimuli_disgusting_pictures  0.001846     28   \n",
       "2               90_pcddfs_dioxin_polychlorinated_dlpcbs  0.001756     90   \n",
       "3                           130_rip_mk_interception_tfs  0.001679    130   \n",
       "4                      132_fusarium_bea_graminearum_ens  0.001975    132   \n",
       "...                                                 ...       ...    ...   \n",
       "1429                1273_baghdad_soft_percentage_cheese  0.015625   1273   \n",
       "1430      1271_fhb_biomin_temporalgeographical_20102019  0.015625   1271   \n",
       "1431                       1270_fin_whale_whales_borneo  0.015625   1270   \n",
       "1432  1267_thirdworld_underdeveloped_seriously_millions  0.015625   1267   \n",
       "1433                1266_git_buffering_fat_intriguingly  0.015625   1266   \n",
       "\n",
       "      Count                                     Representation  \\\n",
       "0         9  [stec, o104h4, hyphae, eaec, o157, party, gues...   \n",
       "1        19  [disgust, stimuli, disgusting, pictures, scene...   \n",
       "2        13  [pcddfs, dioxin, polychlorinated, dlpcbs, dibe...   \n",
       "3        12  [rip, mk, interception, tfs, ir, radionuclides...   \n",
       "4        12  [fusarium, bea, graminearum, ens, fgsc, avenac...   \n",
       "...     ...                                                ...   \n",
       "1429      1  [baghdad, soft, percentage, cheese, isolation,...   \n",
       "1430      1  [fhb, biomin, temporalgeographical, 20102019, ...   \n",
       "1431      1  [fin, whale, whales, borneo, sabah, malaysia, ...   \n",
       "1432      1  [thirdworld, underdeveloped, seriously, millio...   \n",
       "1433      1  [git, buffering, fat, intriguingly, invading, ...   \n",
       "\n",
       "                                    Representative_Docs  \n",
       "0     [We investigated a cluster of shiga toxin-prod...  \n",
       "1     [While disgust is a clinically and theoretical...  \n",
       "2     [The article reviews the transition from bleac...  \n",
       "3     [Carbon-14 ((14)C) is a radionuclide of major ...  \n",
       "4     [Members of the Fusarium graminearum species c...  \n",
       "...                                                 ...  \n",
       "1429  [Milk and cheese were recognized as highly nut...  \n",
       "1430  [Mycotoxins harm human and livestock health, w...  \n",
       "1431  [Fin whales are a cosmopolitan species found i...  \n",
       "1432  [Third-world countries have a higher prevalenc...  \n",
       "1433  [Even though a plethora of barriers are employ...  \n",
       "\n",
       "[1434 rows x 6 columns]"
      ]
     },
     "execution_count": 115,
     "metadata": {},
     "output_type": "execute_result"
    }
   ],
   "source": [
    "wsm_dov"
   ]
  },
  {
   "cell_type": "code",
   "execution_count": 116,
   "metadata": {
    "colab": {
     "base_uri": "https://localhost:8080/",
     "height": 542
    },
    "id": "8elgx2fQFPt5",
    "outputId": "75ddc0d9-11c6-4219-f2ad-4d55a961189a",
    "tags": []
   },
   "outputs": [
    {
     "data": {
      "application/vnd.plotly.v1+json": {
       "config": {
        "plotlyServerURL": "https://plot.ly"
       },
       "data": [
        {
         "customdata": [
          [
           "243_stec_o104h4_hyphae_eaec"
          ],
          [
           "28_disgust_stimuli_disgusting_pictures"
          ],
          [
           "90_pcddfs_dioxin_polychlorinated_dlpcbs"
          ],
          [
           "130_rip_mk_interception_tfs"
          ],
          [
           "132_fusarium_bea_graminearum_ens"
          ],
          [
           "18_radioactive_japan_cesium_accident"
          ],
          [
           "316_mrsa_cc398_pvl_leukocidin"
          ],
          [
           "3_phage_phages_bacteriophages_kit03"
          ],
          [
           "251_akwesasne_mohawk_adolescents_nation"
          ],
          [
           "11_cadmium_cdsnps_bde209_cpf"
          ],
          [
           "298_haccp_lactose_norms_plan"
          ],
          [
           "35_cronobacter_sakazakii_pif_powdered"
          ],
          [
           "89_birds_feathers_egret_nestlings"
          ],
          [
           "303_milling_maize_fractions_flours"
          ],
          [
           "565_afb1_aflatoxin_indonesia_ngkg"
          ],
          [
           "428_buttonwood_stem_cadmium_site"
          ],
          [
           "329_horse_oranienburg_mills_garden"
          ],
          [
           "156_schwarzengrund_ngs_donkey_spiced"
          ],
          [
           "39_fsp_attitudes_handlers_knowledge"
          ],
          [
           "373_pcddfs_pcbs_pops_outdoors"
          ],
          [
           "347_abdominal_evisceration_perforation_eviscerated"
          ],
          [
           "0_none_highest_some_of"
          ],
          [
           "518_arcobacter_cryaerophilus_butzleri_genusspecific"
          ],
          [
           "12_listeria_monocytogenes_3m_reconstruction"
          ],
          [
           "21_botulinum_botulism_neurotoxin_neurotoxins"
          ],
          [
           "631_sfr_bottles_asepticuht_stearothermophilus"
          ],
          [
           "519_wildlife_hhra_uncertainties_soilassociated"
          ],
          [
           "229_ill_fhs_nov_norovirus"
          ],
          [
           "780_enn_orbitrap_cereals_cleanup"
          ],
          [
           "769_pharmaceutical_digestates_reclaimed_ipronidazole"
          ],
          [
           "66_difficile_ribotype_078_ribotypes"
          ],
          [
           "443_compounding_errors_compounded_pharmacies"
          ],
          [
           "300_uvmaldiorbitrapms_drinks_pyrethrin_drink"
          ],
          [
           "365_novs_hnov_nov_proportions"
          ],
          [
           "9_allergens_allergen_cookies_marker"
          ],
          [
           "939_snail_intestines_aspersum_snails"
          ],
          [
           "505_monocytogenes_irish_hog_pfge"
          ],
          [
           "175_berry_berries_frozen_nov"
          ],
          [
           "1_pfas_pfass_pfos_pfaas"
          ],
          [
           "246_pcr_monoazide_amplification_nucleic"
          ],
          [
           "228_aureus_cns_staph_staphylococcal"
          ],
          [
           "125_phthalates_phthalate_dehp_bbp"
          ],
          [
           "222_vegetables_jute_fenugreek_attaining"
          ],
          [
           "514_smcs_ahtn_hhcb_mk"
          ],
          [
           "359_ocps_men_betahch_macronutrient"
          ],
          [
           "336_hev_hepatitis_dolphins_vhe"
          ],
          [
           "69_allergen_pal_labeling_labelling"
          ],
          [
           "70_biofilm_formation_biofilms_malx"
          ],
          [
           "311_infertility_pubertal_edcs_fertility"
          ],
          [
           "17_films_packaging_mgoctab_film"
          ],
          [
           "116_bfi_biofilms_naclo_biofilm"
          ],
          [
           "257_aluminum_pn_al_bone"
          ],
          [
           "95_stec_hus_stechus_shiga"
          ],
          [
           "753_fairs_outdoor_poultry_flocks"
          ],
          [
           "640_cheese_ripening_sheeps_semisoft"
          ],
          [
           "63_sers_raman_dnafunctionalized_surfaceenhanced"
          ],
          [
           "233_pfass_pfas_pfaas_pfoa"
          ],
          [
           "24_peanut_nut_tree_oit"
          ],
          [
           "355_osnramp1_osace1_mtr_mtrfsa"
          ],
          [
           "489_nuts_cookies_apples_atomic"
          ],
          [
           "440_media_crisis_coverage_irish"
          ],
          [
           "120_sterile_compounding_pharmacy_visible"
          ],
          [
           "998_sfms_disinfecting_ms2_dispensed"
          ],
          [
           "322_peer_sharing_infants_donors"
          ],
          [
           "794_mcs_zooplanktonic_rubescens_chaoborus"
          ],
          [
           "136_listeriosis_listeria_monocytogenes_incubation"
          ],
          [
           "88_bioremediation_cdii_crvi_biosorption"
          ],
          [
           "889_chicken_augmentin_usda_retail"
          ],
          [
           "133_tm_carabids_tadpoles_invertebrate"
          ],
          [
           "79_endotoxin_antibody_ripa_ml1"
          ],
          [
           "188_hcc_hccs_aflatoxinassociated_hbv"
          ],
          [
           "172_hbcds_wreck_coelutions_pcbs"
          ],
          [
           "328_gm_gmo_gmos_gmodetector"
          ],
          [
           "42_cryptosporidium_oocysts_duodenalis_giardia"
          ],
          [
           "85_monocytogenes_subtypes_ireland_isolates"
          ],
          [
           "169_stm_sows_pigs_vaccination"
          ],
          [
           "59_vibrio_parahaemolyticus_vp_cholerae"
          ],
          [
           "975_plasticisers_deet_boxford_ecs"
          ],
          [
           "547_sers_cr3_rrs_ions"
          ],
          [
           "728_rep_microscopically_hrma_discriminatory"
          ],
          [
           "147_jejuni_campylobacter_poultry_ispc"
          ],
          [
           "144_lactase_xg_pvpcmcbcgg_films"
          ],
          [
           "56_vaccine_serotypes_mdr_dam"
          ],
          [
           "457_garv_astv_asfv_viruses"
          ],
          [
           "617_mercury_virginia_column_advisories"
          ],
          [
           "606_ks_cs_immunodiffusion_cartilage"
          ],
          [
           "545_cockle_element_trace_reef"
          ],
          [
           "65_mlva_locus_agr_factories"
          ],
          [
           "423_nitrite_nitrates_nitrites_nitritesnitrates"
          ],
          [
           "37_greens_leafy_producerelated_outbreaks"
          ],
          [
           "254_eagles_organochlorine_geese_eggshell"
          ],
          [
           "1149_pahs_substituted_petroleum_media"
          ],
          [
           "727_magnetic_mpcr_beads_ce"
          ],
          [
           "84_kg1_hotspots_pollution_soilrice"
          ],
          [
           "412_menus_kitchen_homes_students"
          ],
          [
           "140_fcm_ctcs_tumor_epcam"
          ],
          [
           "724_dmfu_mold_sensitizing_dwellings"
          ],
          [
           "1124_drainage_channel_vojvodina_channels"
          ],
          [
           "398_faflp_ests_monocytogenes_serogroup"
          ],
          [
           "1194_russian_siberia_20002011_regions"
          ],
          [
           "723_cacao_snp_oolong_spirits"
          ],
          [
           "721_biofilm_sodium_mature_eradication"
          ],
          [
           "148_urban_gardening_ua_foraging"
          ],
          [
           "189_true_estimation_fitting_zeroes"
          ],
          [
           "415_breastfeeding_discourses_breast_professionals"
          ],
          [
           "1131_rendering_ozone_prions_municipal"
          ],
          [
           "321_meiofauna_ferrihydrite_colloids_meiofaunal"
          ],
          [
           "71_oa_lsts_shellfish_dtx1"
          ],
          [
           "49_mehg_methylation_methylmercury_mercury"
          ],
          [
           "218_melamine_damino_melaminecontaminated_illegal"
          ],
          [
           "45_tritium_chernobyl_evapotranspiration_accident"
          ],
          [
           "223_hadar_wgs_sausage_denmark"
          ],
          [
           "197_aiv1_zvi_rva_viral"
          ],
          [
           "1337_accumulative_lowcd_cultivars_48fold"
          ],
          [
           "219_diets_canine_afr_label"
          ],
          [
           "230_ha_arsenate_arsenic_acquisition"
          ],
          [
           "350_microsnap_device_antibodies_sets"
          ],
          [
           "564_postproduction_persistence_ham_monocytogenes"
          ],
          [
           "19_137cs_radiocesium_fukushima_ayu"
          ],
          [
           "7_wgs_metagenomics_sequencing_genome"
          ],
          [
           "1338_petroleum_creatinine_renal_urea"
          ],
          [
           "881_ree_vitis_vinifera_tailings"
          ],
          [
           "432_hunov_viruses_viral_inactivation"
          ],
          [
           "593_condemnation_feral_lung_pneumonia"
          ],
          [
           "155_irrigation_tww_pw_irrigated"
          ],
          [
           "342_cutting_packaging_intelligent_responsive"
          ],
          [
           "743_scco2_supercritical_ocular_sterilization"
          ],
          [
           "736_fbd_fbds_guilty_hardtoidentify"
          ],
          [
           "304_atrazine_herbicides_herbicide_argentinus"
          ],
          [
           "245_lactic_plantarum_acid_lactobacillus"
          ],
          [
           "448_radium_decorporation_c2e2_uranium"
          ],
          [
           "20_razor_clams_crayfish_zn"
          ],
          [
           "1123_zea_viz_moniliformin_india"
          ],
          [
           "198_lamp_microfluidic_vbnc_nucleic"
          ],
          [
           "231_mrsa_visualonly_aureus_pyaemia"
          ],
          [
           "1326_dairies_mslp_22000_end"
          ],
          [
           "595_nglf_irradiated_irradiation_gamma"
          ],
          [
           "1329_recalled_1395_3360_fisheryseafood"
          ],
          [
           "163_furazolidone_residues_residue_dnc"
          ],
          [
           "389_barbata_aurata_caerulea_estuary"
          ],
          [
           "970_bacillus_probiotic_34b_hemolysis"
          ],
          [
           "768_attribution_hald_dutch_attributions"
          ],
          [
           "278_ozonation_mycotoxins_homemade_zen"
          ],
          [
           "104_delis_deli_slicers_slicer"
          ],
          [
           "196_zno_initiator_norrish_layered"
          ],
          [
           "464_sands_pike_pcb_athabasca"
          ],
          [
           "576_hunov_hadv_iccrtqpcr_salad"
          ],
          [
           "613_po_alop_listeriosis_lm"
          ],
          [
           "212_peanuts_pecans_per_shelled"
          ],
          [
           "574_kubac5_fla_se_pdas"
          ],
          [
           "902_afl_pasta_cooking_staple"
          ],
          [
           "763_tainted_scandal_dehp_pregnant"
          ],
          [
           "40_bpa_bisphenol_bps_canned"
          ],
          [
           "1059_mpd_indigenous_opening_alfalfa"
          ],
          [
           "932_salsa_guacamole_sga_chowder"
          ],
          [
           "181_parahaemolyticus_parahaeomolyticus_seafood_peeled"
          ],
          [
           "227_internalization_subtilis_enterica_tomato"
          ],
          [
           "13_mineral_hydrocarbons_moah_mosh"
          ],
          [
           "757_phenanthrene_acropetal_pah_bioremediation"
          ],
          [
           "124_pahs_pah_smoking_polycyclic"
          ],
          [
           "1426_xochimilco_enterococci_faecium_wetland"
          ],
          [
           "818_lgvs_preharvested_climate_change"
          ],
          [
           "1065_fissures_viscous_ionomer_zincreinforced"
          ],
          [
           "159_pulex_ecdysis_cladoceran_zooplankton"
          ],
          [
           "317_pathology_hpop_pathologists_disciplines"
          ],
          [
           "1043_pscs_metalhalidebased_ferralsols_solar"
          ],
          [
           "314_arsenic_unesco_arsenicosis_onwards"
          ],
          [
           "153_town_bakery_gbf_shariati"
          ],
          [
           "775_spray_304cuss_copper_304ss"
          ],
          [
           "731_perfringens_cpe_clostridium_fish"
          ],
          [
           "202_dose_clothing_sudoqu_protective"
          ],
          [
           "1007_deer_stec_wild_birds"
          ],
          [
           "756_vitamin_pregnancy_glucose_arich"
          ],
          [
           "1104_utis_uti_ethiopia_cecal"
          ],
          [
           "785_ratio_sex_net_minamata"
          ],
          [
           "50_pesticide_residue_pesticides_residues"
          ],
          [
           "572_sponges_dishcloths_flp_kitchen"
          ],
          [
           "798_lps_ler_phagebased_supramolecular"
          ],
          [
           "451_antidoping_sarms_doping_aaf"
          ],
          [
           "241_viruses_ev71_viral_enteric"
          ],
          [
           "211_kernel_verticillioides_fusarium_maize"
          ],
          [
           "591_viral_rtpcr_rtpcrbased_shellfish"
          ],
          [
           "883_ships_staff_secondlevel_crew"
          ],
          [
           "1241_community_biofilm_monocytogenes_nonpasteurized"
          ],
          [
           "1105_pond_mustard_juncea_lemongrass"
          ],
          [
           "210_ffps_inks_pigment_paas"
          ],
          [
           "105_mehg_hg_walleye_bass"
          ],
          [
           "192_daas_mobas_daa_aunps"
          ],
          [
           "787_betweenhost_withinhost_modular_schistosomiasis"
          ],
          [
           "891_sashimi_sushi_westernstyle_lightly"
          ],
          [
           "786_vibrio_mussels_depuration_vibrios"
          ],
          [
           "1061_midpoint_calibration_cv_interferometry"
          ],
          [
           "396_mnv1_transfer_hands_knife"
          ],
          [
           "965_lateral_sl1344_vulnificus_arabidopsis"
          ],
          [
           "166_lead_sauces_hot_historical"
          ],
          [
           "195_phytoremediation_pgpfs_tolerance_phytoextraction"
          ],
          [
           "968_lmf_lowaw_lmfs_lowmoisture"
          ],
          [
           "792_chia_ngg_butter_peanut"
          ],
          [
           "810_maleic_alkylphenols_longchain_toxicogenomics"
          ],
          [
           "325_biofilm_juice_agona_formation"
          ],
          [
           "1080_tl_stems_arable_crops"
          ],
          [
           "308_bijie_ptes_came_ecological"
          ],
          [
           "538_scott_lbra_glycerol_f2365"
          ],
          [
           "115_fbdos_china_outbreaks_deaths"
          ],
          [
           "1014_highway_runoff_road_salt"
          ],
          [
           "76_pollen_bee_bees_nectar"
          ],
          [
           "23_ota_aptamer_aptasensor_aptamers"
          ],
          [
           "1363_bottled_directsequencing_cful_multicurve"
          ],
          [
           "1125_disaster_waste_disinfectants_already"
          ],
          [
           "346_msm_parasites_gii_roundworm"
          ],
          [
           "544_slre_hg_ccr_mehg"
          ],
          [
           "315_campylobacter_campylobacteriosis_pastured_seasonal"
          ],
          [
           "25_egg_eggs_cuticle_shell"
          ],
          [
           "55_africa_mycotoxins_maize_fumonisin"
          ],
          [
           "924_chlorine_free_fluorescence_urine"
          ],
          [
           "224_citrus_salicylate_eos_preservative"
          ],
          [
           "306_mangrove_asgm_estuary_chloralkali"
          ],
          [
           "478_escresistant_expec_litter_cephalosporins"
          ],
          [
           "126_photodynamic_pdi_inactivation_light"
          ],
          [
           "515_climate_prefum_prema_maize"
          ],
          [
           "307_mercury_zooplankton_thg_methylmercury"
          ],
          [
           "138_pharmaceuticals_zebrafish_aquatic_pharmaceutical"
          ],
          [
           "1176_antimicrobialresistant_benin_farmraised_sika"
          ],
          [
           "395_henan_smelters_steelmaking_varieties"
          ],
          [
           "655_enterococcus_antimicrobialresistant_rts_arb"
          ],
          [
           "730_curing_dc_resin_light"
          ],
          [
           "1310_proteomics_differential_perniciousness_oyster"
          ],
          [
           "771_penguins_auks_islands_seabird"
          ],
          [
           "993_contributing_elicitation_establishment_outbreak"
          ],
          [
           "419_hav_hev_hhp_subgenomic"
          ],
          [
           "1181_enterococcus_enterococci_tomatoes_faecalis"
          ],
          [
           "533_tio2_ntio2_ga_nanoparticles"
          ],
          [
           "848_tiffin_wound_box_maxillofacial"
          ],
          [
           "256_mlvhrma_typhimurium_14512i_monophasic"
          ],
          [
           "206_forages_mn_sheep_pastures"
          ],
          [
           "562_cooking_cfug_instructions_roulades"
          ],
          [
           "854_csls_ukraine_processors_final"
          ],
          [
           "107_fumonisins_fusarium_trichothecenes_ht2"
          ],
          [
           "217_mercury_umbilical_amalgam_dental"
          ],
          [
           "1185_chg_postoperative_wound_lip"
          ],
          [
           "302_whitefly_viral_whiteflies_viruses"
          ],
          [
           "901_bonobos_olfactory_odor_avoidance"
          ],
          [
           "677_purchasing_actors_managers_sellers"
          ],
          [
           "38_aureus_seb_staphylococcal_psms"
          ],
          [
           "686_spme_br_bfr_cleanup"
          ],
          [
           "142_adulteration_peptides_horse_proteomic"
          ],
          [
           "610_o169h41_etec_nono157_maria"
          ],
          [
           "248_neonicotinoids_insecticides_fipronil_neonicotinoid"
          ],
          [
           "301_cryptosporidium_mites_slug_parasite"
          ],
          [
           "691_wetlands_macroinvertebrate_brine_ppr"
          ],
          [
           "502_microchip_strip_mpa_otabsa"
          ],
          [
           "500_mlr_ocelloscope_ega_endospore"
          ],
          [
           "1160_butcher_cheonan_gwangju_gunsan"
          ],
          [
           "93_fecal_neighborhoods_lowincome_pathways"
          ],
          [
           "1156_blastula_ech_behavioural_l1"
          ],
          [
           "957_fsms_certification_african_assurance"
          ],
          [
           "393_spices_mlp_fsms_qra"
          ],
          [
           "334_mystus_nandus_nama_dhaleswari"
          ],
          [
           "309_tips_pipette_bridges_coating"
          ],
          [
           "1168_harzianum_biosynthetic_competitor_mycotoxin"
          ],
          [
           "119_honey_ase_bee_fungicide"
          ],
          [
           "77_mehg_tidal_songbirds_creek"
          ],
          [
           "101_radiation_internal_nuclear_fukushima"
          ],
          [
           "793_biomarkersbased_aflatoxins_hcc_hepatocellular"
          ],
          [
           "207_fumonisins_fbs_fb1_fb"
          ],
          [
           "305_lettuce_slurry_fsh_farmers"
          ],
          [
           "2_sarscov2_covid19_coronavirus_virus"
          ],
          [
           "100_dioxins_pcbs_floodprone_dioxin"
          ],
          [
           "313_gii17_gastroenteritis_students_genotype"
          ],
          [
           "735_donax_phytostabilization_mycorrhizal_biomass"
          ],
          [
           "214_ornamental_sludge_phytotechnologies_amps"
          ],
          [
           "215_supplements_sbt_tasimelteon_materia"
          ],
          [
           "1122_bioconserving_resistant_antimicrobial_pick"
          ],
          [
           "841_yr_spring_baotou_wheat"
          ],
          [
           "623_bolnisi_kvemo_georgia_plasmamass"
          ],
          [
           "618_globarbased_synchrotronbased_animalderived_hyphenated"
          ],
          [
           "816_rra_australian_poao_rr"
          ],
          [
           "32_rice_senps_selenite_paddy"
          ],
          [
           "553_nephropathy_feedstuffsfoods_mycotoxic_nephrotoxic"
          ],
          [
           "742_listeria_sessile_janthinobacterium_drains"
          ],
          [
           "802_soleris_greenlight_dym_plating"
          ],
          [
           "41_gondii_toxocara_toxoplasmosis_toxoplasma"
          ],
          [
           "466_trichothecenes_trichothecene_niv_macrocyclic"
          ],
          [
           "1158_intravenous_bcs_bactalert_becton"
          ],
          [
           "43_mercury_squamosissimus_prolactin_bft"
          ],
          [
           "216_pastrami_precooked_final_franks"
          ],
          [
           "958_fipronil_cyp450_natamycin_cyp2d6"
          ],
          [
           "310_arsenic_mice_seadequate_highse"
          ],
          [
           "523_dam_cellulose_csgd_liverpool"
          ],
          [
           "520_neurocysticercosis_amoebic_shigella_handlers"
          ],
          [
           "30_hev_hepatitis_pig_rna"
          ],
          [
           "791_cockles_anadara_wolves_pattani"
          ],
          [
           "974_cloacae_resistances_chloramphenicol_chemotherapeutic"
          ],
          [
           "4_nov_oysters_shellfish_asari"
          ],
          [
           "1114_quetta_tempeh_shawarma_enteritidis"
          ],
          [
           "191_thyroid_nete_volcanic_cancer"
          ],
          [
           "81_mlva_lm_mlst_cgmlst"
          ],
          [
           "750_leaf_alnus_mosquito_decomposition"
          ],
          [
           "1164_fossarum_gammarus_feeding_caging"
          ],
          [
           "483_grasshoppers_te_mining_edi"
          ],
          [
           "482_mining_pbzn_dexing_poyang"
          ],
          [
           "476_pas_pa_pyrrolizidine_alkaloids"
          ],
          [
           "121_handlers_maritime_hygiene_knowledge"
          ],
          [
           "943_toxigenic_summarised_mycotoxinshost_hostresistance"
          ],
          [
           "299_fouling_cleaning_ultrasound_exchangers"
          ],
          [
           "1362_ppb_aflatoxicosis_remedies_tolerable"
          ],
          [
           "745_pagc_qdits_imbs_capture"
          ],
          [
           "1151_baakline_krai_e04_krasnoyarsk"
          ],
          [
           "741_args_abgs_coselection_silicon"
          ],
          [
           "158_pcddfs_dp_pbns_duck"
          ],
          [
           "176_bqkg_inago_fallout_137cs"
          ],
          [
           "160_spectroscopic_ftir_ftnir_infrared"
          ],
          [
           "161_imaging_hyperspectral_hsi_nondestructive"
          ],
          [
           "385_functionalized_electrolysis_thms_min"
          ],
          [
           "200_lagoon_ewaste_korle_gariepinus"
          ],
          [
           "162_arsenic_bangladesh_groundwater_fluoride"
          ],
          [
           "391_spoilage_psychrotrophic_spoilers_gelidum"
          ],
          [
           "332_wipes_copper_mnv1_viral"
          ],
          [
           "592_bfrs_pgg_toddlers_flame"
          ],
          [
           "6_cereus_bacillus_mypa_emetic"
          ],
          [
           "221_jejuni_sts_isolates_quinolones"
          ],
          [
           "167_bioelectronic_odorant_sensor_resonators"
          ],
          [
           "379_o157_vtec_ehec_eric"
          ],
          [
           "573_cropping_philippi_horticultural_summer"
          ],
          [
           "34_campylobacter_jejuni_fetus_campylobacteriosis"
          ],
          [
           "180_eels_dabs_polybrominated_inland"
          ],
          [
           "371_bfgt_bftf_dietitians_tube"
          ],
          [
           "62_stec_nono157_ehec_o157"
          ],
          [
           "312_cassava_b2_aflatoxin_kinshasa"
          ],
          [
           "258_tasa_amyloidlike_acidoterrestris_subtilis"
          ],
          [
           "1103_lfias_lateral_popularly_hindrance"
          ],
          [
           "74_listeria_monocytogenes_lm_delis"
          ],
          [
           "880_mushrooms_bisporus_entomological_florence"
          ],
          [
           "567_pbdes_bfrs_pbde_shanghai"
          ],
          [
           "94_hmf_canning_renal_canpackaged"
          ],
          [
           "586_cysts_duodenalis_cystsoysterday_giardia"
          ],
          [
           "581_sprouts_vegetableassociated_leafy_outbreaks"
          ],
          [
           "232_ink_mantle_areolata_frozen"
          ],
          [
           "484_sii_milk_fdp_farms"
          ],
          [
           "918_vibration_mould_assert_startup"
          ],
          [
           "282_cupt_fishes_swam_gills"
          ],
          [
           "875_corvids_serovars_scavenger_north"
          ],
          [
           "740_pgamended_barley_bromides_grown"
          ],
          [
           "860_amr_scoping_124_wildlife"
          ],
          [
           "884_ssa_milk_farmers_selling"
          ],
          [
           "349_cheeses_cheese_arcobacter_butzleri"
          ],
          [
           "64_cyanotoxins_cyanobacterial_microcystins_mclr"
          ],
          [
           "152_irrigation_leachate_cowpats_growers"
          ],
          [
           "186_iso_lamp_bam_166542001"
          ],
          [
           "75_flavus_cpa_atoxigenic_aflatoxin"
          ],
          [
           "96_child_diarrhea_handwashing_soap"
          ],
          [
           "288_hydroponic_o157h7_survival_solution"
          ],
          [
           "339_chlordecone_allophanes_cld_guadeloupe"
          ],
          [
           "589_ree_radionuclides_uraniumcontaminated_uranium"
          ],
          [
           "490_basil_parsley_generic_cilantro"
          ],
          [
           "866_waf_oil_crude_motor"
          ],
          [
           "109_slaughterhouse_providencia_meats_zones"
          ],
          [
           "734_vbnc_spc32hcdabe_reporter_spc32h"
          ],
          [
           "1015_foodpathogen_fonao_melons_timeline"
          ],
          [
           "436_microbiota_biogeographical_foodservice_preprocessing"
          ],
          [
           "267_bryozoans_bleach_pyrene_qaqc"
          ],
          [
           "715_exogenous_acidextractable_pb_reducible"
          ],
          [
           "10_campylobacter_jejuni_caecal_campylobacteriosis"
          ],
          [
           "594_ttx_litigation_localstate_toxidrome"
          ],
          [
           "15_glutenfree_gluten_celiac_gfd"
          ],
          [
           "442_variability_rope_amyloliquefaciens_pan"
          ],
          [
           "445_naples_sarcoma_nonlocal_caserta"
          ],
          [
           "571_sampling_qc_powdered_plans"
          ],
          [
           "260_responsibility_cues_perceived_hefei"
          ],
          [
           "856_salads_vendors_hyderabad_onions"
          ],
          [
           "828_pcbbp_pcb_freshwater_serum"
          ],
          [
           "99_phytoremediation_hyperaccumulators_situ_symbioses"
          ],
          [
           "759_beef_nontyphoidal_hms_roast"
          ],
          [
           "292_cholera_cholerae_o1_aor"
          ],
          [
           "29_ozone_rci_rw_rwtww"
          ],
          [
           "102_m1_lactating_infants_afm1"
          ],
          [
           "1334_relaying_lamellibranch_sardinia_retain"
          ],
          [
           "569_vmss_hormones_bcfs_bmfs"
          ],
          [
           "910_fluorene_100mgkgday_monohydroxylated_rats"
          ],
          [
           "319_nanomaterials_afb1_biosensors_nanoparticles"
          ],
          [
           "1206_fugacity_fugacities_multimedia_equilibrium"
          ],
          [
           "568_nrtpcr_hav_hepatitis_virus"
          ],
          [
           "634_phthalate_dehp_paes_pae"
          ],
          [
           "123_sensing_pou_biosensors_gmr"
          ],
          [
           "1208_terrorist_attack_motives_infrastructures"
          ],
          [
           "418_ota_ots_raisin_ochratoxins"
          ],
          [
           "410_pb_cu_pteloaded_radicle"
          ],
          [
           "1228_vcjd_bid50_batches_ground"
          ],
          [
           "575_fcs_nhalamines_nhalamine_coatings"
          ],
          [
           "146_veal_dehiding_carcasses_enterobacteriaceae"
          ],
          [
           "1220_o2_n2_bell_map2"
          ],
          [
           "1331_street_kumasi_rotavirus_estimates"
          ],
          [
           "1332_rooibos_delicate_tea_prohibits"
          ],
          [
           "283_cheese_unpasteurized_cheeses_crema"
          ],
          [
           "577_plasma_cold_app_213"
          ],
          [
           "390_gbs_mollicutes_spores_quantification"
          ],
          [
           "628_bioburden_cardboard_encapsulated_polymers"
          ],
          [
           "26_eos_oils_toc_preservatives"
          ],
          [
           "909_checklist_score_butcher_violation"
          ],
          [
           "752_strawberries_sfd_aureus_fluidization"
          ],
          [
           "912_me_panel_liat_laboratorydeveloped"
          ],
          [
           "1233_multistate_fsis_outbreakassociated_etiologic"
          ],
          [
           "193_honey_honeys_specification_beebread"
          ],
          [
           "296_incident_compendium_catastrophes_incidents"
          ],
          [
           "761_dec_ar_waters_diarrheagenic"
          ],
          [
           "766_thq_alba_vietnam_084"
          ],
          [
           "1130_continuum_correlation_gec_indicator"
          ],
          [
           "421_volume_tree_this_the"
          ],
          [
           "352_glial_gut_mycotoxicosis_colibacillosis"
          ],
          [
           "259_labelling_flour_actors_nudges"
          ],
          [
           "754_poultry_older_behavior_husbandry"
          ],
          [
           "47_periphyton_cd_rice_paddy"
          ],
          [
           "755_tio2_nps_coatings_uvirradiated"
          ],
          [
           "404_fomites_viruses_enteric_virus"
          ],
          [
           "1127_spatula_devices_exudate_smoked"
          ],
          [
           "337_mrsa_mcsacon_aureus_sccmec"
          ],
          [
           "157_toxaphene_pcddfs_dlpcbs_congeners"
          ],
          [
           "341_minced_ashaiman_meat_lebanon"
          ],
          [
           "609_sbdas_fouling_mg_gsers"
          ],
          [
           "622_enterohemorrhagic_caused_attributable_cholera"
          ],
          [
           "493_seals_hocs_sole_ringed"
          ],
          [
           "375_dairy_sporeformers_premature_wasted"
          ],
          [
           "266_tmf_tmfs_escroc_web"
          ],
          [
           "1021_acr_acrab_arrays_microarraybiochip"
          ],
          [
           "632_minamata_neurological_neurocognitive_neuropsychological"
          ],
          [
           "1018_pakistan_origin_cameroon_trade"
          ],
          [
           "746_ammonia_formaldehyde_seafoods_freshness"
          ],
          [
           "1318_vms_nanograms_samplemethod_foodproducing"
          ],
          [
           "141____"
          ],
          [
           "806_prophylparaben_atcc_preservatives_efaecalis"
          ],
          [
           "971_ifap_slaughterhouses_workers_slaughterhouse"
          ],
          [
           "638_biochar_ssp_cocontaminated_rs"
          ],
          [
           "760_infosan_icw_handling_servings"
          ],
          [
           "887_corn_pistachio_aflatoxin_pistachios"
          ],
          [
           "372_flavus_microgml_aspergillus_batzelladine"
          ],
          [
           "893_apr_rbf_utensils_urbanizing"
          ],
          [
           "377_strawberries_mining_mgkg_leaf"
          ],
          [
           "376_hms_biosorption_algae_bioremediation"
          ],
          [
           "894_inspections_cfm_violations_thirdparty"
          ],
          [
           "1214_quinolone_ceftazidime_herbs_acinetobacter"
          ],
          [
           "1213_smelter_vicinity_histological_loaels"
          ],
          [
           "732_dcssop_fishprocessing_monocytogenes_padj"
          ],
          [
           "835_goth_ci_enterica_95"
          ],
          [
           "1322_inmates_adh_prison_arkansas"
          ],
          [
           "1174_rtc_20732005_readytocook_worry"
          ],
          [
           "83_phages_phage_salmonellaphages_cocktail"
          ],
          [
           "779_malic_sanitizer_reductions_quat"
          ],
          [
           "98_mirnas_metalsmetalloids_tolerance_eggplant"
          ],
          [
           "280_sporulation_bacillus_differentiation_nprrdependent"
          ],
          [
           "811_phagebased_phage_lytic_bacteriophages"
          ],
          [
           "807_se_speciation_wanshan_peroxidase"
          ],
          [
           "1182_homogenization_fastprep24_innermatrix_paste"
          ],
          [
           "765_methemoglobinemia_nitrates_disorder_exams"
          ],
          [
           "788_sandwiches_rojak_shawarma_klebsiella"
          ],
          [
           "784_cilantro_cpc_libraries_24hour"
          ],
          [
           "896_childhood_stool_bias_familystyle"
          ],
          [
           "225_atp_a3_hyp_adp"
          ],
          [
           "290_parasitic_zebra_intestinal_amebiasis"
          ],
          [
           "320_chlorpyrifos_pesticide_triazophos_icelisa"
          ],
          [
           "289_sers_rf_surfaceenhanced_raman"
          ],
          [
           "1097_hantavirus_rodents_hemorrhagic_excretions"
          ],
          [
           "1093_pfos_mrna_fetida_ddts"
          ],
          [
           "1090_ishikari_testosterone_rankoshi_copcbs"
          ],
          [
           "762_vocs_ota_aspergillus_13d"
          ],
          [
           "1029_purpurea_etp_tempe_bongkrekic"
          ],
          [
           "479_aquifer_groundwater_nonimpacted_postrecycling"
          ],
          [
           "861_carota_daucus_silesia_lycopersicum"
          ],
          [
           "351_eps273_plumbagin_aeruginosa_antibiofilm"
          ],
          [
           "97_parasitic_parasites_vegetables_cox1"
          ],
          [
           "165_aas_aa_aristolochic_ben"
          ],
          [
           "934_ci_95_african_goat"
          ],
          [
           "927_yam_rad_rp_rpa"
          ],
          [
           "61_farsc_promotionincreased_selection_ema"
          ],
          [
           "1109_arctic_russian_regions_blood"
          ],
          [
           "706_pepper_red_rpn342_ginger"
          ],
          [
           "859_potsdam_hatchery_goose_serovars"
          ],
          [
           "796_tularensis_cin_psb_itc"
          ],
          [
           "1403_clavata_saprochaete_casecase_clade"
          ],
          [
           "556_cruzi_triatomines_oral_mammals"
          ],
          [
           "1013_delphi_internationalization_fulltext_safetyrelated"
          ],
          [
           "1026_criteria_fbos_productions_shelflife"
          ],
          [
           "203_afm_afm1_nonexposed_ngml"
          ],
          [
           "1025_vre_esbl_methicillin_austrian"
          ],
          [
           "790_silo_disinfestation_grain_acc"
          ],
          [
           "253_fiber_mycotoxin_repartitioning_byproducts"
          ],
          [
           "449_reserve_ochratoxin_mycomix_cranes"
          ],
          [
           "477_moe_carcinogenicity_swedish_mcda"
          ],
          [
           "1420_epec_tehran_stx_enteropathogenic"
          ],
          [
           "431_resistances_mlrs_accessions_germplasm"
          ],
          [
           "433_tet_312_55_integrons"
          ],
          [
           "852_sth_schistosomiasis_victoria_deworming"
          ],
          [
           "1339_french_enns_urinary_external"
          ],
          [
           "402_biosolids_smt_sulphonamides_ppcps"
          ],
          [
           "557_sb_tmsb_antimony_sbv"
          ],
          [
           "1111_pahs_cardiac_nansi_pyrolytic"
          ],
          [
           "850_carbendazim_cp_chlorothalonil_photolysis"
          ],
          [
           "560_seals_porpoises_baikal_helgoland"
          ],
          [
           "561_blochii_mariculture_bpa_4op"
          ],
          [
           "748_cave_westerdijkiae_cheese_salami"
          ],
          [
           "405_ops_dichlorvos_optical_biosensing"
          ],
          [
           "399_alerts_supplements_nhps_canada"
          ],
          [
           "151_sm_flock_flocks_salmonella"
          ],
          [
           "1190_saew_duws_electrolyzed_dental"
          ],
          [
           "1187_butyltins_fugacitybased_hhra_era"
          ],
          [
           "862_algal_algae_dehydrated_parasites"
          ],
          [
           "22_aptamers_aptasensors_aptamer_selex"
          ],
          [
           "179_ad_manure_digestate_fyms"
          ],
          [
           "285_metalloids_ip_uptake_transporters"
          ],
          [
           "882_laver_shredded_nov_seaweed"
          ],
          [
           "413_fccs_lists_fccdb_fcm"
          ],
          [
           "869_amc_kratom_ecc_cfugm"
          ],
          [
           "475_lutheri_algae_arsenic_aggression"
          ],
          [
           "287_lenses_cosmetic_creams_prescription"
          ],
          [
           "596_osctf_osmet1_epigenetic_cg"
          ],
          [
           "73_platelet_platelets_csplts_obizur"
          ],
          [
           "1408_beachcast_dolphins_live_blubber"
          ],
          [
           "1406_sikkim_morganella_piperacillintazobactam_345"
          ],
          [
           "1049_illegally_intoxications_poland_romania"
          ],
          [
           "871_probability_parkinsons_having_dlpcb"
          ],
          [
           "601_lasparaginase_fermentation_ssf_solidstate"
          ],
          [
           "481_cafeteria_hands_ants_handlers"
          ],
          [
           "602_cfp_ciguatera_bivalve_greek"
          ],
          [
           "773_trvs_p95_lebanese_afm1"
          ],
          [
           "1200_traditionallyprocessed_streets_maputo_233"
          ],
          [
           "797_cosmetics_cosmetic_plasmamass_kerala"
          ],
          [
           "295_dioxide_chlorine_ppm_oxidant"
          ],
          [
           "112_pcb_pcbs_congeners_cozmoman"
          ],
          [
           "603_paes_ocps_china_sum"
          ],
          [
           "995_carrots_conventionally_organicallygrown_interelement"
          ],
          [
           "122_mushroom_mushrooms_straw_pleurotus"
          ],
          [
           "36_reprocessing_duodenoscope_duodenoscopes_bronchoscopes"
          ],
          [
           "747_wastewater_sewageirrigated_loading_irrigated"
          ],
          [
           "473_carcinogenic_lamb_carcinogens_organically"
          ],
          [
           "263_packaging_ppnwfgae_mat_incorporation"
          ],
          [
           "114_datura_opium_thebaine_poppy"
          ],
          [
           "770_macrophytes_barasat_north24pargana_kanchrapara"
          ],
          [
           "408_rainwater_ml_topsoil_release"
          ],
          [
           "543_enteritidis_serovars_t3ss_inva"
          ],
          [
           "781_enterococci_efaafs_gele_cyla"
          ],
          [
           "33_arsenic_arsenite_ntds_dats"
          ],
          [
           "394_game_waste_bins_feedback"
          ],
          [
           "549_loess_eexem_eroding_leaching"
          ],
          [
           "344_tes_bc_fmbc_biochar"
          ],
          [
           "950_wgs_bareilly_distances_wholegenome"
          ],
          [
           "1145_ed_thyroidtargeting_toxicantnutrient_eg"
          ],
          [
           "1138_kgy_irradiation_buckthorn_colour"
          ],
          [
           "430_honduras_butcher_rodents_migrant"
          ],
          [
           "1226_greens_leafy_spinach_mesophiles"
          ],
          [
           "113_insects_house_flies_edible"
          ],
          [
           "737_o157h7_pcrbased_serotyping_primers"
          ],
          [
           "1162_pet_extrusion_fat_doses"
          ],
          [
           "370_chrysanthemum_carbamazepine_plantcrop_cyantraniliprole"
          ],
          [
           "281_stones_metalrba_barbary_urinary"
          ],
          [
           "528_ptes_usepa_icrp_ingestion"
          ],
          [
           "406_hg2_biosensors_electrochemical_thyminehg2thymine"
          ],
          [
           "345_antiadhesive_polysaccharides_coatings_implantassociated"
          ],
          [
           "1019_crisprs_eae_flour_stec"
          ],
          [
           "139_ionization_qbody_immunoassays_ambient"
          ],
          [
           "462_137cs_litter_stream_radiocesium"
          ],
          [
           "388_forage_grazing_mgkg_fe"
          ],
          [
           "456_kodo_millet_pakistan_commodities"
          ],
          [
           "276_metabarcoding_dna_taxa_taxonomic"
          ],
          [
           "454_chromium_fa_cr_sunflower"
          ],
          [
           "361_restaurant_outbreaks_buffet_restaurantassociated"
          ],
          [
           "627_flu_enhancers_flavour_ghana"
          ],
          [
           "453_endolysins_endolysin_engineering_bacteriophage"
          ],
          [
           "1098_pctoc_flavourings_biotech_fragrances"
          ],
          [
           "580_seiv_se_biosenps_stabilized"
          ],
          [
           "926_noxious_fitforpurpose_nft_workplace"
          ],
          [
           "739_aunp_graphene_diatoms_minima"
          ],
          [
           "378_mericon_stec_stecspecific_otype"
          ],
          [
           "199_graminearum_agmatine_transcriptomic_host"
          ],
          [
           "767_pigs_suihominis_sarcocystis_buildings"
          ],
          [
           "103_chlorine_paa_vv_fungicide"
          ],
          [
           "499_cld_kids_fatness_empty"
          ],
          [
           "360_allergy_allergens_ovalbumin_allergenic"
          ],
          [
           "948_vtg_organotin_lizards_estrogenic"
          ],
          [
           "925_scat_blueberry_deer_dung"
          ],
          [
           "722_sushi_glove_gloves_hands"
          ],
          [
           "949_amendment_phosphate_dapkg1_500mg"
          ],
          [
           "548_gloved_aerogenes_dropped_watermelon"
          ],
          [
           "1215_biosolids_oak_sludge_spruce"
          ],
          [
           "777_towels_ow_mesostructured_sio"
          ],
          [
           "348_bc_sublethal_motility_qs"
          ],
          [
           "338_gluten_qlamp_glutenfree_celiac"
          ],
          [
           "57_ginseng_fumigation_sulfur_herbal"
          ],
          [
           "1175_mine_ck_t3_t1"
          ],
          [
           "951_kbd_intensification_measures_preventive"
          ],
          [
           "487_haccp_220002018_ccp_supranational"
          ],
          [
           "1357_phylogroups_phylogroup_tsh_iucd"
          ],
          [
           "550_multistrain_plantarum_cv_strain"
          ],
          [
           "947_pimaricin_antifungal_amps_allicin"
          ],
          [
           "551_don_deoxynivalenol_trichothecenes_trichothecene"
          ],
          [
           "173_nanotio2_titanium_tio_tinps"
          ],
          [
           "1218_medicinal_slovak_extracts_bdl"
          ],
          [
           "87_insects_edible_asaia_insect"
          ],
          [
           "240_arg_args_antimicrobialresistance_trout"
          ],
          [
           "778_proteins_mandibular_glands_hemolymph"
          ],
          [
           "941_bowls_trailers_meatball_bacterias"
          ],
          [
           "938_salmon_brook_trout_pacific"
          ],
          [
           "494_cardiotoxicity_tcs_acm_ht22"
          ],
          [
           "5_aflatoxin_fumonisin__"
          ],
          [
           "1234_mills_patrons_milled_sheds"
          ],
          [
           "1360_geohealth_hub_occupational_grant"
          ],
          [
           "946_cookware_pots_dryheat_moistheat"
          ],
          [
           "513_alkyl_octyl_brevis_syringates"
          ],
          [
           "751_propazine_pcp_npa_leguminous"
          ],
          [
           "117_plastic_particles_microplastics_condors"
          ],
          [
           "976_afl_fum_feeds_zea"
          ],
          [
           "194_bedding_poultry_ostrich_promoters"
          ],
          [
           "749_foodborne___"
          ],
          [
           "977____"
          ],
          [
           "174_patulin_expansum_patulinproducing_paludigenum"
          ],
          [
           "291_million_13_latest_worldwide"
          ],
          [
           "980_rinse_carcass_rinsate_agreement"
          ],
          [
           "979_veneto_ruditapes_weekly_shellfish"
          ],
          [
           "1352_infarction_myocardial_epadha_pcb"
          ],
          [
           "437_clenbuterol_imprinted_mips_mipms"
          ],
          [
           "434_tennessee_cucumbers_pattern_epidemiologic"
          ],
          [
           "1350_ibd_clinicians_remission_patients"
          ],
          [
           "1173_microbiomes_foodproduction_disposable_dish"
          ],
          [
           "954_morphological_features_viable_physiological"
          ],
          [
           "1170_wells_rivers_manmade_flood"
          ],
          [
           "1148_bap_antibap_fluidic_satisfying"
          ],
          [
           "1355_military_bioterror_drill_unusual"
          ],
          [
           "931_ergot_ergotism_soybeanbased_saint"
          ],
          [
           "758_vocs_pah_ngg_headspace"
          ],
          [
           "118_plasma_virucidal_cap_ar"
          ],
          [
           "744_campylobacteriosis_nz_shoppers_labels"
          ],
          [
           "184_ota_carbonarius_biosynthetic_ochratoxin"
          ],
          [
           "277_listeriosis_lm_emp_allrterteprodrand"
          ],
          [
           "357_implant_cryogels_povidoneiodine_ibuprofen"
          ],
          [
           "1354_cartagena_colombia_pathotypes_coli"
          ],
          [
           "1172_ehmc_uvf_imposex_tbt"
          ],
          [
           "517_fsma_novs_19982013_outbreaks"
          ],
          [
           "953_shooting_abandoned_landfill_sylvestris"
          ],
          [
           "343_irs_malaria_pesticide_warehouses"
          ],
          [
           "1369_m3_expanded_ozone_polystyrene"
          ],
          [
           "1361_photo_catalyst_nanocrystalline_uvdrs"
          ],
          [
           "465_360_cezarka_pond_vitellogenin"
          ],
          [
           "789_peanuts_mycobiome_hb_ln"
          ],
          [
           "503_oats_oat_glutenfree_avenins"
          ],
          [
           "1313_colig_kitchens_salad_produce"
          ],
          [
           "823_farmworker_hand_abhs_abhsbased"
          ],
          [
           "1312_shigella_snacks_fried_dhaka"
          ],
          [
           "495_wham_tropical_vii_ewaste"
          ],
          [
           "783_diagnoses_home_selfreporting_nursing"
          ],
          [
           "1343_crohns_map_prove_disprove"
          ],
          [
           "330_casepatients_kratom_bovismorbificans_javiana"
          ],
          [
           "990_ebns_unboiled_boiled_capsicum"
          ],
          [
           "381_kg1_sperm_mg_bioheapleaching"
          ],
          [
           "774_clays_packaging_cheese_extend"
          ],
          [
           "989_mip_mips_imprinted_molecularly"
          ],
          [
           "424_drought_tropics_recreational_idtm"
          ],
          [
           "498_grape_vinegars_varieties_blanching"
          ],
          [
           "1314_chamber_gases_refreshing_gas"
          ],
          [
           "552_cemcem_loloh_juices_juice"
          ],
          [
           "1268_etec_mpng_thailand_estpositive"
          ],
          [
           "458_heparin_heparins_porcine_enoxaparin"
          ],
          [
           "1396_simulation_vasa_analytics_encapsulates"
          ],
          [
           "1024_meathandling_pmpp_gmpp_0000"
          ],
          [
           "607_traceback_leafy_greens_stec"
          ],
          [
           "985_mnps_nanotechnology_nanomaterials_industries"
          ],
          [
           "1101_input_export_budget_loading"
          ],
          [
           "604_pylori_buffet_briwates_hp"
          ],
          [
           "942_bvocs_vocs_sensors_s3"
          ],
          [
           "832_biotransformation_proximal_toxindb_biogenic"
          ],
          [
           "275_fumonisin_antifungal_aflatoxin_reports"
          ],
          [
           "1117_faithfully_214fold_pre1950_polychaete"
          ],
          [
           "270_pa_pas_potencies_pyrrolizidine"
          ],
          [
           "506_sands_lions_bitumen_stranded"
          ],
          [
           "414_zea_masked_blastocysts_boars"
          ],
          [
           "1235_fecl3_mays_mc_sludge"
          ],
          [
           "1365_singlecell_fluorescencebased_microbiology_functioning"
          ],
          [
           "52_afm_weather_stressors_current"
          ],
          [
           "417_mucor_microbiota_mucosaassociated_mice"
          ],
          [
           "531_chlordecone_gwg_prenatal_cord"
          ],
          [
           "541_chondrocytes_t2_don_rat"
          ],
          [
           "1020_wqi_wastewater_welfare_irrigation"
          ],
          [
           "1008_anses_diapers_dlpcbs_breast"
          ],
          [
           "1133_aphids_mustard_sludge_erysimi"
          ],
          [
           "208_bpa_bisphenol_bps_badge"
          ],
          [
           "738_phones_mobile_venues_toilets"
          ],
          [
           "1002_zebrafish_amphipods_pco_warming"
          ],
          [
           "400_code_multiclass_kanamycin_ags"
          ],
          [
           "238_migration_packaging_substances_headspacegc"
          ],
          [
           "1003_abdominal_vomiting_religious_school"
          ],
          [
           "54_debris_eps_microplastics_plastics"
          ],
          [
           "999_stormwater_supplies_nordic_potable"
          ],
          [
           "382_rmbds_pet_rmbd_pets"
          ],
          [
           "1153_aquacultures_dom_landbased_proteinlike"
          ],
          [
           "384_retort_dna_ddpcr_pouch"
          ],
          [
           "422_histolytica_lemurs_definitive_lemur"
          ],
          [
           "420_multilocularis_echinococcosis_park_alveolar"
          ],
          [
           "1367_carbonates_carbonate_wheat_carbonatesdepleted"
          ],
          [
           "764_gbeli_street_vendors_amenities"
          ],
          [
           "235_biofilms_hoses_persister_o111h8"
          ],
          [
           "1366_arcobacter_creek_stream_1238"
          ],
          [
           "386_peptides_amps_afps_proteolysis"
          ],
          [
           "439_doninduced_satiety_don_res"
          ],
          [
           "659_beefburgers_casepatients_heidelberg_blocked"
          ],
          [
           "525_wine_grape_pomace_kinds"
          ],
          [
           "143_afs_afb_parasiticus_aspergillus"
          ],
          [
           "27_wgs_isolates_listeriosis_lineage"
          ],
          [
           "110_esblproducing_esbl_hatchery_enterobacteria"
          ],
          [
           "242_handwashing_soap_caregivers_antecedents"
          ],
          [
           "512_plantarum_ufg_lipase_antifungal"
          ],
          [
           "68_mnps_separation_chamber_magnetic"
          ],
          [
           "58_allergic_eoe_oma_anaphylaxis"
          ],
          [
           "397_epsilon_seaweed_amines_pgml"
          ],
          [
           "187_prothioconazole_enzymes_mycotoxins_bcas"
          ],
          [
           "673_cassia_officinalis_eos_cinnamaldehyde"
          ],
          [
           "1224_poultryassociated_foodhandling_1114_279"
          ],
          [
           "510_supplements_colors_marketplace_dshea"
          ],
          [
           "967_nanocomposites_magnetic_coreshell_dyes"
          ],
          [
           "983_oils_pertaining_agrifood_mycotoxinscontaminated"
          ],
          [
           "833_ryr_afs_cit_coix"
          ],
          [
           "48____"
          ],
          [
           "204_radiocaesium_iodine_gammaray_astragali"
          ],
          [
           "108_aflatoxin_fgis_poults_shipments"
          ],
          [
           "940_technic_highways_metallic_highway"
          ],
          [
           "441_omega3_lipids_s4_dha"
          ],
          [
           "471_cdcontaminated_maize_willow_intercropping"
          ],
          [
           "636_flp_sp_vannella_beetroot"
          ],
          [
           "444_sausages_pork_cuts_minced"
          ],
          [
           "326_nanosemiconductors_mycotoxin_sensing_rmos"
          ],
          [
           "1225_flagellar_fljb_flic_attachment"
          ],
          [
           "1212_bm_if_infant_daly"
          ],
          [
           "964_bacteriocinproducing_pgtel_mushroom_egde"
          ],
          [
           "1180_olive_pp_orchards_cp"
          ],
          [
           "526_ieb_epithelial_intestinal_ctl"
          ],
          [
           "524_hm_lowgrain_hydrophobic_mlps"
          ],
          [
           "692_foliar_compartmentation_uptake_biogeochemical"
          ],
          [
           "244_mercury_merb_mera_coalfired"
          ],
          [
           "782_goji_fruits_antioxidant_barbarum"
          ],
          [
           "264_grebes_ghr_moulting_gcm"
          ],
          [
           "366_citrinin_ctne_monascus_cit"
          ],
          [
           "297_pahs_pah_grilling_propolis"
          ],
          [
           "984_libs_4202009_140mgkg1_conama"
          ],
          [
           "522_teat_silage_herd_microbiota"
          ],
          [
           "663_lactis_hgii_lactococcus_ch"
          ],
          [
           "937_as5_tritici_inoculation_scii24"
          ],
          [
           "182_bacteriocins_bacteriocin_lab_geobacillin"
          ],
          [
           "714_minced_vocs_ld_meat"
          ],
          [
           "1356_snowshoe_hare_boreal_smelter"
          ],
          [
           "710_game_cumulative_mines_lead"
          ],
          [
           "936_manure_dtpaextractable_manures_exchangeable"
          ],
          [
           "935_avermectins_avermectin_abamectin_ecotoxicity"
          ],
          [
           "1129_akk_mice_probiotics_gut"
          ],
          [
           "1134_args_swine_feedlots_receiving"
          ],
          [
           "171_eggs_ebns_rawunclean_se"
          ],
          [
           "711_durum_conform_ts_caudatus"
          ],
          [
           "134_antifungal_lab_bread_biopreservation"
          ],
          [
           "920_lad_nir_gh_mahalanobis"
          ],
          [
           "1359_ym_nissui_compact_aoac"
          ],
          [
           "1223_slaughterhouse_ec_carcasses_slaughterhouses"
          ],
          [
           "1358_foodomic_liberated_peptidomic_peptidomics"
          ],
          [
           "1184_sustainability_constraints_agrifood_produce"
          ],
          [
           "720_technosols_urban_rooftop_entails"
          ],
          [
           "945_neurotoxicity_neurotoxicants_chd_neurotoxicology"
          ],
          [
           "955_drain_qac_restructuring_biogas"
          ],
          [
           "1227_broth_k92_lactis_epidermidis"
          ],
          [
           "1210_lovastatin_glvs_gluconic_amylases"
          ],
          [
           "719_gathering_awserd_aiun_dakhla"
          ],
          [
           "944_recalls_recall_cosmetic_class"
          ],
          [
           "542_bde209_cat_corrective_ohcs"
          ],
          [
           "687_mined_mining_romanian_mgkg"
          ],
          [
           "255_aquifers_groundwater_zone_flood"
          ],
          [
           "268_mycelial_mycorrhization_noninoculation_ecotypes"
          ],
          [
           "190_iplc_mining_sovereignty_nigeria"
          ],
          [
           "987_benzophenone_octocrylene_perchlorate_edc"
          ],
          [
           "847_imidacloprid_pesticide_pesticides_potato"
          ],
          [
           "170_silver_nanoparticles_photocatalytic_metalbased"
          ],
          [
           "1323_ftir_tracking_microcultivation_phoma"
          ],
          [
           "1229_whitebait_pufferfish_juveniles_ttx"
          ],
          [
           "467_software_network_foodchainlab_supply"
          ],
          [
           "1232_agnps_paamagnps_metamorphic_juveniles"
          ],
          [
           "529_aboriginal_nonaboriginal_t2dm_burkina"
          ],
          [
           "491_derelict_biodiversity_degradation_csa"
          ],
          [
           "508_li_lacs_lithium_reach"
          ],
          [
           "661_colloid_pdms_replicas_retention"
          ],
          [
           "521_cod_freshcut_tds_cld"
          ],
          [
           "658_solubility_rice_flooding_metalloids"
          ],
          [
           "1345_lobsters_eighteen_american_"
          ],
          [
           "1346_refrigerated_characterised_shelflife_rte"
          ],
          [
           "234_septox_hpmp_lesions_bmc"
          ],
          [
           "643_mosquito_albopictus_larval_gy"
          ],
          [
           "80____"
          ],
          [
           "446_visual_afs_ilamp_onsite"
          ],
          [
           "660_pet_owners_rmbds_diets"
          ],
          [
           "150____"
          ],
          [
           "1347_preharvest_microbials_pathogenresistant_directfed"
          ],
          [
           "972_listeriosis_lymphocytic_africa_leukemia"
          ],
          [
           "1348_liposomes_chitosanstabilised_poreforming_apep10"
          ],
          [
           "960____"
          ],
          [
           "959_chives_enteroparasites_prevalences_vegetables"
          ],
          [
           "1199_ec_epec_percent_pathotypes"
          ],
          [
           "838_nanocu_deposition_sperm_andrological"
          ],
          [
           "844_canned_sardines_shaoxing_pi"
          ],
          [
           "111____"
          ],
          [
           "53_fish_prepacked_recalls_tuna"
          ],
          [
           "956_nonbiological_mef_fermentation_pef"
          ],
          [
           "527_heating_microwave_conductive_dielectric"
          ],
          [
           "463_bse_prion_cwd_cjd"
          ],
          [
           "14_toxinproducing_shiga_shigatoxin_goudalike"
          ],
          [
           "1203_nonenterohemorrhagic_lasts_foodbome_signs"
          ],
          [
           "652_rwbp1004d_nterminal_denantiomer_rrlfrrilrwlnh2"
          ],
          [
           "653_considerably_materials_vary_tolerated"
          ],
          [
           "392_pah187270_plasmid_kbp_mega"
          ],
          [
           "460_lesions_taher_ewe_sheep"
          ],
          [
           "92____"
          ],
          [
           "239_cannabis_cbd_thc_ecps"
          ],
          [
           "183_deep_learning_images_elytral"
          ],
          [
           "511_rtpcr_rtipcr_quantifications_pointofcare"
          ],
          [
           "1171_pellets_fish_waste_tilapia"
          ],
          [
           "1169_enantiomers_metalaxyl_leaching_htela"
          ],
          [
           "933_predictive_models_antagonism_competition"
          ],
          [
           "358_biosensors_carbon_nanomaterials_nanotechnology"
          ],
          [
           "1157_surfactants_soap_hand_lauryl"
          ],
          [
           "480_lysates_afb1_vgf2_anguilliseptica"
          ],
          [
           "1152_bedding_sbs_sulfites_adi"
          ],
          [
           "509_agm182_flavus_peanut_drought"
          ],
          [
           "930_aggsas_nanoagent_nanoagents_wounded"
          ],
          [
           "488_bsg_b1_multimycotoxin_ochratoxin"
          ],
          [
           "664_taihu_bed_om_lake"
          ],
          [
           "135_mycotoxins_operations_mycotoxin_detoxification"
          ],
          [
           "669_establishments_restaurants_inspection_nears"
          ],
          [
           "1349_lz206_plantaricin_gramnegtive_3212951bp"
          ],
          [
           "1136_evaluations_salmonellait_39320_regione"
          ],
          [
           "507_dumpsite_ibadan_recycling_ulab"
          ],
          [
           "1351_gummy_fivesecond_rule_carpet"
          ],
          [
           "516_huazhong_moniliforme_threats_autumn"
          ],
          [
           "1132_biosensors_tabh_enzymebased_nonenzymatic"
          ],
          [
           "492_spices_chili_pepper_verbena"
          ],
          [
           "982_mt_eol_ulab_monodora"
          ],
          [
           "676_sialyllactoses_neuac_lactic_epss"
          ],
          [
           "1116_cyanogenic_cyanide_cassava_glucoside"
          ],
          [
           "1146_enps_nps_caco2_zno"
          ],
          [
           "1353_hvld_hirmi_tigray_principally"
          ],
          [
           "72_aflatoxins_afb_produced_afs"
          ],
          [
           "447_ntm_mycobacterium_mycobacteria_filters"
          ],
          [
           "78_cr_chromium_cws_tannery"
          ],
          [
           "540_nonsterile_dalbavancin_outpatient_letters"
          ],
          [
           "271_characterisation_ch_characterised_corrects"
          ],
          [
           "236_corn_cats_fd_coproducts"
          ],
          [
           "137_amd_acidobacteria_paddy_phylum"
          ],
          [
           "168____"
          ],
          [
           "177_oxisterigmatocystins_sterigmatocystin_secondary_produced"
          ],
          [
           "380_notorious_pathogen_protozoan_foodborne"
          ],
          [
           "994_sachet_am_ivermectin_ram"
          ],
          [
           "689_plastic_recycling_prolonging_undesirably"
          ],
          [
           "532_adjoining_farmland_peri_steel"
          ],
          [
           "1005_bohai_sccps_sccp_sea"
          ],
          [
           "273_ma_amendment_alfisol_ultisol"
          ],
          [
           "997_buckthorn_hippophae_barhrm_hrm"
          ],
          [
           "209_fao_occurrence_codex_above"
          ],
          [
           "274_genus_animalpathogenic_serbia_ear"
          ],
          [
           "1167_alternata_alternaria_jujubes_alt"
          ],
          [
           "886_ias_daly_infant_cereal"
          ],
          [
           "917_probiotics_probiotic_saudi_labeling"
          ],
          [
           "1113_residential_stimulatory_aab_bacteria"
          ],
          [
           "819_foragers_social_collective_colony"
          ],
          [
           "318_methicillinresistant_livestockassociated_ue_thirtythree"
          ],
          [
           "497_eos_antibiofilm_pterostilbene_resveratrol"
          ],
          [
           "1006_travelers_athletes_campassociated_physicians"
          ],
          [
           "694_clam_oxytetracycline_2002657ue_amx"
          ],
          [
           "695_ecoefficiency_ardl_longrun_bounds"
          ],
          [
           "1163_salts_salterns_sea_isolating"
          ],
          [
           "1143_determinations_inhibitory_presents_first"
          ],
          [
           "534_growthinactivation_fermentation_pm_alcoholic"
          ],
          [
           "504_cadmium_iran_science_bangladesh"
          ],
          [
           "106____"
          ],
          [
           "279_mili_mycotoxins_mycotoxinassociated_cyp450"
          ],
          [
           "539_xylan_waste_sar_msw"
          ],
          [
           "537_drycured_dryfermented_meats_sausages"
          ],
          [
           "963_afm1_binder_pscore_economically"
          ],
          [
           "1219_colorants_phycobiliprotein_cphycocyanin_question"
          ],
          [
           "701_farmanimal_livestockoriginated_endless_progressed"
          ],
          [
           "363_verticillioides_aggressiveness_fumonisin_hap"
          ],
          [
           "369_pork_nts_typhi_vitt"
          ],
          [
           "962_microbe_volatiles_insect_volatile"
          ],
          [
           "776_ens_enniatins_feeds_fish"
          ],
          [
           "704_psychrotrophic_legs_wings_carnobacterium"
          ],
          [
           "1017_clinicians_emerging_unusual_infections"
          ],
          [
           "679_fwbc_mortar_rwbc_wood"
          ],
          [
           "678_terns_seabird_louisiana_pops"
          ],
          [
           "535_caerulescens_ganges_hyperaccumulating_cdcontaining"
          ],
          [
           "536____"
          ],
          [
           "991_iveo_chteo_tchf_coix"
          ],
          [
           "633_mrsa_cows_aureus_milk"
          ],
          [
           "992_occupational_biologic_simultaneously_simultaneous"
          ],
          [
           "699_ice_packaged_premises_isb"
          ],
          [
           "1316_hp_peroxide_hydrogen_disinfectant"
          ],
          [
           "1119_bacteriocins_biofilm_inhibition_bacteriocinogenic"
          ],
          [
           "323_phenological_stress_gru_spectral"
          ],
          [
           "1120_fpp_fbps_nasba_fbp"
          ],
          [
           "700_loe_polycyclic_envri_aromatic"
          ],
          [
           "1126_weee_black_plastic_fcms"
          ],
          [
           "1128_shells_danish_destroyed_weapons"
          ],
          [
           "842_circumdatins_advancement_instrumental_fragmentation"
          ],
          [
           "411_respirators_device_maude_sentinel"
          ],
          [
           "843_paa_go_disinfectant_disinfectants"
          ],
          [
           "335_amf_mycorrhizal_arbuscular_viride"
          ],
          [
           "16_microalgae_fpbs_vulgaris_spacecraft"
          ],
          [
           "185____"
          ],
          [
           "815_pgp_sl2_oxalicum_pgpr"
          ],
          [
           "403_rice_northwest_cr_hms"
          ],
          [
           "1315_vulnerability_0451_explorative_0411"
          ],
          [
           "416_bottles_pet_recycled_recycling"
          ],
          [
           "608_abattoirs_noncompliance_chicken_slaughterhouses"
          ],
          [
           "625_aflatoxins_bentonite_degrade_consortium"
          ],
          [
           "1317_pcn_potencies_inadvertent_nonoccupational"
          ],
          [
           "249_sfs_kites_feeders_bird"
          ],
          [
           "805_ripening_hsc_hpp_rind"
          ],
          [
           "688_circular_halogenated_composting_organics"
          ],
          [
           "1142_lab_antilisterial_cultures_cocultures"
          ],
          [
           "247_cream_ice_ceramic_drinks"
          ],
          [
           "429_mycotoxigenic_malaysia_fungi_climate"
          ],
          [
           "1177_notifications_af_nuts_importers"
          ],
          [
           "284_aimthe_backgroundwhile_ndmproducing_passages"
          ],
          [
           "1216_partially_untreated_1210_ssps"
          ],
          [
           "1209_hospital_sciences_servants_diabetic"
          ],
          [
           "1320_cultivars_heading_brown_rice"
          ],
          [
           "1139_army_fbi_dcdoh_restaurant"
          ],
          [
           "616_osps_storehouses_ocp_ocps"
          ],
          [
           "91_aflatoxins_secondary_metabolites_nonaflatoxigenic"
          ],
          [
           "1319_powered_designs_hampered_quantify"
          ],
          [
           "812_intervention_interventions_effectiveness_onfarm"
          ],
          [
           "1135_phthalate_battery_pcb180_dimethyl"
          ],
          [
           "803_cnms_pnps_arms_microcin"
          ],
          [
           "693_preservativefree_confectionery_webbased_searching"
          ],
          [
           "813_sfh_soilricehuman_oasis_soilwheat"
          ],
          [
           "800_recalls_recall_recalled_lb"
          ],
          [
           "690_fragments_calorific_amendments_silybum"
          ],
          [
           "808_metagenomics_shotgun_genome_workflow"
          ],
          [
           "612_mercury_drivers_hg_amap"
          ],
          [
           "1321_mud_lemongrass_sludge_ww"
          ],
          [
           "837_permafrost_alaska_termite_alaskan"
          ],
          [
           "614_hay_microfungi_filamentous_mycotoxigenic"
          ],
          [
           "809_dealt_vs_rte_290393"
          ],
          [
           "1140_sumapaz_brucella_brucellosis_livestock"
          ],
          [
           "1340_stickleback_alaska_pfass_blackfish"
          ],
          [
           "496_paratyphoid_nonhostspecific_tularemia_zoonosis"
          ],
          [
           "46_microplastic_microplastics_beverages_micro"
          ],
          [
           "1161_sulfite_sulfites_sodium_bisulfite"
          ],
          [
           "530____"
          ],
          [
           "1016_mtdnacoi_pupal_cockroach_lengths"
          ],
          [
           "1159_1823_profit_competitiveness_marketability"
          ],
          [
           "340_flavourzyme_biofilm_biofilms_eps"
          ],
          [
           "696_phosphorus_lowgrade_dihydrate_raising"
          ],
          [
           "1165_catechol_wastes_illucens_soldier"
          ],
          [
           "1370_feces_animal_washrelated_freeroaming"
          ],
          [
           "1155_leptin_healing_pasta_wound"
          ],
          [
           "814_members_family_closely_related"
          ],
          [
           "1344_143849_2305_deleteriously_931456"
          ],
          [
           "961_arabia_saudi_maize_staple"
          ],
          [
           "772_catalase_afb_pesticidebased_biosolutions"
          ],
          [
           "367_comprehension_dearth_foodspoilage_procedural"
          ],
          [
           "452_wgs_ncbi_interpreting_pseudotuberculosis"
          ],
          [
           "966_alpharadiation_emitter_mushrooms_accumulators"
          ],
          [
           "799_ota_ochratoxin_coffee_teenagers"
          ],
          [
           "795_dissected_volatile_indole_secreted"
          ],
          [
           "1222_mycotoxicity_undertake_feeds_impose"
          ],
          [
           "733_taf_afm1_antibodies_aflatoxin"
          ],
          [
           "269_determinate_proportionprevalence_randomized_attempted"
          ],
          [
           "1364_evolution_shown_work_rapid"
          ],
          [
           "546_mra_modelers_casestudy_illustrating"
          ],
          [
           "1154_farmers_markets_produce_128"
          ],
          [
           "681_2i4mp_cow_pasteurization_dung"
          ],
          [
           "1368_24d_shortlived_analyte_publications"
          ],
          [
           "702_poisonings_tea_clinicians_kong"
          ],
          [
           "128____"
          ],
          [
           "1150_multidrugresistant_multidrug_emergence_resistant"
          ],
          [
           "51_chive_chickpea_tomato_jujube"
          ],
          [
           "1147_carob_prosopis_flour_abound"
          ],
          [
           "374_arair_aro2_cao_cd"
          ],
          [
           "554____"
          ],
          [
           "829_mold_infants_households_phps"
          ],
          [
           "501_communityassociated_surveyed_status_emerging"
          ],
          [
           "834_gnotobiotic_lungs_microisolator_urt"
          ],
          [
           "836_neuronal_myenteric_vnmf_carrasqueira"
          ],
          [
           "387_uvcled_nuv_light_slush"
          ],
          [
           "635_alps_metamorphism_thicknesses_sulfosalts"
          ],
          [
           "1118_penitrems_af_biosynthesis_crustosum"
          ],
          [
           "1115_acr_acrylamide_axis_neurotoxicity"
          ],
          [
           "438_spore_spores_nomenclature_heatresistant"
          ],
          [
           "698_rl_biofilms_rhamnolipid_biofilm"
          ],
          [
           "697_nanomaterials_nutraceuticals_nanotechnology_nanotechnologies"
          ],
          [
           "1341_popularly_pakchoi_coexist_enter"
          ],
          [
           "821_pantoea_growthpromoting_marshes_phytostabilization"
          ],
          [
           "822_eggs_openair_fat_hbcdd"
          ],
          [
           "827_clam_brachyuran_substitution_crab"
          ],
          [
           "826_condiments_dnag_farinaceous_sciuri"
          ],
          [
           "825_endophytes_sterilants_endophytic_tween"
          ],
          [
           "354_aflatoxin_aflasafe_counties_households"
          ],
          [
           "353____"
          ],
          [
           "469_nematodes_taeniidae_meatborne_cestode"
          ],
          [
           "1057_obesity_adipocyte_diffused_lifestyle"
          ],
          [
           "31____"
          ],
          [
           "237_smallspored_molds_necrotrophic_saprophytic"
          ],
          [
           "331_afb1_bsaafb1_hrp_probe"
          ],
          [
           "272_baked_oils_essential_eos"
          ],
          [
           "362_emp_sampling_recovery_optimization"
          ],
          [
           "286____"
          ],
          [
           "885_micelles_ttcp_controllable_thymol"
          ],
          [
           "324_listeriosis_scanty_lightly_accessing"
          ],
          [
           "401_norovirus_premises_bathrooms_010"
          ],
          [
           "916_fnu_racks_boards_cutting"
          ],
          [
           "629_agentbased_corrective_abm_ls"
          ],
          [
           "86_mutual_elimination_seasonality_details"
          ],
          [
           "213____"
          ],
          [
           "60____"
          ],
          [
           "131____"
          ],
          [
           "44_microplastic_microplastics_mp_mps"
          ],
          [
           "908_packages_juice_hu_shopping"
          ],
          [
           "1230_purification_nanomaterials_karofi_seepage"
          ],
          [
           "703_street_papers_healthrelated_english"
          ],
          [
           "913_canteens_cafeterias_breads_meals"
          ],
          [
           "624_pandemics_proactive_diseases_reconstruction"
          ],
          [
           "1198_electrolyzed_oxytoca_innocua_freundii"
          ],
          [
           "294_fumonisins_fumonisin_enzymology_biochemistry"
          ],
          [
           "600_months_villages_woil_fortification"
          ],
          [
           "261____"
          ],
          [
           "356_gb_bc_plaque_biochar"
          ],
          [
           "986_franchise_storelevel_clauses_audited"
          ],
          [
           "250_aloe_herbal_hads_pharmacopoeia"
          ],
          [
           "427_antarctic_peninsula_fildes_lacustrine"
          ],
          [
           "555_ochratoxin_ota_aspergilli_metabolite"
          ],
          [
           "1186_alumina_conjugation_amphiphile_ligand"
          ],
          [
           "82____"
          ],
          [
           "426_mel_afm1_atrazine_multiclass"
          ],
          [
           "637_fw_pha_methane_ad"
          ],
          [
           "845_graphitic_photocatalyst_photocatalysis_nitride"
          ],
          [
           "178_don_refining_degradation_deoxynivalenol"
          ],
          [
           "685_mammary_mact_epithelial_bovine"
          ],
          [
           "725_cassava_eaten_carob_staple"
          ],
          [
           "1137_networks_copresence_conet_mutual"
          ],
          [
           "892_impoverished_pmf_practically_0917732"
          ],
          [
           "1197_macadamia_harvesting_mbombela_nutinhusk"
          ],
          [
           "1196_inflorescences_slag_historic_thi"
          ],
          [
           "1195_intention_tpb_beliefs_growers"
          ],
          [
           "874_saginata_cysticercus_inspection_incisions"
          ],
          [
           "599_aflatoxins_salient_afs_suppression"
          ],
          [
           "1371_fermentations_spontaneous_regaining_citizen"
          ],
          [
           "578_amr_nap_abr_sectors"
          ],
          [
           "579____"
          ],
          [
           "863_cecs_rw_offsite_watersoilplant"
          ],
          [
           "583____"
          ],
          [
           "1121_attacked_bunches_spoiling_corrugated"
          ],
          [
           "425_colistinresistant_plasmidborne_plasmidmediated_colistin"
          ],
          [
           "1193_biochar_siliconnanoparticles_salinityinduced_feoxyhydroxy"
          ],
          [
           "559_cassette_instrument_melt_gelcycler"
          ],
          [
           "293_nontyphoidal_enterohemorrhagic_enterohaemorrhagic_thermophilic"
          ],
          [
           "558_synthetised_toxincontaminated_tofu_tenebrio"
          ],
          [
           "849_coal_miningsmelting_dustfall_byproducts"
          ],
          [
           "164_pesticides_opis_urban_herbicides"
          ],
          [
           "1201_charter_mycokey_chartermycokeyeu_beneficiaries"
          ],
          [
           "1372_imaging_spectroscopy_microorganism_timedomain"
          ],
          [
           "872_turmeric_spectra_lssvm_imaging"
          ],
          [
           "870_aptamersers_fitc_sensors_recognition"
          ],
          [
           "1204_sonicating_swab_enhancements_aisi"
          ],
          [
           "674_river_xj_jl_hilly"
          ],
          [
           "877_cd_rice_edtaextractable_mno"
          ],
          [
           "1141_mrsa_singled_655_crosscutting"
          ],
          [
           "1202_voi_inspection_morocco_office"
          ],
          [
           "468_oas_immobilization_ldhs_zeolitesupported"
          ],
          [
           "1342_fdcaoh_efficacies_qac_hydroxide"
          ],
          [
           "1192_puree_gmps_ofsp_compliance"
          ],
          [
           "1205_leafy_rocket_harvest_stec"
          ],
          [
           "145_glyphosate_gly_gbh_vescana"
          ],
          [
           "906_ger_heterosis_hybrids_ear"
          ],
          [
           "1333_hypocotyl_benin_boiled_in"
          ],
          [
           "570_fertilization_digestate_tms_slag"
          ],
          [
           "1179_fb_fumonisin_td_dd"
          ],
          [
           "1112_fusaria_competitive_beneficial_fungi"
          ],
          [
           "1335_ocps_egypt_ppddd_ppddt"
          ],
          [
           "682_ume_ultramafic_mobility_sediment"
          ],
          [
           "914_cigarette_litter_riyadh_streets"
          ],
          [
           "680_eko_rte_sudanese_banknotes"
          ],
          [
           "1328_qpcrs_reactions_polymerase_prevalent"
          ],
          [
           "1327_vietnam_pork_consumed_commonly"
          ],
          [
           "1330_reads_genomic_cytometry_ultralow"
          ],
          [
           "683_pyrrolizidine_alkaloids_retrorsine_oregano"
          ],
          [
           "729____"
          ],
          [
           "718_inoculants_amendments_biofertilizers_fertilizers"
          ],
          [
           "333____"
          ],
          [
           "899_apples_apple_packing_excision"
          ],
          [
           "1191_carotenoids_apocarotenoid_carotenoid_sfesfcqqqms"
          ],
          [
           "1188_text_see_fertilizers_fertilizer"
          ],
          [
           "890_bangladesh_multitrophic_heavy_bangladeshs"
          ],
          [
           "220_antiviral_sfbs_biomaterials_polymers"
          ],
          [
           "1189_ch_bcch_hr_bc075ch075"
          ],
          [
           "857_preventative_nanoemulsions_indigestion_vouch"
          ],
          [
           "129_infiltration_nanotechnology_nanobiotechnology_nbfs"
          ],
          [
           "226_cyanobacteria_algae_bioplastics_pha"
          ],
          [
           "407_genus_botanical_belonging_species"
          ],
          [
           "855_shq_dehp_oc_rhb"
          ],
          [
           "626_masks_composites_packaging_biodegradable"
          ],
          [
           "1217_outstanding_desiccation_feature_thermal"
          ],
          [
           "1336_sepiolite_mineral_fibrous_regeneration"
          ],
          [
           "726_mt_bean_beans_russia"
          ],
          [
           "566_fermentations_yeasts_craft_spoiled"
          ],
          [
           "149_mps_wwtp_losw_mulches"
          ],
          [
           "1325_h7n9_shanghai_influenza_lpai"
          ],
          [
           "8_microplastics_macrophages_mps_mp"
          ],
          [
           "684_sausages_biogenic_amines_fermented"
          ],
          [
           "127_microplastics_microplastic_microplasticassociated_marine"
          ],
          [
           "67_mfeo_nanoemulsion_nanomatrix_chitosan"
          ],
          [
           "716_fa_ltam_ahr_dehp"
          ],
          [
           "888_hh_hamburgers_beefsteak_crumbs"
          ],
          [
           "472_wollastonite_cds_dmsa_amendments"
          ],
          [
           "905_thiosulfate_chelating_hg_ligands"
          ],
          [
           "486_multicountry_outbreak_monophasic_casecontrol"
          ],
          [
           "364____"
          ],
          [
           "409_esters_3mcpd_ester_frying"
          ],
          [
           "265_electrochemical_aptasensors_aptasensorbased_turnoff"
          ],
          [
           "907_ducks_arctic_feathers_reserves"
          ],
          [
           "650_rainfed_mycobiota_sesame_stored"
          ],
          [
           "1058_prisoners_prison_foodways_resettlement"
          ],
          [
           "588____"
          ],
          [
           "900_ebscohost_ver_relevance_title"
          ],
          [
           "1096_julyaugust_october_trials_predict"
          ],
          [
           "485_pops_software_dibenzo_pop"
          ],
          [
           "584_stec_romaine_butter_o157"
          ],
          [
           "831_composting_mortalities_biowastes_biosecurity"
          ],
          [
           "1074_cil_lcms_mouse_metaboliccage"
          ],
          [
           "895_et_tomatoes_phytobiota_agroecologies"
          ],
          [
           "864_tds_chemicalfood_consists_saharan"
          ],
          [
           "712_fluoride_ion_afb_environmental"
          ],
          [
           "858_atoxigenic_environmentallyfriendly_profitability_aflatoxicosis"
          ],
          [
           "898_jerky_refrigeration_bestbefore_dslc"
          ],
          [
           "1035_faecalis_carnivorous_mdrpositive_adsrrsfingerprinting"
          ],
          [
           "708_biofilmspecific_biofilms_nondestructive_deviceassociated"
          ],
          [
           "709_smallmolecule_soon_sorghum_mycotoxins"
          ],
          [
           "707_canjiquinha_corn_grits_gaseous"
          ],
          [
           "1051_expired_nafdac_disposal_unused"
          ],
          [
           "646_nanoparticles_incentivized_metalsbearing_anticorrosive"
          ],
          [
           "1048_ms_malditof_chromatographic_chemometric"
          ],
          [
           "1107_subsoil_arseniccontaminated_flooded_hyperaccumulator"
          ],
          [
           "824_chytridiomycosis_predation_bd_copper"
          ],
          [
           "840_hf_chemicals_disclosure_disclosed"
          ],
          [
           "644_boar_leptospira_semen_extenders"
          ],
          [
           "830_nanoclusters_ligandprotected_fcds_thiolated"
          ],
          [
           "1031_paraben_parabens_ep_derivatives"
          ],
          [
           "1425_43_34_sediment_total"
          ],
          [
           "839____"
          ],
          [
           "1324_anshun_dioxin_annan_smallscale"
          ],
          [
           "1427_transboundary_robbing_sits_circulate"
          ],
          [
           "435_rasff_notifications_alert_rapex"
          ],
          [
           "904_maple_walnut_syrup_sap"
          ],
          [
           "1040_coffee_foodcrops_seafoodand_sociopolitical"
          ],
          [
           "1038_gwangyang_som_intrusion_bay"
          ],
          [
           "919_nickel_calcium_excessive_ca"
          ],
          [
           "641_ims_papt_imsrelated_impurity"
          ],
          [
           "1009_cabbage_chinese_tmm_tmms"
          ],
          [
           "615_aflatoxins_aflatoxin_herbal_noncompliant"
          ],
          [
           "1373_mba_multimycotoxins_subtilis_devosia"
          ],
          [
           "252_microplastics_ps_mps_microplastic"
          ],
          [
           "1430_subsystems_soilfood_highpriority_physiologicalmolecular"
          ],
          [
           "1428_kimchi_reducedsodium_napa_counts"
          ],
          [
           "820_phyla_eighteen_illumina_chauvin"
          ],
          [
           "879_insectbased_metabarcoding_barcoding_declared"
          ],
          [
           "470_metabolites_discs_dd_degeneration"
          ],
          [
           "1429_melanocytes_chlortetracycline_phototoxic_melanin"
          ],
          [
           "642_plantcolonizing_xanthomonas_case_wilt"
          ],
          [
           "474_et_ions_tc_graphite"
          ],
          [
           "585____"
          ],
          [
           "201_zen_zea_zenpositive_zearalenone"
          ],
          [
           "1415_hydrometallurgical_parentmaterial_eluvial_illuvial"
          ],
          [
           "865_fbd_brazil_beset_13163"
          ],
          [
           "675_bss_foliage_abamplatanninns_azoxplatanninns"
          ],
          [
           "605_atrmir_polyvinyl_homogenized_fleshy"
          ],
          [
           "897_oshma3osnramp5osnramp1_accumulating_cd_lowcadmium"
          ],
          [
           "1416_daphnia_multigenerational_dichromate_monophyletic"
          ],
          [
           "851_balls_generaspeciesspecific_nigerians_micromorphological"
          ],
          [
           "1424_susceptible_great_diversity_caused"
          ],
          [
           "1410_enterotoxin_sweets_bacterium_foodpoisoning"
          ],
          [
           "1092_seta_monitoring_ontologies_cs"
          ],
          [
           "1409_tamale_tz_tuozaafi_hereby"
          ],
          [
           "903_diluent_rh_vbnc_survival"
          ],
          [
           "1411_sausage_algiers_daira_butchery"
          ],
          [
           "713_boards_hong_cutting_wooden"
          ],
          [
           "868_prtem_ready_farmtofork_qmras"
          ],
          [
           "1414_timeliness_anomalous_gps_meaning"
          ],
          [
           "915_daqu_baijiu_aromatype_fermentative"
          ],
          [
           "1413_communicable_arbaeenia_syndromes_diarrhea"
          ],
          [
           "1106_hms_nps_hhms_exsitu"
          ],
          [
           "327_preservatives_natural_nonthermal_antimicrobials"
          ],
          [
           "1102_lazio_sativus_micrornas_dysregulation"
          ],
          [
           "1412_contaminantsnamely_microwavebased_mae_purificationenrichment"
          ],
          [
           "911_describe_investigations_evaluation_aimed"
          ],
          [
           "1036_nonfood_microbialcontaminated_recall_recalled"
          ],
          [
           "1417_colonization_studied_distribution_we"
          ],
          [
           "590_peanuts_dalys_2017may_osmaniye"
          ],
          [
           "804_melanin_t4hn_microgravity_alternaria"
          ],
          [
           "1077_recalls_2021_july_january"
          ],
          [
           "587_nanoencapsulation_eosbioactive_eos_bioactive"
          ],
          [
           "647_agroproduction_seeds_fenugreek_phytopathogenic"
          ],
          [
           "1110_lda_prophylaxis_amu_cs"
          ],
          [
           "1423_czech_republic_service_facilities"
          ],
          [
           "1422_zoobenthos_carps_carp_periphyton"
          ],
          [
           "1063_cadmium_agronomic_genetics_cysteinerich"
          ],
          [
           "1064_inactivates_ubiquitinlike_cand1_cand1a"
          ],
          [
           "1066_ptes_sbri_ship_dismantling"
          ],
          [
           "1068_meteorological_pastured_gbm_rf"
          ],
          [
           "1421_terpenes_volatile_largest_represent"
          ],
          [
           "801_opes_ope_retardants_flame"
          ],
          [
           "1083_its1_issr_seedborne_khorramabad"
          ],
          [
           "1078_ultramafic_tms_tm_camg"
          ],
          [
           "1418_highprofile_spr_plasmon_resonance"
          ],
          [
           "846_governance_exhaustion_pandemicinduced_maximizing"
          ],
          [
           "582____"
          ],
          [
           "1081_fascioliasis_catarina_hepatica_santa"
          ],
          [
           "1419_forages_sulfide_metalcontaminated_meanwhile"
          ],
          [
           "1311_earthquakes_postdisaster_disasters_cascading"
          ],
          [
           "383_films_chitosan_curcuminvanillin_dye"
          ],
          [
           "717_nickel_drinks_nds_bioaccessibility"
          ],
          [
           "671_mc_pf_cellg_concentrationbased"
          ],
          [
           "205_pests_insecticides_sanguineus_pest"
          ],
          [
           "928_gso_ecommerce_smart_planet"
          ],
          [
           "996_sandyrelated_gasoline_njpies_acceleration"
          ],
          [
           "630_chilli_dried_maps_ebi"
          ],
          [
           "598_roasted_cs_mor_aof"
          ],
          [
           "878_histamine_histamineproducing_hrma_melting"
          ],
          [
           "705_multistate_barbados_solved_2016"
          ],
          [
           "929_ben_fluconazole_gattii_benadapted"
          ],
          [
           "876_text_posts_reviews_online"
          ],
          [
           "668_dysphagia_covid19_nutrition_coronavirus"
          ],
          [
           "262_formulae_infant_formulas_toddlers"
          ],
          [
           "654_streptomyces_surplus_consortia_oxylipins"
          ],
          [
           "455_ndma_ranitidine_nitrosamine_medications"
          ],
          [
           "1076_ppms_edcs_22bis4hydroxyphenylpropane_phthalatesphthalic"
          ],
          [
           "1091_sourcetracking_vital_providing_epidemiological"
          ],
          [
           "666_phenolic_scgs_extract_infeasibility"
          ],
          [
           "1094_ssa_abandon_valuechains_unwilling"
          ],
          [
           "639_tps_tyrosol_alcohol_stressinducible"
          ],
          [
           "1075_insecticide_insecticidal_imidacloprid_grave"
          ],
          [
           "952_bioaerosols_ima_innocuous_bioaerosol"
          ],
          [
           "450_azerbaijan_geoaccumulation_ni_neyriz"
          ],
          [
           "923_nd_neurotoxic_childrens_lac"
          ],
          [
           "368_aflatoxins_aflatoxin_afs_cerealbased"
          ],
          [
           "656_chromatography_multidimensional_ce_separation"
          ],
          [
           "1089_skipjack_algeria_350_consequent"
          ],
          [
           "817_atrftirplsr_screening_imagebased_srrcaf36"
          ],
          [
           "670_pef_lowmoisture_voltage_nonthermal"
          ],
          [
           "563_chitosan_chitin_insect_crustacean"
          ],
          [
           "651_phosphorescence_chemosensor_autofluorescence_phosphorescent"
          ],
          [
           "1004_xt4_cdcontaminated_cdresistant_greenhousebased"
          ],
          [
           "1000_polyphenols_lead_relieving_antiapoptosis"
          ],
          [
           "867_sakazakii_degs_acidic_differentially"
          ],
          [
           "1386_rising_inputs_meet_nutrients"
          ],
          [
           "973_purchase_uht_milk_infant"
          ],
          [
           "1388_sas_silicon_silica_551"
          ],
          [
           "1387_bt36_chromate_gut_crviinduced"
          ],
          [
           "665_lysozyme_preservatives_cheese_sensorial"
          ],
          [
           "1398_nac_nanoactivated_2949_4763"
          ],
          [
           "1397_maintaining_shelflife_improving_oxidative"
          ],
          [
           "1399_aircraft_aviation_onground_inflight"
          ],
          [
           "1274_informal_season_rainy_cucumbers"
          ],
          [
           "1401_creek_runoff_instance_toxinproducing"
          ],
          [
           "1400_thymol_twentyfive_planktonic_agent"
          ],
          [
           "1390_pressurestressed_cornerstone_subsurface_persisting"
          ],
          [
           "1391_paddies_mehg_bioaccumulator_hgcontamination"
          ],
          [
           "1389_monospecie_friction_fluorescens_professionals"
          ],
          [
           "1053_care_concerns_community_pathogens"
          ],
          [
           "1395_evaluates_posed_hazards_bacteria"
          ],
          [
           "1394_semiprocessed_prickly_pear_colorants"
          ],
          [
           "597_nts_resistome_aminoglycoside_amr"
          ],
          [
           "1393_urchins_hev_gonads_urchin"
          ],
          [
           "1392_vendors_exhaustive_kariobangi_korogocho"
          ],
          [
           "1012_tl_isotopic_urine_hair"
          ],
          [
           "1082_b1_corngrown_corn_anuradhapura"
          ],
          [
           "1073_regulators_moulds_buildingrelated_metabolities"
          ],
          [
           "1072_2years_virosphere_vircapseqvert_triplicates"
          ],
          [
           "1374_fbdb_foodhandling_campaigns_france"
          ],
          [
           "1034_cre_rootextract_fy_chicory"
          ],
          [
           "1023_particularities_monascus_produced_molds"
          ],
          [
           "1402_trfica_europium_microspherebased_timeresolved"
          ],
          [
           "1087_oily_ol_activity_effect"
          ],
          [
           "1085_silences_discourse_narratives_breast"
          ],
          [
           "1377_aa_spleen_splenic_aacontaining"
          ],
          [
           "1376_mgs_gatherings_interviews_communicable"
          ],
          [
           "1375_answer_requests_monitor_industry"
          ],
          [
           "1069_pets_rodents_amr_insects"
          ],
          [
           "1070_module_schemes_mills_optimization"
          ],
          [
           "1062_cinahl_articles_medline_readytoeat"
          ],
          [
           "1432_enterococcal_slovak_slovakia_salami"
          ],
          [
           "1033_cit_dhcit_citrinin_extraction"
          ],
          [
           "1407_plx_mic_74_broth"
          ],
          [
           "873_qatar_postpurchasing_fruits_rotting"
          ],
          [
           "1404_dec_eightythree_hundred_hygienic"
          ],
          [
           "662_fp_nanofibers_preservation_enf"
          ],
          [
           "1054_spores_hrf_hpp_arvo"
          ],
          [
           "1405_rtes_lmics_fastpaced_schoolaged"
          ],
          [
           "1382_sex_purge_rarity_recombination"
          ],
          [
           "1381_rational_enteropathogenic_causative_priority"
          ],
          [
           "1022_hydrogen_headspace_omptinpolythiophene_aided"
          ],
          [
           "1380_milks_ewi_augustamelillipriolo_chr"
          ],
          [
           "657_hulless_oat_oats_202"
          ],
          [
           "1383_forficatus_salivary_glands_cd1"
          ],
          [
           "611_nitrate_denitrification_biochar_nitrates"
          ],
          [
           "1385_inflammatory_gastroenterologist_macroscopic_ibd"
          ],
          [
           "1032_pmi_phosphomannose_gdpman_gdpmannose"
          ],
          [
           "1384_age_colombia_pathotypes_bucaramanga"
          ],
          [
           "1378_impressive_novel_numbers_antimicrobials"
          ],
          [
           "1001_spas_tamarind_antioxidants_26di"
          ],
          [
           "1100_bat_sap_bats_pteropus"
          ],
          [
           "1379_mozambique_horticultural_maputocity_farmersvendors"
          ],
          [
           "1088_grass_bivalves_shrimp_clams"
          ],
          [
           "154_ar_args_biotechnologies_antibiotic"
          ],
          [
           "461_fast_pandemic_covid19_lockdown"
          ],
          [
           "672_hvpef_uhph_detachedcells_psi"
          ],
          [
           "620_biofilmdispersed_planktonic_cutting_cut"
          ],
          [
           "459_au_paraquat_nanomaterials_inhibition"
          ],
          [
           "922_hydrogel_lrgpaammturea_enms_nicontaminated"
          ],
          [
           "1084_mdro_ams_split_amr"
          ],
          [
           "667_analogues_cultured_cellcultured_hydrolysates"
          ],
          [
           "1055_closely_emergence_enteric_part"
          ],
          [
           "981_biomarkers_qams_aflatoxigenic_early"
          ],
          [
           "1095_nts_supply_bow_moshi"
          ],
          [
           "1108_edc_pops_dehradun_fascinating"
          ],
          [
           "921_pcbs_pcb_china_smelters"
          ],
          [
           "1027_sesame_microbiomes_pine_aminivibrio"
          ],
          [
           "621_salmonellosis_eueea_disorder_billion"
          ],
          [
           "1067_asd_covid19_phobia_undiagnosed"
          ],
          [
           "1060_2year_stone_packinghouses_longitudinal"
          ],
          [
           "1010_monps_zh16_biogenic_pgpr"
          ],
          [
           "1046_opioids_apriljune_illicit_2020"
          ],
          [
           "1183_acoustic_paw_biofilms_plasma"
          ],
          [
           "1045_geomatics_ecozones_lakes_watershed"
          ],
          [
           "969_fullerol_coagulasepositive_carcinogenic_"
          ],
          [
           "1079_ptes_rice_wiley_paddy"
          ],
          [
           "649_methanol_abhs_2020_sanitizer"
          ],
          [
           "1030_containers_takeout_co_sb"
          ],
          [
           "1042_descriptors_md_cps_1545"
          ],
          [
           "978_midtrophic_trachurus_pilchardus_scomber"
          ],
          [
           "853_3d_printing_printed_ink"
          ],
          [
           "1041_curcumin_intelligent_smart_packaging"
          ],
          [
           "1071_postchill_prechill_serovars_serovar"
          ],
          [
           "1265_sth_endline_95ci_school"
          ],
          [
           "1272_formicidae_argentine_hymenoptera_ant"
          ],
          [
           "1260_internship_virtual_interns_experience"
          ],
          [
           "1264_xenobiotics_xenobioticinduced_nic_probioticxenobiotic"
          ],
          [
           "1269_didymium_putrescentiae_mite_tyrophagus"
          ],
          [
           "1280_finio_salcurb_nonformaldehyde_k2"
          ],
          [
           "1299_uas_min_cleaning_disaggregate"
          ],
          [
           "1276_cfuml_mag_105108_stecs"
          ],
          [
           "1258_norwegian_norway_requested_assessments"
          ],
          [
           "1282_paw_kumquats_kumquat_italicum"
          ],
          [
           "1207_bde47_ohmeopbdes_ohpbdes_cilia"
          ],
          [
           "1278_ethanol_bfrs_246tribromophenol_3355tetrabromobisphenol"
          ],
          [
           "1281_apple_fcs_washington_caramel"
          ],
          [
           "1178_isothermal_amplification_rca_displacement"
          ],
          [
           "1277_selenate_selenite_cytosol_shoots"
          ],
          [
           "648_rba_fellow_plantbased_riskbenefit"
          ],
          [
           "1275_anthrax_districts_occurred_six"
          ],
          [
           "1279_infants_later_mother_wean"
          ],
          [
           "1050_voles_moss_molve_uncultivated"
          ],
          [
           "1039_bioinoculants_nutrient_urea_fertility"
          ],
          [
           "1231_scombridae_necrosis_papillomalike_whitespotted"
          ],
          [
           "1052_rawmeatprocessing_networks_coexist_rdna"
          ],
          [
           "1056_vineyard_soybean_seeds_grassland"
          ],
          [
           "1254_ppcas12_crisprcas12_proximal_dually"
          ],
          [
           "1028_verbascoside_adjuvant_synthesisinhibiting_exponentialphase"
          ],
          [
           "1250_disinfect_nm_275_ultraviolet"
          ],
          [
           "1047_resonator_eggshells_cracked_duck"
          ],
          [
           "1240_kimchi_price_gradually_convenience"
          ],
          [
           "1099_da_infauna_blooms_domoic"
          ],
          [
           "1256_onehealth_humanderived_endophytes_argue"
          ],
          [
           "1242_glucose_pvagox_pvaglu_selfsustainably"
          ],
          [
           "1431_unhealthy_healthier_why_systems"
          ],
          [
           "619_afb2_oil_fb2_tahini"
          ],
          [
           "1246_litter_fecalderived_cuttingedge_stockpiling"
          ],
          [
           "1285_10403s_rhizobacteria_colonize_monocytogenes"
          ],
          [
           "1284_multipleuse_rpcs_crates_cauliflowers"
          ],
          [
           "645_mofs_metalorganic_agrochemicals_frameworks"
          ],
          [
           "1306_opes_remote_ope_bioaccumulationbiomagnification"
          ],
          [
           "1304_rnaibased_silencing_fungicides_sense"
          ],
          [
           "1086_afm_inspect_afb_regularly"
          ],
          [
           "1044_cyclolinopeptides_1mso_flaxseed_3msocyclolinopeptides"
          ],
          [
           "1295_petroleum_hydrocarbon_twoyears_tph"
          ],
          [
           "1297_hurdle_erade_nonthermal_inventions"
          ],
          [
           "1286_lowwater_activity_salmonella_contamination"
          ],
          [
           "1011_shopping_covid19_online_delivery"
          ],
          [
           "988_blockchain_supply_framework_origins"
          ],
          [
           "1166_natamycin_liposomes_biopolymerliposome_polyene"
          ],
          [
           "1037_microbiologically_guide_diarrheal_enteric"
          ],
          [
           "1144_cics_rccs_0543_thanh"
          ],
          [
           "1211_handwashing_customers_jimma_kebele"
          ],
          [
           "1236_amr_equitably_prioritization_themes"
          ],
          [
           "1237_hsds_sanitizertolerant_caenorhadbitis_alcoholresistant"
          ],
          [
           "1243_wwtp_pvz2_pvz1_psvc"
          ],
          [
           "1239_mra_kitbased_ssos_multiomics"
          ],
          [
           "1289_colostrum_igg4_iga_igg3"
          ],
          [
           "1288_tccs_tbcs_thematic_informant"
          ],
          [
           "1433_pitaya_undatus_extract_cholinergic"
          ],
          [
           "1257_spiders_endosymbionts_riparian_spider"
          ],
          [
           "1244_rutinosidase_tartary_buckwheat_alumflavonoid"
          ],
          [
           "1259_uncommon_pulsenet_subtype_subtyping"
          ],
          [
           "1287_apples_716_drying_participants"
          ],
          [
           "1247_hybrids_twotwo_jeopardized_hungary"
          ],
          [
           "1238_cz_yersiniosis_20182020_incidence"
          ],
          [
           "1253_lowwateractivity_involving_occurrence_disease"
          ],
          [
           "1255_fipronil_clearance_sulfone_vivo"
          ],
          [
           "1252_preclude_garlic_thyme_eo"
          ],
          [
           "1248_splashing_height_splashed_splash"
          ],
          [
           "1251_disinfectant_sds_precooling_bactericidal"
          ],
          [
           "1245_coliform_functional_3715_lutein"
          ],
          [
           "1249_chestnut_twentyeight_metalloids_performed"
          ],
          [
           "1301_phylogroups_phylogroup_mexico_correspondence"
          ],
          [
           "1305_hm_sdm_hms_carriers"
          ],
          [
           "1307_polio_poliovirus_vaccine_faecaloral"
          ],
          [
           "1308_chewing_dental_grit_ruminants"
          ],
          [
           "1303_biosolids_decisive_restore_columns"
          ],
          [
           "1302_epithelium_porcine_ipecj2_intestinal"
          ],
          [
           "1298_alternariol_aoh_ame_monomethyl"
          ],
          [
           "1263_groupalcl_ewh_omnipresent_hydrolysate"
          ],
          [
           "1262_cannabidiol_presentations_session_conference"
          ],
          [
           "1309_ebola_west_african_billion"
          ],
          [
           "1283_preserving_sn_18000_tuna"
          ],
          [
           "1261_ciprofloxacinresistant_cip_fresh_closely"
          ],
          [
           "1292_satisfactory_document_continuously_tomatoes"
          ],
          [
           "1221_toxicogenomic_nonlegislated_snvs_immunoassay"
          ],
          [
           "1290_additivegrade_fdcaoh_bcov_bovine"
          ],
          [
           "1291_pesticiderelated_andean_andes_peru"
          ],
          [
           "1300_docusate_isotopically_quechers_quantification"
          ],
          [
           "1293_attribution_experts_performancebased_cookes"
          ],
          [
           "1296_coldsmoked_supporting_salmon_capable"
          ],
          [
           "1294_postpick_mdm_postchill_drumstick"
          ],
          [
           "1273_baghdad_soft_percentage_cheese"
          ],
          [
           "1271_fhb_biomin_temporalgeographical_20102019"
          ],
          [
           "1270_fin_whale_whales_borneo"
          ],
          [
           "1267_thirdworld_underdeveloped_seriously_millions"
          ],
          [
           "1266_git_buffering_fat_intriguingly"
          ]
         ],
         "hovertemplate": "Count=%{x}<br>dov=%{y}<br>Name=%{customdata[0]}<extra></extra>",
         "legendgroup": "",
         "marker": {
          "color": "#636efa",
          "symbol": "circle"
         },
         "mode": "markers",
         "name": "",
         "showlegend": false,
         "type": "scattergl",
         "x": [
          9,
          19,
          13,
          12,
          12,
          22,
          8,
          29,
          9,
          23,
          8,
          18,
          13,
          8,
          5,
          6,
          7,
          11,
          17,
          7,
          7,
          39,
          5,
          23,
          19,
          5,
          5,
          9,
          4,
          4,
          15,
          6,
          8,
          7,
          23,
          3,
          5,
          11,
          34,
          9,
          9,
          12,
          9,
          5,
          7,
          7,
          15,
          15,
          8,
          22,
          12,
          9,
          13,
          4,
          5,
          15,
          9,
          19,
          7,
          6,
          6,
          12,
          3,
          7,
          4,
          12,
          13,
          3,
          12,
          14,
          10,
          11,
          7,
          17,
          14,
          11,
          15,
          3,
          5,
          4,
          11,
          11,
          15,
          6,
          5,
          5,
          5,
          15,
          6,
          17,
          9,
          2,
          4,
          14,
          6,
          11,
          4,
          2,
          6,
          2,
          4,
          4,
          11,
          10,
          6,
          2,
          7,
          15,
          16,
          9,
          16,
          9,
          10,
          1,
          9,
          9,
          7,
          5,
          22,
          24,
          1,
          3,
          6,
          5,
          11,
          7,
          4,
          4,
          8,
          9,
          6,
          20,
          2,
          10,
          9,
          1,
          5,
          1,
          11,
          7,
          3,
          4,
          8,
          13,
          10,
          6,
          5,
          5,
          10,
          5,
          3,
          4,
          17,
          2,
          3,
          10,
          9,
          23,
          4,
          12,
          1,
          3,
          2,
          11,
          8,
          2,
          8,
          11,
          4,
          4,
          10,
          3,
          4,
          2,
          4,
          16,
          5,
          4,
          6,
          9,
          10,
          5,
          3,
          1,
          2,
          10,
          13,
          10,
          4,
          3,
          4,
          2,
          7,
          3,
          11,
          10,
          3,
          4,
          3,
          7,
          2,
          8,
          5,
          12,
          3,
          14,
          19,
          1,
          2,
          7,
          5,
          8,
          19,
          15,
          3,
          9,
          8,
          6,
          12,
          5,
          8,
          12,
          2,
          7,
          4,
          4,
          1,
          4,
          3,
          6,
          2,
          5,
          3,
          9,
          10,
          5,
          3,
          13,
          9,
          2,
          8,
          3,
          4,
          17,
          4,
          11,
          5,
          9,
          8,
          4,
          5,
          5,
          2,
          13,
          2,
          3,
          7,
          7,
          8,
          2,
          12,
          14,
          13,
          4,
          10,
          8,
          33,
          13,
          8,
          4,
          10,
          10,
          2,
          3,
          5,
          5,
          3,
          18,
          5,
          4,
          3,
          17,
          6,
          2,
          16,
          10,
          3,
          8,
          5,
          5,
          18,
          4,
          3,
          28,
          2,
          10,
          14,
          4,
          2,
          6,
          6,
          6,
          12,
          3,
          8,
          1,
          4,
          2,
          4,
          11,
          11,
          11,
          11,
          7,
          10,
          11,
          7,
          7,
          5,
          26,
          9,
          11,
          7,
          5,
          18,
          10,
          7,
          15,
          8,
          9,
          2,
          15,
          3,
          5,
          13,
          5,
          5,
          9,
          6,
          3,
          8,
          3,
          4,
          3,
          3,
          7,
          15,
          11,
          10,
          15,
          13,
          8,
          7,
          5,
          6,
          3,
          12,
          4,
          3,
          6,
          8,
          4,
          23,
          5,
          22,
          6,
          6,
          5,
          8,
          3,
          3,
          13,
          4,
          8,
          18,
          13,
          1,
          5,
          3,
          7,
          2,
          5,
          5,
          12,
          2,
          6,
          6,
          2,
          5,
          11,
          2,
          1,
          1,
          8,
          5,
          7,
          5,
          19,
          3,
          4,
          3,
          2,
          10,
          8,
          4,
          4,
          2,
          6,
          7,
          9,
          4,
          16,
          4,
          6,
          2,
          7,
          11,
          7,
          5,
          5,
          6,
          7,
          8,
          3,
          5,
          3,
          4,
          1,
          11,
          3,
          3,
          5,
          4,
          3,
          7,
          3,
          7,
          7,
          3,
          2,
          2,
          4,
          3,
          1,
          2,
          14,
          4,
          13,
          8,
          3,
          3,
          2,
          4,
          4,
          4,
          3,
          9,
          8,
          7,
          8,
          2,
          2,
          2,
          4,
          2,
          6,
          3,
          7,
          13,
          11,
          3,
          3,
          15,
          2,
          4,
          3,
          4,
          1,
          5,
          3,
          2,
          10,
          2,
          4,
          9,
          6,
          6,
          1,
          6,
          6,
          3,
          1,
          6,
          5,
          2,
          3,
          5,
          5,
          4,
          6,
          6,
          11,
          2,
          2,
          3,
          19,
          10,
          8,
          3,
          6,
          3,
          6,
          8,
          5,
          15,
          1,
          1,
          2,
          3,
          5,
          6,
          5,
          4,
          2,
          4,
          8,
          12,
          5,
          3,
          12,
          18,
          4,
          6,
          8,
          12,
          4,
          6,
          5,
          4,
          18,
          7,
          5,
          7,
          3,
          2,
          2,
          6,
          2,
          12,
          4,
          2,
          7,
          8,
          5,
          6,
          7,
          3,
          11,
          6,
          7,
          6,
          8,
          6,
          7,
          5,
          6,
          2,
          5,
          3,
          4,
          7,
          10,
          4,
          13,
          5,
          7,
          3,
          3,
          4,
          3,
          5,
          2,
          4,
          7,
          7,
          15,
          2,
          3,
          6,
          1,
          5,
          3,
          5,
          11,
          2,
          14,
          9,
          4,
          3,
          3,
          6,
          26,
          2,
          1,
          3,
          5,
          4,
          12,
          3,
          10,
          4,
          3,
          11,
          8,
          3,
          3,
          1,
          6,
          6,
          1,
          2,
          3,
          2,
          2,
          1,
          3,
          4,
          12,
          4,
          10,
          8,
          7,
          1,
          2,
          5,
          3,
          7,
          1,
          1,
          6,
          4,
          5,
          1,
          3,
          1,
          5,
          4,
          1,
          7,
          3,
          7,
          4,
          3,
          6,
          5,
          1,
          5,
          1,
          6,
          1,
          2,
          5,
          3,
          2,
          5,
          3,
          3,
          8,
          2,
          8,
          5,
          6,
          2,
          1,
          16,
          6,
          5,
          5,
          3,
          3,
          2,
          10,
          4,
          3,
          6,
          9,
          3,
          16,
          3,
          7,
          2,
          7,
          6,
          6,
          1,
          4,
          9,
          1,
          7,
          6,
          4,
          5,
          11,
          19,
          12,
          9,
          5,
          15,
          15,
          7,
          10,
          4,
          2,
          5,
          3,
          3,
          3,
          16,
          10,
          12,
          3,
          6,
          6,
          5,
          6,
          7,
          2,
          2,
          3,
          2,
          5,
          5,
          4,
          9,
          4,
          8,
          7,
          8,
          3,
          5,
          4,
          3,
          10,
          4,
          1,
          4,
          3,
          3,
          2,
          2,
          11,
          4,
          12,
          3,
          1,
          2,
          1,
          2,
          4,
          3,
          3,
          2,
          2,
          4,
          3,
          5,
          4,
          9,
          8,
          10,
          3,
          3,
          11,
          1,
          2,
          6,
          2,
          5,
          6,
          5,
          4,
          5,
          4,
          1,
          1,
          9,
          4,
          14,
          6,
          4,
          11,
          1,
          3,
          1,
          3,
          3,
          2,
          3,
          3,
          12,
          16,
          3,
          5,
          6,
          23,
          2,
          4,
          4,
          7,
          6,
          13,
          9,
          10,
          5,
          2,
          2,
          3,
          7,
          2,
          6,
          2,
          5,
          3,
          6,
          4,
          12,
          4,
          1,
          2,
          5,
          1,
          5,
          2,
          6,
          3,
          4,
          2,
          2,
          1,
          15,
          6,
          14,
          5,
          8,
          9,
          12,
          11,
          11,
          7,
          3,
          4,
          5,
          3,
          8,
          3,
          10,
          8,
          2,
          3,
          3,
          2,
          3,
          7,
          5,
          3,
          4,
          4,
          2,
          2,
          5,
          5,
          13,
          8,
          5,
          5,
          3,
          2,
          4,
          7,
          7,
          3,
          4,
          4,
          3,
          4,
          4,
          5,
          5,
          3,
          5,
          3,
          4,
          1,
          2,
          7,
          2,
          4,
          2,
          2,
          3,
          6,
          3,
          7,
          22,
          10,
          3,
          6,
          1,
          6,
          5,
          5,
          1,
          9,
          3,
          4,
          2,
          9,
          6,
          2,
          8,
          2,
          2,
          1,
          2,
          5,
          13,
          1,
          3,
          2,
          3,
          4,
          3,
          3,
          4,
          3,
          5,
          1,
          3,
          5,
          3,
          2,
          1,
          5,
          16,
          2,
          5,
          3,
          2,
          7,
          4,
          2,
          1,
          2,
          3,
          1,
          3,
          4,
          7,
          6,
          3,
          4,
          4,
          2,
          4,
          8,
          1,
          5,
          2,
          4,
          1,
          4,
          12,
          2,
          16,
          2,
          7,
          5,
          3,
          5,
          3,
          3,
          7,
          5,
          2,
          2,
          6,
          4,
          4,
          1,
          3,
          3,
          3,
          3,
          3,
          7,
          7,
          6,
          2,
          18,
          9,
          7,
          8,
          7,
          8,
          3,
          7,
          6,
          3,
          5,
          14,
          10,
          15,
          12,
          16,
          3,
          2,
          4,
          3,
          5,
          2,
          8,
          5,
          8,
          7,
          3,
          9,
          6,
          5,
          2,
          14,
          6,
          5,
          3,
          10,
          4,
          4,
          2,
          3,
          2,
          2,
          2,
          3,
          5,
          1,
          5,
          5,
          3,
          5,
          2,
          6,
          2,
          5,
          8,
          5,
          3,
          11,
          2,
          1,
          3,
          3,
          2,
          4,
          3,
          2,
          2,
          6,
          1,
          2,
          2,
          11,
          3,
          1,
          5,
          2,
          2,
          1,
          4,
          3,
          4,
          1,
          1,
          1,
          4,
          4,
          4,
          7,
          3,
          2,
          2,
          3,
          9,
          2,
          3,
          12,
          9,
          6,
          3,
          5,
          2,
          1,
          4,
          5,
          11,
          1,
          23,
          4,
          12,
          15,
          4,
          3,
          6,
          3,
          6,
          7,
          6,
          8,
          3,
          4,
          2,
          5,
          3,
          2,
          6,
          5,
          3,
          2,
          3,
          3,
          4,
          3,
          3,
          2,
          4,
          4,
          4,
          2,
          4,
          2,
          2,
          3,
          3,
          4,
          3,
          2,
          1,
          3,
          1,
          1,
          6,
          3,
          2,
          2,
          3,
          4,
          3,
          5,
          1,
          9,
          1,
          1,
          3,
          3,
          6,
          1,
          4,
          6,
          5,
          10,
          1,
          3,
          4,
          5,
          3,
          1,
          3,
          1,
          1,
          2,
          1,
          3,
          1,
          4,
          3,
          1,
          3,
          1,
          2,
          7,
          2,
          1,
          3,
          2,
          1,
          5,
          3,
          2,
          5,
          4,
          2,
          1,
          1,
          2,
          2,
          2,
          2,
          1,
          3,
          2,
          2,
          1,
          3,
          5,
          2,
          1,
          1,
          7,
          4,
          4,
          10,
          3,
          3,
          5,
          5,
          3,
          4,
          3,
          3,
          4,
          8,
          4,
          6,
          2,
          2,
          4,
          2,
          5,
          2,
          3,
          6,
          3,
          7,
          4,
          2,
          3,
          4,
          5,
          4,
          3,
          3,
          3,
          1,
          3,
          1,
          1,
          4,
          1,
          1,
          1,
          1,
          1,
          1,
          1,
          1,
          1,
          2,
          1,
          1,
          5,
          1,
          1,
          3,
          2,
          2,
          2,
          1,
          2,
          2,
          1,
          2,
          2,
          1,
          1,
          1,
          2,
          2,
          2,
          1,
          2,
          1,
          3,
          1,
          4,
          2,
          1,
          1,
          1,
          2,
          1,
          4,
          1,
          5,
          1,
          2,
          1,
          1,
          3,
          2,
          1,
          2,
          11,
          6,
          4,
          5,
          6,
          3,
          2,
          4,
          2,
          3,
          2,
          2,
          3,
          2,
          5,
          2,
          2,
          3,
          2,
          2,
          2,
          3,
          2,
          4,
          2,
          2,
          3,
          3,
          2,
          2,
          1,
          1,
          1,
          1,
          1,
          1,
          1,
          1,
          1,
          1,
          2,
          1,
          1,
          2,
          1,
          4,
          1,
          1,
          2,
          2,
          2,
          2,
          2,
          1,
          2,
          1,
          2,
          1,
          2,
          1,
          1,
          1,
          5,
          1,
          1,
          1,
          4,
          1,
          1,
          2,
          2,
          1,
          1,
          1,
          3,
          3,
          2,
          2,
          2,
          2,
          1,
          1,
          1,
          1,
          1,
          1,
          1,
          1,
          1,
          1,
          1,
          1,
          1,
          1,
          1,
          1,
          1,
          1,
          1,
          1,
          1,
          1,
          1,
          1,
          1,
          1,
          1,
          1,
          1,
          1,
          1,
          1,
          1,
          2,
          1,
          1,
          1,
          1,
          1,
          1,
          1,
          1,
          1,
          1,
          1
         ],
         "xaxis": "x",
         "y": [
          0.0014561215362701573,
          0.0018457636749969254,
          0.0017561236011167927,
          0.0016792342082276902,
          0.001974701200401428,
          0.002034331801677383,
          0.0025947836910328705,
          0.0030325419694313266,
          0.0017878861399240782,
          0.002653793143493401,
          0.0012152291217567676,
          0.001957431590493313,
          0.0014677114670163089,
          0.0016215617781676552,
          0.0015182590987501514,
          0.001396397827471439,
          0.0016236564758593005,
          0.0016243978738907298,
          0.002112249827812475,
          0.0011730303355981498,
          0.0012305395135343267,
          0.0030267687916065156,
          0.001345115267804509,
          0.002415690604242299,
          0.00280750916066309,
          0.0017446560013829877,
          0.001416397112764208,
          0.0017121092350037572,
          0.0017948311497292355,
          0.0011241951334033113,
          0.002301699785582592,
          0.0013286341882602856,
          0.0012936233811062033,
          0.0014331724456184342,
          0.00249310179892519,
          0.0014830380179619593,
          0.0012493964913327233,
          0.0018895880393644292,
          0.0035203720825606037,
          0.0017210802242082423,
          0.0012630445222292738,
          0.0014243324076115512,
          0.0015361201908027284,
          0.0010937644090551518,
          0.0013463136873483504,
          0.001509249148648073,
          0.0015418013451548665,
          0.0014404232797744431,
          0.001961730659024378,
          0.003157941053199759,
          0.002679574448473089,
          0.0017397710437638558,
          0.0013336514897330787,
          0.0012069808029610072,
          0.001737602660767782,
          0.001771105395553018,
          0.001358395184170485,
          0.0023944404412232305,
          0.0015261870550994264,
          0.0010852833362199952,
          0.0011341680102558952,
          0.0018362344351906918,
          0.0013877818777676206,
          0.0012244219948410477,
          0.0020822684571378956,
          0.0016616455369015584,
          0.0015175991235486198,
          0.001623546350666068,
          0.001690351041002523,
          0.0021191303077252093,
          0.0015227435753487305,
          0.001726858734158196,
          0.0012023313492515433,
          0.0018331445936894677,
          0.0015849774369484206,
          0.0013399639062549665,
          0.001850395599299067,
          0.0016137107353073237,
          0.0010937644090551518,
          0.002282131607618675,
          0.001430806833184117,
          0.001549317739815504,
          0.0013691732468359928,
          0.001461418326737219,
          0.0015009148102922323,
          0.0016414113993476168,
          0.0025502476137401163,
          0.0015956274695080662,
          0.0016734282923792506,
          0.0015971803526449045,
          0.0017169020255022567,
          0.002183406113537117,
          0.0017948311497292355,
          0.0020603129622537445,
          0.0011223227883806117,
          0.001441668033716999,
          0.001379136145802759,
          0.002183406113537117,
          0.0013326770698722213,
          0.002183406113537117,
          0.0012250753387965643,
          0.0012472039862668797,
          0.001369505242704018,
          0.002018650281048902,
          0.0012691221988228869,
          0.002183406113537117,
          0.0016630537426433813,
          0.0015956274695080662,
          0.001959227958602477,
          0.001618286528968138,
          0.002171897169153129,
          0.0012097707922903108,
          0.001302021220699751,
          0.0010917030567685585,
          0.001570647085725006,
          0.0012678420457364486,
          0.0011834681040843013,
          0.001183029371912604,
          0.0017704080492707925,
          0.0030558434409371825,
          0.0010917030567685585,
          0.0013307487978874036,
          0.0014566186505354862,
          0.0017214674939982182,
          0.001479853914191832,
          0.0014342961085809498,
          0.0011241951334033113,
          0.001247203986266881,
          0.0010233739856613856,
          0.0014063305846704944,
          0.001197275659076502,
          0.001860643064730843,
          0.001076150936512243,
          0.0011823919492767129,
          0.0013218028739387187,
          0.0010917030567685585,
          0.0012617878747396257,
          0.0010917030567685585,
          0.0011220111029697252,
          0.0011980320036596185,
          0.00126913727705839,
          0.001007177652965079,
          0.001182151360775671,
          0.0012994268515480357,
          0.0014383407494672497,
          0.0011344427837587765,
          0.0012869169980953203,
          0.0009878052109022187,
          0.001519416328324365,
          0.0011572308313465049,
          0.0009488764867220501,
          0.001169433079838327,
          0.0016371752430639902,
          0.0008974155748646178,
          0.0008676574152130498,
          0.0014808291088522696,
          0.0015891994916708506,
          0.0020214693184400128,
          0.0012805115862567574,
          0.002142752782998408,
          0.0010917030567685585,
          0.0010114703098250005,
          0.0009813099765772857,
          0.0015591470806138948,
          0.002203794800482634,
          0.0009813099765772857,
          0.0012173860510143262,
          0.0013938856128622172,
          0.0010893760450854156,
          0.0010625967208529427,
          0.001757169260646493,
          0.0010476553448494441,
          0.0034394616185642927,
          0.001148020634126649,
          0.0013847343859589927,
          0.0014016505073429406,
          0.001142357520281976,
          0.0009418029133502431,
          0.0010409860725492034,
          0.0019107541371638523,
          0.0011948134585943065,
          0.0010849985888858383,
          0.001052702063503852,
          0.0010917030567685585,
          0.0009409814990420286,
          0.0012097968668626947,
          0.0019301735247224542,
          0.0012681492107260192,
          0.0010893760450854156,
          0.0010476553448494441,
          0.0009423449932384661,
          0.0009813099765772857,
          0.001325801683471038,
          0.0010340243867877309,
          0.0015008431421203111,
          0.0012195971787266056,
          0.0025804663475681136,
          0.0009006451688003294,
          0.0010990644104839223,
          0.0011634268069647855,
          0.0009409814990420286,
          0.001219070282196097,
          0.0012216536494156422,
          0.0015188314882564633,
          0.0010514834223162282,
          0.0018036223190635353,
          0.0020085195867897312,
          0.0010917030567685585,
          0.0008974155748646178,
          0.0012425016977390486,
          0.001167251680051764,
          0.001230664377129818,
          0.0021426977514485057,
          0.0014787888994760136,
          0.002740983816350552,
          0.0013583951841704826,
          0.00145031927353174,
          0.000994222223950883,
          0.001504453696554678,
          0.0008873189236199039,
          0.0014258843707232699,
          0.0015831466116676288,
          0.0010486662392583592,
          0.0017070214770511986,
          0.0010035541246284966,
          0.001408825090961614,
          0.0010917030567685585,
          0.0009785601071629125,
          0.0010937954278770836,
          0.0017491530923040898,
          0.001148020634126649,
          0.0011206433707463754,
          0.0010340243867877309,
          0.0017556356250123901,
          0.001195368375663485,
          0.0016710603630151065,
          0.0009579812981628618,
          0.0014800562078219482,
          0.0013840647234266048,
          0.0010208812968280994,
          0.0012190702821961003,
          0.0009793426606445337,
          0.0012412248133920841,
          0.0017644910587258664,
          0.0012069808029610072,
          0.0013938856128622172,
          0.0009541827870876114,
          0.0015095969607700987,
          0.0012549279645429506,
          0.0009317174709549925,
          0.0010026339001256866,
          0.0013282009158580843,
          0.001148020634126649,
          0.001372357997471353,
          0.0009813099765772857,
          0.0010990644104839223,
          0.0013907866610110451,
          0.0014025989982810623,
          0.0014191051705147162,
          0.001076150936512243,
          0.00126511241217014,
          0.001615912709361479,
          0.0014271792720793022,
          0.0019467922364914236,
          0.001135509552552573,
          0.001279928277251896,
          0.0036162831083352037,
          0.0018582395363301806,
          0.0015996376660046847,
          0.0009197425707065742,
          0.001413283008864979,
          0.0014385213326056298,
          0.0009409814990420286,
          0.0014830380179619593,
          0.0013386667022039411,
          0.0012326408384009508,
          0.00126913727705839,
          0.002065796838659365,
          0.0012636475808168793,
          0.0011750664207725527,
          0.0009899064599094896,
          0.0018782846223154381,
          0.0009201329585683643,
          0.0009409814990420286,
          0.0020649837704601933,
          0.001597830572916742,
          0.0009161031810020829,
          0.0013466073362729467,
          0.0012333386209794947,
          0.0010000491764296977,
          0.0019565767522089048,
          0.0013725244820136492,
          0.0009281796505708854,
          0.0026268556322738067,
          0.0008974155748646178,
          0.0014686768215483542,
          0.0015044806818309848,
          0.001319963022010688,
          0.001148020634126649,
          0.0012691221988228869,
          0.0011642315586858315,
          0.0013761871383377758,
          0.0014349370420697059,
          0.0016137107353073237,
          0.0013513488219822282,
          0.0010917030567685585,
          0.001169433079838327,
          0.001148020634126649,
          0.0016996787374060818,
          0.0014657952902119085,
          0.0013502613967840793,
          0.0015627206664848643,
          0.0016041082987920527,
          0.001507413596609224,
          0.0013497678142592453,
          0.00177329689682689,
          0.0012059928879394638,
          0.0023341316618068265,
          0.0015700350128674493,
          0.002575597354781808,
          0.0016178421139878122,
          0.0025259921377013554,
          0.0012290788333830212,
          0.002402058791566974,
          0.0021040052049942823,
          0.0014814940772369246,
          0.002062191620846476,
          0.0015586218650460266,
          0.001613228044582881,
          0.002186125900372706,
          0.0020146520146520144,
          0.0028548165963820167,
          0.0014619110407523314,
          0.0016616171025349788,
          0.0018194953208987776,
          0.001167898571030752,
          0.0012527680837489963,
          0.0011637753026630781,
          0.001270230058152795,
          0.0012782883849467995,
          0.001384045047510927,
          0.0014619110407523314,
          0.0017240758100115288,
          0.0012782883849467995,
          0.0012191056965388406,
          0.0016129703487348641,
          0.0018353590045178097,
          0.002451545370861103,
          0.002036817485096612,
          0.002356195153067658,
          0.0015427408872948595,
          0.001200959592351431,
          0.0013018696028477572,
          0.0016190500345541659,
          0.0014999418282255904,
          0.0013330731224452392,
          0.0019341950678575034,
          0.0020001818429789633,
          0.0013330731224452392,
          0.0010243727645568457,
          0.0012593188056277424,
          0.0012102261290030064,
          0.0021792085902609714,
          0.0012044351751467927,
          0.002285113594679781,
          0.0013563409841616805,
          0.0013061447387780207,
          0.001624965958130887,
          0.0011687734595541657,
          0.0013330731224452392,
          0.0014619110407523314,
          0.002175439923474997,
          0.0012541539463640677,
          0.0017118134730662847,
          0.002439783132487324,
          0.002553742266104519,
          0.001007326007326007,
          0.001365259028711798,
          0.0015595433531661914,
          0.0010124090391469055,
          0.0009038863853078816,
          0.0011794264571180872,
          0.0011405422714432527,
          0.0012811217623306692,
          0.0009038863853078816,
          0.0009564339811535861,
          0.001302182347088158,
          0.0010337272104074568,
          0.00090598214204577,
          0.0012258934698207516,
          0.0008620379050057643,
          0.001007326007326007,
          0.001007326007326007,
          0.0011793412639213249,
          0.001502661996234297,
          0.0011372377722797835,
          0.0011405422714432527,
          0.0017075698853248468,
          0.001060551936739264,
          0.0013715519161930081,
          0.0009237721360469293,
          0.0011027636805782197,
          0.0012307160290009858,
          0.0013754662325087578,
          0.000870941699037427,
          0.0008538951909329576,
          0.0010000909214894816,
          0.0012017964946994144,
          0.0012156867614779617,
          0.0012479558361669077,
          0.0009161190292755637,
          0.0017374179713129676,
          0.0010944523910641937,
          0.0012104349149316643,
          0.0010960830216679835,
          0.0009724839113531139,
          0.0016956097883772012,
          0.001161227833747061,
          0.0013408806388361862,
          0.0010154582365240806,
          0.0011770928339035665,
          0.001430313040120029,
          0.0014548639268974388,
          0.0009644562439125256,
          0.00220552736115644,
          0.0010648569681591799,
          0.0010642576683261762,
          0.001007326007326007,
          0.0014317625938306674,
          0.0008918659111020569,
          0.0010648569681591799,
          0.0009129080254125993,
          0.0009350705095897949,
          0.0009605571151493874,
          0.0009793769620963,
          0.0010195259109384582,
          0.0012814447128957581,
          0.0013630974233063066,
          0.0010886014772968898,
          0.0010000909214894816,
          0.0011027636805782197,
          0.0009579838993602629,
          0.0012191056965388406,
          0.001007326007326007,
          0.0009426250446985534,
          0.0016595960255933748,
          0.0018984714828425638,
          0.0018174524219894124,
          0.0018243343251864933,
          0.0008686674384522057,
          0.001414342144776631,
          0.0011027636805782197,
          0.000870941699037427,
          0.002057492325148393,
          0.0010113840498884189,
          0.0008447018711330977,
          0.0012238270523848098,
          0.0013010481031551658,
          0.0011372377722797835,
          0.0018107424772356,
          0.0009806363952509101,
          0.0010337272104074568,
          0.0008620379050057643,
          0.0017904680495921576,
          0.0010960830216679835,
          0.0013297939976016288,
          0.0010236644080058464,
          0.000954686027223013,
          0.001369910591375515,
          0.0014382649187565672,
          0.0013868292899205,
          0.0008965582900340674,
          0.002124719809345338,
          0.0009426250446985534,
          0.0009107420523936737,
          0.0009205016106302808,
          0.0012490836202020059,
          0.001007326007326007,
          0.0012899991724907548,
          0.0009205016106302808,
          0.0009038863853078816,
          0.0012633695887882697,
          0.0009806363952509101,
          0.0011295926620716742,
          0.0015894651915209816,
          0.000986303684954347,
          0.0014366812742648226,
          0.001007326007326007,
          0.0010643981125848414,
          0.002000017335918275,
          0.0010467531821745743,
          0.001007326007326007,
          0.0011241324346325428,
          0.0011185576528098206,
          0.0011027636805782197,
          0.002264423137878167,
          0.001155304929664606,
          0.0012612957064440013,
          0.0017904680495921576,
          0.0012017964946994144,
          0.0011333433160972154,
          0.0016683099372845499,
          0.0009426250446985534,
          0.0010000909214894816,
          0.0008686674384522057,
          0.001755199984420594,
          0.0013007041125352571,
          0.0013909600829204193,
          0.0010066672848089233,
          0.001694712194253547,
          0.0010066672848089233,
          0.001534925164839792,
          0.0013010481031551658,
          0.0019612727905018203,
          0.001712150456116315,
          0.001007326007326007,
          0.001007326007326007,
          0.0010960830216679835,
          0.0009804826945208128,
          0.0009612131042316936,
          0.0014344119015068139,
          0.00222785103902539,
          0.0018318457636061145,
          0.0008620379050057643,
          0.0009313976458041794,
          0.00115879562653753,
          0.0018014554189984783,
          0.0026818069845586075,
          0.0036217303822937636,
          0.0021019904566368826,
          0.0020565457198133802,
          0.0017873598959265197,
          0.0013258659849695324,
          0.0017782881501180764,
          0.002171891395291165,
          0.0023998597046103994,
          0.0013512067958310716,
          0.0011175863539367855,
          0.002263332456369019,
          0.0035301559637322265,
          0.0022464678726993076,
          0.001607625113425569,
          0.0016389429495210202,
          0.0016969570710263582,
          0.0024144869215291754,
          0.0024144869215291754,
          0.0014331472916351586,
          0.0024144869215291754,
          0.001539566822552942,
          0.0012668530535364043,
          0.0024144869215291754,
          0.0014564502864613618,
          0.0012113613024324057,
          0.0012340338406951607,
          0.0014570486703841979,
          0.0011946200762539742,
          0.0013346081359477456,
          0.0019387316103059173,
          0.0013917847581291444,
          0.0019196651623257322,
          0.0020110038698728148,
          0.0010360516415221957,
          0.001378181251057575,
          0.0018480868644944136,
          0.001211867515749169,
          0.0014175207065006067,
          0.0024144869215291754,
          0.0015961348292741135,
          0.00145937324391134,
          0.0013267826536350075,
          0.00173681449413894,
          0.0014547685541612097,
          0.0014193305309700664,
          0.001539566822552942,
          0.0011332065932629085,
          0.0014564502864613618,
          0.0009598325811628668,
          0.0009473442779012832,
          0.0013472170125406265,
          0.0009906505292977118,
          0.000978171164879443,
          0.0010948431168000992,
          0.0009554474881174966,
          0.0012887250958651983,
          0.0014208678568226397,
          0.001876225251487882,
          0.001031932717051917,
          0.0015182224631985102,
          0.0009647178143873697,
          0.0012072434607645875,
          0.0016603637693969663,
          0.0009473442779012832,
          0.0015618774602835905,
          0.001261316812859515,
          0.0010948431168000992,
          0.0021357296924474213,
          0.0014479469467838018,
          0.0032165052291040818,
          0.0009227027482191703,
          0.0016004177279781374,
          0.0011655809523466356,
          0.002630478411961684,
          0.001031932717051917,
          0.0012072434607645875,
          0.0010055019349364063,
          0.001205128420066574,
          0.0009623151707481344,
          0.0015614744046423277,
          0.0009473442779012832,
          0.0013493557839514571,
          0.001193578997225286,
          0.0010055019349364063,
          0.0015683704588090102,
          0.00162026296850188,
          0.001069286851468223,
          0.001012740360372255,
          0.0012072434607645875,
          0.0013476173434762448,
          0.0011747759108921934,
          0.0012072434607645875,
          0.001031932717051917,
          0.0009906505292977118,
          0.0011316662281845094,
          0.001031932717051917,
          0.0012072434607645875,
          0.0009227027482191703,
          0.0009838424885007598,
          0.0023637529397502652,
          0.0010302889953475091,
          0.0014342709174838494,
          0.001963577801413483,
          0.002126717160282114,
          0.0012072434607645875,
          0.0010948431168000992,
          0.0011362249508808054,
          0.001111866285238666,
          0.0013752955083439662,
          0.0012072434607645875,
          0.0012072434607645875,
          0.001217531138773007,
          0.0012759728981111247,
          0.0012482609934285703,
          0.0012072434607645875,
          0.0009906505292977118,
          0.0012072434607645875,
          0.0014101757516636205,
          0.0012668530535364043,
          0.0012072434607645875,
          0.0015312227630483902,
          0.0015182224631985102,
          0.0012789223895431794,
          0.0009305888672119955,
          0.0009523285454639858,
          0.001079072437065114,
          0.0018874209263107773,
          0.0012072434607645875,
          0.0011066629020308279,
          0.0012072434607645875,
          0.0011502595730305872,
          0.0012072434607645875,
          0.004343176150520111,
          0.0010624739000219677,
          0.0009227027482191703,
          0.0009437104631553886,
          0.001186704473673597,
          0.0009227027482191703,
          0.0013993980041935989,
          0.0013722581164393704,
          0.001031932717051917,
          0.0010635403338134794,
          0.0009053527201320312,
          0.0011183445974140476,
          0.0011999298523051997,
          0.0012072434607645875,
          0.0017107182529871633,
          0.0011448554213001423,
          0.0011933493192474488,
          0.001198417985729501,
          0.0009906505292977118,
          0.0014593732439113387,
          0.0009437104631553886,
          0.0018088016419391768,
          0.001130459634964111,
          0.0016004177279781374,
          0.0012917609828498784,
          0.002092119995401534,
          0.0015182224631985102,
          0.0019196105889864611,
          0.001045963631773019,
          0.0010319801143047454,
          0.001031932717051917,
          0.0011968709072478884,
          0.0013014456149852052,
          0.0011692565764562257,
          0.0012072434607645875,
          0.001029113757610936,
          0.0015792806302875185,
          0.0012072434607645875,
          0.0010319801143047454,
          0.0016465523095406944,
          0.0018481705206474085,
          0.002409144634429138,
          0.0013359551130440585,
          0.0027793007412081037,
          0.002686096282278023,
          0.0015754466728734248,
          0.001454719299506784,
          0.001681298107870529,
          0.0020603406147058577,
          0.0015315111387594932,
          0.0016687506762085628,
          0.0011578326982131125,
          0.00238532110091743,
          0.001712810064060549,
          0.0015090249110800249,
          0.0014505322065821206,
          0.0015090249110800249,
          0.0018563036102594724,
          0.001644468603603278,
          0.0015755929285510423,
          0.0015907222282597275,
          0.001837944843146671,
          0.0013567906073799832,
          0.0015056156843389482,
          0.0012974974788127545,
          0.001560309840947412,
          0.00238532110091743,
          0.00238532110091743,
          0.0013909203032044057,
          0.00238532110091743,
          0.0010592507214360473,
          0.0010803967897115878,
          0.002051362319207405,
          0.0014836949954704494,
          0.002134083495208225,
          0.0024625617065123892,
          0.0016135050438651404,
          0.0017814402690209657,
          0.0015090249110800249,
          0.0011327780370974253,
          0.0012430954362461324,
          0.001390920303204407,
          0.0015473902420642784,
          0.0009593958391286007,
          0.0011926605504587158,
          0.0011578326982131125,
          0.0015090249110800249,
          0.000977268260863593,
          0.0010670417476041133,
          0.000983529178485884,
          0.0018887822193016843,
          0.0012430954362461324,
          0.0018038999508978408,
          0.0015090249110800249,
          0.0011926605504587158,
          0.0010882104415022254,
          0.0011926605504587158,
          0.0010882104415022254,
          0.0009085017875200957,
          0.0015389619650884622,
          0.0015389619650884622,
          0.0010256811596037042,
          0.0010670417476041133,
          0.0009525489906733637,
          0.001590722228259729,
          0.0015896819339126559,
          0.0009085017875200957,
          0.0019897365354440864,
          0.0018699355104298653,
          0.0012975825388955565,
          0.0009435143298389693,
          0.0013265229388269813,
          0.0017597361390563882,
          0.0011926605504587158,
          0.0010670417476041133,
          0.0010623030114940194,
          0.000983529178485884,
          0.0015056156843389482,
          0.0017370803285571832,
          0.0011033056692860194,
          0.0009785484811867336,
          0.0010113099949468369,
          0.0012269216231295549,
          0.0011926605504587158,
          0.0011926605504587158,
          0.0012505489361277907,
          0.0009369234081750824,
          0.0020938938207496274,
          0.001059564464786408,
          0.0013068694341427827,
          0.0014726362264570138,
          0.0011926605504587158,
          0.000977268260863593,
          0.0011926605504587158,
          0.0009189724215733361,
          0.0010372629572716688,
          0.0010882104415022254,
          0.0009189724215733361,
          0.0008936189957872126,
          0.001652978275163526,
          0.0020377767415346096,
          0.0013265229388269813,
          0.0011033056692860174,
          0.00108494466573609,
          0.0027554348079738083,
          0.0010882104415022254,
          0.0017765318807997765,
          0.001922127182700156,
          0.0014663643788445319,
          0.0009337973600580228,
          0.001562975051212755,
          0.0017691537561911987,
          0.0017769294204657722,
          0.0011636968162023705,
          0.0010256811596037042,
          0.0010256811596037042,
          0.002542620792353689,
          0.001954536521727186,
          0.0010882104415022254,
          0.001343529138238057,
          0.0010670417476041133,
          0.001166796386193392,
          0.0015389619650884622,
          0.0013250097907460247,
          0.0017765318807997765,
          0.001768543265883167,
          0.0012269216231295549,
          0.0011926605504587158,
          0.0010256811596037042,
          0.0012888216126926463,
          0.0011926605504587158,
          0.0011033056692860185,
          0.0009379933654440662,
          0.001315149807162132,
          0.0008936189957872126,
          0.0011887535650415726,
          0.0009379933654440662,
          0.000983529178485884,
          0.0011926605504587158,
          0.00297757083182828,
          0.0025382142415330453,
          0.0037792976464503096,
          0.0012468290703957655,
          0.0022936439175681284,
          0.0017874830390155567,
          0.0016350256778903012,
          0.0019293303903834087,
          0.0015281853585513198,
          0.0014309082362223401,
          0.0012691071207665224,
          0.0010892055187630598,
          0.0013344523743082104,
          0.0013234983686941084,
          0.0017356166150169065,
          0.0014514109129006893,
          0.0013614583770142077,
          0.0012458646779076354,
          0.001985815602836879,
          0.0012103495100668279,
          0.0012691071207665224,
          0.001985815602836879,
          0.0012103495100668279,
          0.0018321773382100107,
          0.0014163746757619696,
          0.0014514109129006893,
          0.0012622408917799355,
          0.0011241773251428344,
          0.001985815602836879,
          0.001985815602836879,
          0.0014954581418954705,
          0.001408961697975411,
          0.0022154096642462576,
          0.0017016462554316019,
          0.0013344523743082104,
          0.0014542001170334325,
          0.0013234983686941084,
          0.001985815602836879,
          0.0011241773251428344,
          0.0014524716605126946,
          0.0015302339571664325,
          0.0013234983686941084,
          0.0011541993977755751,
          0.0019471860133463386,
          0.0013234983686941084,
          0.0017947885022922857,
          0.0012294085338649462,
          0.0010538865621179663,
          0.0010791643946423631,
          0.0012103495100668279,
          0.0011079918817597431,
          0.0013234983686941084,
          0.002930480680462943,
          0.0009929078014184393,
          0.0010263024988002348,
          0.0010099793479214096,
          0.0009358546713929375,
          0.0012294085338649462,
          0.0010263024988002348,
          0.0009358546713929375,
          0.0012103495100668279,
          0.0012532893980764432,
          0.0013234983686941084,
          0.0013869927170032973,
          0.002923250577575659,
          0.0015520121758436634,
          0.0008922601342652662,
          0.0013724330205471741,
          0.0009929078014184393,
          0.0012032456063963816,
          0.0014163746757619696,
          0.0010820388079143092,
          0.0009929078014184393,
          0.0014849220688783922,
          0.0010018412597243749,
          0.0011241773251428344,
          0.0008558463461740686,
          0.0015158792897265393,
          0.0015062236728968868,
          0.0008558463461740686,
          0.0016934822533075686,
          0.0010263024988002348,
          0.0008973942511461428,
          0.0009929078014184393,
          0.0009735930066731692,
          0.001408961697975411,
          0.002255351242760773,
          0.0009929078014184393,
          0.0012691071207665224,
          0.0010263024988002348,
          0.0013234983686941084,
          0.0009503062728829642,
          0.0013234983686941084,
          0.0008406523182365531,
          0.0012622408917799355,
          0.0009757821999779499,
          0.0014073214586318148,
          0.0009929078014184393,
          0.0009160886691050054,
          0.0011036398000551712,
          0.0012691071207665224,
          0.0009358546713929375,
          0.0009929078014184393,
          0.001459366863499409,
          0.003067950695879101,
          0.0009358546713929375,
          0.0011079918817597431,
          0.0013768684342687952,
          0.0009358546713929375,
          0.0011488216761342666,
          0.0011541993977755751,
          0.0009358546713929375,
          0.0009929078014184393,
          0.0009358546713929375,
          0.0013234983686941084,
          0.0009929078014184393,
          0.0012103495100668279,
          0.0011869459138096386,
          0.0014309082362223401,
          0.0010377038109946196,
          0.0009193435154209822,
          0.0008862094321690586,
          0.0008508231277158001,
          0.0009358546713929375,
          0.0009074654709242092,
          0.0013145821000227584,
          0.0009929078014184393,
          0.0011036398000551701,
          0.0008973942511461428,
          0.0008508231277158001,
          0.0009929078014184393,
          0.0016863125534516737,
          0.0016350256778903012,
          0.0008558463461740686,
          0.0017599709467828798,
          0.0008973942511461428,
          0.0013869927170032973,
          0.001408961697975411,
          0.0008645029931470243,
          0.0013344523743082104,
          0.0008645029931470243,
          0.0013768684342687952,
          0.001331610157557725,
          0.0014449051263537114,
          0.0009358546713929375,
          0.0009358546713929375,
          0.0019110008540436214,
          0.00186665204036043,
          0.0010591555513891576,
          0.0009929078014184393,
          0.0009420795961053892,
          0.0009160886691050054,
          0.0010018412597243749,
          0.0012691071207665224,
          0.0008922601342652662,
          0.0011920086606636738,
          0.0011488216761342644,
          0.0010001073572854823,
          0.0009735930066731692,
          0.0026401551959103126,
          0.0026173426340667747,
          0.0030644524517883594,
          0.0020233509864858844,
          0.0017675598950989903,
          0.0015979896720878992,
          0.0031824611032531826,
          0.0017876187186170692,
          0.0011857685116053412,
          0.0031824611032531826,
          0.0013890109141609932,
          0.002198069676393852,
          0.0015726848725173162,
          0.002524919021442483,
          0.001913530794948797,
          0.0027382034033144884,
          0.0012510574746503918,
          0.002121640735502121,
          0.001934660975354094,
          0.0012510574746503918,
          0.002206807006156016,
          0.002121640735502121,
          0.0016769299109472338,
          0.0010492151040083356,
          0.001717151652990219,
          0.002143811893932785,
          0.00131179129363991,
          0.0019528093480669446,
          0.0012477340668550323,
          0.0014866263198000335,
          0.002121640735502121,
          0.002383744515174792,
          0.0018147640241687856,
          0.001440379160519787,
          0.0013680118949698612,
          0.001994216981459331,
          0.0020126761702056882,
          0.001934660975354094,
          0.002121640735502121,
          0.0012510574746503918,
          0.0008846312239794085,
          0.0008846312239794085,
          0.0009275765192342538,
          0.0008837799475494935,
          0.0010286793393370873,
          0.0010608203677510606,
          0.0010492151040083356,
          0.0013155566364973703,
          0.0012510574746503918,
          0.001071462802904051,
          0.0009275765192342538,
          0.002385027702292648,
          0.0009673304876770478,
          0.0012394655927933785,
          0.0012624595107212412,
          0.001071462802904051,
          0.0009365158968219062,
          0.0016658253114271552,
          0.0009673304876770478,
          0.0010608203677510606,
          0.0008593974429329817,
          0.0008837799475494935,
          0.0008846312239794085,
          0.0012134127999165502,
          0.000912156025962252,
          0.0009275765192342538,
          0.0009275765192342538,
          0.0016488225397240125,
          0.0010608203677510606,
          0.0010063380851028441,
          0.0010063380851028441,
          0.0016658253114271552,
          0.0013680118949698612,
          0.0010608203677510606,
          0.001440379160519787,
          0.0008846312239794085,
          0.0010063380851028441,
          0.0010608203677510606,
          0.0009009892300397133,
          0.00131179129363991,
          0.0011492445778982954,
          0.0010608203677510606,
          0.0010608203677510606,
          0.0010608203677510606,
          0.0010827729285770922,
          0.0012134127999165502,
          0.0018122291594695743,
          0.0010990348381969268,
          0.00131179129363991,
          0.0010063380851028441,
          0.0009673304876770478,
          0.0012510574746503918,
          0.0013372272121147566,
          0.0008846312239794085,
          0.0009365158968219062,
          0.0030465356942368906,
          0.0014501851632158515,
          0.0015616287909808058,
          0.0008593974429329817,
          0.0014029132184484679,
          0.0008846312239794085,
          0.0010608203677510606,
          0.0015322262258941797,
          0.0010286793393370873,
          0.0015360706988134922,
          0.0010608203677510606,
          0.003032741930479051,
          0.0012134127999165502,
          0.002175391945420121,
          0.0029185300619842887,
          0.0014535331833603598,
          0.002863961813842484,
          0.0025175933240674715,
          0.002863961813842484,
          0.0016002490864364973,
          0.0018318279208768137,
          0.001108801645371308,
          0.0016850141169246447,
          0.0012444194876223896,
          0.0010750339547846604,
          0.0019093078758949888,
          0.0010019153883634075,
          0.0012977526757903888,
          0.0019093078758949888,
          0.0023736097489574534,
          0.0013544579089849278,
          0.0011868048744787265,
          0.0019093078758949888,
          0.0012444194876223896,
          0.0012444194876223896,
          0.0010750339547846604,
          0.0012444194876223896,
          0.0011868048744787265,
          0.0019093078758949888,
          0.0018352994347087422,
          0.0011095507458500477,
          0.0011095507458500477,
          0.0038621843276091337,
          0.0010453749650801247,
          0.0008799374583384806,
          0.000917649717354371,
          0.0008532550153633514,
          0.0011868048744787265,
          0.0008425070584623223,
          0.0011868048744787265,
          0.000917649717354371,
          0.0009546539379474943,
          0.000829714659634705,
          0.0009546539379474943,
          0.0009546539379474943,
          0.0011914849084724794,
          0.000829714659634705,
          0.000917649717354371,
          0.000917649717354371,
          0.0012444194876223896,
          0.0010750339547846604,
          0.0008532550153633514,
          0.0010019153883634075,
          0.0009546539379474943,
          0.0024834709990526572,
          0.0009546539379474943,
          0.0009546539379474943,
          0.0012444194876223896,
          0.0012444194876223896,
          0.001108801645371308,
          0.0009546539379474943,
          0.0010750339547846604,
          0.0013544579089849254,
          0.0010019153883634075,
          0.0015680823248657083,
          0.0009546539379474943,
          0.0008806510105872332,
          0.0010750339547846604,
          0.0010019153883634075,
          0.0008532550153633514,
          0.0009546539379474943,
          0.0012444194876223896,
          0.0009546539379474943,
          0.0009546539379474943,
          0.000917649717354371,
          0.0009546539379474943,
          0.0008806510105872332,
          0.0009546539379474943,
          0.0008425070584623223,
          0.0012444194876223896,
          0.0009546539379474943,
          0.0011868048744787265,
          0.0009546539379474943,
          0.0008391977746891576,
          0.0014590455526525868,
          0.000917649717354371,
          0.0009546539379474943,
          0.0012977526757903877,
          0.0008799374583384806,
          0.0009546539379474943,
          0.0010019153883634075,
          0.0008532550153633514,
          0.0008391977746891576,
          0.0012306066792704348,
          0.0010453749650801247,
          0.0008391977746891576,
          0.0009546539379474943,
          0.0009546539379474943,
          0.0008799374583384806,
          0.0008391977746891576,
          0.000917649717354371,
          0.0008799374583384806,
          0.0009546539379474943,
          0.0008532550153633514,
          0.000917649717354371,
          0.000917649717354371,
          0.0009546539379474943,
          0.0012977526757903877,
          0.0012306066792704348,
          0.0008799374583384806,
          0.0009546539379474943,
          0.0009546539379474943,
          0.0016162656270616166,
          0.0032442748091603057,
          0.0032442748091603057,
          0.0025656617566576505,
          0.0024332061068702295,
          0.0024332061068702295,
          0.0020718504199236988,
          0.0020718504199236988,
          0.0024332061068702295,
          0.0013397716639881512,
          0.0024332061068702295,
          0.0024332061068702295,
          0.0014650194815322435,
          0.002935132354957977,
          0.0010181835428782334,
          0.0038279876920795106,
          0.0016221374045801526,
          0.0016221374045801526,
          0.0016916587840613726,
          0.0016221374045801526,
          0.0012828308783288263,
          0.0016221374045801526,
          0.0010939189828701758,
          0.002187837965740352,
          0.0011961833976635871,
          0.0018501622830468234,
          0.0016916587840613726,
          0.0016221374045801526,
          0.0011961833976635871,
          0.0010181835428782334,
          0.0012828308783288263,
          0.0010181835428782334,
          0.0010939189828701758,
          0.0011961833976635871,
          0.0010939189828701758,
          0.0008110687022900762,
          0.0011961833976635871,
          0.0008110687022900762,
          0.0008110687022900762,
          0.0010181835428782334,
          0.0008110687022900762,
          0.0008110687022900762,
          0.0008110687022900762,
          0.0008110687022900762,
          0.0008110687022900762,
          0.0008110687022900762,
          0.0008110687022900762,
          0.0008110687022900762,
          0.0008110687022900762,
          0.0007735175308561914,
          0.0008110687022900762,
          0.0008110687022900762,
          0.0012828308783288263,
          0.0008110687022900762,
          0.0008110687022900762,
          0.0008081328135308075,
          0.0007735175308561914,
          0.0035599084922624674,
          0.0007735175308561914,
          0.0008110687022900762,
          0.000845829392030687,
          0.0007735175308561914,
          0.0008110687022900762,
          0.000845829392030687,
          0.000845829392030687,
          0.0008110687022900762,
          0.0008110687022900762,
          0.0008110687022900762,
          0.0007735175308561914,
          0.0007735175308561914,
          0.000845829392030687,
          0.0008110687022900762,
          0.0035599084922624674,
          0.0008110687022900762,
          0.0011961833976635871,
          0.0008110687022900762,
          0.0014650194815322435,
          0.000845829392030687,
          0.0008110687022900762,
          0.0008110687022900762,
          0.0008110687022900762,
          0.000845829392030687,
          0.0008110687022900762,
          0.0010181835428782334,
          0.0008110687022900762,
          0.0011655292030661264,
          0.0008110687022900762,
          0.000845829392030687,
          0.0008110687022900762,
          0.0008110687022900762,
          0.0010939189828701758,
          0.0007735175308561914,
          0.0008110687022900762,
          0.000845829392030687,
          0.006578439415279755,
          0.0018037663990998329,
          0.002950819672131148,
          0.0019759270905136896,
          0.002420006570350345,
          0.0022131147540983614,
          0.001475409836065574,
          0.0016133377135668962,
          0.001475409836065574,
          0.001140802037607152,
          0.001475409836065574,
          0.001475409836065574,
          0.001140802037607152,
          0.001475409836065574,
          0.0019759270905136896,
          0.001475409836065574,
          0.001475409836065574,
          0.001140802037607152,
          0.001475409836065574,
          0.001475409836065574,
          0.001475409836065574,
          0.001140802037607152,
          0.001475409836065574,
          0.0016133377135668962,
          0.001475409836065574,
          0.001475409836065574,
          0.001140802037607152,
          0.0048013829974836,
          0.001475409836065574,
          0.0008066688567834487,
          0.0007377049180327869,
          0.0007377049180327869,
          0.0007377049180327869,
          0.0007377049180327869,
          0.0007377049180327869,
          0.0007377049180327869,
          0.0007377049180327869,
          0.0007377049180327869,
          0.0007377049180327869,
          0.0007377049180327869,
          0.0008066688567834487,
          0.0007377049180327869,
          0.0007377049180327869,
          0.0008066688567834487,
          0.0007377049180327869,
          0.0013971914448324338,
          0.0007377049180327869,
          0.0007377049180327869,
          0.0008066688567834487,
          0.0008066688567834487,
          0.0008066688567834487,
          0.0008066688567834487,
          0.0008066688567834487,
          0.0007377049180327869,
          0.0008066688567834487,
          0.0007377049180327869,
          0.0008066688567834487,
          0.0007377049180327869,
          0.0008066688567834487,
          0.0007377049180327869,
          0.0007377049180327869,
          0.0007377049180327869,
          0.0016133377135668962,
          0.0007377049180327869,
          0.0007377049180327869,
          0.0007377049180327869,
          0.0013971914448324338,
          0.0007377049180327869,
          0.0007377049180327869,
          0.0008066688567834487,
          0.0008066688567834487,
          0.0007377049180327869,
          0.0007377049180327869,
          0.0007377049180327869,
          0.0026462395543175483,
          0.0026462395543175483,
          0.001764159702878365,
          0.001764159702878365,
          0.001764159702878365,
          0.001764159702878365,
          0.0008820798514391832,
          0.0008820798514391832,
          0.0008820798514391832,
          0.0008820798514391832,
          0.0008820798514391832,
          0.0008820798514391832,
          0.0008820798514391832,
          0.0008820798514391832,
          0.0008820798514391832,
          0.0008820798514391832,
          0.0008820798514391832,
          0.0008820798514391832,
          0.0008820798514391832,
          0.0008820798514391832,
          0.0008820798514391832,
          0.0008820798514391832,
          0.0008820798514391832,
          0.0008820798514391832,
          0.0008820798514391832,
          0.0008820798514391832,
          0.0008820798514391832,
          0.0008820798514391832,
          0.0008820798514391832,
          0.0008820798514391832,
          0.0008820798514391832,
          0.0008820798514391832,
          0.0008820798514391832,
          0.0008820798514391832,
          0.0008820798514391832,
          0.0008820798514391832,
          0.0008820798514391832,
          0.0008820798514391832,
          0.0008820798514391832,
          0.0037124786435395497,
          0.0008820798514391832,
          0.0008820798514391832,
          0.0008820798514391832,
          0.0008820798514391832,
          0.0008820798514391832,
          0.0008820798514391832,
          0.015625000000000007,
          0.015625000000000007,
          0.015625000000000007,
          0.015625000000000007,
          0.015625000000000007
         ],
         "yaxis": "y"
        }
       ],
       "layout": {
        "autosize": true,
        "legend": {
         "tracegroupgap": 0
        },
        "margin": {
         "t": 60
        },
        "template": {
         "data": {
          "bar": [
           {
            "error_x": {
             "color": "#2a3f5f"
            },
            "error_y": {
             "color": "#2a3f5f"
            },
            "marker": {
             "line": {
              "color": "#E5ECF6",
              "width": 0.5
             },
             "pattern": {
              "fillmode": "overlay",
              "size": 10,
              "solidity": 0.2
             }
            },
            "type": "bar"
           }
          ],
          "barpolar": [
           {
            "marker": {
             "line": {
              "color": "#E5ECF6",
              "width": 0.5
             },
             "pattern": {
              "fillmode": "overlay",
              "size": 10,
              "solidity": 0.2
             }
            },
            "type": "barpolar"
           }
          ],
          "carpet": [
           {
            "aaxis": {
             "endlinecolor": "#2a3f5f",
             "gridcolor": "white",
             "linecolor": "white",
             "minorgridcolor": "white",
             "startlinecolor": "#2a3f5f"
            },
            "baxis": {
             "endlinecolor": "#2a3f5f",
             "gridcolor": "white",
             "linecolor": "white",
             "minorgridcolor": "white",
             "startlinecolor": "#2a3f5f"
            },
            "type": "carpet"
           }
          ],
          "choropleth": [
           {
            "colorbar": {
             "outlinewidth": 0,
             "ticks": ""
            },
            "type": "choropleth"
           }
          ],
          "contour": [
           {
            "colorbar": {
             "outlinewidth": 0,
             "ticks": ""
            },
            "colorscale": [
             [
              0,
              "#0d0887"
             ],
             [
              0.1111111111111111,
              "#46039f"
             ],
             [
              0.2222222222222222,
              "#7201a8"
             ],
             [
              0.3333333333333333,
              "#9c179e"
             ],
             [
              0.4444444444444444,
              "#bd3786"
             ],
             [
              0.5555555555555556,
              "#d8576b"
             ],
             [
              0.6666666666666666,
              "#ed7953"
             ],
             [
              0.7777777777777778,
              "#fb9f3a"
             ],
             [
              0.8888888888888888,
              "#fdca26"
             ],
             [
              1,
              "#f0f921"
             ]
            ],
            "type": "contour"
           }
          ],
          "contourcarpet": [
           {
            "colorbar": {
             "outlinewidth": 0,
             "ticks": ""
            },
            "type": "contourcarpet"
           }
          ],
          "heatmap": [
           {
            "colorbar": {
             "outlinewidth": 0,
             "ticks": ""
            },
            "colorscale": [
             [
              0,
              "#0d0887"
             ],
             [
              0.1111111111111111,
              "#46039f"
             ],
             [
              0.2222222222222222,
              "#7201a8"
             ],
             [
              0.3333333333333333,
              "#9c179e"
             ],
             [
              0.4444444444444444,
              "#bd3786"
             ],
             [
              0.5555555555555556,
              "#d8576b"
             ],
             [
              0.6666666666666666,
              "#ed7953"
             ],
             [
              0.7777777777777778,
              "#fb9f3a"
             ],
             [
              0.8888888888888888,
              "#fdca26"
             ],
             [
              1,
              "#f0f921"
             ]
            ],
            "type": "heatmap"
           }
          ],
          "heatmapgl": [
           {
            "colorbar": {
             "outlinewidth": 0,
             "ticks": ""
            },
            "colorscale": [
             [
              0,
              "#0d0887"
             ],
             [
              0.1111111111111111,
              "#46039f"
             ],
             [
              0.2222222222222222,
              "#7201a8"
             ],
             [
              0.3333333333333333,
              "#9c179e"
             ],
             [
              0.4444444444444444,
              "#bd3786"
             ],
             [
              0.5555555555555556,
              "#d8576b"
             ],
             [
              0.6666666666666666,
              "#ed7953"
             ],
             [
              0.7777777777777778,
              "#fb9f3a"
             ],
             [
              0.8888888888888888,
              "#fdca26"
             ],
             [
              1,
              "#f0f921"
             ]
            ],
            "type": "heatmapgl"
           }
          ],
          "histogram": [
           {
            "marker": {
             "pattern": {
              "fillmode": "overlay",
              "size": 10,
              "solidity": 0.2
             }
            },
            "type": "histogram"
           }
          ],
          "histogram2d": [
           {
            "colorbar": {
             "outlinewidth": 0,
             "ticks": ""
            },
            "colorscale": [
             [
              0,
              "#0d0887"
             ],
             [
              0.1111111111111111,
              "#46039f"
             ],
             [
              0.2222222222222222,
              "#7201a8"
             ],
             [
              0.3333333333333333,
              "#9c179e"
             ],
             [
              0.4444444444444444,
              "#bd3786"
             ],
             [
              0.5555555555555556,
              "#d8576b"
             ],
             [
              0.6666666666666666,
              "#ed7953"
             ],
             [
              0.7777777777777778,
              "#fb9f3a"
             ],
             [
              0.8888888888888888,
              "#fdca26"
             ],
             [
              1,
              "#f0f921"
             ]
            ],
            "type": "histogram2d"
           }
          ],
          "histogram2dcontour": [
           {
            "colorbar": {
             "outlinewidth": 0,
             "ticks": ""
            },
            "colorscale": [
             [
              0,
              "#0d0887"
             ],
             [
              0.1111111111111111,
              "#46039f"
             ],
             [
              0.2222222222222222,
              "#7201a8"
             ],
             [
              0.3333333333333333,
              "#9c179e"
             ],
             [
              0.4444444444444444,
              "#bd3786"
             ],
             [
              0.5555555555555556,
              "#d8576b"
             ],
             [
              0.6666666666666666,
              "#ed7953"
             ],
             [
              0.7777777777777778,
              "#fb9f3a"
             ],
             [
              0.8888888888888888,
              "#fdca26"
             ],
             [
              1,
              "#f0f921"
             ]
            ],
            "type": "histogram2dcontour"
           }
          ],
          "mesh3d": [
           {
            "colorbar": {
             "outlinewidth": 0,
             "ticks": ""
            },
            "type": "mesh3d"
           }
          ],
          "parcoords": [
           {
            "line": {
             "colorbar": {
              "outlinewidth": 0,
              "ticks": ""
             }
            },
            "type": "parcoords"
           }
          ],
          "pie": [
           {
            "automargin": true,
            "type": "pie"
           }
          ],
          "scatter": [
           {
            "fillpattern": {
             "fillmode": "overlay",
             "size": 10,
             "solidity": 0.2
            },
            "type": "scatter"
           }
          ],
          "scatter3d": [
           {
            "line": {
             "colorbar": {
              "outlinewidth": 0,
              "ticks": ""
             }
            },
            "marker": {
             "colorbar": {
              "outlinewidth": 0,
              "ticks": ""
             }
            },
            "type": "scatter3d"
           }
          ],
          "scattercarpet": [
           {
            "marker": {
             "colorbar": {
              "outlinewidth": 0,
              "ticks": ""
             }
            },
            "type": "scattercarpet"
           }
          ],
          "scattergeo": [
           {
            "marker": {
             "colorbar": {
              "outlinewidth": 0,
              "ticks": ""
             }
            },
            "type": "scattergeo"
           }
          ],
          "scattergl": [
           {
            "marker": {
             "colorbar": {
              "outlinewidth": 0,
              "ticks": ""
             }
            },
            "type": "scattergl"
           }
          ],
          "scattermapbox": [
           {
            "marker": {
             "colorbar": {
              "outlinewidth": 0,
              "ticks": ""
             }
            },
            "type": "scattermapbox"
           }
          ],
          "scatterpolar": [
           {
            "marker": {
             "colorbar": {
              "outlinewidth": 0,
              "ticks": ""
             }
            },
            "type": "scatterpolar"
           }
          ],
          "scatterpolargl": [
           {
            "marker": {
             "colorbar": {
              "outlinewidth": 0,
              "ticks": ""
             }
            },
            "type": "scatterpolargl"
           }
          ],
          "scatterternary": [
           {
            "marker": {
             "colorbar": {
              "outlinewidth": 0,
              "ticks": ""
             }
            },
            "type": "scatterternary"
           }
          ],
          "surface": [
           {
            "colorbar": {
             "outlinewidth": 0,
             "ticks": ""
            },
            "colorscale": [
             [
              0,
              "#0d0887"
             ],
             [
              0.1111111111111111,
              "#46039f"
             ],
             [
              0.2222222222222222,
              "#7201a8"
             ],
             [
              0.3333333333333333,
              "#9c179e"
             ],
             [
              0.4444444444444444,
              "#bd3786"
             ],
             [
              0.5555555555555556,
              "#d8576b"
             ],
             [
              0.6666666666666666,
              "#ed7953"
             ],
             [
              0.7777777777777778,
              "#fb9f3a"
             ],
             [
              0.8888888888888888,
              "#fdca26"
             ],
             [
              1,
              "#f0f921"
             ]
            ],
            "type": "surface"
           }
          ],
          "table": [
           {
            "cells": {
             "fill": {
              "color": "#EBF0F8"
             },
             "line": {
              "color": "white"
             }
            },
            "header": {
             "fill": {
              "color": "#C8D4E3"
             },
             "line": {
              "color": "white"
             }
            },
            "type": "table"
           }
          ]
         },
         "layout": {
          "annotationdefaults": {
           "arrowcolor": "#2a3f5f",
           "arrowhead": 0,
           "arrowwidth": 1
          },
          "autotypenumbers": "strict",
          "coloraxis": {
           "colorbar": {
            "outlinewidth": 0,
            "ticks": ""
           }
          },
          "colorscale": {
           "diverging": [
            [
             0,
             "#8e0152"
            ],
            [
             0.1,
             "#c51b7d"
            ],
            [
             0.2,
             "#de77ae"
            ],
            [
             0.3,
             "#f1b6da"
            ],
            [
             0.4,
             "#fde0ef"
            ],
            [
             0.5,
             "#f7f7f7"
            ],
            [
             0.6,
             "#e6f5d0"
            ],
            [
             0.7,
             "#b8e186"
            ],
            [
             0.8,
             "#7fbc41"
            ],
            [
             0.9,
             "#4d9221"
            ],
            [
             1,
             "#276419"
            ]
           ],
           "sequential": [
            [
             0,
             "#0d0887"
            ],
            [
             0.1111111111111111,
             "#46039f"
            ],
            [
             0.2222222222222222,
             "#7201a8"
            ],
            [
             0.3333333333333333,
             "#9c179e"
            ],
            [
             0.4444444444444444,
             "#bd3786"
            ],
            [
             0.5555555555555556,
             "#d8576b"
            ],
            [
             0.6666666666666666,
             "#ed7953"
            ],
            [
             0.7777777777777778,
             "#fb9f3a"
            ],
            [
             0.8888888888888888,
             "#fdca26"
            ],
            [
             1,
             "#f0f921"
            ]
           ],
           "sequentialminus": [
            [
             0,
             "#0d0887"
            ],
            [
             0.1111111111111111,
             "#46039f"
            ],
            [
             0.2222222222222222,
             "#7201a8"
            ],
            [
             0.3333333333333333,
             "#9c179e"
            ],
            [
             0.4444444444444444,
             "#bd3786"
            ],
            [
             0.5555555555555556,
             "#d8576b"
            ],
            [
             0.6666666666666666,
             "#ed7953"
            ],
            [
             0.7777777777777778,
             "#fb9f3a"
            ],
            [
             0.8888888888888888,
             "#fdca26"
            ],
            [
             1,
             "#f0f921"
            ]
           ]
          },
          "colorway": [
           "#636efa",
           "#EF553B",
           "#00cc96",
           "#ab63fa",
           "#FFA15A",
           "#19d3f3",
           "#FF6692",
           "#B6E880",
           "#FF97FF",
           "#FECB52"
          ],
          "font": {
           "color": "#2a3f5f"
          },
          "geo": {
           "bgcolor": "white",
           "lakecolor": "white",
           "landcolor": "#E5ECF6",
           "showlakes": true,
           "showland": true,
           "subunitcolor": "white"
          },
          "hoverlabel": {
           "align": "left"
          },
          "hovermode": "closest",
          "mapbox": {
           "style": "light"
          },
          "paper_bgcolor": "white",
          "plot_bgcolor": "#E5ECF6",
          "polar": {
           "angularaxis": {
            "gridcolor": "white",
            "linecolor": "white",
            "ticks": ""
           },
           "bgcolor": "#E5ECF6",
           "radialaxis": {
            "gridcolor": "white",
            "linecolor": "white",
            "ticks": ""
           }
          },
          "scene": {
           "xaxis": {
            "backgroundcolor": "#E5ECF6",
            "gridcolor": "white",
            "gridwidth": 2,
            "linecolor": "white",
            "showbackground": true,
            "ticks": "",
            "zerolinecolor": "white"
           },
           "yaxis": {
            "backgroundcolor": "#E5ECF6",
            "gridcolor": "white",
            "gridwidth": 2,
            "linecolor": "white",
            "showbackground": true,
            "ticks": "",
            "zerolinecolor": "white"
           },
           "zaxis": {
            "backgroundcolor": "#E5ECF6",
            "gridcolor": "white",
            "gridwidth": 2,
            "linecolor": "white",
            "showbackground": true,
            "ticks": "",
            "zerolinecolor": "white"
           }
          },
          "shapedefaults": {
           "line": {
            "color": "#2a3f5f"
           }
          },
          "ternary": {
           "aaxis": {
            "gridcolor": "white",
            "linecolor": "white",
            "ticks": ""
           },
           "baxis": {
            "gridcolor": "white",
            "linecolor": "white",
            "ticks": ""
           },
           "bgcolor": "#E5ECF6",
           "caxis": {
            "gridcolor": "white",
            "linecolor": "white",
            "ticks": ""
           }
          },
          "title": {
           "x": 0.05
          },
          "xaxis": {
           "automargin": true,
           "gridcolor": "white",
           "linecolor": "white",
           "ticks": "",
           "title": {
            "standoff": 15
           },
           "zerolinecolor": "white",
           "zerolinewidth": 2
          },
          "yaxis": {
           "automargin": true,
           "gridcolor": "white",
           "linecolor": "white",
           "ticks": "",
           "title": {
            "standoff": 15
           },
           "zerolinecolor": "white",
           "zerolinewidth": 2
          }
         }
        },
        "xaxis": {
         "anchor": "y",
         "autorange": true,
         "domain": [
          0,
          1
         ],
         "range": [
          -1.3467261904761907,
          41.34672619047619
         ],
         "title": {
          "text": "Count"
         },
         "type": "linear"
        },
        "yaxis": {
         "anchor": "x",
         "autorange": true,
         "domain": [
          0,
          1
         ],
         "range": [
          -0.0004149859085237302,
          0.016777690826556522
         ],
         "title": {
          "text": "dov"
         },
         "type": "linear"
        }
       }
      },
      "image/png": "[encoded data removed]",
      "text/html": [
       "<div>                            <div id=\"bc3b21ba-91ec-44bd-af6b-84f5df88cb9f\" class=\"plotly-graph-div\" style=\"height:525px; width:100%;\"></div>            <script type=\"text/javascript\">                require([\"plotly\"], function(Plotly) {                    window.PLOTLYENV=window.PLOTLYENV || {};                                    if (document.getElementById(\"bc3b21ba-91ec-44bd-af6b-84f5df88cb9f\")) {                    Plotly.newPlot(                        \"bc3b21ba-91ec-44bd-af6b-84f5df88cb9f\",                        [{\"customdata\":[[\"243_stec_o104h4_hyphae_eaec\"],[\"28_disgust_stimuli_disgusting_pictures\"],[\"90_pcddfs_dioxin_polychlorinated_dlpcbs\"],[\"130_rip_mk_interception_tfs\"],[\"132_fusarium_bea_graminearum_ens\"],[\"18_radioactive_japan_cesium_accident\"],[\"316_mrsa_cc398_pvl_leukocidin\"],[\"3_phage_phages_bacteriophages_kit03\"],[\"251_akwesasne_mohawk_adolescents_nation\"],[\"11_cadmium_cdsnps_bde209_cpf\"],[\"298_haccp_lactose_norms_plan\"],[\"35_cronobacter_sakazakii_pif_powdered\"],[\"89_birds_feathers_egret_nestlings\"],[\"303_milling_maize_fractions_flours\"],[\"565_afb1_aflatoxin_indonesia_ngkg\"],[\"428_buttonwood_stem_cadmium_site\"],[\"329_horse_oranienburg_mills_garden\"],[\"156_schwarzengrund_ngs_donkey_spiced\"],[\"39_fsp_attitudes_handlers_knowledge\"],[\"373_pcddfs_pcbs_pops_outdoors\"],[\"347_abdominal_evisceration_perforation_eviscerated\"],[\"0_none_highest_some_of\"],[\"518_arcobacter_cryaerophilus_butzleri_genusspecific\"],[\"12_listeria_monocytogenes_3m_reconstruction\"],[\"21_botulinum_botulism_neurotoxin_neurotoxins\"],[\"631_sfr_bottles_asepticuht_stearothermophilus\"],[\"519_wildlife_hhra_uncertainties_soilassociated\"],[\"229_ill_fhs_nov_norovirus\"],[\"780_enn_orbitrap_cereals_cleanup\"],[\"769_pharmaceutical_digestates_reclaimed_ipronidazole\"],[\"66_difficile_ribotype_078_ribotypes\"],[\"443_compounding_errors_compounded_pharmacies\"],[\"300_uvmaldiorbitrapms_drinks_pyrethrin_drink\"],[\"365_novs_hnov_nov_proportions\"],[\"9_allergens_allergen_cookies_marker\"],[\"939_snail_intestines_aspersum_snails\"],[\"505_monocytogenes_irish_hog_pfge\"],[\"175_berry_berries_frozen_nov\"],[\"1_pfas_pfass_pfos_pfaas\"],[\"246_pcr_monoazide_amplification_nucleic\"],[\"228_aureus_cns_staph_staphylococcal\"],[\"125_phthalates_phthalate_dehp_bbp\"],[\"222_vegetables_jute_fenugreek_attaining\"],[\"514_smcs_ahtn_hhcb_mk\"],[\"359_ocps_men_betahch_macronutrient\"],[\"336_hev_hepatitis_dolphins_vhe\"],[\"69_allergen_pal_labeling_labelling\"],[\"70_biofilm_formation_biofilms_malx\"],[\"311_infertility_pubertal_edcs_fertility\"],[\"17_films_packaging_mgoctab_film\"],[\"116_bfi_biofilms_naclo_biofilm\"],[\"257_aluminum_pn_al_bone\"],[\"95_stec_hus_stechus_shiga\"],[\"753_fairs_outdoor_poultry_flocks\"],[\"640_cheese_ripening_sheeps_semisoft\"],[\"63_sers_raman_dnafunctionalized_surfaceenhanced\"],[\"233_pfass_pfas_pfaas_pfoa\"],[\"24_peanut_nut_tree_oit\"],[\"355_osnramp1_osace1_mtr_mtrfsa\"],[\"489_nuts_cookies_apples_atomic\"],[\"440_media_crisis_coverage_irish\"],[\"120_sterile_compounding_pharmacy_visible\"],[\"998_sfms_disinfecting_ms2_dispensed\"],[\"322_peer_sharing_infants_donors\"],[\"794_mcs_zooplanktonic_rubescens_chaoborus\"],[\"136_listeriosis_listeria_monocytogenes_incubation\"],[\"88_bioremediation_cdii_crvi_biosorption\"],[\"889_chicken_augmentin_usda_retail\"],[\"133_tm_carabids_tadpoles_invertebrate\"],[\"79_endotoxin_antibody_ripa_ml1\"],[\"188_hcc_hccs_aflatoxinassociated_hbv\"],[\"172_hbcds_wreck_coelutions_pcbs\"],[\"328_gm_gmo_gmos_gmodetector\"],[\"42_cryptosporidium_oocysts_duodenalis_giardia\"],[\"85_monocytogenes_subtypes_ireland_isolates\"],[\"169_stm_sows_pigs_vaccination\"],[\"59_vibrio_parahaemolyticus_vp_cholerae\"],[\"975_plasticisers_deet_boxford_ecs\"],[\"547_sers_cr3_rrs_ions\"],[\"728_rep_microscopically_hrma_discriminatory\"],[\"147_jejuni_campylobacter_poultry_ispc\"],[\"144_lactase_xg_pvpcmcbcgg_films\"],[\"56_vaccine_serotypes_mdr_dam\"],[\"457_garv_astv_asfv_viruses\"],[\"617_mercury_virginia_column_advisories\"],[\"606_ks_cs_immunodiffusion_cartilage\"],[\"545_cockle_element_trace_reef\"],[\"65_mlva_locus_agr_factories\"],[\"423_nitrite_nitrates_nitrites_nitritesnitrates\"],[\"37_greens_leafy_producerelated_outbreaks\"],[\"254_eagles_organochlorine_geese_eggshell\"],[\"1149_pahs_substituted_petroleum_media\"],[\"727_magnetic_mpcr_beads_ce\"],[\"84_kg1_hotspots_pollution_soilrice\"],[\"412_menus_kitchen_homes_students\"],[\"140_fcm_ctcs_tumor_epcam\"],[\"724_dmfu_mold_sensitizing_dwellings\"],[\"1124_drainage_channel_vojvodina_channels\"],[\"398_faflp_ests_monocytogenes_serogroup\"],[\"1194_russian_siberia_20002011_regions\"],[\"723_cacao_snp_oolong_spirits\"],[\"721_biofilm_sodium_mature_eradication\"],[\"148_urban_gardening_ua_foraging\"],[\"189_true_estimation_fitting_zeroes\"],[\"415_breastfeeding_discourses_breast_professionals\"],[\"1131_rendering_ozone_prions_municipal\"],[\"321_meiofauna_ferrihydrite_colloids_meiofaunal\"],[\"71_oa_lsts_shellfish_dtx1\"],[\"49_mehg_methylation_methylmercury_mercury\"],[\"218_melamine_damino_melaminecontaminated_illegal\"],[\"45_tritium_chernobyl_evapotranspiration_accident\"],[\"223_hadar_wgs_sausage_denmark\"],[\"197_aiv1_zvi_rva_viral\"],[\"1337_accumulative_lowcd_cultivars_48fold\"],[\"219_diets_canine_afr_label\"],[\"230_ha_arsenate_arsenic_acquisition\"],[\"350_microsnap_device_antibodies_sets\"],[\"564_postproduction_persistence_ham_monocytogenes\"],[\"19_137cs_radiocesium_fukushima_ayu\"],[\"7_wgs_metagenomics_sequencing_genome\"],[\"1338_petroleum_creatinine_renal_urea\"],[\"881_ree_vitis_vinifera_tailings\"],[\"432_hunov_viruses_viral_inactivation\"],[\"593_condemnation_feral_lung_pneumonia\"],[\"155_irrigation_tww_pw_irrigated\"],[\"342_cutting_packaging_intelligent_responsive\"],[\"743_scco2_supercritical_ocular_sterilization\"],[\"736_fbd_fbds_guilty_hardtoidentify\"],[\"304_atrazine_herbicides_herbicide_argentinus\"],[\"245_lactic_plantarum_acid_lactobacillus\"],[\"448_radium_decorporation_c2e2_uranium\"],[\"20_razor_clams_crayfish_zn\"],[\"1123_zea_viz_moniliformin_india\"],[\"198_lamp_microfluidic_vbnc_nucleic\"],[\"231_mrsa_visualonly_aureus_pyaemia\"],[\"1326_dairies_mslp_22000_end\"],[\"595_nglf_irradiated_irradiation_gamma\"],[\"1329_recalled_1395_3360_fisheryseafood\"],[\"163_furazolidone_residues_residue_dnc\"],[\"389_barbata_aurata_caerulea_estuary\"],[\"970_bacillus_probiotic_34b_hemolysis\"],[\"768_attribution_hald_dutch_attributions\"],[\"278_ozonation_mycotoxins_homemade_zen\"],[\"104_delis_deli_slicers_slicer\"],[\"196_zno_initiator_norrish_layered\"],[\"464_sands_pike_pcb_athabasca\"],[\"576_hunov_hadv_iccrtqpcr_salad\"],[\"613_po_alop_listeriosis_lm\"],[\"212_peanuts_pecans_per_shelled\"],[\"574_kubac5_fla_se_pdas\"],[\"902_afl_pasta_cooking_staple\"],[\"763_tainted_scandal_dehp_pregnant\"],[\"40_bpa_bisphenol_bps_canned\"],[\"1059_mpd_indigenous_opening_alfalfa\"],[\"932_salsa_guacamole_sga_chowder\"],[\"181_parahaemolyticus_parahaeomolyticus_seafood_peeled\"],[\"227_internalization_subtilis_enterica_tomato\"],[\"13_mineral_hydrocarbons_moah_mosh\"],[\"757_phenanthrene_acropetal_pah_bioremediation\"],[\"124_pahs_pah_smoking_polycyclic\"],[\"1426_xochimilco_enterococci_faecium_wetland\"],[\"818_lgvs_preharvested_climate_change\"],[\"1065_fissures_viscous_ionomer_zincreinforced\"],[\"159_pulex_ecdysis_cladoceran_zooplankton\"],[\"317_pathology_hpop_pathologists_disciplines\"],[\"1043_pscs_metalhalidebased_ferralsols_solar\"],[\"314_arsenic_unesco_arsenicosis_onwards\"],[\"153_town_bakery_gbf_shariati\"],[\"775_spray_304cuss_copper_304ss\"],[\"731_perfringens_cpe_clostridium_fish\"],[\"202_dose_clothing_sudoqu_protective\"],[\"1007_deer_stec_wild_birds\"],[\"756_vitamin_pregnancy_glucose_arich\"],[\"1104_utis_uti_ethiopia_cecal\"],[\"785_ratio_sex_net_minamata\"],[\"50_pesticide_residue_pesticides_residues\"],[\"572_sponges_dishcloths_flp_kitchen\"],[\"798_lps_ler_phagebased_supramolecular\"],[\"451_antidoping_sarms_doping_aaf\"],[\"241_viruses_ev71_viral_enteric\"],[\"211_kernel_verticillioides_fusarium_maize\"],[\"591_viral_rtpcr_rtpcrbased_shellfish\"],[\"883_ships_staff_secondlevel_crew\"],[\"1241_community_biofilm_monocytogenes_nonpasteurized\"],[\"1105_pond_mustard_juncea_lemongrass\"],[\"210_ffps_inks_pigment_paas\"],[\"105_mehg_hg_walleye_bass\"],[\"192_daas_mobas_daa_aunps\"],[\"787_betweenhost_withinhost_modular_schistosomiasis\"],[\"891_sashimi_sushi_westernstyle_lightly\"],[\"786_vibrio_mussels_depuration_vibrios\"],[\"1061_midpoint_calibration_cv_interferometry\"],[\"396_mnv1_transfer_hands_knife\"],[\"965_lateral_sl1344_vulnificus_arabidopsis\"],[\"166_lead_sauces_hot_historical\"],[\"195_phytoremediation_pgpfs_tolerance_phytoextraction\"],[\"968_lmf_lowaw_lmfs_lowmoisture\"],[\"792_chia_ngg_butter_peanut\"],[\"810_maleic_alkylphenols_longchain_toxicogenomics\"],[\"325_biofilm_juice_agona_formation\"],[\"1080_tl_stems_arable_crops\"],[\"308_bijie_ptes_came_ecological\"],[\"538_scott_lbra_glycerol_f2365\"],[\"115_fbdos_china_outbreaks_deaths\"],[\"1014_highway_runoff_road_salt\"],[\"76_pollen_bee_bees_nectar\"],[\"23_ota_aptamer_aptasensor_aptamers\"],[\"1363_bottled_directsequencing_cful_multicurve\"],[\"1125_disaster_waste_disinfectants_already\"],[\"346_msm_parasites_gii_roundworm\"],[\"544_slre_hg_ccr_mehg\"],[\"315_campylobacter_campylobacteriosis_pastured_seasonal\"],[\"25_egg_eggs_cuticle_shell\"],[\"55_africa_mycotoxins_maize_fumonisin\"],[\"924_chlorine_free_fluorescence_urine\"],[\"224_citrus_salicylate_eos_preservative\"],[\"306_mangrove_asgm_estuary_chloralkali\"],[\"478_escresistant_expec_litter_cephalosporins\"],[\"126_photodynamic_pdi_inactivation_light\"],[\"515_climate_prefum_prema_maize\"],[\"307_mercury_zooplankton_thg_methylmercury\"],[\"138_pharmaceuticals_zebrafish_aquatic_pharmaceutical\"],[\"1176_antimicrobialresistant_benin_farmraised_sika\"],[\"395_henan_smelters_steelmaking_varieties\"],[\"655_enterococcus_antimicrobialresistant_rts_arb\"],[\"730_curing_dc_resin_light\"],[\"1310_proteomics_differential_perniciousness_oyster\"],[\"771_penguins_auks_islands_seabird\"],[\"993_contributing_elicitation_establishment_outbreak\"],[\"419_hav_hev_hhp_subgenomic\"],[\"1181_enterococcus_enterococci_tomatoes_faecalis\"],[\"533_tio2_ntio2_ga_nanoparticles\"],[\"848_tiffin_wound_box_maxillofacial\"],[\"256_mlvhrma_typhimurium_14512i_monophasic\"],[\"206_forages_mn_sheep_pastures\"],[\"562_cooking_cfug_instructions_roulades\"],[\"854_csls_ukraine_processors_final\"],[\"107_fumonisins_fusarium_trichothecenes_ht2\"],[\"217_mercury_umbilical_amalgam_dental\"],[\"1185_chg_postoperative_wound_lip\"],[\"302_whitefly_viral_whiteflies_viruses\"],[\"901_bonobos_olfactory_odor_avoidance\"],[\"677_purchasing_actors_managers_sellers\"],[\"38_aureus_seb_staphylococcal_psms\"],[\"686_spme_br_bfr_cleanup\"],[\"142_adulteration_peptides_horse_proteomic\"],[\"610_o169h41_etec_nono157_maria\"],[\"248_neonicotinoids_insecticides_fipronil_neonicotinoid\"],[\"301_cryptosporidium_mites_slug_parasite\"],[\"691_wetlands_macroinvertebrate_brine_ppr\"],[\"502_microchip_strip_mpa_otabsa\"],[\"500_mlr_ocelloscope_ega_endospore\"],[\"1160_butcher_cheonan_gwangju_gunsan\"],[\"93_fecal_neighborhoods_lowincome_pathways\"],[\"1156_blastula_ech_behavioural_l1\"],[\"957_fsms_certification_african_assurance\"],[\"393_spices_mlp_fsms_qra\"],[\"334_mystus_nandus_nama_dhaleswari\"],[\"309_tips_pipette_bridges_coating\"],[\"1168_harzianum_biosynthetic_competitor_mycotoxin\"],[\"119_honey_ase_bee_fungicide\"],[\"77_mehg_tidal_songbirds_creek\"],[\"101_radiation_internal_nuclear_fukushima\"],[\"793_biomarkersbased_aflatoxins_hcc_hepatocellular\"],[\"207_fumonisins_fbs_fb1_fb\"],[\"305_lettuce_slurry_fsh_farmers\"],[\"2_sarscov2_covid19_coronavirus_virus\"],[\"100_dioxins_pcbs_floodprone_dioxin\"],[\"313_gii17_gastroenteritis_students_genotype\"],[\"735_donax_phytostabilization_mycorrhizal_biomass\"],[\"214_ornamental_sludge_phytotechnologies_amps\"],[\"215_supplements_sbt_tasimelteon_materia\"],[\"1122_bioconserving_resistant_antimicrobial_pick\"],[\"841_yr_spring_baotou_wheat\"],[\"623_bolnisi_kvemo_georgia_plasmamass\"],[\"618_globarbased_synchrotronbased_animalderived_hyphenated\"],[\"816_rra_australian_poao_rr\"],[\"32_rice_senps_selenite_paddy\"],[\"553_nephropathy_feedstuffsfoods_mycotoxic_nephrotoxic\"],[\"742_listeria_sessile_janthinobacterium_drains\"],[\"802_soleris_greenlight_dym_plating\"],[\"41_gondii_toxocara_toxoplasmosis_toxoplasma\"],[\"466_trichothecenes_trichothecene_niv_macrocyclic\"],[\"1158_intravenous_bcs_bactalert_becton\"],[\"43_mercury_squamosissimus_prolactin_bft\"],[\"216_pastrami_precooked_final_franks\"],[\"958_fipronil_cyp450_natamycin_cyp2d6\"],[\"310_arsenic_mice_seadequate_highse\"],[\"523_dam_cellulose_csgd_liverpool\"],[\"520_neurocysticercosis_amoebic_shigella_handlers\"],[\"30_hev_hepatitis_pig_rna\"],[\"791_cockles_anadara_wolves_pattani\"],[\"974_cloacae_resistances_chloramphenicol_chemotherapeutic\"],[\"4_nov_oysters_shellfish_asari\"],[\"1114_quetta_tempeh_shawarma_enteritidis\"],[\"191_thyroid_nete_volcanic_cancer\"],[\"81_mlva_lm_mlst_cgmlst\"],[\"750_leaf_alnus_mosquito_decomposition\"],[\"1164_fossarum_gammarus_feeding_caging\"],[\"483_grasshoppers_te_mining_edi\"],[\"482_mining_pbzn_dexing_poyang\"],[\"476_pas_pa_pyrrolizidine_alkaloids\"],[\"121_handlers_maritime_hygiene_knowledge\"],[\"943_toxigenic_summarised_mycotoxinshost_hostresistance\"],[\"299_fouling_cleaning_ultrasound_exchangers\"],[\"1362_ppb_aflatoxicosis_remedies_tolerable\"],[\"745_pagc_qdits_imbs_capture\"],[\"1151_baakline_krai_e04_krasnoyarsk\"],[\"741_args_abgs_coselection_silicon\"],[\"158_pcddfs_dp_pbns_duck\"],[\"176_bqkg_inago_fallout_137cs\"],[\"160_spectroscopic_ftir_ftnir_infrared\"],[\"161_imaging_hyperspectral_hsi_nondestructive\"],[\"385_functionalized_electrolysis_thms_min\"],[\"200_lagoon_ewaste_korle_gariepinus\"],[\"162_arsenic_bangladesh_groundwater_fluoride\"],[\"391_spoilage_psychrotrophic_spoilers_gelidum\"],[\"332_wipes_copper_mnv1_viral\"],[\"592_bfrs_pgg_toddlers_flame\"],[\"6_cereus_bacillus_mypa_emetic\"],[\"221_jejuni_sts_isolates_quinolones\"],[\"167_bioelectronic_odorant_sensor_resonators\"],[\"379_o157_vtec_ehec_eric\"],[\"573_cropping_philippi_horticultural_summer\"],[\"34_campylobacter_jejuni_fetus_campylobacteriosis\"],[\"180_eels_dabs_polybrominated_inland\"],[\"371_bfgt_bftf_dietitians_tube\"],[\"62_stec_nono157_ehec_o157\"],[\"312_cassava_b2_aflatoxin_kinshasa\"],[\"258_tasa_amyloidlike_acidoterrestris_subtilis\"],[\"1103_lfias_lateral_popularly_hindrance\"],[\"74_listeria_monocytogenes_lm_delis\"],[\"880_mushrooms_bisporus_entomological_florence\"],[\"567_pbdes_bfrs_pbde_shanghai\"],[\"94_hmf_canning_renal_canpackaged\"],[\"586_cysts_duodenalis_cystsoysterday_giardia\"],[\"581_sprouts_vegetableassociated_leafy_outbreaks\"],[\"232_ink_mantle_areolata_frozen\"],[\"484_sii_milk_fdp_farms\"],[\"918_vibration_mould_assert_startup\"],[\"282_cupt_fishes_swam_gills\"],[\"875_corvids_serovars_scavenger_north\"],[\"740_pgamended_barley_bromides_grown\"],[\"860_amr_scoping_124_wildlife\"],[\"884_ssa_milk_farmers_selling\"],[\"349_cheeses_cheese_arcobacter_butzleri\"],[\"64_cyanotoxins_cyanobacterial_microcystins_mclr\"],[\"152_irrigation_leachate_cowpats_growers\"],[\"186_iso_lamp_bam_166542001\"],[\"75_flavus_cpa_atoxigenic_aflatoxin\"],[\"96_child_diarrhea_handwashing_soap\"],[\"288_hydroponic_o157h7_survival_solution\"],[\"339_chlordecone_allophanes_cld_guadeloupe\"],[\"589_ree_radionuclides_uraniumcontaminated_uranium\"],[\"490_basil_parsley_generic_cilantro\"],[\"866_waf_oil_crude_motor\"],[\"109_slaughterhouse_providencia_meats_zones\"],[\"734_vbnc_spc32hcdabe_reporter_spc32h\"],[\"1015_foodpathogen_fonao_melons_timeline\"],[\"436_microbiota_biogeographical_foodservice_preprocessing\"],[\"267_bryozoans_bleach_pyrene_qaqc\"],[\"715_exogenous_acidextractable_pb_reducible\"],[\"10_campylobacter_jejuni_caecal_campylobacteriosis\"],[\"594_ttx_litigation_localstate_toxidrome\"],[\"15_glutenfree_gluten_celiac_gfd\"],[\"442_variability_rope_amyloliquefaciens_pan\"],[\"445_naples_sarcoma_nonlocal_caserta\"],[\"571_sampling_qc_powdered_plans\"],[\"260_responsibility_cues_perceived_hefei\"],[\"856_salads_vendors_hyderabad_onions\"],[\"828_pcbbp_pcb_freshwater_serum\"],[\"99_phytoremediation_hyperaccumulators_situ_symbioses\"],[\"759_beef_nontyphoidal_hms_roast\"],[\"292_cholera_cholerae_o1_aor\"],[\"29_ozone_rci_rw_rwtww\"],[\"102_m1_lactating_infants_afm1\"],[\"1334_relaying_lamellibranch_sardinia_retain\"],[\"569_vmss_hormones_bcfs_bmfs\"],[\"910_fluorene_100mgkgday_monohydroxylated_rats\"],[\"319_nanomaterials_afb1_biosensors_nanoparticles\"],[\"1206_fugacity_fugacities_multimedia_equilibrium\"],[\"568_nrtpcr_hav_hepatitis_virus\"],[\"634_phthalate_dehp_paes_pae\"],[\"123_sensing_pou_biosensors_gmr\"],[\"1208_terrorist_attack_motives_infrastructures\"],[\"418_ota_ots_raisin_ochratoxins\"],[\"410_pb_cu_pteloaded_radicle\"],[\"1228_vcjd_bid50_batches_ground\"],[\"575_fcs_nhalamines_nhalamine_coatings\"],[\"146_veal_dehiding_carcasses_enterobacteriaceae\"],[\"1220_o2_n2_bell_map2\"],[\"1331_street_kumasi_rotavirus_estimates\"],[\"1332_rooibos_delicate_tea_prohibits\"],[\"283_cheese_unpasteurized_cheeses_crema\"],[\"577_plasma_cold_app_213\"],[\"390_gbs_mollicutes_spores_quantification\"],[\"628_bioburden_cardboard_encapsulated_polymers\"],[\"26_eos_oils_toc_preservatives\"],[\"909_checklist_score_butcher_violation\"],[\"752_strawberries_sfd_aureus_fluidization\"],[\"912_me_panel_liat_laboratorydeveloped\"],[\"1233_multistate_fsis_outbreakassociated_etiologic\"],[\"193_honey_honeys_specification_beebread\"],[\"296_incident_compendium_catastrophes_incidents\"],[\"761_dec_ar_waters_diarrheagenic\"],[\"766_thq_alba_vietnam_084\"],[\"1130_continuum_correlation_gec_indicator\"],[\"421_volume_tree_this_the\"],[\"352_glial_gut_mycotoxicosis_colibacillosis\"],[\"259_labelling_flour_actors_nudges\"],[\"754_poultry_older_behavior_husbandry\"],[\"47_periphyton_cd_rice_paddy\"],[\"755_tio2_nps_coatings_uvirradiated\"],[\"404_fomites_viruses_enteric_virus\"],[\"1127_spatula_devices_exudate_smoked\"],[\"337_mrsa_mcsacon_aureus_sccmec\"],[\"157_toxaphene_pcddfs_dlpcbs_congeners\"],[\"341_minced_ashaiman_meat_lebanon\"],[\"609_sbdas_fouling_mg_gsers\"],[\"622_enterohemorrhagic_caused_attributable_cholera\"],[\"493_seals_hocs_sole_ringed\"],[\"375_dairy_sporeformers_premature_wasted\"],[\"266_tmf_tmfs_escroc_web\"],[\"1021_acr_acrab_arrays_microarraybiochip\"],[\"632_minamata_neurological_neurocognitive_neuropsychological\"],[\"1018_pakistan_origin_cameroon_trade\"],[\"746_ammonia_formaldehyde_seafoods_freshness\"],[\"1318_vms_nanograms_samplemethod_foodproducing\"],[\"141____\"],[\"806_prophylparaben_atcc_preservatives_efaecalis\"],[\"971_ifap_slaughterhouses_workers_slaughterhouse\"],[\"638_biochar_ssp_cocontaminated_rs\"],[\"760_infosan_icw_handling_servings\"],[\"887_corn_pistachio_aflatoxin_pistachios\"],[\"372_flavus_microgml_aspergillus_batzelladine\"],[\"893_apr_rbf_utensils_urbanizing\"],[\"377_strawberries_mining_mgkg_leaf\"],[\"376_hms_biosorption_algae_bioremediation\"],[\"894_inspections_cfm_violations_thirdparty\"],[\"1214_quinolone_ceftazidime_herbs_acinetobacter\"],[\"1213_smelter_vicinity_histological_loaels\"],[\"732_dcssop_fishprocessing_monocytogenes_padj\"],[\"835_goth_ci_enterica_95\"],[\"1322_inmates_adh_prison_arkansas\"],[\"1174_rtc_20732005_readytocook_worry\"],[\"83_phages_phage_salmonellaphages_cocktail\"],[\"779_malic_sanitizer_reductions_quat\"],[\"98_mirnas_metalsmetalloids_tolerance_eggplant\"],[\"280_sporulation_bacillus_differentiation_nprrdependent\"],[\"811_phagebased_phage_lytic_bacteriophages\"],[\"807_se_speciation_wanshan_peroxidase\"],[\"1182_homogenization_fastprep24_innermatrix_paste\"],[\"765_methemoglobinemia_nitrates_disorder_exams\"],[\"788_sandwiches_rojak_shawarma_klebsiella\"],[\"784_cilantro_cpc_libraries_24hour\"],[\"896_childhood_stool_bias_familystyle\"],[\"225_atp_a3_hyp_adp\"],[\"290_parasitic_zebra_intestinal_amebiasis\"],[\"320_chlorpyrifos_pesticide_triazophos_icelisa\"],[\"289_sers_rf_surfaceenhanced_raman\"],[\"1097_hantavirus_rodents_hemorrhagic_excretions\"],[\"1093_pfos_mrna_fetida_ddts\"],[\"1090_ishikari_testosterone_rankoshi_copcbs\"],[\"762_vocs_ota_aspergillus_13d\"],[\"1029_purpurea_etp_tempe_bongkrekic\"],[\"479_aquifer_groundwater_nonimpacted_postrecycling\"],[\"861_carota_daucus_silesia_lycopersicum\"],[\"351_eps273_plumbagin_aeruginosa_antibiofilm\"],[\"97_parasitic_parasites_vegetables_cox1\"],[\"165_aas_aa_aristolochic_ben\"],[\"934_ci_95_african_goat\"],[\"927_yam_rad_rp_rpa\"],[\"61_farsc_promotionincreased_selection_ema\"],[\"1109_arctic_russian_regions_blood\"],[\"706_pepper_red_rpn342_ginger\"],[\"859_potsdam_hatchery_goose_serovars\"],[\"796_tularensis_cin_psb_itc\"],[\"1403_clavata_saprochaete_casecase_clade\"],[\"556_cruzi_triatomines_oral_mammals\"],[\"1013_delphi_internationalization_fulltext_safetyrelated\"],[\"1026_criteria_fbos_productions_shelflife\"],[\"203_afm_afm1_nonexposed_ngml\"],[\"1025_vre_esbl_methicillin_austrian\"],[\"790_silo_disinfestation_grain_acc\"],[\"253_fiber_mycotoxin_repartitioning_byproducts\"],[\"449_reserve_ochratoxin_mycomix_cranes\"],[\"477_moe_carcinogenicity_swedish_mcda\"],[\"1420_epec_tehran_stx_enteropathogenic\"],[\"431_resistances_mlrs_accessions_germplasm\"],[\"433_tet_312_55_integrons\"],[\"852_sth_schistosomiasis_victoria_deworming\"],[\"1339_french_enns_urinary_external\"],[\"402_biosolids_smt_sulphonamides_ppcps\"],[\"557_sb_tmsb_antimony_sbv\"],[\"1111_pahs_cardiac_nansi_pyrolytic\"],[\"850_carbendazim_cp_chlorothalonil_photolysis\"],[\"560_seals_porpoises_baikal_helgoland\"],[\"561_blochii_mariculture_bpa_4op\"],[\"748_cave_westerdijkiae_cheese_salami\"],[\"405_ops_dichlorvos_optical_biosensing\"],[\"399_alerts_supplements_nhps_canada\"],[\"151_sm_flock_flocks_salmonella\"],[\"1190_saew_duws_electrolyzed_dental\"],[\"1187_butyltins_fugacitybased_hhra_era\"],[\"862_algal_algae_dehydrated_parasites\"],[\"22_aptamers_aptasensors_aptamer_selex\"],[\"179_ad_manure_digestate_fyms\"],[\"285_metalloids_ip_uptake_transporters\"],[\"882_laver_shredded_nov_seaweed\"],[\"413_fccs_lists_fccdb_fcm\"],[\"869_amc_kratom_ecc_cfugm\"],[\"475_lutheri_algae_arsenic_aggression\"],[\"287_lenses_cosmetic_creams_prescription\"],[\"596_osctf_osmet1_epigenetic_cg\"],[\"73_platelet_platelets_csplts_obizur\"],[\"1408_beachcast_dolphins_live_blubber\"],[\"1406_sikkim_morganella_piperacillintazobactam_345\"],[\"1049_illegally_intoxications_poland_romania\"],[\"871_probability_parkinsons_having_dlpcb\"],[\"601_lasparaginase_fermentation_ssf_solidstate\"],[\"481_cafeteria_hands_ants_handlers\"],[\"602_cfp_ciguatera_bivalve_greek\"],[\"773_trvs_p95_lebanese_afm1\"],[\"1200_traditionallyprocessed_streets_maputo_233\"],[\"797_cosmetics_cosmetic_plasmamass_kerala\"],[\"295_dioxide_chlorine_ppm_oxidant\"],[\"112_pcb_pcbs_congeners_cozmoman\"],[\"603_paes_ocps_china_sum\"],[\"995_carrots_conventionally_organicallygrown_interelement\"],[\"122_mushroom_mushrooms_straw_pleurotus\"],[\"36_reprocessing_duodenoscope_duodenoscopes_bronchoscopes\"],[\"747_wastewater_sewageirrigated_loading_irrigated\"],[\"473_carcinogenic_lamb_carcinogens_organically\"],[\"263_packaging_ppnwfgae_mat_incorporation\"],[\"114_datura_opium_thebaine_poppy\"],[\"770_macrophytes_barasat_north24pargana_kanchrapara\"],[\"408_rainwater_ml_topsoil_release\"],[\"543_enteritidis_serovars_t3ss_inva\"],[\"781_enterococci_efaafs_gele_cyla\"],[\"33_arsenic_arsenite_ntds_dats\"],[\"394_game_waste_bins_feedback\"],[\"549_loess_eexem_eroding_leaching\"],[\"344_tes_bc_fmbc_biochar\"],[\"950_wgs_bareilly_distances_wholegenome\"],[\"1145_ed_thyroidtargeting_toxicantnutrient_eg\"],[\"1138_kgy_irradiation_buckthorn_colour\"],[\"430_honduras_butcher_rodents_migrant\"],[\"1226_greens_leafy_spinach_mesophiles\"],[\"113_insects_house_flies_edible\"],[\"737_o157h7_pcrbased_serotyping_primers\"],[\"1162_pet_extrusion_fat_doses\"],[\"370_chrysanthemum_carbamazepine_plantcrop_cyantraniliprole\"],[\"281_stones_metalrba_barbary_urinary\"],[\"528_ptes_usepa_icrp_ingestion\"],[\"406_hg2_biosensors_electrochemical_thyminehg2thymine\"],[\"345_antiadhesive_polysaccharides_coatings_implantassociated\"],[\"1019_crisprs_eae_flour_stec\"],[\"139_ionization_qbody_immunoassays_ambient\"],[\"462_137cs_litter_stream_radiocesium\"],[\"388_forage_grazing_mgkg_fe\"],[\"456_kodo_millet_pakistan_commodities\"],[\"276_metabarcoding_dna_taxa_taxonomic\"],[\"454_chromium_fa_cr_sunflower\"],[\"361_restaurant_outbreaks_buffet_restaurantassociated\"],[\"627_flu_enhancers_flavour_ghana\"],[\"453_endolysins_endolysin_engineering_bacteriophage\"],[\"1098_pctoc_flavourings_biotech_fragrances\"],[\"580_seiv_se_biosenps_stabilized\"],[\"926_noxious_fitforpurpose_nft_workplace\"],[\"739_aunp_graphene_diatoms_minima\"],[\"378_mericon_stec_stecspecific_otype\"],[\"199_graminearum_agmatine_transcriptomic_host\"],[\"767_pigs_suihominis_sarcocystis_buildings\"],[\"103_chlorine_paa_vv_fungicide\"],[\"499_cld_kids_fatness_empty\"],[\"360_allergy_allergens_ovalbumin_allergenic\"],[\"948_vtg_organotin_lizards_estrogenic\"],[\"925_scat_blueberry_deer_dung\"],[\"722_sushi_glove_gloves_hands\"],[\"949_amendment_phosphate_dapkg1_500mg\"],[\"548_gloved_aerogenes_dropped_watermelon\"],[\"1215_biosolids_oak_sludge_spruce\"],[\"777_towels_ow_mesostructured_sio\"],[\"348_bc_sublethal_motility_qs\"],[\"338_gluten_qlamp_glutenfree_celiac\"],[\"57_ginseng_fumigation_sulfur_herbal\"],[\"1175_mine_ck_t3_t1\"],[\"951_kbd_intensification_measures_preventive\"],[\"487_haccp_220002018_ccp_supranational\"],[\"1357_phylogroups_phylogroup_tsh_iucd\"],[\"550_multistrain_plantarum_cv_strain\"],[\"947_pimaricin_antifungal_amps_allicin\"],[\"551_don_deoxynivalenol_trichothecenes_trichothecene\"],[\"173_nanotio2_titanium_tio_tinps\"],[\"1218_medicinal_slovak_extracts_bdl\"],[\"87_insects_edible_asaia_insect\"],[\"240_arg_args_antimicrobialresistance_trout\"],[\"778_proteins_mandibular_glands_hemolymph\"],[\"941_bowls_trailers_meatball_bacterias\"],[\"938_salmon_brook_trout_pacific\"],[\"494_cardiotoxicity_tcs_acm_ht22\"],[\"5_aflatoxin_fumonisin__\"],[\"1234_mills_patrons_milled_sheds\"],[\"1360_geohealth_hub_occupational_grant\"],[\"946_cookware_pots_dryheat_moistheat\"],[\"513_alkyl_octyl_brevis_syringates\"],[\"751_propazine_pcp_npa_leguminous\"],[\"117_plastic_particles_microplastics_condors\"],[\"976_afl_fum_feeds_zea\"],[\"194_bedding_poultry_ostrich_promoters\"],[\"749_foodborne___\"],[\"977____\"],[\"174_patulin_expansum_patulinproducing_paludigenum\"],[\"291_million_13_latest_worldwide\"],[\"980_rinse_carcass_rinsate_agreement\"],[\"979_veneto_ruditapes_weekly_shellfish\"],[\"1352_infarction_myocardial_epadha_pcb\"],[\"437_clenbuterol_imprinted_mips_mipms\"],[\"434_tennessee_cucumbers_pattern_epidemiologic\"],[\"1350_ibd_clinicians_remission_patients\"],[\"1173_microbiomes_foodproduction_disposable_dish\"],[\"954_morphological_features_viable_physiological\"],[\"1170_wells_rivers_manmade_flood\"],[\"1148_bap_antibap_fluidic_satisfying\"],[\"1355_military_bioterror_drill_unusual\"],[\"931_ergot_ergotism_soybeanbased_saint\"],[\"758_vocs_pah_ngg_headspace\"],[\"118_plasma_virucidal_cap_ar\"],[\"744_campylobacteriosis_nz_shoppers_labels\"],[\"184_ota_carbonarius_biosynthetic_ochratoxin\"],[\"277_listeriosis_lm_emp_allrterteprodrand\"],[\"357_implant_cryogels_povidoneiodine_ibuprofen\"],[\"1354_cartagena_colombia_pathotypes_coli\"],[\"1172_ehmc_uvf_imposex_tbt\"],[\"517_fsma_novs_19982013_outbreaks\"],[\"953_shooting_abandoned_landfill_sylvestris\"],[\"343_irs_malaria_pesticide_warehouses\"],[\"1369_m3_expanded_ozone_polystyrene\"],[\"1361_photo_catalyst_nanocrystalline_uvdrs\"],[\"465_360_cezarka_pond_vitellogenin\"],[\"789_peanuts_mycobiome_hb_ln\"],[\"503_oats_oat_glutenfree_avenins\"],[\"1313_colig_kitchens_salad_produce\"],[\"823_farmworker_hand_abhs_abhsbased\"],[\"1312_shigella_snacks_fried_dhaka\"],[\"495_wham_tropical_vii_ewaste\"],[\"783_diagnoses_home_selfreporting_nursing\"],[\"1343_crohns_map_prove_disprove\"],[\"330_casepatients_kratom_bovismorbificans_javiana\"],[\"990_ebns_unboiled_boiled_capsicum\"],[\"381_kg1_sperm_mg_bioheapleaching\"],[\"774_clays_packaging_cheese_extend\"],[\"989_mip_mips_imprinted_molecularly\"],[\"424_drought_tropics_recreational_idtm\"],[\"498_grape_vinegars_varieties_blanching\"],[\"1314_chamber_gases_refreshing_gas\"],[\"552_cemcem_loloh_juices_juice\"],[\"1268_etec_mpng_thailand_estpositive\"],[\"458_heparin_heparins_porcine_enoxaparin\"],[\"1396_simulation_vasa_analytics_encapsulates\"],[\"1024_meathandling_pmpp_gmpp_0000\"],[\"607_traceback_leafy_greens_stec\"],[\"985_mnps_nanotechnology_nanomaterials_industries\"],[\"1101_input_export_budget_loading\"],[\"604_pylori_buffet_briwates_hp\"],[\"942_bvocs_vocs_sensors_s3\"],[\"832_biotransformation_proximal_toxindb_biogenic\"],[\"275_fumonisin_antifungal_aflatoxin_reports\"],[\"1117_faithfully_214fold_pre1950_polychaete\"],[\"270_pa_pas_potencies_pyrrolizidine\"],[\"506_sands_lions_bitumen_stranded\"],[\"414_zea_masked_blastocysts_boars\"],[\"1235_fecl3_mays_mc_sludge\"],[\"1365_singlecell_fluorescencebased_microbiology_functioning\"],[\"52_afm_weather_stressors_current\"],[\"417_mucor_microbiota_mucosaassociated_mice\"],[\"531_chlordecone_gwg_prenatal_cord\"],[\"541_chondrocytes_t2_don_rat\"],[\"1020_wqi_wastewater_welfare_irrigation\"],[\"1008_anses_diapers_dlpcbs_breast\"],[\"1133_aphids_mustard_sludge_erysimi\"],[\"208_bpa_bisphenol_bps_badge\"],[\"738_phones_mobile_venues_toilets\"],[\"1002_zebrafish_amphipods_pco_warming\"],[\"400_code_multiclass_kanamycin_ags\"],[\"238_migration_packaging_substances_headspacegc\"],[\"1003_abdominal_vomiting_religious_school\"],[\"54_debris_eps_microplastics_plastics\"],[\"999_stormwater_supplies_nordic_potable\"],[\"382_rmbds_pet_rmbd_pets\"],[\"1153_aquacultures_dom_landbased_proteinlike\"],[\"384_retort_dna_ddpcr_pouch\"],[\"422_histolytica_lemurs_definitive_lemur\"],[\"420_multilocularis_echinococcosis_park_alveolar\"],[\"1367_carbonates_carbonate_wheat_carbonatesdepleted\"],[\"764_gbeli_street_vendors_amenities\"],[\"235_biofilms_hoses_persister_o111h8\"],[\"1366_arcobacter_creek_stream_1238\"],[\"386_peptides_amps_afps_proteolysis\"],[\"439_doninduced_satiety_don_res\"],[\"659_beefburgers_casepatients_heidelberg_blocked\"],[\"525_wine_grape_pomace_kinds\"],[\"143_afs_afb_parasiticus_aspergillus\"],[\"27_wgs_isolates_listeriosis_lineage\"],[\"110_esblproducing_esbl_hatchery_enterobacteria\"],[\"242_handwashing_soap_caregivers_antecedents\"],[\"512_plantarum_ufg_lipase_antifungal\"],[\"68_mnps_separation_chamber_magnetic\"],[\"58_allergic_eoe_oma_anaphylaxis\"],[\"397_epsilon_seaweed_amines_pgml\"],[\"187_prothioconazole_enzymes_mycotoxins_bcas\"],[\"673_cassia_officinalis_eos_cinnamaldehyde\"],[\"1224_poultryassociated_foodhandling_1114_279\"],[\"510_supplements_colors_marketplace_dshea\"],[\"967_nanocomposites_magnetic_coreshell_dyes\"],[\"983_oils_pertaining_agrifood_mycotoxinscontaminated\"],[\"833_ryr_afs_cit_coix\"],[\"48____\"],[\"204_radiocaesium_iodine_gammaray_astragali\"],[\"108_aflatoxin_fgis_poults_shipments\"],[\"940_technic_highways_metallic_highway\"],[\"441_omega3_lipids_s4_dha\"],[\"471_cdcontaminated_maize_willow_intercropping\"],[\"636_flp_sp_vannella_beetroot\"],[\"444_sausages_pork_cuts_minced\"],[\"326_nanosemiconductors_mycotoxin_sensing_rmos\"],[\"1225_flagellar_fljb_flic_attachment\"],[\"1212_bm_if_infant_daly\"],[\"964_bacteriocinproducing_pgtel_mushroom_egde\"],[\"1180_olive_pp_orchards_cp\"],[\"526_ieb_epithelial_intestinal_ctl\"],[\"524_hm_lowgrain_hydrophobic_mlps\"],[\"692_foliar_compartmentation_uptake_biogeochemical\"],[\"244_mercury_merb_mera_coalfired\"],[\"782_goji_fruits_antioxidant_barbarum\"],[\"264_grebes_ghr_moulting_gcm\"],[\"366_citrinin_ctne_monascus_cit\"],[\"297_pahs_pah_grilling_propolis\"],[\"984_libs_4202009_140mgkg1_conama\"],[\"522_teat_silage_herd_microbiota\"],[\"663_lactis_hgii_lactococcus_ch\"],[\"937_as5_tritici_inoculation_scii24\"],[\"182_bacteriocins_bacteriocin_lab_geobacillin\"],[\"714_minced_vocs_ld_meat\"],[\"1356_snowshoe_hare_boreal_smelter\"],[\"710_game_cumulative_mines_lead\"],[\"936_manure_dtpaextractable_manures_exchangeable\"],[\"935_avermectins_avermectin_abamectin_ecotoxicity\"],[\"1129_akk_mice_probiotics_gut\"],[\"1134_args_swine_feedlots_receiving\"],[\"171_eggs_ebns_rawunclean_se\"],[\"711_durum_conform_ts_caudatus\"],[\"134_antifungal_lab_bread_biopreservation\"],[\"920_lad_nir_gh_mahalanobis\"],[\"1359_ym_nissui_compact_aoac\"],[\"1223_slaughterhouse_ec_carcasses_slaughterhouses\"],[\"1358_foodomic_liberated_peptidomic_peptidomics\"],[\"1184_sustainability_constraints_agrifood_produce\"],[\"720_technosols_urban_rooftop_entails\"],[\"945_neurotoxicity_neurotoxicants_chd_neurotoxicology\"],[\"955_drain_qac_restructuring_biogas\"],[\"1227_broth_k92_lactis_epidermidis\"],[\"1210_lovastatin_glvs_gluconic_amylases\"],[\"719_gathering_awserd_aiun_dakhla\"],[\"944_recalls_recall_cosmetic_class\"],[\"542_bde209_cat_corrective_ohcs\"],[\"687_mined_mining_romanian_mgkg\"],[\"255_aquifers_groundwater_zone_flood\"],[\"268_mycelial_mycorrhization_noninoculation_ecotypes\"],[\"190_iplc_mining_sovereignty_nigeria\"],[\"987_benzophenone_octocrylene_perchlorate_edc\"],[\"847_imidacloprid_pesticide_pesticides_potato\"],[\"170_silver_nanoparticles_photocatalytic_metalbased\"],[\"1323_ftir_tracking_microcultivation_phoma\"],[\"1229_whitebait_pufferfish_juveniles_ttx\"],[\"467_software_network_foodchainlab_supply\"],[\"1232_agnps_paamagnps_metamorphic_juveniles\"],[\"529_aboriginal_nonaboriginal_t2dm_burkina\"],[\"491_derelict_biodiversity_degradation_csa\"],[\"508_li_lacs_lithium_reach\"],[\"661_colloid_pdms_replicas_retention\"],[\"521_cod_freshcut_tds_cld\"],[\"658_solubility_rice_flooding_metalloids\"],[\"1345_lobsters_eighteen_american_\"],[\"1346_refrigerated_characterised_shelflife_rte\"],[\"234_septox_hpmp_lesions_bmc\"],[\"643_mosquito_albopictus_larval_gy\"],[\"80____\"],[\"446_visual_afs_ilamp_onsite\"],[\"660_pet_owners_rmbds_diets\"],[\"150____\"],[\"1347_preharvest_microbials_pathogenresistant_directfed\"],[\"972_listeriosis_lymphocytic_africa_leukemia\"],[\"1348_liposomes_chitosanstabilised_poreforming_apep10\"],[\"960____\"],[\"959_chives_enteroparasites_prevalences_vegetables\"],[\"1199_ec_epec_percent_pathotypes\"],[\"838_nanocu_deposition_sperm_andrological\"],[\"844_canned_sardines_shaoxing_pi\"],[\"111____\"],[\"53_fish_prepacked_recalls_tuna\"],[\"956_nonbiological_mef_fermentation_pef\"],[\"527_heating_microwave_conductive_dielectric\"],[\"463_bse_prion_cwd_cjd\"],[\"14_toxinproducing_shiga_shigatoxin_goudalike\"],[\"1203_nonenterohemorrhagic_lasts_foodbome_signs\"],[\"652_rwbp1004d_nterminal_denantiomer_rrlfrrilrwlnh2\"],[\"653_considerably_materials_vary_tolerated\"],[\"392_pah187270_plasmid_kbp_mega\"],[\"460_lesions_taher_ewe_sheep\"],[\"92____\"],[\"239_cannabis_cbd_thc_ecps\"],[\"183_deep_learning_images_elytral\"],[\"511_rtpcr_rtipcr_quantifications_pointofcare\"],[\"1171_pellets_fish_waste_tilapia\"],[\"1169_enantiomers_metalaxyl_leaching_htela\"],[\"933_predictive_models_antagonism_competition\"],[\"358_biosensors_carbon_nanomaterials_nanotechnology\"],[\"1157_surfactants_soap_hand_lauryl\"],[\"480_lysates_afb1_vgf2_anguilliseptica\"],[\"1152_bedding_sbs_sulfites_adi\"],[\"509_agm182_flavus_peanut_drought\"],[\"930_aggsas_nanoagent_nanoagents_wounded\"],[\"488_bsg_b1_multimycotoxin_ochratoxin\"],[\"664_taihu_bed_om_lake\"],[\"135_mycotoxins_operations_mycotoxin_detoxification\"],[\"669_establishments_restaurants_inspection_nears\"],[\"1349_lz206_plantaricin_gramnegtive_3212951bp\"],[\"1136_evaluations_salmonellait_39320_regione\"],[\"507_dumpsite_ibadan_recycling_ulab\"],[\"1351_gummy_fivesecond_rule_carpet\"],[\"516_huazhong_moniliforme_threats_autumn\"],[\"1132_biosensors_tabh_enzymebased_nonenzymatic\"],[\"492_spices_chili_pepper_verbena\"],[\"982_mt_eol_ulab_monodora\"],[\"676_sialyllactoses_neuac_lactic_epss\"],[\"1116_cyanogenic_cyanide_cassava_glucoside\"],[\"1146_enps_nps_caco2_zno\"],[\"1353_hvld_hirmi_tigray_principally\"],[\"72_aflatoxins_afb_produced_afs\"],[\"447_ntm_mycobacterium_mycobacteria_filters\"],[\"78_cr_chromium_cws_tannery\"],[\"540_nonsterile_dalbavancin_outpatient_letters\"],[\"271_characterisation_ch_characterised_corrects\"],[\"236_corn_cats_fd_coproducts\"],[\"137_amd_acidobacteria_paddy_phylum\"],[\"168____\"],[\"177_oxisterigmatocystins_sterigmatocystin_secondary_produced\"],[\"380_notorious_pathogen_protozoan_foodborne\"],[\"994_sachet_am_ivermectin_ram\"],[\"689_plastic_recycling_prolonging_undesirably\"],[\"532_adjoining_farmland_peri_steel\"],[\"1005_bohai_sccps_sccp_sea\"],[\"273_ma_amendment_alfisol_ultisol\"],[\"997_buckthorn_hippophae_barhrm_hrm\"],[\"209_fao_occurrence_codex_above\"],[\"274_genus_animalpathogenic_serbia_ear\"],[\"1167_alternata_alternaria_jujubes_alt\"],[\"886_ias_daly_infant_cereal\"],[\"917_probiotics_probiotic_saudi_labeling\"],[\"1113_residential_stimulatory_aab_bacteria\"],[\"819_foragers_social_collective_colony\"],[\"318_methicillinresistant_livestockassociated_ue_thirtythree\"],[\"497_eos_antibiofilm_pterostilbene_resveratrol\"],[\"1006_travelers_athletes_campassociated_physicians\"],[\"694_clam_oxytetracycline_2002657ue_amx\"],[\"695_ecoefficiency_ardl_longrun_bounds\"],[\"1163_salts_salterns_sea_isolating\"],[\"1143_determinations_inhibitory_presents_first\"],[\"534_growthinactivation_fermentation_pm_alcoholic\"],[\"504_cadmium_iran_science_bangladesh\"],[\"106____\"],[\"279_mili_mycotoxins_mycotoxinassociated_cyp450\"],[\"539_xylan_waste_sar_msw\"],[\"537_drycured_dryfermented_meats_sausages\"],[\"963_afm1_binder_pscore_economically\"],[\"1219_colorants_phycobiliprotein_cphycocyanin_question\"],[\"701_farmanimal_livestockoriginated_endless_progressed\"],[\"363_verticillioides_aggressiveness_fumonisin_hap\"],[\"369_pork_nts_typhi_vitt\"],[\"962_microbe_volatiles_insect_volatile\"],[\"776_ens_enniatins_feeds_fish\"],[\"704_psychrotrophic_legs_wings_carnobacterium\"],[\"1017_clinicians_emerging_unusual_infections\"],[\"679_fwbc_mortar_rwbc_wood\"],[\"678_terns_seabird_louisiana_pops\"],[\"535_caerulescens_ganges_hyperaccumulating_cdcontaining\"],[\"536____\"],[\"991_iveo_chteo_tchf_coix\"],[\"633_mrsa_cows_aureus_milk\"],[\"992_occupational_biologic_simultaneously_simultaneous\"],[\"699_ice_packaged_premises_isb\"],[\"1316_hp_peroxide_hydrogen_disinfectant\"],[\"1119_bacteriocins_biofilm_inhibition_bacteriocinogenic\"],[\"323_phenological_stress_gru_spectral\"],[\"1120_fpp_fbps_nasba_fbp\"],[\"700_loe_polycyclic_envri_aromatic\"],[\"1126_weee_black_plastic_fcms\"],[\"1128_shells_danish_destroyed_weapons\"],[\"842_circumdatins_advancement_instrumental_fragmentation\"],[\"411_respirators_device_maude_sentinel\"],[\"843_paa_go_disinfectant_disinfectants\"],[\"335_amf_mycorrhizal_arbuscular_viride\"],[\"16_microalgae_fpbs_vulgaris_spacecraft\"],[\"185____\"],[\"815_pgp_sl2_oxalicum_pgpr\"],[\"403_rice_northwest_cr_hms\"],[\"1315_vulnerability_0451_explorative_0411\"],[\"416_bottles_pet_recycled_recycling\"],[\"608_abattoirs_noncompliance_chicken_slaughterhouses\"],[\"625_aflatoxins_bentonite_degrade_consortium\"],[\"1317_pcn_potencies_inadvertent_nonoccupational\"],[\"249_sfs_kites_feeders_bird\"],[\"805_ripening_hsc_hpp_rind\"],[\"688_circular_halogenated_composting_organics\"],[\"1142_lab_antilisterial_cultures_cocultures\"],[\"247_cream_ice_ceramic_drinks\"],[\"429_mycotoxigenic_malaysia_fungi_climate\"],[\"1177_notifications_af_nuts_importers\"],[\"284_aimthe_backgroundwhile_ndmproducing_passages\"],[\"1216_partially_untreated_1210_ssps\"],[\"1209_hospital_sciences_servants_diabetic\"],[\"1320_cultivars_heading_brown_rice\"],[\"1139_army_fbi_dcdoh_restaurant\"],[\"616_osps_storehouses_ocp_ocps\"],[\"91_aflatoxins_secondary_metabolites_nonaflatoxigenic\"],[\"1319_powered_designs_hampered_quantify\"],[\"812_intervention_interventions_effectiveness_onfarm\"],[\"1135_phthalate_battery_pcb180_dimethyl\"],[\"803_cnms_pnps_arms_microcin\"],[\"693_preservativefree_confectionery_webbased_searching\"],[\"813_sfh_soilricehuman_oasis_soilwheat\"],[\"800_recalls_recall_recalled_lb\"],[\"690_fragments_calorific_amendments_silybum\"],[\"808_metagenomics_shotgun_genome_workflow\"],[\"612_mercury_drivers_hg_amap\"],[\"1321_mud_lemongrass_sludge_ww\"],[\"837_permafrost_alaska_termite_alaskan\"],[\"614_hay_microfungi_filamentous_mycotoxigenic\"],[\"809_dealt_vs_rte_290393\"],[\"1140_sumapaz_brucella_brucellosis_livestock\"],[\"1340_stickleback_alaska_pfass_blackfish\"],[\"496_paratyphoid_nonhostspecific_tularemia_zoonosis\"],[\"46_microplastic_microplastics_beverages_micro\"],[\"1161_sulfite_sulfites_sodium_bisulfite\"],[\"530____\"],[\"1016_mtdnacoi_pupal_cockroach_lengths\"],[\"1159_1823_profit_competitiveness_marketability\"],[\"340_flavourzyme_biofilm_biofilms_eps\"],[\"696_phosphorus_lowgrade_dihydrate_raising\"],[\"1165_catechol_wastes_illucens_soldier\"],[\"1370_feces_animal_washrelated_freeroaming\"],[\"1155_leptin_healing_pasta_wound\"],[\"814_members_family_closely_related\"],[\"1344_143849_2305_deleteriously_931456\"],[\"961_arabia_saudi_maize_staple\"],[\"772_catalase_afb_pesticidebased_biosolutions\"],[\"367_comprehension_dearth_foodspoilage_procedural\"],[\"452_wgs_ncbi_interpreting_pseudotuberculosis\"],[\"966_alpharadiation_emitter_mushrooms_accumulators\"],[\"799_ota_ochratoxin_coffee_teenagers\"],[\"795_dissected_volatile_indole_secreted\"],[\"1222_mycotoxicity_undertake_feeds_impose\"],[\"733_taf_afm1_antibodies_aflatoxin\"],[\"269_determinate_proportionprevalence_randomized_attempted\"],[\"1364_evolution_shown_work_rapid\"],[\"546_mra_modelers_casestudy_illustrating\"],[\"1154_farmers_markets_produce_128\"],[\"681_2i4mp_cow_pasteurization_dung\"],[\"1368_24d_shortlived_analyte_publications\"],[\"702_poisonings_tea_clinicians_kong\"],[\"128____\"],[\"1150_multidrugresistant_multidrug_emergence_resistant\"],[\"51_chive_chickpea_tomato_jujube\"],[\"1147_carob_prosopis_flour_abound\"],[\"374_arair_aro2_cao_cd\"],[\"554____\"],[\"829_mold_infants_households_phps\"],[\"501_communityassociated_surveyed_status_emerging\"],[\"834_gnotobiotic_lungs_microisolator_urt\"],[\"836_neuronal_myenteric_vnmf_carrasqueira\"],[\"387_uvcled_nuv_light_slush\"],[\"635_alps_metamorphism_thicknesses_sulfosalts\"],[\"1118_penitrems_af_biosynthesis_crustosum\"],[\"1115_acr_acrylamide_axis_neurotoxicity\"],[\"438_spore_spores_nomenclature_heatresistant\"],[\"698_rl_biofilms_rhamnolipid_biofilm\"],[\"697_nanomaterials_nutraceuticals_nanotechnology_nanotechnologies\"],[\"1341_popularly_pakchoi_coexist_enter\"],[\"821_pantoea_growthpromoting_marshes_phytostabilization\"],[\"822_eggs_openair_fat_hbcdd\"],[\"827_clam_brachyuran_substitution_crab\"],[\"826_condiments_dnag_farinaceous_sciuri\"],[\"825_endophytes_sterilants_endophytic_tween\"],[\"354_aflatoxin_aflasafe_counties_households\"],[\"353____\"],[\"469_nematodes_taeniidae_meatborne_cestode\"],[\"1057_obesity_adipocyte_diffused_lifestyle\"],[\"31____\"],[\"237_smallspored_molds_necrotrophic_saprophytic\"],[\"331_afb1_bsaafb1_hrp_probe\"],[\"272_baked_oils_essential_eos\"],[\"362_emp_sampling_recovery_optimization\"],[\"286____\"],[\"885_micelles_ttcp_controllable_thymol\"],[\"324_listeriosis_scanty_lightly_accessing\"],[\"401_norovirus_premises_bathrooms_010\"],[\"916_fnu_racks_boards_cutting\"],[\"629_agentbased_corrective_abm_ls\"],[\"86_mutual_elimination_seasonality_details\"],[\"213____\"],[\"60____\"],[\"131____\"],[\"44_microplastic_microplastics_mp_mps\"],[\"908_packages_juice_hu_shopping\"],[\"1230_purification_nanomaterials_karofi_seepage\"],[\"703_street_papers_healthrelated_english\"],[\"913_canteens_cafeterias_breads_meals\"],[\"624_pandemics_proactive_diseases_reconstruction\"],[\"1198_electrolyzed_oxytoca_innocua_freundii\"],[\"294_fumonisins_fumonisin_enzymology_biochemistry\"],[\"600_months_villages_woil_fortification\"],[\"261____\"],[\"356_gb_bc_plaque_biochar\"],[\"986_franchise_storelevel_clauses_audited\"],[\"250_aloe_herbal_hads_pharmacopoeia\"],[\"427_antarctic_peninsula_fildes_lacustrine\"],[\"555_ochratoxin_ota_aspergilli_metabolite\"],[\"1186_alumina_conjugation_amphiphile_ligand\"],[\"82____\"],[\"426_mel_afm1_atrazine_multiclass\"],[\"637_fw_pha_methane_ad\"],[\"845_graphitic_photocatalyst_photocatalysis_nitride\"],[\"178_don_refining_degradation_deoxynivalenol\"],[\"685_mammary_mact_epithelial_bovine\"],[\"725_cassava_eaten_carob_staple\"],[\"1137_networks_copresence_conet_mutual\"],[\"892_impoverished_pmf_practically_0917732\"],[\"1197_macadamia_harvesting_mbombela_nutinhusk\"],[\"1196_inflorescences_slag_historic_thi\"],[\"1195_intention_tpb_beliefs_growers\"],[\"874_saginata_cysticercus_inspection_incisions\"],[\"599_aflatoxins_salient_afs_suppression\"],[\"1371_fermentations_spontaneous_regaining_citizen\"],[\"578_amr_nap_abr_sectors\"],[\"579____\"],[\"863_cecs_rw_offsite_watersoilplant\"],[\"583____\"],[\"1121_attacked_bunches_spoiling_corrugated\"],[\"425_colistinresistant_plasmidborne_plasmidmediated_colistin\"],[\"1193_biochar_siliconnanoparticles_salinityinduced_feoxyhydroxy\"],[\"559_cassette_instrument_melt_gelcycler\"],[\"293_nontyphoidal_enterohemorrhagic_enterohaemorrhagic_thermophilic\"],[\"558_synthetised_toxincontaminated_tofu_tenebrio\"],[\"849_coal_miningsmelting_dustfall_byproducts\"],[\"164_pesticides_opis_urban_herbicides\"],[\"1201_charter_mycokey_chartermycokeyeu_beneficiaries\"],[\"1372_imaging_spectroscopy_microorganism_timedomain\"],[\"872_turmeric_spectra_lssvm_imaging\"],[\"870_aptamersers_fitc_sensors_recognition\"],[\"1204_sonicating_swab_enhancements_aisi\"],[\"674_river_xj_jl_hilly\"],[\"877_cd_rice_edtaextractable_mno\"],[\"1141_mrsa_singled_655_crosscutting\"],[\"1202_voi_inspection_morocco_office\"],[\"468_oas_immobilization_ldhs_zeolitesupported\"],[\"1342_fdcaoh_efficacies_qac_hydroxide\"],[\"1192_puree_gmps_ofsp_compliance\"],[\"1205_leafy_rocket_harvest_stec\"],[\"145_glyphosate_gly_gbh_vescana\"],[\"906_ger_heterosis_hybrids_ear\"],[\"1333_hypocotyl_benin_boiled_in\"],[\"570_fertilization_digestate_tms_slag\"],[\"1179_fb_fumonisin_td_dd\"],[\"1112_fusaria_competitive_beneficial_fungi\"],[\"1335_ocps_egypt_ppddd_ppddt\"],[\"682_ume_ultramafic_mobility_sediment\"],[\"914_cigarette_litter_riyadh_streets\"],[\"680_eko_rte_sudanese_banknotes\"],[\"1328_qpcrs_reactions_polymerase_prevalent\"],[\"1327_vietnam_pork_consumed_commonly\"],[\"1330_reads_genomic_cytometry_ultralow\"],[\"683_pyrrolizidine_alkaloids_retrorsine_oregano\"],[\"729____\"],[\"718_inoculants_amendments_biofertilizers_fertilizers\"],[\"333____\"],[\"899_apples_apple_packing_excision\"],[\"1191_carotenoids_apocarotenoid_carotenoid_sfesfcqqqms\"],[\"1188_text_see_fertilizers_fertilizer\"],[\"890_bangladesh_multitrophic_heavy_bangladeshs\"],[\"220_antiviral_sfbs_biomaterials_polymers\"],[\"1189_ch_bcch_hr_bc075ch075\"],[\"857_preventative_nanoemulsions_indigestion_vouch\"],[\"129_infiltration_nanotechnology_nanobiotechnology_nbfs\"],[\"226_cyanobacteria_algae_bioplastics_pha\"],[\"407_genus_botanical_belonging_species\"],[\"855_shq_dehp_oc_rhb\"],[\"626_masks_composites_packaging_biodegradable\"],[\"1217_outstanding_desiccation_feature_thermal\"],[\"1336_sepiolite_mineral_fibrous_regeneration\"],[\"726_mt_bean_beans_russia\"],[\"566_fermentations_yeasts_craft_spoiled\"],[\"149_mps_wwtp_losw_mulches\"],[\"1325_h7n9_shanghai_influenza_lpai\"],[\"8_microplastics_macrophages_mps_mp\"],[\"684_sausages_biogenic_amines_fermented\"],[\"127_microplastics_microplastic_microplasticassociated_marine\"],[\"67_mfeo_nanoemulsion_nanomatrix_chitosan\"],[\"716_fa_ltam_ahr_dehp\"],[\"888_hh_hamburgers_beefsteak_crumbs\"],[\"472_wollastonite_cds_dmsa_amendments\"],[\"905_thiosulfate_chelating_hg_ligands\"],[\"486_multicountry_outbreak_monophasic_casecontrol\"],[\"364____\"],[\"409_esters_3mcpd_ester_frying\"],[\"265_electrochemical_aptasensors_aptasensorbased_turnoff\"],[\"907_ducks_arctic_feathers_reserves\"],[\"650_rainfed_mycobiota_sesame_stored\"],[\"1058_prisoners_prison_foodways_resettlement\"],[\"588____\"],[\"900_ebscohost_ver_relevance_title\"],[\"1096_julyaugust_october_trials_predict\"],[\"485_pops_software_dibenzo_pop\"],[\"584_stec_romaine_butter_o157\"],[\"831_composting_mortalities_biowastes_biosecurity\"],[\"1074_cil_lcms_mouse_metaboliccage\"],[\"895_et_tomatoes_phytobiota_agroecologies\"],[\"864_tds_chemicalfood_consists_saharan\"],[\"712_fluoride_ion_afb_environmental\"],[\"858_atoxigenic_environmentallyfriendly_profitability_aflatoxicosis\"],[\"898_jerky_refrigeration_bestbefore_dslc\"],[\"1035_faecalis_carnivorous_mdrpositive_adsrrsfingerprinting\"],[\"708_biofilmspecific_biofilms_nondestructive_deviceassociated\"],[\"709_smallmolecule_soon_sorghum_mycotoxins\"],[\"707_canjiquinha_corn_grits_gaseous\"],[\"1051_expired_nafdac_disposal_unused\"],[\"646_nanoparticles_incentivized_metalsbearing_anticorrosive\"],[\"1048_ms_malditof_chromatographic_chemometric\"],[\"1107_subsoil_arseniccontaminated_flooded_hyperaccumulator\"],[\"824_chytridiomycosis_predation_bd_copper\"],[\"840_hf_chemicals_disclosure_disclosed\"],[\"644_boar_leptospira_semen_extenders\"],[\"830_nanoclusters_ligandprotected_fcds_thiolated\"],[\"1031_paraben_parabens_ep_derivatives\"],[\"1425_43_34_sediment_total\"],[\"839____\"],[\"1324_anshun_dioxin_annan_smallscale\"],[\"1427_transboundary_robbing_sits_circulate\"],[\"435_rasff_notifications_alert_rapex\"],[\"904_maple_walnut_syrup_sap\"],[\"1040_coffee_foodcrops_seafoodand_sociopolitical\"],[\"1038_gwangyang_som_intrusion_bay\"],[\"919_nickel_calcium_excessive_ca\"],[\"641_ims_papt_imsrelated_impurity\"],[\"1009_cabbage_chinese_tmm_tmms\"],[\"615_aflatoxins_aflatoxin_herbal_noncompliant\"],[\"1373_mba_multimycotoxins_subtilis_devosia\"],[\"252_microplastics_ps_mps_microplastic\"],[\"1430_subsystems_soilfood_highpriority_physiologicalmolecular\"],[\"1428_kimchi_reducedsodium_napa_counts\"],[\"820_phyla_eighteen_illumina_chauvin\"],[\"879_insectbased_metabarcoding_barcoding_declared\"],[\"470_metabolites_discs_dd_degeneration\"],[\"1429_melanocytes_chlortetracycline_phototoxic_melanin\"],[\"642_plantcolonizing_xanthomonas_case_wilt\"],[\"474_et_ions_tc_graphite\"],[\"585____\"],[\"201_zen_zea_zenpositive_zearalenone\"],[\"1415_hydrometallurgical_parentmaterial_eluvial_illuvial\"],[\"865_fbd_brazil_beset_13163\"],[\"675_bss_foliage_abamplatanninns_azoxplatanninns\"],[\"605_atrmir_polyvinyl_homogenized_fleshy\"],[\"897_oshma3osnramp5osnramp1_accumulating_cd_lowcadmium\"],[\"1416_daphnia_multigenerational_dichromate_monophyletic\"],[\"851_balls_generaspeciesspecific_nigerians_micromorphological\"],[\"1424_susceptible_great_diversity_caused\"],[\"1410_enterotoxin_sweets_bacterium_foodpoisoning\"],[\"1092_seta_monitoring_ontologies_cs\"],[\"1409_tamale_tz_tuozaafi_hereby\"],[\"903_diluent_rh_vbnc_survival\"],[\"1411_sausage_algiers_daira_butchery\"],[\"713_boards_hong_cutting_wooden\"],[\"868_prtem_ready_farmtofork_qmras\"],[\"1414_timeliness_anomalous_gps_meaning\"],[\"915_daqu_baijiu_aromatype_fermentative\"],[\"1413_communicable_arbaeenia_syndromes_diarrhea\"],[\"1106_hms_nps_hhms_exsitu\"],[\"327_preservatives_natural_nonthermal_antimicrobials\"],[\"1102_lazio_sativus_micrornas_dysregulation\"],[\"1412_contaminantsnamely_microwavebased_mae_purificationenrichment\"],[\"911_describe_investigations_evaluation_aimed\"],[\"1036_nonfood_microbialcontaminated_recall_recalled\"],[\"1417_colonization_studied_distribution_we\"],[\"590_peanuts_dalys_2017may_osmaniye\"],[\"804_melanin_t4hn_microgravity_alternaria\"],[\"1077_recalls_2021_july_january\"],[\"587_nanoencapsulation_eosbioactive_eos_bioactive\"],[\"647_agroproduction_seeds_fenugreek_phytopathogenic\"],[\"1110_lda_prophylaxis_amu_cs\"],[\"1423_czech_republic_service_facilities\"],[\"1422_zoobenthos_carps_carp_periphyton\"],[\"1063_cadmium_agronomic_genetics_cysteinerich\"],[\"1064_inactivates_ubiquitinlike_cand1_cand1a\"],[\"1066_ptes_sbri_ship_dismantling\"],[\"1068_meteorological_pastured_gbm_rf\"],[\"1421_terpenes_volatile_largest_represent\"],[\"801_opes_ope_retardants_flame\"],[\"1083_its1_issr_seedborne_khorramabad\"],[\"1078_ultramafic_tms_tm_camg\"],[\"1418_highprofile_spr_plasmon_resonance\"],[\"846_governance_exhaustion_pandemicinduced_maximizing\"],[\"582____\"],[\"1081_fascioliasis_catarina_hepatica_santa\"],[\"1419_forages_sulfide_metalcontaminated_meanwhile\"],[\"1311_earthquakes_postdisaster_disasters_cascading\"],[\"383_films_chitosan_curcuminvanillin_dye\"],[\"717_nickel_drinks_nds_bioaccessibility\"],[\"671_mc_pf_cellg_concentrationbased\"],[\"205_pests_insecticides_sanguineus_pest\"],[\"928_gso_ecommerce_smart_planet\"],[\"996_sandyrelated_gasoline_njpies_acceleration\"],[\"630_chilli_dried_maps_ebi\"],[\"598_roasted_cs_mor_aof\"],[\"878_histamine_histamineproducing_hrma_melting\"],[\"705_multistate_barbados_solved_2016\"],[\"929_ben_fluconazole_gattii_benadapted\"],[\"876_text_posts_reviews_online\"],[\"668_dysphagia_covid19_nutrition_coronavirus\"],[\"262_formulae_infant_formulas_toddlers\"],[\"654_streptomyces_surplus_consortia_oxylipins\"],[\"455_ndma_ranitidine_nitrosamine_medications\"],[\"1076_ppms_edcs_22bis4hydroxyphenylpropane_phthalatesphthalic\"],[\"1091_sourcetracking_vital_providing_epidemiological\"],[\"666_phenolic_scgs_extract_infeasibility\"],[\"1094_ssa_abandon_valuechains_unwilling\"],[\"639_tps_tyrosol_alcohol_stressinducible\"],[\"1075_insecticide_insecticidal_imidacloprid_grave\"],[\"952_bioaerosols_ima_innocuous_bioaerosol\"],[\"450_azerbaijan_geoaccumulation_ni_neyriz\"],[\"923_nd_neurotoxic_childrens_lac\"],[\"368_aflatoxins_aflatoxin_afs_cerealbased\"],[\"656_chromatography_multidimensional_ce_separation\"],[\"1089_skipjack_algeria_350_consequent\"],[\"817_atrftirplsr_screening_imagebased_srrcaf36\"],[\"670_pef_lowmoisture_voltage_nonthermal\"],[\"563_chitosan_chitin_insect_crustacean\"],[\"651_phosphorescence_chemosensor_autofluorescence_phosphorescent\"],[\"1004_xt4_cdcontaminated_cdresistant_greenhousebased\"],[\"1000_polyphenols_lead_relieving_antiapoptosis\"],[\"867_sakazakii_degs_acidic_differentially\"],[\"1386_rising_inputs_meet_nutrients\"],[\"973_purchase_uht_milk_infant\"],[\"1388_sas_silicon_silica_551\"],[\"1387_bt36_chromate_gut_crviinduced\"],[\"665_lysozyme_preservatives_cheese_sensorial\"],[\"1398_nac_nanoactivated_2949_4763\"],[\"1397_maintaining_shelflife_improving_oxidative\"],[\"1399_aircraft_aviation_onground_inflight\"],[\"1274_informal_season_rainy_cucumbers\"],[\"1401_creek_runoff_instance_toxinproducing\"],[\"1400_thymol_twentyfive_planktonic_agent\"],[\"1390_pressurestressed_cornerstone_subsurface_persisting\"],[\"1391_paddies_mehg_bioaccumulator_hgcontamination\"],[\"1389_monospecie_friction_fluorescens_professionals\"],[\"1053_care_concerns_community_pathogens\"],[\"1395_evaluates_posed_hazards_bacteria\"],[\"1394_semiprocessed_prickly_pear_colorants\"],[\"597_nts_resistome_aminoglycoside_amr\"],[\"1393_urchins_hev_gonads_urchin\"],[\"1392_vendors_exhaustive_kariobangi_korogocho\"],[\"1012_tl_isotopic_urine_hair\"],[\"1082_b1_corngrown_corn_anuradhapura\"],[\"1073_regulators_moulds_buildingrelated_metabolities\"],[\"1072_2years_virosphere_vircapseqvert_triplicates\"],[\"1374_fbdb_foodhandling_campaigns_france\"],[\"1034_cre_rootextract_fy_chicory\"],[\"1023_particularities_monascus_produced_molds\"],[\"1402_trfica_europium_microspherebased_timeresolved\"],[\"1087_oily_ol_activity_effect\"],[\"1085_silences_discourse_narratives_breast\"],[\"1377_aa_spleen_splenic_aacontaining\"],[\"1376_mgs_gatherings_interviews_communicable\"],[\"1375_answer_requests_monitor_industry\"],[\"1069_pets_rodents_amr_insects\"],[\"1070_module_schemes_mills_optimization\"],[\"1062_cinahl_articles_medline_readytoeat\"],[\"1432_enterococcal_slovak_slovakia_salami\"],[\"1033_cit_dhcit_citrinin_extraction\"],[\"1407_plx_mic_74_broth\"],[\"873_qatar_postpurchasing_fruits_rotting\"],[\"1404_dec_eightythree_hundred_hygienic\"],[\"662_fp_nanofibers_preservation_enf\"],[\"1054_spores_hrf_hpp_arvo\"],[\"1405_rtes_lmics_fastpaced_schoolaged\"],[\"1382_sex_purge_rarity_recombination\"],[\"1381_rational_enteropathogenic_causative_priority\"],[\"1022_hydrogen_headspace_omptinpolythiophene_aided\"],[\"1380_milks_ewi_augustamelillipriolo_chr\"],[\"657_hulless_oat_oats_202\"],[\"1383_forficatus_salivary_glands_cd1\"],[\"611_nitrate_denitrification_biochar_nitrates\"],[\"1385_inflammatory_gastroenterologist_macroscopic_ibd\"],[\"1032_pmi_phosphomannose_gdpman_gdpmannose\"],[\"1384_age_colombia_pathotypes_bucaramanga\"],[\"1378_impressive_novel_numbers_antimicrobials\"],[\"1001_spas_tamarind_antioxidants_26di\"],[\"1100_bat_sap_bats_pteropus\"],[\"1379_mozambique_horticultural_maputocity_farmersvendors\"],[\"1088_grass_bivalves_shrimp_clams\"],[\"154_ar_args_biotechnologies_antibiotic\"],[\"461_fast_pandemic_covid19_lockdown\"],[\"672_hvpef_uhph_detachedcells_psi\"],[\"620_biofilmdispersed_planktonic_cutting_cut\"],[\"459_au_paraquat_nanomaterials_inhibition\"],[\"922_hydrogel_lrgpaammturea_enms_nicontaminated\"],[\"1084_mdro_ams_split_amr\"],[\"667_analogues_cultured_cellcultured_hydrolysates\"],[\"1055_closely_emergence_enteric_part\"],[\"981_biomarkers_qams_aflatoxigenic_early\"],[\"1095_nts_supply_bow_moshi\"],[\"1108_edc_pops_dehradun_fascinating\"],[\"921_pcbs_pcb_china_smelters\"],[\"1027_sesame_microbiomes_pine_aminivibrio\"],[\"621_salmonellosis_eueea_disorder_billion\"],[\"1067_asd_covid19_phobia_undiagnosed\"],[\"1060_2year_stone_packinghouses_longitudinal\"],[\"1010_monps_zh16_biogenic_pgpr\"],[\"1046_opioids_apriljune_illicit_2020\"],[\"1183_acoustic_paw_biofilms_plasma\"],[\"1045_geomatics_ecozones_lakes_watershed\"],[\"969_fullerol_coagulasepositive_carcinogenic_\"],[\"1079_ptes_rice_wiley_paddy\"],[\"649_methanol_abhs_2020_sanitizer\"],[\"1030_containers_takeout_co_sb\"],[\"1042_descriptors_md_cps_1545\"],[\"978_midtrophic_trachurus_pilchardus_scomber\"],[\"853_3d_printing_printed_ink\"],[\"1041_curcumin_intelligent_smart_packaging\"],[\"1071_postchill_prechill_serovars_serovar\"],[\"1265_sth_endline_95ci_school\"],[\"1272_formicidae_argentine_hymenoptera_ant\"],[\"1260_internship_virtual_interns_experience\"],[\"1264_xenobiotics_xenobioticinduced_nic_probioticxenobiotic\"],[\"1269_didymium_putrescentiae_mite_tyrophagus\"],[\"1280_finio_salcurb_nonformaldehyde_k2\"],[\"1299_uas_min_cleaning_disaggregate\"],[\"1276_cfuml_mag_105108_stecs\"],[\"1258_norwegian_norway_requested_assessments\"],[\"1282_paw_kumquats_kumquat_italicum\"],[\"1207_bde47_ohmeopbdes_ohpbdes_cilia\"],[\"1278_ethanol_bfrs_246tribromophenol_3355tetrabromobisphenol\"],[\"1281_apple_fcs_washington_caramel\"],[\"1178_isothermal_amplification_rca_displacement\"],[\"1277_selenate_selenite_cytosol_shoots\"],[\"648_rba_fellow_plantbased_riskbenefit\"],[\"1275_anthrax_districts_occurred_six\"],[\"1279_infants_later_mother_wean\"],[\"1050_voles_moss_molve_uncultivated\"],[\"1039_bioinoculants_nutrient_urea_fertility\"],[\"1231_scombridae_necrosis_papillomalike_whitespotted\"],[\"1052_rawmeatprocessing_networks_coexist_rdna\"],[\"1056_vineyard_soybean_seeds_grassland\"],[\"1254_ppcas12_crisprcas12_proximal_dually\"],[\"1028_verbascoside_adjuvant_synthesisinhibiting_exponentialphase\"],[\"1250_disinfect_nm_275_ultraviolet\"],[\"1047_resonator_eggshells_cracked_duck\"],[\"1240_kimchi_price_gradually_convenience\"],[\"1099_da_infauna_blooms_domoic\"],[\"1256_onehealth_humanderived_endophytes_argue\"],[\"1242_glucose_pvagox_pvaglu_selfsustainably\"],[\"1431_unhealthy_healthier_why_systems\"],[\"619_afb2_oil_fb2_tahini\"],[\"1246_litter_fecalderived_cuttingedge_stockpiling\"],[\"1285_10403s_rhizobacteria_colonize_monocytogenes\"],[\"1284_multipleuse_rpcs_crates_cauliflowers\"],[\"645_mofs_metalorganic_agrochemicals_frameworks\"],[\"1306_opes_remote_ope_bioaccumulationbiomagnification\"],[\"1304_rnaibased_silencing_fungicides_sense\"],[\"1086_afm_inspect_afb_regularly\"],[\"1044_cyclolinopeptides_1mso_flaxseed_3msocyclolinopeptides\"],[\"1295_petroleum_hydrocarbon_twoyears_tph\"],[\"1297_hurdle_erade_nonthermal_inventions\"],[\"1286_lowwater_activity_salmonella_contamination\"],[\"1011_shopping_covid19_online_delivery\"],[\"988_blockchain_supply_framework_origins\"],[\"1166_natamycin_liposomes_biopolymerliposome_polyene\"],[\"1037_microbiologically_guide_diarrheal_enteric\"],[\"1144_cics_rccs_0543_thanh\"],[\"1211_handwashing_customers_jimma_kebele\"],[\"1236_amr_equitably_prioritization_themes\"],[\"1237_hsds_sanitizertolerant_caenorhadbitis_alcoholresistant\"],[\"1243_wwtp_pvz2_pvz1_psvc\"],[\"1239_mra_kitbased_ssos_multiomics\"],[\"1289_colostrum_igg4_iga_igg3\"],[\"1288_tccs_tbcs_thematic_informant\"],[\"1433_pitaya_undatus_extract_cholinergic\"],[\"1257_spiders_endosymbionts_riparian_spider\"],[\"1244_rutinosidase_tartary_buckwheat_alumflavonoid\"],[\"1259_uncommon_pulsenet_subtype_subtyping\"],[\"1287_apples_716_drying_participants\"],[\"1247_hybrids_twotwo_jeopardized_hungary\"],[\"1238_cz_yersiniosis_20182020_incidence\"],[\"1253_lowwateractivity_involving_occurrence_disease\"],[\"1255_fipronil_clearance_sulfone_vivo\"],[\"1252_preclude_garlic_thyme_eo\"],[\"1248_splashing_height_splashed_splash\"],[\"1251_disinfectant_sds_precooling_bactericidal\"],[\"1245_coliform_functional_3715_lutein\"],[\"1249_chestnut_twentyeight_metalloids_performed\"],[\"1301_phylogroups_phylogroup_mexico_correspondence\"],[\"1305_hm_sdm_hms_carriers\"],[\"1307_polio_poliovirus_vaccine_faecaloral\"],[\"1308_chewing_dental_grit_ruminants\"],[\"1303_biosolids_decisive_restore_columns\"],[\"1302_epithelium_porcine_ipecj2_intestinal\"],[\"1298_alternariol_aoh_ame_monomethyl\"],[\"1263_groupalcl_ewh_omnipresent_hydrolysate\"],[\"1262_cannabidiol_presentations_session_conference\"],[\"1309_ebola_west_african_billion\"],[\"1283_preserving_sn_18000_tuna\"],[\"1261_ciprofloxacinresistant_cip_fresh_closely\"],[\"1292_satisfactory_document_continuously_tomatoes\"],[\"1221_toxicogenomic_nonlegislated_snvs_immunoassay\"],[\"1290_additivegrade_fdcaoh_bcov_bovine\"],[\"1291_pesticiderelated_andean_andes_peru\"],[\"1300_docusate_isotopically_quechers_quantification\"],[\"1293_attribution_experts_performancebased_cookes\"],[\"1296_coldsmoked_supporting_salmon_capable\"],[\"1294_postpick_mdm_postchill_drumstick\"],[\"1273_baghdad_soft_percentage_cheese\"],[\"1271_fhb_biomin_temporalgeographical_20102019\"],[\"1270_fin_whale_whales_borneo\"],[\"1267_thirdworld_underdeveloped_seriously_millions\"],[\"1266_git_buffering_fat_intriguingly\"]],\"hovertemplate\":\"Count=%{x}\\u003cbr\\u003edov=%{y}\\u003cbr\\u003eName=%{customdata[0]}\\u003cextra\\u003e\\u003c\\u002fextra\\u003e\",\"legendgroup\":\"\",\"marker\":{\"color\":\"#636efa\",\"symbol\":\"circle\"},\"mode\":\"markers\",\"name\":\"\",\"showlegend\":false,\"x\":[9,19,13,12,12,22,8,29,9,23,8,18,13,8,5,6,7,11,17,7,7,39,5,23,19,5,5,9,4,4,15,6,8,7,23,3,5,11,34,9,9,12,9,5,7,7,15,15,8,22,12,9,13,4,5,15,9,19,7,6,6,12,3,7,4,12,13,3,12,14,10,11,7,17,14,11,15,3,5,4,11,11,15,6,5,5,5,15,6,17,9,2,4,14,6,11,4,2,6,2,4,4,11,10,6,2,7,15,16,9,16,9,10,1,9,9,7,5,22,24,1,3,6,5,11,7,4,4,8,9,6,20,2,10,9,1,5,1,11,7,3,4,8,13,10,6,5,5,10,5,3,4,17,2,3,10,9,23,4,12,1,3,2,11,8,2,8,11,4,4,10,3,4,2,4,16,5,4,6,9,10,5,3,1,2,10,13,10,4,3,4,2,7,3,11,10,3,4,3,7,2,8,5,12,3,14,19,1,2,7,5,8,19,15,3,9,8,6,12,5,8,12,2,7,4,4,1,4,3,6,2,5,3,9,10,5,3,13,9,2,8,3,4,17,4,11,5,9,8,4,5,5,2,13,2,3,7,7,8,2,12,14,13,4,10,8,33,13,8,4,10,10,2,3,5,5,3,18,5,4,3,17,6,2,16,10,3,8,5,5,18,4,3,28,2,10,14,4,2,6,6,6,12,3,8,1,4,2,4,11,11,11,11,7,10,11,7,7,5,26,9,11,7,5,18,10,7,15,8,9,2,15,3,5,13,5,5,9,6,3,8,3,4,3,3,7,15,11,10,15,13,8,7,5,6,3,12,4,3,6,8,4,23,5,22,6,6,5,8,3,3,13,4,8,18,13,1,5,3,7,2,5,5,12,2,6,6,2,5,11,2,1,1,8,5,7,5,19,3,4,3,2,10,8,4,4,2,6,7,9,4,16,4,6,2,7,11,7,5,5,6,7,8,3,5,3,4,1,11,3,3,5,4,3,7,3,7,7,3,2,2,4,3,1,2,14,4,13,8,3,3,2,4,4,4,3,9,8,7,8,2,2,2,4,2,6,3,7,13,11,3,3,15,2,4,3,4,1,5,3,2,10,2,4,9,6,6,1,6,6,3,1,6,5,2,3,5,5,4,6,6,11,2,2,3,19,10,8,3,6,3,6,8,5,15,1,1,2,3,5,6,5,4,2,4,8,12,5,3,12,18,4,6,8,12,4,6,5,4,18,7,5,7,3,2,2,6,2,12,4,2,7,8,5,6,7,3,11,6,7,6,8,6,7,5,6,2,5,3,4,7,10,4,13,5,7,3,3,4,3,5,2,4,7,7,15,2,3,6,1,5,3,5,11,2,14,9,4,3,3,6,26,2,1,3,5,4,12,3,10,4,3,11,8,3,3,1,6,6,1,2,3,2,2,1,3,4,12,4,10,8,7,1,2,5,3,7,1,1,6,4,5,1,3,1,5,4,1,7,3,7,4,3,6,5,1,5,1,6,1,2,5,3,2,5,3,3,8,2,8,5,6,2,1,16,6,5,5,3,3,2,10,4,3,6,9,3,16,3,7,2,7,6,6,1,4,9,1,7,6,4,5,11,19,12,9,5,15,15,7,10,4,2,5,3,3,3,16,10,12,3,6,6,5,6,7,2,2,3,2,5,5,4,9,4,8,7,8,3,5,4,3,10,4,1,4,3,3,2,2,11,4,12,3,1,2,1,2,4,3,3,2,2,4,3,5,4,9,8,10,3,3,11,1,2,6,2,5,6,5,4,5,4,1,1,9,4,14,6,4,11,1,3,1,3,3,2,3,3,12,16,3,5,6,23,2,4,4,7,6,13,9,10,5,2,2,3,7,2,6,2,5,3,6,4,12,4,1,2,5,1,5,2,6,3,4,2,2,1,15,6,14,5,8,9,12,11,11,7,3,4,5,3,8,3,10,8,2,3,3,2,3,7,5,3,4,4,2,2,5,5,13,8,5,5,3,2,4,7,7,3,4,4,3,4,4,5,5,3,5,3,4,1,2,7,2,4,2,2,3,6,3,7,22,10,3,6,1,6,5,5,1,9,3,4,2,9,6,2,8,2,2,1,2,5,13,1,3,2,3,4,3,3,4,3,5,1,3,5,3,2,1,5,16,2,5,3,2,7,4,2,1,2,3,1,3,4,7,6,3,4,4,2,4,8,1,5,2,4,1,4,12,2,16,2,7,5,3,5,3,3,7,5,2,2,6,4,4,1,3,3,3,3,3,7,7,6,2,18,9,7,8,7,8,3,7,6,3,5,14,10,15,12,16,3,2,4,3,5,2,8,5,8,7,3,9,6,5,2,14,6,5,3,10,4,4,2,3,2,2,2,3,5,1,5,5,3,5,2,6,2,5,8,5,3,11,2,1,3,3,2,4,3,2,2,6,1,2,2,11,3,1,5,2,2,1,4,3,4,1,1,1,4,4,4,7,3,2,2,3,9,2,3,12,9,6,3,5,2,1,4,5,11,1,23,4,12,15,4,3,6,3,6,7,6,8,3,4,2,5,3,2,6,5,3,2,3,3,4,3,3,2,4,4,4,2,4,2,2,3,3,4,3,2,1,3,1,1,6,3,2,2,3,4,3,5,1,9,1,1,3,3,6,1,4,6,5,10,1,3,4,5,3,1,3,1,1,2,1,3,1,4,3,1,3,1,2,7,2,1,3,2,1,5,3,2,5,4,2,1,1,2,2,2,2,1,3,2,2,1,3,5,2,1,1,7,4,4,10,3,3,5,5,3,4,3,3,4,8,4,6,2,2,4,2,5,2,3,6,3,7,4,2,3,4,5,4,3,3,3,1,3,1,1,4,1,1,1,1,1,1,1,1,1,2,1,1,5,1,1,3,2,2,2,1,2,2,1,2,2,1,1,1,2,2,2,1,2,1,3,1,4,2,1,1,1,2,1,4,1,5,1,2,1,1,3,2,1,2,11,6,4,5,6,3,2,4,2,3,2,2,3,2,5,2,2,3,2,2,2,3,2,4,2,2,3,3,2,2,1,1,1,1,1,1,1,1,1,1,2,1,1,2,1,4,1,1,2,2,2,2,2,1,2,1,2,1,2,1,1,1,5,1,1,1,4,1,1,2,2,1,1,1,3,3,2,2,2,2,1,1,1,1,1,1,1,1,1,1,1,1,1,1,1,1,1,1,1,1,1,1,1,1,1,1,1,1,1,1,1,1,1,2,1,1,1,1,1,1,1,1,1,1,1],\"xaxis\":\"x\",\"y\":[0.0014561215362701573,0.0018457636749969254,0.0017561236011167927,0.0016792342082276902,0.001974701200401428,0.002034331801677383,0.0025947836910328705,0.0030325419694313266,0.0017878861399240782,0.002653793143493401,0.0012152291217567676,0.001957431590493313,0.0014677114670163089,0.0016215617781676552,0.0015182590987501514,0.001396397827471439,0.0016236564758593005,0.0016243978738907298,0.002112249827812475,0.0011730303355981498,0.0012305395135343267,0.0030267687916065156,0.001345115267804509,0.002415690604242299,0.00280750916066309,0.0017446560013829877,0.001416397112764208,0.0017121092350037572,0.0017948311497292355,0.0011241951334033113,0.002301699785582592,0.0013286341882602856,0.0012936233811062033,0.0014331724456184342,0.00249310179892519,0.0014830380179619593,0.0012493964913327233,0.0018895880393644292,0.0035203720825606037,0.0017210802242082423,0.0012630445222292738,0.0014243324076115512,0.0015361201908027284,0.0010937644090551518,0.0013463136873483504,0.001509249148648073,0.0015418013451548665,0.0014404232797744431,0.001961730659024378,0.003157941053199759,0.002679574448473089,0.0017397710437638558,0.0013336514897330787,0.0012069808029610072,0.001737602660767782,0.001771105395553018,0.001358395184170485,0.0023944404412232305,0.0015261870550994264,0.0010852833362199952,0.0011341680102558952,0.0018362344351906918,0.0013877818777676206,0.0012244219948410477,0.0020822684571378956,0.0016616455369015584,0.0015175991235486198,0.001623546350666068,0.001690351041002523,0.0021191303077252093,0.0015227435753487305,0.001726858734158196,0.0012023313492515433,0.0018331445936894677,0.0015849774369484206,0.0013399639062549665,0.001850395599299067,0.0016137107353073237,0.0010937644090551518,0.002282131607618675,0.001430806833184117,0.001549317739815504,0.0013691732468359928,0.001461418326737219,0.0015009148102922323,0.0016414113993476168,0.0025502476137401163,0.0015956274695080662,0.0016734282923792506,0.0015971803526449045,0.0017169020255022567,0.002183406113537117,0.0017948311497292355,0.0020603129622537445,0.0011223227883806117,0.001441668033716999,0.001379136145802759,0.002183406113537117,0.0013326770698722213,0.002183406113537117,0.0012250753387965643,0.0012472039862668797,0.001369505242704018,0.002018650281048902,0.0012691221988228869,0.002183406113537117,0.0016630537426433813,0.0015956274695080662,0.001959227958602477,0.001618286528968138,0.002171897169153129,0.0012097707922903108,0.001302021220699751,0.0010917030567685585,0.001570647085725006,0.0012678420457364486,0.0011834681040843013,0.001183029371912604,0.0017704080492707925,0.0030558434409371825,0.0010917030567685585,0.0013307487978874036,0.0014566186505354862,0.0017214674939982182,0.001479853914191832,0.0014342961085809498,0.0011241951334033113,0.001247203986266881,0.0010233739856613856,0.0014063305846704944,0.001197275659076502,0.001860643064730843,0.001076150936512243,0.0011823919492767129,0.0013218028739387187,0.0010917030567685585,0.0012617878747396257,0.0010917030567685585,0.0011220111029697252,0.0011980320036596185,0.00126913727705839,0.001007177652965079,0.001182151360775671,0.0012994268515480357,0.0014383407494672497,0.0011344427837587765,0.0012869169980953203,0.0009878052109022187,0.001519416328324365,0.0011572308313465049,0.0009488764867220501,0.001169433079838327,0.0016371752430639902,0.0008974155748646178,0.0008676574152130498,0.0014808291088522696,0.0015891994916708506,0.0020214693184400128,0.0012805115862567574,0.002142752782998408,0.0010917030567685585,0.0010114703098250005,0.0009813099765772857,0.0015591470806138948,0.002203794800482634,0.0009813099765772857,0.0012173860510143262,0.0013938856128622172,0.0010893760450854156,0.0010625967208529427,0.001757169260646493,0.0010476553448494441,0.0034394616185642927,0.001148020634126649,0.0013847343859589927,0.0014016505073429406,0.001142357520281976,0.0009418029133502431,0.0010409860725492034,0.0019107541371638523,0.0011948134585943065,0.0010849985888858383,0.001052702063503852,0.0010917030567685585,0.0009409814990420286,0.0012097968668626947,0.0019301735247224542,0.0012681492107260192,0.0010893760450854156,0.0010476553448494441,0.0009423449932384661,0.0009813099765772857,0.001325801683471038,0.0010340243867877309,0.0015008431421203111,0.0012195971787266056,0.0025804663475681136,0.0009006451688003294,0.0010990644104839223,0.0011634268069647855,0.0009409814990420286,0.001219070282196097,0.0012216536494156422,0.0015188314882564633,0.0010514834223162282,0.0018036223190635353,0.0020085195867897312,0.0010917030567685585,0.0008974155748646178,0.0012425016977390486,0.001167251680051764,0.001230664377129818,0.0021426977514485057,0.0014787888994760136,0.002740983816350552,0.0013583951841704826,0.00145031927353174,0.000994222223950883,0.001504453696554678,0.0008873189236199039,0.0014258843707232699,0.0015831466116676288,0.0010486662392583592,0.0017070214770511986,0.0010035541246284966,0.001408825090961614,0.0010917030567685585,0.0009785601071629125,0.0010937954278770836,0.0017491530923040898,0.001148020634126649,0.0011206433707463754,0.0010340243867877309,0.0017556356250123901,0.001195368375663485,0.0016710603630151065,0.0009579812981628618,0.0014800562078219482,0.0013840647234266048,0.0010208812968280994,0.0012190702821961003,0.0009793426606445337,0.0012412248133920841,0.0017644910587258664,0.0012069808029610072,0.0013938856128622172,0.0009541827870876114,0.0015095969607700987,0.0012549279645429506,0.0009317174709549925,0.0010026339001256866,0.0013282009158580843,0.001148020634126649,0.001372357997471353,0.0009813099765772857,0.0010990644104839223,0.0013907866610110451,0.0014025989982810623,0.0014191051705147162,0.001076150936512243,0.00126511241217014,0.001615912709361479,0.0014271792720793022,0.0019467922364914236,0.001135509552552573,0.001279928277251896,0.0036162831083352037,0.0018582395363301806,0.0015996376660046847,0.0009197425707065742,0.001413283008864979,0.0014385213326056298,0.0009409814990420286,0.0014830380179619593,0.0013386667022039411,0.0012326408384009508,0.00126913727705839,0.002065796838659365,0.0012636475808168793,0.0011750664207725527,0.0009899064599094896,0.0018782846223154381,0.0009201329585683643,0.0009409814990420286,0.0020649837704601933,0.001597830572916742,0.0009161031810020829,0.0013466073362729467,0.0012333386209794947,0.0010000491764296977,0.0019565767522089048,0.0013725244820136492,0.0009281796505708854,0.0026268556322738067,0.0008974155748646178,0.0014686768215483542,0.0015044806818309848,0.001319963022010688,0.001148020634126649,0.0012691221988228869,0.0011642315586858315,0.0013761871383377758,0.0014349370420697059,0.0016137107353073237,0.0013513488219822282,0.0010917030567685585,0.001169433079838327,0.001148020634126649,0.0016996787374060818,0.0014657952902119085,0.0013502613967840793,0.0015627206664848643,0.0016041082987920527,0.001507413596609224,0.0013497678142592453,0.00177329689682689,0.0012059928879394638,0.0023341316618068265,0.0015700350128674493,0.002575597354781808,0.0016178421139878122,0.0025259921377013554,0.0012290788333830212,0.002402058791566974,0.0021040052049942823,0.0014814940772369246,0.002062191620846476,0.0015586218650460266,0.001613228044582881,0.002186125900372706,0.0020146520146520144,0.0028548165963820167,0.0014619110407523314,0.0016616171025349788,0.0018194953208987776,0.001167898571030752,0.0012527680837489963,0.0011637753026630781,0.001270230058152795,0.0012782883849467995,0.001384045047510927,0.0014619110407523314,0.0017240758100115288,0.0012782883849467995,0.0012191056965388406,0.0016129703487348641,0.0018353590045178097,0.002451545370861103,0.002036817485096612,0.002356195153067658,0.0015427408872948595,0.001200959592351431,0.0013018696028477572,0.0016190500345541659,0.0014999418282255904,0.0013330731224452392,0.0019341950678575034,0.0020001818429789633,0.0013330731224452392,0.0010243727645568457,0.0012593188056277424,0.0012102261290030064,0.0021792085902609714,0.0012044351751467927,0.002285113594679781,0.0013563409841616805,0.0013061447387780207,0.001624965958130887,0.0011687734595541657,0.0013330731224452392,0.0014619110407523314,0.002175439923474997,0.0012541539463640677,0.0017118134730662847,0.002439783132487324,0.002553742266104519,0.001007326007326007,0.001365259028711798,0.0015595433531661914,0.0010124090391469055,0.0009038863853078816,0.0011794264571180872,0.0011405422714432527,0.0012811217623306692,0.0009038863853078816,0.0009564339811535861,0.001302182347088158,0.0010337272104074568,0.00090598214204577,0.0012258934698207516,0.0008620379050057643,0.001007326007326007,0.001007326007326007,0.0011793412639213249,0.001502661996234297,0.0011372377722797835,0.0011405422714432527,0.0017075698853248468,0.001060551936739264,0.0013715519161930081,0.0009237721360469293,0.0011027636805782197,0.0012307160290009858,0.0013754662325087578,0.000870941699037427,0.0008538951909329576,0.0010000909214894816,0.0012017964946994144,0.0012156867614779617,0.0012479558361669077,0.0009161190292755637,0.0017374179713129676,0.0010944523910641937,0.0012104349149316643,0.0010960830216679835,0.0009724839113531139,0.0016956097883772012,0.001161227833747061,0.0013408806388361862,0.0010154582365240806,0.0011770928339035665,0.001430313040120029,0.0014548639268974388,0.0009644562439125256,0.00220552736115644,0.0010648569681591799,0.0010642576683261762,0.001007326007326007,0.0014317625938306674,0.0008918659111020569,0.0010648569681591799,0.0009129080254125993,0.0009350705095897949,0.0009605571151493874,0.0009793769620963,0.0010195259109384582,0.0012814447128957581,0.0013630974233063066,0.0010886014772968898,0.0010000909214894816,0.0011027636805782197,0.0009579838993602629,0.0012191056965388406,0.001007326007326007,0.0009426250446985534,0.0016595960255933748,0.0018984714828425638,0.0018174524219894124,0.0018243343251864933,0.0008686674384522057,0.001414342144776631,0.0011027636805782197,0.000870941699037427,0.002057492325148393,0.0010113840498884189,0.0008447018711330977,0.0012238270523848098,0.0013010481031551658,0.0011372377722797835,0.0018107424772356,0.0009806363952509101,0.0010337272104074568,0.0008620379050057643,0.0017904680495921576,0.0010960830216679835,0.0013297939976016288,0.0010236644080058464,0.000954686027223013,0.001369910591375515,0.0014382649187565672,0.0013868292899205,0.0008965582900340674,0.002124719809345338,0.0009426250446985534,0.0009107420523936737,0.0009205016106302808,0.0012490836202020059,0.001007326007326007,0.0012899991724907548,0.0009205016106302808,0.0009038863853078816,0.0012633695887882697,0.0009806363952509101,0.0011295926620716742,0.0015894651915209816,0.000986303684954347,0.0014366812742648226,0.001007326007326007,0.0010643981125848414,0.002000017335918275,0.0010467531821745743,0.001007326007326007,0.0011241324346325428,0.0011185576528098206,0.0011027636805782197,0.002264423137878167,0.001155304929664606,0.0012612957064440013,0.0017904680495921576,0.0012017964946994144,0.0011333433160972154,0.0016683099372845499,0.0009426250446985534,0.0010000909214894816,0.0008686674384522057,0.001755199984420594,0.0013007041125352571,0.0013909600829204193,0.0010066672848089233,0.001694712194253547,0.0010066672848089233,0.001534925164839792,0.0013010481031551658,0.0019612727905018203,0.001712150456116315,0.001007326007326007,0.001007326007326007,0.0010960830216679835,0.0009804826945208128,0.0009612131042316936,0.0014344119015068139,0.00222785103902539,0.0018318457636061145,0.0008620379050057643,0.0009313976458041794,0.00115879562653753,0.0018014554189984783,0.0026818069845586075,0.0036217303822937636,0.0021019904566368826,0.0020565457198133802,0.0017873598959265197,0.0013258659849695324,0.0017782881501180764,0.002171891395291165,0.0023998597046103994,0.0013512067958310716,0.0011175863539367855,0.002263332456369019,0.0035301559637322265,0.0022464678726993076,0.001607625113425569,0.0016389429495210202,0.0016969570710263582,0.0024144869215291754,0.0024144869215291754,0.0014331472916351586,0.0024144869215291754,0.001539566822552942,0.0012668530535364043,0.0024144869215291754,0.0014564502864613618,0.0012113613024324057,0.0012340338406951607,0.0014570486703841979,0.0011946200762539742,0.0013346081359477456,0.0019387316103059173,0.0013917847581291444,0.0019196651623257322,0.0020110038698728148,0.0010360516415221957,0.001378181251057575,0.0018480868644944136,0.001211867515749169,0.0014175207065006067,0.0024144869215291754,0.0015961348292741135,0.00145937324391134,0.0013267826536350075,0.00173681449413894,0.0014547685541612097,0.0014193305309700664,0.001539566822552942,0.0011332065932629085,0.0014564502864613618,0.0009598325811628668,0.0009473442779012832,0.0013472170125406265,0.0009906505292977118,0.000978171164879443,0.0010948431168000992,0.0009554474881174966,0.0012887250958651983,0.0014208678568226397,0.001876225251487882,0.001031932717051917,0.0015182224631985102,0.0009647178143873697,0.0012072434607645875,0.0016603637693969663,0.0009473442779012832,0.0015618774602835905,0.001261316812859515,0.0010948431168000992,0.0021357296924474213,0.0014479469467838018,0.0032165052291040818,0.0009227027482191703,0.0016004177279781374,0.0011655809523466356,0.002630478411961684,0.001031932717051917,0.0012072434607645875,0.0010055019349364063,0.001205128420066574,0.0009623151707481344,0.0015614744046423277,0.0009473442779012832,0.0013493557839514571,0.001193578997225286,0.0010055019349364063,0.0015683704588090102,0.00162026296850188,0.001069286851468223,0.001012740360372255,0.0012072434607645875,0.0013476173434762448,0.0011747759108921934,0.0012072434607645875,0.001031932717051917,0.0009906505292977118,0.0011316662281845094,0.001031932717051917,0.0012072434607645875,0.0009227027482191703,0.0009838424885007598,0.0023637529397502652,0.0010302889953475091,0.0014342709174838494,0.001963577801413483,0.002126717160282114,0.0012072434607645875,0.0010948431168000992,0.0011362249508808054,0.001111866285238666,0.0013752955083439662,0.0012072434607645875,0.0012072434607645875,0.001217531138773007,0.0012759728981111247,0.0012482609934285703,0.0012072434607645875,0.0009906505292977118,0.0012072434607645875,0.0014101757516636205,0.0012668530535364043,0.0012072434607645875,0.0015312227630483902,0.0015182224631985102,0.0012789223895431794,0.0009305888672119955,0.0009523285454639858,0.001079072437065114,0.0018874209263107773,0.0012072434607645875,0.0011066629020308279,0.0012072434607645875,0.0011502595730305872,0.0012072434607645875,0.004343176150520111,0.0010624739000219677,0.0009227027482191703,0.0009437104631553886,0.001186704473673597,0.0009227027482191703,0.0013993980041935989,0.0013722581164393704,0.001031932717051917,0.0010635403338134794,0.0009053527201320312,0.0011183445974140476,0.0011999298523051997,0.0012072434607645875,0.0017107182529871633,0.0011448554213001423,0.0011933493192474488,0.001198417985729501,0.0009906505292977118,0.0014593732439113387,0.0009437104631553886,0.0018088016419391768,0.001130459634964111,0.0016004177279781374,0.0012917609828498784,0.002092119995401534,0.0015182224631985102,0.0019196105889864611,0.001045963631773019,0.0010319801143047454,0.001031932717051917,0.0011968709072478884,0.0013014456149852052,0.0011692565764562257,0.0012072434607645875,0.001029113757610936,0.0015792806302875185,0.0012072434607645875,0.0010319801143047454,0.0016465523095406944,0.0018481705206474085,0.002409144634429138,0.0013359551130440585,0.0027793007412081037,0.002686096282278023,0.0015754466728734248,0.001454719299506784,0.001681298107870529,0.0020603406147058577,0.0015315111387594932,0.0016687506762085628,0.0011578326982131125,0.00238532110091743,0.001712810064060549,0.0015090249110800249,0.0014505322065821206,0.0015090249110800249,0.0018563036102594724,0.001644468603603278,0.0015755929285510423,0.0015907222282597275,0.001837944843146671,0.0013567906073799832,0.0015056156843389482,0.0012974974788127545,0.001560309840947412,0.00238532110091743,0.00238532110091743,0.0013909203032044057,0.00238532110091743,0.0010592507214360473,0.0010803967897115878,0.002051362319207405,0.0014836949954704494,0.002134083495208225,0.0024625617065123892,0.0016135050438651404,0.0017814402690209657,0.0015090249110800249,0.0011327780370974253,0.0012430954362461324,0.001390920303204407,0.0015473902420642784,0.0009593958391286007,0.0011926605504587158,0.0011578326982131125,0.0015090249110800249,0.000977268260863593,0.0010670417476041133,0.000983529178485884,0.0018887822193016843,0.0012430954362461324,0.0018038999508978408,0.0015090249110800249,0.0011926605504587158,0.0010882104415022254,0.0011926605504587158,0.0010882104415022254,0.0009085017875200957,0.0015389619650884622,0.0015389619650884622,0.0010256811596037042,0.0010670417476041133,0.0009525489906733637,0.001590722228259729,0.0015896819339126559,0.0009085017875200957,0.0019897365354440864,0.0018699355104298653,0.0012975825388955565,0.0009435143298389693,0.0013265229388269813,0.0017597361390563882,0.0011926605504587158,0.0010670417476041133,0.0010623030114940194,0.000983529178485884,0.0015056156843389482,0.0017370803285571832,0.0011033056692860194,0.0009785484811867336,0.0010113099949468369,0.0012269216231295549,0.0011926605504587158,0.0011926605504587158,0.0012505489361277907,0.0009369234081750824,0.0020938938207496274,0.001059564464786408,0.0013068694341427827,0.0014726362264570138,0.0011926605504587158,0.000977268260863593,0.0011926605504587158,0.0009189724215733361,0.0010372629572716688,0.0010882104415022254,0.0009189724215733361,0.0008936189957872126,0.001652978275163526,0.0020377767415346096,0.0013265229388269813,0.0011033056692860174,0.00108494466573609,0.0027554348079738083,0.0010882104415022254,0.0017765318807997765,0.001922127182700156,0.0014663643788445319,0.0009337973600580228,0.001562975051212755,0.0017691537561911987,0.0017769294204657722,0.0011636968162023705,0.0010256811596037042,0.0010256811596037042,0.002542620792353689,0.001954536521727186,0.0010882104415022254,0.001343529138238057,0.0010670417476041133,0.001166796386193392,0.0015389619650884622,0.0013250097907460247,0.0017765318807997765,0.001768543265883167,0.0012269216231295549,0.0011926605504587158,0.0010256811596037042,0.0012888216126926463,0.0011926605504587158,0.0011033056692860185,0.0009379933654440662,0.001315149807162132,0.0008936189957872126,0.0011887535650415726,0.0009379933654440662,0.000983529178485884,0.0011926605504587158,0.00297757083182828,0.0025382142415330453,0.0037792976464503096,0.0012468290703957655,0.0022936439175681284,0.0017874830390155567,0.0016350256778903012,0.0019293303903834087,0.0015281853585513198,0.0014309082362223401,0.0012691071207665224,0.0010892055187630598,0.0013344523743082104,0.0013234983686941084,0.0017356166150169065,0.0014514109129006893,0.0013614583770142077,0.0012458646779076354,0.001985815602836879,0.0012103495100668279,0.0012691071207665224,0.001985815602836879,0.0012103495100668279,0.0018321773382100107,0.0014163746757619696,0.0014514109129006893,0.0012622408917799355,0.0011241773251428344,0.001985815602836879,0.001985815602836879,0.0014954581418954705,0.001408961697975411,0.0022154096642462576,0.0017016462554316019,0.0013344523743082104,0.0014542001170334325,0.0013234983686941084,0.001985815602836879,0.0011241773251428344,0.0014524716605126946,0.0015302339571664325,0.0013234983686941084,0.0011541993977755751,0.0019471860133463386,0.0013234983686941084,0.0017947885022922857,0.0012294085338649462,0.0010538865621179663,0.0010791643946423631,0.0012103495100668279,0.0011079918817597431,0.0013234983686941084,0.002930480680462943,0.0009929078014184393,0.0010263024988002348,0.0010099793479214096,0.0009358546713929375,0.0012294085338649462,0.0010263024988002348,0.0009358546713929375,0.0012103495100668279,0.0012532893980764432,0.0013234983686941084,0.0013869927170032973,0.002923250577575659,0.0015520121758436634,0.0008922601342652662,0.0013724330205471741,0.0009929078014184393,0.0012032456063963816,0.0014163746757619696,0.0010820388079143092,0.0009929078014184393,0.0014849220688783922,0.0010018412597243749,0.0011241773251428344,0.0008558463461740686,0.0015158792897265393,0.0015062236728968868,0.0008558463461740686,0.0016934822533075686,0.0010263024988002348,0.0008973942511461428,0.0009929078014184393,0.0009735930066731692,0.001408961697975411,0.002255351242760773,0.0009929078014184393,0.0012691071207665224,0.0010263024988002348,0.0013234983686941084,0.0009503062728829642,0.0013234983686941084,0.0008406523182365531,0.0012622408917799355,0.0009757821999779499,0.0014073214586318148,0.0009929078014184393,0.0009160886691050054,0.0011036398000551712,0.0012691071207665224,0.0009358546713929375,0.0009929078014184393,0.001459366863499409,0.003067950695879101,0.0009358546713929375,0.0011079918817597431,0.0013768684342687952,0.0009358546713929375,0.0011488216761342666,0.0011541993977755751,0.0009358546713929375,0.0009929078014184393,0.0009358546713929375,0.0013234983686941084,0.0009929078014184393,0.0012103495100668279,0.0011869459138096386,0.0014309082362223401,0.0010377038109946196,0.0009193435154209822,0.0008862094321690586,0.0008508231277158001,0.0009358546713929375,0.0009074654709242092,0.0013145821000227584,0.0009929078014184393,0.0011036398000551701,0.0008973942511461428,0.0008508231277158001,0.0009929078014184393,0.0016863125534516737,0.0016350256778903012,0.0008558463461740686,0.0017599709467828798,0.0008973942511461428,0.0013869927170032973,0.001408961697975411,0.0008645029931470243,0.0013344523743082104,0.0008645029931470243,0.0013768684342687952,0.001331610157557725,0.0014449051263537114,0.0009358546713929375,0.0009358546713929375,0.0019110008540436214,0.00186665204036043,0.0010591555513891576,0.0009929078014184393,0.0009420795961053892,0.0009160886691050054,0.0010018412597243749,0.0012691071207665224,0.0008922601342652662,0.0011920086606636738,0.0011488216761342644,0.0010001073572854823,0.0009735930066731692,0.0026401551959103126,0.0026173426340667747,0.0030644524517883594,0.0020233509864858844,0.0017675598950989903,0.0015979896720878992,0.0031824611032531826,0.0017876187186170692,0.0011857685116053412,0.0031824611032531826,0.0013890109141609932,0.002198069676393852,0.0015726848725173162,0.002524919021442483,0.001913530794948797,0.0027382034033144884,0.0012510574746503918,0.002121640735502121,0.001934660975354094,0.0012510574746503918,0.002206807006156016,0.002121640735502121,0.0016769299109472338,0.0010492151040083356,0.001717151652990219,0.002143811893932785,0.00131179129363991,0.0019528093480669446,0.0012477340668550323,0.0014866263198000335,0.002121640735502121,0.002383744515174792,0.0018147640241687856,0.001440379160519787,0.0013680118949698612,0.001994216981459331,0.0020126761702056882,0.001934660975354094,0.002121640735502121,0.0012510574746503918,0.0008846312239794085,0.0008846312239794085,0.0009275765192342538,0.0008837799475494935,0.0010286793393370873,0.0010608203677510606,0.0010492151040083356,0.0013155566364973703,0.0012510574746503918,0.001071462802904051,0.0009275765192342538,0.002385027702292648,0.0009673304876770478,0.0012394655927933785,0.0012624595107212412,0.001071462802904051,0.0009365158968219062,0.0016658253114271552,0.0009673304876770478,0.0010608203677510606,0.0008593974429329817,0.0008837799475494935,0.0008846312239794085,0.0012134127999165502,0.000912156025962252,0.0009275765192342538,0.0009275765192342538,0.0016488225397240125,0.0010608203677510606,0.0010063380851028441,0.0010063380851028441,0.0016658253114271552,0.0013680118949698612,0.0010608203677510606,0.001440379160519787,0.0008846312239794085,0.0010063380851028441,0.0010608203677510606,0.0009009892300397133,0.00131179129363991,0.0011492445778982954,0.0010608203677510606,0.0010608203677510606,0.0010608203677510606,0.0010827729285770922,0.0012134127999165502,0.0018122291594695743,0.0010990348381969268,0.00131179129363991,0.0010063380851028441,0.0009673304876770478,0.0012510574746503918,0.0013372272121147566,0.0008846312239794085,0.0009365158968219062,0.0030465356942368906,0.0014501851632158515,0.0015616287909808058,0.0008593974429329817,0.0014029132184484679,0.0008846312239794085,0.0010608203677510606,0.0015322262258941797,0.0010286793393370873,0.0015360706988134922,0.0010608203677510606,0.003032741930479051,0.0012134127999165502,0.002175391945420121,0.0029185300619842887,0.0014535331833603598,0.002863961813842484,0.0025175933240674715,0.002863961813842484,0.0016002490864364973,0.0018318279208768137,0.001108801645371308,0.0016850141169246447,0.0012444194876223896,0.0010750339547846604,0.0019093078758949888,0.0010019153883634075,0.0012977526757903888,0.0019093078758949888,0.0023736097489574534,0.0013544579089849278,0.0011868048744787265,0.0019093078758949888,0.0012444194876223896,0.0012444194876223896,0.0010750339547846604,0.0012444194876223896,0.0011868048744787265,0.0019093078758949888,0.0018352994347087422,0.0011095507458500477,0.0011095507458500477,0.0038621843276091337,0.0010453749650801247,0.0008799374583384806,0.000917649717354371,0.0008532550153633514,0.0011868048744787265,0.0008425070584623223,0.0011868048744787265,0.000917649717354371,0.0009546539379474943,0.000829714659634705,0.0009546539379474943,0.0009546539379474943,0.0011914849084724794,0.000829714659634705,0.000917649717354371,0.000917649717354371,0.0012444194876223896,0.0010750339547846604,0.0008532550153633514,0.0010019153883634075,0.0009546539379474943,0.0024834709990526572,0.0009546539379474943,0.0009546539379474943,0.0012444194876223896,0.0012444194876223896,0.001108801645371308,0.0009546539379474943,0.0010750339547846604,0.0013544579089849254,0.0010019153883634075,0.0015680823248657083,0.0009546539379474943,0.0008806510105872332,0.0010750339547846604,0.0010019153883634075,0.0008532550153633514,0.0009546539379474943,0.0012444194876223896,0.0009546539379474943,0.0009546539379474943,0.000917649717354371,0.0009546539379474943,0.0008806510105872332,0.0009546539379474943,0.0008425070584623223,0.0012444194876223896,0.0009546539379474943,0.0011868048744787265,0.0009546539379474943,0.0008391977746891576,0.0014590455526525868,0.000917649717354371,0.0009546539379474943,0.0012977526757903877,0.0008799374583384806,0.0009546539379474943,0.0010019153883634075,0.0008532550153633514,0.0008391977746891576,0.0012306066792704348,0.0010453749650801247,0.0008391977746891576,0.0009546539379474943,0.0009546539379474943,0.0008799374583384806,0.0008391977746891576,0.000917649717354371,0.0008799374583384806,0.0009546539379474943,0.0008532550153633514,0.000917649717354371,0.000917649717354371,0.0009546539379474943,0.0012977526757903877,0.0012306066792704348,0.0008799374583384806,0.0009546539379474943,0.0009546539379474943,0.0016162656270616166,0.0032442748091603057,0.0032442748091603057,0.0025656617566576505,0.0024332061068702295,0.0024332061068702295,0.0020718504199236988,0.0020718504199236988,0.0024332061068702295,0.0013397716639881512,0.0024332061068702295,0.0024332061068702295,0.0014650194815322435,0.002935132354957977,0.0010181835428782334,0.0038279876920795106,0.0016221374045801526,0.0016221374045801526,0.0016916587840613726,0.0016221374045801526,0.0012828308783288263,0.0016221374045801526,0.0010939189828701758,0.002187837965740352,0.0011961833976635871,0.0018501622830468234,0.0016916587840613726,0.0016221374045801526,0.0011961833976635871,0.0010181835428782334,0.0012828308783288263,0.0010181835428782334,0.0010939189828701758,0.0011961833976635871,0.0010939189828701758,0.0008110687022900762,0.0011961833976635871,0.0008110687022900762,0.0008110687022900762,0.0010181835428782334,0.0008110687022900762,0.0008110687022900762,0.0008110687022900762,0.0008110687022900762,0.0008110687022900762,0.0008110687022900762,0.0008110687022900762,0.0008110687022900762,0.0008110687022900762,0.0007735175308561914,0.0008110687022900762,0.0008110687022900762,0.0012828308783288263,0.0008110687022900762,0.0008110687022900762,0.0008081328135308075,0.0007735175308561914,0.0035599084922624674,0.0007735175308561914,0.0008110687022900762,0.000845829392030687,0.0007735175308561914,0.0008110687022900762,0.000845829392030687,0.000845829392030687,0.0008110687022900762,0.0008110687022900762,0.0008110687022900762,0.0007735175308561914,0.0007735175308561914,0.000845829392030687,0.0008110687022900762,0.0035599084922624674,0.0008110687022900762,0.0011961833976635871,0.0008110687022900762,0.0014650194815322435,0.000845829392030687,0.0008110687022900762,0.0008110687022900762,0.0008110687022900762,0.000845829392030687,0.0008110687022900762,0.0010181835428782334,0.0008110687022900762,0.0011655292030661264,0.0008110687022900762,0.000845829392030687,0.0008110687022900762,0.0008110687022900762,0.0010939189828701758,0.0007735175308561914,0.0008110687022900762,0.000845829392030687,0.006578439415279755,0.0018037663990998329,0.002950819672131148,0.0019759270905136896,0.002420006570350345,0.0022131147540983614,0.001475409836065574,0.0016133377135668962,0.001475409836065574,0.001140802037607152,0.001475409836065574,0.001475409836065574,0.001140802037607152,0.001475409836065574,0.0019759270905136896,0.001475409836065574,0.001475409836065574,0.001140802037607152,0.001475409836065574,0.001475409836065574,0.001475409836065574,0.001140802037607152,0.001475409836065574,0.0016133377135668962,0.001475409836065574,0.001475409836065574,0.001140802037607152,0.0048013829974836,0.001475409836065574,0.0008066688567834487,0.0007377049180327869,0.0007377049180327869,0.0007377049180327869,0.0007377049180327869,0.0007377049180327869,0.0007377049180327869,0.0007377049180327869,0.0007377049180327869,0.0007377049180327869,0.0007377049180327869,0.0008066688567834487,0.0007377049180327869,0.0007377049180327869,0.0008066688567834487,0.0007377049180327869,0.0013971914448324338,0.0007377049180327869,0.0007377049180327869,0.0008066688567834487,0.0008066688567834487,0.0008066688567834487,0.0008066688567834487,0.0008066688567834487,0.0007377049180327869,0.0008066688567834487,0.0007377049180327869,0.0008066688567834487,0.0007377049180327869,0.0008066688567834487,0.0007377049180327869,0.0007377049180327869,0.0007377049180327869,0.0016133377135668962,0.0007377049180327869,0.0007377049180327869,0.0007377049180327869,0.0013971914448324338,0.0007377049180327869,0.0007377049180327869,0.0008066688567834487,0.0008066688567834487,0.0007377049180327869,0.0007377049180327869,0.0007377049180327869,0.0026462395543175483,0.0026462395543175483,0.001764159702878365,0.001764159702878365,0.001764159702878365,0.001764159702878365,0.0008820798514391832,0.0008820798514391832,0.0008820798514391832,0.0008820798514391832,0.0008820798514391832,0.0008820798514391832,0.0008820798514391832,0.0008820798514391832,0.0008820798514391832,0.0008820798514391832,0.0008820798514391832,0.0008820798514391832,0.0008820798514391832,0.0008820798514391832,0.0008820798514391832,0.0008820798514391832,0.0008820798514391832,0.0008820798514391832,0.0008820798514391832,0.0008820798514391832,0.0008820798514391832,0.0008820798514391832,0.0008820798514391832,0.0008820798514391832,0.0008820798514391832,0.0008820798514391832,0.0008820798514391832,0.0008820798514391832,0.0008820798514391832,0.0008820798514391832,0.0008820798514391832,0.0008820798514391832,0.0008820798514391832,0.0037124786435395497,0.0008820798514391832,0.0008820798514391832,0.0008820798514391832,0.0008820798514391832,0.0008820798514391832,0.0008820798514391832,0.015625000000000007,0.015625000000000007,0.015625000000000007,0.015625000000000007,0.015625000000000007],\"yaxis\":\"y\",\"type\":\"scattergl\"}],                        {\"template\":{\"data\":{\"histogram2dcontour\":[{\"type\":\"histogram2dcontour\",\"colorbar\":{\"outlinewidth\":0,\"ticks\":\"\"},\"colorscale\":[[0.0,\"#0d0887\"],[0.1111111111111111,\"#46039f\"],[0.2222222222222222,\"#7201a8\"],[0.3333333333333333,\"#9c179e\"],[0.4444444444444444,\"#bd3786\"],[0.5555555555555556,\"#d8576b\"],[0.6666666666666666,\"#ed7953\"],[0.7777777777777778,\"#fb9f3a\"],[0.8888888888888888,\"#fdca26\"],[1.0,\"#f0f921\"]]}],\"choropleth\":[{\"type\":\"choropleth\",\"colorbar\":{\"outlinewidth\":0,\"ticks\":\"\"}}],\"histogram2d\":[{\"type\":\"histogram2d\",\"colorbar\":{\"outlinewidth\":0,\"ticks\":\"\"},\"colorscale\":[[0.0,\"#0d0887\"],[0.1111111111111111,\"#46039f\"],[0.2222222222222222,\"#7201a8\"],[0.3333333333333333,\"#9c179e\"],[0.4444444444444444,\"#bd3786\"],[0.5555555555555556,\"#d8576b\"],[0.6666666666666666,\"#ed7953\"],[0.7777777777777778,\"#fb9f3a\"],[0.8888888888888888,\"#fdca26\"],[1.0,\"#f0f921\"]]}],\"heatmap\":[{\"type\":\"heatmap\",\"colorbar\":{\"outlinewidth\":0,\"ticks\":\"\"},\"colorscale\":[[0.0,\"#0d0887\"],[0.1111111111111111,\"#46039f\"],[0.2222222222222222,\"#7201a8\"],[0.3333333333333333,\"#9c179e\"],[0.4444444444444444,\"#bd3786\"],[0.5555555555555556,\"#d8576b\"],[0.6666666666666666,\"#ed7953\"],[0.7777777777777778,\"#fb9f3a\"],[0.8888888888888888,\"#fdca26\"],[1.0,\"#f0f921\"]]}],\"heatmapgl\":[{\"type\":\"heatmapgl\",\"colorbar\":{\"outlinewidth\":0,\"ticks\":\"\"},\"colorscale\":[[0.0,\"#0d0887\"],[0.1111111111111111,\"#46039f\"],[0.2222222222222222,\"#7201a8\"],[0.3333333333333333,\"#9c179e\"],[0.4444444444444444,\"#bd3786\"],[0.5555555555555556,\"#d8576b\"],[0.6666666666666666,\"#ed7953\"],[0.7777777777777778,\"#fb9f3a\"],[0.8888888888888888,\"#fdca26\"],[1.0,\"#f0f921\"]]}],\"contourcarpet\":[{\"type\":\"contourcarpet\",\"colorbar\":{\"outlinewidth\":0,\"ticks\":\"\"}}],\"contour\":[{\"type\":\"contour\",\"colorbar\":{\"outlinewidth\":0,\"ticks\":\"\"},\"colorscale\":[[0.0,\"#0d0887\"],[0.1111111111111111,\"#46039f\"],[0.2222222222222222,\"#7201a8\"],[0.3333333333333333,\"#9c179e\"],[0.4444444444444444,\"#bd3786\"],[0.5555555555555556,\"#d8576b\"],[0.6666666666666666,\"#ed7953\"],[0.7777777777777778,\"#fb9f3a\"],[0.8888888888888888,\"#fdca26\"],[1.0,\"#f0f921\"]]}],\"surface\":[{\"type\":\"surface\",\"colorbar\":{\"outlinewidth\":0,\"ticks\":\"\"},\"colorscale\":[[0.0,\"#0d0887\"],[0.1111111111111111,\"#46039f\"],[0.2222222222222222,\"#7201a8\"],[0.3333333333333333,\"#9c179e\"],[0.4444444444444444,\"#bd3786\"],[0.5555555555555556,\"#d8576b\"],[0.6666666666666666,\"#ed7953\"],[0.7777777777777778,\"#fb9f3a\"],[0.8888888888888888,\"#fdca26\"],[1.0,\"#f0f921\"]]}],\"mesh3d\":[{\"type\":\"mesh3d\",\"colorbar\":{\"outlinewidth\":0,\"ticks\":\"\"}}],\"scatter\":[{\"fillpattern\":{\"fillmode\":\"overlay\",\"size\":10,\"solidity\":0.2},\"type\":\"scatter\"}],\"parcoords\":[{\"type\":\"parcoords\",\"line\":{\"colorbar\":{\"outlinewidth\":0,\"ticks\":\"\"}}}],\"scatterpolargl\":[{\"type\":\"scatterpolargl\",\"marker\":{\"colorbar\":{\"outlinewidth\":0,\"ticks\":\"\"}}}],\"bar\":[{\"error_x\":{\"color\":\"#2a3f5f\"},\"error_y\":{\"color\":\"#2a3f5f\"},\"marker\":{\"line\":{\"color\":\"#E5ECF6\",\"width\":0.5},\"pattern\":{\"fillmode\":\"overlay\",\"size\":10,\"solidity\":0.2}},\"type\":\"bar\"}],\"scattergeo\":[{\"type\":\"scattergeo\",\"marker\":{\"colorbar\":{\"outlinewidth\":0,\"ticks\":\"\"}}}],\"scatterpolar\":[{\"type\":\"scatterpolar\",\"marker\":{\"colorbar\":{\"outlinewidth\":0,\"ticks\":\"\"}}}],\"histogram\":[{\"marker\":{\"pattern\":{\"fillmode\":\"overlay\",\"size\":10,\"solidity\":0.2}},\"type\":\"histogram\"}],\"scattergl\":[{\"type\":\"scattergl\",\"marker\":{\"colorbar\":{\"outlinewidth\":0,\"ticks\":\"\"}}}],\"scatter3d\":[{\"type\":\"scatter3d\",\"line\":{\"colorbar\":{\"outlinewidth\":0,\"ticks\":\"\"}},\"marker\":{\"colorbar\":{\"outlinewidth\":0,\"ticks\":\"\"}}}],\"scattermapbox\":[{\"type\":\"scattermapbox\",\"marker\":{\"colorbar\":{\"outlinewidth\":0,\"ticks\":\"\"}}}],\"scatterternary\":[{\"type\":\"scatterternary\",\"marker\":{\"colorbar\":{\"outlinewidth\":0,\"ticks\":\"\"}}}],\"scattercarpet\":[{\"type\":\"scattercarpet\",\"marker\":{\"colorbar\":{\"outlinewidth\":0,\"ticks\":\"\"}}}],\"carpet\":[{\"aaxis\":{\"endlinecolor\":\"#2a3f5f\",\"gridcolor\":\"white\",\"linecolor\":\"white\",\"minorgridcolor\":\"white\",\"startlinecolor\":\"#2a3f5f\"},\"baxis\":{\"endlinecolor\":\"#2a3f5f\",\"gridcolor\":\"white\",\"linecolor\":\"white\",\"minorgridcolor\":\"white\",\"startlinecolor\":\"#2a3f5f\"},\"type\":\"carpet\"}],\"table\":[{\"cells\":{\"fill\":{\"color\":\"#EBF0F8\"},\"line\":{\"color\":\"white\"}},\"header\":{\"fill\":{\"color\":\"#C8D4E3\"},\"line\":{\"color\":\"white\"}},\"type\":\"table\"}],\"barpolar\":[{\"marker\":{\"line\":{\"color\":\"#E5ECF6\",\"width\":0.5},\"pattern\":{\"fillmode\":\"overlay\",\"size\":10,\"solidity\":0.2}},\"type\":\"barpolar\"}],\"pie\":[{\"automargin\":true,\"type\":\"pie\"}]},\"layout\":{\"autotypenumbers\":\"strict\",\"colorway\":[\"#636efa\",\"#EF553B\",\"#00cc96\",\"#ab63fa\",\"#FFA15A\",\"#19d3f3\",\"#FF6692\",\"#B6E880\",\"#FF97FF\",\"#FECB52\"],\"font\":{\"color\":\"#2a3f5f\"},\"hovermode\":\"closest\",\"hoverlabel\":{\"align\":\"left\"},\"paper_bgcolor\":\"white\",\"plot_bgcolor\":\"#E5ECF6\",\"polar\":{\"bgcolor\":\"#E5ECF6\",\"angularaxis\":{\"gridcolor\":\"white\",\"linecolor\":\"white\",\"ticks\":\"\"},\"radialaxis\":{\"gridcolor\":\"white\",\"linecolor\":\"white\",\"ticks\":\"\"}},\"ternary\":{\"bgcolor\":\"#E5ECF6\",\"aaxis\":{\"gridcolor\":\"white\",\"linecolor\":\"white\",\"ticks\":\"\"},\"baxis\":{\"gridcolor\":\"white\",\"linecolor\":\"white\",\"ticks\":\"\"},\"caxis\":{\"gridcolor\":\"white\",\"linecolor\":\"white\",\"ticks\":\"\"}},\"coloraxis\":{\"colorbar\":{\"outlinewidth\":0,\"ticks\":\"\"}},\"colorscale\":{\"sequential\":[[0.0,\"#0d0887\"],[0.1111111111111111,\"#46039f\"],[0.2222222222222222,\"#7201a8\"],[0.3333333333333333,\"#9c179e\"],[0.4444444444444444,\"#bd3786\"],[0.5555555555555556,\"#d8576b\"],[0.6666666666666666,\"#ed7953\"],[0.7777777777777778,\"#fb9f3a\"],[0.8888888888888888,\"#fdca26\"],[1.0,\"#f0f921\"]],\"sequentialminus\":[[0.0,\"#0d0887\"],[0.1111111111111111,\"#46039f\"],[0.2222222222222222,\"#7201a8\"],[0.3333333333333333,\"#9c179e\"],[0.4444444444444444,\"#bd3786\"],[0.5555555555555556,\"#d8576b\"],[0.6666666666666666,\"#ed7953\"],[0.7777777777777778,\"#fb9f3a\"],[0.8888888888888888,\"#fdca26\"],[1.0,\"#f0f921\"]],\"diverging\":[[0,\"#8e0152\"],[0.1,\"#c51b7d\"],[0.2,\"#de77ae\"],[0.3,\"#f1b6da\"],[0.4,\"#fde0ef\"],[0.5,\"#f7f7f7\"],[0.6,\"#e6f5d0\"],[0.7,\"#b8e186\"],[0.8,\"#7fbc41\"],[0.9,\"#4d9221\"],[1,\"#276419\"]]},\"xaxis\":{\"gridcolor\":\"white\",\"linecolor\":\"white\",\"ticks\":\"\",\"title\":{\"standoff\":15},\"zerolinecolor\":\"white\",\"automargin\":true,\"zerolinewidth\":2},\"yaxis\":{\"gridcolor\":\"white\",\"linecolor\":\"white\",\"ticks\":\"\",\"title\":{\"standoff\":15},\"zerolinecolor\":\"white\",\"automargin\":true,\"zerolinewidth\":2},\"scene\":{\"xaxis\":{\"backgroundcolor\":\"#E5ECF6\",\"gridcolor\":\"white\",\"linecolor\":\"white\",\"showbackground\":true,\"ticks\":\"\",\"zerolinecolor\":\"white\",\"gridwidth\":2},\"yaxis\":{\"backgroundcolor\":\"#E5ECF6\",\"gridcolor\":\"white\",\"linecolor\":\"white\",\"showbackground\":true,\"ticks\":\"\",\"zerolinecolor\":\"white\",\"gridwidth\":2},\"zaxis\":{\"backgroundcolor\":\"#E5ECF6\",\"gridcolor\":\"white\",\"linecolor\":\"white\",\"showbackground\":true,\"ticks\":\"\",\"zerolinecolor\":\"white\",\"gridwidth\":2}},\"shapedefaults\":{\"line\":{\"color\":\"#2a3f5f\"}},\"annotationdefaults\":{\"arrowcolor\":\"#2a3f5f\",\"arrowhead\":0,\"arrowwidth\":1},\"geo\":{\"bgcolor\":\"white\",\"landcolor\":\"#E5ECF6\",\"subunitcolor\":\"white\",\"showland\":true,\"showlakes\":true,\"lakecolor\":\"white\"},\"title\":{\"x\":0.05},\"mapbox\":{\"style\":\"light\"}}},\"xaxis\":{\"anchor\":\"y\",\"domain\":[0.0,1.0],\"title\":{\"text\":\"Count\"}},\"yaxis\":{\"anchor\":\"x\",\"domain\":[0.0,1.0],\"title\":{\"text\":\"dov\"}},\"legend\":{\"tracegroupgap\":0},\"margin\":{\"t\":60}},                        {\"responsive\": true}                    ).then(function(){\n",
       "                            \n",
       "var gd = document.getElementById('bc3b21ba-91ec-44bd-af6b-84f5df88cb9f');\n",
       "var x = new MutationObserver(function (mutations, observer) {{\n",
       "        var display = window.getComputedStyle(gd).display;\n",
       "        if (!display || display === 'none') {{\n",
       "            console.log([gd, 'removed!']);\n",
       "            Plotly.purge(gd);\n",
       "            observer.disconnect();\n",
       "        }}\n",
       "}});\n",
       "\n",
       "// Listen for the removal of the full notebook cells\n",
       "var notebookContainer = gd.closest('#notebook-container');\n",
       "if (notebookContainer) {{\n",
       "    x.observe(notebookContainer, {childList: true});\n",
       "}}\n",
       "\n",
       "// Listen for the clearing of the current output cell\n",
       "var outputEl = gd.closest('.output');\n",
       "if (outputEl) {{\n",
       "    x.observe(outputEl, {childList: true});\n",
       "}}\n",
       "\n",
       "                        })                };                });            </script>        </div>"
      ]
     },
     "metadata": {},
     "output_type": "display_data"
    }
   ],
   "source": [
    "import plotly.express as px\n",
    "\n",
    "# Create the scatter plot using Plotly\n",
    "fig = px.scatter(wsm_dov, x='Count', y='dov', hover_data=['Name'])\n",
    "\n",
    "# Show the plot\n",
    "fig.show()"
   ]
  },
  {
   "cell_type": "code",
   "execution_count": 119,
   "metadata": {
    "colab": {
     "base_uri": "https://localhost:8080/",
     "height": 677
    },
    "id": "ppRxogG1p0Tr",
    "outputId": "080a2ab5-4449-4274-eae1-25faa6645b32",
    "tags": []
   },
   "outputs": [
    {
     "data": {
      "text/html": [
       "<div>\n",
       "<style scoped>\n",
       "    .dataframe tbody tr th:only-of-type {\n",
       "        vertical-align: middle;\n",
       "    }\n",
       "\n",
       "    .dataframe tbody tr th {\n",
       "        vertical-align: top;\n",
       "    }\n",
       "\n",
       "    .dataframe thead th {\n",
       "        text-align: right;\n",
       "    }\n",
       "</style>\n",
       "<table border=\"1\" class=\"dataframe\">\n",
       "  <thead>\n",
       "    <tr style=\"text-align: right;\">\n",
       "      <th></th>\n",
       "      <th>Name</th>\n",
       "      <th>dov</th>\n",
       "      <th>Topic</th>\n",
       "      <th>Count</th>\n",
       "      <th>Representation</th>\n",
       "      <th>Representative_Docs</th>\n",
       "    </tr>\n",
       "  </thead>\n",
       "  <tbody>\n",
       "    <tr>\n",
       "      <th>6</th>\n",
       "      <td>316_mrsa_cc398_pvl_leukocidin</td>\n",
       "      <td>0.002595</td>\n",
       "      <td>316</td>\n",
       "      <td>8</td>\n",
       "      <td>[mrsa, cc398, pvl, leukocidin, spa, meca, pant...</td>\n",
       "      <td>[The presence of methicillin-resistant Staphyl...</td>\n",
       "    </tr>\n",
       "    <tr>\n",
       "      <th>86</th>\n",
       "      <td>545_cockle_element_trace_reef</td>\n",
       "      <td>0.002550</td>\n",
       "      <td>545</td>\n",
       "      <td>5</td>\n",
       "      <td>[cockle, element, trace, reef, rbfw, sbfw, anc...</td>\n",
       "      <td>[The integration, accumulation and transfer of...</td>\n",
       "    </tr>\n",
       "    <tr>\n",
       "      <th>172</th>\n",
       "      <td>756_vitamin_pregnancy_glucose_arich</td>\n",
       "      <td>0.003439</td>\n",
       "      <td>756</td>\n",
       "      <td>4</td>\n",
       "      <td>[vitamin, pregnancy, glucose, arich, maternal,...</td>\n",
       "      <td>[Overweight and obesity pre pregnancy or durin...</td>\n",
       "    </tr>\n",
       "    <tr>\n",
       "      <th>196</th>\n",
       "      <td>968_lmf_lowaw_lmfs_lowmoisture</td>\n",
       "      <td>0.002580</td>\n",
       "      <td>968</td>\n",
       "      <td>3</td>\n",
       "      <td>[lmf, lowaw, lmfs, lowmoisture, lwafs, cfd, hi...</td>\n",
       "      <td>[Foods and food ingredients with low water act...</td>\n",
       "    </tr>\n",
       "    <tr>\n",
       "      <th>214</th>\n",
       "      <td>924_chlorine_free_fluorescence_urine</td>\n",
       "      <td>0.002741</td>\n",
       "      <td>924</td>\n",
       "      <td>3</td>\n",
       "      <td>[chlorine, free, fluorescence, urine, 00001, m...</td>\n",
       "      <td>[Hygiene hypothesis and sanitization are two i...</td>\n",
       "    </tr>\n",
       "    <tr>\n",
       "      <th>527</th>\n",
       "      <td>603_paes_ocps_china_sum</td>\n",
       "      <td>0.002682</td>\n",
       "      <td>603</td>\n",
       "      <td>5</td>\n",
       "      <td>[paes, ocps, china, sum, delta, yangtze, ngg, ...</td>\n",
       "      <td>[Soil pollution is a global problem in both de...</td>\n",
       "    </tr>\n",
       "    <tr>\n",
       "      <th>528</th>\n",
       "      <td>995_carrots_conventionally_organicallygrown_in...</td>\n",
       "      <td>0.003622</td>\n",
       "      <td>995</td>\n",
       "      <td>3</td>\n",
       "      <td>[carrots, conventionally, organicallygrown, in...</td>\n",
       "      <td>[Illegal practices of waste combustion and the...</td>\n",
       "    </tr>\n",
       "    <tr>\n",
       "      <th>597</th>\n",
       "      <td>778_proteins_mandibular_glands_hemolymph</td>\n",
       "      <td>0.003217</td>\n",
       "      <td>778</td>\n",
       "      <td>4</td>\n",
       "      <td>[proteins, mandibular, glands, hemolymph, cate...</td>\n",
       "      <td>[Contamination of agro-ecosystems with heavy m...</td>\n",
       "    </tr>\n",
       "    <tr>\n",
       "      <th>660</th>\n",
       "      <td>1024_meathandling_pmpp_gmpp_0000</td>\n",
       "      <td>0.004343</td>\n",
       "      <td>1024</td>\n",
       "      <td>2</td>\n",
       "      <td>[meathandling, pmpp, gmpp, 0000, hygiene, meat...</td>\n",
       "      <td>[Food-borne disease outbreaks remain a major g...</td>\n",
       "    </tr>\n",
       "    <tr>\n",
       "      <th>816</th>\n",
       "      <td>933_predictive_models_antagonism_competition</td>\n",
       "      <td>0.002543</td>\n",
       "      <td>933</td>\n",
       "      <td>3</td>\n",
       "      <td>[predictive, models, antagonism, competition, ...</td>\n",
       "      <td>[Contamination by pathogenic bacteria is the m...</td>\n",
       "    </tr>\n",
       "    <tr>\n",
       "      <th>840</th>\n",
       "      <td>447_ntm_mycobacterium_mycobacteria_filters</td>\n",
       "      <td>0.002538</td>\n",
       "      <td>447</td>\n",
       "      <td>6</td>\n",
       "      <td>[ntm, mycobacterium, mycobacteria, filters, fo...</td>\n",
       "      <td>[Nontuberculous mycobacteria (NTM) are potenti...</td>\n",
       "    </tr>\n",
       "    <tr>\n",
       "      <th>891</th>\n",
       "      <td>699_ice_packaged_premises_isb</td>\n",
       "      <td>0.002930</td>\n",
       "      <td>699</td>\n",
       "      <td>4</td>\n",
       "      <td>[ice, packaged, premises, isb, onsite, coolant...</td>\n",
       "      <td>[Ice is widely used in the food industry, as a...</td>\n",
       "    </tr>\n",
       "    <tr>\n",
       "      <th>1000</th>\n",
       "      <td>331_afb1_bsaafb1_hrp_probe</td>\n",
       "      <td>0.003064</td>\n",
       "      <td>331</td>\n",
       "      <td>7</td>\n",
       "      <td>[afb1, bsaafb1, hrp, probe, chemiluminescence,...</td>\n",
       "      <td>[Aflatoxin B1 (AFB1) contamination has raised ...</td>\n",
       "    </tr>\n",
       "    <tr>\n",
       "      <th>1004</th>\n",
       "      <td>885_micelles_ttcp_controllable_thymol</td>\n",
       "      <td>0.003182</td>\n",
       "      <td>885</td>\n",
       "      <td>3</td>\n",
       "      <td>[micelles, ttcp, controllable, thymol, cpms, r...</td>\n",
       "      <td>[Contamination of surfaces in hospitals and fo...</td>\n",
       "    </tr>\n",
       "    <tr>\n",
       "      <th>1007</th>\n",
       "      <td>916_fnu_racks_boards_cutting</td>\n",
       "      <td>0.003182</td>\n",
       "      <td>916</td>\n",
       "      <td>3</td>\n",
       "      <td>[fnu, racks, boards, cutting, hygienic, constr...</td>\n",
       "      <td>[Providing safe food products to the consumer ...</td>\n",
       "    </tr>\n",
       "    <tr>\n",
       "      <th>1109</th>\n",
       "      <td>888_hh_hamburgers_beefsteak_crumbs</td>\n",
       "      <td>0.002864</td>\n",
       "      <td>888</td>\n",
       "      <td>3</td>\n",
       "      <td>[hh, hamburgers, beefsteak, crumbs, meatballs,...</td>\n",
       "      <td>[Previous studies have shown the efficacy of h...</td>\n",
       "    </tr>\n",
       "    <tr>\n",
       "      <th>1110</th>\n",
       "      <td>472_wollastonite_cds_dmsa_amendments</td>\n",
       "      <td>0.002518</td>\n",
       "      <td>472</td>\n",
       "      <td>6</td>\n",
       "      <td>[wollastonite, cds, dmsa, amendments, paddy, f...</td>\n",
       "      <td>[Cadmium (Cd) contamination in paddy soils pos...</td>\n",
       "    </tr>\n",
       "    <tr>\n",
       "      <th>1111</th>\n",
       "      <td>905_thiosulfate_chelating_hg_ligands</td>\n",
       "      <td>0.002864</td>\n",
       "      <td>905</td>\n",
       "      <td>3</td>\n",
       "      <td>[thiosulfate, chelating, hg, ligands, phytoext...</td>\n",
       "      <td>[The antagonistic effect between mercury (Hg) ...</td>\n",
       "    </tr>\n",
       "    <tr>\n",
       "      <th>1135</th>\n",
       "      <td>1051_expired_nafdac_disposal_unused</td>\n",
       "      <td>0.003862</td>\n",
       "      <td>1051</td>\n",
       "      <td>2</td>\n",
       "      <td>[expired, nafdac, disposal, unused, dispose, d...</td>\n",
       "      <td>[The use of medicines is a ubiquitous practice...</td>\n",
       "    </tr>\n",
       "    <tr>\n",
       "      <th>1216</th>\n",
       "      <td>717_nickel_drinks_nds_bioaccessibility</td>\n",
       "      <td>0.003244</td>\n",
       "      <td>717</td>\n",
       "      <td>4</td>\n",
       "      <td>[nickel, drinks, nds, bioaccessibility, plantb...</td>\n",
       "      <td>[Nickel can occur in plant-based, animal-based...</td>\n",
       "    </tr>\n",
       "    <tr>\n",
       "      <th>1217</th>\n",
       "      <td>671_mc_pf_cellg_concentrationbased</td>\n",
       "      <td>0.003244</td>\n",
       "      <td>671</td>\n",
       "      <td>4</td>\n",
       "      <td>[mc, pf, cellg, concentrationbased, lots, ceft...</td>\n",
       "      <td>[Salmonella Heidelberg resistant to ceftiofur ...</td>\n",
       "    </tr>\n",
       "    <tr>\n",
       "      <th>1228</th>\n",
       "      <td>262_formulae_infant_formulas_toddlers</td>\n",
       "      <td>0.002935</td>\n",
       "      <td>262</td>\n",
       "      <td>8</td>\n",
       "      <td>[formulae, infant, formulas, toddlers, infants...</td>\n",
       "      <td>[Infant formulas are useful alternatives to br...</td>\n",
       "    </tr>\n",
       "    <tr>\n",
       "      <th>1230</th>\n",
       "      <td>455_ndma_ranitidine_nitrosamine_medications</td>\n",
       "      <td>0.003828</td>\n",
       "      <td>455</td>\n",
       "      <td>6</td>\n",
       "      <td>[ndma, ranitidine, nitrosamine, medications, i...</td>\n",
       "      <td>[Nitrosamines are known carcinogens which have...</td>\n",
       "    </tr>\n",
       "    <tr>\n",
       "      <th>1272</th>\n",
       "      <td>1073_regulators_moulds_buildingrelated_metabol...</td>\n",
       "      <td>0.003560</td>\n",
       "      <td>1073</td>\n",
       "      <td>2</td>\n",
       "      <td>[regulators, moulds, buildingrelated, metaboli...</td>\n",
       "      <td>[Mycotoxins are toxic fungal secondary metabol...</td>\n",
       "    </tr>\n",
       "    <tr>\n",
       "      <th>1287</th>\n",
       "      <td>1033_cit_dhcit_citrinin_extraction</td>\n",
       "      <td>0.003560</td>\n",
       "      <td>1033</td>\n",
       "      <td>2</td>\n",
       "      <td>[cit, dhcit, citrinin, extraction, 2461, dihyd...</td>\n",
       "      <td>[Citrinin (CIT), a mycotoxin known to exert ne...</td>\n",
       "    </tr>\n",
       "    <tr>\n",
       "      <th>1311</th>\n",
       "      <td>672_hvpef_uhph_detachedcells_psi</td>\n",
       "      <td>0.002951</td>\n",
       "      <td>672</td>\n",
       "      <td>4</td>\n",
       "      <td>[hvpef, uhph, detachedcells, psi, planktonic, ...</td>\n",
       "      <td>[Staphylococcus aureus is one of the main path...</td>\n",
       "    </tr>\n",
       "    <tr>\n",
       "      <th>1336</th>\n",
       "      <td>853_3d_printing_printed_ink</td>\n",
       "      <td>0.004801</td>\n",
       "      <td>853</td>\n",
       "      <td>3</td>\n",
       "      <td>[3d, printing, printed, ink, printability, ink...</td>\n",
       "      <td>[Three-dimensional (3D) printing, as an emergi...</td>\n",
       "    </tr>\n",
       "    <tr>\n",
       "      <th>1383</th>\n",
       "      <td>1011_shopping_covid19_online_delivery</td>\n",
       "      <td>0.002646</td>\n",
       "      <td>1011</td>\n",
       "      <td>3</td>\n",
       "      <td>[shopping, covid19, online, delivery, selfeffi...</td>\n",
       "      <td>[Sub-Saharan Africa (SSA) is known as a region...</td>\n",
       "    </tr>\n",
       "    <tr>\n",
       "      <th>1384</th>\n",
       "      <td>988_blockchain_supply_framework_origins</td>\n",
       "      <td>0.002646</td>\n",
       "      <td>988</td>\n",
       "      <td>3</td>\n",
       "      <td>[blockchain, supply, framework, origins, block...</td>\n",
       "      <td>[Increasing global and domestic food trade and...</td>\n",
       "    </tr>\n",
       "    <tr>\n",
       "      <th>1422</th>\n",
       "      <td>1221_toxicogenomic_nonlegislated_snvs_immunoassay</td>\n",
       "      <td>0.003712</td>\n",
       "      <td>1221</td>\n",
       "      <td>2</td>\n",
       "      <td>[toxicogenomic, nonlegislated, snvs, immunoass...</td>\n",
       "      <td>[Food and feed contamination by nonlegislated ...</td>\n",
       "    </tr>\n",
       "  </tbody>\n",
       "</table>\n",
       "</div>"
      ],
      "text/plain": [
       "                                                   Name       dov  Topic  \\\n",
       "6                         316_mrsa_cc398_pvl_leukocidin  0.002595    316   \n",
       "86                        545_cockle_element_trace_reef  0.002550    545   \n",
       "172                 756_vitamin_pregnancy_glucose_arich  0.003439    756   \n",
       "196                      968_lmf_lowaw_lmfs_lowmoisture  0.002580    968   \n",
       "214                924_chlorine_free_fluorescence_urine  0.002741    924   \n",
       "527                             603_paes_ocps_china_sum  0.002682    603   \n",
       "528   995_carrots_conventionally_organicallygrown_in...  0.003622    995   \n",
       "597            778_proteins_mandibular_glands_hemolymph  0.003217    778   \n",
       "660                    1024_meathandling_pmpp_gmpp_0000  0.004343   1024   \n",
       "816        933_predictive_models_antagonism_competition  0.002543    933   \n",
       "840          447_ntm_mycobacterium_mycobacteria_filters  0.002538    447   \n",
       "891                       699_ice_packaged_premises_isb  0.002930    699   \n",
       "1000                         331_afb1_bsaafb1_hrp_probe  0.003064    331   \n",
       "1004              885_micelles_ttcp_controllable_thymol  0.003182    885   \n",
       "1007                       916_fnu_racks_boards_cutting  0.003182    916   \n",
       "1109                 888_hh_hamburgers_beefsteak_crumbs  0.002864    888   \n",
       "1110               472_wollastonite_cds_dmsa_amendments  0.002518    472   \n",
       "1111               905_thiosulfate_chelating_hg_ligands  0.002864    905   \n",
       "1135                1051_expired_nafdac_disposal_unused  0.003862   1051   \n",
       "1216             717_nickel_drinks_nds_bioaccessibility  0.003244    717   \n",
       "1217                 671_mc_pf_cellg_concentrationbased  0.003244    671   \n",
       "1228              262_formulae_infant_formulas_toddlers  0.002935    262   \n",
       "1230        455_ndma_ranitidine_nitrosamine_medications  0.003828    455   \n",
       "1272  1073_regulators_moulds_buildingrelated_metabol...  0.003560   1073   \n",
       "1287                 1033_cit_dhcit_citrinin_extraction  0.003560   1033   \n",
       "1311                   672_hvpef_uhph_detachedcells_psi  0.002951    672   \n",
       "1336                        853_3d_printing_printed_ink  0.004801    853   \n",
       "1383              1011_shopping_covid19_online_delivery  0.002646   1011   \n",
       "1384            988_blockchain_supply_framework_origins  0.002646    988   \n",
       "1422  1221_toxicogenomic_nonlegislated_snvs_immunoassay  0.003712   1221   \n",
       "\n",
       "      Count                                     Representation  \\\n",
       "6         8  [mrsa, cc398, pvl, leukocidin, spa, meca, pant...   \n",
       "86        5  [cockle, element, trace, reef, rbfw, sbfw, anc...   \n",
       "172       4  [vitamin, pregnancy, glucose, arich, maternal,...   \n",
       "196       3  [lmf, lowaw, lmfs, lowmoisture, lwafs, cfd, hi...   \n",
       "214       3  [chlorine, free, fluorescence, urine, 00001, m...   \n",
       "527       5  [paes, ocps, china, sum, delta, yangtze, ngg, ...   \n",
       "528       3  [carrots, conventionally, organicallygrown, in...   \n",
       "597       4  [proteins, mandibular, glands, hemolymph, cate...   \n",
       "660       2  [meathandling, pmpp, gmpp, 0000, hygiene, meat...   \n",
       "816       3  [predictive, models, antagonism, competition, ...   \n",
       "840       6  [ntm, mycobacterium, mycobacteria, filters, fo...   \n",
       "891       4  [ice, packaged, premises, isb, onsite, coolant...   \n",
       "1000      7  [afb1, bsaafb1, hrp, probe, chemiluminescence,...   \n",
       "1004      3  [micelles, ttcp, controllable, thymol, cpms, r...   \n",
       "1007      3  [fnu, racks, boards, cutting, hygienic, constr...   \n",
       "1109      3  [hh, hamburgers, beefsteak, crumbs, meatballs,...   \n",
       "1110      6  [wollastonite, cds, dmsa, amendments, paddy, f...   \n",
       "1111      3  [thiosulfate, chelating, hg, ligands, phytoext...   \n",
       "1135      2  [expired, nafdac, disposal, unused, dispose, d...   \n",
       "1216      4  [nickel, drinks, nds, bioaccessibility, plantb...   \n",
       "1217      4  [mc, pf, cellg, concentrationbased, lots, ceft...   \n",
       "1228      8  [formulae, infant, formulas, toddlers, infants...   \n",
       "1230      6  [ndma, ranitidine, nitrosamine, medications, i...   \n",
       "1272      2  [regulators, moulds, buildingrelated, metaboli...   \n",
       "1287      2  [cit, dhcit, citrinin, extraction, 2461, dihyd...   \n",
       "1311      4  [hvpef, uhph, detachedcells, psi, planktonic, ...   \n",
       "1336      3  [3d, printing, printed, ink, printability, ink...   \n",
       "1383      3  [shopping, covid19, online, delivery, selfeffi...   \n",
       "1384      3  [blockchain, supply, framework, origins, block...   \n",
       "1422      2  [toxicogenomic, nonlegislated, snvs, immunoass...   \n",
       "\n",
       "                                    Representative_Docs  \n",
       "6     [The presence of methicillin-resistant Staphyl...  \n",
       "86    [The integration, accumulation and transfer of...  \n",
       "172   [Overweight and obesity pre pregnancy or durin...  \n",
       "196   [Foods and food ingredients with low water act...  \n",
       "214   [Hygiene hypothesis and sanitization are two i...  \n",
       "527   [Soil pollution is a global problem in both de...  \n",
       "528   [Illegal practices of waste combustion and the...  \n",
       "597   [Contamination of agro-ecosystems with heavy m...  \n",
       "660   [Food-borne disease outbreaks remain a major g...  \n",
       "816   [Contamination by pathogenic bacteria is the m...  \n",
       "840   [Nontuberculous mycobacteria (NTM) are potenti...  \n",
       "891   [Ice is widely used in the food industry, as a...  \n",
       "1000  [Aflatoxin B1 (AFB1) contamination has raised ...  \n",
       "1004  [Contamination of surfaces in hospitals and fo...  \n",
       "1007  [Providing safe food products to the consumer ...  \n",
       "1109  [Previous studies have shown the efficacy of h...  \n",
       "1110  [Cadmium (Cd) contamination in paddy soils pos...  \n",
       "1111  [The antagonistic effect between mercury (Hg) ...  \n",
       "1135  [The use of medicines is a ubiquitous practice...  \n",
       "1216  [Nickel can occur in plant-based, animal-based...  \n",
       "1217  [Salmonella Heidelberg resistant to ceftiofur ...  \n",
       "1228  [Infant formulas are useful alternatives to br...  \n",
       "1230  [Nitrosamines are known carcinogens which have...  \n",
       "1272  [Mycotoxins are toxic fungal secondary metabol...  \n",
       "1287  [Citrinin (CIT), a mycotoxin known to exert ne...  \n",
       "1311  [Staphylococcus aureus is one of the main path...  \n",
       "1336  [Three-dimensional (3D) printing, as an emergi...  \n",
       "1383  [Sub-Saharan Africa (SSA) is known as a region...  \n",
       "1384  [Increasing global and domestic food trade and...  \n",
       "1422  [Food and feed contamination by nonlegislated ...  "
      ]
     },
     "execution_count": 119,
     "metadata": {},
     "output_type": "execute_result"
    }
   ],
   "source": [
    "# Set the desired range for 'dov' and 'frequency'\n",
    "dov_min = 0.0025\n",
    "count_min = 2\n",
    "count_max = 8\n",
    "\n",
    "# Filter the DataFrame based on the range of values\n",
    "weak_signal_df = wsm_dov[(wsm_dov['dov'] >= dov_min) & (wsm_dov['Count'] >= count_min) & (wsm_dov['Count'] <= count_max)]\n",
    "\n",
    "# Get the values from the 'term' column in the filtered DataFrame\n",
    "weak_signals = weak_signal_df['Name'].values.tolist()\n",
    "weak_signal_df"
   ]
  },
  {
   "cell_type": "code",
   "execution_count": 120,
   "metadata": {
    "colab": {
     "base_uri": "https://localhost:8080/"
    },
    "id": "RPuC94cZJISQ",
    "outputId": "3f33112f-b0b1-4884-f6cc-3fb4e006c5cd",
    "tags": []
   },
   "outputs": [
    {
     "name": "stdout",
     "output_type": "stream",
     "text": [
      "                                                   Name       dov  Topic  \\\n",
      "6                         316_mrsa_cc398_pvl_leukocidin  0.002595    316   \n",
      "86                        545_cockle_element_trace_reef  0.002550    545   \n",
      "172                 756_vitamin_pregnancy_glucose_arich  0.003439    756   \n",
      "196                      968_lmf_lowaw_lmfs_lowmoisture  0.002580    968   \n",
      "214                924_chlorine_free_fluorescence_urine  0.002741    924   \n",
      "527                             603_paes_ocps_china_sum  0.002682    603   \n",
      "528   995_carrots_conventionally_organicallygrown_in...  0.003622    995   \n",
      "597            778_proteins_mandibular_glands_hemolymph  0.003217    778   \n",
      "660                    1024_meathandling_pmpp_gmpp_0000  0.004343   1024   \n",
      "816        933_predictive_models_antagonism_competition  0.002543    933   \n",
      "840          447_ntm_mycobacterium_mycobacteria_filters  0.002538    447   \n",
      "891                       699_ice_packaged_premises_isb  0.002930    699   \n",
      "1000                         331_afb1_bsaafb1_hrp_probe  0.003064    331   \n",
      "1004              885_micelles_ttcp_controllable_thymol  0.003182    885   \n",
      "1007                       916_fnu_racks_boards_cutting  0.003182    916   \n",
      "1109                 888_hh_hamburgers_beefsteak_crumbs  0.002864    888   \n",
      "1110               472_wollastonite_cds_dmsa_amendments  0.002518    472   \n",
      "1111               905_thiosulfate_chelating_hg_ligands  0.002864    905   \n",
      "1135                1051_expired_nafdac_disposal_unused  0.003862   1051   \n",
      "1216             717_nickel_drinks_nds_bioaccessibility  0.003244    717   \n",
      "1217                 671_mc_pf_cellg_concentrationbased  0.003244    671   \n",
      "1228              262_formulae_infant_formulas_toddlers  0.002935    262   \n",
      "1230        455_ndma_ranitidine_nitrosamine_medications  0.003828    455   \n",
      "1272  1073_regulators_moulds_buildingrelated_metabol...  0.003560   1073   \n",
      "1287                 1033_cit_dhcit_citrinin_extraction  0.003560   1033   \n",
      "1311                   672_hvpef_uhph_detachedcells_psi  0.002951    672   \n",
      "1336                        853_3d_printing_printed_ink  0.004801    853   \n",
      "1383              1011_shopping_covid19_online_delivery  0.002646   1011   \n",
      "1384            988_blockchain_supply_framework_origins  0.002646    988   \n",
      "1422  1221_toxicogenomic_nonlegislated_snvs_immunoassay  0.003712   1221   \n",
      "\n",
      "      Count                                     Representation  \\\n",
      "6         8  [mrsa, cc398, pvl, leukocidin, spa, meca, pant...   \n",
      "86        5  [cockle, element, trace, reef, rbfw, sbfw, anc...   \n",
      "172       4  [vitamin, pregnancy, glucose, arich, maternal,...   \n",
      "196       3  [lmf, lowaw, lmfs, lowmoisture, lwafs, cfd, hi...   \n",
      "214       3  [chlorine, free, fluorescence, urine, 00001, m...   \n",
      "527       5  [paes, ocps, china, sum, delta, yangtze, ngg, ...   \n",
      "528       3  [carrots, conventionally, organicallygrown, in...   \n",
      "597       4  [proteins, mandibular, glands, hemolymph, cate...   \n",
      "660       2  [meathandling, pmpp, gmpp, 0000, hygiene, meat...   \n",
      "816       3  [predictive, models, antagonism, competition, ...   \n",
      "840       6  [ntm, mycobacterium, mycobacteria, filters, fo...   \n",
      "891       4  [ice, packaged, premises, isb, onsite, coolant...   \n",
      "1000      7  [afb1, bsaafb1, hrp, probe, chemiluminescence,...   \n",
      "1004      3  [micelles, ttcp, controllable, thymol, cpms, r...   \n",
      "1007      3  [fnu, racks, boards, cutting, hygienic, constr...   \n",
      "1109      3  [hh, hamburgers, beefsteak, crumbs, meatballs,...   \n",
      "1110      6  [wollastonite, cds, dmsa, amendments, paddy, f...   \n",
      "1111      3  [thiosulfate, chelating, hg, ligands, phytoext...   \n",
      "1135      2  [expired, nafdac, disposal, unused, dispose, d...   \n",
      "1216      4  [nickel, drinks, nds, bioaccessibility, plantb...   \n",
      "1217      4  [mc, pf, cellg, concentrationbased, lots, ceft...   \n",
      "1228      8  [formulae, infant, formulas, toddlers, infants...   \n",
      "1230      6  [ndma, ranitidine, nitrosamine, medications, i...   \n",
      "1272      2  [regulators, moulds, buildingrelated, metaboli...   \n",
      "1287      2  [cit, dhcit, citrinin, extraction, 2461, dihyd...   \n",
      "1311      4  [hvpef, uhph, detachedcells, psi, planktonic, ...   \n",
      "1336      3  [3d, printing, printed, ink, printability, ink...   \n",
      "1383      3  [shopping, covid19, online, delivery, selfeffi...   \n",
      "1384      3  [blockchain, supply, framework, origins, block...   \n",
      "1422      2  [toxicogenomic, nonlegislated, snvs, immunoass...   \n",
      "\n",
      "                                    Representative_Docs  \\\n",
      "6     [The presence of methicillin-resistant Staphyl...   \n",
      "86    [The integration, accumulation and transfer of...   \n",
      "172   [Overweight and obesity pre pregnancy or durin...   \n",
      "196   [Foods and food ingredients with low water act...   \n",
      "214   [Hygiene hypothesis and sanitization are two i...   \n",
      "527   [Soil pollution is a global problem in both de...   \n",
      "528   [Illegal practices of waste combustion and the...   \n",
      "597   [Contamination of agro-ecosystems with heavy m...   \n",
      "660   [Food-borne disease outbreaks remain a major g...   \n",
      "816   [Contamination by pathogenic bacteria is the m...   \n",
      "840   [Nontuberculous mycobacteria (NTM) are potenti...   \n",
      "891   [Ice is widely used in the food industry, as a...   \n",
      "1000  [Aflatoxin B1 (AFB1) contamination has raised ...   \n",
      "1004  [Contamination of surfaces in hospitals and fo...   \n",
      "1007  [Providing safe food products to the consumer ...   \n",
      "1109  [Previous studies have shown the efficacy of h...   \n",
      "1110  [Cadmium (Cd) contamination in paddy soils pos...   \n",
      "1111  [The antagonistic effect between mercury (Hg) ...   \n",
      "1135  [The use of medicines is a ubiquitous practice...   \n",
      "1216  [Nickel can occur in plant-based, animal-based...   \n",
      "1217  [Salmonella Heidelberg resistant to ceftiofur ...   \n",
      "1228  [Infant formulas are useful alternatives to br...   \n",
      "1230  [Nitrosamines are known carcinogens which have...   \n",
      "1272  [Mycotoxins are toxic fungal secondary metabol...   \n",
      "1287  [Citrinin (CIT), a mycotoxin known to exert ne...   \n",
      "1311  [Staphylococcus aureus is one of the main path...   \n",
      "1336  [Three-dimensional (3D) printing, as an emergi...   \n",
      "1383  [Sub-Saharan Africa (SSA) is known as a region...   \n",
      "1384  [Increasing global and domestic food trade and...   \n",
      "1422  [Food and feed contamination by nonlegislated ...   \n",
      "\n",
      "                                          distant_terms  \\\n",
      "6                                       [sccmec, table]   \n",
      "86          [reef, rbfw, sbfw, ancova, ag, sedimentary]   \n",
      "172                   [arich, ofsp, vad, unnecessarily]   \n",
      "196                 [cfd, semisolid, rheological, heat]   \n",
      "214     [00001, microchannels, hai, inlets, micromixer]   \n",
      "527                            [sum, yangtze, ngg, hch]   \n",
      "528   [interelement, elemental, 218, na, characterised]   \n",
      "597                          [expression, montrouzieri]   \n",
      "660   [0000, hygiene, meat, aor, handlers, hygienepr...   \n",
      "816   [synbiotic, intrapopulation, mincedtuna, prebi...   \n",
      "840   [filters, fortuitum, nontuberculous, wisconsin...   \n",
      "891                           [isb, piqcs, phuoc, binh]   \n",
      "1000  [probe, chemiluminescence, aptamer, wells, lab...   \n",
      "1004                  [rosinducing, payloads, exterior]   \n",
      "1007             [hygienic, adhesion, pseudomonadaceae]   \n",
      "1109                              [log, survival, gave]   \n",
      "1110               [amendments, paddy, flag, rhb, rice]   \n",
      "1111             [phytoextraction, tf, se, metallomics]   \n",
      "1135                      [pharmacists, questionnaires]   \n",
      "1216  [bioaccessibility, plantbased, overestimation,...   \n",
      "1217  [concentrationbased, lots, heidelberg, turkey,...   \n",
      "1228                [toddlers, mothers, mgkg, children]   \n",
      "1230                                       [impurities]   \n",
      "1272  [metabolities, pathwayspecific, mycotoxin, pat...   \n",
      "1287                        [extraction, 2461, germany]   \n",
      "1311  [psi, planktonic, 40000, voltage, scanning, au...   \n",
      "1336            [impacting, standardizing, healthiness]   \n",
      "1383         [selfefficacy, motivation, kap, perceived]   \n",
      "1384                                     [traceability]   \n",
      "1422    [immunoassay, advance, mini, enniatin, wastage]   \n",
      "\n",
      "                   most_distant_terms  \\\n",
      "6                               table   \n",
      "86                               sbfw   \n",
      "172                              ofsp   \n",
      "196                       rheological   \n",
      "214                             00001   \n",
      "527                               ngg   \n",
      "528                                na   \n",
      "597                      montrouzieri   \n",
      "660                  hygienepractices   \n",
      "816                   intrapopulation   \n",
      "840                           filters   \n",
      "891                              binh   \n",
      "1000                chemiluminescence   \n",
      "1004                         exterior   \n",
      "1007                 pseudomonadaceae   \n",
      "1109                              log   \n",
      "1110                             flag   \n",
      "1111                  phytoextraction   \n",
      "1135                   questionnaires   \n",
      "1216  bioaccessibilitybioavailability   \n",
      "1217                             lots   \n",
      "1228                             mgkg   \n",
      "1230                       impurities   \n",
      "1272                     metabolities   \n",
      "1287                          germany   \n",
      "1311                         biofilms   \n",
      "1336                      healthiness   \n",
      "1383                        perceived   \n",
      "1384                     traceability   \n",
      "1422                          advance   \n",
      "\n",
      "                                       core_topic  \n",
      "6                              [mrsa, cc398, pvl]  \n",
      "86                       [cockle, element, trace]  \n",
      "172                 [vitamin, pregnancy, glucose]  \n",
      "196                            [lmf, lowaw, lmfs]  \n",
      "214                [chlorine, free, fluorescence]  \n",
      "527                           [paes, ocps, china]  \n",
      "528   [carrots, conventionally, organicallygrown]  \n",
      "597                [proteins, mandibular, glands]  \n",
      "660                    [meathandling, pmpp, gmpp]  \n",
      "816              [predictive, models, antagonism]  \n",
      "840            [ntm, mycobacterium, mycobacteria]  \n",
      "891                     [ice, packaged, premises]  \n",
      "1000                         [afb1, bsaafb1, hrp]  \n",
      "1004               [micelles, ttcp, controllable]  \n",
      "1007                         [fnu, racks, boards]  \n",
      "1109                  [hh, hamburgers, beefsteak]  \n",
      "1110                    [wollastonite, cds, dmsa]  \n",
      "1111                 [thiosulfate, chelating, hg]  \n",
      "1135                  [expired, nafdac, disposal]  \n",
      "1216                        [nickel, drinks, nds]  \n",
      "1217                              [mc, pf, cellg]  \n",
      "1228                 [formulae, infant, formulas]  \n",
      "1230              [ndma, ranitidine, nitrosamine]  \n",
      "1272        [regulators, moulds, buildingrelated]  \n",
      "1287                       [cit, dhcit, citrinin]  \n",
      "1311                 [hvpef, uhph, detachedcells]  \n",
      "1336                      [3d, printing, printed]  \n",
      "1383                  [shopping, covid19, online]  \n",
      "1384              [blockchain, supply, framework]  \n",
      "1422         [toxicogenomic, nonlegislated, snvs]  \n"
     ]
    }
   ],
   "source": [
    "from sentence_transformers import SentenceTransformer, util\n",
    "import torch\n",
    "\n",
    "# Define a function to get the first three terms from the list\n",
    "def get_first_three_terms(term_list):\n",
    "    return term_list[:3]\n",
    "\n",
    "def find_distant_terms(terms, n, threshold=0.3):\n",
    "    if len(terms) < max(3, n):\n",
    "        return []  # Not enough terms to proceed\n",
    "\n",
    "    # Encoding the first three terms and averaging their embeddings\n",
    "    initial_terms_embeddings = sentence_model.encode(terms[:3], convert_to_tensor=True)\n",
    "    cumulated_embedding = torch.mean(initial_terms_embeddings, dim=0)\n",
    "\n",
    "    distant_terms = []\n",
    "    for term in terms[n-1:]:  # Start from the nth term\n",
    "        term_embedding = sentence_model.encode(term, convert_to_tensor=True)\n",
    "        # Calculate cosine similarity\n",
    "        similarity = util.pytorch_cos_sim(cumulated_embedding, term_embedding).item()\n",
    "        if similarity < threshold:\n",
    "            distant_terms.append(term)\n",
    "    return distant_terms\n",
    "\n",
    "def find_most_distant_term(terms, n, threshold=0.4):\n",
    "    if len(terms) < max(3, n):\n",
    "        return None  # Not enough terms to proceed\n",
    "\n",
    "    # Encoding the first three terms and averaging their embeddings\n",
    "    initial_terms_embeddings = sentence_model.encode(terms[:3], convert_to_tensor=True)\n",
    "    cumulated_embedding = torch.mean(initial_terms_embeddings, dim=0)\n",
    "\n",
    "    most_distant_term = None\n",
    "    lowest_similarity = 1.0  # Initialize with the maximum possible similarity\n",
    "\n",
    "    for term in terms[n-1:]:  # Start from the nth term\n",
    "        term_embedding = sentence_model.encode(term, convert_to_tensor=True)\n",
    "        # Calculate cosine similarity\n",
    "        similarity = util.pytorch_cos_sim(cumulated_embedding, term_embedding).item()\n",
    "        if similarity < threshold and similarity < lowest_similarity:\n",
    "            lowest_similarity = similarity\n",
    "            most_distant_term = term\n",
    "\n",
    "    return most_distant_term\n",
    "\n",
    "# Specify the nth term here, e.g., 4th term would be n=4\n",
    "nth_term = 4\n",
    "weak_signal_df['distant_terms'] = weak_signal_df['Representation'].apply(lambda x: find_distant_terms(x, nth_term))\n",
    "weak_signal_df['most_distant_terms'] = weak_signal_df['Representation'].apply(lambda x: find_most_distant_term(x, nth_term))\n",
    "weak_signal_df['core_topic'] = weak_signal_df['Representation'].apply(get_first_three_terms)\n",
    "\n",
    "# Output the DataFrame\n",
    "print(weak_signal_df)"
   ]
  },
  {
   "cell_type": "code",
   "execution_count": 124,
   "metadata": {
    "id": "Fw66l0UGA5g8",
    "tags": []
   },
   "outputs": [],
   "source": [
    "# interprete topic representations\n",
    "\n",
    "\n",
    "from langchain import PromptTemplate, OpenAI\n",
    "\n",
    "prompt_template2 = \"\"\"\n",
    "You are receiving the following topic representation within the realm of food contamination.\n",
    "Based on this topic representation and your expert knowledge in the food safety domain your task is to infer an emerging food safety risk.\n",
    "If you can not infer an emerging food safety risk, just say: no issue found.\n",
    "\"\"\""
   ]
  },
  {
   "cell_type": "code",
   "execution_count": null,
   "metadata": {
    "id": "Cyw9i85-InK6"
   },
   "outputs": [],
   "source": [
    "# Example for the topic ['pesticidebased', 'profitability', 'hamper', 'aflatoxinproducing', 'controversial', 'atoxigenic', 'amongst', 'replacement', 'promise', 'af']:\n",
    "# The controversial use of pesticide-based strategies to control aflatoxin-producing fungi may inadvertently hamper the development of safer, atoxigenic alternatives, risking aflatoxin contamination."
   ]
  },
  {
   "cell_type": "code",
   "execution_count": 125,
   "metadata": {
    "id": "Q7ljVNEKEYW7",
    "tags": []
   },
   "outputs": [],
   "source": [
    "# Function to generate text based on topic\n",
    "def infer_text4(label):\n",
    "    prompt = prompt_template2 + f\"\\ntopic: {topic}\\n\"\n",
    "    response = client.chat.completions.create(\n",
    "        model=\"gpt-4o\",\n",
    "        messages=[\n",
    "                {\"role\": \"system\", \"content\": \"You are an expert in food safety.\"},\n",
    "                {\"role\": \"user\", \"content\": prompt}\n",
    "            ],\n",
    "        temperature=0.6,\n",
    "        )\n",
    "    return response.choices[0].message.content"
   ]
  },
  {
   "cell_type": "code",
   "execution_count": 126,
   "metadata": {
    "id": "7M6w-PzxEYu3",
    "tags": []
   },
   "outputs": [],
   "source": [
    "# Create an empty DataFrame to store the results\n",
    "results = []\n",
    "\n",
    "# Loop through each category and generate project descriptions\n",
    "for index, row in weak_signal_df.iterrows():\n",
    "    topic = row['Representation']\n",
    "    text = infer_text4(topic)\n",
    "    results.append(text)\n",
    "\n",
    "weak_signal_df['interpretation'] = results"
   ]
  },
  {
   "cell_type": "code",
   "execution_count": 127,
   "metadata": {
    "id": "n76kW7CwSyMy",
    "tags": []
   },
   "outputs": [],
   "source": [
    "weak_signal_df.to_excel('/home/jupyter/axels_bucket/WSM/results_final.xlsx', index=False)"
   ]
  },
  {
   "cell_type": "code",
   "execution_count": null,
   "metadata": {},
   "outputs": [],
   "source": [
    "# random sample"
   ]
  },
  {
   "cell_type": "code",
   "execution_count": 132,
   "metadata": {
    "tags": []
   },
   "outputs": [
    {
     "name": "stdout",
     "output_type": "stream",
     "text": [
      "                                               Document  Topic  \\\n",
      "162   There has been a dramatic proliferation of pre...     69   \n",
      "4695  The aim of this study is to determine the spec...    346   \n",
      "1936  Soil contamination and human impacts have been...    395   \n",
      "3218  According to the affect-as-information framewo...     28   \n",
      "6272  Brewery sludge is the solid residue obtained f...    570   \n",
      "4093                                        The fungus     237   \n",
      "3617  An annual update of information about the prev...   1410   \n",
      "5434  The bacterial load on the eggshell surface is ...     25   \n",
      "6079                             The ESKAPE pathogens (    392   \n",
      "6722  Acknowledged by the World Health Organisation ...    942   \n",
      "4933  Bioaerosol plays an important role in human li...    952   \n",
      "80    There have been only a few region-level ecolog...     93   \n",
      "4677  Phthalates are a huge class of chemicals with ...    125   \n",
      "4179  Climate change and pharmaceutical contaminatio...   1002   \n",
      "4812  Histamine (HA) is a biogenic amine associated ...    878   \n",
      "\n",
      "                                                 Name  \\\n",
      "162                69_allergen_pal_labeling_labelling   \n",
      "4695                  346_msm_parasites_gii_roundworm   \n",
      "1936         395_henan_smelters_steelmaking_varieties   \n",
      "3218           28_disgust_stimuli_disgusting_pictures   \n",
      "6272             570_fertilization_digestate_tms_slag   \n",
      "4093   237_smallspored_molds_necrotrophic_saprophytic   \n",
      "3617  1410_enterotoxin_sweets_bacterium_foodpoisoning   \n",
      "5434                        25_egg_eggs_cuticle_shell   \n",
      "6079                   392_pah187270_plasmid_kbp_mega   \n",
      "6722                        942_bvocs_vocs_sensors_s3   \n",
      "4933         952_bioaerosols_ima_innocuous_bioaerosol   \n",
      "80          93_fecal_neighborhoods_lowincome_pathways   \n",
      "4677                125_phthalates_phthalate_dehp_bbp   \n",
      "4179             1002_zebrafish_amphipods_pco_warming   \n",
      "4812    878_histamine_histamineproducing_hrma_melting   \n",
      "\n",
      "                                         Representation  \\\n",
      "162   [allergen, pal, labeling, labelling, precautio...   \n",
      "4695  [msm, parasites, gii, roundworm, medieval, par...   \n",
      "1936  [henan, smelters, steelmaking, varieties, pb, ...   \n",
      "3218  [disgust, stimuli, disgusting, pictures, scene...   \n",
      "6272  [fertilization, digestate, tms, slag, rif, bsd...   \n",
      "4093  [smallspored, molds, necrotrophic, saprophytic...   \n",
      "3617  [enterotoxin, sweets, bacterium, foodpoisoning...   \n",
      "5434  [egg, eggs, cuticle, shell, hens, white, eggsh...   \n",
      "6079  [pah187270, plasmid, kbp, mega, delay, strain,...   \n",
      "6722  [bvocs, vocs, sensors, s3, mlps, predict, nir,...   \n",
      "4933  [bioaerosols, ima, innocuous, bioaerosol, pass...   \n",
      "80    [fecal, neighborhoods, lowincome, pathways, sa...   \n",
      "4677  [phthalates, phthalate, dehp, bbp, dbp, dnbp, ...   \n",
      "4179  [zebrafish, amphipods, pco, warming, biotoxins...   \n",
      "4812  [histamine, histamineproducing, hrma, melting,...   \n",
      "\n",
      "                                    Representative_Docs  \\\n",
      "162   [Food allergy appears to be on the rise with t...   \n",
      "4695  [To investigate the types of intestinal parasi...   \n",
      "1936  [Industrial activities tend to deteriorate adj...   \n",
      "3218  [While disgust is a clinically and theoretical...   \n",
      "6272  [Soil plays a crucial role in food safety as i...   \n",
      "4093  [The presence of molds, especially certain spe...   \n",
      "3617  [An annual update of information about the pre...   \n",
      "5434  [Salmonella enterica serovar Enteritidis is th...   \n",
      "6079  [Prophage integration, release, and disseminat...   \n",
      "6722  [Tea is the second most consumed beverage, and...   \n",
      "4933  [The present multicenter study aimed at assess...   \n",
      "80    [Inadequate sanitation can lead to exposure to...   \n",
      "4677  [This research determines the concentrations o...   \n",
      "4179  [Zebrafish are an emerging basic biomedical re...   \n",
      "4812  [Histamine (HA) is a biogenic amine associated...   \n",
      "\n",
      "                                            Top_n_words  \\\n",
      "162   allergen - pal - labeling - labelling - precau...   \n",
      "4695  msm - parasites - gii - roundworm - medieval -...   \n",
      "1936  henan - smelters - steelmaking - varieties - p...   \n",
      "3218  disgust - stimuli - disgusting - pictures - sc...   \n",
      "6272  fertilization - digestate - tms - slag - rif -...   \n",
      "4093  smallspored - molds - necrotrophic - saprophyt...   \n",
      "3617  enterotoxin - sweets - bacterium - foodpoisoni...   \n",
      "5434  egg - eggs - cuticle - shell - hens - white - ...   \n",
      "6079  pah187270 - plasmid - kbp - mega - delay - str...   \n",
      "6722  bvocs - vocs - sensors - s3 - mlps - predict -...   \n",
      "4933  bioaerosols - ima - innocuous - bioaerosol - p...   \n",
      "80    fecal - neighborhoods - lowincome - pathways -...   \n",
      "4677  phthalates - phthalate - dehp - bbp - dbp - dn...   \n",
      "4179  zebrafish - amphipods - pco - warming - biotox...   \n",
      "4812  histamine - histamineproducing - hrma - meltin...   \n",
      "\n",
      "      Representative_document    ID  Year  \n",
      "162                     False   162  2013  \n",
      "4695                    False  4695  2020  \n",
      "1936                     True  1936  2015  \n",
      "3218                    False  3218  2018  \n",
      "6272                    False  6272  2021  \n",
      "4093                    False  4093  2019  \n",
      "3617                     True  3617  2019  \n",
      "5434                    False  5434  2021  \n",
      "6079                    False  6079  2021  \n",
      "6722                     True  6722  2022  \n",
      "4933                     True  4933  2020  \n",
      "80                      False    80  2013  \n",
      "4677                    False  4677  2020  \n",
      "4179                     True  4179  2018  \n",
      "4812                     True  4812  2020  \n"
     ]
    }
   ],
   "source": [
    "random_samples = doc_info.sample(n=15, random_state=38)\n",
    "\n",
    "# Display the sampled DataFrame\n",
    "print(random_samples)"
   ]
  },
  {
   "cell_type": "code",
   "execution_count": 133,
   "metadata": {
    "tags": []
   },
   "outputs": [
    {
     "name": "stdout",
     "output_type": "stream",
     "text": [
      "No identical rows in the 'Representation' column.\n"
     ]
    }
   ],
   "source": [
    "duplicates = random_samples['Representation'].isin(weak_signal_df['Representation'])\n",
    "\n",
    "# If any duplicates are found, duplicates will contain True values\n",
    "has_duplicates = duplicates.any()\n",
    "\n",
    "# Display the result\n",
    "if has_duplicates:\n",
    "    print(\"There are identical rows in the 'Representation' column.\")\n",
    "else:\n",
    "    print(\"No identical rows in the 'Representation' column.\")"
   ]
  },
  {
   "cell_type": "code",
   "execution_count": 134,
   "metadata": {
    "tags": []
   },
   "outputs": [],
   "source": [
    "# Create an empty DataFrame to store the results\n",
    "results = []\n",
    "\n",
    "# Loop through each category and generate project descriptions\n",
    "for index, row in random_samples.iterrows():\n",
    "    topic = row['Representation']\n",
    "    text = infer_text4(topic)\n",
    "    results.append(text)\n",
    "\n",
    "random_samples['interpretation'] = results"
   ]
  },
  {
   "cell_type": "code",
   "execution_count": 135,
   "metadata": {
    "tags": []
   },
   "outputs": [],
   "source": [
    "random_samples.to_excel('/home/jupyter/axels_bucket/WSM/random_results.xlsx', index=False)"
   ]
  },
  {
   "cell_type": "code",
   "execution_count": null,
   "metadata": {},
   "outputs": [],
   "source": []
  }
 ],
 "metadata": {
  "accelerator": "GPU",
  "colab": {
   "gpuType": "T4",
   "machine_shape": "hm",
   "provenance": []
  },
  "environment": {
   "kernel": "conda-root-py",
   "name": "workbench-notebooks.m117",
   "type": "gcloud",
   "uri": "us-docker.pkg.dev/deeplearning-platform-release/gcr.io/workbench-notebooks:m117"
  },
  "kernelspec": {
   "display_name": "Python 3 (ipykernel)",
   "language": "python",
   "name": "conda-root-py"
  },
  "language_info": {
   "codemirror_mode": {
    "name": "ipython",
    "version": 3
   },
   "file_extension": ".py",
   "mimetype": "text/x-python",
   "name": "python",
   "nbconvert_exporter": "python",
   "pygments_lexer": "ipython3",
   "version": "3.10.13"
  }
 },
 "nbformat": 4,
 "nbformat_minor": 4
}
