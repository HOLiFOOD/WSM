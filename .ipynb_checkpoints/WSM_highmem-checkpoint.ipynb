{
 "cells": [
  {
   "cell_type": "code",
   "execution_count": 1,
   "metadata": {
    "id": "q3XIVa5xkAZm",
    "tags": []
   },
   "outputs": [],
   "source": [
    "!pip install -q bertopic pandas nltk scikit-learn matplotlib xlwt "
   ]
  },
  {
   "cell_type": "code",
   "execution_count": 9,
   "metadata": {
    "colab": {
     "base_uri": "https://localhost:8080/"
    },
    "id": "-a0xU37Bihqv",
    "outputId": "ff2f2b68-aac7-49b8-a3a2-0d149fe2ead0",
    "tags": []
   },
   "outputs": [
    {
     "data": {
      "text/html": [
       "<div>\n",
       "<style scoped>\n",
       "    .dataframe tbody tr th:only-of-type {\n",
       "        vertical-align: middle;\n",
       "    }\n",
       "\n",
       "    .dataframe tbody tr th {\n",
       "        vertical-align: top;\n",
       "    }\n",
       "\n",
       "    .dataframe thead th {\n",
       "        text-align: right;\n",
       "    }\n",
       "</style>\n",
       "<table border=\"1\" class=\"dataframe\">\n",
       "  <thead>\n",
       "    <tr style=\"text-align: right;\">\n",
       "      <th></th>\n",
       "      <th>date</th>\n",
       "      <th>url</th>\n",
       "      <th>content</th>\n",
       "      <th>domain</th>\n",
       "    </tr>\n",
       "  </thead>\n",
       "  <tbody>\n",
       "    <tr>\n",
       "      <th>0</th>\n",
       "      <td>2021-08-09</td>\n",
       "      <td>http://en.people.cn/n3/2021/0808/c90000-988149...</td>\n",
       "      <td>more farm products meet national standards in ...</td>\n",
       "      <td>en.people.cn</td>\n",
       "    </tr>\n",
       "    <tr>\n",
       "      <th>1</th>\n",
       "      <td>2021-08-09</td>\n",
       "      <td>https://www.dailymail.co.uk/news/article-98764...</td>\n",
       "      <td>health chiefs recall another 25 batches of blo...</td>\n",
       "      <td>www.dailymail.co.uk</td>\n",
       "    </tr>\n",
       "    <tr>\n",
       "      <th>2</th>\n",
       "      <td>2021-08-09</td>\n",
       "      <td>https://www.envirotech-online.com/article/envi...</td>\n",
       "      <td>'forever chemicals' - its time for action on p...</td>\n",
       "      <td>www.envirotech-online.com</td>\n",
       "    </tr>\n",
       "    <tr>\n",
       "      <th>3</th>\n",
       "      <td>2021-08-09</td>\n",
       "      <td>https://www.bristolpost.co.uk/news/uk-world-ne...</td>\n",
       "      <td>common blood pressure drug recalled due to can...</td>\n",
       "      <td>www.bristolpost.co.uk</td>\n",
       "    </tr>\n",
       "    <tr>\n",
       "      <th>4</th>\n",
       "      <td>2021-08-09</td>\n",
       "      <td>https://www.nutritioninsight.com/audios/newsbi...</td>\n",
       "      <td>newsbite aug 2-6: us food labeling modernizati...</td>\n",
       "      <td>www.nutritioninsight.com</td>\n",
       "    </tr>\n",
       "    <tr>\n",
       "      <th>...</th>\n",
       "      <td>...</td>\n",
       "      <td>...</td>\n",
       "      <td>...</td>\n",
       "      <td>...</td>\n",
       "    </tr>\n",
       "    <tr>\n",
       "      <th>92717</th>\n",
       "      <td>2024-04-14</td>\n",
       "      <td>https://kswfoodmicro.com/2024/04/14/research-o...</td>\n",
       "      <td>research officials confirm planned closure of ...</td>\n",
       "      <td>kswfoodmicro.com</td>\n",
       "    </tr>\n",
       "    <tr>\n",
       "      <th>92718</th>\n",
       "      <td>2024-04-14</td>\n",
       "      <td>https://sundiatapost.com/fg-needs-nigerians-su...</td>\n",
       "      <td>fg needs nigerians to make lives better mohamm...</td>\n",
       "      <td>sundiatapost.com</td>\n",
       "    </tr>\n",
       "    <tr>\n",
       "      <th>92719</th>\n",
       "      <td>2024-04-14</td>\n",
       "      <td>https://www.thesouthafrican.com/news/sahpra-re...</td>\n",
       "      <td>sahpra recalls benylin paediatric syrup with t...</td>\n",
       "      <td>www.thesouthafrican.com</td>\n",
       "    </tr>\n",
       "    <tr>\n",
       "      <th>92720</th>\n",
       "      <td>2024-04-15</td>\n",
       "      <td>https://www.channelnewsasia.com/singapore/gen-...</td>\n",
       "      <td>the big read: call me maybe - gen zers, millen...</td>\n",
       "      <td>www.channelnewsasia.com</td>\n",
       "    </tr>\n",
       "    <tr>\n",
       "      <th>92721</th>\n",
       "      <td>2024-04-15</td>\n",
       "      <td>https://www.telegraph.co.uk/news/2024/04/14/wa...</td>\n",
       "      <td>waitrose spanish olives recalled over glass ri...</td>\n",
       "      <td>www.telegraph.co.uk</td>\n",
       "    </tr>\n",
       "  </tbody>\n",
       "</table>\n",
       "<p>92212 rows × 4 columns</p>\n",
       "</div>"
      ],
      "text/plain": [
       "             date                                                url  \\\n",
       "0      2021-08-09  http://en.people.cn/n3/2021/0808/c90000-988149...   \n",
       "1      2021-08-09  https://www.dailymail.co.uk/news/article-98764...   \n",
       "2      2021-08-09  https://www.envirotech-online.com/article/envi...   \n",
       "3      2021-08-09  https://www.bristolpost.co.uk/news/uk-world-ne...   \n",
       "4      2021-08-09  https://www.nutritioninsight.com/audios/newsbi...   \n",
       "...           ...                                                ...   \n",
       "92717  2024-04-14  https://kswfoodmicro.com/2024/04/14/research-o...   \n",
       "92718  2024-04-14  https://sundiatapost.com/fg-needs-nigerians-su...   \n",
       "92719  2024-04-14  https://www.thesouthafrican.com/news/sahpra-re...   \n",
       "92720  2024-04-15  https://www.channelnewsasia.com/singapore/gen-...   \n",
       "92721  2024-04-15  https://www.telegraph.co.uk/news/2024/04/14/wa...   \n",
       "\n",
       "                                                 content  \\\n",
       "0      more farm products meet national standards in ...   \n",
       "1      health chiefs recall another 25 batches of blo...   \n",
       "2      'forever chemicals' - its time for action on p...   \n",
       "3      common blood pressure drug recalled due to can...   \n",
       "4      newsbite aug 2-6: us food labeling modernizati...   \n",
       "...                                                  ...   \n",
       "92717  research officials confirm planned closure of ...   \n",
       "92718  fg needs nigerians to make lives better mohamm...   \n",
       "92719  sahpra recalls benylin paediatric syrup with t...   \n",
       "92720  the big read: call me maybe - gen zers, millen...   \n",
       "92721  waitrose spanish olives recalled over glass ri...   \n",
       "\n",
       "                          domain  \n",
       "0                   en.people.cn  \n",
       "1            www.dailymail.co.uk  \n",
       "2      www.envirotech-online.com  \n",
       "3          www.bristolpost.co.uk  \n",
       "4       www.nutritioninsight.com  \n",
       "...                          ...  \n",
       "92717           kswfoodmicro.com  \n",
       "92718           sundiatapost.com  \n",
       "92719    www.thesouthafrican.com  \n",
       "92720    www.channelnewsasia.com  \n",
       "92721        www.telegraph.co.uk  \n",
       "\n",
       "[92212 rows x 4 columns]"
      ]
     },
     "execution_count": 9,
     "metadata": {},
     "output_type": "execute_result"
    }
   ],
   "source": [
    "import pandas as pd\n",
    "docs = pd.read_csv('gs://axels_bucket/news_dataset/news.csv')\n",
    "docs = docs.dropna()\n",
    "docs"
   ]
  },
  {
   "cell_type": "code",
   "execution_count": 10,
   "metadata": {
    "tags": []
   },
   "outputs": [
    {
     "data": {
      "text/plain": [
       "\"'forever chemicals' - its time for action on pfas - jul 26 2021 - graham meller - environmental science news - envirotech online product search e-learning white papers sign-in news section environmental laboratory environmental laboratory soil testing food safety testing pfas analysis microplastics analysis environmental laboratory soil testing food safety\""
      ]
     },
     "execution_count": 10,
     "metadata": {},
     "output_type": "execute_result"
    }
   ],
   "source": [
    "def get_first_n_terms(text):\n",
    "    words = text.split()[:50]  # Split the text into words and take the first n\n",
    "    return ' '.join(words)\n",
    "\n",
    "# Applying the function to the 'text' column and creating a new column 'first_100_words'\n",
    "docs['beginning'] = docs['content'].apply(get_first_n_terms)\n",
    "docs['beginning'][2]"
   ]
  },
  {
   "cell_type": "code",
   "execution_count": 11,
   "metadata": {
    "tags": []
   },
   "outputs": [],
   "source": [
    "import pandas as pd\n",
    "from bertopic import BERTopic\n",
    "from bertopic.vectorizers import ClassTfidfTransformer\n",
    "from sklearn.feature_extraction.text import CountVectorizer\n",
    "from sklearn.cluster import AgglomerativeClustering\n",
    "from sentence_transformers import SentenceTransformer\n",
    "from umap import UMAP\n",
    "from collections import Counter\n",
    "import numpy as np\n",
    "import matplotlib.pyplot as plt\n",
    "from scipy.stats import gmean\n",
    "import nltk\n",
    "import re"
   ]
  },
  {
   "cell_type": "code",
   "execution_count": 12,
   "metadata": {
    "tags": []
   },
   "outputs": [],
   "source": [
    "# Function to group by a specific time unit (Year, Month, Day)\n",
    "def group_by_time_unit(df, time_unit):\n",
    "    if time_unit == 'year':\n",
    "        return df['date'].dt.year\n",
    "    elif time_unit == 'month':\n",
    "        return df['date'].dt.to_period('M')  # Month as YYYY-MM\n",
    "    elif time_unit == 'day':\n",
    "        return df['date'].dt.date  # Exact day as YYYY-MM-DD\n",
    "    else:\n",
    "        raise ValueError(\"Invalid time_unit. Choose 'year', 'month', or 'day'.\")"
   ]
  },
  {
   "cell_type": "code",
   "execution_count": 13,
   "metadata": {
    "tags": []
   },
   "outputs": [],
   "source": [
    "def time_difference(max_time, min_time, time_unit):\n",
    "    if time_unit == 'year':\n",
    "        return max_time - min_time  # Directly subtract the years since they are integers\n",
    "    elif time_unit == 'month':\n",
    "        return (max_time.year - min_time.year) * 12 + (max_time.month - min_time.month)  # Total months\n",
    "    elif time_unit == 'day':\n",
    "        return (max_time - min_time).days  # Difference in days\n",
    "    else:\n",
    "        raise ValueError(\"Invalid time unit for difference. Choose 'year', 'month', or 'day'.\")"
   ]
  },
  {
   "cell_type": "code",
   "execution_count": 14,
   "metadata": {
    "tags": []
   },
   "outputs": [],
   "source": [
    "# Convert the 'Abstract' column to string data type\n",
    "docs['text'] = docs['beginning'].astype(str)\n",
    "\n",
    "# Define a regular expression pattern to match non-Latin characters\n",
    "non_latin_pattern = re.compile(r'[^\\x00-\\x7F]')\n",
    "\n",
    "# Apply the regular expression pattern to the 'Abstract' column\n",
    "docs = docs[~docs['text'].str.contains(non_latin_pattern)]\n",
    "\n",
    "# Set the time unit for grouping (year, month, or day)\n",
    "time_unit = 'month'  # Change this to 'year', 'month', or 'day'\n",
    "\n",
    "# Convert the 'Date' column to datetime and drop invalid dates\n",
    "docs['date'] = pd.to_datetime(docs['date'], errors='coerce')\n",
    "docs.dropna(subset=['date'], inplace=True)\n",
    "\n",
    "# Group data based on the selected time unit\n",
    "docs['Time'] = group_by_time_unit(docs, time_unit)\n",
    "\n",
    "text = docs[\"text\"].astype('str')\n",
    "text = text.tolist()"
   ]
  },
  {
   "cell_type": "code",
   "execution_count": null,
   "metadata": {
    "tags": []
   },
   "outputs": [],
   "source": [
    "# Prepare embeddings\n",
    "sentence_model = SentenceTransformer(\"all-MiniLM-L6-v2\")\n",
    "umap_model = UMAP(n_components=2, n_neighbors=15, min_dist=0.0, metric='cosine')\n",
    "embeddings = sentence_model.encode(text, show_progress_bar=False)\n",
    "cluster_model = AgglomerativeClustering(distance_threshold=0.35, n_clusters=None)\n",
    "vectorizer_model = CountVectorizer(ngram_range=(1, 2), stop_words=\"english\", min_df=3)\n",
    "# Train BERTopic\n",
    "topic_model = BERTopic(hdbscan_model=cluster_model, umap_model=umap_model, low_memory=True, calculate_probabilities=False, vectorizer_model=vectorizer_model).fit(text, embeddings)\n",
    "topic_info = topic_model.get_topic_info()\n",
    "\n",
    "doc_info = topic_model.get_document_info(text)\n",
    "doc_info[\"ID\"] = doc_info.index\n",
    "doc_info[\"Time\"] = docs[\"Time\"].tolist()"
   ]
  },
  {
   "cell_type": "code",
   "execution_count": 27,
   "metadata": {
    "tags": []
   },
   "outputs": [
    {
     "data": {
      "text/html": [
       "<div>\n",
       "<style scoped>\n",
       "    .dataframe tbody tr th:only-of-type {\n",
       "        vertical-align: middle;\n",
       "    }\n",
       "\n",
       "    .dataframe tbody tr th {\n",
       "        vertical-align: top;\n",
       "    }\n",
       "\n",
       "    .dataframe thead th {\n",
       "        text-align: right;\n",
       "    }\n",
       "</style>\n",
       "<table border=\"1\" class=\"dataframe\">\n",
       "  <thead>\n",
       "    <tr style=\"text-align: right;\">\n",
       "      <th></th>\n",
       "      <th>Name</th>\n",
       "      <th>dov</th>\n",
       "      <th>Topic</th>\n",
       "      <th>Count</th>\n",
       "      <th>Representation</th>\n",
       "      <th>Representative_Docs</th>\n",
       "    </tr>\n",
       "  </thead>\n",
       "  <tbody>\n",
       "    <tr>\n",
       "      <th>0</th>\n",
       "      <td>164_responsibility_labelling_cues_perceived</td>\n",
       "      <td>0.003392</td>\n",
       "      <td>164</td>\n",
       "      <td>11</td>\n",
       "      <td>[responsibility, labelling, cues, perceived, f...</td>\n",
       "      <td>[Unsafe food handling behaviors are common amo...</td>\n",
       "    </tr>\n",
       "    <tr>\n",
       "      <th>1</th>\n",
       "      <td>85_radium_dose_clothing_sudoqu</td>\n",
       "      <td>0.006758</td>\n",
       "      <td>85</td>\n",
       "      <td>13</td>\n",
       "      <td>[radium, dose, clothing, sudoqu, radioactive, ...</td>\n",
       "      <td>[The Fukushima nuclear accident (Japan, 11 Mar...</td>\n",
       "    </tr>\n",
       "    <tr>\n",
       "      <th>2</th>\n",
       "      <td>146_furazolidone_coccidiostats_residues_residue</td>\n",
       "      <td>0.002868</td>\n",
       "      <td>146</td>\n",
       "      <td>11</td>\n",
       "      <td>[furazolidone, coccidiostats, residues, residu...</td>\n",
       "      <td>[This article presents a review of the current...</td>\n",
       "    </tr>\n",
       "    <tr>\n",
       "      <th>3</th>\n",
       "      <td>582_foragers_social_collective_colony</td>\n",
       "      <td>0.004269</td>\n",
       "      <td>582</td>\n",
       "      <td>5</td>\n",
       "      <td>[foragers, social, collective, colony, nestmat...</td>\n",
       "      <td>[Foraging is a result of innate and acquired m...</td>\n",
       "    </tr>\n",
       "    <tr>\n",
       "      <th>4</th>\n",
       "      <td>51_eels_dabs_bde47_polybrominated</td>\n",
       "      <td>0.003693</td>\n",
       "      <td>51</td>\n",
       "      <td>15</td>\n",
       "      <td>[eels, dabs, bde47, polybrominated, biphenyls,...</td>\n",
       "      <td>[There is growing evidence that more people in...</td>\n",
       "    </tr>\n",
       "    <tr>\n",
       "      <th>...</th>\n",
       "      <td>...</td>\n",
       "      <td>...</td>\n",
       "      <td>...</td>\n",
       "      <td>...</td>\n",
       "      <td>...</td>\n",
       "      <td>...</td>\n",
       "    </tr>\n",
       "    <tr>\n",
       "      <th>1403</th>\n",
       "      <td>1292_coffee_silverskin_cs_unsustainable</td>\n",
       "      <td>0.000996</td>\n",
       "      <td>1292</td>\n",
       "      <td>1</td>\n",
       "      <td>[coffee, silverskin, cs, unsustainable, roasti...</td>\n",
       "      <td>[The coffee supply chain is characterized by a...</td>\n",
       "    </tr>\n",
       "    <tr>\n",
       "      <th>1404</th>\n",
       "      <td>1291_kernels_like_maize_fungal</td>\n",
       "      <td>0.000996</td>\n",
       "      <td>1291</td>\n",
       "      <td>1</td>\n",
       "      <td>[kernels, like, maize, fungal, mycotoxin, path...</td>\n",
       "      <td>[Mycotoxin contamination of maize kernels by f...</td>\n",
       "    </tr>\n",
       "    <tr>\n",
       "      <th>1405</th>\n",
       "      <td>1290_coldsmoked_supporting_salmon_capable</td>\n",
       "      <td>0.000996</td>\n",
       "      <td>1290</td>\n",
       "      <td>1</td>\n",
       "      <td>[coldsmoked, supporting, salmon, capable, read...</td>\n",
       "      <td>[Cold-smoked salmon is a ready-to-eat food pro...</td>\n",
       "    </tr>\n",
       "    <tr>\n",
       "      <th>1406</th>\n",
       "      <td>1278_regulators_pathwayspecific_inhibit_biosyn...</td>\n",
       "      <td>0.015873</td>\n",
       "      <td>1278</td>\n",
       "      <td>1</td>\n",
       "      <td>[regulators, pathwayspecific, inhibit, biosynt...</td>\n",
       "      <td>[Mycotoxin contamination in food poses health ...</td>\n",
       "    </tr>\n",
       "    <tr>\n",
       "      <th>1407</th>\n",
       "      <td>1276_baghdad_soft_percentage_cheese</td>\n",
       "      <td>0.015873</td>\n",
       "      <td>1276</td>\n",
       "      <td>1</td>\n",
       "      <td>[baghdad, soft, percentage, cheese, isolation,...</td>\n",
       "      <td>[Milk and cheese were recognized as highly nut...</td>\n",
       "    </tr>\n",
       "  </tbody>\n",
       "</table>\n",
       "<p>1408 rows × 6 columns</p>\n",
       "</div>"
      ],
      "text/plain": [
       "                                                   Name       dov  Topic  \\\n",
       "0           164_responsibility_labelling_cues_perceived  0.003392    164   \n",
       "1                        85_radium_dose_clothing_sudoqu  0.006758     85   \n",
       "2       146_furazolidone_coccidiostats_residues_residue  0.002868    146   \n",
       "3                 582_foragers_social_collective_colony  0.004269    582   \n",
       "4                     51_eels_dabs_bde47_polybrominated  0.003693     51   \n",
       "...                                                 ...       ...    ...   \n",
       "1403            1292_coffee_silverskin_cs_unsustainable  0.000996   1292   \n",
       "1404                     1291_kernels_like_maize_fungal  0.000996   1291   \n",
       "1405          1290_coldsmoked_supporting_salmon_capable  0.000996   1290   \n",
       "1406  1278_regulators_pathwayspecific_inhibit_biosyn...  0.015873   1278   \n",
       "1407                1276_baghdad_soft_percentage_cheese  0.015873   1276   \n",
       "\n",
       "      Count                                     Representation  \\\n",
       "0        11  [responsibility, labelling, cues, perceived, f...   \n",
       "1        13  [radium, dose, clothing, sudoqu, radioactive, ...   \n",
       "2        11  [furazolidone, coccidiostats, residues, residu...   \n",
       "3         5  [foragers, social, collective, colony, nestmat...   \n",
       "4        15  [eels, dabs, bde47, polybrominated, biphenyls,...   \n",
       "...     ...                                                ...   \n",
       "1403      1  [coffee, silverskin, cs, unsustainable, roasti...   \n",
       "1404      1  [kernels, like, maize, fungal, mycotoxin, path...   \n",
       "1405      1  [coldsmoked, supporting, salmon, capable, read...   \n",
       "1406      1  [regulators, pathwayspecific, inhibit, biosynt...   \n",
       "1407      1  [baghdad, soft, percentage, cheese, isolation,...   \n",
       "\n",
       "                                    Representative_Docs  \n",
       "0     [Unsafe food handling behaviors are common amo...  \n",
       "1     [The Fukushima nuclear accident (Japan, 11 Mar...  \n",
       "2     [This article presents a review of the current...  \n",
       "3     [Foraging is a result of innate and acquired m...  \n",
       "4     [There is growing evidence that more people in...  \n",
       "...                                                 ...  \n",
       "1403  [The coffee supply chain is characterized by a...  \n",
       "1404  [Mycotoxin contamination of maize kernels by f...  \n",
       "1405  [Cold-smoked salmon is a ready-to-eat food pro...  \n",
       "1406  [Mycotoxin contamination in food poses health ...  \n",
       "1407  [Milk and cheese were recognized as highly nut...  \n",
       "\n",
       "[1408 rows x 6 columns]"
      ]
     },
     "execution_count": 27,
     "metadata": {},
     "output_type": "execute_result"
    }
   ],
   "source": [
    "# Split the data based on the selected time unit\n",
    "paper_split = dict(tuple(doc_info.groupby('Time')))\n",
    "\n",
    "# Get the maximum time value (e.g., year, month, or day)\n",
    "max_time = doc_info['Time'].max()\n",
    "\n",
    "# Initialize an empty DataFrame\n",
    "dov = pd.DataFrame()\n",
    "\n",
    "# Create a list to store individual DataFrames for each time group (year, month, or day)\n",
    "dfs = []\n",
    "\n",
    "# Set the time weight (tw)\n",
    "tw = 0.05\n",
    "\n",
    "# Iterate over each time group's data\n",
    "for time_value, group in doc_info.groupby('Time'):\n",
    "    topic_count = group['Name'].value_counts().reset_index()\n",
    "    topic_count.columns = ['Name', 'Count']\n",
    "    topic_count['Time'] = time_value\n",
    "\n",
    "    # Get min and max time for this group\n",
    "    min_time = group['Time'].min()\n",
    "    max_time = group['Time'].max()\n",
    "\n",
    "    # Calculate the time difference (based on the time unit)\n",
    "    time_diff = time_difference(max_time, min_time, time_unit)\n",
    "\n",
    "    # Create a DataFrame for the current time's DoV values\n",
    "    df = pd.DataFrame(index=[min_time], columns=topic_count['Name'])\n",
    "    for _, row in topic_count.iterrows():\n",
    "        topic = row['Name']\n",
    "        frequency = row['Count']\n",
    "        # Ensure the time difference is factored in correctly\n",
    "        df[topic] = (frequency / len(group)) * (1 - tw * time_diff)\n",
    "\n",
    "    dfs.append(df)\n",
    "\n",
    "# Concatenate all the time-based DataFrames into a single DataFrame\n",
    "dov = pd.concat(dfs)\n",
    "\n",
    "# Compute the geometric mean for each topic across time units\n",
    "dov_means = pd.DataFrame(columns=dov.columns)\n",
    "\n",
    "for column in dov.columns:\n",
    "    column_mean = gmean(dov[column].dropna())\n",
    "    dov_means[column] = [column_mean]\n",
    "\n",
    "t_DoV = dov_means.melt(var_name=\"Name\", value_name=\"dov\")\n",
    "\n",
    "# Merge with topic information\n",
    "wsm_dov = pd.merge(t_DoV, topic_info, on='Name')\n",
    "wsm_dov"
   ]
  },
  {
   "cell_type": "code",
   "execution_count": 28,
   "metadata": {
    "tags": []
   },
   "outputs": [],
   "source": [
    "wsm_dov.to_csv('data/wsm_dov.csv', index=False)"
   ]
  },
  {
   "cell_type": "code",
   "execution_count": 29,
   "metadata": {
    "tags": []
   },
   "outputs": [
    {
     "data": {
      "application/vnd.plotly.v1+json": {
       "config": {
        "plotlyServerURL": "https://plot.ly"
       },
       "data": [
        {
         "customdata": [
          [
           "164_responsibility_labelling_cues_perceived"
          ],
          [
           "85_radium_dose_clothing_sudoqu"
          ],
          [
           "146_furazolidone_coccidiostats_residues_residue"
          ],
          [
           "582_foragers_social_collective_colony"
          ],
          [
           "51_eels_dabs_bde47_polybrominated"
          ],
          [
           "267_network_software_supply_tracing"
          ],
          [
           "100_aas_aa_aristolochic_aai"
          ],
          [
           "700_pregnancy_hypospadias_glucose_discourses"
          ],
          [
           "36_methylation_mehg_methylmercury_mercury"
          ],
          [
           "28_insects_edible_insect_asaia"
          ],
          [
           "42_toxaphene_teq_pg_bw"
          ],
          [
           "924_microscopically_bioinformaticsenabled_librarybased_strainlevel"
          ],
          [
           "83_mehg_thg_wetlands_songbirds"
          ],
          [
           "181_true_estimation_fitting_zeroes"
          ],
          [
           "1119_brucella_brucellosis_bioterrorism_patents"
          ],
          [
           "86_stec_stechus_mericon_shiga"
          ],
          [
           "262_cruzi_triatomines_oral_chagas"
          ],
          [
           "109_mycotoxins_nanosemiconductors_microcantilever_mycotoxin"
          ],
          [
           "674_ferrier_size_continuum_trim"
          ],
          [
           "856_meals_canteen_older_kitchens"
          ],
          [
           "35_fusarium_bea_ens_graminearum"
          ],
          [
           "132_magnetic_mnps_separation_capture"
          ],
          [
           "196_shell_egg_eggs_hens"
          ],
          [
           "1130_crosssectoral_zoonotic_zoonoses_collaboration"
          ],
          [
           "10_shellfish_oa_lsts_dtx1"
          ],
          [
           "12_campylobacter_jejuni_caecal_poultry"
          ],
          [
           "104_arsenic_bangladesh_groundwater_fluoride"
          ],
          [
           "797_chicken_breasts_canadian_thigh"
          ],
          [
           "678_pgamended_peppers_ferralsols_moderately"
          ],
          [
           "448_mel_afm1_atrazine_multiclass"
          ],
          [
           "955_antecedents_handwashing_healthcare_soap"
          ],
          [
           "1142_shigellosis_goth_safora_institutional"
          ],
          [
           "204_afm1_afm_ngl_nonexposed"
          ],
          [
           "482_afb1_aflatoxin_indonesia_cancer"
          ],
          [
           "1120_ftir_tracking_scatter_scatterbased"
          ],
          [
           "442_lenses_device_maude_sentinel"
          ],
          [
           "6_wgs_listeriosis_monocytogenes_isolates"
          ],
          [
           "143_parahaemolyticus_parahaeomolyticus_cholerae_peeled"
          ],
          [
           "37_listeria_3m_monocytogenes_mds"
          ],
          [
           "17_allergens_allergen_allergy_allergies"
          ],
          [
           "1234_noncancer_razan_hamedan_kaboudarahang"
          ],
          [
           "387_parasiticus_halophilic_flavus_flavi"
          ],
          [
           "4_phage_phages_bacteriophages_disinfectants"
          ],
          [
           "879_fugacity_sqc_sediment_eqp"
          ],
          [
           "31_gondii_toxocara_toxoplasmosis_toxoplasma"
          ],
          [
           "704_aflatoxins_nonalcoholic_afg2_liquidliquid"
          ],
          [
           "692_sfh_tianjin_coal_soilricehuman"
          ],
          [
           "581_cultured_analogues_cellcultured_hydrolysates"
          ],
          [
           "1214_infantis_ground_0102_20003000"
          ],
          [
           "107_allergens_allergen_cookies_inclusions"
          ],
          [
           "99_mrsa_mcsacon_methicillinresistant_aureus"
          ],
          [
           "7_mineral_hydrocarbons_moah_mosh"
          ],
          [
           "454_pmf_ri_coal_irrigations"
          ],
          [
           "16_cryptosporidium_oocysts_cryptosporidiosis_duodenalis"
          ],
          [
           "200_hydroponic_o157h7_survival_greens"
          ],
          [
           "38_mercury_squamosissimus_prolactin_bft"
          ],
          [
           "0_pfos_pfass_pfas_pfoa"
          ],
          [
           "174_stec_o104h4_flour_eaec"
          ],
          [
           "190_boards_hong_cutting_wooden"
          ],
          [
           "1113_ffr_sm_breathing_inhaled"
          ],
          [
           "34_microalgae_spacecraft_vulgaris_algal"
          ],
          [
           "453_sanguineus_sachet_salivary_am"
          ],
          [
           "277_verticillioides_hap_fumonisin_hap3"
          ],
          [
           "263_bin_bins_game_recyclable"
          ],
          [
           "68_patulin_penitrems_expansum_apple"
          ],
          [
           "9_radioactive_japan_accident_fukushima"
          ],
          [
           "32_disgust_stimuli_disgusting_pictures"
          ],
          [
           "232_akwesasne_mohawk_adolescents_nation"
          ],
          [
           "27_dioxins_pcbs_pcddfs_dioxin"
          ],
          [
           "416_arcobacter_butzleri_cryaerophilus_genusspecific"
          ],
          [
           "397_o157_stec_hyphae_coculturing"
          ],
          [
           "131_birds_feathers_egret_nestlings"
          ],
          [
           "20_cronobacter_sakazakii_pif_powdered"
          ],
          [
           "302_dioxin_mothers_breast_residency"
          ],
          [
           "847_buttonwood_site_stem_cadmium"
          ],
          [
           "334_abdominal_evisceration_perforation_eviscerated"
          ],
          [
           "336_mercury_zooplankton_virginia_thg"
          ],
          [
           "66_pesticide_pesticides_multiresidue_uvmaldiorbitrapms"
          ],
          [
           "727_snail_intestines_aspersum_snails"
          ],
          [
           "26_botulinum_botulism_neurotoxin_neurotoxins"
          ],
          [
           "432_menus_kitchen_homes_hygiene"
          ],
          [
           "434_haccp_lactose_aircraft_inflight"
          ],
          [
           "234_milling_fractions_maize_flours"
          ],
          [
           "926_uncertainties_wildlife_soilassociated_sitespecific"
          ],
          [
           "364_compounding_errors_compounded_pharmacies"
          ],
          [
           "55_difficile_ribotype_078_ribotypes"
          ],
          [
           "211_mnv1_transfer_norovirus_hnov"
          ],
          [
           "139_pharmaceutical_smt_pharmaceuticals_sulphonamides"
          ],
          [
           "436_cereals_cleanup_metabolites_turbulent"
          ],
          [
           "360_cns_aureus_staph_herds"
          ],
          [
           "224_biofilms_biofilm_attached_dsb"
          ],
          [
           "916_plasticisers_deet_boxford_ecs"
          ],
          [
           "600_ocps_men_betahch_macronutrient"
          ],
          [
           "690_sfr_bottles_asepticuht_1011"
          ],
          [
           "152_hev_hepatitis_piglet_igg"
          ],
          [
           "108_allergen_labeling_precautionary_pal"
          ],
          [
           "212_pcr_monoazide_amplification_nucleic"
          ],
          [
           "47_africa_mycotoxins_african_maize"
          ],
          [
           "112_berry_berries_frozen_hadv"
          ],
          [
           "742_irish_hog_pfge_monocytogenes"
          ],
          [
           "67_vibrio_parahaemolyticus_vp_tdh"
          ],
          [
           "249_tm_carabids_invertebrate_invertebrates"
          ],
          [
           "760_chromium_cr3_rrs_ions"
          ],
          [
           "383_opes_dehp_ope_sml"
          ],
          [
           "375_milk_peer_purchase_infants"
          ],
          [
           "857_utis_xochimilco_uti_enterococci"
          ],
          [
           "365_scott_lbra_glycerol_biofilm"
          ],
          [
           "57_reconstruction_monocytogenes_lsx_iso"
          ],
          [
           "396_naclo_multispecies_loweredshelf_meatquality"
          ],
          [
           "660_fairs_outdoor_flocks_owners"
          ],
          [
           "656_timetemperature_git_options_simulated"
          ],
          [
           "607_osnramp1_ip_nramp_arabidopsis"
          ],
          [
           "76_radioactivity_bqkg_cesium_ir"
          ],
          [
           "202_media_news_messages_crisis"
          ],
          [
           "361_bde209_cpf_apoptosis_hepg2"
          ],
          [
           "111_mehg_tidal_creek_impervious"
          ],
          [
           "30_packaging_films_film_composites"
          ],
          [
           "56_cdsnps_cadmium_ricegrass_serg"
          ],
          [
           "473_phones_sfms_mobile_disinfecting"
          ],
          [
           "209_smcs_hhcb_ahtn_bsaf"
          ],
          [
           "599_perfringens_clostridium_cpe_outbreaks"
          ],
          [
           "208_bioremediation_biosorption_aluminum_metal"
          ],
          [
           "135_endotoxin_antibody_ripa_lipopolysaccharides"
          ],
          [
           "206_hcc_hccs_aflatoxinassociated_hbv"
          ],
          [
           "455_hbcds_coelutions_isomers_pcbs"
          ],
          [
           "102_listeriosis_faflp_monocytogenes_rtemp"
          ],
          [
           "381_sows_vaccination_piglets_pigs"
          ],
          [
           "1_nov_oysters_shellfish_asari"
          ],
          [
           "245_infertility_pubertal_edcs_fertility"
          ],
          [
           "297_cockle_ecdysis_cladoceran_porpoises"
          ],
          [
           "237_aluminum_pn_al_bone"
          ],
          [
           "205_films_lactase_xg_pvpcmcbcgg"
          ],
          [
           "1126_russian_siberia_20002011_regions"
          ],
          [
           "275_fcm_ctcs_tumor_epcam"
          ],
          [
           "522_hf_dmfu_mold_sensitizing"
          ],
          [
           "45_hev_pig_rna_virus"
          ],
          [
           "113_mdr_enteritidis_serotypes_resistance"
          ],
          [
           "276_mangrove_hg_asgm_estuary"
          ],
          [
           "913_ks_cs_sulfate_immunodiffusion"
          ],
          [
           "1107_drainage_channel_vojvodina_channels"
          ],
          [
           "126_mlva_locus_agr_staphylococcal"
          ],
          [
           "643_nitrite_criminal_sugar_exceeding"
          ],
          [
           "257_mlst_mlva_lm_ests"
          ],
          [
           "207_leafy_greens_producerelated_seed"
          ],
          [
           "491_childrens_p0001_irrs_preintervention"
          ],
          [
           "1122_pahs_substituted_petroleum_media"
          ],
          [
           "231_urban_gardening_ua_gardens"
          ],
          [
           "528_kg1_hotspots_mg_soilrice"
          ],
          [
           "352_horse_oranienburg_mills_garden"
          ],
          [
           "460_biofilm_malic_wd_sodium"
          ],
          [
           "287_melamine_melaminecontaminated_illegal_gut"
          ],
          [
           "21_ozone_wastewater_rci_rendering"
          ],
          [
           "717_cacao_snp_oolong_spirits"
          ],
          [
           "64_chernobyl_accident_fukushima_accidents"
          ],
          [
           "331_eagles_organochlorine_eggshell_thickness"
          ],
          [
           "499_breastfeeding_bm_breast_milk"
          ],
          [
           "80_tritium_rip_evapotranspiration_mk"
          ],
          [
           "22_crayfish_razor_oysters_adductor"
          ],
          [
           "363_viruses_fomites_enteric_virus"
          ],
          [
           "282_hadar_wgs_sausage_denmark"
          ],
          [
           "608_fa_ltam_ahr_dehp"
          ],
          [
           "669_vbnc_microsnap_device_sets"
          ],
          [
           "214_condemnation_feral_lung_pneumonia"
          ],
          [
           "445_maritime_board_seafarers_crew"
          ],
          [
           "370_cutting_packaging_intelligent_responsive"
          ],
          [
           "247_lactic_plantarum_acid_lactobacillus"
          ],
          [
           "441_scco2_supercritical_ocular_sterilization"
          ],
          [
           "283_atrazine_herbicides_biosolids_herbicide"
          ],
          [
           "612_foodpathogen_fonao_melons_timeline"
          ],
          [
           "305_mobas_multiplexing_raman_sers"
          ],
          [
           "75_137cs_radiocesium_ayu_fukushima"
          ],
          [
           "785_bacillus_probiotic_34b_hemolysis"
          ],
          [
           "667_arsenic_richness_organoarsenicals_arsenictolerant"
          ],
          [
           "23_peanut_nut_tree_oit"
          ],
          [
           "248_fasciata_gulio_dhaleswari_nandus"
          ],
          [
           "103_fbdos_china_outbreaks_deaths"
          ],
          [
           "475_ratio_sex_net_minamata"
          ],
          [
           "839_mcs_fluminea_zooplanktonic_rubescens"
          ],
          [
           "603_visualonly_mrsa_pyaemia_embolic"
          ],
          [
           "1237_dairies_mslp_end_22000"
          ],
          [
           "1112_recalled_microbialcontaminated_10432_fisheryseafood"
          ],
          [
           "290_barbata_aurata_caerulea_estuary"
          ],
          [
           "43_stec_ehec_nono157_cattle"
          ],
          [
           "147_novs_fresh_nov_viruses"
          ],
          [
           "838_zea_masked_cereal_viz"
          ],
          [
           "823_fla_se_pdas_cnpomp"
          ],
          [
           "707_afl_pasta_cooking_brazilian"
          ],
          [
           "613_nephropathy_feedstuffsfoods_mycotoxic_nephrotoxic"
          ],
          [
           "1111_benzophenone_octocrylene_mgkg_bwday"
          ],
          [
           "192_zno_initiator_norrish_nanoparticles"
          ],
          [
           "605_pcb_lions_seals_ringed"
          ],
          [
           "49_bpa_bps_bisphenol_canned"
          ],
          [
           "820_tailings_amendments_thickened_topsoil"
          ],
          [
           "433_aiv1_ovine_evs_opyv"
          ],
          [
           "602_ont_clavata_mst_eukaryotes"
          ],
          [
           "435_pb_lettuce_subsystems_accumulative"
          ],
          [
           "223_diets_canine_afr_label"
          ],
          [
           "450_fecl3_sludge_mustard_pond"
          ],
          [
           "1229_community_biofilm_monocytogenes_settles"
          ],
          [
           "29_irrigation_leachate_cowpats_transport"
          ],
          [
           "484_carbon_biosensors_nanomaterials_sclerotigenum"
          ],
          [
           "1228_pcrsscp_primer_heat_dna"
          ],
          [
           "480_decorporation_c2e2_uranium_241am"
          ],
          [
           "713_pagc_imbs_phagebased_01mg"
          ],
          [
           "106_pahs_pah_smoking_polycyclic"
          ],
          [
           "60_trophic_pulex_trace_mn"
          ],
          [
           "810_tomato_serovars_reclaim_newport"
          ],
          [
           "359_supplements_colors_marketplace_adds"
          ],
          [
           "451_abattoir_stec_beef_hus"
          ],
          [
           "449_vitamin_woil_fortification_arich"
          ],
          [
           "773_pgpfs_phytoremediation_nitce_w619tce"
          ],
          [
           "390_viruses_viral_rtqpcr_astrovirus"
          ],
          [
           "308_verticillioides_fusarium_kernel_kernels"
          ],
          [
           "772_salsa_guacamole_sga_chowder"
          ],
          [
           "1224_mpd_indigenous_alfalfa_predictions"
          ],
          [
           "219_pathology_hpop_pathologists_disciplines"
          ],
          [
           "438_lm_po_rr_listeriosis"
          ],
          [
           "73_ims_ffps_inks_pigment"
          ],
          [
           "136_delis_deli_slicers_slicer"
          ],
          [
           "705_attribution_hald_dutch_attributions"
          ],
          [
           "195_peanuts_pecans_per_shelled"
          ],
          [
           "215_lamp_microfluidic_nucleic_amplification"
          ],
          [
           "576_sponges_dishcloths_flp_kitchen"
          ],
          [
           "687_vibrio_mussels_depuration_vibrios"
          ],
          [
           "142_lead_sauces_hot_historical"
          ],
          [
           "866_maleic_alkylphenols_longchain_toxicogenomics"
          ],
          [
           "579_biofilm_juice_agona_contact"
          ],
          [
           "379_agentbased_abm_corrective_ls"
          ],
          [
           "199_lateral_internalization_subtilis_arabidopsis"
          ],
          [
           "137_phenanthrene_acropetal_bioremediation_paes"
          ],
          [
           "392_listeriosis_incubation_days_bacteraemia"
          ],
          [
           "149_subtypes_monocytogenes_listeria_isolates"
          ],
          [
           "798_lowaw_homogenization_innermatrix_fastprep24"
          ],
          [
           "110_norovirus_nov_fhs_premises"
          ],
          [
           "680_lgvs_preharvested_chives_vegetables"
          ],
          [
           "1217_acrylic_405_inactivation_nm"
          ],
          [
           "568_tl_isotopic_fractionation_chromites"
          ],
          [
           "105_arsenic_arsenite_ubiquitination_tet"
          ],
          [
           "1129_spray_304cuss_304ss_copper"
          ],
          [
           "802_arrays_biosensor_midpoint_calibration"
          ],
          [
           "577_carrots_conventionally_organicallygrown_elemental"
          ],
          [
           "133_mrsa_aureus_sccmec_strawberries"
          ],
          [
           "371_pastrami_precooked_franks_bologna"
          ],
          [
           "150_atp_a3_hyp_adp"
          ],
          [
           "367_meiofauna_ferrihydrite_colloids_meiofaunal"
          ],
          [
           "24_ota_aptamer_aptasensor_aptamers"
          ],
          [
           "1121_anthrax_bottled_directsequencing_cful"
          ],
          [
           "403_zebra_msm_dove_amebiasis"
          ],
          [
           "580_campylobacter_pastured_wcrp_rf"
          ],
          [
           "163_cuticle_eggs_egg_white"
          ],
          [
           "749_fluorescence_urine_hai_microfiber"
          ],
          [
           "240_citrus_salicylate_eos_preservative"
          ],
          [
           "318_vegetables_jute_fenugreek_attaining"
          ],
          [
           "784_litter_resistome_streptogramin_vate"
          ],
          [
           "171_photodynamic_inactivation_light_pdi"
          ],
          [
           "569_climate_prefum_prema_maize"
          ],
          [
           "166_pharmaceuticals_zebrafish_pharmaceutical_aquatic"
          ],
          [
           "337_fluoride_teeth_industrial_phyla"
          ],
          [
           "1271_antimicrobialresistant_farmraised_sika_northeastern"
          ],
          [
           "294_ree_henan_smelters_steelmaking"
          ],
          [
           "883_enterococcus_rts_antimicrobialresistant_arb"
          ],
          [
           "317_potsdam_hatchery_870_migrant"
          ],
          [
           "1110_fissures_curing_viscous_dc"
          ],
          [
           "1206_proteomics_differential_perniciousness_oyster"
          ],
          [
           "901_penguins_islands_blackbrowed_frigatebirds"
          ],
          [
           "236_haccp_220002018_ccp_supranational"
          ],
          [
           "940_enterococcus_enterococci_tomatoes_faecalis"
          ],
          [
           "1118_mlp_qra_1014_undernourished"
          ],
          [
           "1274_bumblebee_bumblebees_maze_chambers"
          ],
          [
           "165_outbreaks_contributing_workers_establishments"
          ],
          [
           "541_sands_pike_bitumen_athabasca"
          ],
          [
           "793_tiffin_wound_box_maxillofacial"
          ],
          [
           "203_mlvhrma_typhimurium_serovars_14512i"
          ],
          [
           "306_forages_mn_sheep_molybdate"
          ],
          [
           "540_cooking_cfug_instructions_roulades"
          ],
          [
           "345_ht2_fusarium_langsethiae_fumonisins"
          ],
          [
           "1125_chg_postoperative_wound_lip"
          ],
          [
           "908_whitefly_whiteflies_nora_hanv"
          ],
          [
           "1279_odor_olfactory_fly_arenas"
          ],
          [
           "502_mutants_rissen_ericpcr_mlns"
          ],
          [
           "314_spoilage_psychrotrophic_spoilers_lowmoisture"
          ],
          [
           "531_actors_managers_meathandling_practices"
          ],
          [
           "39_aureus_seb_staphylococcal_psms"
          ],
          [
           "641_spme_redwine_microextraction_cleanup"
          ],
          [
           "253_peptides_adulteration_sem_horse"
          ],
          [
           "227_neonicotinoids_insecticides_fipronil_neonicotinoid"
          ],
          [
           "173_parasitic_parasites_vegetables_taenia"
          ],
          [
           "764_ducks_telomere_shorebird_telomeres"
          ],
          [
           "172_qbody_strip_microchip_mpa"
          ],
          [
           "720_mlr_ega_ocelloscope_endospore"
          ],
          [
           "1124_butcher_cheonan_daegu_gunsan"
          ],
          [
           "746_fsas_tropics_census_fsalevel"
          ],
          [
           "1123_blastula_ech_behavioural_l1"
          ],
          [
           "230_aunp_tio2_ntio2_nanoparticles"
          ],
          [
           "543_hav_hev_subgenomic_wg"
          ],
          [
           "18_campylobacter_jejuni_campylobacteriosis_fetus"
          ],
          [
           "661_fe_vegetables_co_ni"
          ],
          [
           "662_cyp450_fipronil_natamycin_cyp2d6"
          ],
          [
           "601_samplestotal_vhe_prophylaxis_foodcontact"
          ],
          [
           "222_trichothecenes_trichothecene_niv_macrocyclic"
          ],
          [
           "848_zvi_p2_tv_peg"
          ],
          [
           "1115_harzianum_biosynthetic_competitor_mycotoxin"
          ],
          [
           "8_honey_honeys_bee_ase"
          ],
          [
           "243_radiation_internal_minamisoma_fukushima"
          ],
          [
           "1114_biomarkersbased_aflatoxins_hcc_hepatocellular"
          ],
          [
           "97_fumonisins_fumonisin_fbs_fusarium"
          ],
          [
           "293_lettuce_slurry_fsh_farmers"
          ],
          [
           "295_nuts_wines_spectrometry_fruit"
          ],
          [
           "395_nov_bathing_norovirus_gii17"
          ],
          [
           "299_vmss_hormones_bcfs_bmfs"
          ],
          [
           "606_li_ultramafic_lithium_tms"
          ],
          [
           "841_ornamental_phytotechnologies_landscape_income"
          ],
          [
           "385_supplements_buckwheat_materia_consistency"
          ],
          [
           "430_resistant_onehealth_resistance_bacteria"
          ],
          [
           "741_mining_mined_romanian_mgkg"
          ],
          [
           "614_bolnisi_kvemo_georgia_plasmamass"
          ],
          [
           "604_globarbased_synchrotronbased_hyphenated_spectroscopy"
          ],
          [
           "161_allergic_allergy_oma_reactions"
          ],
          [
           "842_rra_australian_rr_poao"
          ],
          [
           "151_sers_raman_surfaceenhanced_dnafunctionalized"
          ],
          [
           "242_ireland_monocytogenes_listeriosis_phuket"
          ],
          [
           "44_rice_senps_selenite_paddy"
          ],
          [
           "620_foodsfeeds_feeds_secreted_mycotoxin"
          ],
          [
           "444_sterile_compounding_atmp_multidose"
          ],
          [
           "101_pcddfs_dibenzopdioxins_dibenzofurans_2378tcdd"
          ],
          [
           "87_arsenic_dats_asinduced_oxidative"
          ],
          [
           "225_tips_pipette_bridges_coating"
          ],
          [
           "1117_betweenhost_withinhost_cohorts_schistosomiasis"
          ],
          [
           "238_planktonic_biofilmdispersed_cutting_cut"
          ],
          [
           "210_intestinal_handlers_parasitic_parasites"
          ],
          [
           "94_vaccine_dam_schwarzengrund_ngs"
          ],
          [
           "696_cockles_anadara_wolves_pattani"
          ],
          [
           "957_cloacae_resistances_chloramphenicol_chemotherapeutic"
          ],
          [
           "699_shawarma_sandwiches_quetta_tempeh"
          ],
          [
           "273_thyroid_nete_volcanic_cancer"
          ],
          [
           "1116_enemies_abs_cbd_resources"
          ],
          [
           "25_handlers_attitudes_fsp_training"
          ],
          [
           "701_leaf_alnus_mosquito_decomposition"
          ],
          [
           "566_pyrene_spill_oilspill_fossarum"
          ],
          [
           "567_grasshoppers_te_mining_edi"
          ],
          [
           "570_ulab_armenias_mo_swiss"
          ],
          [
           "128_pa_pas_pyrrolizidine_alkaloids"
          ],
          [
           "378_handlers_hygienicsanitary_maritime_knowledge"
          ],
          [
           "571_hay_microfungi_summarised_filamentous"
          ],
          [
           "771_mclr_abcb4_mcs_embryos"
          ],
          [
           "258_fouling_cleaning_ultrasound_decorrelation"
          ],
          [
           "574_ppb_trvs_p95_lebanese"
          ],
          [
           "33_sensing_qdits_impedance_biosensors"
          ],
          [
           "478_naples_cancer_sarcoma_caserta"
          ],
          [
           "676_foliage_abamplatanninns_azoxplatanninns_nanopesticides"
          ],
          [
           "858_intravenous_pharmaceutical_bcs_bactalert"
          ],
          [
           "458_gm_gmo_gmos_gmodetector"
          ],
          [
           "72_spectroscopic_ftir_spectral_infrared"
          ],
          [
           "189_imaging_hyperspectral_hsi_nondestructive"
          ],
          [
           "54_bioelectronic_nose_resonators_saw"
          ],
          [
           "324_wipes_copper_mnv1_viral"
          ],
          [
           "487_bfrs_flame_pgg_openair"
          ],
          [
           "476_cropping_philippi_mn_summer"
          ],
          [
           "186_cholera_cholerae_o1_aor"
          ],
          [
           "339_functionalized_electrolysis_thms_min"
          ],
          [
           "5_cereus_bacillus_mypa_emetic"
          ],
          [
           "591_umbilical_cord_fishery_mercury"
          ],
          [
           "156_lagoon_ewaste_korle_gariepinus"
          ],
          [
           "341_milk_sii_ssa_fdp"
          ],
          [
           "596_companies_african_fsms_220002005"
          ],
          [
           "642_b2_aflatoxin_pistachio_b1"
          ],
          [
           "183_jejuni_sts_campylobacter_isolates"
          ],
          [
           "346_bfgt_bftf_dietitians_tube"
          ],
          [
           "41_monocytogenes_listeriosis_listeria_delis"
          ],
          [
           "340_tasa_amyloidlike_acidoterrestris_subtilis"
          ],
          [
           "897_spc32hcdabe_reporter_spc32h_luxcdabe"
          ],
          [
           "573_ifap_poultry_older_behavior"
          ],
          [
           "177_sprouts_fresh_produce_seed"
          ],
          [
           "650_cysts_cystsoysterday_duodenalis_mussels"
          ],
          [
           "636_uranium_radionuclides_strontium_uraniumcontaminated"
          ],
          [
           "884_salads_vendors_hyderabad_onions"
          ],
          [
           "474_lfias_nanobody_immunosensing_lateral"
          ],
          [
           "264_vtec_o157_slp_eric"
          ],
          [
           "593_hhp_hantavirus_k24f2_virus"
          ],
          [
           "13_glutenfree_gluten_celiac_gfd"
          ],
          [
           "61_mushrooms_mushroom_straw_pleurotus"
          ],
          [
           "420_pbdes_bfrs_pbde_bde209"
          ],
          [
           "1145_vibration_mould_atline_assert"
          ],
          [
           "647_oil_waf_crude_motor"
          ],
          [
           "918_corvids_serovars_scavenger_north"
          ],
          [
           "280_hmf_canning_renal_canpackaged"
          ],
          [
           "421_lamp_bam_chocolate_fn"
          ],
          [
           "175_cheese_cheeses_unpasteurized_crema"
          ],
          [
           "320_chlordecone_allophanes_cld_guadeloupe"
          ],
          [
           "936_nglf_irradiated_gamma_irradiation"
          ],
          [
           "1133_janthinobacterium_listeria_drains_colonized"
          ],
          [
           "321_phthalates_phthalate_dnbp_paes"
          ],
          [
           "919_probability_pops_toxicantinduced_biomonitoring"
          ],
          [
           "48_farmland_adjoining_pollution_pb"
          ],
          [
           "589_wildlife_amr_faecalis_carnivorous"
          ],
          [
           "167_ink_mantle_frozen_areolata"
          ],
          [
           "902_pcbbp_pcb_freshwater_serum"
          ],
          [
           "635_beef_nontyphoidal_hms_roast"
          ],
          [
           "188_ha_arsenate_arsenic_plants"
          ],
          [
           "98_phytoremediation_situ_hyperaccumulators_symbioses"
          ],
          [
           "616_ttx_localstate_toxidrome_litigation"
          ],
          [
           "157_walleye_salmon_mehg_hg"
          ],
          [
           "595_dam_cellulose_csgd_liverpool"
          ],
          [
           "682_exogenous_acidextractable_pb_reducible"
          ],
          [
           "905_yr_spring_baotou_wheat"
          ],
          [
           "313_variability_rope_bread_ropy"
          ],
          [
           "966_vre_esbl_austrian_methicillin"
          ],
          [
           "319_basil_parsley_generic_cilantro"
          ],
          [
           "1137_cod_atlantic_depends_harvesting"
          ],
          [
           "400_farmanimal_livestockoriginated_endless_breeding"
          ],
          [
           "266_veal_dehiding_carcasses_enterobacteriaceae"
          ],
          [
           "399_minced_ashaiman_lebanon_meat"
          ],
          [
           "958_pscs_metalhalidebased_solar_photovoltaic"
          ],
          [
           "389_fcs_nhalamines_nhalamine_coatings"
          ],
          [
           "252_matrixes_050_aureus_sa"
          ],
          [
           "881_nrtpcr_singletube_hav_havspiked"
          ],
          [
           "1138_relaying_lamellibranch_sardinia_retain"
          ],
          [
           "268_dioxide_chlorine_ppm_oxidant"
          ],
          [
           "63_plasma_cold_jet_atmospheric"
          ],
          [
           "217_carcinogenic_swedish_mcda_dlpcb"
          ],
          [
           "789_delphi_internationalization_checklist_defense"
          ],
          [
           "180_laboratorydeveloped_psb_cin_ppcas12"
          ],
          [
           "790_bioburden_encapsulated_polymers_polymerization"
          ],
          [
           "592_weanimix_fumonisin_homemade_pretoria"
          ],
          [
           "761_seals_bryozoans_bleach_hocs"
          ],
          [
           "583_toc_marinated_cassia_officinalis"
          ],
          [
           "1066_acr_acrab_biosensors_conformational"
          ],
          [
           "1357_rooibos_delicate_tea_prohibits"
          ],
          [
           "1135_grabs_logcfug_lots_novgii"
          ],
          [
           "1136_multistate_fsis_outbreakassociated_etiologic"
          ],
          [
           "431_minamata_neurological_neurocognitive_neuropsychological"
          ],
          [
           "597_ota_ots_raisin_durum"
          ],
          [
           "1134_vcjd_bid50_batches_ground"
          ],
          [
           "1367_street_kumasi_rotavirus_estimates"
          ],
          [
           "931_freshness_fishery_frozenthawed_freezingthawing"
          ],
          [
           "261_tmf_tmfs_qaqc_escroc"
          ],
          [
           "520_sporeformers_premature_dairy_wasted"
          ],
          [
           "791_fluorene_100mgkgday_monohydroxylated_rats"
          ],
          [
           "1108_10403s_persistence_rhizobacteria_monocytogenes"
          ],
          [
           "1397_20732005_business_operators_supports"
          ],
          [
           "870_qc_powdered_sampling_batch"
          ],
          [
           "575_emp_dcssop_fishprocessing_monocytogenes"
          ],
          [
           "310_glial_t2_don3glc_colibacillosis"
          ],
          [
           "406_tree_background_the_"
          ],
          [
           "565_internship_radiation_virtual_citizen"
          ],
          [
           "1391_vms_samplemethod_nanograms_foodproducing"
          ],
          [
           "564_prophylparaben_scraperflocked_mature_atcc"
          ],
          [
           "417_3mcpd_esters_frying_ffa"
          ],
          [
           "854_bacteriophages_cecal_therapy_carriage"
          ],
          [
           "187_pesticide_residues_residue_mrl"
          ],
          [
           "228_incident_compendium_incidents_catastrophes"
          ],
          [
           "1131_sulfites_adi_highintake_taiwanese"
          ],
          [
           "578_mirnas_transporters_expression_defence"
          ],
          [
           "733_multistrain_plantarum_biofilms_cv"
          ],
          [
           "1393_arcobacter_cryaerophilus_butzleri_sanitizing"
          ],
          [
           "862_phagebased_phage_lytic_bacteriophages"
          ],
          [
           "737_se_speciation_selenate_selenite"
          ],
          [
           "781_smelter_voles_vicinity_histological"
          ],
          [
           "176_cupt_swam_fishes_sperm"
          ],
          [
           "1399_quinolone_herbs_pmqr_culinary"
          ],
          [
           "782_fbd_brazil_fifa_cup"
          ],
          [
           "1387_spatula_devices_foam_cm2"
          ],
          [
           "418_phthalate_dehp_paes_phthalates"
          ],
          [
           "1380_o2_n2_bell_gasicomitatum"
          ],
          [
           "730_dec_epec_recreational_ec"
          ],
          [
           "1109_tio2_nps_uvirradiated_m1291"
          ],
          [
           "354_ma_biochar_rhb_oc"
          ],
          [
           "876_rice_cd_extractable_mehlich3extractable"
          ],
          [
           "801_handling_servings_parents_washing"
          ],
          [
           "357_flavus_microgml_haeeasp_batzelladine"
          ],
          [
           "191_fecal_diarrhea_handwashing_biogas"
          ],
          [
           "1402_farmers_selling_cows_residues"
          ],
          [
           "1400_utensils_kitchen_childrens_coliforms"
          ],
          [
           "122_coal_strawberries_china_ewaste"
          ],
          [
           "731_hms_biosorption_algae_smfc"
          ],
          [
           "1398_inmates_adh_prison_arkansas"
          ],
          [
           "427_lasparaginase_candida_lipase_fermentation"
          ],
          [
           "300_eps273_plumbagin_lysh5_biofilms"
          ],
          [
           "315_dropped_fsma_drooping_outbreaks"
          ],
          [
           "626_cultivars_ts_lowcd_sweet"
          ],
          [
           "1147_libraries_lowfrequency_reads_sequencing"
          ],
          [
           "1378_stool_collection_specimen_leaflet"
          ],
          [
           "347_chlorpyrifos_cp_carbendazim_triazophos"
          ],
          [
           "70_137cs_radionuclides_radiocesium_litter"
          ],
          [
           "472_pfas_pfass_pfos_legacy"
          ],
          [
           "659_peanuts_mycobiome_hb_aspergillus"
          ],
          [
           "1377_cerevisiae_rhamnosus_6307_6424"
          ],
          [
           "909_melanin_purpurea_etp_bongkrekic"
          ],
          [
           "1146_lmf_lmfs_lowmoisture_cfd"
          ],
          [
           "316_groundwater_aquifers_aquifer_shallow"
          ],
          [
           "342_tularensis_carnosine_cryogel_nonculturebased"
          ],
          [
           "501_nts_ci_95_african"
          ],
          [
           "1128_yam_monodora_powder_spices"
          ],
          [
           "1241_inhibitors_screen_nutrients_bacterial"
          ],
          [
           "1127_arctic_russian_regions_blood"
          ],
          [
           "148_m1_infants_waz_lactating"
          ],
          [
           "865_pepper_spices_red_rpn342"
          ],
          [
           "1148_clavata_ngs_scriptseq_saprochaete"
          ],
          [
           "1275_epec_tehran_stx_enteropathogenic"
          ],
          [
           "695_etec_phylogroups_phylogroup_maria"
          ],
          [
           "965_fbos_criteria_opening_productions"
          ],
          [
           "964_afm_inspect_manifestation_sardinia"
          ],
          [
           "968_zones_slaughterhouse_plasmids_arg"
          ],
          [
           "906_silo_disinfestation_grain_acc"
          ],
          [
           "490_mycotoxin_charter_mycokey_mycomix"
          ],
          [
           "619_enn_ht2_t2_pasta"
          ],
          [
           "312_moe_substances_carcinogenicity_genotoxicity"
          ],
          [
           "584_olive_pp_orchards_cp"
          ],
          [
           "1139_methemoglobinemia_disorder_exams_14monthold"
          ],
          [
           "325_cpa_resistances_aflatoxin_mlrs"
          ],
          [
           "52_lists_fcm_fccs_fccdb"
          ],
          [
           "1354_french_enns_urinary_external"
          ],
          [
           "585_sb_tmsb_antimony_sbv"
          ],
          [
           "586_cardiac_pah_vocs_ngg"
          ],
          [
           "1141_opis_chlorothalonil_photolysis_dissipation"
          ],
          [
           "588_blochii_mariculture_bpa_4op"
          ],
          [
           "747_cave_cheese_caves_westerdijkiae"
          ],
          [
           "929_sth_schistosomiasis_victoria_deworming"
          ],
          [
           "413_ops_dichlorvos_optical_biosensing"
          ],
          [
           "726_alerts_nhps_supplements_canada"
          ],
          [
           "1132_clingfilms_ap_vocs_wrapped"
          ],
          [
           "221_flock_sm_serovar_backyard"
          ],
          [
           "911_saew_electrolyzed_duws_oxytoca"
          ],
          [
           "594_scombridae_butyltins_fugacitybased_hhra"
          ],
          [
           "59_cyanotoxins_microcystins_cyanobacterial_algal"
          ],
          [
           "153_aptasensors_aptamers_aptamerbased_somamers"
          ],
          [
           "1140_donax_arundo_zeolite_te"
          ],
          [
           "326_ad_digestate_fyms_slurry"
          ],
          [
           "898_laver_shredded_nov_seaweed"
          ],
          [
           "640_formulae_mgkg_infant_cereal"
          ],
          [
           "915_aisi_wettability_copper_ligandinduced"
          ],
          [
           "1376_soleris_dym_plating_pod"
          ],
          [
           "155_irrigation_growers_onions_release"
          ],
          [
           "466_tet_312_55_integrons"
          ],
          [
           "269_lutheri_algae_arsenic_aggression"
          ],
          [
           "655_isothermal_amplification_rca_fluorescencebased"
          ],
          [
           "404_osctf_osmet1_hm_lowgrain"
          ],
          [
           "653_stem_donors_ucb_antisepsis"
          ],
          [
           "154_bfi_biofilms_biofilm_hoses"
          ],
          [
           "912_sturgeon_beachcast_dolphins_acipenser"
          ],
          [
           "1374_sikkim_morganella_piperacillintazobactam_345"
          ],
          [
           "1373_intoxications_poland_poisonings_etiological"
          ],
          [
           "920_amc_kratom_ecc_cfugm"
          ],
          [
           "1144_warmindo_hands_cfucm2_sanitation"
          ],
          [
           "587_cfp_ciguatera_bivalve_greek"
          ],
          [
           "1143_traditionallyprocessed_streets_maputo_233"
          ],
          [
           "284_tes_bc_fmbc_amendment"
          ],
          [
           "159_campylobacter_campylobacteriosis_10415_ncimb"
          ],
          [
           "516_mine_wastewater_flood_ck"
          ],
          [
           "548_house_flies_mandibular_microbe"
          ],
          [
           "93_mgoctab_packaging_saffron_pbat"
          ],
          [
           "402_listeria_hospitalacquired_pasteurized_commercialgrade"
          ],
          [
           "281_pcb_withinage_cozmoman_congeners"
          ],
          [
           "736_telr_crisprs_stec_tellurite"
          ],
          [
           "405_metalloids_transporters_uptake_translocation"
          ],
          [
           "53_formation_biofilm_malx_cronobacter"
          ],
          [
           "947_jerky_final_2541_fbo"
          ],
          [
           "1150_simulation_vasa_foodprocesslab_pmmlab"
          ],
          [
           "374_wham_tropical_vii_soils"
          ],
          [
           "439_pakistan_threats_commodities_fungal"
          ],
          [
           "1083_ed_thyroidtargeting_toxicantnutrient_eg"
          ],
          [
           "1081_pet_extrusion_fat_doses"
          ],
          [
           "88_periphyton_paddy_wollastonite_cd"
          ],
          [
           "411_co_metalrba_cobalt_nails"
          ],
          [
           "495_multilocularis_definitive_echinococcosis_hosts"
          ],
          [
           "160_eos_oils_fo_amylolyticus"
          ],
          [
           "732_ergot_mycotoxicoses_alkaloids_ascomycetes"
          ],
          [
           "15_debris_microplastics_microplastic_marine"
          ],
          [
           "372_chrysanthemum_carbamazepine_plantcrop_cyantraniliprole"
          ],
          [
           "62_chlorine_paa_cod_vv"
          ],
          [
           "410_hg2_biosensors_electrochemical_thyminehg2thymine"
          ],
          [
           "170_datura_opium_poppy_thebaine"
          ],
          [
           "285_implant_coatings_antiadhesive_povidoneiodine"
          ],
          [
           "185_metabarcoding_dna_taxa_taxonomic"
          ],
          [
           "401_fumonisin_fumonisins_mainly_produced"
          ],
          [
           "121_forage_fe_grazing_mgkg"
          ],
          [
           "1149_pctoc_flavourings_biotech_fragrances"
          ],
          [
           "481_endolysins_endolysin_engineering_bacteriophage"
          ],
          [
           "598_seiv_se_biosenps_stabilized"
          ],
          [
           "332_oregano_adulterated_residues_pyriproxyfen"
          ],
          [
           "95_platelet_platelets_csplts_obizur"
          ],
          [
           "158_arsenic_ntds_chd_dalys"
          ],
          [
           "197_doninduced_don_chondrocytes_res"
          ],
          [
           "743_pcb183_ef_arthritis_rheumatic"
          ],
          [
           "759_cld_kids_fatness_empty"
          ],
          [
           "353_pigs_sarcocystis_suihominis_buildings"
          ],
          [
           "19_reprocessing_duodenoscope_duodenoscopes_bronchoscopes"
          ],
          [
           "288_graminearum_agmatine_transcriptomic_host"
          ],
          [
           "446_heparin_heparins_porcine_enoxaparin"
          ],
          [
           "254_arg_args_antimicrobialresistance_trout"
          ],
          [
           "547_tennessee_wgs_kentucky_snps"
          ],
          [
           "1073_trailers_foodhandlers_vending_pcrsequencing"
          ],
          [
           "1311_spinach_baby_irrigation_didnt"
          ],
          [
           "1307_military_bioterror_drill_unusual"
          ],
          [
           "1309_bap_antibap_electroswitchable_picomolar"
          ],
          [
           "788_silesia_medicinal_extracts_upper"
          ],
          [
           "1072_chlorine_free_00001_micromixer"
          ],
          [
           "415_duck_pops_chlorpyrifos_dibenzo"
          ],
          [
           "168_nanotio2_titanium_tio_tinps"
          ],
          [
           "169_herbal_ginseng_bioactive_supplements"
          ],
          [
           "218_cream_ice_ceramic_drinks"
          ],
          [
           "1071_expec_ipec_phylogroups_phylogroup"
          ],
          [
           "762_scat_blueberry_deer_dung"
          ],
          [
           "1070_wells_rivers_manmade_flood"
          ],
          [
           "1074_pimaricin_antifungal_amps_scnd"
          ],
          [
           "244_phytoremediation_tolerance_phytoextraction_metalloid"
          ],
          [
           "414_aggsas_nanoagent_nanoagents_aggraphene"
          ],
          [
           "1313_geohealth_hub_occupational_rabies"
          ],
          [
           "887_enterococci_efaafs_cyla_agg"
          ],
          [
           "1067_skewness_kernel_fumonisin_bulk"
          ],
          [
           "739_afl_fum_feeds_pet"
          ],
          [
           "1303_ibd_clinicians_remission_patients"
          ],
          [
           "735_campylobacteriosis_nz_shoppers_labels"
          ],
          [
           "944_icrp_ingestion_feedstuffs_multipathway"
          ],
          [
           "539_clam_2002657ue_nullify_guaranteed"
          ],
          [
           "1151_acm_dz_pc12_acminduced"
          ],
          [
           "632_slovak_sulfosalts_thicknesses_alps"
          ],
          [
           "1065_vtg_lizards_estrogenic_manure"
          ],
          [
           "1153_sushi_glove_gloves_hands"
          ],
          [
           "1366_oak_spruce_scots_sludge"
          ],
          [
           "1106_distances_jaccard_nucmer_wholegenome"
          ],
          [
           "946_gloved_aerogenes_watermelon_celery"
          ],
          [
           "141_light_uvcled_nuv_uv"
          ],
          [
           "888_retronasal_flavor_bonobos_odor"
          ],
          [
           "1304_infarction_myocardial_epadha_pcb"
          ],
          [
           "270_imprinted_mips_clenbuterol_molecularly"
          ],
          [
           "384_ota_carbonarius_biosynthetic_ochratoxin"
          ],
          [
           "1069_dissolving_ibuprofen_lyophilised_loaded"
          ],
          [
           "1306_cartagena_colombia_pathotypes_coli"
          ],
          [
           "745_shooting_abandoned_castor_landfill"
          ],
          [
           "1305_morphological_features_physiological_epidemiological"
          ],
          [
           "962_peas_thermophilic_diluent_highlyheatresistant"
          ],
          [
           "734_enantiomers_metalaxyl_pcp_leaching"
          ],
          [
           "557_fa_sunflower_cr_chromium"
          ],
          [
           "250_bedding_poultry_promoters_exploitation"
          ],
          [
           "719_foodborne___"
          ],
          [
           "729_kbd_intensification_measures_preventive"
          ],
          [
           "424_honduras_typhi_shedding_ci"
          ],
          [
           "251_million_13_latest_worldwide"
          ],
          [
           "561_sporulation_differentiation_nprrdependent_necrotrophic"
          ],
          [
           "894_rinse_carcass_rinsate_agreement"
          ],
          [
           "1068_veneto_ruditapes_weekly_shellfish"
          ],
          [
           "542_kratom_newport_poss_traceback"
          ],
          [
           "377_gluten_qlamp_glutenfree_celiac"
          ],
          [
           "634_ecoefficiency_budget_input_export"
          ],
          [
           "226_irs_pesticide_malaria_tajikistan"
          ],
          [
           "512_bovismorbificans_javiana_restaurant_casepatients"
          ],
          [
           "950_leafy_stec_rbfo157_flich7"
          ],
          [
           "1082_mgs_diagnoses_nursing_gatherings"
          ],
          [
           "1352_crohns_map_prove_disprove"
          ],
          [
           "816_cz_enterocolitica_yersiniosis_fpp"
          ],
          [
           "1351_ebns_unboiled_boiled_sp"
          ],
          [
           "822_rojak_fried_shigella_snacks"
          ],
          [
           "1322_anthrax_anthracis_mab_antianthrax"
          ],
          [
           "514_kg1_estuary_mg_qiantang"
          ],
          [
           "869_clays_packaging_cheese_extend"
          ],
          [
           "376_fzt_parasite_ponds_p0001"
          ],
          [
           "409_sers_raman_surfaceenhanced_spectroscopy"
          ],
          [
           "429_code_multiclass_kanamycin_ags"
          ],
          [
           "663_mnps_nanotechnology_nanomaterials_industries"
          ],
          [
           "114_metalsmetalloids_tolerance_eggplant_stressinducible"
          ],
          [
           "398_ionization_immunoassays_ambient_m13"
          ],
          [
           "945_pylori_hp_gastric_helicobacter"
          ],
          [
           "943_bvocs_vocs_sensors_s3"
          ],
          [
           "844_biotransformation_proximal_toxindb_biogenic"
          ],
          [
           "753_cemcem_loloh_juices_juice"
          ],
          [
           "69_cr_cws_chromium_tannery"
          ],
          [
           "1383_chamber_gases_refreshing_gas"
          ],
          [
           "504_grape_vinegars_varieties_blanching"
          ],
          [
           "508_oats_oat_glutenfree_avenins"
          ],
          [
           "1381_colig_kitchens_salad_produce"
          ],
          [
           "1084_abhsbased_abhs_hand_farmworker"
          ],
          [
           "867_aged_nonstarter_cheddar_cheese"
          ],
          [
           "96_zen_zea_zenpositive_zearalenone"
          ],
          [
           "120_elimination_eradication_persistence_phenomenon"
          ],
          [
           "423_mucor_microbiota_mucosaassociated_mice"
          ],
          [
           "563_chlordecone_gwg_prenatal_cord"
          ],
          [
           "769_informal_rainy_season_enterica"
          ],
          [
           "428_vomiting_school_abdominal_attack"
          ],
          [
           "738_bpa_bisphenol_canned_noncanned"
          ],
          [
           "1075_inspections_cfm_violations_thirdparty"
          ],
          [
           "1315_fsms_uganda_certification_noncertified"
          ],
          [
           "355_tadpoles_frog_climax_anuran"
          ],
          [
           "1314_photo_catalyst_nanocrystalline_uvdrs"
          ],
          [
           "511_animalderived_bsg_feed_lcmsms"
          ],
          [
           "311_effluent_wastewater_mangla_gwi"
          ],
          [
           "426_stormwater_supplies_nordic_water"
          ],
          [
           "1080_pja_stabilis_ultrasound_pancreatic"
          ],
          [
           "1079_fa_bacillus_fas_ufas"
          ],
          [
           "369_sludge_amps_revegetation_hm"
          ],
          [
           "65_fecal_neighborhoods_lowincome_pathways"
          ],
          [
           "162_pet_rmbds_owners_rmbd"
          ],
          [
           "1078_aquacultures_dom_landbased_proteinlike"
          ],
          [
           "1077_cilantro_cpc_24hour_presliced"
          ],
          [
           "1076_milks_ewi_mollusks_french"
          ],
          [
           "1318_m3_expanded_ozone_polystyrene"
          ],
          [
           "1317_carbonates_carbonate_wheat_carbonatesdepleted"
          ],
          [
           "770_gbeli_vendors_street_uberaba"
          ],
          [
           "783_ddpcr_feline_wtwt_lamp"
          ],
          [
           "672_peptides_amps_afps_25dkps"
          ],
          [
           "91_flavus_aflatoxin_agm182_atoxigenic"
          ],
          [
           "488_beefburgers_casepatients_heidelberg_blocked"
          ],
          [
           "116_esblproducing_esbl_hatchery_enterobacteria"
          ],
          [
           "123_phages_phage_kit03_salmonellaphages"
          ],
          [
           "330_wine_grape_grapes_growthinactivation"
          ],
          [
           "652_bacteriocinproducing_pgtel_adhesion_lactis"
          ],
          [
           "301_town_bakery_shariati_muslim"
          ],
          [
           "296_afs_afb_parasiticus_immunodepression"
          ],
          [
           "537_nanocomposites_magnetic_coreshell_dyes"
          ],
          [
           "350_mycotoxigenic_climate_fungi_malaysia"
          ],
          [
           "1103_poultryassociated_foodhandling_1114_279"
          ],
          [
           "256_cdcontaminated_maize_intercropping_willow"
          ],
          [
           "349_radiocaesium_astragali_nuclide_ra"
          ],
          [
           "532_alkyl_octyl_brevis_syringates"
          ],
          [
           "896_adulteration_whey_wpbased_lcd"
          ],
          [
           "194_handwashing_intervention_caregivers_complementary"
          ],
          [
           "1096_ripening_cheese_sheeps_semisoft"
          ],
          [
           "327_lead_eggs_game_homegrown"
          ],
          [
           "536_omega3_lipids_dha_efas"
          ],
          [
           "562_technic_highways_technosols_metallic"
          ],
          [
           "1104_flagellar_fljb_flic_attachment"
          ],
          [
           "624_quat_ipaquat_cfucoupon_min"
          ],
          [
           "885_oils_pertaining_agrifood_mycotoxinscontaminated"
          ],
          [
           "886_carota_daucus_lycopersicum_solanum"
          ],
          [
           "530_plantarum_antifungal_ufg_cfs"
          ],
          [
           "648_lactis_hgii_lactococcus_ch"
          ],
          [
           "611_flp_sp_vannella_beetroot"
          ],
          [
           "323_mycotoxins_mycotoxin_nonbiological_detoxification"
          ],
          [
           "333_citrinin_ctne_monascus_cit"
          ],
          [
           "229_chamber_loc_impedance_magnetic"
          ],
          [
           "92_aflatoxin_grain_ver_fgis"
          ],
          [
           "322_foliar_caerulescens_ganges_hyperaccumulating"
          ],
          [
           "3_aflatoxin_antifungal_reports_2013"
          ],
          [
           "718_ryr_afs_daqu_baijiu"
          ],
          [
           "921_fiber_repartitioning_byproducts_feed"
          ],
          [
           "904_eoe_rye_elimination_empiric"
          ],
          [
           "644_epithelial_intestinal_gi_tract"
          ],
          [
           "534_teat_herd_milk_microbiota"
          ],
          [
           "279_pahs_pah_grilling_propolis"
          ],
          [
           "526_snakes_owl_buteo_owls"
          ],
          [
           "1152_rep_hrma_discriminatory_aflp"
          ],
          [
           "639_carotenoids_goji_apocarotenoid_carotenoid"
          ],
          [
           "178_mercury_hg_mera_merb"
          ],
          [
           "907_manure_dtpaextractable_manures_exchangeable"
          ],
          [
           "489_avermectins_allicin_mef_arvo"
          ],
          [
           "1333_foodomic_endo_exotoxins_peptidomics"
          ],
          [
           "1063_slaughterhouse_ec_carcasses_slaughterhouses"
          ],
          [
           "115_args_antibiotic_ar_swine"
          ],
          [
           "130_don_deoxynivalenol_refining_degradation"
          ],
          [
           "1155_lovastatin_glvs_gluconic_amylases"
          ],
          [
           "1332_ym_nissui_compact_aoac"
          ],
          [
           "1091_sustainability_constraints_agrifood_produce"
          ],
          [
           "1095_vembanad_jakarta_sediments_ocps"
          ],
          [
           "124_lab_antifungal_molds_bread"
          ],
          [
           "1094_akk_mice_probiotics_gut"
          ],
          [
           "715_cardiotoxicity_pesticides_ecg_pesticide"
          ],
          [
           "1336_snowshoe_hare_boreal_smelter"
          ],
          [
           "134_cd_rice_liming_lime"
          ],
          [
           "618_aggressiveness_snps_ear_fusarium"
          ],
          [
           "1093_glauca_sharks_salmon_peroxidation"
          ],
          [
           "615_crassipes_cristata_ch_natans"
          ],
          [
           "899_aibased_hyperspectral_hsi_pneumonialike"
          ],
          [
           "553_ginseng_fumigation_sulfur_immunomodulatory"
          ],
          [
           "1092_ld_sd_brochothrix_psychrobacter"
          ],
          [
           "233_biochar_fwbc_mortar_rwbc"
          ],
          [
           "193_bacteriocins_bacteriocin_lab_geobacillin"
          ],
          [
           "623_perchlorate_discourses_pregnancy_professionals"
          ],
          [
           "629_corrective_pops_hfrs_polychlorinated"
          ],
          [
           "631_mining_pbzn_dexing_poyang"
          ],
          [
           "625_aboriginal_nonaboriginal_t2dm_faso"
          ],
          [
           "1090_inhibitors_pesticides_earthworm_biosynthesis"
          ],
          [
           "961_score_butcher_violation_r1"
          ],
          [
           "465_nd_neurotoxicants_neurotoxic_childrens"
          ],
          [
           "2_sarscov2_covid19_coronavirus_virus"
          ],
          [
           "630_reserve_yancheng_redcrowned_cranes"
          ],
          [
           "523_mycelial_germination_quantified_temporal"
          ],
          [
           "1331_seafood_desire_keep_innovating"
          ],
          [
           "525_nucleic_acidbased_foodchain_diagnostic"
          ],
          [
           "627_flavourzyme_cardboard_eps_dnase"
          ],
          [
           "628_recalls_recall_cosmetic_class"
          ],
          [
           "1328_drain_floor_pyrosequencing_communities"
          ],
          [
           "1089_arctic_seabirds_auks_feathers"
          ],
          [
           "138_stones_tubers_nigeria_urinary"
          ],
          [
           "1329_udaf_utah_permit_somatic"
          ],
          [
           "959_urban_technosols_entails_legislative"
          ],
          [
           "483_viral_rva_irrigation_naegleria"
          ],
          [
           "941_students_ice_gastroenteritis_noroviruses"
          ],
          [
           "140_silver_nanoparticles_photocatalytic_metalbased"
          ],
          [
           "527_apr_rbf_idtm_lmics"
          ],
          [
           "609_derelict_degradation_biodiversity_biotic"
          ],
          [
           "927_jerky_refrigeration_sale_readytoeat"
          ],
          [
           "213_septox_hpmp_lesions_bmc"
          ],
          [
           "535_mosquito_albopictus_larval_rearing"
          ],
          [
           "291_visual_afs_afb1_nanomaterials"
          ],
          [
           "498_hunov_salad_salads_ms2"
          ],
          [
           "1347_exudate_smoked_salmon_behaviour"
          ],
          [
           "935_geese_redbreasted_spiders_endosymbionts"
          ],
          [
           "1346_preharvest_microbials_pathogenresistant_directfed"
          ],
          [
           "938_re_plots_bsas_manure"
          ],
          [
           "1345_liposomes_peptide_chitosanstabilised_poreforming"
          ],
          [
           "241_cannabis_cbd_thc_ecps"
          ],
          [
           "538_sausages_dfs_outlets_burgers"
          ],
          [
           "910_restaurants_inspection_routine_outbreak"
          ],
          [
           "1102_lz206_plantarum_probiotic_embedded"
          ],
          [
           "1105_microbiota_bottom_carcasses_fcss"
          ],
          [
           "422_lowmoisture_heating_conductive_dielectric"
          ],
          [
           "1384_deposition_1552010_dlvo_decree"
          ],
          [
           "843_canned_sardines_shaoxing_pi"
          ],
          [
           "79_fish_prepacked_recalls_tuna"
          ],
          [
           "408_bse_prion_cwd_cjd"
          ],
          [
           "651_solubility_rice_flooding_metalloids"
          ],
          [
           "11_shiga_toxinproducing_goudalike_shigatoxin"
          ],
          [
           "1098_nonenterohemorrhagic_lasts_foodbome_signs"
          ],
          [
           "645_rwbp1004d_peptide_nterminal_denantiomer"
          ],
          [
           "407_pah187270_plasmid_kbp_mega"
          ],
          [
           "923_mammary_don_epithelial_deoxynivalenol"
          ],
          [
           "129_seasonality_weather_stressors_evaluation"
          ],
          [
           "646_ewe_sheep_ovine_flocks"
          ],
          [
           "638_colloid_pdms_replicas_retention"
          ],
          [
           "649_demonstration_validating_freshcut_fvs"
          ],
          [
           "657_dumpsite_ptes_sbri_ship"
          ],
          [
           "889_af_afb_parasiticus_aflatoxigenic"
          ],
          [
           "1341_pellets_waste_tilapia_carp"
          ],
          [
           "198_deep_learning_elytral_images"
          ],
          [
           "1340_graphene_kinase_egf_cell"
          ],
          [
           "307_hg_york_emissions_deposition"
          ],
          [
           "892_predictive_models_antagonism_competition"
          ],
          [
           "1088_surfactants_soap_hand_lauryl"
          ],
          [
           "278_lysates_afb1_afts_anguilliseptica"
          ],
          [
           "533_rtpcr_rtipcr_quantifications_pointofcare"
          ],
          [
           "1097_odorant_sensor_sf21_ors"
          ],
          [
           "348_emp_sampling_recovery_optimization"
          ],
          [
           "658_huazhong_moniliforme_autumn_bran"
          ],
          [
           "344_enzymes_mycotoxins_detoxification_potentialities"
          ],
          [
           "1101_tabh_fitc_ammonia_amines"
          ],
          [
           "343_spices_chili_pepper_verbena"
          ],
          [
           "470_sialyllactoses_neuac_les_lactic"
          ],
          [
           "1100_pyrethroid_irs_hvld_pesticide"
          ],
          [
           "1099_enps_nps_caco2_zno"
          ],
          [
           "14_metagenomics_wgs_genome_sequencing"
          ],
          [
           "77_aflatoxins_afs_produced_sciatic"
          ],
          [
           "274_characterisation_ch_characterised_corrects"
          ],
          [
           "394_pathogen_notorious_spoiler_foodborne"
          ],
          [
           "239_methicillinresistant_livestockassociated_ue_thirtythree"
          ],
          [
           "556_occupational_biologic_simultaneously_simultaneous"
          ],
          [
           "462_tasimelteon_nanomaterials_nutraceuticals_nanotechnology"
          ],
          [
           "81_afm_occurrence_newly_provides"
          ],
          [
           "216_eos_antibiofilm_biofilm_rl"
          ],
          [
           "145_amd_acidobacteria_phylum_sb"
          ],
          [
           "220_afm1_rba_binder_m1"
          ],
          [
           "117_oxisterigmatocystins_produced_secondary_sterigmatocystin"
          ],
          [
           "1171_vulnerability_0451_accentuating_explorative"
          ],
          [
           "800_recycling_plastic_undesirably_prolonging"
          ],
          [
           "799_buckthorn_hippophae_barhrm_sea"
          ],
          [
           "393_fao_occurrence_codex_500000"
          ],
          [
           "796_scandal_tainted_pregnant_birth"
          ],
          [
           "795_bohai_sccps_sccp_sea"
          ],
          [
           "118_genus_belonging_molds_certain"
          ],
          [
           "58_aflatoxins_afb_secondary_produced"
          ],
          [
           "806_probiotics_probiotic_saudi_labeling"
          ],
          [
           "786_pcn_eggs_whoteq_dioxinlike"
          ],
          [
           "711_nudges_hbm_photographs_eco"
          ],
          [
           "546_plx_mic_inhibitory_determinations"
          ],
          [
           "710_travelers_athletes_physicians_travel"
          ],
          [
           "804_salami_otaproducing_westerdijkiae_otanpspn"
          ],
          [
           "1156_iveo_4859_anethole_illicium"
          ],
          [
           "380_visible_particulate_nonsterile_injectable"
          ],
          [
           "956_ulcer_noncontagious_disabling_buruli"
          ],
          [
           "259_waste_xylan_msw_sar"
          ],
          [
           "756_retort_pouch_histamine_tmhcm"
          ],
          [
           "382_corn_coproducts_pet_pbs"
          ],
          [
           "559_drycured_dryfermented_meats_sausages"
          ],
          [
           "780_fd_cats_damino_methionine"
          ],
          [
           "362_mili_mycotoxinassociated_mycotoxins_death"
          ],
          [
           "748_ens_enniatins_feeds_fish"
          ],
          [
           "443_histolytica_lemurs_lemur_primates"
          ],
          [
           "849_wastewater_welfare_access_irrigated"
          ],
          [
           "144_pollen_bee_bees_nectar"
          ],
          [
           "560_cadmium_iran_science_bangladesh"
          ],
          [
           "558_allergen_laboratories_action_official"
          ],
          [
           "552_terns_seabird_louisiana_pops"
          ],
          [
           "386_clinicians_emerging_unusual_infections"
          ],
          [
           "1085_qac_restructuring_biogas_methane"
          ],
          [
           "1188_360_cezarka_pond_180"
          ],
          [
           "722_melanocytes_colorants_chlortetracycline_phototoxic"
          ],
          [
           "1186_vbnc_colonybased_state_vesicle"
          ],
          [
           "668_mrsa_cows_aureus_pooled"
          ],
          [
           "554_psychrotrophic_legs_wings_carnobacterium"
          ],
          [
           "675_loe_polycyclic_envri_aromatic"
          ],
          [
           "1178_raising_unit_flows_livestock"
          ],
          [
           "366_phenological_stress_gru_spectral"
          ],
          [
           "1177_bacteriocins_biofilm_inhibition_bacteriocinogenic"
          ],
          [
           "457_bottles_pet_recycled_recycling"
          ],
          [
           "1179_weee_black_plastic_fcms"
          ],
          [
           "1392_hp_peroxide_hydrogen_disinfectant"
          ],
          [
           "679_ice_packaged_premises_isb"
          ],
          [
           "497_noncompliance_chicken_slaughterhouses_scalding"
          ],
          [
           "368_insects_edible_mealworm_earthworms"
          ],
          [
           "1183_bentonite_aflatoxins_degrade_bentonites"
          ],
          [
           "1386_virulence_66_biofilm_antibiotic"
          ],
          [
           "461_rccs_cics_hi_tf"
          ],
          [
           "852_paa_go_disinfectant_glutaraldehydequaternary"
          ],
          [
           "500_methanol_abhs_2020_texas"
          ],
          [
           "1388_shells_destroyed_weapons_explosive"
          ],
          [
           "851_circumdatins_advancement_instrumental_fragmentation"
          ],
          [
           "309_amf_mycorrhizal_arbuscular_viride"
          ],
          [
           "74_fpbs_microalgae_waw_s4"
          ],
          [
           "496_cafeteria_ants_clothes_indoor"
          ],
          [
           "683_pgp_sl2_oxalicum_siderophores"
          ],
          [
           "1184_notifications_af_nuts_importers"
          ],
          [
           "179_microplastics_ppe_mps_nanoplastics"
          ],
          [
           "1190_sfs_kites_helminths_overcrowded"
          ],
          [
           "673_ripening_hsc_hpp_rind"
          ],
          [
           "664_composting_wastes_mortalities_biowastes"
          ],
          [
           "875_lab_probiotics_antilisterial_cultures"
          ],
          [
           "1207_csls_processors_final_csl"
          ],
          [
           "182_aimthe_ndmproducing_backgroundwhile_humantohuman"
          ],
          [
           "437_street_papers_vending_healthrelated"
          ],
          [
           "1219_workers_slaughterhouses_wore_slaughterhouse"
          ],
          [
           "1197_ias_daly_infant_cereal"
          ],
          [
           "846_canteens_hospital_breads_match"
          ],
          [
           "1296_mud_lemongrass_sludge_ww"
          ],
          [
           "452_peru_andean_osps_storehouses"
          ],
          [
           "456_fertilization_digestate_tms_slag"
          ],
          [
           "1359_cultivars_heading_brown_rice"
          ],
          [
           "1182_farmworker_producecommodity_farmworkers_hand"
          ],
          [
           "1158_phthalate_battery_pcb180_dimethyl"
          ],
          [
           "685_cnms_pnps_arms_microcin"
          ],
          [
           "684_tbt_ots_imposex_tributyltin"
          ],
          [
           "1361_dcdoh_restaurant_dc_columbia"
          ],
          [
           "1154_recalls_recall_recalled_lb"
          ],
          [
           "868_intervention_interventions_effectiveness_onfarm"
          ],
          [
           "872_sorghum_chromatographytandem_apart_requiring"
          ],
          [
           "1191_aab_spoil_acetic_shelflife"
          ],
          [
           "873_sashimi_sushi_westernstyle_lightly"
          ],
          [
           "622_fragments_calorific_bioinoculants_marianum"
          ],
          [
           "1189_dealt_vs_rte_388"
          ],
          [
           "871_spoil_severely_connection_predominantly"
          ],
          [
           "1185_sumapaz_livestock_brucellosis_brucella"
          ],
          [
           "803_bats_kuhlii_termite_external"
          ],
          [
           "469_microgravity_clinostat_mycotoxincontaminated_mycotoxigenic"
          ],
          [
           "1157_sulfite_sulfites_sodium_bisulfite"
          ],
          [
           "794_mtdnacoi_pupal_cockroach_lengths"
          ],
          [
           "549_canjiquinha_corn_grits_gaseous"
          ],
          [
           "550_fermentations_craft_spoiled_brine"
          ],
          [
           "1301_pasta_sensory_biopreservation_reuteri"
          ],
          [
           "82_microplastics_beverages_microplastic_micro"
          ],
          [
           "1163_catechol_wastes_illucens_soldier"
          ],
          [
           "1160_formers_cameroon_029183_108189"
          ],
          [
           "517_paratyphoid_nonhostspecific_tularemia_zoonosis"
          ],
          [
           "1159_ptes_rad_rp_rpa"
          ],
          [
           "1300_ceftazidime_acinetobacter_nonsusceptible_maltophilia"
          ],
          [
           "1350_farmers_markets_subsets_riskofbias"
          ],
          [
           "551_isfahan_aeruginosa_st283_chabahar"
          ],
          [
           "752_pork_tbc_nts_salmonellosis"
          ],
          [
           "419_comprehension_dearth_foodspoilage_procedural"
          ],
          [
           "524_wgs_ncbi_interpreting_pseudotuberculosis"
          ],
          [
           "1087_accumulators_forested_edulis_1995"
          ],
          [
           "1086_ntm_orange_mpnml_mycobacterium"
          ],
          [
           "763_ota_ochratoxin_coffee_teenagers"
          ],
          [
           "925_dedicated_legal_compliance_manufacturers"
          ],
          [
           "338_taf_aflatoxin_aflatoxins_afm1"
          ],
          [
           "750_hybrids_arabia_saudi_maize"
          ],
          [
           "184_dec_databases_1361_749"
          ],
          [
           "1344_24d_shortlived_analyte_publications"
          ],
          [
           "878_alumina_pla_collagen_conjugation"
          ],
          [
           "40_cocoa_chive_chickpea_tomato"
          ],
          [
           "1192_carob_prosopis_flour_abound"
          ],
          [
           "1193_decisionmaking_olives_standardize_scoring"
          ],
          [
           "1326_evolution_shown_work_rapid"
          ],
          [
           "351_determinate_proportionprevalence_randomized_attempted"
          ],
          [
           "1164_alternaria_jujubes_jujube_xinjiang"
          ],
          [
           "1165_lowgrade_phosphorus_dihydrate_biowastes"
          ],
          [
           "358_arair_aro2_cao_cd"
          ],
          [
           "777_mold_infants_households_phps"
          ],
          [
           "1319_pgml_epsilon_pm_toxin"
          ],
          [
           "666_durum_wheat_conform_models"
          ],
          [
           "665_communityassociated_surveyed_emerging_since"
          ],
          [
           "1173_lungs_urt_bedding_normal"
          ],
          [
           "774_neuronal_myenteric_vnmf_carrasqueira"
          ],
          [
           "1175_alternata_alt_oranges_alternaria"
          ],
          [
           "1321_br_bfr_sorting_signature"
          ],
          [
           "670_prothioconazole_prothioconazoledesthio_rsds_mycotoxin"
          ],
          [
           "1320_mycobacteria_therapyrelated_mycobacterial_expectancy"
          ],
          [
           "689_escresistant_cephalosporins_escs_cm"
          ],
          [
           "677_spores_nomenclature_sexual_spore"
          ],
          [
           "809_lacs_hm_halloysite_redirection"
          ],
          [
           "1312_popularly_pakchoi_coexist_enter"
          ],
          [
           "1167_residential_vbnc_viablebutnonculturable_stimulatory"
          ],
          [
           "807_members_family_closely_related"
          ],
          [
           "1169_stickleback_alaska_pfass_blackfish"
          ],
          [
           "716_decontamination_biofumigation_solarization_mgd"
          ],
          [
           "778_clam_brachyuran_substitution_crab"
          ],
          [
           "775_condiments_dnag_sciuri_farinaceous"
          ],
          [
           "356_plain_azerbaijan_geoaccumulation_ni"
          ],
          [
           "89_pesticides_bss_urban_pesticide"
          ],
          [
           "78_farsc_promotionincreased_selection_ema"
          ],
          [
           "725_wasteland_woodland_rhynchophylla_urhynchophylla"
          ],
          [
           "235_cassava_aflatoxin_groundnut_aflasafe"
          ],
          [
           "447_nematodes_taeniidae_meatborne_cestode"
          ],
          [
           "811_pantoea_growthpromoting_marshes_phytostabilization"
          ],
          [
           "1000_obesity_adipocyte_diffused_lifestyle"
          ],
          [
           "506_grebes_ghr_moulting_gcm"
          ],
          [
           "328_afb1_bsaafb1_hrp_probe"
          ],
          [
           "505_mercury_amalgam_dental_minamata"
          ],
          [
           "633_iso_166542001_cen_en"
          ],
          [
           "272_baked_oils_essential_eos"
          ],
          [
           "829_fnu_racks_boards_cutting"
          ],
          [
           "286_ebns_eggs_rawunclean_se"
          ],
          [
           "826_micelles_ttcp_controllable_thymol"
          ],
          [
           "289_providencia_anesthesia_scorching_whip"
          ],
          [
           "471_ota_chemotypes_westerdijkiae_vocs"
          ],
          [
           "1180_northwest_2006_noncarcinogen_electronicwaste"
          ],
          [
           "477_bps_bpa_bisphenol_badge"
          ],
          [
           "1181_kubac5_reuteri_highdose_salmonellachallenged"
          ],
          [
           "521_operations_alcoholic_malting_beverages"
          ],
          [
           "1187_cassava_eaten_staple_mostly"
          ],
          [
           "304_genus_smallspored_necrotrophic_saprophytic"
          ],
          [
           "125_glyphosate_gly_gbh_vescana"
          ],
          [
           "960_franchise_storelevel_clauses_audited"
          ],
          [
           "834_packages_juice_hu_shopping"
          ],
          [
           "71_microplastic_mps_mussel_norvegicus"
          ],
          [
           "468_antarctic_peninsula_fildes_lacustrine"
          ],
          [
           "467_ochratoxin_ota_epithelium_porcine"
          ],
          [
           "948_mra_modelers_casestudy_illustrating"
          ],
          [
           "1194_networks_copresence_conet_mutual"
          ],
          [
           "1174_impoverished_practically_too_nations"
          ],
          [
           "1162_gardens_carnivore_deposit_fox"
          ],
          [
           "1172_pco_amphipods_warming_bottom"
          ],
          [
           "708_coatings_graphitic_nitride_polytetrafluoroethylene"
          ],
          [
           "819_mact_mammary_epithelial_mitochondrial"
          ],
          [
           "824_fw_pha_methane_ad"
          ],
          [
           "757_23000_borne_nations_annually"
          ],
          [
           "1044_sera_wall_aspergillusspecific_polyclonal"
          ],
          [
           "507_amr_nap_abr_sectors"
          ],
          [
           "977_inflorescences_slag_historic_thi"
          ],
          [
           "818_consortium_adz_jejunal_afb1"
          ],
          [
           "706_cecs_rw_offsite_watersoilplant"
          ],
          [
           "830_aiv1_mussles_hexamer_aiv"
          ],
          [
           "1221_mashavera_basin_tributaries_countrywide"
          ],
          [
           "292_nontyphoidal_enterohemorrhagic_enterohaemorrhagic_coagulasepositive"
          ],
          [
           "486_2i4mp_silage_cow_cows"
          ],
          [
           "970_macadamia_harvesting_mbombela_nutinhusk"
          ],
          [
           "989_cassette_instrument_melt_gelcycler"
          ],
          [
           "969_saginata_cysticercus_inspection_incisions"
          ],
          [
           "1008_biochar_siliconnanoparticles_salinityinduced_feoxyhydroxy"
          ],
          [
           "973_intention_tpb_beliefs_growers"
          ],
          [
           "1227_fermentations_spontaneous_regaining_citizen"
          ],
          [
           "440_antidoping_sarms_doping_aaf"
          ],
          [
           "974_me_panel_liat_poc"
          ],
          [
           "1010_cfuml_mag_105108_stecs"
          ],
          [
           "373_gb_bc_plaque_rhb"
          ],
          [
           "1295_impairment_suppression_child_implicated"
          ],
          [
           "1368_kerala_fillings_vegetarians_amalgam"
          ],
          [
           "1369_mutual_influences_of_the"
          ],
          [
           "1050_hgca_paddy_fixation_nitrogen"
          ],
          [
           "510_feeders_bird_feeder_birds"
          ],
          [
           "815_gut_mycotoxicosis_microbiota_mycotoxins"
          ],
          [
           "50_mps_macrophages_nmps_microplastics"
          ],
          [
           "1057_fhb_biomin_temporalgeographical_20102019"
          ],
          [
           "1210_bisporus_mushrooms_florence_labels"
          ],
          [
           "874_turmeric_spectra_lssvm_imaging"
          ],
          [
           "1198_imaging_spectroscopy_microorganism_timedomain"
          ],
          [
           "1003_puree_gmps_ofsp_compliance"
          ],
          [
           "1170_inoculants_inputs_biopesticides_biofertilizers"
          ],
          [
           "1277_ddts_ddt_mrna_relating"
          ],
          [
           "833_bowls_meatball_bacterias_cafeterias"
          ],
          [
           "832_cigarette_litter_riyadh_streets"
          ],
          [
           "831_banknotes_sudanese_tamale_kirbybauer"
          ],
          [
           "1176_nasba_viable_crisprcas13a_amplification"
          ],
          [
           "1168_beverages_unfinished_nursing_students"
          ],
          [
           "1281_alpharadiation_emitter_man_big"
          ],
          [
           "835_ger_heterosis_hybrids_ear"
          ],
          [
           "709_sausages_biogenic_amines_fermented"
          ],
          [
           "714_h7n9_shanghai_polio_virus"
          ],
          [
           "1166_sdbd_belly_wcm_loin"
          ],
          [
           "821_bangladesh_multitrophic_heavy_bangladeshs"
          ],
          [
           "952_colistinresistant_plasmidborne_plasmidmediated_colistin"
          ],
          [
           "1196_attacked_bunches_spoiling_corrugated"
          ],
          [
           "1335_grains_predominance_exponentially_cereal"
          ],
          [
           "1213_tnt_malaria_lizards_wbc"
          ],
          [
           "827_apples_apple_packing_excision"
          ],
          [
           "503_biofilmspecific_biofilms_nondestructive_deviceassociated"
          ],
          [
           "201_biomaterials_antiviral_sfbs_cryogels"
          ],
          [
           "90_mps_wwtp_losw_microplastics"
          ],
          [
           "1016_shq_dehp_text_see"
          ],
          [
           "127_infiltration_nanotechnology_nanobiotechnology_nbfs"
          ],
          [
           "391_films_chitosan_curcuminvanillin_hydrogels"
          ],
          [
           "998_preventative_indigestion_vouch_fermenting"
          ],
          [
           "303_microplastics_seafood_microplastic_atrmir"
          ],
          [
           "1267_ocps_egypt_ppddd_ppddt"
          ],
          [
           "837_infant_ready_chb_powder"
          ],
          [
           "1161_cabbage_microbiomes_sauerkraut_microbes"
          ],
          [
           "1195_amr_equitably_smes_enterprises"
          ],
          [
           "246_pnp_brain_mp_plastics"
          ],
          [
           "1064_amx_tmp_sz_aeromonas"
          ],
          [
           "1385_sepiolite_mineral_fibrous_regeneration"
          ],
          [
           "840_ethical_toxicology_preannounced_egregious"
          ],
          [
           "637_soybeanbased_fermented_bean_beans"
          ],
          [
           "1026_army_campassociated_fbi_youth"
          ],
          [
           "46_mfeo_nanoemulsion_chitosan_nanomatrix"
          ],
          [
           "260_aloe_herbal_hads_pharmacopoeia"
          ],
          [
           "518_oas_immobilization_ldhs_zeolitesupported"
          ],
          [
           "459_fumonisins_fb_innervation_fb2"
          ],
          [
           "485_rainfed_mycobiota_sesame_stored"
          ],
          [
           "329_dalys_aflatoxin_noncompliant_multilaboratory"
          ],
          [
           "805_thiosulfate_chelating_hg_ligands"
          ],
          [
           "265_electrochemical_aptasensors_turnoff_aptasensorbased"
          ],
          [
           "1045_formed_elucidation_untargeted_degradation"
          ],
          [
           "698_daas_daa_aunps_photonic"
          ],
          [
           "891_bacillus_nondairy_eighteen_illumina"
          ],
          [
           "464_nanoencapsulation_eosbioactive_eos_bioactive"
          ],
          [
           "1007_lad_gh_mahalanobis_adulterations"
          ],
          [
           "703_qtls_oshma3osnramp5osnramp1_thmm_thmms"
          ],
          [
           "702_aquaculture_hatcheries_fishmeals_zncl"
          ],
          [
           "779_atoxigenic_environmentallyfriendly_profitability_aflatoxicosis"
          ],
          [
           "544_pistachio_synthetised_trades_toxincontaminated"
          ],
          [
           "817_et_tomatoes_agroecologies_phytobiota"
          ],
          [
           "671_river_xj_jl_hilly"
          ],
          [
           "688_hh_hamburgers_crumbs_prtem"
          ],
          [
           "814_tds_chemicalfood_consists_saharan"
          ],
          [
           "463_phenolic_scgs_spas_extract"
          ],
          [
           "1038_gbf_gbp_biscuit_wb"
          ],
          [
           "951_zen_ozonation_homemade_pellets"
          ],
          [
           "1015_roughness_biofouling_electropolished_str493"
          ],
          [
           "686_mite_putrescentiae_didymium_mites"
          ],
          [
           "1018_ergot_ergotism_rye_saint"
          ],
          [
           "529_rasff_notifications_alert_rapex"
          ],
          [
           "1051_ester_3chloropropanol_esters_shaanxi"
          ],
          [
           "492_cosmetic_creams_strainsisolates_qpcr"
          ],
          [
           "900_da_infauna_blooms_domoic"
          ],
          [
           "893_chytridiomycosis_predation_bd_copper"
          ],
          [
           "1338_transboundary_robbing_sits_circulate"
          ],
          [
           "895_nanoclusters_ligandprotected_fcds_thiolated"
          ],
          [
           "1034_paraben_parabens_ep_derivatives"
          ],
          [
           "617_boar_leptospira_semen_extenders"
          ],
          [
           "1342_poisonings_clinicians_kong_hong"
          ],
          [
           "1348_bedding_sbs_ocular_corneal"
          ],
          [
           "855_xerophylic_interacting_colonising_respiration"
          ],
          [
           "654_xanthomonas_plantcolonizing_case_wilt"
          ],
          [
           "681_dissected_volatile_indole_masses"
          ],
          [
           "1349_preservativefree_confectionery_searching_options"
          ],
          [
           "1339_tf_destruction_depth_translocation"
          ],
          [
           "1323_probiotic_acceptability_detoxification_grow"
          ],
          [
           "930_gwangyang_hm_som_sdm"
          ],
          [
           "975_vocs_batches_hsspmegcms_headspace"
          ],
          [
           "983_cabbage_chinese_cultivar_flax"
          ],
          [
           "768_tahini_mt_capsicum_drying"
          ],
          [
           "1040_ms_malditof_chromatographic_chemometric"
          ],
          [
           "1047_julyaugust_inactivation_october_trials"
          ],
          [
           "1055_barbary_stabile_sheep_moss"
          ],
          [
           "1370_processors_face_challenges_serious"
          ],
          [
           "1298_app_plasmas_cells_resuscitation"
          ],
          [
           "861_insectbased_metabarcoding_barcoding_declared"
          ],
          [
           "934_kodo_millet_nutritious_popularized"
          ],
          [
           "937_formaldehyde_ammonia_seafoods_aa"
          ],
          [
           "1043_kimchi_reducedsodium_napa_korea"
          ],
          [
           "1302_contaminantsnamely_microwavebased_mae_purificationenrichment"
          ],
          [
           "1299_communicable_arbaeenia_syndromes_diarrhea"
          ],
          [
           "1009_noreleasing_hhms_donors_combating"
          ],
          [
           "388_preservatives_natural_nonthermal_antimicrobials"
          ],
          [
           "1056_abattoirs_viscera_252_chilling"
          ],
          [
           "1059_enterococcal_enterotoxin_sweets_slovak"
          ],
          [
           "621_nanoparticles_incentivized_metalsbearing_anticorrosive"
          ],
          [
           "1343_daphnia_multigenerational_dichromate_monophyletic"
          ],
          [
           "1325_microcasing_casings_salt_remedy"
          ],
          [
           "1324_pms_tms_tm_mountain"
          ],
          [
           "493_et_ions_tc_luminescent"
          ],
          [
           "1004_pct_yolov4_benchtop_instruments"
          ],
          [
           "1310_seta_monitoring_multicountry_team"
          ],
          [
           "545_animalpathogenic_prophage_genus_serbia"
          ],
          [
           "712_cookware_pots_containers_scrap"
          ],
          [
           "808_maple_walnut_syrup_sap"
          ],
          [
           "980_its1_issr_seedborne_khorramabad"
          ],
          [
           "1053_recalls_2021_july_january"
          ],
          [
           "995_subsoil_arseniccontaminated_flooded_hyperaccumulator"
          ],
          [
           "1330_susceptible_great_diversity_caused"
          ],
          [
           "1049_lda_prophylaxis_amu_cs"
          ],
          [
           "967_czech_republic_service_care"
          ],
          [
           "1327_zoobenthos_carps_carp_periphyton"
          ],
          [
           "1029_cadmium_agronomic_genetics_cysteinerich"
          ],
          [
           "1022_cand1a_crls_cand1_nedd8"
          ],
          [
           "1017_pastured_meteorological_gbm_rf"
          ],
          [
           "697_csa_governance_ppps_pandemicinduced"
          ],
          [
           "1028_pesticidebased_biosolutions_microbialbased_biocontrol"
          ],
          [
           "1334_libs_penalized_airpls_reweighted"
          ],
          [
           "119_plastic_microplastic_microplasticassociated_microplastics"
          ],
          [
           "691_parasites_roundworm_medieval_sp"
          ],
          [
           "1337_forages_sulfide_metalcontaminated_meanwhile"
          ],
          [
           "1371_earthquakes_postdisaster_disasters_cascading"
          ],
          [
           "271_bioremediation_xt4_cdii_crvi"
          ],
          [
           "515_nickel_drinks_bioaccessibility_plantbased"
          ],
          [
           "513_streptomyces_surplus_consortia_ben"
          ],
          [
           "723_mc_pf_cellg_concentrationbased"
          ],
          [
           "412_chitosan_chitin_insect_crustacean"
          ],
          [
           "813_gso_ecommerce_smart_planet"
          ],
          [
           "859_sourcetracking_vital_providing_evaluates"
          ],
          [
           "298_microwave_chilli_dried_maps"
          ],
          [
           "755_dysphagia_covid19_nutrition_coronavirus"
          ],
          [
           "494_roasted_cs_mor_aof"
          ],
          [
           "693_multistate_barbados_solved_2016"
          ],
          [
           "863_text_posts_reviews_online"
          ],
          [
           "990_rte_eko_fufu_enterobacter"
          ],
          [
           "776_tyrosol_alcohol_ros_2hydroxyphenethyl"
          ],
          [
           "425_ndma_ranitidine_nitrosamine_medications"
          ],
          [
           "1058_ppms_edcs_22bis4hydroxyphenylpropane_phthalatesphthalic"
          ],
          [
           "740_hyalinipennis_xyzfs_insecticide_xyzfr"
          ],
          [
           "751_rf_aptamersers_sensors_outlooks"
          ],
          [
           "728_chromatography_multidimensional_ce_separation"
          ],
          [
           "845_mycorrhizal_inoculation_mycorrhization_noninoculation"
          ],
          [
           "1037_sandyrelated_gasoline_njpies_jersey"
          ],
          [
           "1021_ssa_abandon_valuechains_unwilling"
          ],
          [
           "509_romaine_traceback_leafy_greens"
          ],
          [
           "610_formulas_infant_toddlers_infants"
          ],
          [
           "1014_mt_eol_tl_ulab"
          ],
          [
           "724_phosphorescence_chemosensor_autofluorescence_phosphorescent"
          ],
          [
           "880_surrogate_indicator_selected_microorganisms"
          ],
          [
           "979_ree_vinifera_vitis_substrate"
          ],
          [
           "999_polyphenols_lead_relieving_antiapoptosis"
          ],
          [
           "963_circular_halogenated_composting_organics"
          ],
          [
           "949_rtes_lmics_cinahl_readytoeat"
          ],
          [
           "555_spices_fsms_turmeric_spores"
          ],
          [
           "766_geomatics_ecozones_lakes_watershed"
          ],
          [
           "971_ntm_mycobacterium_filters_paratuberculosis"
          ],
          [
           "255_aptamer_aptamers_split_authentication"
          ],
          [
           "1355_microdebris_oyster_1225_mergui"
          ],
          [
           "1379_rising_inputs_meet_nutrients"
          ],
          [
           "1358_bt36_chromate_gut_crviinduced"
          ],
          [
           "1360_ar_enterococcus_uncommonly_receptacle"
          ],
          [
           "1356_128_farmers_directtoconsumer_markets"
          ],
          [
           "984_sas_silicon_plastic_rd"
          ],
          [
           "942_lysozyme_preservatives_cheese_sensorial"
          ],
          [
           "1238_histamine_histaminebinding_igemediated_lab"
          ],
          [
           "1031_lps_ler_supramolecular_lal"
          ],
          [
           "914_salient_m1_seriously_threatens"
          ],
          [
           "996_nds_danish_elements_rdas"
          ],
          [
           "917_tmm_tmms_crops_slight"
          ],
          [
           "997_nac_nanoactivated_2949_4763"
          ],
          [
           "922_ardl_sg_tn_longrun"
          ],
          [
           "1362_monospecie_friction_fluorescens_professionals"
          ],
          [
           "939_bioaerosols_ima_innocuous_bioaerosol"
          ],
          [
           "721_nitrate_nitrates_denitrification_nitrites"
          ],
          [
           "1364_urchins_hev_urchin_gonads"
          ],
          [
           "590_pyrrolizidine_alkaloids_retrorsine_herbal"
          ],
          [
           "882_nts_amr_multi_biosecurity"
          ],
          [
           "1025_pressurestressed_lowwateractivity_cornerstone_subsurface"
          ],
          [
           "1060_ebola_acceleration_covid19_deceleration"
          ],
          [
           "985_corngrown_corn_b1_anuradhapura"
          ],
          [
           "744_peanuts_osmaniye_2017may_aflasafe"
          ],
          [
           "1013_cre_rootextract_fy_chicory"
          ],
          [
           "1006_silences_discourse_narratives_breast"
          ],
          [
           "1353_answer_requests_monitor_industry"
          ],
          [
           "986_pets_rodents_amr_insects"
          ],
          [
           "981_module_schemes_mills_optimization"
          ],
          [
           "1316_fbdb_foodhandling_campaigns_france"
          ],
          [
           "1041_spore_variotii_size_cc"
          ],
          [
           "754_shopping_infosan_icw_online"
          ],
          [
           "765_fp_nanofibers_preservation_enf"
          ],
          [
           "1019_cit_dhcit_citrinin_2461"
          ],
          [
           "853_handwashing_customers_kebele_jimma"
          ],
          [
           "1395_nonfood_unidentified_reporting_overlap"
          ],
          [
           "864_qatar_postpurchasing_fruits_rotting"
          ],
          [
           "1363_terrorist_attack_motives_infrastructures"
          ],
          [
           "1365_nasal_malditofms_determinant_carriage"
          ],
          [
           "987_mra_climate_dairy_multiomics"
          ],
          [
           "1308_hrf_hpp_spores_highpressure"
          ],
          [
           "1403_sex_purge_rarity_recombination"
          ],
          [
           "572_insecticides_pest_spinosad_pirimiphosmethyl"
          ],
          [
           "1401_rational_enteropathogenic_causative_priority"
          ],
          [
           "758_hulless_oat_oats_202"
          ],
          [
           "1404_forficatus_salivary_glands_cd1"
          ],
          [
           "1406_age_colombia_pathotypes_bucaramanga"
          ],
          [
           "767_hydrogel_biochar_lrgpaammturea_ni"
          ],
          [
           "982_colostrum_iga_igg3_igg4"
          ],
          [
           "1061_pmi_gdpman_gdpmannose_phosphomannose"
          ],
          [
           "1405_voi_inspection_hazards_implementation"
          ],
          [
           "1396_multicenter_assessing_performance_air"
          ],
          [
           "1394_avian_pathogenic__"
          ],
          [
           "1389_hydrophobic_mlps_daconil_cucurbitaceae"
          ],
          [
           "825_codoped_phosphorousfluorine_antimicrobials_impressive"
          ],
          [
           "1390_mozambique_horticultural_maputocity_farmersvendors"
          ],
          [
           "1005_bat_sap_bats_pteropus"
          ],
          [
           "1382_influenza_shoplevel_biosecurity_overnight"
          ],
          [
           "860_hydrolysate_proteolysis_rapeseed_peptides"
          ],
          [
           "519_hvpef_uhph_detachedcells_psi"
          ],
          [
           "84_tps_phenolics_antibacterial_extracts"
          ],
          [
           "479_fast_pandemic_covid19_lockdown"
          ],
          [
           "954_foraging_relatedness_foraged_humannature"
          ],
          [
           "335_au_paraquat_nanomaterials_inhibition"
          ],
          [
           "928_curcumin_intelligent_smart_packaging"
          ],
          [
           "988_tcs_ieb_ht22_ctl"
          ],
          [
           "976_closely_emergence_enteric_part"
          ],
          [
           "1002_edc_pops_dehradun_fascinating"
          ],
          [
           "1032_mdro_ams_split_amr"
          ],
          [
           "994_biomarkers_aflatoxigenic_early_11hydroxyomethylsterigmatocystin"
          ],
          [
           "792_pcbs_pcb_china_smelters"
          ],
          [
           "932_phenolic_tamarind_damages_unconstrained"
          ],
          [
           "1033_sesame_microbiomes_pine_aminivibrio"
          ],
          [
           "1020_rpcs_multipleuse_crates_cauliflowers"
          ],
          [
           "850_monps_zh16_biogenic_pgpr"
          ],
          [
           "992_hms_nps_hmstoxicity_plantavailable"
          ],
          [
           "787_share_waste_transcripts_table"
          ],
          [
           "1048_acoustic_paw_biofilms_plasma"
          ],
          [
           "828_ptes_rice_nghe_tinh"
          ],
          [
           "1023_opioids_apriljune_illicit_2020"
          ],
          [
           "1027_barley_bromides_br_pigments"
          ],
          [
           "890_osace1_mtr_mtrfsa_atz"
          ],
          [
           "836_3d_printing_printed_ink"
          ],
          [
           "953_midtrophic_trachurus_pilchardus_scomber"
          ],
          [
           "1215_vendor_perception_consumer_meat"
          ],
          [
           "1042_nuts_improper_chances_economies"
          ],
          [
           "1201_humanity_dispersal_emphasising_recombination"
          ],
          [
           "1200_sth_endline_95ci_school"
          ],
          [
           "978_postchill_prechill_serovars_serovar"
          ],
          [
           "1205_xenobiotics_xenobioticinduced_nic_probioticxenobiotic"
          ],
          [
           "1203_rectal_diarrheagenic_swabs_pathotypes"
          ],
          [
           "1273_ethanol_bfrs_246tribromophenol_3355tetrabromobisphenol"
          ],
          [
           "1272_finio_salcurb_nonformaldehyde_k2"
          ],
          [
           "933_splashing_venues_ms2_spice"
          ],
          [
           "1270_apple_fcs_washington_caramel"
          ],
          [
           "1211_rawmeatprocessing_coexist_members_family"
          ],
          [
           "1030_alternariol_fullerol_aoh_ame"
          ],
          [
           "1209_infants_later_mother_wean"
          ],
          [
           "1035_provola_unconventional_cake_friesian"
          ],
          [
           "1240_paw_kumquats_kumquat_italicum"
          ],
          [
           "1239_gnotobiotic_microisolator_cages_experiments"
          ],
          [
           "1225_uas_min_cleaning_disaggregate"
          ],
          [
           "1212_norwegian_norway_requested_assessments"
          ],
          [
           "1233_formicidae_argentine_hymenoptera_ant"
          ],
          [
           "1046_cap_bcov_dmem_ehv1"
          ],
          [
           "991_dde_uv9_birds_king"
          ],
          [
           "1199_urbanized_characteristic_coastal_pahs"
          ],
          [
           "812_utensils_wash_salad_cambodia"
          ],
          [
           "1235_enms_hms_hmsenms_metalassociated"
          ],
          [
           "1024_minced_ann_fastfood_predictive"
          ],
          [
           "1297_2years_vircapseqvert_triplicates_deduplication"
          ],
          [
           "1294_afb2_oil_fb2_fb1"
          ],
          [
           "1208_organotin_tbt_tpht_dibutyltin"
          ],
          [
           "1054_oxylipins_fatty_fas_acids"
          ],
          [
           "1204_disinfect_nm_275_ultraviolet"
          ],
          [
           "1011_eggshells_resonator_cracked_duck"
          ],
          [
           "1216_dental_dentist_fear_0001"
          ],
          [
           "1230_gathers_undermining_biotechnologies_boosting"
          ],
          [
           "694_mofs_metalorganic_agrochemicals_frameworks"
          ],
          [
           "1226_opes_remote_ope_bioaccumulationbiomagnification"
          ],
          [
           "1223_rnaibased_silencing_fungicides_sense"
          ],
          [
           "1231_2year_packinghouses_longitudinal_tree"
          ],
          [
           "1232_asd_phobia_undiagnosed_anxiety"
          ],
          [
           "1218_petroleum_hydrocarbon_twoyears_tph"
          ],
          [
           "1236_disaster_waste_already_covid19"
          ],
          [
           "1202_faith_player_fraudulently_multistakeholder"
          ],
          [
           "1222_infants_053_nitrites_children"
          ],
          [
           "972_pef_nonthermal_cp_hhp"
          ],
          [
           "1220_lowwater_activity_salmonella_contamination"
          ],
          [
           "877_blockchain_supply_framework_origins"
          ],
          [
           "1062_deoxynivalenol_don_emerging_produced"
          ],
          [
           "1052_purchasing_traceability_supermarket_concerned"
          ],
          [
           "903_proteins_spiders_expression_montrouzieri"
          ],
          [
           "1039_fellow_plantbased_alternatives_riskbenefit"
          ],
          [
           "1001_fbd_fbds_occursaimto_27711"
          ],
          [
           "1012_abgs_args_coselection_silicon"
          ],
          [
           "1249_hsds_caenorhadbitis_sanitizertolerant_alcoholresistant"
          ],
          [
           "1246_libya_thirtyone_preferable_twentyone"
          ],
          [
           "1245_rtc_readytocook_worry_raising"
          ],
          [
           "1407_pitaya_undatus_extract_cholinergic"
          ],
          [
           "1248_uncommon_pulsenet_subtype_subtyping"
          ],
          [
           "1265_sesame_seeds_emerged_classified"
          ],
          [
           "1247_apples_716_drying_participants"
          ],
          [
           "1250_apdi_endangers_tio_titanium"
          ],
          [
           "1255_carcinogenic___"
          ],
          [
           "1257_porkcooked_slicingpackaging_hams_packager"
          ],
          [
           "1256_chestnut_twentyeight_metalloids_performed"
          ],
          [
           "1259_disinfectant_sds_precooling_bactericidal"
          ],
          [
           "1258_acr_axis_neurotoxicity_microbiotagutbrain"
          ],
          [
           "1261_coliform_functional_3715_lutein"
          ],
          [
           "1254_financially_challenged_comparatively_southeast"
          ],
          [
           "1264_rutinosidase_tartary_buckwheat_alumflavonoid"
          ],
          [
           "1251_smelting_stabilizationsolidification_hydrometallurgy_electrokinetic"
          ],
          [
           "1260_blight_leaf_sclb_nclb"
          ],
          [
           "1253_metabolites_discs_dd_degeneration"
          ],
          [
           "1252_grass_shrimp__"
          ],
          [
           "1262_pyrethroid_cleavage_bond_curing"
          ],
          [
           "1263_qams_precursors_esm_havn"
          ],
          [
           "1288_networks_rdna_phyla_rte"
          ],
          [
           "1287_call_apcc_companion_surveillance"
          ],
          [
           "1269_groupalcl_ewh_omnipresent_al"
          ],
          [
           "1280_cholera_enteric_ingestion_toxins"
          ],
          [
           "1375_pufas_expectant_eaa_brains"
          ],
          [
           "1372_ontologies_cs_datasets_ontology"
          ],
          [
           "1286_preserving_sn_18000_tuna"
          ],
          [
           "1285_gbs_spores_aptamers_counterselections"
          ],
          [
           "1284_ciprofloxacinresistant_cip_fresh_closely"
          ],
          [
           "1283_hhra_grasp_integration_models"
          ],
          [
           "1242_satisfactory_document_continuously_tomatoes"
          ],
          [
           "1036_toxicogenomic_nonlegislated_snvs_immunoassay"
          ],
          [
           "1243_verbascoside_adjuvant_exponentialphase_slowed"
          ],
          [
           "1244_natamycin_polyene_hampering_macrolide"
          ],
          [
           "1266_furan_bread_maillard_monochloropropanediols"
          ],
          [
           "1289_liposomes_biopolymerliposome_encapsulate_amphiphilic"
          ],
          [
           "993_herbal_aflatoxin_herbs_lebanon"
          ],
          [
           "1268_attribution_experts_performancebased_cookes"
          ],
          [
           "1282_iplc_sovereignty_mining_culturallyvalued"
          ],
          [
           "1293_mdm_postpick_postchill_drumstick"
          ],
          [
           "1292_coffee_silverskin_cs_unsustainable"
          ],
          [
           "1291_kernels_like_maize_fungal"
          ],
          [
           "1290_coldsmoked_supporting_salmon_capable"
          ],
          [
           "1278_regulators_pathwayspecific_inhibit_biosynthesis"
          ],
          [
           "1276_baghdad_soft_percentage_cheese"
          ]
         ],
         "hovertemplate": "Count=%{x}<br>dov=%{y}<br>Name=%{customdata[0]}<extra></extra>",
         "legendgroup": "",
         "marker": {
          "color": "#636efa",
          "symbol": "circle"
         },
         "mode": "markers",
         "name": "",
         "showlegend": false,
         "type": "scattergl",
         "x": [
          11,
          13,
          11,
          5,
          15,
          8,
          12,
          4,
          17,
          18,
          17,
          3,
          13,
          10,
          2,
          13,
          8,
          12,
          4,
          3,
          17,
          11,
          10,
          2,
          24,
          23,
          12,
          3,
          4,
          6,
          3,
          2,
          10,
          6,
          2,
          6,
          25,
          11,
          17,
          21,
          1,
          7,
          29,
          3,
          18,
          4,
          4,
          5,
          1,
          12,
          12,
          25,
          6,
          21,
          10,
          17,
          35,
          11,
          10,
          2,
          18,
          6,
          8,
          8,
          14,
          24,
          18,
          9,
          19,
          6,
          7,
          11,
          20,
          8,
          3,
          7,
          7,
          14,
          4,
          19,
          6,
          6,
          9,
          3,
          7,
          15,
          10,
          11,
          6,
          7,
          9,
          3,
          5,
          4,
          11,
          12,
          10,
          16,
          12,
          4,
          14,
          9,
          4,
          7,
          7,
          3,
          7,
          15,
          7,
          4,
          4,
          5,
          14,
          10,
          7,
          12,
          18,
          15,
          6,
          10,
          5,
          10,
          11,
          10,
          6,
          12,
          7,
          32,
          9,
          8,
          9,
          10,
          2,
          8,
          5,
          16,
          12,
          8,
          3,
          2,
          12,
          4,
          8,
          10,
          6,
          2,
          9,
          5,
          7,
          6,
          8,
          20,
          4,
          14,
          7,
          5,
          13,
          19,
          7,
          8,
          5,
          4,
          9,
          6,
          7,
          9,
          6,
          8,
          5,
          8,
          14,
          3,
          4,
          19,
          9,
          12,
          6,
          3,
          5,
          1,
          2,
          8,
          17,
          11,
          3,
          3,
          4,
          5,
          2,
          10,
          5,
          16,
          3,
          6,
          5,
          6,
          9,
          6,
          1,
          18,
          6,
          1,
          6,
          4,
          12,
          15,
          3,
          7,
          6,
          6,
          3,
          7,
          8,
          3,
          1,
          9,
          6,
          14,
          11,
          4,
          10,
          9,
          5,
          4,
          11,
          3,
          5,
          7,
          10,
          11,
          7,
          11,
          3,
          12,
          4,
          1,
          5,
          12,
          2,
          3,
          5,
          11,
          7,
          11,
          7,
          19,
          2,
          6,
          5,
          11,
          4,
          9,
          7,
          3,
          11,
          5,
          11,
          7,
          1,
          8,
          3,
          7,
          2,
          1,
          3,
          9,
          3,
          2,
          1,
          11,
          5,
          3,
          10,
          8,
          5,
          7,
          2,
          3,
          1,
          5,
          7,
          5,
          17,
          4,
          8,
          9,
          11,
          4,
          11,
          4,
          2,
          4,
          2,
          9,
          5,
          20,
          4,
          4,
          5,
          9,
          3,
          2,
          24,
          9,
          2,
          13,
          8,
          8,
          7,
          8,
          5,
          3,
          7,
          6,
          4,
          5,
          5,
          11,
          3,
          11,
          9,
          17,
          4,
          6,
          12,
          13,
          9,
          2,
          9,
          10,
          13,
          4,
          3,
          4,
          8,
          2,
          19,
          4,
          5,
          5,
          5,
          11,
          7,
          5,
          3,
          8,
          5,
          18,
          6,
          4,
          3,
          6,
          14,
          10,
          15,
          7,
          6,
          6,
          10,
          7,
          26,
          5,
          11,
          7,
          5,
          4,
          10,
          7,
          17,
          7,
          3,
          5,
          10,
          4,
          4,
          3,
          6,
          8,
          5,
          22,
          14,
          6,
          2,
          4,
          3,
          8,
          6,
          11,
          7,
          3,
          2,
          7,
          3,
          16,
          5,
          11,
          3,
          4,
          10,
          12,
          4,
          11,
          5,
          4,
          3,
          7,
          3,
          7,
          2,
          6,
          8,
          6,
          3,
          7,
          9,
          3,
          2,
          8,
          14,
          9,
          3,
          10,
          3,
          5,
          4,
          5,
          2,
          1,
          2,
          2,
          6,
          5,
          2,
          1,
          3,
          8,
          5,
          3,
          2,
          1,
          3,
          5,
          8,
          6,
          5,
          1,
          5,
          6,
          3,
          10,
          9,
          2,
          5,
          4,
          1,
          3,
          4,
          3,
          10,
          1,
          3,
          1,
          6,
          1,
          4,
          2,
          7,
          3,
          3,
          7,
          10,
          1,
          1,
          12,
          4,
          1,
          6,
          8,
          7,
          4,
          2,
          1,
          7,
          14,
          6,
          4,
          1,
          3,
          2,
          7,
          7,
          5,
          2,
          1,
          2,
          11,
          3,
          2,
          1,
          4,
          3,
          3,
          3,
          3,
          6,
          4,
          8,
          5,
          2,
          7,
          15,
          1,
          5,
          5,
          2,
          5,
          4,
          3,
          6,
          4,
          2,
          9,
          3,
          5,
          15,
          11,
          2,
          7,
          3,
          4,
          3,
          1,
          11,
          6,
          8,
          4,
          6,
          4,
          11,
          3,
          1,
          1,
          3,
          2,
          5,
          2,
          8,
          11,
          5,
          5,
          13,
          6,
          8,
          4,
          6,
          15,
          3,
          2,
          7,
          6,
          2,
          2,
          13,
          6,
          5,
          11,
          4,
          22,
          7,
          14,
          6,
          11,
          8,
          10,
          6,
          12,
          2,
          6,
          5,
          7,
          13,
          11,
          10,
          4,
          4,
          7,
          20,
          8,
          6,
          8,
          5,
          2,
          1,
          1,
          1,
          3,
          2,
          6,
          11,
          11,
          9,
          2,
          4,
          2,
          2,
          9,
          6,
          1,
          3,
          2,
          4,
          1,
          4,
          3,
          5,
          2,
          4,
          2,
          2,
          1,
          2,
          3,
          11,
          3,
          1,
          8,
          7,
          2,
          1,
          4,
          1,
          3,
          4,
          5,
          9,
          4,
          4,
          6,
          9,
          5,
          3,
          2,
          5,
          7,
          4,
          9,
          5,
          3,
          2,
          1,
          3,
          1,
          3,
          1,
          5,
          3,
          7,
          6,
          6,
          4,
          12,
          7,
          3,
          3,
          3,
          4,
          14,
          1,
          5,
          5,
          1,
          2,
          3,
          13,
          12,
          6,
          5,
          3,
          6,
          4,
          2,
          1,
          7,
          1,
          5,
          8,
          6,
          2,
          2,
          7,
          14,
          11,
          2,
          2,
          2,
          1,
          1,
          3,
          3,
          4,
          13,
          6,
          12,
          12,
          7,
          4,
          8,
          8,
          5,
          7,
          2,
          8,
          7,
          5,
          3,
          10,
          2,
          7,
          5,
          5,
          2,
          4,
          3,
          3,
          5,
          4,
          5,
          7,
          7,
          9,
          13,
          7,
          29,
          4,
          3,
          3,
          4,
          5,
          8,
          5,
          2,
          4,
          10,
          3,
          6,
          1,
          2,
          12,
          11,
          2,
          1,
          2,
          2,
          12,
          2,
          4,
          1,
          11,
          4,
          2,
          4,
          3,
          5,
          2,
          9,
          10,
          4,
          4,
          4,
          4,
          2,
          3,
          6,
          32,
          4,
          5,
          1,
          5,
          4,
          4,
          1,
          2,
          11,
          1,
          3,
          6,
          3,
          11,
          5,
          5,
          3,
          9,
          5,
          8,
          5,
          1,
          3,
          1,
          3,
          1,
          9,
          5,
          3,
          2,
          2,
          6,
          1,
          3,
          13,
          6,
          4,
          24,
          2,
          4,
          6,
          3,
          11,
          4,
          4,
          4,
          4,
          3,
          1,
          10,
          1,
          8,
          3,
          2,
          8,
          5,
          2,
          7,
          4,
          7,
          2,
          7,
          6,
          2,
          2,
          22,
          14,
          8,
          7,
          9,
          5,
          6,
          13,
          9,
          11,
          9,
          12,
          2,
          3,
          3,
          7,
          3,
          3,
          12,
          15,
          3,
          3,
          4,
          5,
          4,
          3,
          2,
          7,
          3,
          8,
          4,
          7,
          5,
          3,
          7,
          4,
          6,
          3,
          11,
          5,
          5,
          5,
          7,
          2,
          2,
          4,
          2,
          4,
          5,
          4,
          2,
          7,
          2,
          6,
          2,
          1,
          4,
          5,
          7,
          2,
          1,
          6,
          3,
          5,
          1,
          3,
          8,
          14,
          5,
          4,
          2,
          10,
          2,
          4,
          4,
          3,
          1,
          10,
          6,
          1,
          2,
          3,
          1,
          6,
          6,
          1,
          2,
          2,
          4,
          4,
          1,
          2,
          3,
          3,
          2,
          3,
          4,
          2,
          3,
          2,
          3,
          6,
          2,
          3,
          5,
          5,
          1,
          13,
          2,
          2,
          5,
          2,
          1,
          1,
          5,
          4,
          6,
          5,
          2,
          2,
          4,
          3,
          7,
          4,
          10,
          1,
          3,
          17,
          2,
          2,
          1,
          7,
          2,
          2,
          7,
          3,
          1,
          4,
          4,
          2,
          3,
          2,
          1,
          4,
          1,
          4,
          4,
          3,
          1,
          2,
          3,
          2,
          4,
          3,
          3,
          7,
          13,
          14,
          4,
          9,
          6,
          3,
          2,
          5,
          7,
          5,
          4,
          8,
          3,
          8,
          3,
          8,
          6,
          2,
          6,
          2,
          5,
          2,
          8,
          12,
          3,
          3,
          14,
          6,
          6,
          3,
          2,
          2,
          2,
          2,
          4,
          3,
          3,
          4,
          2,
          5,
          2,
          3,
          4,
          3,
          1,
          8,
          6,
          2,
          2,
          2,
          2,
          2,
          1,
          6,
          2,
          2,
          7,
          1,
          1,
          1,
          2,
          5,
          3,
          16,
          2,
          1,
          3,
          1,
          2,
          2,
          1,
          3,
          3,
          3,
          2,
          2,
          1,
          3,
          4,
          4,
          2,
          3,
          3,
          2,
          1,
          1,
          3,
          5,
          10,
          13,
          2,
          12,
          7,
          2,
          8,
          1,
          3,
          2,
          2,
          9,
          2,
          1,
          3,
          4,
          2,
          16,
          8,
          5,
          6,
          6,
          7,
          3,
          8,
          2,
          4,
          3,
          6,
          2,
          4,
          4,
          3,
          5,
          3,
          4,
          4,
          3,
          6,
          2,
          3,
          2,
          4,
          2,
          5,
          2,
          6,
          3,
          3,
          1,
          3,
          2,
          4,
          1,
          1,
          3,
          4,
          4,
          1,
          1,
          1,
          3,
          2,
          2,
          4,
          2,
          2,
          2,
          1,
          1,
          3,
          3,
          3,
          2,
          1,
          1,
          2,
          7,
          2,
          2,
          4,
          1,
          1,
          1,
          6,
          2,
          1,
          5,
          4,
          3,
          2,
          2,
          2,
          1,
          2,
          3,
          1,
          2,
          2,
          2,
          4,
          2,
          1,
          12,
          4,
          1,
          1,
          8,
          5,
          5,
          4,
          6,
          3,
          3,
          8,
          4,
          5,
          4,
          3,
          2,
          3,
          6,
          2,
          4,
          4,
          4,
          3,
          2,
          2,
          5,
          5,
          2,
          4,
          3,
          2,
          2,
          3,
          3,
          5,
          4,
          2,
          8,
          1,
          1,
          1,
          1,
          1,
          2,
          3,
          1,
          2,
          3,
          2,
          3,
          2,
          3,
          1,
          3,
          4,
          1,
          5,
          3,
          2,
          2,
          2,
          4,
          2,
          2,
          1,
          2,
          2,
          1,
          2,
          4,
          4,
          2,
          3,
          1,
          3,
          1,
          1,
          2,
          1,
          1,
          5,
          1,
          4,
          1,
          1,
          4,
          2,
          2,
          1,
          1,
          1,
          1,
          3,
          1,
          2,
          1,
          3,
          5,
          13,
          6,
          3,
          7,
          3,
          2,
          2,
          2,
          2,
          2,
          3,
          3,
          2,
          2,
          3,
          2,
          3,
          2,
          3,
          2,
          2,
          3,
          3,
          3,
          1,
          2,
          1,
          1,
          2,
          1,
          1,
          1,
          1,
          3,
          1,
          1,
          2,
          1,
          2,
          1,
          1,
          1,
          1,
          1,
          2,
          2,
          1,
          3,
          1,
          2,
          1,
          1,
          1,
          2,
          1,
          2,
          1,
          1,
          4,
          1,
          1,
          1,
          1,
          1,
          1,
          1,
          1,
          2,
          1,
          3,
          2,
          2,
          3,
          2,
          2,
          2,
          1,
          1,
          1,
          1,
          1,
          1,
          1,
          1,
          1,
          1,
          1,
          1,
          1,
          1,
          1,
          1,
          1,
          1,
          1,
          1,
          1,
          1,
          1,
          1,
          1,
          1,
          1,
          1,
          1,
          1,
          1,
          1,
          1,
          2,
          1,
          1,
          1,
          1,
          2,
          1,
          1,
          1,
          1,
          1,
          1,
          1,
          1
         ],
         "xaxis": "x",
         "y": [
          0.0033920775366969914,
          0.006757558197063295,
          0.002868029530131911,
          0.0042690673085096645,
          0.0036931120200313283,
          0.0020899231743534284,
          0.002625247001137074,
          0.0043966345874823865,
          0.0034550371810001153,
          0.003928030698665181,
          0.003020030076414474,
          0.00828741930164745,
          0.002495438517080316,
          0.0037733899612465865,
          0.005860090386731194,
          0.0032273888497819573,
          0.0030769838620419306,
          0.003587289063211816,
          0.003107259732550871,
          0.003113047743459519,
          0.003997705847498636,
          0.0023223072713690735,
          0.0034738892853492377,
          0.003962766405926509,
          0.0034218331481484687,
          0.003126395676533901,
          0.003383061053597298,
          0.003725748340326609,
          0.005038347444040164,
          0.0031861418717398743,
          0.0034896111846446564,
          0.005394148150026289,
          0.0024127312510365696,
          0.004122843785995711,
          0.005399177659883502,
          0.0040027869532865724,
          0.0042855843230389145,
          0.003374192578067885,
          0.004347491212616739,
          0.0037438777540362623,
          0.015625000000000007,
          0.0033240262495426473,
          0.00541045127590372,
          0.003167792056542041,
          0.0033995906370369805,
          0.0019117301273626772,
          0.0035666793257044267,
          0.0037600746726517745,
          0.015625000000000007,
          0.002929079052393699,
          0.0034269865444055275,
          0.0033081389635226228,
          0.0024527772760171217,
          0.003783396004444655,
          0.002791522811426757,
          0.0033039282403614216,
          0.006299867032019911,
          0.0029286587511605676,
          0.002441020901650983,
          0.005860090386731194,
          0.0044171216199521005,
          0.005159504869210633,
          0.002024888519401323,
          0.005202989030495729,
          0.0034115563101636084,
          0.0032838303565359177,
          0.002542550585151579,
          0.002820456916220552,
          0.0028031312379438226,
          0.002146411230978358,
          0.0030678876457481126,
          0.0022720471339332015,
          0.003399828793488193,
          0.002936982882433732,
          0.006593406593406591,
          0.0018448779012577962,
          0.0018854280413482195,
          0.00258466643242145,
          0.003653351462661365,
          0.004337665558900815,
          0.001875931667354271,
          0.002913291853584858,
          0.0026680907998111185,
          0.0019374515548565912,
          0.0017835358581576078,
          0.003655357082110964,
          0.002885923144858554,
          0.002779074865076794,
          0.0027972580124866493,
          0.002549758388787195,
          0.001943390543439332,
          0.002863695945698703,
          0.0025422014304713743,
          0.004046105051977332,
          0.0030559079686695327,
          0.005973732445105194,
          0.0030116030381783336,
          0.0024409870484350957,
          0.002576096004839716,
          0.00231150716155413,
          0.002561037160680307,
          0.002290389133150726,
          0.0015520629449245346,
          0.0017796631980242685,
          0.0022506057301396832,
          0.0029829489781903126,
          0.0019330849799043817,
          0.003101743719661452,
          0.0023918367794613458,
          0.0017621621259595135,
          0.005064865550604929,
          0.0027584168818836595,
          0.002524652757548528,
          0.0017821225588454735,
          0.001697657123342491,
          0.0025906049067374246,
          0.0044556779430667826,
          0.0030193418151492845,
          0.002993619561507553,
          0.0020372621172402264,
          0.002021044820433417,
          0.0017074175030255274,
          0.0018741489262077296,
          0.0023123003052440794,
          0.0022260921040172317,
          0.002201003170113952,
          0.0017266005482877134,
          0.00443347322271157,
          0.0027971928607271167,
          0.0020624507812970947,
          0.002815487596311282,
          0.002123325839400238,
          0.0043956043956043965,
          0.0018325217275421862,
          0.0024105101802509624,
          0.0032245186907015983,
          0.001953144468722665,
          0.002821771508475014,
          0.002373897691724492,
          0.0043956043956043965,
          0.0018918492646396146,
          0.0029724376729896008,
          0.0021020446746224278,
          0.0019542263576459067,
          0.0021382648575418444,
          0.0043956043956043965,
          0.0017640340032141696,
          0.0022458304733203815,
          0.00291174291495199,
          0.0023485183162146187,
          0.002649183653009363,
          0.0034871757896695783,
          0.001777174587632338,
          0.002195957784474057,
          0.0022454229655646516,
          0.0025449948513671353,
          0.0020546874838385004,
          0.003166128663061259,
          0.002169990868504464,
          0.001584449107120531,
          0.0019326481117952392,
          0.0016606532271361708,
          0.00205013354027511,
          0.0022530978687829604,
          0.0020108574409739128,
          0.0019106884087717255,
          0.0017047582180422362,
          0.001495581815615858,
          0.0019748606332625615,
          0.0023148668284919765,
          0.0021190474967268456,
          0.0019374515548565912,
          0.0016643958022772873,
          0.003064291080268473,
          0.0023897255847706786,
          0.002194837122889367,
          0.0036768807060449846,
          0.0025313211140654793,
          0.0018761315563255183,
          0.0021978021978021982,
          0.0016785991556614792,
          0.0015955378769373781,
          0.0021142986524787933,
          0.002851163134766082,
          0.0014883175527606938,
          0.001414784543915857,
          0.0013797241198821634,
          0.0023053513210606093,
          0.001369985132659516,
          0.0020239208390308437,
          0.0015266733167076454,
          0.0022351487812602836,
          0.0025729139390889915,
          0.0013950930208171902,
          0.0015438945564659246,
          0.0017635732550549028,
          0.0023172798566009397,
          0.0017011765084676202,
          0.0021978021978021982,
          0.0030190568981456403,
          0.0019943667429552134,
          0.0021978021978021982,
          0.0018445072949801408,
          0.0022851080093858997,
          0.002918158951874906,
          0.0024827490446412614,
          0.003272967235130034,
          0.001984115468547286,
          0.001652965876127578,
          0.001966380532623677,
          0.0015974485088393433,
          0.002357940989922122,
          0.0016616078355280645,
          0.001235576223599498,
          0.0021978021978021982,
          0.002694785231325884,
          0.0016981155952729115,
          0.002040149244740684,
          0.0019067783285354625,
          0.0015740848222964123,
          0.0022108994013878194,
          0.0016167643399725327,
          0.0018021114974428284,
          0.0013978817005790773,
          0.0020934946886520664,
          0.0020234654323708083,
          0.0013262981384907595,
          0.0020277436495088163,
          0.0015827842784007257,
          0.002109664040832511,
          0.0029410475500233515,
          0.0022131017965927305,
          0.0020234654323708083,
          0.0028630076430308194,
          0.0017321396559862603,
          0.0021978021978021982,
          0.0020165002811515405,
          0.001982326050068029,
          0.002109263450411853,
          0.0015603963285176921,
          0.0023760374205648335,
          0.0018009607609962683,
          0.0021348646111839604,
          0.0019083396269145853,
          0.0015998155479344284,
          0.002820942134116722,
          0.001369985132659516,
          0.0018170148126377933,
          0.0016407777401047353,
          0.0018843591496756997,
          0.004123680315156548,
          0.0019164132571147972,
          0.0024023211776447026,
          0.002092389071729829,
          0.0020786133502596234,
          0.0012851150954454255,
          0.0019437159332597314,
          0.0017803267564481132,
          0.0021978021978021982,
          0.002203404065583622,
          0.0014883175527606938,
          0.001727619889818778,
          0.001479542501500789,
          0.0021978021978021982,
          0.0013400233576656949,
          0.0017099450543563328,
          0.0015603963285176921,
          0.0016785991556614792,
          0.0021978021978021982,
          0.0027371405290984438,
          0.0017647200939187857,
          0.0016189818266914868,
          0.003469653651869088,
          0.0018647516808673902,
          0.002189918039233102,
          0.0017120245619112202,
          0.0016785991556614792,
          0.0025729139390889915,
          0.0021978021978021982,
          0.0018172119968279973,
          0.0019865775466248355,
          0.003787971878879604,
          0.003031517044446536,
          0.001782516827945507,
          0.0017219838728850772,
          0.002278758462246354,
          0.0017172283549496676,
          0.0012959382302770047,
          0.0016825347874684995,
          0.0013491676915226322,
          0.002109263450411853,
          0.0015473408557942023,
          0.001479542501500789,
          0.0024343309851197568,
          0.002310845076615357,
          0.0032072052021787857,
          0.0014227034380862238,
          0.0012442305147056178,
          0.001531364682597283,
          0.0017909307135023182,
          0.0018852307938176276,
          0.0018193248937392176,
          0.0031506902498463995,
          0.0023881076538561697,
          0.0016785991556614792,
          0.002468162756134179,
          0.0019380435880431137,
          0.0019624813528432614,
          0.001984115468547286,
          0.001756790190330823,
          0.001349235379275065,
          0.0019374515548565912,
          0.0017835358581576078,
          0.001961354997128739,
          0.0013696542815864196,
          0.002017172083273914,
          0.0025422014304713743,
          0.002240710782949724,
          0.0019374515548565912,
          0.002240710782949724,
          0.0018674383315732787,
          0.0028523015756080367,
          0.001423366548701156,
          0.0021872537401014334,
          0.002269781271427067,
          0.002960664188574795,
          0.0021248257065121655,
          0.0020230525259886654,
          0.0015532905423925514,
          0.0016423921822215106,
          0.002470983348864418,
          0.002286528213610663,
          0.0025313211140654793,
          0.0027291613879902275,
          0.0026003741812744073,
          0.0020230525259886654,
          0.0030324882698939313,
          0.0021289990516152033,
          0.0022169112749846507,
          0.001961354997128739,
          0.0014829824282129919,
          0.00252263943635729,
          0.0015014180997085247,
          0.001292668192580041,
          0.0028610283196463192,
          0.0019938975253449044,
          0.0023047477248285494,
          0.002597179899534542,
          0.001976903259552097,
          0.0012442305147056178,
          0.0016022504871489153,
          0.001552079443563688,
          0.0023728708049256773,
          0.002055562726760088,
          0.00343659859216472,
          0.0034628697182060636,
          0.0020340293486753743,
          0.002432688079729401,
          0.002926692821212526,
          0.002228257732136768,
          0.003630788438942442,
          0.002031179909603447,
          0.0020368111238059463,
          0.003029995497764837,
          0.002248358944832005,
          0.0021842132482646753,
          0.0022144814601986846,
          0.0031556835875107634,
          0.003046812297229723,
          0.002322369185133788,
          0.0017834026492251488,
          0.0015614210291377735,
          0.001814288645530648,
          0.0020729974722420897,
          0.0016856869002014128,
          0.0019260209135959197,
          0.0014765110714273183,
          0.0018692102177625487,
          0.002405593984461014,
          0.0031796648413646407,
          0.0029426639833890437,
          0.002052452665870692,
          0.0037243947858472994,
          0.0027238048974215713,
          0.0023683387198495712,
          0.0019482680390921084,
          0.002013458151317911,
          0.0022703168863812723,
          0.0019517464203666667,
          0.0021851464733652626,
          0.0037243947858472994,
          0.0015716679158123456,
          0.0023683387198495712,
          0.002703454779491263,
          0.0021251487832484642,
          0.0016910494330347034,
          0.0019260209135959197,
          0.0019641224519203583,
          0.002040329249508342,
          0.0026497169225524653,
          0.0019056906469861101,
          0.002196956386233715,
          0.002401019760725579,
          0.0018104144544828448,
          0.002745771421676565,
          0.0017222934148398976,
          0.0021851464733652626,
          0.0019794247745608486,
          0.0016475962670121514,
          0.0015885211600021366,
          0.0013039773709630405,
          0.0018157297070130714,
          0.001512547668875854,
          0.0013534635257739828,
          0.002841610869510313,
          0.0015170944327045127,
          0.001368047940960947,
          0.0015744133758564922,
          0.0027782048296075734,
          0.0019968935652940624,
          0.001338759843086608,
          0.0019166609149009464,
          0.0012680160154107606,
          0.001594913728419652,
          0.0022233178177115975,
          0.001725900089208594,
          0.0012610561068531563,
          0.0018621973929236495,
          0.0013619024487107854,
          0.0019415535918557263,
          0.002801204919141173,
          0.0014326852838971906,
          0.0016746683689522987,
          0.0018621973929236495,
          0.0011691814406236448,
          0.001672117366346574,
          0.002037285697561417,
          0.002745771421676565,
          0.0012610561068531563,
          0.0018621973929236495,
          0.002745771421676565,
          0.001283541870747007,
          0.0015109805818464175,
          0.0017421351685954756,
          0.0019296298031461333,
          0.0018621973929236495,
          0.0020152700818489686,
          0.0016920094402710956,
          0.001338759843086608,
          0.0016884438130601509,
          0.0020439012208582044,
          0.0018639337078863263,
          0.001828795553369082,
          0.0022233178177115975,
          0.0018621973929236495,
          0.0011656773793280735,
          0.0016674707830162923,
          0.001476547049444941,
          0.0017504485208008635,
          0.0018621973929236495,
          0.0013347475517627545,
          0.0018621973929236495,
          0.001727835905684128,
          0.0018621973929236495,
          0.0015962854369361975,
          0.0013619024487107854,
          0.0027101752101244105,
          0.0012307116365035302,
          0.0014083414905580514,
          0.0014786632656854282,
          0.001582800049389259,
          0.0018621973929236495,
          0.0018621973929236495,
          0.0022068185751289424,
          0.0015976000694198375,
          0.0018621973929236495,
          0.0015489874703828056,
          0.0016775946673748788,
          0.0014605210886032677,
          0.0017328455015076954,
          0.0016746683689522987,
          0.0018621973929236495,
          0.002694339579038728,
          0.002498941629436013,
          0.0018305863015701774,
          0.001545528084786215,
          0.0018621973929236495,
          0.001512547668875854,
          0.00543679030095569,
          0.0016404441361345078,
          0.001757987646835746,
          0.002012849956775565,
          0.0018639337078863263,
          0.0018621973929236495,
          0.0013619024487107854,
          0.0020472319045104362,
          0.0013931224640439312,
          0.001368047940960947,
          0.0018621973929236495,
          0.0019582359357438223,
          0.0011691814406236448,
          0.0013347475517627545,
          0.0013379305793343671,
          0.0012307116365035302,
          0.0018305863015701774,
          0.0014686614676017314,
          0.0021141981404345393,
          0.0018983139991797528,
          0.0015451318892024451,
          0.0014796262236247716,
          0.0026144419280239558,
          0.0018621973929236495,
          0.0016255549501972915,
          0.0014301074648011018,
          0.0012610561068531563,
          0.0019762854866246246,
          0.0019301793986766058,
          0.0016453391840822549,
          0.0016355810511638749,
          0.0015329849535978112,
          0.0013619024487107854,
          0.002465830684311921,
          0.0014083414905580514,
          0.0016239906768622501,
          0.002569716859802616,
          0.0017669131810668472,
          0.0015451318892024451,
          0.0015218627350719112,
          0.0015319844039732957,
          0.0011232540842958313,
          0.0013379305793343671,
          0.0018621973929236495,
          0.00224448401423955,
          0.002734210704341892,
          0.0018082866057508868,
          0.001338141498826731,
          0.002989779713589498,
          0.0024629241574859167,
          0.0031194738135120683,
          0.0023683387198495712,
          0.0018621973929236495,
          0.0018621973929236495,
          0.0015319844039732957,
          0.0012610561068531563,
          0.002952891886349515,
          0.0012610561068531563,
          0.0023411217288932013,
          0.0021070903901716804,
          0.00197934727149866,
          0.004207751591014205,
          0.003972111209762698,
          0.002168978584769599,
          0.0018197180097352203,
          0.0019653431622730913,
          0.0018975667822089513,
          0.0022503302556104213,
          0.002429346513755128,
          0.004048582995951416,
          0.0023676599003061775,
          0.002493821292413144,
          0.004048582995951416,
          0.004048582995951416,
          0.003334409747628588,
          0.0015090259709536404,
          0.0016582322829890648,
          0.0021215164398787354,
          0.001514633960978906,
          0.0033188708195779444,
          0.0019076986515419283,
          0.0022711737638709275,
          0.0020994755415695617,
          0.002932830943305653,
          0.002054575546697176,
          0.0020477951063359386,
          0.0021779332464881025,
          0.003313026358997285,
          0.004048582995951416,
          0.0019703580510751426,
          0.0021785535635955528,
          0.0020685920779162197,
          0.001891080581053767,
          0.002194343332792321,
          0.0034147147281078476,
          0.0022246996190727307,
          0.0015943441933408279,
          0.002573564782842087,
          0.0030761571229900217,
          0.0020799067724760947,
          0.0016452523837828022,
          0.0016778608880248353,
          0.001479148693476365,
          0.0016109765703526753,
          0.0020242914979757077,
          0.0020242914979757077,
          0.0020242914979757077,
          0.002429346513755126,
          0.0014199389393946733,
          0.002369141141466046,
          0.001683848714215666,
          0.0020540348520430582,
          0.0017197755560828417,
          0.0019433638986283532,
          0.0016426707209634163,
          0.0017460331537687943,
          0.0013147951034064892,
          0.002039575754364046,
          0.0017521951336242486,
          0.0020242914979757077,
          0.0024692637664128964,
          0.0014263463173651105,
          0.001221657929221444,
          0.0020242914979757077,
          0.0014845533923791363,
          0.0015598939016354056,
          0.0015943433633848897,
          0.0016109765703526753,
          0.001984632603054554,
          0.0017178073937281493,
          0.0016109765703526753,
          0.0020242914979757077,
          0.0019433638986283532,
          0.0015581817409142718,
          0.001982886510707217,
          0.0014524258294446746,
          0.0020242914979757077,
          0.0021989534766298164,
          0.003110437733801694,
          0.005668475198761964,
          0.0020242914979757077,
          0.001963185974939732,
          0.0020242914979757077,
          0.0013765282305217717,
          0.0013944015824234872,
          0.0016073885390204125,
          0.0017450328942004312,
          0.0016426707209634163,
          0.0016426707209634163,
          0.0016990956709923158,
          0.002386063907005414,
          0.003886727797256707,
          0.001575203940929594,
          0.0017460331537687943,
          0.001416043770201518,
          0.002116977737796817,
          0.001714512590323997,
          0.0019613465968715787,
          0.0020947605284199634,
          0.001575203940929594,
          0.0014263463173651105,
          0.0020242914979757077,
          0.001432424501103342,
          0.0020242914979757077,
          0.0017657452578146513,
          0.0020242914979757077,
          0.0012641508894042793,
          0.001198562855475434,
          0.0017512841149952031,
          0.0024160213180095032,
          0.0018377571735573583,
          0.0011469377325351842,
          0.0029472933359355954,
          0.002121606008327007,
          0.001575203940929594,
          0.001198562855475434,
          0.0020171583066586583,
          0.0017291191093103256,
          0.0038524220346267536,
          0.0020242914979757077,
          0.002629590206812979,
          0.0018372957153480912,
          0.0020242914979757077,
          0.0017178073937281493,
          0.0018594010669791931,
          0.001923472936236427,
          0.0022217739147399438,
          0.0015750609784803602,
          0.0016957885158257948,
          0.0012021657715023384,
          0.0021851023611941856,
          0.0014819037139715263,
          0.0017460331537687943,
          0.0020242914979757077,
          0.0015747918752733842,
          0.0020242914979757077,
          0.0022430137425217193,
          0.0018798403407002961,
          0.0013481342920751407,
          0.0014199389393946733,
          0.0016109765703526753,
          0.0015474796629715696,
          0.0019893969253397524,
          0.0017087842020278537,
          0.0014199389393946733,
          0.0017460331537687943,
          0.0014263463173651105,
          0.0020242914979757077,
          0.0020242914979757077,
          0.0012654318248543094,
          0.0015581817409142718,
          0.0013406776189539046,
          0.0028905521308830303,
          0.0015717838192640568,
          0.003333644096955517,
          0.002778018515839478,
          0.0020103718193957426,
          0.0023717378920352287,
          0.002545316785579608,
          0.0015196834662679337,
          0.0024333850741556484,
          0.0027963573325782975,
          0.0037313432835820903,
          0.0016613403061698148,
          0.001950336737302366,
          0.0015621487949047492,
          0.0023705469615599227,
          0.0016679190105664185,
          0.0037313432835820903,
          0.0019301583248005354,
          0.0018515475280172957,
          0.0015400509297312389,
          0.0037313432835820903,
          0.002738647020827551,
          0.0019278167376817084,
          0.0019278167376817084,
          0.001693898886521969,
          0.0017615947331716371,
          0.0019548471375362415,
          0.001572253921909559,
          0.0021602851089080524,
          0.0021139906579311753,
          0.0022994113964436096,
          0.0016399748014362563,
          0.004324391838774208,
          0.001598592984572539,
          0.0017850654958793725,
          0.0021871839064170765,
          0.0015515632012810272,
          0.0014699084232391495,
          0.0022475552479570764,
          0.0018515475280172957,
          0.0037313432835820903,
          0.0019313790132791944,
          0.002101634767172123,
          0.0021871839064170765,
          0.001571783819264054,
          0.001865671641791045,
          0.0016491324876414652,
          0.005153360461617321,
          0.002362101918862511,
          0.0015465725719295965,
          0.001865671641791045,
          0.0012622319169984313,
          0.001676229831640187,
          0.0028810493137470727,
          0.0015465725719295965,
          0.0014695742468718877,
          0.001865671641791045,
          0.001841531889223584,
          0.0012461542092575208,
          0.0013693235104137752,
          0.0016867345616893867,
          0.0011664018527149057,
          0.0015621487949047492,
          0.0016491324876414652,
          0.0016611037659257184,
          0.0020931576227821444,
          0.0011969889960638297,
          0.0016827217057917986,
          0.001780839098001884,
          0.0015515632012810272,
          0.001676229831640187,
          0.0015999792059677024,
          0.001816576004006764,
          0.009786968735552893,
          0.0012461542092575208,
          0.002539808674680376,
          0.001865671641791045,
          0.0025244638339968627,
          0.0016877800178985998,
          0.001780839098001884,
          0.001865671641791045,
          0.0015465725719295965,
          0.0017673837306493368,
          0.001865671641791045,
          0.0012688040926897152,
          0.0016267210756139745,
          0.0015163710949043297,
          0.0022885069412839263,
          0.001191545658099631,
          0.0021021872463069997,
          0.0021871839064170765,
          0.0016259293911629036,
          0.0011838031225686807,
          0.001448538410373733,
          0.0016270685542358655,
          0.001865671641791045,
          0.0013939882955061296,
          0.001865671641791045,
          0.0017850654958793725,
          0.001865671641791045,
          0.0024529424658220294,
          0.0014699084232391495,
          0.001339591887951571,
          0.0015465725719295965,
          0.0013631722880996647,
          0.0016927980722448248,
          0.001865671641791045,
          0.0011699080917992866,
          0.0021721597578665095,
          0.0014770615977069185,
          0.0016877800178985998,
          0.0035862509380649716,
          0.0016491324876414652,
          0.002361083662458536,
          0.0016230632161968843,
          0.0013355771029718113,
          0.0016679190105664185,
          0.0013675604423747988,
          0.001368196114628984,
          0.0014211905976365341,
          0.0015985929845725375,
          0.0015999792059677024,
          0.001865671641791045,
          0.002241015117994392,
          0.001865671641791045,
          0.0016613403061698148,
          0.003089728479728572,
          0.0016491324876414652,
          0.0018373935595465205,
          0.0016270685542358655,
          0.0013631722880996647,
          0.0026775242176168535,
          0.0016877800178985998,
          0.001930570619670744,
          0.001676229831640187,
          0.0018691765011149665,
          0.0018577184615936534,
          0.0015465725719295965,
          0.0013693235104137752,
          0.0045639448572433565,
          0.0027361995378239155,
          0.0032324475206342374,
          0.0024595491604848807,
          0.002094573660635061,
          0.0016358624432341044,
          0.0019580136703907887,
          0.0023610508196532363,
          0.0023733810449267333,
          0.0018739672774339623,
          0.0032229211479872333,
          0.002103457148693265,
          0.0029154518950437304,
          0.0015778818929768558,
          0.002095409460174492,
          0.002824748688228437,
          0.0015778818929768558,
          0.0017040647138088206,
          0.002582692886393348,
          0.0027085134674515285,
          0.0017117541900282087,
          0.0019333284355741664,
          0.0014290574734051084,
          0.0013907966019537563,
          0.002409911429429861,
          0.002095409460174492,
          0.0029154518950437304,
          0.0018303912651339693,
          0.0017117541900282087,
          0.001966463367112672,
          0.002420785990986863,
          0.002675481039172812,
          0.0019585713501903525,
          0.0015778818929768558,
          0.0017769002385483713,
          0.0015545191108234716,
          0.0013028212163126052,
          0.002095409460174492,
          0.0024382880995541425,
          0.001855074942821823,
          0.0017104824921400125,
          0.0015387829701049426,
          0.0019668834169854175,
          0.0029154518950437304,
          0.0029154518950437304,
          0.0015545191108234716,
          0.0029154518950437304,
          0.0014290574734051084,
          0.003348623078132108,
          0.0016353147825158311,
          0.0013670696470552723,
          0.0012993363395730026,
          0.0014816782386518261,
          0.0014941890408587976,
          0.0014816782386518261,
          0.0014577259475218663,
          0.0035962296435797683,
          0.0016358624432341044,
          0.0016232420330118246,
          0.001115730986435402,
          0.0014577259475218663,
          0.0016539452145650153,
          0.0017040647138088206,
          0.0017053561402418304,
          0.0014577259475218663,
          0.0015778818929768571,
          0.002729105187433643,
          0.002572225701382704,
          0.002231461972870804,
          0.0014290574734051084,
          0.001115730986435402,
          0.0019121304394016157,
          0.004810250212153385,
          0.0012968732440766272,
          0.0014723739578576063,
          0.0010743070493290784,
          0.0014577259475218663,
          0.002248364747070624,
          0.0023585320424008085,
          0.0014577259475218663,
          0.001115730986435402,
          0.0012330583730812137,
          0.0014577259475218663,
          0.0015879530810455772,
          0.0017608772178989258,
          0.0014577259475218663,
          0.0012103929954934323,
          0.0014816782386518261,
          0.0013535420655001553,
          0.0016353147825158311,
          0.0014577259475218663,
          0.0012103929954934323,
          0.0017117541900282087,
          0.001933328435574168,
          0.0012103929954934323,
          0.0012330583730812137,
          0.0011228523918133978,
          0.0012103929954934323,
          0.0027034985849087242,
          0.0012049557147149315,
          0.0012301248435995296,
          0.0015391694533628683,
          0.0012049557147149315,
          0.001933328435574168,
          0.0013907966019537563,
          0.00113417174373508,
          0.0014577259475218663,
          0.0031371401730958767,
          0.0012049557147149315,
          0.0014816782386518261,
          0.0019573581585673144,
          0.0012049557147149315,
          0.0014577259475218663,
          0.0014577259475218663,
          0.002409911429429863,
          0.0013535420655001553,
          0.0014941890408587976,
          0.0011929071599837417,
          0.001115730986435402,
          0.0012049557147149315,
          0.0011228523918133978,
          0.0011342436683031425,
          0.0014491238921649167,
          0.0013535420655001553,
          0.001957708469180259,
          0.0014577259475218663,
          0.002095409460174492,
          0.0026677511914941156,
          0.0012103929954934323,
          0.001115730986435402,
          0.0014577259475218663,
          0.0017573589641255577,
          0.001115730986435402,
          0.0012103929954934323,
          0.0017573589641255594,
          0.0010743070493290784,
          0.0014577259475218663,
          0.0014290574734051084,
          0.001357610853698122,
          0.0012049557147149315,
          0.001933328435574168,
          0.001115730986435402,
          0.0014577259475218663,
          0.0020964621653201112,
          0.0014577259475218663,
          0.0012451282216132322,
          0.001778884424834011,
          0.0010775364486619214,
          0.0014577259475218663,
          0.0012049557147149315,
          0.0017040647138088206,
          0.0012103929954934323,
          0.001357610853698122,
          0.0014119015036556763,
          0.0017117541900282087,
          0.002155072897323845,
          0.002103457148693265,
          0.004022825281216857,
          0.0013535420655001553,
          0.0019608433266674746,
          0.001261535620610041,
          0.0012301248435995296,
          0.0013670696470552723,
          0.0024605625833690045,
          0.0039285124679211475,
          0.00277906467975915,
          0.006024096385542172,
          0.0024864182583942958,
          0.0045180722891566254,
          0.0019825532888910927,
          0.0045180722891566254,
          0.0019825532888910944,
          0.0014932057348125188,
          0.0030120481927710854,
          0.002146729006107945,
          0.0030120481927710854,
          0.001266738752737733,
          0.0030120481927710854,
          0.0021117118015851473,
          0.002397579261112923,
          0.0017398804882341127,
          0.001603808499094779,
          0.002754095353215421,
          0.0016045539846560111,
          0.0016674780622006264,
          0.0019650954804137175,
          0.0030120481927710854,
          0.0030120481927710854,
          0.0030120481927710854,
          0.0030120481927710854,
          0.0024495093389362765,
          0.0019650954804137175,
          0.001603808499094779,
          0.003624620574755807,
          0.0012302812916845022,
          0.0013492636937783029,
          0.001134063865434537,
          0.0017320646641416167,
          0.0014884587593604747,
          0.0017398804882341127,
          0.0015060240963855427,
          0.0015818124008717648,
          0.001401876874638584,
          0.001134063865434537,
          0.0012302812916845022,
          0.001224754669468138,
          0.001224754669468138,
          0.0012302812916845022,
          0.0015060240963855427,
          0.0015064147376053828,
          0.001134063865434537,
          0.001134063865434537,
          0.0013770476766077106,
          0.0015060240963855427,
          0.0015060240963855427,
          0.0015060240963855427,
          0.001134063865434537,
          0.0013492636937783016,
          0.0011466345993999467,
          0.002539573114175002,
          0.004889288740407147,
          0.0015060240963855427,
          0.0010893078874301357,
          0.0015060240963855427,
          0.001389532339879575,
          0.001224754669468138,
          0.0015060240963855427,
          0.0010860432088484534,
          0.0017398804882341127,
          0.0012435632189711206,
          0.001224754669468138,
          0.0012302812916845022,
          0.0015060240963855427,
          0.0017320646641416167,
          0.001566791476456743,
          0.001368328699923541,
          0.001224754669468138,
          0.001603808499094779,
          0.0028768632566764747,
          0.0012302812916845022,
          0.0015060240963855427,
          0.0015060240963855427,
          0.0017398804882341127,
          0.0019740335619837196,
          0.0019246365205097267,
          0.00283934944843645,
          0.0012302812916845022,
          0.0036099383691425616,
          0.0016671219536779824,
          0.001389532339879575,
          0.0018449737240708983,
          0.0015060240963855427,
          0.0010893078874301357,
          0.001224754669468138,
          0.001224754669468138,
          0.0018170253027953067,
          0.001134063865434537,
          0.0015060240963855427,
          0.0019650954804137175,
          0.001368328699923541,
          0.001389532339879575,
          0.0036836236075128044,
          0.002705614860022202,
          0.002563007495692978,
          0.001974694658336552,
          0.0013465678487564858,
          0.0016013480665751218,
          0.003846153846153847,
          0.0020463406092725484,
          0.0025641025641025637,
          0.001369176804757623,
          0.0016052998167353722,
          0.0018703462501114447,
          0.0025641025641025637,
          0.0012968256594542034,
          0.001369176804757623,
          0.0016052998167353722,
          0.0012167614061329604,
          0.0016052998167353722,
          0.002260038502343892,
          0.002270236772502205,
          0.0016052998167353722,
          0.001974694658336552,
          0.0011300192511719458,
          0.0010323852883771171,
          0.0010463434285627252,
          0.0013007239564281196,
          0.0010463434285627252,
          0.0016388094928063294,
          0.0011300192511719458,
          0.0018703462501114447,
          0.0010292912080184775,
          0.0010292912080184775,
          0.0012820512820512818,
          0.0014797530675733684,
          0.0011300192511719458,
          0.0010231703046362749,
          0.0012820512820512818,
          0.0012820512820512818,
          0.0016052998167353722,
          0.0012968256594542034,
          0.0013007239564281185,
          0.0012820512820512818,
          0.0012820512820512818,
          0.0012820512820512818,
          0.0015980885507500548,
          0.0011351183862511026,
          0.0011300192511719458,
          0.0012968256594542034,
          0.0011351183862511026,
          0.0010463434285627252,
          0.0011300192511719458,
          0.0012820512820512818,
          0.0012820512820512818,
          0.0016052998167353722,
          0.0015980885507500548,
          0.0010323852883771171,
          0.0010463434285627252,
          0.0012820512820512818,
          0.0012820512820512818,
          0.0011300192511719458,
          0.0017600632078373995,
          0.0011351183862511026,
          0.0011351183862511026,
          0.0013007239564281196,
          0.0012820512820512818,
          0.0012820512820512818,
          0.0012820512820512818,
          0.001633897946390152,
          0.0011300192511719458,
          0.0012820512820512818,
          0.0014889572385535885,
          0.0012968256594542034,
          0.0010323852883771171,
          0.0011300192511719458,
          0.0010463434285627252,
          0.0011300192511719458,
          0.0012820512820512818,
          0.0010463434285627252,
          0.0010323852883771171,
          0.0012820512820512818,
          0.0011351183862511026,
          0.0010463434285627252,
          0.0011351183862511026,
          0.0012968256594542034,
          0.0011300192511719458,
          0.0012820512820512818,
          0.0026500316180108744,
          0.001369176804757623,
          0.0012820512820512818,
          0.0012820512820512818,
          0.003209228461239309,
          0.0050251256281407045,
          0.0050251256281407045,
          0.004020100502512563,
          0.0017245634886259302,
          0.003015075376884423,
          0.003015075376884423,
          0.0021728138411999487,
          0.0017329348298152692,
          0.002450739939033465,
          0.0016046142306196558,
          0.003015075376884423,
          0.0020100502512562816,
          0.0014149353635147374,
          0.004339871877408953,
          0.0020100502512562816,
          0.0018528489159875242,
          0.0011957455381722522,
          0.0020010207809638488,
          0.0013101620330089221,
          0.0020100502512562816,
          0.0020100502512562816,
          0.0015065449738610951,
          0.003990747186225794,
          0.0020100502512562816,
          0.0011957455381722522,
          0.0014149353635147374,
          0.0020100502512562816,
          0.0020100502512562816,
          0.0014149353635147374,
          0.0014149353635147374,
          0.002269267207319185,
          0.0018528489159875242,
          0.0020100502512562816,
          0.003465869659630536,
          0.0010050251256281408,
          0.0010050251256281408,
          0.0010050251256281408,
          0.0010050251256281408,
          0.0010050251256281408,
          0.0010005103904819244,
          0.0009490638625904565,
          0.0010050251256281408,
          0.0010005103904819244,
          0.0009490638625904565,
          0.0010005103904819244,
          0.0013101620330089221,
          0.0010005103904819244,
          0.0014149353635147374,
          0.0010050251256281408,
          0.0009490638625904565,
          0.0011957455381722522,
          0.0010050251256281408,
          0.0013687869480153766,
          0.0013101620330089221,
          0.0010005103904819244,
          0.0010005103904819244,
          0.0009264244579937621,
          0.0011957455381722522,
          0.0010005103904819244,
          0.0010005103904819244,
          0.0010050251256281408,
          0.0009264244579937621,
          0.0009264244579937621,
          0.0010050251256281408,
          0.00399409311006582,
          0.0011957455381722522,
          0.0017329348298152677,
          0.00399409311006582,
          0.0014149353635147374,
          0.0010050251256281408,
          0.0014149353635147374,
          0.0010050251256281408,
          0.0010050251256281408,
          0.0010005103904819244,
          0.0010050251256281408,
          0.0010050251256281408,
          0.0015065449738610951,
          0.0010050251256281408,
          0.0011957455381722522,
          0.0010050251256281408,
          0.0010050251256281408,
          0.0011957455381722522,
          0.0010005103904819244,
          0.0010005103904819244,
          0.0010050251256281408,
          0.0010050251256281408,
          0.0010050251256281408,
          0.0010050251256281408,
          0.0013101620330089221,
          0.0010050251256281408,
          0.0009264244579937621,
          0.0010050251256281408,
          0.0009490638625904565,
          0.004269854824935954,
          0.005832902160078758,
          0.002062242335694675,
          0.0025619128949615727,
          0.003194812088795745,
          0.0025619128949615727,
          0.0017079419299743813,
          0.0017079419299743813,
          0.0017079419299743813,
          0.0017079419299743813,
          0.0017079419299743813,
          0.0013042765736041466,
          0.0013042765736041466,
          0.0017079419299743813,
          0.0017079419299743813,
          0.0013042765736041466,
          0.0017079419299743813,
          0.0013042765736041466,
          0.0017079419299743813,
          0.0013042765736041466,
          0.0017079419299743813,
          0.0017079419299743813,
          0.0013042765736041466,
          0.005206744603365209,
          0.0013042765736041466,
          0.0008539709649871905,
          0.0009222628097382464,
          0.0008539709649871905,
          0.0008539709649871905,
          0.0009222628097382464,
          0.0008539709649871905,
          0.0008539709649871905,
          0.0008539709649871905,
          0.0008539709649871905,
          0.0013042765736041466,
          0.0008539709649871905,
          0.0008539709649871905,
          0.0009222628097382464,
          0.0008539709649871905,
          0.0009222628097382464,
          0.0008539709649871905,
          0.0008539709649871905,
          0.0008539709649871905,
          0.0008539709649871905,
          0.0008539709649871905,
          0.0009222628097382464,
          0.0009222628097382464,
          0.0008539709649871905,
          0.0013042765736041466,
          0.0008539709649871905,
          0.0009222628097382464,
          0.0008539709649871905,
          0.0008539709649871905,
          0.0008539709649871905,
          0.0009222628097382464,
          0.0008539709649871905,
          0.0009222628097382464,
          0.0008539709649871905,
          0.0008539709649871905,
          0.0015974060443978725,
          0.0008539709649871905,
          0.0008539709649871905,
          0.0008539709649871905,
          0.0008539709649871905,
          0.0008539709649871905,
          0.0008539709649871905,
          0.0008539709649871905,
          0.0008539709649871905,
          0.0009222628097382464,
          0.0008539709649871905,
          0.0029880478087649393,
          0.001992031872509961,
          0.001992031872509961,
          0.005623126668669675,
          0.001992031872509961,
          0.001992031872509961,
          0.001992031872509961,
          0.0009960159362549803,
          0.0009960159362549803,
          0.0009960159362549803,
          0.0009960159362549803,
          0.0009960159362549803,
          0.0009960159362549803,
          0.0009960159362549803,
          0.0009960159362549803,
          0.0009960159362549803,
          0.0009960159362549803,
          0.0009960159362549803,
          0.0009960159362549803,
          0.0009960159362549803,
          0.0009960159362549803,
          0.0009960159362549803,
          0.0009960159362549803,
          0.0009960159362549803,
          0.0009960159362549803,
          0.0009960159362549803,
          0.0009960159362549803,
          0.0009960159362549803,
          0.0009960159362549803,
          0.0009960159362549803,
          0.0009960159362549803,
          0.0009960159362549803,
          0.0009960159362549803,
          0.0009960159362549803,
          0.0009960159362549803,
          0.0009960159362549803,
          0.0009960159362549803,
          0.0009960159362549803,
          0.0009960159362549803,
          0.0009960159362549803,
          0.003976150998887251,
          0.0009960159362549803,
          0.0009960159362549803,
          0.0009960159362549803,
          0.0009960159362549803,
          0.003976150998887251,
          0.0009960159362549803,
          0.0009960159362549803,
          0.0009960159362549803,
          0.0009960159362549803,
          0.0009960159362549803,
          0.0009960159362549803,
          0.015873015873015876,
          0.015873015873015876
         ],
         "yaxis": "y"
        }
       ],
       "layout": {
        "autosize": true,
        "legend": {
         "tracegroupgap": 0
        },
        "margin": {
         "t": 60
        },
        "template": {
         "data": {
          "bar": [
           {
            "error_x": {
             "color": "#2a3f5f"
            },
            "error_y": {
             "color": "#2a3f5f"
            },
            "marker": {
             "line": {
              "color": "#E5ECF6",
              "width": 0.5
             },
             "pattern": {
              "fillmode": "overlay",
              "size": 10,
              "solidity": 0.2
             }
            },
            "type": "bar"
           }
          ],
          "barpolar": [
           {
            "marker": {
             "line": {
              "color": "#E5ECF6",
              "width": 0.5
             },
             "pattern": {
              "fillmode": "overlay",
              "size": 10,
              "solidity": 0.2
             }
            },
            "type": "barpolar"
           }
          ],
          "carpet": [
           {
            "aaxis": {
             "endlinecolor": "#2a3f5f",
             "gridcolor": "white",
             "linecolor": "white",
             "minorgridcolor": "white",
             "startlinecolor": "#2a3f5f"
            },
            "baxis": {
             "endlinecolor": "#2a3f5f",
             "gridcolor": "white",
             "linecolor": "white",
             "minorgridcolor": "white",
             "startlinecolor": "#2a3f5f"
            },
            "type": "carpet"
           }
          ],
          "choropleth": [
           {
            "colorbar": {
             "outlinewidth": 0,
             "ticks": ""
            },
            "type": "choropleth"
           }
          ],
          "contour": [
           {
            "colorbar": {
             "outlinewidth": 0,
             "ticks": ""
            },
            "colorscale": [
             [
              0,
              "#0d0887"
             ],
             [
              0.1111111111111111,
              "#46039f"
             ],
             [
              0.2222222222222222,
              "#7201a8"
             ],
             [
              0.3333333333333333,
              "#9c179e"
             ],
             [
              0.4444444444444444,
              "#bd3786"
             ],
             [
              0.5555555555555556,
              "#d8576b"
             ],
             [
              0.6666666666666666,
              "#ed7953"
             ],
             [
              0.7777777777777778,
              "#fb9f3a"
             ],
             [
              0.8888888888888888,
              "#fdca26"
             ],
             [
              1,
              "#f0f921"
             ]
            ],
            "type": "contour"
           }
          ],
          "contourcarpet": [
           {
            "colorbar": {
             "outlinewidth": 0,
             "ticks": ""
            },
            "type": "contourcarpet"
           }
          ],
          "heatmap": [
           {
            "colorbar": {
             "outlinewidth": 0,
             "ticks": ""
            },
            "colorscale": [
             [
              0,
              "#0d0887"
             ],
             [
              0.1111111111111111,
              "#46039f"
             ],
             [
              0.2222222222222222,
              "#7201a8"
             ],
             [
              0.3333333333333333,
              "#9c179e"
             ],
             [
              0.4444444444444444,
              "#bd3786"
             ],
             [
              0.5555555555555556,
              "#d8576b"
             ],
             [
              0.6666666666666666,
              "#ed7953"
             ],
             [
              0.7777777777777778,
              "#fb9f3a"
             ],
             [
              0.8888888888888888,
              "#fdca26"
             ],
             [
              1,
              "#f0f921"
             ]
            ],
            "type": "heatmap"
           }
          ],
          "heatmapgl": [
           {
            "colorbar": {
             "outlinewidth": 0,
             "ticks": ""
            },
            "colorscale": [
             [
              0,
              "#0d0887"
             ],
             [
              0.1111111111111111,
              "#46039f"
             ],
             [
              0.2222222222222222,
              "#7201a8"
             ],
             [
              0.3333333333333333,
              "#9c179e"
             ],
             [
              0.4444444444444444,
              "#bd3786"
             ],
             [
              0.5555555555555556,
              "#d8576b"
             ],
             [
              0.6666666666666666,
              "#ed7953"
             ],
             [
              0.7777777777777778,
              "#fb9f3a"
             ],
             [
              0.8888888888888888,
              "#fdca26"
             ],
             [
              1,
              "#f0f921"
             ]
            ],
            "type": "heatmapgl"
           }
          ],
          "histogram": [
           {
            "marker": {
             "pattern": {
              "fillmode": "overlay",
              "size": 10,
              "solidity": 0.2
             }
            },
            "type": "histogram"
           }
          ],
          "histogram2d": [
           {
            "colorbar": {
             "outlinewidth": 0,
             "ticks": ""
            },
            "colorscale": [
             [
              0,
              "#0d0887"
             ],
             [
              0.1111111111111111,
              "#46039f"
             ],
             [
              0.2222222222222222,
              "#7201a8"
             ],
             [
              0.3333333333333333,
              "#9c179e"
             ],
             [
              0.4444444444444444,
              "#bd3786"
             ],
             [
              0.5555555555555556,
              "#d8576b"
             ],
             [
              0.6666666666666666,
              "#ed7953"
             ],
             [
              0.7777777777777778,
              "#fb9f3a"
             ],
             [
              0.8888888888888888,
              "#fdca26"
             ],
             [
              1,
              "#f0f921"
             ]
            ],
            "type": "histogram2d"
           }
          ],
          "histogram2dcontour": [
           {
            "colorbar": {
             "outlinewidth": 0,
             "ticks": ""
            },
            "colorscale": [
             [
              0,
              "#0d0887"
             ],
             [
              0.1111111111111111,
              "#46039f"
             ],
             [
              0.2222222222222222,
              "#7201a8"
             ],
             [
              0.3333333333333333,
              "#9c179e"
             ],
             [
              0.4444444444444444,
              "#bd3786"
             ],
             [
              0.5555555555555556,
              "#d8576b"
             ],
             [
              0.6666666666666666,
              "#ed7953"
             ],
             [
              0.7777777777777778,
              "#fb9f3a"
             ],
             [
              0.8888888888888888,
              "#fdca26"
             ],
             [
              1,
              "#f0f921"
             ]
            ],
            "type": "histogram2dcontour"
           }
          ],
          "mesh3d": [
           {
            "colorbar": {
             "outlinewidth": 0,
             "ticks": ""
            },
            "type": "mesh3d"
           }
          ],
          "parcoords": [
           {
            "line": {
             "colorbar": {
              "outlinewidth": 0,
              "ticks": ""
             }
            },
            "type": "parcoords"
           }
          ],
          "pie": [
           {
            "automargin": true,
            "type": "pie"
           }
          ],
          "scatter": [
           {
            "fillpattern": {
             "fillmode": "overlay",
             "size": 10,
             "solidity": 0.2
            },
            "type": "scatter"
           }
          ],
          "scatter3d": [
           {
            "line": {
             "colorbar": {
              "outlinewidth": 0,
              "ticks": ""
             }
            },
            "marker": {
             "colorbar": {
              "outlinewidth": 0,
              "ticks": ""
             }
            },
            "type": "scatter3d"
           }
          ],
          "scattercarpet": [
           {
            "marker": {
             "colorbar": {
              "outlinewidth": 0,
              "ticks": ""
             }
            },
            "type": "scattercarpet"
           }
          ],
          "scattergeo": [
           {
            "marker": {
             "colorbar": {
              "outlinewidth": 0,
              "ticks": ""
             }
            },
            "type": "scattergeo"
           }
          ],
          "scattergl": [
           {
            "marker": {
             "colorbar": {
              "outlinewidth": 0,
              "ticks": ""
             }
            },
            "type": "scattergl"
           }
          ],
          "scattermapbox": [
           {
            "marker": {
             "colorbar": {
              "outlinewidth": 0,
              "ticks": ""
             }
            },
            "type": "scattermapbox"
           }
          ],
          "scatterpolar": [
           {
            "marker": {
             "colorbar": {
              "outlinewidth": 0,
              "ticks": ""
             }
            },
            "type": "scatterpolar"
           }
          ],
          "scatterpolargl": [
           {
            "marker": {
             "colorbar": {
              "outlinewidth": 0,
              "ticks": ""
             }
            },
            "type": "scatterpolargl"
           }
          ],
          "scatterternary": [
           {
            "marker": {
             "colorbar": {
              "outlinewidth": 0,
              "ticks": ""
             }
            },
            "type": "scatterternary"
           }
          ],
          "surface": [
           {
            "colorbar": {
             "outlinewidth": 0,
             "ticks": ""
            },
            "colorscale": [
             [
              0,
              "#0d0887"
             ],
             [
              0.1111111111111111,
              "#46039f"
             ],
             [
              0.2222222222222222,
              "#7201a8"
             ],
             [
              0.3333333333333333,
              "#9c179e"
             ],
             [
              0.4444444444444444,
              "#bd3786"
             ],
             [
              0.5555555555555556,
              "#d8576b"
             ],
             [
              0.6666666666666666,
              "#ed7953"
             ],
             [
              0.7777777777777778,
              "#fb9f3a"
             ],
             [
              0.8888888888888888,
              "#fdca26"
             ],
             [
              1,
              "#f0f921"
             ]
            ],
            "type": "surface"
           }
          ],
          "table": [
           {
            "cells": {
             "fill": {
              "color": "#EBF0F8"
             },
             "line": {
              "color": "white"
             }
            },
            "header": {
             "fill": {
              "color": "#C8D4E3"
             },
             "line": {
              "color": "white"
             }
            },
            "type": "table"
           }
          ]
         },
         "layout": {
          "annotationdefaults": {
           "arrowcolor": "#2a3f5f",
           "arrowhead": 0,
           "arrowwidth": 1
          },
          "autotypenumbers": "strict",
          "coloraxis": {
           "colorbar": {
            "outlinewidth": 0,
            "ticks": ""
           }
          },
          "colorscale": {
           "diverging": [
            [
             0,
             "#8e0152"
            ],
            [
             0.1,
             "#c51b7d"
            ],
            [
             0.2,
             "#de77ae"
            ],
            [
             0.3,
             "#f1b6da"
            ],
            [
             0.4,
             "#fde0ef"
            ],
            [
             0.5,
             "#f7f7f7"
            ],
            [
             0.6,
             "#e6f5d0"
            ],
            [
             0.7,
             "#b8e186"
            ],
            [
             0.8,
             "#7fbc41"
            ],
            [
             0.9,
             "#4d9221"
            ],
            [
             1,
             "#276419"
            ]
           ],
           "sequential": [
            [
             0,
             "#0d0887"
            ],
            [
             0.1111111111111111,
             "#46039f"
            ],
            [
             0.2222222222222222,
             "#7201a8"
            ],
            [
             0.3333333333333333,
             "#9c179e"
            ],
            [
             0.4444444444444444,
             "#bd3786"
            ],
            [
             0.5555555555555556,
             "#d8576b"
            ],
            [
             0.6666666666666666,
             "#ed7953"
            ],
            [
             0.7777777777777778,
             "#fb9f3a"
            ],
            [
             0.8888888888888888,
             "#fdca26"
            ],
            [
             1,
             "#f0f921"
            ]
           ],
           "sequentialminus": [
            [
             0,
             "#0d0887"
            ],
            [
             0.1111111111111111,
             "#46039f"
            ],
            [
             0.2222222222222222,
             "#7201a8"
            ],
            [
             0.3333333333333333,
             "#9c179e"
            ],
            [
             0.4444444444444444,
             "#bd3786"
            ],
            [
             0.5555555555555556,
             "#d8576b"
            ],
            [
             0.6666666666666666,
             "#ed7953"
            ],
            [
             0.7777777777777778,
             "#fb9f3a"
            ],
            [
             0.8888888888888888,
             "#fdca26"
            ],
            [
             1,
             "#f0f921"
            ]
           ]
          },
          "colorway": [
           "#636efa",
           "#EF553B",
           "#00cc96",
           "#ab63fa",
           "#FFA15A",
           "#19d3f3",
           "#FF6692",
           "#B6E880",
           "#FF97FF",
           "#FECB52"
          ],
          "font": {
           "color": "#2a3f5f"
          },
          "geo": {
           "bgcolor": "white",
           "lakecolor": "white",
           "landcolor": "#E5ECF6",
           "showlakes": true,
           "showland": true,
           "subunitcolor": "white"
          },
          "hoverlabel": {
           "align": "left"
          },
          "hovermode": "closest",
          "mapbox": {
           "style": "light"
          },
          "paper_bgcolor": "white",
          "plot_bgcolor": "#E5ECF6",
          "polar": {
           "angularaxis": {
            "gridcolor": "white",
            "linecolor": "white",
            "ticks": ""
           },
           "bgcolor": "#E5ECF6",
           "radialaxis": {
            "gridcolor": "white",
            "linecolor": "white",
            "ticks": ""
           }
          },
          "scene": {
           "xaxis": {
            "backgroundcolor": "#E5ECF6",
            "gridcolor": "white",
            "gridwidth": 2,
            "linecolor": "white",
            "showbackground": true,
            "ticks": "",
            "zerolinecolor": "white"
           },
           "yaxis": {
            "backgroundcolor": "#E5ECF6",
            "gridcolor": "white",
            "gridwidth": 2,
            "linecolor": "white",
            "showbackground": true,
            "ticks": "",
            "zerolinecolor": "white"
           },
           "zaxis": {
            "backgroundcolor": "#E5ECF6",
            "gridcolor": "white",
            "gridwidth": 2,
            "linecolor": "white",
            "showbackground": true,
            "ticks": "",
            "zerolinecolor": "white"
           }
          },
          "shapedefaults": {
           "line": {
            "color": "#2a3f5f"
           }
          },
          "ternary": {
           "aaxis": {
            "gridcolor": "white",
            "linecolor": "white",
            "ticks": ""
           },
           "baxis": {
            "gridcolor": "white",
            "linecolor": "white",
            "ticks": ""
           },
           "bgcolor": "#E5ECF6",
           "caxis": {
            "gridcolor": "white",
            "linecolor": "white",
            "ticks": ""
           }
          },
          "title": {
           "x": 0.05
          },
          "xaxis": {
           "automargin": true,
           "gridcolor": "white",
           "linecolor": "white",
           "ticks": "",
           "title": {
            "standoff": 15
           },
           "zerolinecolor": "white",
           "zerolinewidth": 2
          },
          "yaxis": {
           "automargin": true,
           "gridcolor": "white",
           "linecolor": "white",
           "ticks": "",
           "title": {
            "standoff": 15
           },
           "zerolinecolor": "white",
           "zerolinewidth": 2
          }
         }
        },
        "xaxis": {
         "anchor": "y",
         "autorange": true,
         "domain": [
          0,
          1
         ],
         "range": [
          -0.9375515251442705,
          36.93755152514427
         ],
         "title": {
          "text": "Count"
         },
         "type": "linear"
        },
        "yaxis": {
         "anchor": "x",
         "autorange": true,
         "domain": [
          0,
          1
         ],
         "range": [
          -0.000308920963587209,
          0.017035907801590276
         ],
         "title": {
          "text": "dov"
         },
         "type": "linear"
        }
       }
      },
      "image/png": "[encoded data removed]",
      "text/html": [
       "<div>                            <div id=\"55bf0e35-2c9f-49af-a31c-3a9aa0f8d3c8\" class=\"plotly-graph-div\" style=\"height:525px; width:100%;\"></div>            <script type=\"text/javascript\">                require([\"plotly\"], function(Plotly) {                    window.PLOTLYENV=window.PLOTLYENV || {};                                    if (document.getElementById(\"55bf0e35-2c9f-49af-a31c-3a9aa0f8d3c8\")) {                    Plotly.newPlot(                        \"55bf0e35-2c9f-49af-a31c-3a9aa0f8d3c8\",                        [{\"customdata\":[[\"164_responsibility_labelling_cues_perceived\"],[\"85_radium_dose_clothing_sudoqu\"],[\"146_furazolidone_coccidiostats_residues_residue\"],[\"582_foragers_social_collective_colony\"],[\"51_eels_dabs_bde47_polybrominated\"],[\"267_network_software_supply_tracing\"],[\"100_aas_aa_aristolochic_aai\"],[\"700_pregnancy_hypospadias_glucose_discourses\"],[\"36_methylation_mehg_methylmercury_mercury\"],[\"28_insects_edible_insect_asaia\"],[\"42_toxaphene_teq_pg_bw\"],[\"924_microscopically_bioinformaticsenabled_librarybased_strainlevel\"],[\"83_mehg_thg_wetlands_songbirds\"],[\"181_true_estimation_fitting_zeroes\"],[\"1119_brucella_brucellosis_bioterrorism_patents\"],[\"86_stec_stechus_mericon_shiga\"],[\"262_cruzi_triatomines_oral_chagas\"],[\"109_mycotoxins_nanosemiconductors_microcantilever_mycotoxin\"],[\"674_ferrier_size_continuum_trim\"],[\"856_meals_canteen_older_kitchens\"],[\"35_fusarium_bea_ens_graminearum\"],[\"132_magnetic_mnps_separation_capture\"],[\"196_shell_egg_eggs_hens\"],[\"1130_crosssectoral_zoonotic_zoonoses_collaboration\"],[\"10_shellfish_oa_lsts_dtx1\"],[\"12_campylobacter_jejuni_caecal_poultry\"],[\"104_arsenic_bangladesh_groundwater_fluoride\"],[\"797_chicken_breasts_canadian_thigh\"],[\"678_pgamended_peppers_ferralsols_moderately\"],[\"448_mel_afm1_atrazine_multiclass\"],[\"955_antecedents_handwashing_healthcare_soap\"],[\"1142_shigellosis_goth_safora_institutional\"],[\"204_afm1_afm_ngl_nonexposed\"],[\"482_afb1_aflatoxin_indonesia_cancer\"],[\"1120_ftir_tracking_scatter_scatterbased\"],[\"442_lenses_device_maude_sentinel\"],[\"6_wgs_listeriosis_monocytogenes_isolates\"],[\"143_parahaemolyticus_parahaeomolyticus_cholerae_peeled\"],[\"37_listeria_3m_monocytogenes_mds\"],[\"17_allergens_allergen_allergy_allergies\"],[\"1234_noncancer_razan_hamedan_kaboudarahang\"],[\"387_parasiticus_halophilic_flavus_flavi\"],[\"4_phage_phages_bacteriophages_disinfectants\"],[\"879_fugacity_sqc_sediment_eqp\"],[\"31_gondii_toxocara_toxoplasmosis_toxoplasma\"],[\"704_aflatoxins_nonalcoholic_afg2_liquidliquid\"],[\"692_sfh_tianjin_coal_soilricehuman\"],[\"581_cultured_analogues_cellcultured_hydrolysates\"],[\"1214_infantis_ground_0102_20003000\"],[\"107_allergens_allergen_cookies_inclusions\"],[\"99_mrsa_mcsacon_methicillinresistant_aureus\"],[\"7_mineral_hydrocarbons_moah_mosh\"],[\"454_pmf_ri_coal_irrigations\"],[\"16_cryptosporidium_oocysts_cryptosporidiosis_duodenalis\"],[\"200_hydroponic_o157h7_survival_greens\"],[\"38_mercury_squamosissimus_prolactin_bft\"],[\"0_pfos_pfass_pfas_pfoa\"],[\"174_stec_o104h4_flour_eaec\"],[\"190_boards_hong_cutting_wooden\"],[\"1113_ffr_sm_breathing_inhaled\"],[\"34_microalgae_spacecraft_vulgaris_algal\"],[\"453_sanguineus_sachet_salivary_am\"],[\"277_verticillioides_hap_fumonisin_hap3\"],[\"263_bin_bins_game_recyclable\"],[\"68_patulin_penitrems_expansum_apple\"],[\"9_radioactive_japan_accident_fukushima\"],[\"32_disgust_stimuli_disgusting_pictures\"],[\"232_akwesasne_mohawk_adolescents_nation\"],[\"27_dioxins_pcbs_pcddfs_dioxin\"],[\"416_arcobacter_butzleri_cryaerophilus_genusspecific\"],[\"397_o157_stec_hyphae_coculturing\"],[\"131_birds_feathers_egret_nestlings\"],[\"20_cronobacter_sakazakii_pif_powdered\"],[\"302_dioxin_mothers_breast_residency\"],[\"847_buttonwood_site_stem_cadmium\"],[\"334_abdominal_evisceration_perforation_eviscerated\"],[\"336_mercury_zooplankton_virginia_thg\"],[\"66_pesticide_pesticides_multiresidue_uvmaldiorbitrapms\"],[\"727_snail_intestines_aspersum_snails\"],[\"26_botulinum_botulism_neurotoxin_neurotoxins\"],[\"432_menus_kitchen_homes_hygiene\"],[\"434_haccp_lactose_aircraft_inflight\"],[\"234_milling_fractions_maize_flours\"],[\"926_uncertainties_wildlife_soilassociated_sitespecific\"],[\"364_compounding_errors_compounded_pharmacies\"],[\"55_difficile_ribotype_078_ribotypes\"],[\"211_mnv1_transfer_norovirus_hnov\"],[\"139_pharmaceutical_smt_pharmaceuticals_sulphonamides\"],[\"436_cereals_cleanup_metabolites_turbulent\"],[\"360_cns_aureus_staph_herds\"],[\"224_biofilms_biofilm_attached_dsb\"],[\"916_plasticisers_deet_boxford_ecs\"],[\"600_ocps_men_betahch_macronutrient\"],[\"690_sfr_bottles_asepticuht_1011\"],[\"152_hev_hepatitis_piglet_igg\"],[\"108_allergen_labeling_precautionary_pal\"],[\"212_pcr_monoazide_amplification_nucleic\"],[\"47_africa_mycotoxins_african_maize\"],[\"112_berry_berries_frozen_hadv\"],[\"742_irish_hog_pfge_monocytogenes\"],[\"67_vibrio_parahaemolyticus_vp_tdh\"],[\"249_tm_carabids_invertebrate_invertebrates\"],[\"760_chromium_cr3_rrs_ions\"],[\"383_opes_dehp_ope_sml\"],[\"375_milk_peer_purchase_infants\"],[\"857_utis_xochimilco_uti_enterococci\"],[\"365_scott_lbra_glycerol_biofilm\"],[\"57_reconstruction_monocytogenes_lsx_iso\"],[\"396_naclo_multispecies_loweredshelf_meatquality\"],[\"660_fairs_outdoor_flocks_owners\"],[\"656_timetemperature_git_options_simulated\"],[\"607_osnramp1_ip_nramp_arabidopsis\"],[\"76_radioactivity_bqkg_cesium_ir\"],[\"202_media_news_messages_crisis\"],[\"361_bde209_cpf_apoptosis_hepg2\"],[\"111_mehg_tidal_creek_impervious\"],[\"30_packaging_films_film_composites\"],[\"56_cdsnps_cadmium_ricegrass_serg\"],[\"473_phones_sfms_mobile_disinfecting\"],[\"209_smcs_hhcb_ahtn_bsaf\"],[\"599_perfringens_clostridium_cpe_outbreaks\"],[\"208_bioremediation_biosorption_aluminum_metal\"],[\"135_endotoxin_antibody_ripa_lipopolysaccharides\"],[\"206_hcc_hccs_aflatoxinassociated_hbv\"],[\"455_hbcds_coelutions_isomers_pcbs\"],[\"102_listeriosis_faflp_monocytogenes_rtemp\"],[\"381_sows_vaccination_piglets_pigs\"],[\"1_nov_oysters_shellfish_asari\"],[\"245_infertility_pubertal_edcs_fertility\"],[\"297_cockle_ecdysis_cladoceran_porpoises\"],[\"237_aluminum_pn_al_bone\"],[\"205_films_lactase_xg_pvpcmcbcgg\"],[\"1126_russian_siberia_20002011_regions\"],[\"275_fcm_ctcs_tumor_epcam\"],[\"522_hf_dmfu_mold_sensitizing\"],[\"45_hev_pig_rna_virus\"],[\"113_mdr_enteritidis_serotypes_resistance\"],[\"276_mangrove_hg_asgm_estuary\"],[\"913_ks_cs_sulfate_immunodiffusion\"],[\"1107_drainage_channel_vojvodina_channels\"],[\"126_mlva_locus_agr_staphylococcal\"],[\"643_nitrite_criminal_sugar_exceeding\"],[\"257_mlst_mlva_lm_ests\"],[\"207_leafy_greens_producerelated_seed\"],[\"491_childrens_p0001_irrs_preintervention\"],[\"1122_pahs_substituted_petroleum_media\"],[\"231_urban_gardening_ua_gardens\"],[\"528_kg1_hotspots_mg_soilrice\"],[\"352_horse_oranienburg_mills_garden\"],[\"460_biofilm_malic_wd_sodium\"],[\"287_melamine_melaminecontaminated_illegal_gut\"],[\"21_ozone_wastewater_rci_rendering\"],[\"717_cacao_snp_oolong_spirits\"],[\"64_chernobyl_accident_fukushima_accidents\"],[\"331_eagles_organochlorine_eggshell_thickness\"],[\"499_breastfeeding_bm_breast_milk\"],[\"80_tritium_rip_evapotranspiration_mk\"],[\"22_crayfish_razor_oysters_adductor\"],[\"363_viruses_fomites_enteric_virus\"],[\"282_hadar_wgs_sausage_denmark\"],[\"608_fa_ltam_ahr_dehp\"],[\"669_vbnc_microsnap_device_sets\"],[\"214_condemnation_feral_lung_pneumonia\"],[\"445_maritime_board_seafarers_crew\"],[\"370_cutting_packaging_intelligent_responsive\"],[\"247_lactic_plantarum_acid_lactobacillus\"],[\"441_scco2_supercritical_ocular_sterilization\"],[\"283_atrazine_herbicides_biosolids_herbicide\"],[\"612_foodpathogen_fonao_melons_timeline\"],[\"305_mobas_multiplexing_raman_sers\"],[\"75_137cs_radiocesium_ayu_fukushima\"],[\"785_bacillus_probiotic_34b_hemolysis\"],[\"667_arsenic_richness_organoarsenicals_arsenictolerant\"],[\"23_peanut_nut_tree_oit\"],[\"248_fasciata_gulio_dhaleswari_nandus\"],[\"103_fbdos_china_outbreaks_deaths\"],[\"475_ratio_sex_net_minamata\"],[\"839_mcs_fluminea_zooplanktonic_rubescens\"],[\"603_visualonly_mrsa_pyaemia_embolic\"],[\"1237_dairies_mslp_end_22000\"],[\"1112_recalled_microbialcontaminated_10432_fisheryseafood\"],[\"290_barbata_aurata_caerulea_estuary\"],[\"43_stec_ehec_nono157_cattle\"],[\"147_novs_fresh_nov_viruses\"],[\"838_zea_masked_cereal_viz\"],[\"823_fla_se_pdas_cnpomp\"],[\"707_afl_pasta_cooking_brazilian\"],[\"613_nephropathy_feedstuffsfoods_mycotoxic_nephrotoxic\"],[\"1111_benzophenone_octocrylene_mgkg_bwday\"],[\"192_zno_initiator_norrish_nanoparticles\"],[\"605_pcb_lions_seals_ringed\"],[\"49_bpa_bps_bisphenol_canned\"],[\"820_tailings_amendments_thickened_topsoil\"],[\"433_aiv1_ovine_evs_opyv\"],[\"602_ont_clavata_mst_eukaryotes\"],[\"435_pb_lettuce_subsystems_accumulative\"],[\"223_diets_canine_afr_label\"],[\"450_fecl3_sludge_mustard_pond\"],[\"1229_community_biofilm_monocytogenes_settles\"],[\"29_irrigation_leachate_cowpats_transport\"],[\"484_carbon_biosensors_nanomaterials_sclerotigenum\"],[\"1228_pcrsscp_primer_heat_dna\"],[\"480_decorporation_c2e2_uranium_241am\"],[\"713_pagc_imbs_phagebased_01mg\"],[\"106_pahs_pah_smoking_polycyclic\"],[\"60_trophic_pulex_trace_mn\"],[\"810_tomato_serovars_reclaim_newport\"],[\"359_supplements_colors_marketplace_adds\"],[\"451_abattoir_stec_beef_hus\"],[\"449_vitamin_woil_fortification_arich\"],[\"773_pgpfs_phytoremediation_nitce_w619tce\"],[\"390_viruses_viral_rtqpcr_astrovirus\"],[\"308_verticillioides_fusarium_kernel_kernels\"],[\"772_salsa_guacamole_sga_chowder\"],[\"1224_mpd_indigenous_alfalfa_predictions\"],[\"219_pathology_hpop_pathologists_disciplines\"],[\"438_lm_po_rr_listeriosis\"],[\"73_ims_ffps_inks_pigment\"],[\"136_delis_deli_slicers_slicer\"],[\"705_attribution_hald_dutch_attributions\"],[\"195_peanuts_pecans_per_shelled\"],[\"215_lamp_microfluidic_nucleic_amplification\"],[\"576_sponges_dishcloths_flp_kitchen\"],[\"687_vibrio_mussels_depuration_vibrios\"],[\"142_lead_sauces_hot_historical\"],[\"866_maleic_alkylphenols_longchain_toxicogenomics\"],[\"579_biofilm_juice_agona_contact\"],[\"379_agentbased_abm_corrective_ls\"],[\"199_lateral_internalization_subtilis_arabidopsis\"],[\"137_phenanthrene_acropetal_bioremediation_paes\"],[\"392_listeriosis_incubation_days_bacteraemia\"],[\"149_subtypes_monocytogenes_listeria_isolates\"],[\"798_lowaw_homogenization_innermatrix_fastprep24\"],[\"110_norovirus_nov_fhs_premises\"],[\"680_lgvs_preharvested_chives_vegetables\"],[\"1217_acrylic_405_inactivation_nm\"],[\"568_tl_isotopic_fractionation_chromites\"],[\"105_arsenic_arsenite_ubiquitination_tet\"],[\"1129_spray_304cuss_304ss_copper\"],[\"802_arrays_biosensor_midpoint_calibration\"],[\"577_carrots_conventionally_organicallygrown_elemental\"],[\"133_mrsa_aureus_sccmec_strawberries\"],[\"371_pastrami_precooked_franks_bologna\"],[\"150_atp_a3_hyp_adp\"],[\"367_meiofauna_ferrihydrite_colloids_meiofaunal\"],[\"24_ota_aptamer_aptasensor_aptamers\"],[\"1121_anthrax_bottled_directsequencing_cful\"],[\"403_zebra_msm_dove_amebiasis\"],[\"580_campylobacter_pastured_wcrp_rf\"],[\"163_cuticle_eggs_egg_white\"],[\"749_fluorescence_urine_hai_microfiber\"],[\"240_citrus_salicylate_eos_preservative\"],[\"318_vegetables_jute_fenugreek_attaining\"],[\"784_litter_resistome_streptogramin_vate\"],[\"171_photodynamic_inactivation_light_pdi\"],[\"569_climate_prefum_prema_maize\"],[\"166_pharmaceuticals_zebrafish_pharmaceutical_aquatic\"],[\"337_fluoride_teeth_industrial_phyla\"],[\"1271_antimicrobialresistant_farmraised_sika_northeastern\"],[\"294_ree_henan_smelters_steelmaking\"],[\"883_enterococcus_rts_antimicrobialresistant_arb\"],[\"317_potsdam_hatchery_870_migrant\"],[\"1110_fissures_curing_viscous_dc\"],[\"1206_proteomics_differential_perniciousness_oyster\"],[\"901_penguins_islands_blackbrowed_frigatebirds\"],[\"236_haccp_220002018_ccp_supranational\"],[\"940_enterococcus_enterococci_tomatoes_faecalis\"],[\"1118_mlp_qra_1014_undernourished\"],[\"1274_bumblebee_bumblebees_maze_chambers\"],[\"165_outbreaks_contributing_workers_establishments\"],[\"541_sands_pike_bitumen_athabasca\"],[\"793_tiffin_wound_box_maxillofacial\"],[\"203_mlvhrma_typhimurium_serovars_14512i\"],[\"306_forages_mn_sheep_molybdate\"],[\"540_cooking_cfug_instructions_roulades\"],[\"345_ht2_fusarium_langsethiae_fumonisins\"],[\"1125_chg_postoperative_wound_lip\"],[\"908_whitefly_whiteflies_nora_hanv\"],[\"1279_odor_olfactory_fly_arenas\"],[\"502_mutants_rissen_ericpcr_mlns\"],[\"314_spoilage_psychrotrophic_spoilers_lowmoisture\"],[\"531_actors_managers_meathandling_practices\"],[\"39_aureus_seb_staphylococcal_psms\"],[\"641_spme_redwine_microextraction_cleanup\"],[\"253_peptides_adulteration_sem_horse\"],[\"227_neonicotinoids_insecticides_fipronil_neonicotinoid\"],[\"173_parasitic_parasites_vegetables_taenia\"],[\"764_ducks_telomere_shorebird_telomeres\"],[\"172_qbody_strip_microchip_mpa\"],[\"720_mlr_ega_ocelloscope_endospore\"],[\"1124_butcher_cheonan_daegu_gunsan\"],[\"746_fsas_tropics_census_fsalevel\"],[\"1123_blastula_ech_behavioural_l1\"],[\"230_aunp_tio2_ntio2_nanoparticles\"],[\"543_hav_hev_subgenomic_wg\"],[\"18_campylobacter_jejuni_campylobacteriosis_fetus\"],[\"661_fe_vegetables_co_ni\"],[\"662_cyp450_fipronil_natamycin_cyp2d6\"],[\"601_samplestotal_vhe_prophylaxis_foodcontact\"],[\"222_trichothecenes_trichothecene_niv_macrocyclic\"],[\"848_zvi_p2_tv_peg\"],[\"1115_harzianum_biosynthetic_competitor_mycotoxin\"],[\"8_honey_honeys_bee_ase\"],[\"243_radiation_internal_minamisoma_fukushima\"],[\"1114_biomarkersbased_aflatoxins_hcc_hepatocellular\"],[\"97_fumonisins_fumonisin_fbs_fusarium\"],[\"293_lettuce_slurry_fsh_farmers\"],[\"295_nuts_wines_spectrometry_fruit\"],[\"395_nov_bathing_norovirus_gii17\"],[\"299_vmss_hormones_bcfs_bmfs\"],[\"606_li_ultramafic_lithium_tms\"],[\"841_ornamental_phytotechnologies_landscape_income\"],[\"385_supplements_buckwheat_materia_consistency\"],[\"430_resistant_onehealth_resistance_bacteria\"],[\"741_mining_mined_romanian_mgkg\"],[\"614_bolnisi_kvemo_georgia_plasmamass\"],[\"604_globarbased_synchrotronbased_hyphenated_spectroscopy\"],[\"161_allergic_allergy_oma_reactions\"],[\"842_rra_australian_rr_poao\"],[\"151_sers_raman_surfaceenhanced_dnafunctionalized\"],[\"242_ireland_monocytogenes_listeriosis_phuket\"],[\"44_rice_senps_selenite_paddy\"],[\"620_foodsfeeds_feeds_secreted_mycotoxin\"],[\"444_sterile_compounding_atmp_multidose\"],[\"101_pcddfs_dibenzopdioxins_dibenzofurans_2378tcdd\"],[\"87_arsenic_dats_asinduced_oxidative\"],[\"225_tips_pipette_bridges_coating\"],[\"1117_betweenhost_withinhost_cohorts_schistosomiasis\"],[\"238_planktonic_biofilmdispersed_cutting_cut\"],[\"210_intestinal_handlers_parasitic_parasites\"],[\"94_vaccine_dam_schwarzengrund_ngs\"],[\"696_cockles_anadara_wolves_pattani\"],[\"957_cloacae_resistances_chloramphenicol_chemotherapeutic\"],[\"699_shawarma_sandwiches_quetta_tempeh\"],[\"273_thyroid_nete_volcanic_cancer\"],[\"1116_enemies_abs_cbd_resources\"],[\"25_handlers_attitudes_fsp_training\"],[\"701_leaf_alnus_mosquito_decomposition\"],[\"566_pyrene_spill_oilspill_fossarum\"],[\"567_grasshoppers_te_mining_edi\"],[\"570_ulab_armenias_mo_swiss\"],[\"128_pa_pas_pyrrolizidine_alkaloids\"],[\"378_handlers_hygienicsanitary_maritime_knowledge\"],[\"571_hay_microfungi_summarised_filamentous\"],[\"771_mclr_abcb4_mcs_embryos\"],[\"258_fouling_cleaning_ultrasound_decorrelation\"],[\"574_ppb_trvs_p95_lebanese\"],[\"33_sensing_qdits_impedance_biosensors\"],[\"478_naples_cancer_sarcoma_caserta\"],[\"676_foliage_abamplatanninns_azoxplatanninns_nanopesticides\"],[\"858_intravenous_pharmaceutical_bcs_bactalert\"],[\"458_gm_gmo_gmos_gmodetector\"],[\"72_spectroscopic_ftir_spectral_infrared\"],[\"189_imaging_hyperspectral_hsi_nondestructive\"],[\"54_bioelectronic_nose_resonators_saw\"],[\"324_wipes_copper_mnv1_viral\"],[\"487_bfrs_flame_pgg_openair\"],[\"476_cropping_philippi_mn_summer\"],[\"186_cholera_cholerae_o1_aor\"],[\"339_functionalized_electrolysis_thms_min\"],[\"5_cereus_bacillus_mypa_emetic\"],[\"591_umbilical_cord_fishery_mercury\"],[\"156_lagoon_ewaste_korle_gariepinus\"],[\"341_milk_sii_ssa_fdp\"],[\"596_companies_african_fsms_220002005\"],[\"642_b2_aflatoxin_pistachio_b1\"],[\"183_jejuni_sts_campylobacter_isolates\"],[\"346_bfgt_bftf_dietitians_tube\"],[\"41_monocytogenes_listeriosis_listeria_delis\"],[\"340_tasa_amyloidlike_acidoterrestris_subtilis\"],[\"897_spc32hcdabe_reporter_spc32h_luxcdabe\"],[\"573_ifap_poultry_older_behavior\"],[\"177_sprouts_fresh_produce_seed\"],[\"650_cysts_cystsoysterday_duodenalis_mussels\"],[\"636_uranium_radionuclides_strontium_uraniumcontaminated\"],[\"884_salads_vendors_hyderabad_onions\"],[\"474_lfias_nanobody_immunosensing_lateral\"],[\"264_vtec_o157_slp_eric\"],[\"593_hhp_hantavirus_k24f2_virus\"],[\"13_glutenfree_gluten_celiac_gfd\"],[\"61_mushrooms_mushroom_straw_pleurotus\"],[\"420_pbdes_bfrs_pbde_bde209\"],[\"1145_vibration_mould_atline_assert\"],[\"647_oil_waf_crude_motor\"],[\"918_corvids_serovars_scavenger_north\"],[\"280_hmf_canning_renal_canpackaged\"],[\"421_lamp_bam_chocolate_fn\"],[\"175_cheese_cheeses_unpasteurized_crema\"],[\"320_chlordecone_allophanes_cld_guadeloupe\"],[\"936_nglf_irradiated_gamma_irradiation\"],[\"1133_janthinobacterium_listeria_drains_colonized\"],[\"321_phthalates_phthalate_dnbp_paes\"],[\"919_probability_pops_toxicantinduced_biomonitoring\"],[\"48_farmland_adjoining_pollution_pb\"],[\"589_wildlife_amr_faecalis_carnivorous\"],[\"167_ink_mantle_frozen_areolata\"],[\"902_pcbbp_pcb_freshwater_serum\"],[\"635_beef_nontyphoidal_hms_roast\"],[\"188_ha_arsenate_arsenic_plants\"],[\"98_phytoremediation_situ_hyperaccumulators_symbioses\"],[\"616_ttx_localstate_toxidrome_litigation\"],[\"157_walleye_salmon_mehg_hg\"],[\"595_dam_cellulose_csgd_liverpool\"],[\"682_exogenous_acidextractable_pb_reducible\"],[\"905_yr_spring_baotou_wheat\"],[\"313_variability_rope_bread_ropy\"],[\"966_vre_esbl_austrian_methicillin\"],[\"319_basil_parsley_generic_cilantro\"],[\"1137_cod_atlantic_depends_harvesting\"],[\"400_farmanimal_livestockoriginated_endless_breeding\"],[\"266_veal_dehiding_carcasses_enterobacteriaceae\"],[\"399_minced_ashaiman_lebanon_meat\"],[\"958_pscs_metalhalidebased_solar_photovoltaic\"],[\"389_fcs_nhalamines_nhalamine_coatings\"],[\"252_matrixes_050_aureus_sa\"],[\"881_nrtpcr_singletube_hav_havspiked\"],[\"1138_relaying_lamellibranch_sardinia_retain\"],[\"268_dioxide_chlorine_ppm_oxidant\"],[\"63_plasma_cold_jet_atmospheric\"],[\"217_carcinogenic_swedish_mcda_dlpcb\"],[\"789_delphi_internationalization_checklist_defense\"],[\"180_laboratorydeveloped_psb_cin_ppcas12\"],[\"790_bioburden_encapsulated_polymers_polymerization\"],[\"592_weanimix_fumonisin_homemade_pretoria\"],[\"761_seals_bryozoans_bleach_hocs\"],[\"583_toc_marinated_cassia_officinalis\"],[\"1066_acr_acrab_biosensors_conformational\"],[\"1357_rooibos_delicate_tea_prohibits\"],[\"1135_grabs_logcfug_lots_novgii\"],[\"1136_multistate_fsis_outbreakassociated_etiologic\"],[\"431_minamata_neurological_neurocognitive_neuropsychological\"],[\"597_ota_ots_raisin_durum\"],[\"1134_vcjd_bid50_batches_ground\"],[\"1367_street_kumasi_rotavirus_estimates\"],[\"931_freshness_fishery_frozenthawed_freezingthawing\"],[\"261_tmf_tmfs_qaqc_escroc\"],[\"520_sporeformers_premature_dairy_wasted\"],[\"791_fluorene_100mgkgday_monohydroxylated_rats\"],[\"1108_10403s_persistence_rhizobacteria_monocytogenes\"],[\"1397_20732005_business_operators_supports\"],[\"870_qc_powdered_sampling_batch\"],[\"575_emp_dcssop_fishprocessing_monocytogenes\"],[\"310_glial_t2_don3glc_colibacillosis\"],[\"406_tree_background_the_\"],[\"565_internship_radiation_virtual_citizen\"],[\"1391_vms_samplemethod_nanograms_foodproducing\"],[\"564_prophylparaben_scraperflocked_mature_atcc\"],[\"417_3mcpd_esters_frying_ffa\"],[\"854_bacteriophages_cecal_therapy_carriage\"],[\"187_pesticide_residues_residue_mrl\"],[\"228_incident_compendium_incidents_catastrophes\"],[\"1131_sulfites_adi_highintake_taiwanese\"],[\"578_mirnas_transporters_expression_defence\"],[\"733_multistrain_plantarum_biofilms_cv\"],[\"1393_arcobacter_cryaerophilus_butzleri_sanitizing\"],[\"862_phagebased_phage_lytic_bacteriophages\"],[\"737_se_speciation_selenate_selenite\"],[\"781_smelter_voles_vicinity_histological\"],[\"176_cupt_swam_fishes_sperm\"],[\"1399_quinolone_herbs_pmqr_culinary\"],[\"782_fbd_brazil_fifa_cup\"],[\"1387_spatula_devices_foam_cm2\"],[\"418_phthalate_dehp_paes_phthalates\"],[\"1380_o2_n2_bell_gasicomitatum\"],[\"730_dec_epec_recreational_ec\"],[\"1109_tio2_nps_uvirradiated_m1291\"],[\"354_ma_biochar_rhb_oc\"],[\"876_rice_cd_extractable_mehlich3extractable\"],[\"801_handling_servings_parents_washing\"],[\"357_flavus_microgml_haeeasp_batzelladine\"],[\"191_fecal_diarrhea_handwashing_biogas\"],[\"1402_farmers_selling_cows_residues\"],[\"1400_utensils_kitchen_childrens_coliforms\"],[\"122_coal_strawberries_china_ewaste\"],[\"731_hms_biosorption_algae_smfc\"],[\"1398_inmates_adh_prison_arkansas\"],[\"427_lasparaginase_candida_lipase_fermentation\"],[\"300_eps273_plumbagin_lysh5_biofilms\"],[\"315_dropped_fsma_drooping_outbreaks\"],[\"626_cultivars_ts_lowcd_sweet\"],[\"1147_libraries_lowfrequency_reads_sequencing\"],[\"1378_stool_collection_specimen_leaflet\"],[\"347_chlorpyrifos_cp_carbendazim_triazophos\"],[\"70_137cs_radionuclides_radiocesium_litter\"],[\"472_pfas_pfass_pfos_legacy\"],[\"659_peanuts_mycobiome_hb_aspergillus\"],[\"1377_cerevisiae_rhamnosus_6307_6424\"],[\"909_melanin_purpurea_etp_bongkrekic\"],[\"1146_lmf_lmfs_lowmoisture_cfd\"],[\"316_groundwater_aquifers_aquifer_shallow\"],[\"342_tularensis_carnosine_cryogel_nonculturebased\"],[\"501_nts_ci_95_african\"],[\"1128_yam_monodora_powder_spices\"],[\"1241_inhibitors_screen_nutrients_bacterial\"],[\"1127_arctic_russian_regions_blood\"],[\"148_m1_infants_waz_lactating\"],[\"865_pepper_spices_red_rpn342\"],[\"1148_clavata_ngs_scriptseq_saprochaete\"],[\"1275_epec_tehran_stx_enteropathogenic\"],[\"695_etec_phylogroups_phylogroup_maria\"],[\"965_fbos_criteria_opening_productions\"],[\"964_afm_inspect_manifestation_sardinia\"],[\"968_zones_slaughterhouse_plasmids_arg\"],[\"906_silo_disinfestation_grain_acc\"],[\"490_mycotoxin_charter_mycokey_mycomix\"],[\"619_enn_ht2_t2_pasta\"],[\"312_moe_substances_carcinogenicity_genotoxicity\"],[\"584_olive_pp_orchards_cp\"],[\"1139_methemoglobinemia_disorder_exams_14monthold\"],[\"325_cpa_resistances_aflatoxin_mlrs\"],[\"52_lists_fcm_fccs_fccdb\"],[\"1354_french_enns_urinary_external\"],[\"585_sb_tmsb_antimony_sbv\"],[\"586_cardiac_pah_vocs_ngg\"],[\"1141_opis_chlorothalonil_photolysis_dissipation\"],[\"588_blochii_mariculture_bpa_4op\"],[\"747_cave_cheese_caves_westerdijkiae\"],[\"929_sth_schistosomiasis_victoria_deworming\"],[\"413_ops_dichlorvos_optical_biosensing\"],[\"726_alerts_nhps_supplements_canada\"],[\"1132_clingfilms_ap_vocs_wrapped\"],[\"221_flock_sm_serovar_backyard\"],[\"911_saew_electrolyzed_duws_oxytoca\"],[\"594_scombridae_butyltins_fugacitybased_hhra\"],[\"59_cyanotoxins_microcystins_cyanobacterial_algal\"],[\"153_aptasensors_aptamers_aptamerbased_somamers\"],[\"1140_donax_arundo_zeolite_te\"],[\"326_ad_digestate_fyms_slurry\"],[\"898_laver_shredded_nov_seaweed\"],[\"640_formulae_mgkg_infant_cereal\"],[\"915_aisi_wettability_copper_ligandinduced\"],[\"1376_soleris_dym_plating_pod\"],[\"155_irrigation_growers_onions_release\"],[\"466_tet_312_55_integrons\"],[\"269_lutheri_algae_arsenic_aggression\"],[\"655_isothermal_amplification_rca_fluorescencebased\"],[\"404_osctf_osmet1_hm_lowgrain\"],[\"653_stem_donors_ucb_antisepsis\"],[\"154_bfi_biofilms_biofilm_hoses\"],[\"912_sturgeon_beachcast_dolphins_acipenser\"],[\"1374_sikkim_morganella_piperacillintazobactam_345\"],[\"1373_intoxications_poland_poisonings_etiological\"],[\"920_amc_kratom_ecc_cfugm\"],[\"1144_warmindo_hands_cfucm2_sanitation\"],[\"587_cfp_ciguatera_bivalve_greek\"],[\"1143_traditionallyprocessed_streets_maputo_233\"],[\"284_tes_bc_fmbc_amendment\"],[\"159_campylobacter_campylobacteriosis_10415_ncimb\"],[\"516_mine_wastewater_flood_ck\"],[\"548_house_flies_mandibular_microbe\"],[\"93_mgoctab_packaging_saffron_pbat\"],[\"402_listeria_hospitalacquired_pasteurized_commercialgrade\"],[\"281_pcb_withinage_cozmoman_congeners\"],[\"736_telr_crisprs_stec_tellurite\"],[\"405_metalloids_transporters_uptake_translocation\"],[\"53_formation_biofilm_malx_cronobacter\"],[\"947_jerky_final_2541_fbo\"],[\"1150_simulation_vasa_foodprocesslab_pmmlab\"],[\"374_wham_tropical_vii_soils\"],[\"439_pakistan_threats_commodities_fungal\"],[\"1083_ed_thyroidtargeting_toxicantnutrient_eg\"],[\"1081_pet_extrusion_fat_doses\"],[\"88_periphyton_paddy_wollastonite_cd\"],[\"411_co_metalrba_cobalt_nails\"],[\"495_multilocularis_definitive_echinococcosis_hosts\"],[\"160_eos_oils_fo_amylolyticus\"],[\"732_ergot_mycotoxicoses_alkaloids_ascomycetes\"],[\"15_debris_microplastics_microplastic_marine\"],[\"372_chrysanthemum_carbamazepine_plantcrop_cyantraniliprole\"],[\"62_chlorine_paa_cod_vv\"],[\"410_hg2_biosensors_electrochemical_thyminehg2thymine\"],[\"170_datura_opium_poppy_thebaine\"],[\"285_implant_coatings_antiadhesive_povidoneiodine\"],[\"185_metabarcoding_dna_taxa_taxonomic\"],[\"401_fumonisin_fumonisins_mainly_produced\"],[\"121_forage_fe_grazing_mgkg\"],[\"1149_pctoc_flavourings_biotech_fragrances\"],[\"481_endolysins_endolysin_engineering_bacteriophage\"],[\"598_seiv_se_biosenps_stabilized\"],[\"332_oregano_adulterated_residues_pyriproxyfen\"],[\"95_platelet_platelets_csplts_obizur\"],[\"158_arsenic_ntds_chd_dalys\"],[\"197_doninduced_don_chondrocytes_res\"],[\"743_pcb183_ef_arthritis_rheumatic\"],[\"759_cld_kids_fatness_empty\"],[\"353_pigs_sarcocystis_suihominis_buildings\"],[\"19_reprocessing_duodenoscope_duodenoscopes_bronchoscopes\"],[\"288_graminearum_agmatine_transcriptomic_host\"],[\"446_heparin_heparins_porcine_enoxaparin\"],[\"254_arg_args_antimicrobialresistance_trout\"],[\"547_tennessee_wgs_kentucky_snps\"],[\"1073_trailers_foodhandlers_vending_pcrsequencing\"],[\"1311_spinach_baby_irrigation_didnt\"],[\"1307_military_bioterror_drill_unusual\"],[\"1309_bap_antibap_electroswitchable_picomolar\"],[\"788_silesia_medicinal_extracts_upper\"],[\"1072_chlorine_free_00001_micromixer\"],[\"415_duck_pops_chlorpyrifos_dibenzo\"],[\"168_nanotio2_titanium_tio_tinps\"],[\"169_herbal_ginseng_bioactive_supplements\"],[\"218_cream_ice_ceramic_drinks\"],[\"1071_expec_ipec_phylogroups_phylogroup\"],[\"762_scat_blueberry_deer_dung\"],[\"1070_wells_rivers_manmade_flood\"],[\"1074_pimaricin_antifungal_amps_scnd\"],[\"244_phytoremediation_tolerance_phytoextraction_metalloid\"],[\"414_aggsas_nanoagent_nanoagents_aggraphene\"],[\"1313_geohealth_hub_occupational_rabies\"],[\"887_enterococci_efaafs_cyla_agg\"],[\"1067_skewness_kernel_fumonisin_bulk\"],[\"739_afl_fum_feeds_pet\"],[\"1303_ibd_clinicians_remission_patients\"],[\"735_campylobacteriosis_nz_shoppers_labels\"],[\"944_icrp_ingestion_feedstuffs_multipathway\"],[\"539_clam_2002657ue_nullify_guaranteed\"],[\"1151_acm_dz_pc12_acminduced\"],[\"632_slovak_sulfosalts_thicknesses_alps\"],[\"1065_vtg_lizards_estrogenic_manure\"],[\"1153_sushi_glove_gloves_hands\"],[\"1366_oak_spruce_scots_sludge\"],[\"1106_distances_jaccard_nucmer_wholegenome\"],[\"946_gloved_aerogenes_watermelon_celery\"],[\"141_light_uvcled_nuv_uv\"],[\"888_retronasal_flavor_bonobos_odor\"],[\"1304_infarction_myocardial_epadha_pcb\"],[\"270_imprinted_mips_clenbuterol_molecularly\"],[\"384_ota_carbonarius_biosynthetic_ochratoxin\"],[\"1069_dissolving_ibuprofen_lyophilised_loaded\"],[\"1306_cartagena_colombia_pathotypes_coli\"],[\"745_shooting_abandoned_castor_landfill\"],[\"1305_morphological_features_physiological_epidemiological\"],[\"962_peas_thermophilic_diluent_highlyheatresistant\"],[\"734_enantiomers_metalaxyl_pcp_leaching\"],[\"557_fa_sunflower_cr_chromium\"],[\"250_bedding_poultry_promoters_exploitation\"],[\"719_foodborne___\"],[\"729_kbd_intensification_measures_preventive\"],[\"424_honduras_typhi_shedding_ci\"],[\"251_million_13_latest_worldwide\"],[\"561_sporulation_differentiation_nprrdependent_necrotrophic\"],[\"894_rinse_carcass_rinsate_agreement\"],[\"1068_veneto_ruditapes_weekly_shellfish\"],[\"542_kratom_newport_poss_traceback\"],[\"377_gluten_qlamp_glutenfree_celiac\"],[\"634_ecoefficiency_budget_input_export\"],[\"226_irs_pesticide_malaria_tajikistan\"],[\"512_bovismorbificans_javiana_restaurant_casepatients\"],[\"950_leafy_stec_rbfo157_flich7\"],[\"1082_mgs_diagnoses_nursing_gatherings\"],[\"1352_crohns_map_prove_disprove\"],[\"816_cz_enterocolitica_yersiniosis_fpp\"],[\"1351_ebns_unboiled_boiled_sp\"],[\"822_rojak_fried_shigella_snacks\"],[\"1322_anthrax_anthracis_mab_antianthrax\"],[\"514_kg1_estuary_mg_qiantang\"],[\"869_clays_packaging_cheese_extend\"],[\"376_fzt_parasite_ponds_p0001\"],[\"409_sers_raman_surfaceenhanced_spectroscopy\"],[\"429_code_multiclass_kanamycin_ags\"],[\"663_mnps_nanotechnology_nanomaterials_industries\"],[\"114_metalsmetalloids_tolerance_eggplant_stressinducible\"],[\"398_ionization_immunoassays_ambient_m13\"],[\"945_pylori_hp_gastric_helicobacter\"],[\"943_bvocs_vocs_sensors_s3\"],[\"844_biotransformation_proximal_toxindb_biogenic\"],[\"753_cemcem_loloh_juices_juice\"],[\"69_cr_cws_chromium_tannery\"],[\"1383_chamber_gases_refreshing_gas\"],[\"504_grape_vinegars_varieties_blanching\"],[\"508_oats_oat_glutenfree_avenins\"],[\"1381_colig_kitchens_salad_produce\"],[\"1084_abhsbased_abhs_hand_farmworker\"],[\"867_aged_nonstarter_cheddar_cheese\"],[\"96_zen_zea_zenpositive_zearalenone\"],[\"120_elimination_eradication_persistence_phenomenon\"],[\"423_mucor_microbiota_mucosaassociated_mice\"],[\"563_chlordecone_gwg_prenatal_cord\"],[\"769_informal_rainy_season_enterica\"],[\"428_vomiting_school_abdominal_attack\"],[\"738_bpa_bisphenol_canned_noncanned\"],[\"1075_inspections_cfm_violations_thirdparty\"],[\"1315_fsms_uganda_certification_noncertified\"],[\"355_tadpoles_frog_climax_anuran\"],[\"1314_photo_catalyst_nanocrystalline_uvdrs\"],[\"511_animalderived_bsg_feed_lcmsms\"],[\"311_effluent_wastewater_mangla_gwi\"],[\"426_stormwater_supplies_nordic_water\"],[\"1080_pja_stabilis_ultrasound_pancreatic\"],[\"1079_fa_bacillus_fas_ufas\"],[\"369_sludge_amps_revegetation_hm\"],[\"65_fecal_neighborhoods_lowincome_pathways\"],[\"162_pet_rmbds_owners_rmbd\"],[\"1078_aquacultures_dom_landbased_proteinlike\"],[\"1077_cilantro_cpc_24hour_presliced\"],[\"1076_milks_ewi_mollusks_french\"],[\"1318_m3_expanded_ozone_polystyrene\"],[\"1317_carbonates_carbonate_wheat_carbonatesdepleted\"],[\"770_gbeli_vendors_street_uberaba\"],[\"783_ddpcr_feline_wtwt_lamp\"],[\"672_peptides_amps_afps_25dkps\"],[\"91_flavus_aflatoxin_agm182_atoxigenic\"],[\"488_beefburgers_casepatients_heidelberg_blocked\"],[\"116_esblproducing_esbl_hatchery_enterobacteria\"],[\"123_phages_phage_kit03_salmonellaphages\"],[\"330_wine_grape_grapes_growthinactivation\"],[\"652_bacteriocinproducing_pgtel_adhesion_lactis\"],[\"301_town_bakery_shariati_muslim\"],[\"296_afs_afb_parasiticus_immunodepression\"],[\"537_nanocomposites_magnetic_coreshell_dyes\"],[\"350_mycotoxigenic_climate_fungi_malaysia\"],[\"1103_poultryassociated_foodhandling_1114_279\"],[\"256_cdcontaminated_maize_intercropping_willow\"],[\"349_radiocaesium_astragali_nuclide_ra\"],[\"532_alkyl_octyl_brevis_syringates\"],[\"896_adulteration_whey_wpbased_lcd\"],[\"194_handwashing_intervention_caregivers_complementary\"],[\"1096_ripening_cheese_sheeps_semisoft\"],[\"327_lead_eggs_game_homegrown\"],[\"536_omega3_lipids_dha_efas\"],[\"562_technic_highways_technosols_metallic\"],[\"1104_flagellar_fljb_flic_attachment\"],[\"624_quat_ipaquat_cfucoupon_min\"],[\"885_oils_pertaining_agrifood_mycotoxinscontaminated\"],[\"886_carota_daucus_lycopersicum_solanum\"],[\"530_plantarum_antifungal_ufg_cfs\"],[\"648_lactis_hgii_lactococcus_ch\"],[\"611_flp_sp_vannella_beetroot\"],[\"323_mycotoxins_mycotoxin_nonbiological_detoxification\"],[\"333_citrinin_ctne_monascus_cit\"],[\"229_chamber_loc_impedance_magnetic\"],[\"92_aflatoxin_grain_ver_fgis\"],[\"322_foliar_caerulescens_ganges_hyperaccumulating\"],[\"3_aflatoxin_antifungal_reports_2013\"],[\"718_ryr_afs_daqu_baijiu\"],[\"921_fiber_repartitioning_byproducts_feed\"],[\"904_eoe_rye_elimination_empiric\"],[\"644_epithelial_intestinal_gi_tract\"],[\"534_teat_herd_milk_microbiota\"],[\"279_pahs_pah_grilling_propolis\"],[\"526_snakes_owl_buteo_owls\"],[\"1152_rep_hrma_discriminatory_aflp\"],[\"639_carotenoids_goji_apocarotenoid_carotenoid\"],[\"178_mercury_hg_mera_merb\"],[\"907_manure_dtpaextractable_manures_exchangeable\"],[\"489_avermectins_allicin_mef_arvo\"],[\"1333_foodomic_endo_exotoxins_peptidomics\"],[\"1063_slaughterhouse_ec_carcasses_slaughterhouses\"],[\"115_args_antibiotic_ar_swine\"],[\"130_don_deoxynivalenol_refining_degradation\"],[\"1155_lovastatin_glvs_gluconic_amylases\"],[\"1332_ym_nissui_compact_aoac\"],[\"1091_sustainability_constraints_agrifood_produce\"],[\"1095_vembanad_jakarta_sediments_ocps\"],[\"124_lab_antifungal_molds_bread\"],[\"1094_akk_mice_probiotics_gut\"],[\"715_cardiotoxicity_pesticides_ecg_pesticide\"],[\"1336_snowshoe_hare_boreal_smelter\"],[\"134_cd_rice_liming_lime\"],[\"618_aggressiveness_snps_ear_fusarium\"],[\"1093_glauca_sharks_salmon_peroxidation\"],[\"615_crassipes_cristata_ch_natans\"],[\"899_aibased_hyperspectral_hsi_pneumonialike\"],[\"553_ginseng_fumigation_sulfur_immunomodulatory\"],[\"1092_ld_sd_brochothrix_psychrobacter\"],[\"233_biochar_fwbc_mortar_rwbc\"],[\"193_bacteriocins_bacteriocin_lab_geobacillin\"],[\"623_perchlorate_discourses_pregnancy_professionals\"],[\"629_corrective_pops_hfrs_polychlorinated\"],[\"631_mining_pbzn_dexing_poyang\"],[\"625_aboriginal_nonaboriginal_t2dm_faso\"],[\"1090_inhibitors_pesticides_earthworm_biosynthesis\"],[\"961_score_butcher_violation_r1\"],[\"465_nd_neurotoxicants_neurotoxic_childrens\"],[\"2_sarscov2_covid19_coronavirus_virus\"],[\"630_reserve_yancheng_redcrowned_cranes\"],[\"523_mycelial_germination_quantified_temporal\"],[\"1331_seafood_desire_keep_innovating\"],[\"525_nucleic_acidbased_foodchain_diagnostic\"],[\"627_flavourzyme_cardboard_eps_dnase\"],[\"628_recalls_recall_cosmetic_class\"],[\"1328_drain_floor_pyrosequencing_communities\"],[\"1089_arctic_seabirds_auks_feathers\"],[\"138_stones_tubers_nigeria_urinary\"],[\"1329_udaf_utah_permit_somatic\"],[\"959_urban_technosols_entails_legislative\"],[\"483_viral_rva_irrigation_naegleria\"],[\"941_students_ice_gastroenteritis_noroviruses\"],[\"140_silver_nanoparticles_photocatalytic_metalbased\"],[\"527_apr_rbf_idtm_lmics\"],[\"609_derelict_degradation_biodiversity_biotic\"],[\"927_jerky_refrigeration_sale_readytoeat\"],[\"213_septox_hpmp_lesions_bmc\"],[\"535_mosquito_albopictus_larval_rearing\"],[\"291_visual_afs_afb1_nanomaterials\"],[\"498_hunov_salad_salads_ms2\"],[\"1347_exudate_smoked_salmon_behaviour\"],[\"935_geese_redbreasted_spiders_endosymbionts\"],[\"1346_preharvest_microbials_pathogenresistant_directfed\"],[\"938_re_plots_bsas_manure\"],[\"1345_liposomes_peptide_chitosanstabilised_poreforming\"],[\"241_cannabis_cbd_thc_ecps\"],[\"538_sausages_dfs_outlets_burgers\"],[\"910_restaurants_inspection_routine_outbreak\"],[\"1102_lz206_plantarum_probiotic_embedded\"],[\"1105_microbiota_bottom_carcasses_fcss\"],[\"422_lowmoisture_heating_conductive_dielectric\"],[\"1384_deposition_1552010_dlvo_decree\"],[\"843_canned_sardines_shaoxing_pi\"],[\"79_fish_prepacked_recalls_tuna\"],[\"408_bse_prion_cwd_cjd\"],[\"651_solubility_rice_flooding_metalloids\"],[\"11_shiga_toxinproducing_goudalike_shigatoxin\"],[\"1098_nonenterohemorrhagic_lasts_foodbome_signs\"],[\"645_rwbp1004d_peptide_nterminal_denantiomer\"],[\"407_pah187270_plasmid_kbp_mega\"],[\"923_mammary_don_epithelial_deoxynivalenol\"],[\"129_seasonality_weather_stressors_evaluation\"],[\"646_ewe_sheep_ovine_flocks\"],[\"638_colloid_pdms_replicas_retention\"],[\"649_demonstration_validating_freshcut_fvs\"],[\"657_dumpsite_ptes_sbri_ship\"],[\"889_af_afb_parasiticus_aflatoxigenic\"],[\"1341_pellets_waste_tilapia_carp\"],[\"198_deep_learning_elytral_images\"],[\"1340_graphene_kinase_egf_cell\"],[\"307_hg_york_emissions_deposition\"],[\"892_predictive_models_antagonism_competition\"],[\"1088_surfactants_soap_hand_lauryl\"],[\"278_lysates_afb1_afts_anguilliseptica\"],[\"533_rtpcr_rtipcr_quantifications_pointofcare\"],[\"1097_odorant_sensor_sf21_ors\"],[\"348_emp_sampling_recovery_optimization\"],[\"658_huazhong_moniliforme_autumn_bran\"],[\"344_enzymes_mycotoxins_detoxification_potentialities\"],[\"1101_tabh_fitc_ammonia_amines\"],[\"343_spices_chili_pepper_verbena\"],[\"470_sialyllactoses_neuac_les_lactic\"],[\"1100_pyrethroid_irs_hvld_pesticide\"],[\"1099_enps_nps_caco2_zno\"],[\"14_metagenomics_wgs_genome_sequencing\"],[\"77_aflatoxins_afs_produced_sciatic\"],[\"274_characterisation_ch_characterised_corrects\"],[\"394_pathogen_notorious_spoiler_foodborne\"],[\"239_methicillinresistant_livestockassociated_ue_thirtythree\"],[\"556_occupational_biologic_simultaneously_simultaneous\"],[\"462_tasimelteon_nanomaterials_nutraceuticals_nanotechnology\"],[\"81_afm_occurrence_newly_provides\"],[\"216_eos_antibiofilm_biofilm_rl\"],[\"145_amd_acidobacteria_phylum_sb\"],[\"220_afm1_rba_binder_m1\"],[\"117_oxisterigmatocystins_produced_secondary_sterigmatocystin\"],[\"1171_vulnerability_0451_accentuating_explorative\"],[\"800_recycling_plastic_undesirably_prolonging\"],[\"799_buckthorn_hippophae_barhrm_sea\"],[\"393_fao_occurrence_codex_500000\"],[\"796_scandal_tainted_pregnant_birth\"],[\"795_bohai_sccps_sccp_sea\"],[\"118_genus_belonging_molds_certain\"],[\"58_aflatoxins_afb_secondary_produced\"],[\"806_probiotics_probiotic_saudi_labeling\"],[\"786_pcn_eggs_whoteq_dioxinlike\"],[\"711_nudges_hbm_photographs_eco\"],[\"546_plx_mic_inhibitory_determinations\"],[\"710_travelers_athletes_physicians_travel\"],[\"804_salami_otaproducing_westerdijkiae_otanpspn\"],[\"1156_iveo_4859_anethole_illicium\"],[\"380_visible_particulate_nonsterile_injectable\"],[\"956_ulcer_noncontagious_disabling_buruli\"],[\"259_waste_xylan_msw_sar\"],[\"756_retort_pouch_histamine_tmhcm\"],[\"382_corn_coproducts_pet_pbs\"],[\"559_drycured_dryfermented_meats_sausages\"],[\"780_fd_cats_damino_methionine\"],[\"362_mili_mycotoxinassociated_mycotoxins_death\"],[\"748_ens_enniatins_feeds_fish\"],[\"443_histolytica_lemurs_lemur_primates\"],[\"849_wastewater_welfare_access_irrigated\"],[\"144_pollen_bee_bees_nectar\"],[\"560_cadmium_iran_science_bangladesh\"],[\"558_allergen_laboratories_action_official\"],[\"552_terns_seabird_louisiana_pops\"],[\"386_clinicians_emerging_unusual_infections\"],[\"1085_qac_restructuring_biogas_methane\"],[\"1188_360_cezarka_pond_180\"],[\"722_melanocytes_colorants_chlortetracycline_phototoxic\"],[\"1186_vbnc_colonybased_state_vesicle\"],[\"668_mrsa_cows_aureus_pooled\"],[\"554_psychrotrophic_legs_wings_carnobacterium\"],[\"675_loe_polycyclic_envri_aromatic\"],[\"1178_raising_unit_flows_livestock\"],[\"366_phenological_stress_gru_spectral\"],[\"1177_bacteriocins_biofilm_inhibition_bacteriocinogenic\"],[\"457_bottles_pet_recycled_recycling\"],[\"1179_weee_black_plastic_fcms\"],[\"1392_hp_peroxide_hydrogen_disinfectant\"],[\"679_ice_packaged_premises_isb\"],[\"497_noncompliance_chicken_slaughterhouses_scalding\"],[\"368_insects_edible_mealworm_earthworms\"],[\"1183_bentonite_aflatoxins_degrade_bentonites\"],[\"1386_virulence_66_biofilm_antibiotic\"],[\"461_rccs_cics_hi_tf\"],[\"852_paa_go_disinfectant_glutaraldehydequaternary\"],[\"500_methanol_abhs_2020_texas\"],[\"1388_shells_destroyed_weapons_explosive\"],[\"851_circumdatins_advancement_instrumental_fragmentation\"],[\"309_amf_mycorrhizal_arbuscular_viride\"],[\"74_fpbs_microalgae_waw_s4\"],[\"496_cafeteria_ants_clothes_indoor\"],[\"683_pgp_sl2_oxalicum_siderophores\"],[\"1184_notifications_af_nuts_importers\"],[\"179_microplastics_ppe_mps_nanoplastics\"],[\"1190_sfs_kites_helminths_overcrowded\"],[\"673_ripening_hsc_hpp_rind\"],[\"664_composting_wastes_mortalities_biowastes\"],[\"875_lab_probiotics_antilisterial_cultures\"],[\"1207_csls_processors_final_csl\"],[\"182_aimthe_ndmproducing_backgroundwhile_humantohuman\"],[\"437_street_papers_vending_healthrelated\"],[\"1219_workers_slaughterhouses_wore_slaughterhouse\"],[\"1197_ias_daly_infant_cereal\"],[\"846_canteens_hospital_breads_match\"],[\"1296_mud_lemongrass_sludge_ww\"],[\"452_peru_andean_osps_storehouses\"],[\"456_fertilization_digestate_tms_slag\"],[\"1359_cultivars_heading_brown_rice\"],[\"1182_farmworker_producecommodity_farmworkers_hand\"],[\"1158_phthalate_battery_pcb180_dimethyl\"],[\"685_cnms_pnps_arms_microcin\"],[\"684_tbt_ots_imposex_tributyltin\"],[\"1361_dcdoh_restaurant_dc_columbia\"],[\"1154_recalls_recall_recalled_lb\"],[\"868_intervention_interventions_effectiveness_onfarm\"],[\"872_sorghum_chromatographytandem_apart_requiring\"],[\"1191_aab_spoil_acetic_shelflife\"],[\"873_sashimi_sushi_westernstyle_lightly\"],[\"622_fragments_calorific_bioinoculants_marianum\"],[\"1189_dealt_vs_rte_388\"],[\"871_spoil_severely_connection_predominantly\"],[\"1185_sumapaz_livestock_brucellosis_brucella\"],[\"803_bats_kuhlii_termite_external\"],[\"469_microgravity_clinostat_mycotoxincontaminated_mycotoxigenic\"],[\"1157_sulfite_sulfites_sodium_bisulfite\"],[\"794_mtdnacoi_pupal_cockroach_lengths\"],[\"549_canjiquinha_corn_grits_gaseous\"],[\"550_fermentations_craft_spoiled_brine\"],[\"1301_pasta_sensory_biopreservation_reuteri\"],[\"82_microplastics_beverages_microplastic_micro\"],[\"1163_catechol_wastes_illucens_soldier\"],[\"1160_formers_cameroon_029183_108189\"],[\"517_paratyphoid_nonhostspecific_tularemia_zoonosis\"],[\"1159_ptes_rad_rp_rpa\"],[\"1300_ceftazidime_acinetobacter_nonsusceptible_maltophilia\"],[\"1350_farmers_markets_subsets_riskofbias\"],[\"551_isfahan_aeruginosa_st283_chabahar\"],[\"752_pork_tbc_nts_salmonellosis\"],[\"419_comprehension_dearth_foodspoilage_procedural\"],[\"524_wgs_ncbi_interpreting_pseudotuberculosis\"],[\"1087_accumulators_forested_edulis_1995\"],[\"1086_ntm_orange_mpnml_mycobacterium\"],[\"763_ota_ochratoxin_coffee_teenagers\"],[\"925_dedicated_legal_compliance_manufacturers\"],[\"338_taf_aflatoxin_aflatoxins_afm1\"],[\"750_hybrids_arabia_saudi_maize\"],[\"184_dec_databases_1361_749\"],[\"1344_24d_shortlived_analyte_publications\"],[\"878_alumina_pla_collagen_conjugation\"],[\"40_cocoa_chive_chickpea_tomato\"],[\"1192_carob_prosopis_flour_abound\"],[\"1193_decisionmaking_olives_standardize_scoring\"],[\"1326_evolution_shown_work_rapid\"],[\"351_determinate_proportionprevalence_randomized_attempted\"],[\"1164_alternaria_jujubes_jujube_xinjiang\"],[\"1165_lowgrade_phosphorus_dihydrate_biowastes\"],[\"358_arair_aro2_cao_cd\"],[\"777_mold_infants_households_phps\"],[\"1319_pgml_epsilon_pm_toxin\"],[\"666_durum_wheat_conform_models\"],[\"665_communityassociated_surveyed_emerging_since\"],[\"1173_lungs_urt_bedding_normal\"],[\"774_neuronal_myenteric_vnmf_carrasqueira\"],[\"1175_alternata_alt_oranges_alternaria\"],[\"1321_br_bfr_sorting_signature\"],[\"670_prothioconazole_prothioconazoledesthio_rsds_mycotoxin\"],[\"1320_mycobacteria_therapyrelated_mycobacterial_expectancy\"],[\"689_escresistant_cephalosporins_escs_cm\"],[\"677_spores_nomenclature_sexual_spore\"],[\"809_lacs_hm_halloysite_redirection\"],[\"1312_popularly_pakchoi_coexist_enter\"],[\"1167_residential_vbnc_viablebutnonculturable_stimulatory\"],[\"807_members_family_closely_related\"],[\"1169_stickleback_alaska_pfass_blackfish\"],[\"716_decontamination_biofumigation_solarization_mgd\"],[\"778_clam_brachyuran_substitution_crab\"],[\"775_condiments_dnag_sciuri_farinaceous\"],[\"356_plain_azerbaijan_geoaccumulation_ni\"],[\"89_pesticides_bss_urban_pesticide\"],[\"78_farsc_promotionincreased_selection_ema\"],[\"725_wasteland_woodland_rhynchophylla_urhynchophylla\"],[\"235_cassava_aflatoxin_groundnut_aflasafe\"],[\"447_nematodes_taeniidae_meatborne_cestode\"],[\"811_pantoea_growthpromoting_marshes_phytostabilization\"],[\"1000_obesity_adipocyte_diffused_lifestyle\"],[\"506_grebes_ghr_moulting_gcm\"],[\"328_afb1_bsaafb1_hrp_probe\"],[\"505_mercury_amalgam_dental_minamata\"],[\"633_iso_166542001_cen_en\"],[\"272_baked_oils_essential_eos\"],[\"829_fnu_racks_boards_cutting\"],[\"286_ebns_eggs_rawunclean_se\"],[\"826_micelles_ttcp_controllable_thymol\"],[\"289_providencia_anesthesia_scorching_whip\"],[\"471_ota_chemotypes_westerdijkiae_vocs\"],[\"1180_northwest_2006_noncarcinogen_electronicwaste\"],[\"477_bps_bpa_bisphenol_badge\"],[\"1181_kubac5_reuteri_highdose_salmonellachallenged\"],[\"521_operations_alcoholic_malting_beverages\"],[\"1187_cassava_eaten_staple_mostly\"],[\"304_genus_smallspored_necrotrophic_saprophytic\"],[\"125_glyphosate_gly_gbh_vescana\"],[\"960_franchise_storelevel_clauses_audited\"],[\"834_packages_juice_hu_shopping\"],[\"71_microplastic_mps_mussel_norvegicus\"],[\"468_antarctic_peninsula_fildes_lacustrine\"],[\"467_ochratoxin_ota_epithelium_porcine\"],[\"948_mra_modelers_casestudy_illustrating\"],[\"1194_networks_copresence_conet_mutual\"],[\"1174_impoverished_practically_too_nations\"],[\"1162_gardens_carnivore_deposit_fox\"],[\"1172_pco_amphipods_warming_bottom\"],[\"708_coatings_graphitic_nitride_polytetrafluoroethylene\"],[\"819_mact_mammary_epithelial_mitochondrial\"],[\"824_fw_pha_methane_ad\"],[\"757_23000_borne_nations_annually\"],[\"1044_sera_wall_aspergillusspecific_polyclonal\"],[\"507_amr_nap_abr_sectors\"],[\"977_inflorescences_slag_historic_thi\"],[\"818_consortium_adz_jejunal_afb1\"],[\"706_cecs_rw_offsite_watersoilplant\"],[\"830_aiv1_mussles_hexamer_aiv\"],[\"1221_mashavera_basin_tributaries_countrywide\"],[\"292_nontyphoidal_enterohemorrhagic_enterohaemorrhagic_coagulasepositive\"],[\"486_2i4mp_silage_cow_cows\"],[\"970_macadamia_harvesting_mbombela_nutinhusk\"],[\"989_cassette_instrument_melt_gelcycler\"],[\"969_saginata_cysticercus_inspection_incisions\"],[\"1008_biochar_siliconnanoparticles_salinityinduced_feoxyhydroxy\"],[\"973_intention_tpb_beliefs_growers\"],[\"1227_fermentations_spontaneous_regaining_citizen\"],[\"440_antidoping_sarms_doping_aaf\"],[\"974_me_panel_liat_poc\"],[\"1010_cfuml_mag_105108_stecs\"],[\"373_gb_bc_plaque_rhb\"],[\"1295_impairment_suppression_child_implicated\"],[\"1368_kerala_fillings_vegetarians_amalgam\"],[\"1369_mutual_influences_of_the\"],[\"1050_hgca_paddy_fixation_nitrogen\"],[\"510_feeders_bird_feeder_birds\"],[\"815_gut_mycotoxicosis_microbiota_mycotoxins\"],[\"50_mps_macrophages_nmps_microplastics\"],[\"1057_fhb_biomin_temporalgeographical_20102019\"],[\"1210_bisporus_mushrooms_florence_labels\"],[\"874_turmeric_spectra_lssvm_imaging\"],[\"1198_imaging_spectroscopy_microorganism_timedomain\"],[\"1003_puree_gmps_ofsp_compliance\"],[\"1170_inoculants_inputs_biopesticides_biofertilizers\"],[\"1277_ddts_ddt_mrna_relating\"],[\"833_bowls_meatball_bacterias_cafeterias\"],[\"832_cigarette_litter_riyadh_streets\"],[\"831_banknotes_sudanese_tamale_kirbybauer\"],[\"1176_nasba_viable_crisprcas13a_amplification\"],[\"1168_beverages_unfinished_nursing_students\"],[\"1281_alpharadiation_emitter_man_big\"],[\"835_ger_heterosis_hybrids_ear\"],[\"709_sausages_biogenic_amines_fermented\"],[\"714_h7n9_shanghai_polio_virus\"],[\"1166_sdbd_belly_wcm_loin\"],[\"821_bangladesh_multitrophic_heavy_bangladeshs\"],[\"952_colistinresistant_plasmidborne_plasmidmediated_colistin\"],[\"1196_attacked_bunches_spoiling_corrugated\"],[\"1335_grains_predominance_exponentially_cereal\"],[\"1213_tnt_malaria_lizards_wbc\"],[\"827_apples_apple_packing_excision\"],[\"503_biofilmspecific_biofilms_nondestructive_deviceassociated\"],[\"201_biomaterials_antiviral_sfbs_cryogels\"],[\"90_mps_wwtp_losw_microplastics\"],[\"1016_shq_dehp_text_see\"],[\"127_infiltration_nanotechnology_nanobiotechnology_nbfs\"],[\"391_films_chitosan_curcuminvanillin_hydrogels\"],[\"998_preventative_indigestion_vouch_fermenting\"],[\"303_microplastics_seafood_microplastic_atrmir\"],[\"1267_ocps_egypt_ppddd_ppddt\"],[\"837_infant_ready_chb_powder\"],[\"1161_cabbage_microbiomes_sauerkraut_microbes\"],[\"1195_amr_equitably_smes_enterprises\"],[\"246_pnp_brain_mp_plastics\"],[\"1064_amx_tmp_sz_aeromonas\"],[\"1385_sepiolite_mineral_fibrous_regeneration\"],[\"840_ethical_toxicology_preannounced_egregious\"],[\"637_soybeanbased_fermented_bean_beans\"],[\"1026_army_campassociated_fbi_youth\"],[\"46_mfeo_nanoemulsion_chitosan_nanomatrix\"],[\"260_aloe_herbal_hads_pharmacopoeia\"],[\"518_oas_immobilization_ldhs_zeolitesupported\"],[\"459_fumonisins_fb_innervation_fb2\"],[\"485_rainfed_mycobiota_sesame_stored\"],[\"329_dalys_aflatoxin_noncompliant_multilaboratory\"],[\"805_thiosulfate_chelating_hg_ligands\"],[\"265_electrochemical_aptasensors_turnoff_aptasensorbased\"],[\"1045_formed_elucidation_untargeted_degradation\"],[\"698_daas_daa_aunps_photonic\"],[\"891_bacillus_nondairy_eighteen_illumina\"],[\"464_nanoencapsulation_eosbioactive_eos_bioactive\"],[\"1007_lad_gh_mahalanobis_adulterations\"],[\"703_qtls_oshma3osnramp5osnramp1_thmm_thmms\"],[\"702_aquaculture_hatcheries_fishmeals_zncl\"],[\"779_atoxigenic_environmentallyfriendly_profitability_aflatoxicosis\"],[\"544_pistachio_synthetised_trades_toxincontaminated\"],[\"817_et_tomatoes_agroecologies_phytobiota\"],[\"671_river_xj_jl_hilly\"],[\"688_hh_hamburgers_crumbs_prtem\"],[\"814_tds_chemicalfood_consists_saharan\"],[\"463_phenolic_scgs_spas_extract\"],[\"1038_gbf_gbp_biscuit_wb\"],[\"951_zen_ozonation_homemade_pellets\"],[\"1015_roughness_biofouling_electropolished_str493\"],[\"686_mite_putrescentiae_didymium_mites\"],[\"1018_ergot_ergotism_rye_saint\"],[\"529_rasff_notifications_alert_rapex\"],[\"1051_ester_3chloropropanol_esters_shaanxi\"],[\"492_cosmetic_creams_strainsisolates_qpcr\"],[\"900_da_infauna_blooms_domoic\"],[\"893_chytridiomycosis_predation_bd_copper\"],[\"1338_transboundary_robbing_sits_circulate\"],[\"895_nanoclusters_ligandprotected_fcds_thiolated\"],[\"1034_paraben_parabens_ep_derivatives\"],[\"617_boar_leptospira_semen_extenders\"],[\"1342_poisonings_clinicians_kong_hong\"],[\"1348_bedding_sbs_ocular_corneal\"],[\"855_xerophylic_interacting_colonising_respiration\"],[\"654_xanthomonas_plantcolonizing_case_wilt\"],[\"681_dissected_volatile_indole_masses\"],[\"1349_preservativefree_confectionery_searching_options\"],[\"1339_tf_destruction_depth_translocation\"],[\"1323_probiotic_acceptability_detoxification_grow\"],[\"930_gwangyang_hm_som_sdm\"],[\"975_vocs_batches_hsspmegcms_headspace\"],[\"983_cabbage_chinese_cultivar_flax\"],[\"768_tahini_mt_capsicum_drying\"],[\"1040_ms_malditof_chromatographic_chemometric\"],[\"1047_julyaugust_inactivation_october_trials\"],[\"1055_barbary_stabile_sheep_moss\"],[\"1370_processors_face_challenges_serious\"],[\"1298_app_plasmas_cells_resuscitation\"],[\"861_insectbased_metabarcoding_barcoding_declared\"],[\"934_kodo_millet_nutritious_popularized\"],[\"937_formaldehyde_ammonia_seafoods_aa\"],[\"1043_kimchi_reducedsodium_napa_korea\"],[\"1302_contaminantsnamely_microwavebased_mae_purificationenrichment\"],[\"1299_communicable_arbaeenia_syndromes_diarrhea\"],[\"1009_noreleasing_hhms_donors_combating\"],[\"388_preservatives_natural_nonthermal_antimicrobials\"],[\"1056_abattoirs_viscera_252_chilling\"],[\"1059_enterococcal_enterotoxin_sweets_slovak\"],[\"621_nanoparticles_incentivized_metalsbearing_anticorrosive\"],[\"1343_daphnia_multigenerational_dichromate_monophyletic\"],[\"1325_microcasing_casings_salt_remedy\"],[\"1324_pms_tms_tm_mountain\"],[\"493_et_ions_tc_luminescent\"],[\"1004_pct_yolov4_benchtop_instruments\"],[\"1310_seta_monitoring_multicountry_team\"],[\"545_animalpathogenic_prophage_genus_serbia\"],[\"712_cookware_pots_containers_scrap\"],[\"808_maple_walnut_syrup_sap\"],[\"980_its1_issr_seedborne_khorramabad\"],[\"1053_recalls_2021_july_january\"],[\"995_subsoil_arseniccontaminated_flooded_hyperaccumulator\"],[\"1330_susceptible_great_diversity_caused\"],[\"1049_lda_prophylaxis_amu_cs\"],[\"967_czech_republic_service_care\"],[\"1327_zoobenthos_carps_carp_periphyton\"],[\"1029_cadmium_agronomic_genetics_cysteinerich\"],[\"1022_cand1a_crls_cand1_nedd8\"],[\"1017_pastured_meteorological_gbm_rf\"],[\"697_csa_governance_ppps_pandemicinduced\"],[\"1028_pesticidebased_biosolutions_microbialbased_biocontrol\"],[\"1334_libs_penalized_airpls_reweighted\"],[\"119_plastic_microplastic_microplasticassociated_microplastics\"],[\"691_parasites_roundworm_medieval_sp\"],[\"1337_forages_sulfide_metalcontaminated_meanwhile\"],[\"1371_earthquakes_postdisaster_disasters_cascading\"],[\"271_bioremediation_xt4_cdii_crvi\"],[\"515_nickel_drinks_bioaccessibility_plantbased\"],[\"513_streptomyces_surplus_consortia_ben\"],[\"723_mc_pf_cellg_concentrationbased\"],[\"412_chitosan_chitin_insect_crustacean\"],[\"813_gso_ecommerce_smart_planet\"],[\"859_sourcetracking_vital_providing_evaluates\"],[\"298_microwave_chilli_dried_maps\"],[\"755_dysphagia_covid19_nutrition_coronavirus\"],[\"494_roasted_cs_mor_aof\"],[\"693_multistate_barbados_solved_2016\"],[\"863_text_posts_reviews_online\"],[\"990_rte_eko_fufu_enterobacter\"],[\"776_tyrosol_alcohol_ros_2hydroxyphenethyl\"],[\"425_ndma_ranitidine_nitrosamine_medications\"],[\"1058_ppms_edcs_22bis4hydroxyphenylpropane_phthalatesphthalic\"],[\"740_hyalinipennis_xyzfs_insecticide_xyzfr\"],[\"751_rf_aptamersers_sensors_outlooks\"],[\"728_chromatography_multidimensional_ce_separation\"],[\"845_mycorrhizal_inoculation_mycorrhization_noninoculation\"],[\"1037_sandyrelated_gasoline_njpies_jersey\"],[\"1021_ssa_abandon_valuechains_unwilling\"],[\"509_romaine_traceback_leafy_greens\"],[\"610_formulas_infant_toddlers_infants\"],[\"1014_mt_eol_tl_ulab\"],[\"724_phosphorescence_chemosensor_autofluorescence_phosphorescent\"],[\"880_surrogate_indicator_selected_microorganisms\"],[\"979_ree_vinifera_vitis_substrate\"],[\"999_polyphenols_lead_relieving_antiapoptosis\"],[\"963_circular_halogenated_composting_organics\"],[\"949_rtes_lmics_cinahl_readytoeat\"],[\"555_spices_fsms_turmeric_spores\"],[\"766_geomatics_ecozones_lakes_watershed\"],[\"971_ntm_mycobacterium_filters_paratuberculosis\"],[\"255_aptamer_aptamers_split_authentication\"],[\"1355_microdebris_oyster_1225_mergui\"],[\"1379_rising_inputs_meet_nutrients\"],[\"1358_bt36_chromate_gut_crviinduced\"],[\"1360_ar_enterococcus_uncommonly_receptacle\"],[\"1356_128_farmers_directtoconsumer_markets\"],[\"984_sas_silicon_plastic_rd\"],[\"942_lysozyme_preservatives_cheese_sensorial\"],[\"1238_histamine_histaminebinding_igemediated_lab\"],[\"1031_lps_ler_supramolecular_lal\"],[\"914_salient_m1_seriously_threatens\"],[\"996_nds_danish_elements_rdas\"],[\"917_tmm_tmms_crops_slight\"],[\"997_nac_nanoactivated_2949_4763\"],[\"922_ardl_sg_tn_longrun\"],[\"1362_monospecie_friction_fluorescens_professionals\"],[\"939_bioaerosols_ima_innocuous_bioaerosol\"],[\"721_nitrate_nitrates_denitrification_nitrites\"],[\"1364_urchins_hev_urchin_gonads\"],[\"590_pyrrolizidine_alkaloids_retrorsine_herbal\"],[\"882_nts_amr_multi_biosecurity\"],[\"1025_pressurestressed_lowwateractivity_cornerstone_subsurface\"],[\"1060_ebola_acceleration_covid19_deceleration\"],[\"985_corngrown_corn_b1_anuradhapura\"],[\"744_peanuts_osmaniye_2017may_aflasafe\"],[\"1013_cre_rootextract_fy_chicory\"],[\"1006_silences_discourse_narratives_breast\"],[\"1353_answer_requests_monitor_industry\"],[\"986_pets_rodents_amr_insects\"],[\"981_module_schemes_mills_optimization\"],[\"1316_fbdb_foodhandling_campaigns_france\"],[\"1041_spore_variotii_size_cc\"],[\"754_shopping_infosan_icw_online\"],[\"765_fp_nanofibers_preservation_enf\"],[\"1019_cit_dhcit_citrinin_2461\"],[\"853_handwashing_customers_kebele_jimma\"],[\"1395_nonfood_unidentified_reporting_overlap\"],[\"864_qatar_postpurchasing_fruits_rotting\"],[\"1363_terrorist_attack_motives_infrastructures\"],[\"1365_nasal_malditofms_determinant_carriage\"],[\"987_mra_climate_dairy_multiomics\"],[\"1308_hrf_hpp_spores_highpressure\"],[\"1403_sex_purge_rarity_recombination\"],[\"572_insecticides_pest_spinosad_pirimiphosmethyl\"],[\"1401_rational_enteropathogenic_causative_priority\"],[\"758_hulless_oat_oats_202\"],[\"1404_forficatus_salivary_glands_cd1\"],[\"1406_age_colombia_pathotypes_bucaramanga\"],[\"767_hydrogel_biochar_lrgpaammturea_ni\"],[\"982_colostrum_iga_igg3_igg4\"],[\"1061_pmi_gdpman_gdpmannose_phosphomannose\"],[\"1405_voi_inspection_hazards_implementation\"],[\"1396_multicenter_assessing_performance_air\"],[\"1394_avian_pathogenic__\"],[\"1389_hydrophobic_mlps_daconil_cucurbitaceae\"],[\"825_codoped_phosphorousfluorine_antimicrobials_impressive\"],[\"1390_mozambique_horticultural_maputocity_farmersvendors\"],[\"1005_bat_sap_bats_pteropus\"],[\"1382_influenza_shoplevel_biosecurity_overnight\"],[\"860_hydrolysate_proteolysis_rapeseed_peptides\"],[\"519_hvpef_uhph_detachedcells_psi\"],[\"84_tps_phenolics_antibacterial_extracts\"],[\"479_fast_pandemic_covid19_lockdown\"],[\"954_foraging_relatedness_foraged_humannature\"],[\"335_au_paraquat_nanomaterials_inhibition\"],[\"928_curcumin_intelligent_smart_packaging\"],[\"988_tcs_ieb_ht22_ctl\"],[\"976_closely_emergence_enteric_part\"],[\"1002_edc_pops_dehradun_fascinating\"],[\"1032_mdro_ams_split_amr\"],[\"994_biomarkers_aflatoxigenic_early_11hydroxyomethylsterigmatocystin\"],[\"792_pcbs_pcb_china_smelters\"],[\"932_phenolic_tamarind_damages_unconstrained\"],[\"1033_sesame_microbiomes_pine_aminivibrio\"],[\"1020_rpcs_multipleuse_crates_cauliflowers\"],[\"850_monps_zh16_biogenic_pgpr\"],[\"992_hms_nps_hmstoxicity_plantavailable\"],[\"787_share_waste_transcripts_table\"],[\"1048_acoustic_paw_biofilms_plasma\"],[\"828_ptes_rice_nghe_tinh\"],[\"1023_opioids_apriljune_illicit_2020\"],[\"1027_barley_bromides_br_pigments\"],[\"890_osace1_mtr_mtrfsa_atz\"],[\"836_3d_printing_printed_ink\"],[\"953_midtrophic_trachurus_pilchardus_scomber\"],[\"1215_vendor_perception_consumer_meat\"],[\"1042_nuts_improper_chances_economies\"],[\"1201_humanity_dispersal_emphasising_recombination\"],[\"1200_sth_endline_95ci_school\"],[\"978_postchill_prechill_serovars_serovar\"],[\"1205_xenobiotics_xenobioticinduced_nic_probioticxenobiotic\"],[\"1203_rectal_diarrheagenic_swabs_pathotypes\"],[\"1273_ethanol_bfrs_246tribromophenol_3355tetrabromobisphenol\"],[\"1272_finio_salcurb_nonformaldehyde_k2\"],[\"933_splashing_venues_ms2_spice\"],[\"1270_apple_fcs_washington_caramel\"],[\"1211_rawmeatprocessing_coexist_members_family\"],[\"1030_alternariol_fullerol_aoh_ame\"],[\"1209_infants_later_mother_wean\"],[\"1035_provola_unconventional_cake_friesian\"],[\"1240_paw_kumquats_kumquat_italicum\"],[\"1239_gnotobiotic_microisolator_cages_experiments\"],[\"1225_uas_min_cleaning_disaggregate\"],[\"1212_norwegian_norway_requested_assessments\"],[\"1233_formicidae_argentine_hymenoptera_ant\"],[\"1046_cap_bcov_dmem_ehv1\"],[\"991_dde_uv9_birds_king\"],[\"1199_urbanized_characteristic_coastal_pahs\"],[\"812_utensils_wash_salad_cambodia\"],[\"1235_enms_hms_hmsenms_metalassociated\"],[\"1024_minced_ann_fastfood_predictive\"],[\"1297_2years_vircapseqvert_triplicates_deduplication\"],[\"1294_afb2_oil_fb2_fb1\"],[\"1208_organotin_tbt_tpht_dibutyltin\"],[\"1054_oxylipins_fatty_fas_acids\"],[\"1204_disinfect_nm_275_ultraviolet\"],[\"1011_eggshells_resonator_cracked_duck\"],[\"1216_dental_dentist_fear_0001\"],[\"1230_gathers_undermining_biotechnologies_boosting\"],[\"694_mofs_metalorganic_agrochemicals_frameworks\"],[\"1226_opes_remote_ope_bioaccumulationbiomagnification\"],[\"1223_rnaibased_silencing_fungicides_sense\"],[\"1231_2year_packinghouses_longitudinal_tree\"],[\"1232_asd_phobia_undiagnosed_anxiety\"],[\"1218_petroleum_hydrocarbon_twoyears_tph\"],[\"1236_disaster_waste_already_covid19\"],[\"1202_faith_player_fraudulently_multistakeholder\"],[\"1222_infants_053_nitrites_children\"],[\"972_pef_nonthermal_cp_hhp\"],[\"1220_lowwater_activity_salmonella_contamination\"],[\"877_blockchain_supply_framework_origins\"],[\"1062_deoxynivalenol_don_emerging_produced\"],[\"1052_purchasing_traceability_supermarket_concerned\"],[\"903_proteins_spiders_expression_montrouzieri\"],[\"1039_fellow_plantbased_alternatives_riskbenefit\"],[\"1001_fbd_fbds_occursaimto_27711\"],[\"1012_abgs_args_coselection_silicon\"],[\"1249_hsds_caenorhadbitis_sanitizertolerant_alcoholresistant\"],[\"1246_libya_thirtyone_preferable_twentyone\"],[\"1245_rtc_readytocook_worry_raising\"],[\"1407_pitaya_undatus_extract_cholinergic\"],[\"1248_uncommon_pulsenet_subtype_subtyping\"],[\"1265_sesame_seeds_emerged_classified\"],[\"1247_apples_716_drying_participants\"],[\"1250_apdi_endangers_tio_titanium\"],[\"1255_carcinogenic___\"],[\"1257_porkcooked_slicingpackaging_hams_packager\"],[\"1256_chestnut_twentyeight_metalloids_performed\"],[\"1259_disinfectant_sds_precooling_bactericidal\"],[\"1258_acr_axis_neurotoxicity_microbiotagutbrain\"],[\"1261_coliform_functional_3715_lutein\"],[\"1254_financially_challenged_comparatively_southeast\"],[\"1264_rutinosidase_tartary_buckwheat_alumflavonoid\"],[\"1251_smelting_stabilizationsolidification_hydrometallurgy_electrokinetic\"],[\"1260_blight_leaf_sclb_nclb\"],[\"1253_metabolites_discs_dd_degeneration\"],[\"1252_grass_shrimp__\"],[\"1262_pyrethroid_cleavage_bond_curing\"],[\"1263_qams_precursors_esm_havn\"],[\"1288_networks_rdna_phyla_rte\"],[\"1287_call_apcc_companion_surveillance\"],[\"1269_groupalcl_ewh_omnipresent_al\"],[\"1280_cholera_enteric_ingestion_toxins\"],[\"1375_pufas_expectant_eaa_brains\"],[\"1372_ontologies_cs_datasets_ontology\"],[\"1286_preserving_sn_18000_tuna\"],[\"1285_gbs_spores_aptamers_counterselections\"],[\"1284_ciprofloxacinresistant_cip_fresh_closely\"],[\"1283_hhra_grasp_integration_models\"],[\"1242_satisfactory_document_continuously_tomatoes\"],[\"1036_toxicogenomic_nonlegislated_snvs_immunoassay\"],[\"1243_verbascoside_adjuvant_exponentialphase_slowed\"],[\"1244_natamycin_polyene_hampering_macrolide\"],[\"1266_furan_bread_maillard_monochloropropanediols\"],[\"1289_liposomes_biopolymerliposome_encapsulate_amphiphilic\"],[\"993_herbal_aflatoxin_herbs_lebanon\"],[\"1268_attribution_experts_performancebased_cookes\"],[\"1282_iplc_sovereignty_mining_culturallyvalued\"],[\"1293_mdm_postpick_postchill_drumstick\"],[\"1292_coffee_silverskin_cs_unsustainable\"],[\"1291_kernels_like_maize_fungal\"],[\"1290_coldsmoked_supporting_salmon_capable\"],[\"1278_regulators_pathwayspecific_inhibit_biosynthesis\"],[\"1276_baghdad_soft_percentage_cheese\"]],\"hovertemplate\":\"Count=%{x}\\u003cbr\\u003edov=%{y}\\u003cbr\\u003eName=%{customdata[0]}\\u003cextra\\u003e\\u003c\\u002fextra\\u003e\",\"legendgroup\":\"\",\"marker\":{\"color\":\"#636efa\",\"symbol\":\"circle\"},\"mode\":\"markers\",\"name\":\"\",\"showlegend\":false,\"x\":[11,13,11,5,15,8,12,4,17,18,17,3,13,10,2,13,8,12,4,3,17,11,10,2,24,23,12,3,4,6,3,2,10,6,2,6,25,11,17,21,1,7,29,3,18,4,4,5,1,12,12,25,6,21,10,17,35,11,10,2,18,6,8,8,14,24,18,9,19,6,7,11,20,8,3,7,7,14,4,19,6,6,9,3,7,15,10,11,6,7,9,3,5,4,11,12,10,16,12,4,14,9,4,7,7,3,7,15,7,4,4,5,14,10,7,12,18,15,6,10,5,10,11,10,6,12,7,32,9,8,9,10,2,8,5,16,12,8,3,2,12,4,8,10,6,2,9,5,7,6,8,20,4,14,7,5,13,19,7,8,5,4,9,6,7,9,6,8,5,8,14,3,4,19,9,12,6,3,5,1,2,8,17,11,3,3,4,5,2,10,5,16,3,6,5,6,9,6,1,18,6,1,6,4,12,15,3,7,6,6,3,7,8,3,1,9,6,14,11,4,10,9,5,4,11,3,5,7,10,11,7,11,3,12,4,1,5,12,2,3,5,11,7,11,7,19,2,6,5,11,4,9,7,3,11,5,11,7,1,8,3,7,2,1,3,9,3,2,1,11,5,3,10,8,5,7,2,3,1,5,7,5,17,4,8,9,11,4,11,4,2,4,2,9,5,20,4,4,5,9,3,2,24,9,2,13,8,8,7,8,5,3,7,6,4,5,5,11,3,11,9,17,4,6,12,13,9,2,9,10,13,4,3,4,8,2,19,4,5,5,5,11,7,5,3,8,5,18,6,4,3,6,14,10,15,7,6,6,10,7,26,5,11,7,5,4,10,7,17,7,3,5,10,4,4,3,6,8,5,22,14,6,2,4,3,8,6,11,7,3,2,7,3,16,5,11,3,4,10,12,4,11,5,4,3,7,3,7,2,6,8,6,3,7,9,3,2,8,14,9,3,10,3,5,4,5,2,1,2,2,6,5,2,1,3,8,5,3,2,1,3,5,8,6,5,1,5,6,3,10,9,2,5,4,1,3,4,3,10,1,3,1,6,1,4,2,7,3,3,7,10,1,1,12,4,1,6,8,7,4,2,1,7,14,6,4,1,3,2,7,7,5,2,1,2,11,3,2,1,4,3,3,3,3,6,4,8,5,2,7,15,1,5,5,2,5,4,3,6,4,2,9,3,5,15,11,2,7,3,4,3,1,11,6,8,4,6,4,11,3,1,1,3,2,5,2,8,11,5,5,13,6,8,4,6,15,3,2,7,6,2,2,13,6,5,11,4,22,7,14,6,11,8,10,6,12,2,6,5,7,13,11,10,4,4,7,20,8,6,8,5,2,1,1,1,3,2,6,11,11,9,2,4,2,2,9,6,1,3,2,4,1,4,3,5,2,4,2,2,1,2,3,11,3,1,8,7,2,1,4,1,3,4,5,9,4,4,6,9,5,3,2,5,7,4,9,5,3,2,1,3,1,3,1,5,3,7,6,6,4,12,7,3,3,3,4,14,1,5,5,1,2,3,13,12,6,5,3,6,4,2,1,7,1,5,8,6,2,2,7,14,11,2,2,2,1,1,3,3,4,13,6,12,12,7,4,8,8,5,7,2,8,7,5,3,10,2,7,5,5,2,4,3,3,5,4,5,7,7,9,13,7,29,4,3,3,4,5,8,5,2,4,10,3,6,1,2,12,11,2,1,2,2,12,2,4,1,11,4,2,4,3,5,2,9,10,4,4,4,4,2,3,6,32,4,5,1,5,4,4,1,2,11,1,3,6,3,11,5,5,3,9,5,8,5,1,3,1,3,1,9,5,3,2,2,6,1,3,13,6,4,24,2,4,6,3,11,4,4,4,4,3,1,10,1,8,3,2,8,5,2,7,4,7,2,7,6,2,2,22,14,8,7,9,5,6,13,9,11,9,12,2,3,3,7,3,3,12,15,3,3,4,5,4,3,2,7,3,8,4,7,5,3,7,4,6,3,11,5,5,5,7,2,2,4,2,4,5,4,2,7,2,6,2,1,4,5,7,2,1,6,3,5,1,3,8,14,5,4,2,10,2,4,4,3,1,10,6,1,2,3,1,6,6,1,2,2,4,4,1,2,3,3,2,3,4,2,3,2,3,6,2,3,5,5,1,13,2,2,5,2,1,1,5,4,6,5,2,2,4,3,7,4,10,1,3,17,2,2,1,7,2,2,7,3,1,4,4,2,3,2,1,4,1,4,4,3,1,2,3,2,4,3,3,7,13,14,4,9,6,3,2,5,7,5,4,8,3,8,3,8,6,2,6,2,5,2,8,12,3,3,14,6,6,3,2,2,2,2,4,3,3,4,2,5,2,3,4,3,1,8,6,2,2,2,2,2,1,6,2,2,7,1,1,1,2,5,3,16,2,1,3,1,2,2,1,3,3,3,2,2,1,3,4,4,2,3,3,2,1,1,3,5,10,13,2,12,7,2,8,1,3,2,2,9,2,1,3,4,2,16,8,5,6,6,7,3,8,2,4,3,6,2,4,4,3,5,3,4,4,3,6,2,3,2,4,2,5,2,6,3,3,1,3,2,4,1,1,3,4,4,1,1,1,3,2,2,4,2,2,2,1,1,3,3,3,2,1,1,2,7,2,2,4,1,1,1,6,2,1,5,4,3,2,2,2,1,2,3,1,2,2,2,4,2,1,12,4,1,1,8,5,5,4,6,3,3,8,4,5,4,3,2,3,6,2,4,4,4,3,2,2,5,5,2,4,3,2,2,3,3,5,4,2,8,1,1,1,1,1,2,3,1,2,3,2,3,2,3,1,3,4,1,5,3,2,2,2,4,2,2,1,2,2,1,2,4,4,2,3,1,3,1,1,2,1,1,5,1,4,1,1,4,2,2,1,1,1,1,3,1,2,1,3,5,13,6,3,7,3,2,2,2,2,2,3,3,2,2,3,2,3,2,3,2,2,3,3,3,1,2,1,1,2,1,1,1,1,3,1,1,2,1,2,1,1,1,1,1,2,2,1,3,1,2,1,1,1,2,1,2,1,1,4,1,1,1,1,1,1,1,1,2,1,3,2,2,3,2,2,2,1,1,1,1,1,1,1,1,1,1,1,1,1,1,1,1,1,1,1,1,1,1,1,1,1,1,1,1,1,1,1,1,1,2,1,1,1,1,2,1,1,1,1,1,1,1,1],\"xaxis\":\"x\",\"y\":[0.0033920775366969914,0.006757558197063295,0.002868029530131911,0.0042690673085096645,0.0036931120200313283,0.0020899231743534284,0.002625247001137074,0.0043966345874823865,0.0034550371810001153,0.003928030698665181,0.003020030076414474,0.00828741930164745,0.002495438517080316,0.0037733899612465865,0.005860090386731194,0.0032273888497819573,0.0030769838620419306,0.003587289063211816,0.003107259732550871,0.003113047743459519,0.003997705847498636,0.0023223072713690735,0.0034738892853492377,0.003962766405926509,0.0034218331481484687,0.003126395676533901,0.003383061053597298,0.003725748340326609,0.005038347444040164,0.0031861418717398743,0.0034896111846446564,0.005394148150026289,0.0024127312510365696,0.004122843785995711,0.005399177659883502,0.0040027869532865724,0.0042855843230389145,0.003374192578067885,0.004347491212616739,0.0037438777540362623,0.015625000000000007,0.0033240262495426473,0.00541045127590372,0.003167792056542041,0.0033995906370369805,0.0019117301273626772,0.0035666793257044267,0.0037600746726517745,0.015625000000000007,0.002929079052393699,0.0034269865444055275,0.0033081389635226228,0.0024527772760171217,0.003783396004444655,0.002791522811426757,0.0033039282403614216,0.006299867032019911,0.0029286587511605676,0.002441020901650983,0.005860090386731194,0.0044171216199521005,0.005159504869210633,0.002024888519401323,0.005202989030495729,0.0034115563101636084,0.0032838303565359177,0.002542550585151579,0.002820456916220552,0.0028031312379438226,0.002146411230978358,0.0030678876457481126,0.0022720471339332015,0.003399828793488193,0.002936982882433732,0.006593406593406591,0.0018448779012577962,0.0018854280413482195,0.00258466643242145,0.003653351462661365,0.004337665558900815,0.001875931667354271,0.002913291853584858,0.0026680907998111185,0.0019374515548565912,0.0017835358581576078,0.003655357082110964,0.002885923144858554,0.002779074865076794,0.0027972580124866493,0.002549758388787195,0.001943390543439332,0.002863695945698703,0.0025422014304713743,0.004046105051977332,0.0030559079686695327,0.005973732445105194,0.0030116030381783336,0.0024409870484350957,0.002576096004839716,0.00231150716155413,0.002561037160680307,0.002290389133150726,0.0015520629449245346,0.0017796631980242685,0.0022506057301396832,0.0029829489781903126,0.0019330849799043817,0.003101743719661452,0.0023918367794613458,0.0017621621259595135,0.005064865550604929,0.0027584168818836595,0.002524652757548528,0.0017821225588454735,0.001697657123342491,0.0025906049067374246,0.0044556779430667826,0.0030193418151492845,0.002993619561507553,0.0020372621172402264,0.002021044820433417,0.0017074175030255274,0.0018741489262077296,0.0023123003052440794,0.0022260921040172317,0.002201003170113952,0.0017266005482877134,0.00443347322271157,0.0027971928607271167,0.0020624507812970947,0.002815487596311282,0.002123325839400238,0.0043956043956043965,0.0018325217275421862,0.0024105101802509624,0.0032245186907015983,0.001953144468722665,0.002821771508475014,0.002373897691724492,0.0043956043956043965,0.0018918492646396146,0.0029724376729896008,0.0021020446746224278,0.0019542263576459067,0.0021382648575418444,0.0043956043956043965,0.0017640340032141696,0.0022458304733203815,0.00291174291495199,0.0023485183162146187,0.002649183653009363,0.0034871757896695783,0.001777174587632338,0.002195957784474057,0.0022454229655646516,0.0025449948513671353,0.0020546874838385004,0.003166128663061259,0.002169990868504464,0.001584449107120531,0.0019326481117952392,0.0016606532271361708,0.00205013354027511,0.0022530978687829604,0.0020108574409739128,0.0019106884087717255,0.0017047582180422362,0.001495581815615858,0.0019748606332625615,0.0023148668284919765,0.0021190474967268456,0.0019374515548565912,0.0016643958022772873,0.003064291080268473,0.0023897255847706786,0.002194837122889367,0.0036768807060449846,0.0025313211140654793,0.0018761315563255183,0.0021978021978021982,0.0016785991556614792,0.0015955378769373781,0.0021142986524787933,0.002851163134766082,0.0014883175527606938,0.001414784543915857,0.0013797241198821634,0.0023053513210606093,0.001369985132659516,0.0020239208390308437,0.0015266733167076454,0.0022351487812602836,0.0025729139390889915,0.0013950930208171902,0.0015438945564659246,0.0017635732550549028,0.0023172798566009397,0.0017011765084676202,0.0021978021978021982,0.0030190568981456403,0.0019943667429552134,0.0021978021978021982,0.0018445072949801408,0.0022851080093858997,0.002918158951874906,0.0024827490446412614,0.003272967235130034,0.001984115468547286,0.001652965876127578,0.001966380532623677,0.0015974485088393433,0.002357940989922122,0.0016616078355280645,0.001235576223599498,0.0021978021978021982,0.002694785231325884,0.0016981155952729115,0.002040149244740684,0.0019067783285354625,0.0015740848222964123,0.0022108994013878194,0.0016167643399725327,0.0018021114974428284,0.0013978817005790773,0.0020934946886520664,0.0020234654323708083,0.0013262981384907595,0.0020277436495088163,0.0015827842784007257,0.002109664040832511,0.0029410475500233515,0.0022131017965927305,0.0020234654323708083,0.0028630076430308194,0.0017321396559862603,0.0021978021978021982,0.0020165002811515405,0.001982326050068029,0.002109263450411853,0.0015603963285176921,0.0023760374205648335,0.0018009607609962683,0.0021348646111839604,0.0019083396269145853,0.0015998155479344284,0.002820942134116722,0.001369985132659516,0.0018170148126377933,0.0016407777401047353,0.0018843591496756997,0.004123680315156548,0.0019164132571147972,0.0024023211776447026,0.002092389071729829,0.0020786133502596234,0.0012851150954454255,0.0019437159332597314,0.0017803267564481132,0.0021978021978021982,0.002203404065583622,0.0014883175527606938,0.001727619889818778,0.001479542501500789,0.0021978021978021982,0.0013400233576656949,0.0017099450543563328,0.0015603963285176921,0.0016785991556614792,0.0021978021978021982,0.0027371405290984438,0.0017647200939187857,0.0016189818266914868,0.003469653651869088,0.0018647516808673902,0.002189918039233102,0.0017120245619112202,0.0016785991556614792,0.0025729139390889915,0.0021978021978021982,0.0018172119968279973,0.0019865775466248355,0.003787971878879604,0.003031517044446536,0.001782516827945507,0.0017219838728850772,0.002278758462246354,0.0017172283549496676,0.0012959382302770047,0.0016825347874684995,0.0013491676915226322,0.002109263450411853,0.0015473408557942023,0.001479542501500789,0.0024343309851197568,0.002310845076615357,0.0032072052021787857,0.0014227034380862238,0.0012442305147056178,0.001531364682597283,0.0017909307135023182,0.0018852307938176276,0.0018193248937392176,0.0031506902498463995,0.0023881076538561697,0.0016785991556614792,0.002468162756134179,0.0019380435880431137,0.0019624813528432614,0.001984115468547286,0.001756790190330823,0.001349235379275065,0.0019374515548565912,0.0017835358581576078,0.001961354997128739,0.0013696542815864196,0.002017172083273914,0.0025422014304713743,0.002240710782949724,0.0019374515548565912,0.002240710782949724,0.0018674383315732787,0.0028523015756080367,0.001423366548701156,0.0021872537401014334,0.002269781271427067,0.002960664188574795,0.0021248257065121655,0.0020230525259886654,0.0015532905423925514,0.0016423921822215106,0.002470983348864418,0.002286528213610663,0.0025313211140654793,0.0027291613879902275,0.0026003741812744073,0.0020230525259886654,0.0030324882698939313,0.0021289990516152033,0.0022169112749846507,0.001961354997128739,0.0014829824282129919,0.00252263943635729,0.0015014180997085247,0.001292668192580041,0.0028610283196463192,0.0019938975253449044,0.0023047477248285494,0.002597179899534542,0.001976903259552097,0.0012442305147056178,0.0016022504871489153,0.001552079443563688,0.0023728708049256773,0.002055562726760088,0.00343659859216472,0.0034628697182060636,0.0020340293486753743,0.002432688079729401,0.002926692821212526,0.002228257732136768,0.003630788438942442,0.002031179909603447,0.0020368111238059463,0.003029995497764837,0.002248358944832005,0.0021842132482646753,0.0022144814601986846,0.0031556835875107634,0.003046812297229723,0.002322369185133788,0.0017834026492251488,0.0015614210291377735,0.001814288645530648,0.0020729974722420897,0.0016856869002014128,0.0019260209135959197,0.0014765110714273183,0.0018692102177625487,0.002405593984461014,0.0031796648413646407,0.0029426639833890437,0.002052452665870692,0.0037243947858472994,0.0027238048974215713,0.0023683387198495712,0.0019482680390921084,0.002013458151317911,0.0022703168863812723,0.0019517464203666667,0.0021851464733652626,0.0037243947858472994,0.0015716679158123456,0.0023683387198495712,0.002703454779491263,0.0021251487832484642,0.0016910494330347034,0.0019260209135959197,0.0019641224519203583,0.002040329249508342,0.0026497169225524653,0.0019056906469861101,0.002196956386233715,0.002401019760725579,0.0018104144544828448,0.002745771421676565,0.0017222934148398976,0.0021851464733652626,0.0019794247745608486,0.0016475962670121514,0.0015885211600021366,0.0013039773709630405,0.0018157297070130714,0.001512547668875854,0.0013534635257739828,0.002841610869510313,0.0015170944327045127,0.001368047940960947,0.0015744133758564922,0.0027782048296075734,0.0019968935652940624,0.001338759843086608,0.0019166609149009464,0.0012680160154107606,0.001594913728419652,0.0022233178177115975,0.001725900089208594,0.0012610561068531563,0.0018621973929236495,0.0013619024487107854,0.0019415535918557263,0.002801204919141173,0.0014326852838971906,0.0016746683689522987,0.0018621973929236495,0.0011691814406236448,0.001672117366346574,0.002037285697561417,0.002745771421676565,0.0012610561068531563,0.0018621973929236495,0.002745771421676565,0.001283541870747007,0.0015109805818464175,0.0017421351685954756,0.0019296298031461333,0.0018621973929236495,0.0020152700818489686,0.0016920094402710956,0.001338759843086608,0.0016884438130601509,0.0020439012208582044,0.0018639337078863263,0.001828795553369082,0.0022233178177115975,0.0018621973929236495,0.0011656773793280735,0.0016674707830162923,0.001476547049444941,0.0017504485208008635,0.0018621973929236495,0.0013347475517627545,0.0018621973929236495,0.001727835905684128,0.0018621973929236495,0.0015962854369361975,0.0013619024487107854,0.0027101752101244105,0.0012307116365035302,0.0014083414905580514,0.0014786632656854282,0.001582800049389259,0.0018621973929236495,0.0018621973929236495,0.0022068185751289424,0.0015976000694198375,0.0018621973929236495,0.0015489874703828056,0.0016775946673748788,0.0014605210886032677,0.0017328455015076954,0.0016746683689522987,0.0018621973929236495,0.002694339579038728,0.002498941629436013,0.0018305863015701774,0.001545528084786215,0.0018621973929236495,0.001512547668875854,0.00543679030095569,0.0016404441361345078,0.001757987646835746,0.002012849956775565,0.0018639337078863263,0.0018621973929236495,0.0013619024487107854,0.0020472319045104362,0.0013931224640439312,0.001368047940960947,0.0018621973929236495,0.0019582359357438223,0.0011691814406236448,0.0013347475517627545,0.0013379305793343671,0.0012307116365035302,0.0018305863015701774,0.0014686614676017314,0.0021141981404345393,0.0018983139991797528,0.0015451318892024451,0.0014796262236247716,0.0026144419280239558,0.0018621973929236495,0.0016255549501972915,0.0014301074648011018,0.0012610561068531563,0.0019762854866246246,0.0019301793986766058,0.0016453391840822549,0.0016355810511638749,0.0015329849535978112,0.0013619024487107854,0.002465830684311921,0.0014083414905580514,0.0016239906768622501,0.002569716859802616,0.0017669131810668472,0.0015451318892024451,0.0015218627350719112,0.0015319844039732957,0.0011232540842958313,0.0013379305793343671,0.0018621973929236495,0.00224448401423955,0.002734210704341892,0.0018082866057508868,0.001338141498826731,0.002989779713589498,0.0024629241574859167,0.0031194738135120683,0.0023683387198495712,0.0018621973929236495,0.0018621973929236495,0.0015319844039732957,0.0012610561068531563,0.002952891886349515,0.0012610561068531563,0.0023411217288932013,0.0021070903901716804,0.00197934727149866,0.004207751591014205,0.003972111209762698,0.002168978584769599,0.0018197180097352203,0.0019653431622730913,0.0018975667822089513,0.0022503302556104213,0.002429346513755128,0.004048582995951416,0.0023676599003061775,0.002493821292413144,0.004048582995951416,0.004048582995951416,0.003334409747628588,0.0015090259709536404,0.0016582322829890648,0.0021215164398787354,0.001514633960978906,0.0033188708195779444,0.0019076986515419283,0.0022711737638709275,0.0020994755415695617,0.002932830943305653,0.002054575546697176,0.0020477951063359386,0.0021779332464881025,0.003313026358997285,0.004048582995951416,0.0019703580510751426,0.0021785535635955528,0.0020685920779162197,0.001891080581053767,0.002194343332792321,0.0034147147281078476,0.0022246996190727307,0.0015943441933408279,0.002573564782842087,0.0030761571229900217,0.0020799067724760947,0.0016452523837828022,0.0016778608880248353,0.001479148693476365,0.0016109765703526753,0.0020242914979757077,0.0020242914979757077,0.0020242914979757077,0.002429346513755126,0.0014199389393946733,0.002369141141466046,0.001683848714215666,0.0020540348520430582,0.0017197755560828417,0.0019433638986283532,0.0016426707209634163,0.0017460331537687943,0.0013147951034064892,0.002039575754364046,0.0017521951336242486,0.0020242914979757077,0.0024692637664128964,0.0014263463173651105,0.001221657929221444,0.0020242914979757077,0.0014845533923791363,0.0015598939016354056,0.0015943433633848897,0.0016109765703526753,0.001984632603054554,0.0017178073937281493,0.0016109765703526753,0.0020242914979757077,0.0019433638986283532,0.0015581817409142718,0.001982886510707217,0.0014524258294446746,0.0020242914979757077,0.0021989534766298164,0.003110437733801694,0.005668475198761964,0.0020242914979757077,0.001963185974939732,0.0020242914979757077,0.0013765282305217717,0.0013944015824234872,0.0016073885390204125,0.0017450328942004312,0.0016426707209634163,0.0016426707209634163,0.0016990956709923158,0.002386063907005414,0.003886727797256707,0.001575203940929594,0.0017460331537687943,0.001416043770201518,0.002116977737796817,0.001714512590323997,0.0019613465968715787,0.0020947605284199634,0.001575203940929594,0.0014263463173651105,0.0020242914979757077,0.001432424501103342,0.0020242914979757077,0.0017657452578146513,0.0020242914979757077,0.0012641508894042793,0.001198562855475434,0.0017512841149952031,0.0024160213180095032,0.0018377571735573583,0.0011469377325351842,0.0029472933359355954,0.002121606008327007,0.001575203940929594,0.001198562855475434,0.0020171583066586583,0.0017291191093103256,0.0038524220346267536,0.0020242914979757077,0.002629590206812979,0.0018372957153480912,0.0020242914979757077,0.0017178073937281493,0.0018594010669791931,0.001923472936236427,0.0022217739147399438,0.0015750609784803602,0.0016957885158257948,0.0012021657715023384,0.0021851023611941856,0.0014819037139715263,0.0017460331537687943,0.0020242914979757077,0.0015747918752733842,0.0020242914979757077,0.0022430137425217193,0.0018798403407002961,0.0013481342920751407,0.0014199389393946733,0.0016109765703526753,0.0015474796629715696,0.0019893969253397524,0.0017087842020278537,0.0014199389393946733,0.0017460331537687943,0.0014263463173651105,0.0020242914979757077,0.0020242914979757077,0.0012654318248543094,0.0015581817409142718,0.0013406776189539046,0.0028905521308830303,0.0015717838192640568,0.003333644096955517,0.002778018515839478,0.0020103718193957426,0.0023717378920352287,0.002545316785579608,0.0015196834662679337,0.0024333850741556484,0.0027963573325782975,0.0037313432835820903,0.0016613403061698148,0.001950336737302366,0.0015621487949047492,0.0023705469615599227,0.0016679190105664185,0.0037313432835820903,0.0019301583248005354,0.0018515475280172957,0.0015400509297312389,0.0037313432835820903,0.002738647020827551,0.0019278167376817084,0.0019278167376817084,0.001693898886521969,0.0017615947331716371,0.0019548471375362415,0.001572253921909559,0.0021602851089080524,0.0021139906579311753,0.0022994113964436096,0.0016399748014362563,0.004324391838774208,0.001598592984572539,0.0017850654958793725,0.0021871839064170765,0.0015515632012810272,0.0014699084232391495,0.0022475552479570764,0.0018515475280172957,0.0037313432835820903,0.0019313790132791944,0.002101634767172123,0.0021871839064170765,0.001571783819264054,0.001865671641791045,0.0016491324876414652,0.005153360461617321,0.002362101918862511,0.0015465725719295965,0.001865671641791045,0.0012622319169984313,0.001676229831640187,0.0028810493137470727,0.0015465725719295965,0.0014695742468718877,0.001865671641791045,0.001841531889223584,0.0012461542092575208,0.0013693235104137752,0.0016867345616893867,0.0011664018527149057,0.0015621487949047492,0.0016491324876414652,0.0016611037659257184,0.0020931576227821444,0.0011969889960638297,0.0016827217057917986,0.001780839098001884,0.0015515632012810272,0.001676229831640187,0.0015999792059677024,0.001816576004006764,0.009786968735552893,0.0012461542092575208,0.002539808674680376,0.001865671641791045,0.0025244638339968627,0.0016877800178985998,0.001780839098001884,0.001865671641791045,0.0015465725719295965,0.0017673837306493368,0.001865671641791045,0.0012688040926897152,0.0016267210756139745,0.0015163710949043297,0.0022885069412839263,0.001191545658099631,0.0021021872463069997,0.0021871839064170765,0.0016259293911629036,0.0011838031225686807,0.001448538410373733,0.0016270685542358655,0.001865671641791045,0.0013939882955061296,0.001865671641791045,0.0017850654958793725,0.001865671641791045,0.0024529424658220294,0.0014699084232391495,0.001339591887951571,0.0015465725719295965,0.0013631722880996647,0.0016927980722448248,0.001865671641791045,0.0011699080917992866,0.0021721597578665095,0.0014770615977069185,0.0016877800178985998,0.0035862509380649716,0.0016491324876414652,0.002361083662458536,0.0016230632161968843,0.0013355771029718113,0.0016679190105664185,0.0013675604423747988,0.001368196114628984,0.0014211905976365341,0.0015985929845725375,0.0015999792059677024,0.001865671641791045,0.002241015117994392,0.001865671641791045,0.0016613403061698148,0.003089728479728572,0.0016491324876414652,0.0018373935595465205,0.0016270685542358655,0.0013631722880996647,0.0026775242176168535,0.0016877800178985998,0.001930570619670744,0.001676229831640187,0.0018691765011149665,0.0018577184615936534,0.0015465725719295965,0.0013693235104137752,0.0045639448572433565,0.0027361995378239155,0.0032324475206342374,0.0024595491604848807,0.002094573660635061,0.0016358624432341044,0.0019580136703907887,0.0023610508196532363,0.0023733810449267333,0.0018739672774339623,0.0032229211479872333,0.002103457148693265,0.0029154518950437304,0.0015778818929768558,0.002095409460174492,0.002824748688228437,0.0015778818929768558,0.0017040647138088206,0.002582692886393348,0.0027085134674515285,0.0017117541900282087,0.0019333284355741664,0.0014290574734051084,0.0013907966019537563,0.002409911429429861,0.002095409460174492,0.0029154518950437304,0.0018303912651339693,0.0017117541900282087,0.001966463367112672,0.002420785990986863,0.002675481039172812,0.0019585713501903525,0.0015778818929768558,0.0017769002385483713,0.0015545191108234716,0.0013028212163126052,0.002095409460174492,0.0024382880995541425,0.001855074942821823,0.0017104824921400125,0.0015387829701049426,0.0019668834169854175,0.0029154518950437304,0.0029154518950437304,0.0015545191108234716,0.0029154518950437304,0.0014290574734051084,0.003348623078132108,0.0016353147825158311,0.0013670696470552723,0.0012993363395730026,0.0014816782386518261,0.0014941890408587976,0.0014816782386518261,0.0014577259475218663,0.0035962296435797683,0.0016358624432341044,0.0016232420330118246,0.001115730986435402,0.0014577259475218663,0.0016539452145650153,0.0017040647138088206,0.0017053561402418304,0.0014577259475218663,0.0015778818929768571,0.002729105187433643,0.002572225701382704,0.002231461972870804,0.0014290574734051084,0.001115730986435402,0.0019121304394016157,0.004810250212153385,0.0012968732440766272,0.0014723739578576063,0.0010743070493290784,0.0014577259475218663,0.002248364747070624,0.0023585320424008085,0.0014577259475218663,0.001115730986435402,0.0012330583730812137,0.0014577259475218663,0.0015879530810455772,0.0017608772178989258,0.0014577259475218663,0.0012103929954934323,0.0014816782386518261,0.0013535420655001553,0.0016353147825158311,0.0014577259475218663,0.0012103929954934323,0.0017117541900282087,0.001933328435574168,0.0012103929954934323,0.0012330583730812137,0.0011228523918133978,0.0012103929954934323,0.0027034985849087242,0.0012049557147149315,0.0012301248435995296,0.0015391694533628683,0.0012049557147149315,0.001933328435574168,0.0013907966019537563,0.00113417174373508,0.0014577259475218663,0.0031371401730958767,0.0012049557147149315,0.0014816782386518261,0.0019573581585673144,0.0012049557147149315,0.0014577259475218663,0.0014577259475218663,0.002409911429429863,0.0013535420655001553,0.0014941890408587976,0.0011929071599837417,0.001115730986435402,0.0012049557147149315,0.0011228523918133978,0.0011342436683031425,0.0014491238921649167,0.0013535420655001553,0.001957708469180259,0.0014577259475218663,0.002095409460174492,0.0026677511914941156,0.0012103929954934323,0.001115730986435402,0.0014577259475218663,0.0017573589641255577,0.001115730986435402,0.0012103929954934323,0.0017573589641255594,0.0010743070493290784,0.0014577259475218663,0.0014290574734051084,0.001357610853698122,0.0012049557147149315,0.001933328435574168,0.001115730986435402,0.0014577259475218663,0.0020964621653201112,0.0014577259475218663,0.0012451282216132322,0.001778884424834011,0.0010775364486619214,0.0014577259475218663,0.0012049557147149315,0.0017040647138088206,0.0012103929954934323,0.001357610853698122,0.0014119015036556763,0.0017117541900282087,0.002155072897323845,0.002103457148693265,0.004022825281216857,0.0013535420655001553,0.0019608433266674746,0.001261535620610041,0.0012301248435995296,0.0013670696470552723,0.0024605625833690045,0.0039285124679211475,0.00277906467975915,0.006024096385542172,0.0024864182583942958,0.0045180722891566254,0.0019825532888910927,0.0045180722891566254,0.0019825532888910944,0.0014932057348125188,0.0030120481927710854,0.002146729006107945,0.0030120481927710854,0.001266738752737733,0.0030120481927710854,0.0021117118015851473,0.002397579261112923,0.0017398804882341127,0.001603808499094779,0.002754095353215421,0.0016045539846560111,0.0016674780622006264,0.0019650954804137175,0.0030120481927710854,0.0030120481927710854,0.0030120481927710854,0.0030120481927710854,0.0024495093389362765,0.0019650954804137175,0.001603808499094779,0.003624620574755807,0.0012302812916845022,0.0013492636937783029,0.001134063865434537,0.0017320646641416167,0.0014884587593604747,0.0017398804882341127,0.0015060240963855427,0.0015818124008717648,0.001401876874638584,0.001134063865434537,0.0012302812916845022,0.001224754669468138,0.001224754669468138,0.0012302812916845022,0.0015060240963855427,0.0015064147376053828,0.001134063865434537,0.001134063865434537,0.0013770476766077106,0.0015060240963855427,0.0015060240963855427,0.0015060240963855427,0.001134063865434537,0.0013492636937783016,0.0011466345993999467,0.002539573114175002,0.004889288740407147,0.0015060240963855427,0.0010893078874301357,0.0015060240963855427,0.001389532339879575,0.001224754669468138,0.0015060240963855427,0.0010860432088484534,0.0017398804882341127,0.0012435632189711206,0.001224754669468138,0.0012302812916845022,0.0015060240963855427,0.0017320646641416167,0.001566791476456743,0.001368328699923541,0.001224754669468138,0.001603808499094779,0.0028768632566764747,0.0012302812916845022,0.0015060240963855427,0.0015060240963855427,0.0017398804882341127,0.0019740335619837196,0.0019246365205097267,0.00283934944843645,0.0012302812916845022,0.0036099383691425616,0.0016671219536779824,0.001389532339879575,0.0018449737240708983,0.0015060240963855427,0.0010893078874301357,0.001224754669468138,0.001224754669468138,0.0018170253027953067,0.001134063865434537,0.0015060240963855427,0.0019650954804137175,0.001368328699923541,0.001389532339879575,0.0036836236075128044,0.002705614860022202,0.002563007495692978,0.001974694658336552,0.0013465678487564858,0.0016013480665751218,0.003846153846153847,0.0020463406092725484,0.0025641025641025637,0.001369176804757623,0.0016052998167353722,0.0018703462501114447,0.0025641025641025637,0.0012968256594542034,0.001369176804757623,0.0016052998167353722,0.0012167614061329604,0.0016052998167353722,0.002260038502343892,0.002270236772502205,0.0016052998167353722,0.001974694658336552,0.0011300192511719458,0.0010323852883771171,0.0010463434285627252,0.0013007239564281196,0.0010463434285627252,0.0016388094928063294,0.0011300192511719458,0.0018703462501114447,0.0010292912080184775,0.0010292912080184775,0.0012820512820512818,0.0014797530675733684,0.0011300192511719458,0.0010231703046362749,0.0012820512820512818,0.0012820512820512818,0.0016052998167353722,0.0012968256594542034,0.0013007239564281185,0.0012820512820512818,0.0012820512820512818,0.0012820512820512818,0.0015980885507500548,0.0011351183862511026,0.0011300192511719458,0.0012968256594542034,0.0011351183862511026,0.0010463434285627252,0.0011300192511719458,0.0012820512820512818,0.0012820512820512818,0.0016052998167353722,0.0015980885507500548,0.0010323852883771171,0.0010463434285627252,0.0012820512820512818,0.0012820512820512818,0.0011300192511719458,0.0017600632078373995,0.0011351183862511026,0.0011351183862511026,0.0013007239564281196,0.0012820512820512818,0.0012820512820512818,0.0012820512820512818,0.001633897946390152,0.0011300192511719458,0.0012820512820512818,0.0014889572385535885,0.0012968256594542034,0.0010323852883771171,0.0011300192511719458,0.0010463434285627252,0.0011300192511719458,0.0012820512820512818,0.0010463434285627252,0.0010323852883771171,0.0012820512820512818,0.0011351183862511026,0.0010463434285627252,0.0011351183862511026,0.0012968256594542034,0.0011300192511719458,0.0012820512820512818,0.0026500316180108744,0.001369176804757623,0.0012820512820512818,0.0012820512820512818,0.003209228461239309,0.0050251256281407045,0.0050251256281407045,0.004020100502512563,0.0017245634886259302,0.003015075376884423,0.003015075376884423,0.0021728138411999487,0.0017329348298152692,0.002450739939033465,0.0016046142306196558,0.003015075376884423,0.0020100502512562816,0.0014149353635147374,0.004339871877408953,0.0020100502512562816,0.0018528489159875242,0.0011957455381722522,0.0020010207809638488,0.0013101620330089221,0.0020100502512562816,0.0020100502512562816,0.0015065449738610951,0.003990747186225794,0.0020100502512562816,0.0011957455381722522,0.0014149353635147374,0.0020100502512562816,0.0020100502512562816,0.0014149353635147374,0.0014149353635147374,0.002269267207319185,0.0018528489159875242,0.0020100502512562816,0.003465869659630536,0.0010050251256281408,0.0010050251256281408,0.0010050251256281408,0.0010050251256281408,0.0010050251256281408,0.0010005103904819244,0.0009490638625904565,0.0010050251256281408,0.0010005103904819244,0.0009490638625904565,0.0010005103904819244,0.0013101620330089221,0.0010005103904819244,0.0014149353635147374,0.0010050251256281408,0.0009490638625904565,0.0011957455381722522,0.0010050251256281408,0.0013687869480153766,0.0013101620330089221,0.0010005103904819244,0.0010005103904819244,0.0009264244579937621,0.0011957455381722522,0.0010005103904819244,0.0010005103904819244,0.0010050251256281408,0.0009264244579937621,0.0009264244579937621,0.0010050251256281408,0.00399409311006582,0.0011957455381722522,0.0017329348298152677,0.00399409311006582,0.0014149353635147374,0.0010050251256281408,0.0014149353635147374,0.0010050251256281408,0.0010050251256281408,0.0010005103904819244,0.0010050251256281408,0.0010050251256281408,0.0015065449738610951,0.0010050251256281408,0.0011957455381722522,0.0010050251256281408,0.0010050251256281408,0.0011957455381722522,0.0010005103904819244,0.0010005103904819244,0.0010050251256281408,0.0010050251256281408,0.0010050251256281408,0.0010050251256281408,0.0013101620330089221,0.0010050251256281408,0.0009264244579937621,0.0010050251256281408,0.0009490638625904565,0.004269854824935954,0.005832902160078758,0.002062242335694675,0.0025619128949615727,0.003194812088795745,0.0025619128949615727,0.0017079419299743813,0.0017079419299743813,0.0017079419299743813,0.0017079419299743813,0.0017079419299743813,0.0013042765736041466,0.0013042765736041466,0.0017079419299743813,0.0017079419299743813,0.0013042765736041466,0.0017079419299743813,0.0013042765736041466,0.0017079419299743813,0.0013042765736041466,0.0017079419299743813,0.0017079419299743813,0.0013042765736041466,0.005206744603365209,0.0013042765736041466,0.0008539709649871905,0.0009222628097382464,0.0008539709649871905,0.0008539709649871905,0.0009222628097382464,0.0008539709649871905,0.0008539709649871905,0.0008539709649871905,0.0008539709649871905,0.0013042765736041466,0.0008539709649871905,0.0008539709649871905,0.0009222628097382464,0.0008539709649871905,0.0009222628097382464,0.0008539709649871905,0.0008539709649871905,0.0008539709649871905,0.0008539709649871905,0.0008539709649871905,0.0009222628097382464,0.0009222628097382464,0.0008539709649871905,0.0013042765736041466,0.0008539709649871905,0.0009222628097382464,0.0008539709649871905,0.0008539709649871905,0.0008539709649871905,0.0009222628097382464,0.0008539709649871905,0.0009222628097382464,0.0008539709649871905,0.0008539709649871905,0.0015974060443978725,0.0008539709649871905,0.0008539709649871905,0.0008539709649871905,0.0008539709649871905,0.0008539709649871905,0.0008539709649871905,0.0008539709649871905,0.0008539709649871905,0.0009222628097382464,0.0008539709649871905,0.0029880478087649393,0.001992031872509961,0.001992031872509961,0.005623126668669675,0.001992031872509961,0.001992031872509961,0.001992031872509961,0.0009960159362549803,0.0009960159362549803,0.0009960159362549803,0.0009960159362549803,0.0009960159362549803,0.0009960159362549803,0.0009960159362549803,0.0009960159362549803,0.0009960159362549803,0.0009960159362549803,0.0009960159362549803,0.0009960159362549803,0.0009960159362549803,0.0009960159362549803,0.0009960159362549803,0.0009960159362549803,0.0009960159362549803,0.0009960159362549803,0.0009960159362549803,0.0009960159362549803,0.0009960159362549803,0.0009960159362549803,0.0009960159362549803,0.0009960159362549803,0.0009960159362549803,0.0009960159362549803,0.0009960159362549803,0.0009960159362549803,0.0009960159362549803,0.0009960159362549803,0.0009960159362549803,0.0009960159362549803,0.0009960159362549803,0.003976150998887251,0.0009960159362549803,0.0009960159362549803,0.0009960159362549803,0.0009960159362549803,0.003976150998887251,0.0009960159362549803,0.0009960159362549803,0.0009960159362549803,0.0009960159362549803,0.0009960159362549803,0.0009960159362549803,0.015873015873015876,0.015873015873015876],\"yaxis\":\"y\",\"type\":\"scattergl\"}],                        {\"template\":{\"data\":{\"histogram2dcontour\":[{\"type\":\"histogram2dcontour\",\"colorbar\":{\"outlinewidth\":0,\"ticks\":\"\"},\"colorscale\":[[0.0,\"#0d0887\"],[0.1111111111111111,\"#46039f\"],[0.2222222222222222,\"#7201a8\"],[0.3333333333333333,\"#9c179e\"],[0.4444444444444444,\"#bd3786\"],[0.5555555555555556,\"#d8576b\"],[0.6666666666666666,\"#ed7953\"],[0.7777777777777778,\"#fb9f3a\"],[0.8888888888888888,\"#fdca26\"],[1.0,\"#f0f921\"]]}],\"choropleth\":[{\"type\":\"choropleth\",\"colorbar\":{\"outlinewidth\":0,\"ticks\":\"\"}}],\"histogram2d\":[{\"type\":\"histogram2d\",\"colorbar\":{\"outlinewidth\":0,\"ticks\":\"\"},\"colorscale\":[[0.0,\"#0d0887\"],[0.1111111111111111,\"#46039f\"],[0.2222222222222222,\"#7201a8\"],[0.3333333333333333,\"#9c179e\"],[0.4444444444444444,\"#bd3786\"],[0.5555555555555556,\"#d8576b\"],[0.6666666666666666,\"#ed7953\"],[0.7777777777777778,\"#fb9f3a\"],[0.8888888888888888,\"#fdca26\"],[1.0,\"#f0f921\"]]}],\"heatmap\":[{\"type\":\"heatmap\",\"colorbar\":{\"outlinewidth\":0,\"ticks\":\"\"},\"colorscale\":[[0.0,\"#0d0887\"],[0.1111111111111111,\"#46039f\"],[0.2222222222222222,\"#7201a8\"],[0.3333333333333333,\"#9c179e\"],[0.4444444444444444,\"#bd3786\"],[0.5555555555555556,\"#d8576b\"],[0.6666666666666666,\"#ed7953\"],[0.7777777777777778,\"#fb9f3a\"],[0.8888888888888888,\"#fdca26\"],[1.0,\"#f0f921\"]]}],\"heatmapgl\":[{\"type\":\"heatmapgl\",\"colorbar\":{\"outlinewidth\":0,\"ticks\":\"\"},\"colorscale\":[[0.0,\"#0d0887\"],[0.1111111111111111,\"#46039f\"],[0.2222222222222222,\"#7201a8\"],[0.3333333333333333,\"#9c179e\"],[0.4444444444444444,\"#bd3786\"],[0.5555555555555556,\"#d8576b\"],[0.6666666666666666,\"#ed7953\"],[0.7777777777777778,\"#fb9f3a\"],[0.8888888888888888,\"#fdca26\"],[1.0,\"#f0f921\"]]}],\"contourcarpet\":[{\"type\":\"contourcarpet\",\"colorbar\":{\"outlinewidth\":0,\"ticks\":\"\"}}],\"contour\":[{\"type\":\"contour\",\"colorbar\":{\"outlinewidth\":0,\"ticks\":\"\"},\"colorscale\":[[0.0,\"#0d0887\"],[0.1111111111111111,\"#46039f\"],[0.2222222222222222,\"#7201a8\"],[0.3333333333333333,\"#9c179e\"],[0.4444444444444444,\"#bd3786\"],[0.5555555555555556,\"#d8576b\"],[0.6666666666666666,\"#ed7953\"],[0.7777777777777778,\"#fb9f3a\"],[0.8888888888888888,\"#fdca26\"],[1.0,\"#f0f921\"]]}],\"surface\":[{\"type\":\"surface\",\"colorbar\":{\"outlinewidth\":0,\"ticks\":\"\"},\"colorscale\":[[0.0,\"#0d0887\"],[0.1111111111111111,\"#46039f\"],[0.2222222222222222,\"#7201a8\"],[0.3333333333333333,\"#9c179e\"],[0.4444444444444444,\"#bd3786\"],[0.5555555555555556,\"#d8576b\"],[0.6666666666666666,\"#ed7953\"],[0.7777777777777778,\"#fb9f3a\"],[0.8888888888888888,\"#fdca26\"],[1.0,\"#f0f921\"]]}],\"mesh3d\":[{\"type\":\"mesh3d\",\"colorbar\":{\"outlinewidth\":0,\"ticks\":\"\"}}],\"scatter\":[{\"fillpattern\":{\"fillmode\":\"overlay\",\"size\":10,\"solidity\":0.2},\"type\":\"scatter\"}],\"parcoords\":[{\"type\":\"parcoords\",\"line\":{\"colorbar\":{\"outlinewidth\":0,\"ticks\":\"\"}}}],\"scatterpolargl\":[{\"type\":\"scatterpolargl\",\"marker\":{\"colorbar\":{\"outlinewidth\":0,\"ticks\":\"\"}}}],\"bar\":[{\"error_x\":{\"color\":\"#2a3f5f\"},\"error_y\":{\"color\":\"#2a3f5f\"},\"marker\":{\"line\":{\"color\":\"#E5ECF6\",\"width\":0.5},\"pattern\":{\"fillmode\":\"overlay\",\"size\":10,\"solidity\":0.2}},\"type\":\"bar\"}],\"scattergeo\":[{\"type\":\"scattergeo\",\"marker\":{\"colorbar\":{\"outlinewidth\":0,\"ticks\":\"\"}}}],\"scatterpolar\":[{\"type\":\"scatterpolar\",\"marker\":{\"colorbar\":{\"outlinewidth\":0,\"ticks\":\"\"}}}],\"histogram\":[{\"marker\":{\"pattern\":{\"fillmode\":\"overlay\",\"size\":10,\"solidity\":0.2}},\"type\":\"histogram\"}],\"scattergl\":[{\"type\":\"scattergl\",\"marker\":{\"colorbar\":{\"outlinewidth\":0,\"ticks\":\"\"}}}],\"scatter3d\":[{\"type\":\"scatter3d\",\"line\":{\"colorbar\":{\"outlinewidth\":0,\"ticks\":\"\"}},\"marker\":{\"colorbar\":{\"outlinewidth\":0,\"ticks\":\"\"}}}],\"scattermapbox\":[{\"type\":\"scattermapbox\",\"marker\":{\"colorbar\":{\"outlinewidth\":0,\"ticks\":\"\"}}}],\"scatterternary\":[{\"type\":\"scatterternary\",\"marker\":{\"colorbar\":{\"outlinewidth\":0,\"ticks\":\"\"}}}],\"scattercarpet\":[{\"type\":\"scattercarpet\",\"marker\":{\"colorbar\":{\"outlinewidth\":0,\"ticks\":\"\"}}}],\"carpet\":[{\"aaxis\":{\"endlinecolor\":\"#2a3f5f\",\"gridcolor\":\"white\",\"linecolor\":\"white\",\"minorgridcolor\":\"white\",\"startlinecolor\":\"#2a3f5f\"},\"baxis\":{\"endlinecolor\":\"#2a3f5f\",\"gridcolor\":\"white\",\"linecolor\":\"white\",\"minorgridcolor\":\"white\",\"startlinecolor\":\"#2a3f5f\"},\"type\":\"carpet\"}],\"table\":[{\"cells\":{\"fill\":{\"color\":\"#EBF0F8\"},\"line\":{\"color\":\"white\"}},\"header\":{\"fill\":{\"color\":\"#C8D4E3\"},\"line\":{\"color\":\"white\"}},\"type\":\"table\"}],\"barpolar\":[{\"marker\":{\"line\":{\"color\":\"#E5ECF6\",\"width\":0.5},\"pattern\":{\"fillmode\":\"overlay\",\"size\":10,\"solidity\":0.2}},\"type\":\"barpolar\"}],\"pie\":[{\"automargin\":true,\"type\":\"pie\"}]},\"layout\":{\"autotypenumbers\":\"strict\",\"colorway\":[\"#636efa\",\"#EF553B\",\"#00cc96\",\"#ab63fa\",\"#FFA15A\",\"#19d3f3\",\"#FF6692\",\"#B6E880\",\"#FF97FF\",\"#FECB52\"],\"font\":{\"color\":\"#2a3f5f\"},\"hovermode\":\"closest\",\"hoverlabel\":{\"align\":\"left\"},\"paper_bgcolor\":\"white\",\"plot_bgcolor\":\"#E5ECF6\",\"polar\":{\"bgcolor\":\"#E5ECF6\",\"angularaxis\":{\"gridcolor\":\"white\",\"linecolor\":\"white\",\"ticks\":\"\"},\"radialaxis\":{\"gridcolor\":\"white\",\"linecolor\":\"white\",\"ticks\":\"\"}},\"ternary\":{\"bgcolor\":\"#E5ECF6\",\"aaxis\":{\"gridcolor\":\"white\",\"linecolor\":\"white\",\"ticks\":\"\"},\"baxis\":{\"gridcolor\":\"white\",\"linecolor\":\"white\",\"ticks\":\"\"},\"caxis\":{\"gridcolor\":\"white\",\"linecolor\":\"white\",\"ticks\":\"\"}},\"coloraxis\":{\"colorbar\":{\"outlinewidth\":0,\"ticks\":\"\"}},\"colorscale\":{\"sequential\":[[0.0,\"#0d0887\"],[0.1111111111111111,\"#46039f\"],[0.2222222222222222,\"#7201a8\"],[0.3333333333333333,\"#9c179e\"],[0.4444444444444444,\"#bd3786\"],[0.5555555555555556,\"#d8576b\"],[0.6666666666666666,\"#ed7953\"],[0.7777777777777778,\"#fb9f3a\"],[0.8888888888888888,\"#fdca26\"],[1.0,\"#f0f921\"]],\"sequentialminus\":[[0.0,\"#0d0887\"],[0.1111111111111111,\"#46039f\"],[0.2222222222222222,\"#7201a8\"],[0.3333333333333333,\"#9c179e\"],[0.4444444444444444,\"#bd3786\"],[0.5555555555555556,\"#d8576b\"],[0.6666666666666666,\"#ed7953\"],[0.7777777777777778,\"#fb9f3a\"],[0.8888888888888888,\"#fdca26\"],[1.0,\"#f0f921\"]],\"diverging\":[[0,\"#8e0152\"],[0.1,\"#c51b7d\"],[0.2,\"#de77ae\"],[0.3,\"#f1b6da\"],[0.4,\"#fde0ef\"],[0.5,\"#f7f7f7\"],[0.6,\"#e6f5d0\"],[0.7,\"#b8e186\"],[0.8,\"#7fbc41\"],[0.9,\"#4d9221\"],[1,\"#276419\"]]},\"xaxis\":{\"gridcolor\":\"white\",\"linecolor\":\"white\",\"ticks\":\"\",\"title\":{\"standoff\":15},\"zerolinecolor\":\"white\",\"automargin\":true,\"zerolinewidth\":2},\"yaxis\":{\"gridcolor\":\"white\",\"linecolor\":\"white\",\"ticks\":\"\",\"title\":{\"standoff\":15},\"zerolinecolor\":\"white\",\"automargin\":true,\"zerolinewidth\":2},\"scene\":{\"xaxis\":{\"backgroundcolor\":\"#E5ECF6\",\"gridcolor\":\"white\",\"linecolor\":\"white\",\"showbackground\":true,\"ticks\":\"\",\"zerolinecolor\":\"white\",\"gridwidth\":2},\"yaxis\":{\"backgroundcolor\":\"#E5ECF6\",\"gridcolor\":\"white\",\"linecolor\":\"white\",\"showbackground\":true,\"ticks\":\"\",\"zerolinecolor\":\"white\",\"gridwidth\":2},\"zaxis\":{\"backgroundcolor\":\"#E5ECF6\",\"gridcolor\":\"white\",\"linecolor\":\"white\",\"showbackground\":true,\"ticks\":\"\",\"zerolinecolor\":\"white\",\"gridwidth\":2}},\"shapedefaults\":{\"line\":{\"color\":\"#2a3f5f\"}},\"annotationdefaults\":{\"arrowcolor\":\"#2a3f5f\",\"arrowhead\":0,\"arrowwidth\":1},\"geo\":{\"bgcolor\":\"white\",\"landcolor\":\"#E5ECF6\",\"subunitcolor\":\"white\",\"showland\":true,\"showlakes\":true,\"lakecolor\":\"white\"},\"title\":{\"x\":0.05},\"mapbox\":{\"style\":\"light\"}}},\"xaxis\":{\"anchor\":\"y\",\"domain\":[0.0,1.0],\"title\":{\"text\":\"Count\"}},\"yaxis\":{\"anchor\":\"x\",\"domain\":[0.0,1.0],\"title\":{\"text\":\"dov\"}},\"legend\":{\"tracegroupgap\":0},\"margin\":{\"t\":60}},                        {\"responsive\": true}                    ).then(function(){\n",
       "                            \n",
       "var gd = document.getElementById('55bf0e35-2c9f-49af-a31c-3a9aa0f8d3c8');\n",
       "var x = new MutationObserver(function (mutations, observer) {{\n",
       "        var display = window.getComputedStyle(gd).display;\n",
       "        if (!display || display === 'none') {{\n",
       "            console.log([gd, 'removed!']);\n",
       "            Plotly.purge(gd);\n",
       "            observer.disconnect();\n",
       "        }}\n",
       "}});\n",
       "\n",
       "// Listen for the removal of the full notebook cells\n",
       "var notebookContainer = gd.closest('#notebook-container');\n",
       "if (notebookContainer) {{\n",
       "    x.observe(notebookContainer, {childList: true});\n",
       "}}\n",
       "\n",
       "// Listen for the clearing of the current output cell\n",
       "var outputEl = gd.closest('.output');\n",
       "if (outputEl) {{\n",
       "    x.observe(outputEl, {childList: true});\n",
       "}}\n",
       "\n",
       "                        })                };                });            </script>        </div>"
      ]
     },
     "metadata": {},
     "output_type": "display_data"
    }
   ],
   "source": [
    "import plotly.express as px\n",
    "\n",
    "# Create the scatter plot using Plotly\n",
    "fig = px.scatter(wsm_dov, x='Count', y='dov', hover_data=['Name'])\n",
    "\n",
    "# Show the plot\n",
    "fig.show()"
   ]
  },
  {
   "cell_type": "code",
   "execution_count": 34,
   "metadata": {
    "tags": []
   },
   "outputs": [
    {
     "data": {
      "text/html": [
       "<div>\n",
       "<style scoped>\n",
       "    .dataframe tbody tr th:only-of-type {\n",
       "        vertical-align: middle;\n",
       "    }\n",
       "\n",
       "    .dataframe tbody tr th {\n",
       "        vertical-align: top;\n",
       "    }\n",
       "\n",
       "    .dataframe thead th {\n",
       "        text-align: right;\n",
       "    }\n",
       "</style>\n",
       "<table border=\"1\" class=\"dataframe\">\n",
       "  <thead>\n",
       "    <tr style=\"text-align: right;\">\n",
       "      <th></th>\n",
       "      <th>Name</th>\n",
       "      <th>dov</th>\n",
       "      <th>Topic</th>\n",
       "      <th>Count</th>\n",
       "      <th>Representation</th>\n",
       "      <th>Representative_Docs</th>\n",
       "    </tr>\n",
       "  </thead>\n",
       "  <tbody>\n",
       "    <tr>\n",
       "      <th>3</th>\n",
       "      <td>582_foragers_social_collective_colony</td>\n",
       "      <td>0.004269</td>\n",
       "      <td>582</td>\n",
       "      <td>5</td>\n",
       "      <td>[foragers, social, collective, colony, nestmat...</td>\n",
       "      <td>[Foraging is a result of innate and acquired m...</td>\n",
       "    </tr>\n",
       "    <tr>\n",
       "      <th>7</th>\n",
       "      <td>700_pregnancy_hypospadias_glucose_discourses</td>\n",
       "      <td>0.004397</td>\n",
       "      <td>700</td>\n",
       "      <td>4</td>\n",
       "      <td>[pregnancy, hypospadias, glucose, discourses, ...</td>\n",
       "      <td>[Overweight and obesity pre pregnancy or durin...</td>\n",
       "    </tr>\n",
       "    <tr>\n",
       "      <th>11</th>\n",
       "      <td>924_microscopically_bioinformaticsenabled_libr...</td>\n",
       "      <td>0.008287</td>\n",
       "      <td>924</td>\n",
       "      <td>3</td>\n",
       "      <td>[microscopically, bioinformaticsenabled, libra...</td>\n",
       "      <td>[Since the advent of the use of matrix-assiste...</td>\n",
       "    </tr>\n",
       "    <tr>\n",
       "      <th>28</th>\n",
       "      <td>678_pgamended_peppers_ferralsols_moderately</td>\n",
       "      <td>0.005038</td>\n",
       "      <td>678</td>\n",
       "      <td>4</td>\n",
       "      <td>[pgamended, peppers, ferralsols, moderately, p...</td>\n",
       "      <td>[Lead (Pb) contamination of soil poses severe ...</td>\n",
       "    </tr>\n",
       "    <tr>\n",
       "      <th>33</th>\n",
       "      <td>482_afb1_aflatoxin_indonesia_cancer</td>\n",
       "      <td>0.004123</td>\n",
       "      <td>482</td>\n",
       "      <td>6</td>\n",
       "      <td>[afb1, aflatoxin, indonesia, cancer, ngkg, 001...</td>\n",
       "      <td>[This mini review article described the exposu...</td>\n",
       "    </tr>\n",
       "    <tr>\n",
       "      <th>35</th>\n",
       "      <td>442_lenses_device_maude_sentinel</td>\n",
       "      <td>0.004003</td>\n",
       "      <td>442</td>\n",
       "      <td>6</td>\n",
       "      <td>[lenses, device, maude, sentinel, stroke, comp...</td>\n",
       "      <td>[All contact lenses (corrective/noncorrective)...</td>\n",
       "    </tr>\n",
       "    <tr>\n",
       "      <th>61</th>\n",
       "      <td>453_sanguineus_sachet_salivary_am</td>\n",
       "      <td>0.005160</td>\n",
       "      <td>453</td>\n",
       "      <td>6</td>\n",
       "      <td>[sanguineus, sachet, salivary, am, ivermectin,...</td>\n",
       "      <td>[The purpose of this study was to develop an a...</td>\n",
       "    </tr>\n",
       "    <tr>\n",
       "      <th>74</th>\n",
       "      <td>847_buttonwood_site_stem_cadmium</td>\n",
       "      <td>0.006593</td>\n",
       "      <td>847</td>\n",
       "      <td>3</td>\n",
       "      <td>[buttonwood, site, stem, cadmium, leaf, chicor...</td>\n",
       "      <td>[Soil contaminated with cadmium presents a pot...</td>\n",
       "    </tr>\n",
       "    <tr>\n",
       "      <th>93</th>\n",
       "      <td>690_sfr_bottles_asepticuht_1011</td>\n",
       "      <td>0.004046</td>\n",
       "      <td>690</td>\n",
       "      <td>4</td>\n",
       "      <td>[sfr, bottles, asepticuht, 1011, stearothermop...</td>\n",
       "      <td>[Aseptic ultra-high-temperature (UHT)-type pro...</td>\n",
       "    </tr>\n",
       "    <tr>\n",
       "      <th>110</th>\n",
       "      <td>656_timetemperature_git_options_simulated</td>\n",
       "      <td>0.005065</td>\n",
       "      <td>656</td>\n",
       "      <td>4</td>\n",
       "      <td>[timetemperature, git, options, simulated, buf...</td>\n",
       "      <td>[Even though a plethora of barriers are employ...</td>\n",
       "    </tr>\n",
       "    <tr>\n",
       "      <th>250</th>\n",
       "      <td>749_fluorescence_urine_hai_microfiber</td>\n",
       "      <td>0.004124</td>\n",
       "      <td>749</td>\n",
       "      <td>4</td>\n",
       "      <td>[fluorescence, urine, hai, microfiber, masking...</td>\n",
       "      <td>[A novel straightforward analytical technique ...</td>\n",
       "    </tr>\n",
       "    <tr>\n",
       "      <th>549</th>\n",
       "      <td>548_house_flies_mandibular_microbe</td>\n",
       "      <td>0.004208</td>\n",
       "      <td>548</td>\n",
       "      <td>5</td>\n",
       "      <td>[house, flies, mandibular, microbe, glands, ca...</td>\n",
       "      <td>[Insect pests cause serious economic, yield, a...</td>\n",
       "    </tr>\n",
       "    <tr>\n",
       "      <th>1005</th>\n",
       "      <td>633_iso_166542001_cen_en</td>\n",
       "      <td>0.006024</td>\n",
       "      <td>633</td>\n",
       "      <td>4</td>\n",
       "      <td>[iso, 166542001, cen, en, mandate, validation,...</td>\n",
       "      <td>[The European and International Standard metho...</td>\n",
       "    </tr>\n",
       "    <tr>\n",
       "      <th>1007</th>\n",
       "      <td>829_fnu_racks_boards_cutting</td>\n",
       "      <td>0.004518</td>\n",
       "      <td>829</td>\n",
       "      <td>3</td>\n",
       "      <td>[fnu, racks, boards, cutting, hygienic, constr...</td>\n",
       "      <td>[Providing safe food products to the consumer ...</td>\n",
       "    </tr>\n",
       "    <tr>\n",
       "      <th>1009</th>\n",
       "      <td>826_micelles_ttcp_controllable_thymol</td>\n",
       "      <td>0.004518</td>\n",
       "      <td>826</td>\n",
       "      <td>3</td>\n",
       "      <td>[micelles, ttcp, controllable, thymol, cpms, r...</td>\n",
       "      <td>[Contamination of surfaces in hospitals and fo...</td>\n",
       "    </tr>\n",
       "    <tr>\n",
       "      <th>1191</th>\n",
       "      <td>515_nickel_drinks_bioaccessibility_plantbased</td>\n",
       "      <td>0.005025</td>\n",
       "      <td>515</td>\n",
       "      <td>5</td>\n",
       "      <td>[nickel, drinks, bioaccessibility, plantbased,...</td>\n",
       "      <td>[Nickel can occur in plant-based, animal-based...</td>\n",
       "    </tr>\n",
       "    <tr>\n",
       "      <th>1192</th>\n",
       "      <td>513_streptomyces_surplus_consortia_ben</td>\n",
       "      <td>0.005025</td>\n",
       "      <td>513</td>\n",
       "      <td>5</td>\n",
       "      <td>[streptomyces, surplus, consortia, ben, gattii...</td>\n",
       "      <td>[The increasing human population requires ongo...</td>\n",
       "    </tr>\n",
       "    <tr>\n",
       "      <th>1193</th>\n",
       "      <td>723_mc_pf_cellg_concentrationbased</td>\n",
       "      <td>0.004020</td>\n",
       "      <td>723</td>\n",
       "      <td>4</td>\n",
       "      <td>[mc, pf, cellg, concentrationbased, ceftiofur,...</td>\n",
       "      <td>[Salmonella Heidelberg resistant to ceftiofur ...</td>\n",
       "    </tr>\n",
       "    <tr>\n",
       "      <th>1204</th>\n",
       "      <td>425_ndma_ranitidine_nitrosamine_medications</td>\n",
       "      <td>0.004340</td>\n",
       "      <td>425</td>\n",
       "      <td>6</td>\n",
       "      <td>[ndma, ranitidine, nitrosamine, medications, i...</td>\n",
       "      <td>[Nitrosamines are known carcinogens which have...</td>\n",
       "    </tr>\n",
       "    <tr>\n",
       "      <th>1284</th>\n",
       "      <td>519_hvpef_uhph_detachedcells_psi</td>\n",
       "      <td>0.004270</td>\n",
       "      <td>519</td>\n",
       "      <td>5</td>\n",
       "      <td>[hvpef, uhph, detachedcells, psi, planktonic, ...</td>\n",
       "      <td>[Staphylococcus aureus is one of the main path...</td>\n",
       "    </tr>\n",
       "    <tr>\n",
       "      <th>1307</th>\n",
       "      <td>836_3d_printing_printed_ink</td>\n",
       "      <td>0.005207</td>\n",
       "      <td>836</td>\n",
       "      <td>3</td>\n",
       "      <td>[3d, printing, printed, ink, printability, ink...</td>\n",
       "      <td>[Three-dimensional (3D) printing, as an emergi...</td>\n",
       "    </tr>\n",
       "    <tr>\n",
       "      <th>1357</th>\n",
       "      <td>903_proteins_spiders_expression_montrouzieri</td>\n",
       "      <td>0.005623</td>\n",
       "      <td>903</td>\n",
       "      <td>3</td>\n",
       "      <td>[proteins, spiders, expression, montrouzieri, ...</td>\n",
       "      <td>[Ants easily accumulate cadmium (Cd) from the ...</td>\n",
       "    </tr>\n",
       "  </tbody>\n",
       "</table>\n",
       "</div>"
      ],
      "text/plain": [
       "                                                   Name       dov  Topic  \\\n",
       "3                 582_foragers_social_collective_colony  0.004269    582   \n",
       "7          700_pregnancy_hypospadias_glucose_discourses  0.004397    700   \n",
       "11    924_microscopically_bioinformaticsenabled_libr...  0.008287    924   \n",
       "28          678_pgamended_peppers_ferralsols_moderately  0.005038    678   \n",
       "33                  482_afb1_aflatoxin_indonesia_cancer  0.004123    482   \n",
       "35                     442_lenses_device_maude_sentinel  0.004003    442   \n",
       "61                    453_sanguineus_sachet_salivary_am  0.005160    453   \n",
       "74                     847_buttonwood_site_stem_cadmium  0.006593    847   \n",
       "93                      690_sfr_bottles_asepticuht_1011  0.004046    690   \n",
       "110           656_timetemperature_git_options_simulated  0.005065    656   \n",
       "250               749_fluorescence_urine_hai_microfiber  0.004124    749   \n",
       "549                  548_house_flies_mandibular_microbe  0.004208    548   \n",
       "1005                           633_iso_166542001_cen_en  0.006024    633   \n",
       "1007                       829_fnu_racks_boards_cutting  0.004518    829   \n",
       "1009              826_micelles_ttcp_controllable_thymol  0.004518    826   \n",
       "1191      515_nickel_drinks_bioaccessibility_plantbased  0.005025    515   \n",
       "1192             513_streptomyces_surplus_consortia_ben  0.005025    513   \n",
       "1193                 723_mc_pf_cellg_concentrationbased  0.004020    723   \n",
       "1204        425_ndma_ranitidine_nitrosamine_medications  0.004340    425   \n",
       "1284                   519_hvpef_uhph_detachedcells_psi  0.004270    519   \n",
       "1307                        836_3d_printing_printed_ink  0.005207    836   \n",
       "1357       903_proteins_spiders_expression_montrouzieri  0.005623    903   \n",
       "\n",
       "      Count                                     Representation  \\\n",
       "3         5  [foragers, social, collective, colony, nestmat...   \n",
       "7         4  [pregnancy, hypospadias, glucose, discourses, ...   \n",
       "11        3  [microscopically, bioinformaticsenabled, libra...   \n",
       "28        4  [pgamended, peppers, ferralsols, moderately, p...   \n",
       "33        6  [afb1, aflatoxin, indonesia, cancer, ngkg, 001...   \n",
       "35        6  [lenses, device, maude, sentinel, stroke, comp...   \n",
       "61        6  [sanguineus, sachet, salivary, am, ivermectin,...   \n",
       "74        3  [buttonwood, site, stem, cadmium, leaf, chicor...   \n",
       "93        4  [sfr, bottles, asepticuht, 1011, stearothermop...   \n",
       "110       4  [timetemperature, git, options, simulated, buf...   \n",
       "250       4  [fluorescence, urine, hai, microfiber, masking...   \n",
       "549       5  [house, flies, mandibular, microbe, glands, ca...   \n",
       "1005      4  [iso, 166542001, cen, en, mandate, validation,...   \n",
       "1007      3  [fnu, racks, boards, cutting, hygienic, constr...   \n",
       "1009      3  [micelles, ttcp, controllable, thymol, cpms, r...   \n",
       "1191      5  [nickel, drinks, bioaccessibility, plantbased,...   \n",
       "1192      5  [streptomyces, surplus, consortia, ben, gattii...   \n",
       "1193      4  [mc, pf, cellg, concentrationbased, ceftiofur,...   \n",
       "1204      6  [ndma, ranitidine, nitrosamine, medications, i...   \n",
       "1284      5  [hvpef, uhph, detachedcells, psi, planktonic, ...   \n",
       "1307      3  [3d, printing, printed, ink, printability, ink...   \n",
       "1357      3  [proteins, spiders, expression, montrouzieri, ...   \n",
       "\n",
       "                                    Representative_Docs  \n",
       "3     [Foraging is a result of innate and acquired m...  \n",
       "7     [Overweight and obesity pre pregnancy or durin...  \n",
       "11    [Since the advent of the use of matrix-assiste...  \n",
       "28    [Lead (Pb) contamination of soil poses severe ...  \n",
       "33    [This mini review article described the exposu...  \n",
       "35    [All contact lenses (corrective/noncorrective)...  \n",
       "61    [The purpose of this study was to develop an a...  \n",
       "74    [Soil contaminated with cadmium presents a pot...  \n",
       "93    [Aseptic ultra-high-temperature (UHT)-type pro...  \n",
       "110   [Even though a plethora of barriers are employ...  \n",
       "250   [A novel straightforward analytical technique ...  \n",
       "549   [Insect pests cause serious economic, yield, a...  \n",
       "1005  [The European and International Standard metho...  \n",
       "1007  [Providing safe food products to the consumer ...  \n",
       "1009  [Contamination of surfaces in hospitals and fo...  \n",
       "1191  [Nickel can occur in plant-based, animal-based...  \n",
       "1192  [The increasing human population requires ongo...  \n",
       "1193  [Salmonella Heidelberg resistant to ceftiofur ...  \n",
       "1204  [Nitrosamines are known carcinogens which have...  \n",
       "1284  [Staphylococcus aureus is one of the main path...  \n",
       "1307  [Three-dimensional (3D) printing, as an emergi...  \n",
       "1357  [Ants easily accumulate cadmium (Cd) from the ...  "
      ]
     },
     "execution_count": 34,
     "metadata": {},
     "output_type": "execute_result"
    }
   ],
   "source": [
    "# Set the desired range for 'dov' and 'frequency'\n",
    "dov_min = 0.004\n",
    "count_min = 3\n",
    "count_max = 6\n",
    "\n",
    "# Filter the DataFrame based on the range of values\n",
    "weak_signal_df = wsm_dov[(wsm_dov['dov'] >= dov_min) & (wsm_dov['Count'] >= count_min) & (wsm_dov['Count'] <= count_max)]\n",
    "\n",
    "# Get the values from the 'term' column in the filtered DataFrame\n",
    "weak_signals = weak_signal_df['Name'].values.tolist()\n",
    "weak_signal_df"
   ]
  },
  {
   "cell_type": "code",
   "execution_count": 35,
   "metadata": {
    "tags": []
   },
   "outputs": [],
   "source": [
    "weak_signal_df.to_csv('data/weak_signal_df.csv', index=False)"
   ]
  },
  {
   "cell_type": "code",
   "execution_count": null,
   "metadata": {},
   "outputs": [],
   "source": []
  }
 ],
 "metadata": {
  "accelerator": "GPU",
  "colab": {
   "gpuType": "T4",
   "machine_shape": "hm",
   "provenance": []
  },
  "environment": {
   "kernel": "conda-base-py",
   "name": "workbench-notebooks.m124",
   "type": "gcloud",
   "uri": "us-docker.pkg.dev/deeplearning-platform-release/gcr.io/workbench-notebooks:m124"
  },
  "kernelspec": {
   "display_name": "Python 3 (ipykernel) (Local)",
   "language": "python",
   "name": "conda-base-py"
  },
  "language_info": {
   "codemirror_mode": {
    "name": "ipython",
    "version": 3
   },
   "file_extension": ".py",
   "mimetype": "text/x-python",
   "name": "python",
   "nbconvert_exporter": "python",
   "pygments_lexer": "ipython3",
   "version": "3.10.14"
  }
 },
 "nbformat": 4,
 "nbformat_minor": 4
}
