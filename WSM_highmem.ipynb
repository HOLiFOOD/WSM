{
 "cells": [
  {
   "cell_type": "code",
   "execution_count": null,
   "metadata": {},
   "outputs": [],
   "source": [
    "# this notebook contains different clustering approaches in order to digest large datasets"
   ]
  },
  {
   "cell_type": "code",
   "execution_count": 27,
   "metadata": {
    "id": "q3XIVa5xkAZm",
    "tags": []
   },
   "outputs": [],
   "source": [
    "!pip install -qU bertopic pandas nltk scikit-learn matplotlib xlwt faiss-gpu"
   ]
  },
  {
   "cell_type": "code",
   "execution_count": 2,
   "metadata": {
    "colab": {
     "base_uri": "https://localhost:8080/"
    },
    "id": "-a0xU37Bihqv",
    "outputId": "ff2f2b68-aac7-49b8-a3a2-0d149fe2ead0",
    "tags": []
   },
   "outputs": [
    {
     "data": {
      "text/html": [
       "<div>\n",
       "<style scoped>\n",
       "    .dataframe tbody tr th:only-of-type {\n",
       "        vertical-align: middle;\n",
       "    }\n",
       "\n",
       "    .dataframe tbody tr th {\n",
       "        vertical-align: top;\n",
       "    }\n",
       "\n",
       "    .dataframe thead th {\n",
       "        text-align: right;\n",
       "    }\n",
       "</style>\n",
       "<table border=\"1\" class=\"dataframe\">\n",
       "  <thead>\n",
       "    <tr style=\"text-align: right;\">\n",
       "      <th></th>\n",
       "      <th>date</th>\n",
       "      <th>url</th>\n",
       "      <th>content</th>\n",
       "      <th>domain</th>\n",
       "    </tr>\n",
       "  </thead>\n",
       "  <tbody>\n",
       "    <tr>\n",
       "      <th>0</th>\n",
       "      <td>2021-08-09</td>\n",
       "      <td>http://en.people.cn/n3/2021/0808/c90000-988149...</td>\n",
       "      <td>more farm products meet national standards in ...</td>\n",
       "      <td>en.people.cn</td>\n",
       "    </tr>\n",
       "    <tr>\n",
       "      <th>1</th>\n",
       "      <td>2021-08-09</td>\n",
       "      <td>https://www.dailymail.co.uk/news/article-98764...</td>\n",
       "      <td>health chiefs recall another 25 batches of blo...</td>\n",
       "      <td>www.dailymail.co.uk</td>\n",
       "    </tr>\n",
       "    <tr>\n",
       "      <th>2</th>\n",
       "      <td>2021-08-09</td>\n",
       "      <td>https://www.envirotech-online.com/article/envi...</td>\n",
       "      <td>'forever chemicals' - its time for action on p...</td>\n",
       "      <td>www.envirotech-online.com</td>\n",
       "    </tr>\n",
       "    <tr>\n",
       "      <th>3</th>\n",
       "      <td>2021-08-09</td>\n",
       "      <td>https://www.bristolpost.co.uk/news/uk-world-ne...</td>\n",
       "      <td>common blood pressure drug recalled due to can...</td>\n",
       "      <td>www.bristolpost.co.uk</td>\n",
       "    </tr>\n",
       "    <tr>\n",
       "      <th>4</th>\n",
       "      <td>2021-08-09</td>\n",
       "      <td>https://www.nutritioninsight.com/audios/newsbi...</td>\n",
       "      <td>newsbite aug 2-6: us food labeling modernizati...</td>\n",
       "      <td>www.nutritioninsight.com</td>\n",
       "    </tr>\n",
       "    <tr>\n",
       "      <th>...</th>\n",
       "      <td>...</td>\n",
       "      <td>...</td>\n",
       "      <td>...</td>\n",
       "      <td>...</td>\n",
       "    </tr>\n",
       "    <tr>\n",
       "      <th>92717</th>\n",
       "      <td>2024-04-14</td>\n",
       "      <td>https://kswfoodmicro.com/2024/04/14/research-o...</td>\n",
       "      <td>research officials confirm planned closure of ...</td>\n",
       "      <td>kswfoodmicro.com</td>\n",
       "    </tr>\n",
       "    <tr>\n",
       "      <th>92718</th>\n",
       "      <td>2024-04-14</td>\n",
       "      <td>https://sundiatapost.com/fg-needs-nigerians-su...</td>\n",
       "      <td>fg needs nigerians to make lives better mohamm...</td>\n",
       "      <td>sundiatapost.com</td>\n",
       "    </tr>\n",
       "    <tr>\n",
       "      <th>92719</th>\n",
       "      <td>2024-04-14</td>\n",
       "      <td>https://www.thesouthafrican.com/news/sahpra-re...</td>\n",
       "      <td>sahpra recalls benylin paediatric syrup with t...</td>\n",
       "      <td>www.thesouthafrican.com</td>\n",
       "    </tr>\n",
       "    <tr>\n",
       "      <th>92720</th>\n",
       "      <td>2024-04-15</td>\n",
       "      <td>https://www.channelnewsasia.com/singapore/gen-...</td>\n",
       "      <td>the big read: call me maybe - gen zers, millen...</td>\n",
       "      <td>www.channelnewsasia.com</td>\n",
       "    </tr>\n",
       "    <tr>\n",
       "      <th>92721</th>\n",
       "      <td>2024-04-15</td>\n",
       "      <td>https://www.telegraph.co.uk/news/2024/04/14/wa...</td>\n",
       "      <td>waitrose spanish olives recalled over glass ri...</td>\n",
       "      <td>www.telegraph.co.uk</td>\n",
       "    </tr>\n",
       "  </tbody>\n",
       "</table>\n",
       "<p>92212 rows × 4 columns</p>\n",
       "</div>"
      ],
      "text/plain": [
       "             date                                                url  \\\n",
       "0      2021-08-09  http://en.people.cn/n3/2021/0808/c90000-988149...   \n",
       "1      2021-08-09  https://www.dailymail.co.uk/news/article-98764...   \n",
       "2      2021-08-09  https://www.envirotech-online.com/article/envi...   \n",
       "3      2021-08-09  https://www.bristolpost.co.uk/news/uk-world-ne...   \n",
       "4      2021-08-09  https://www.nutritioninsight.com/audios/newsbi...   \n",
       "...           ...                                                ...   \n",
       "92717  2024-04-14  https://kswfoodmicro.com/2024/04/14/research-o...   \n",
       "92718  2024-04-14  https://sundiatapost.com/fg-needs-nigerians-su...   \n",
       "92719  2024-04-14  https://www.thesouthafrican.com/news/sahpra-re...   \n",
       "92720  2024-04-15  https://www.channelnewsasia.com/singapore/gen-...   \n",
       "92721  2024-04-15  https://www.telegraph.co.uk/news/2024/04/14/wa...   \n",
       "\n",
       "                                                 content  \\\n",
       "0      more farm products meet national standards in ...   \n",
       "1      health chiefs recall another 25 batches of blo...   \n",
       "2      'forever chemicals' - its time for action on p...   \n",
       "3      common blood pressure drug recalled due to can...   \n",
       "4      newsbite aug 2-6: us food labeling modernizati...   \n",
       "...                                                  ...   \n",
       "92717  research officials confirm planned closure of ...   \n",
       "92718  fg needs nigerians to make lives better mohamm...   \n",
       "92719  sahpra recalls benylin paediatric syrup with t...   \n",
       "92720  the big read: call me maybe - gen zers, millen...   \n",
       "92721  waitrose spanish olives recalled over glass ri...   \n",
       "\n",
       "                          domain  \n",
       "0                   en.people.cn  \n",
       "1            www.dailymail.co.uk  \n",
       "2      www.envirotech-online.com  \n",
       "3          www.bristolpost.co.uk  \n",
       "4       www.nutritioninsight.com  \n",
       "...                          ...  \n",
       "92717           kswfoodmicro.com  \n",
       "92718           sundiatapost.com  \n",
       "92719    www.thesouthafrican.com  \n",
       "92720    www.channelnewsasia.com  \n",
       "92721        www.telegraph.co.uk  \n",
       "\n",
       "[92212 rows x 4 columns]"
      ]
     },
     "execution_count": 2,
     "metadata": {},
     "output_type": "execute_result"
    }
   ],
   "source": [
    "import pandas as pd\n",
    "docs = pd.read_csv('gs://axels_bucket/news_dataset/news.csv')\n",
    "docs = docs.dropna()\n",
    "docs"
   ]
  },
  {
   "cell_type": "code",
   "execution_count": 12,
   "metadata": {
    "tags": []
   },
   "outputs": [
    {
     "data": {
      "text/plain": [
       "\"'forever chemicals' - its time for action on pfas - jul 26 2021 - graham meller - environmental science news - envirotech online product search e-learning white papers sign-in news section environmental laboratory environmental laboratory soil testing food safety testing pfas analysis microplastics analysis environmental laboratory soil testing food safety testing pfas analysis microplastics analysis latest in environmental laboratory fully automated e. coli and enterococci monitoring glass expansion hydramist spray chamber: enhancing i... waterwastewater waterwastewater water quality monitoring water quality monitoring drinking water water pollution monitoring water pollution monitoring river water monitoring sewage monitoring water testing water testing pfas in water groundwater monitoring wastewater analysis water monitoring waterwastewater water quality monitoring water pollution monitoring water testing groundwater monitoring wastewater analysis water monitoring drinking water river water monitoring sewage monitoring pfas in water latest in waterwastewater button- chlorine analyser provides water industr... pocket-sized water quality testers provide laborator... air monitoring air monitoring air quality monitoring air quality monitoring indoor air quality monitoring iaq ambient air quality dust monitoring air analysis air analysis air sensors gas analyser cems cems stack monitoring weather monitoring industrial emissions air monitoring air quality monitoring air analysis gas analyser cems weather monitoring industrial emissions indoor air quality\""
      ]
     },
     "execution_count": 12,
     "metadata": {},
     "output_type": "execute_result"
    }
   ],
   "source": [
    "def get_first_n_terms(text):\n",
    "    words = text.split()[:200]  # Split the text into words and take the first n\n",
    "    return ' '.join(words)\n",
    "\n",
    "# Applying the function to the 'text' column and creating a new column 'first_100_words'\n",
    "docs['beginning'] = docs['content'].apply(get_first_n_terms)\n",
    "docs['beginning'][2]"
   ]
  },
  {
   "cell_type": "code",
   "execution_count": 13,
   "metadata": {
    "tags": []
   },
   "outputs": [],
   "source": [
    "import pandas as pd\n",
    "from bertopic import BERTopic\n",
    "from bertopic.vectorizers import ClassTfidfTransformer\n",
    "from sklearn.feature_extraction.text import CountVectorizer\n",
    "from sklearn.cluster import AgglomerativeClustering\n",
    "from sentence_transformers import SentenceTransformer\n",
    "from umap import UMAP\n",
    "from collections import Counter\n",
    "import numpy as np\n",
    "import matplotlib.pyplot as plt\n",
    "from scipy.stats import gmean\n",
    "import nltk\n",
    "import re"
   ]
  },
  {
   "cell_type": "code",
   "execution_count": 14,
   "metadata": {
    "tags": []
   },
   "outputs": [],
   "source": [
    "# Function to group by a specific time unit (Year, Month, Day)\n",
    "def group_by_time_unit(df, time_unit):\n",
    "    if time_unit == 'year':\n",
    "        return df['date'].dt.year\n",
    "    elif time_unit == 'month':\n",
    "        return df['date'].dt.to_period('M')  # Month as YYYY-MM\n",
    "    elif time_unit == 'day':\n",
    "        return df['date'].dt.date  # Exact day as YYYY-MM-DD\n",
    "    else:\n",
    "        raise ValueError(\"Invalid time_unit. Choose 'year', 'month', or 'day'.\")"
   ]
  },
  {
   "cell_type": "code",
   "execution_count": 15,
   "metadata": {
    "tags": []
   },
   "outputs": [],
   "source": [
    "def time_difference(max_time, min_time, time_unit):\n",
    "    if time_unit == 'year':\n",
    "        return max_time - min_time  # Directly subtract the years since they are integers\n",
    "    elif time_unit == 'month':\n",
    "        return (max_time.year - min_time.year) * 12 + (max_time.month - min_time.month)  # Total months\n",
    "    elif time_unit == 'day':\n",
    "        return (max_time - min_time).days  # Difference in days\n",
    "    else:\n",
    "        raise ValueError(\"Invalid time unit for difference. Choose 'year', 'month', or 'day'.\")"
   ]
  },
  {
   "cell_type": "code",
   "execution_count": 16,
   "metadata": {
    "tags": []
   },
   "outputs": [],
   "source": [
    "# Convert the 'Abstract' column to string data type\n",
    "docs['text'] = docs['beginning'].astype(str)\n",
    "\n",
    "# Define a regular expression pattern to match non-Latin characters\n",
    "non_latin_pattern = re.compile(r'[^\\x00-\\x7F]')\n",
    "\n",
    "# Apply the regular expression pattern to the 'Abstract' column\n",
    "docs = docs[~docs['text'].str.contains(non_latin_pattern)]\n",
    "\n",
    "# Set the time unit for grouping (year, month, or day)\n",
    "time_unit = 'month'  # Change this to 'year', 'month', or 'day'\n",
    "\n",
    "# Convert the 'Date' column to datetime and drop invalid dates\n",
    "docs['date'] = pd.to_datetime(docs['date'], errors='coerce')\n",
    "docs.dropna(subset=['date'], inplace=True)\n",
    "\n",
    "# Group data based on the selected time unit\n",
    "docs['Time'] = group_by_time_unit(docs, time_unit)\n",
    "\n",
    "text = docs[\"text\"].astype('str')\n",
    "text = text.tolist()"
   ]
  },
  {
   "cell_type": "code",
   "execution_count": 17,
   "metadata": {
    "tags": []
   },
   "outputs": [],
   "source": [
    "#HDBSCAN with parameter tuning\n",
    "from hdbscan import HDBSCAN\n",
    "import os\n",
    "os.environ[\"TOKENIZERS_PARALLELISM\"] = \"false\"\n",
    "\n",
    "# Prepare embeddings\n",
    "sentence_model = SentenceTransformer(\"all-MiniLM-L6-v2\")\n",
    "embeddings = sentence_model.encode(text, show_progress_bar=False)\n",
    "cluster_model = HDBSCAN(\n",
    "    min_cluster_size=2,       # Allow small clusters\n",
    "    min_samples=1,            # Increase sensitivity to noise\n",
    "    cluster_selection_epsilon=0.1,  # Fine-tune for smaller clusters\n",
    "    metric='euclidean'\n",
    ")\n",
    "\n",
    "topic_model = BERTopic(hdbscan_model=cluster_model,  calculate_probabilities=False).fit(text, embeddings)\n",
    "topic_info = topic_model.get_topic_info()\n",
    "\n",
    "doc_info = topic_model.get_document_info(text)\n",
    "doc_info[\"ID\"] = doc_info.index\n",
    "doc_info[\"Time\"] = docs[\"Time\"].tolist()"
   ]
  },
  {
   "cell_type": "code",
   "execution_count": 29,
   "metadata": {
    "tags": []
   },
   "outputs": [],
   "source": [
    "#HDBSCAN with parameter tuning\n",
    "from hdbscan import HDBSCAN\n",
    "import os\n",
    "os.environ[\"TOKENIZERS_PARALLELISM\"] = \"false\"\n",
    "\n",
    "# Prepare embeddings\n",
    "sentence_model = SentenceTransformer(\"all-MiniLM-L6-v2\")\n",
    "embeddings = sentence_model.encode(text, show_progress_bar=False)\n",
    "cluster_model = HDBSCAN(\n",
    "    min_cluster_size=2,       # Allow small clusters\n",
    "    min_samples=1,            # Increase sensitivity to noise\n",
    "    cluster_selection_epsilon=0.05,  # Fine-tune for smaller clusters\n",
    "    metric='euclidean'\n",
    ")\n",
    "\n",
    "topic_model = BERTopic(hdbscan_model=cluster_model,  calculate_probabilities=False).fit(text, embeddings)\n",
    "topic_info2 = topic_model.get_topic_info()\n",
    "\n",
    "doc_info2 = topic_model.get_document_info(text)\n",
    "doc_info2[\"ID\"] = doc_info2.index\n",
    "doc_info2[\"Time\"] = docs[\"Time\"].tolist()"
   ]
  },
  {
   "cell_type": "code",
   "execution_count": 39,
   "metadata": {
    "tags": []
   },
   "outputs": [
    {
     "data": {
      "application/json": {
       "ascii": false,
       "bar_format": null,
       "colour": null,
       "elapsed": 0.005198240280151367,
       "initial": 0,
       "n": 0,
       "ncols": null,
       "nrows": null,
       "postfix": null,
       "prefix": "Batches",
       "rate": null,
       "total": 2882,
       "unit": "it",
       "unit_divisor": 1000,
       "unit_scale": false
      },
      "application/vnd.jupyter.widget-view+json": {
       "model_id": "63907e4bf850416ba8a3966d671e9b1c",
       "version_major": 2,
       "version_minor": 0
      },
      "text/plain": [
       "Batches:   0%|          | 0/2882 [00:00<?, ?it/s]"
      ]
     },
     "metadata": {},
     "output_type": "display_data"
    }
   ],
   "source": [
    "#Try3 Approximate Nearest Neighbors (ANN) Clustering\n",
    "import numpy as np\n",
    "from bertopic import BERTopic\n",
    "from sentence_transformers import SentenceTransformer\n",
    "from sklearn.feature_extraction.text import CountVectorizer\n",
    "import faiss\n",
    "\n",
    "# Load your data\n",
    "# text = [...]  # Your list of 100k newspaper headlines\n",
    "\n",
    "# Prepare embeddings\n",
    "sentence_model = SentenceTransformer(\"all-MiniLM-L6-v2\")\n",
    "embeddings = sentence_model.encode(text, show_progress_bar=True, batch_size=32)\n",
    "embeddings = np.array(embeddings).astype('float32')\n",
    "\n",
    "# Corrected Custom FAISS Clustering Class\n",
    "class FaissKMeans:\n",
    "    def __init__(self, n_clusters=1000, n_iter=20, gpu=False):\n",
    "        self.n_clusters = n_clusters\n",
    "        self.n_iter = n_iter\n",
    "        self.gpu = gpu\n",
    "        self.cluster_centers_ = None\n",
    "        self.labels_ = None\n",
    "\n",
    "    def fit(self, embeddings, y=None):\n",
    "        d = embeddings.shape[1]\n",
    "\n",
    "        if self.gpu:\n",
    "            res = faiss.StandardGpuResources()\n",
    "            flat_config = faiss.GpuIndexFlatConfig()\n",
    "            flat_config.device = 0\n",
    "            index = faiss.GpuIndexFlatL2(res, d, flat_config)\n",
    "        else:\n",
    "            index = faiss.IndexFlatL2(d)\n",
    "\n",
    "        kmeans = faiss.Clustering(d, self.n_clusters)\n",
    "        kmeans.niter = self.n_iter\n",
    "        kmeans.max_points_per_centroid = 10000000  # Avoid subsampling\n",
    "        kmeans.verbose = False  # Suppress faiss output\n",
    "\n",
    "        # Ensure embeddings are float32\n",
    "        embeddings = embeddings.astype(np.float32)\n",
    "\n",
    "        # Train the clustering model\n",
    "        kmeans.train(embeddings, index)\n",
    "\n",
    "        # Store the cluster centers\n",
    "        self.cluster_centers_ = faiss.vector_to_array(kmeans.centroids).reshape(self.n_clusters, d)\n",
    "\n",
    "        # Assign cluster centers to the index\n",
    "        index.add(self.cluster_centers_)\n",
    "\n",
    "        # Assign embeddings to clusters\n",
    "        distances, labels = index.search(embeddings, 1)\n",
    "        labels = labels.flatten()\n",
    "\n",
    "        # Store the labels\n",
    "        self.labels_ = labels\n",
    "\n",
    "        return self\n",
    "\n",
    "    def predict(self, embeddings):\n",
    "        embeddings = embeddings.astype(np.float32)\n",
    "        d = embeddings.shape[1]\n",
    "\n",
    "        if self.gpu:\n",
    "            res = faiss.StandardGpuResources()\n",
    "            flat_config = faiss.GpuIndexFlatConfig()\n",
    "            flat_config.device = 0\n",
    "            index = faiss.GpuIndexFlatL2(res, d, flat_config)\n",
    "        else:\n",
    "            index = faiss.IndexFlatL2(d)\n",
    "\n",
    "        index.add(self.cluster_centers_)\n",
    "        distances, labels = index.search(embeddings, 1)\n",
    "        labels = labels.flatten()\n",
    "        return labels\n",
    "\n",
    "    def fit_predict(self, embeddings, y=None):\n",
    "        self.fit(embeddings, y)\n",
    "        return self.labels_\n",
    "\n",
    "# Initialize the custom clustering model\n",
    "cluster_model = FaissKMeans(n_clusters=1000, n_iter=20, gpu=False)\n",
    "\n",
    "# Initialize the vectorizer\n",
    "vectorizer_model = CountVectorizer(ngram_range=(1, 2), stop_words=\"english\", min_df=3)\n",
    "\n",
    "# Initialize and fit the BERTopic model\n",
    "topic_model = BERTopic(\n",
    "    hdbscan_model=cluster_model,\n",
    "    umap_model=None,\n",
    "    low_memory=True,\n",
    "    calculate_probabilities=False,\n",
    "    vectorizer_model=vectorizer_model\n",
    ")\n",
    "\n",
    "topics, probs = topic_model.fit_transform(text, embeddings)\n",
    "\n",
    "# Get topic and document information\n",
    "topic_info3 = topic_model.get_topic_info()\n",
    "doc_info3 = topic_model.get_document_info(text)\n",
    "doc_info3[\"ID\"] = doc_info3.index\n",
    "doc_info3[\"Time\"] = docs[\"Time\"].tolist()"
   ]
  },
  {
   "cell_type": "code",
   "execution_count": 43,
   "metadata": {
    "tags": []
   },
   "outputs": [
    {
     "data": {
      "text/html": [
       "<div>\n",
       "<style scoped>\n",
       "    .dataframe tbody tr th:only-of-type {\n",
       "        vertical-align: middle;\n",
       "    }\n",
       "\n",
       "    .dataframe tbody tr th {\n",
       "        vertical-align: top;\n",
       "    }\n",
       "\n",
       "    .dataframe thead th {\n",
       "        text-align: right;\n",
       "    }\n",
       "</style>\n",
       "<table border=\"1\" class=\"dataframe\">\n",
       "  <thead>\n",
       "    <tr style=\"text-align: right;\">\n",
       "      <th></th>\n",
       "      <th>Name</th>\n",
       "      <th>dov</th>\n",
       "      <th>Topic</th>\n",
       "      <th>Count</th>\n",
       "      <th>Representation</th>\n",
       "      <th>Representative_Docs</th>\n",
       "    </tr>\n",
       "  </thead>\n",
       "  <tbody>\n",
       "    <tr>\n",
       "      <th>0</th>\n",
       "      <td>76_dog_dogs_pet_dog food</td>\n",
       "      <td>1.730655</td>\n",
       "      <td>76</td>\n",
       "      <td>217</td>\n",
       "      <td>[dog, dogs, pet, dog food, pet food, purina, c...</td>\n",
       "      <td>[fda says recalled pet food may be linked to 1...</td>\n",
       "    </tr>\n",
       "    <tr>\n",
       "      <th>1</th>\n",
       "      <td>1_word_cryptocurrencies_indicates_word markets</td>\n",
       "      <td>3.919238</td>\n",
       "      <td>1</td>\n",
       "      <td>464</td>\n",
       "      <td>[word, cryptocurrencies, indicates, word marke...</td>\n",
       "      <td>[workcred releases four-part series on the imp...</td>\n",
       "    </tr>\n",
       "    <tr>\n",
       "      <th>2</th>\n",
       "      <td>41_cards_buying guides_originals_highest</td>\n",
       "      <td>2.177887</td>\n",
       "      <td>41</td>\n",
       "      <td>254</td>\n",
       "      <td>[cards, buying guides, originals, highest, buy...</td>\n",
       "      <td>[grilling your food wrong how to prepare that ...</td>\n",
       "    </tr>\n",
       "    <tr>\n",
       "      <th>3</th>\n",
       "      <td>36_cards_buying guides_originals_highest</td>\n",
       "      <td>3.752151</td>\n",
       "      <td>36</td>\n",
       "      <td>262</td>\n",
       "      <td>[cards, buying guides, originals, highest, buy...</td>\n",
       "      <td>[saturday is national hamburger day. here's wh...</td>\n",
       "    </tr>\n",
       "    <tr>\n",
       "      <th>4</th>\n",
       "      <td>462_shrimp_frozen shrimp_frozen_avanti</td>\n",
       "      <td>0.749235</td>\n",
       "      <td>462</td>\n",
       "      <td>77</td>\n",
       "      <td>[shrimp, frozen shrimp, frozen, avanti, avanti...</td>\n",
       "      <td>[major expanded recall on frozen shrimp sold a...</td>\n",
       "    </tr>\n",
       "    <tr>\n",
       "      <th>...</th>\n",
       "      <td>...</td>\n",
       "      <td>...</td>\n",
       "      <td>...</td>\n",
       "      <td>...</td>\n",
       "      <td>...</td>\n",
       "      <td>...</td>\n",
       "    </tr>\n",
       "    <tr>\n",
       "      <th>995</th>\n",
       "      <td>997_jax_news jax_action news_unavailable location</td>\n",
       "      <td>0.583090</td>\n",
       "      <td>997</td>\n",
       "      <td>2</td>\n",
       "      <td>[jax, news jax, action news, unavailable locat...</td>\n",
       "      <td>[this website is unavailable in your location....</td>\n",
       "    </tr>\n",
       "    <tr>\n",
       "      <th>996</th>\n",
       "      <td>962_jax_news jax_action news_unavailable location</td>\n",
       "      <td>0.714956</td>\n",
       "      <td>962</td>\n",
       "      <td>10</td>\n",
       "      <td>[jax, news jax, action news, unavailable locat...</td>\n",
       "      <td>[this website is unavailable in your location....</td>\n",
       "    </tr>\n",
       "    <tr>\n",
       "      <th>997</th>\n",
       "      <td>939_companies products_services software_produ...</td>\n",
       "      <td>1.130652</td>\n",
       "      <td>939</td>\n",
       "      <td>13</td>\n",
       "      <td>[companies products, services software, produc...</td>\n",
       "      <td>[certified reference materials for the quantif...</td>\n",
       "    </tr>\n",
       "    <tr>\n",
       "      <th>998</th>\n",
       "      <td>284_quaker_granola_quaker oats_oats</td>\n",
       "      <td>8.876800</td>\n",
       "      <td>284</td>\n",
       "      <td>118</td>\n",
       "      <td>[quaker, granola, quaker oats, oats, granola b...</td>\n",
       "      <td>[quaker oats recalls more products over potent...</td>\n",
       "    </tr>\n",
       "    <tr>\n",
       "      <th>999</th>\n",
       "      <td>984_supplement_cholesterol_26 hospitalized_hos...</td>\n",
       "      <td>2.112041</td>\n",
       "      <td>984</td>\n",
       "      <td>6</td>\n",
       "      <td>[supplement, cholesterol, 26 hospitalized, hos...</td>\n",
       "      <td>[japan recalls supplement after 2 , over hundr...</td>\n",
       "    </tr>\n",
       "  </tbody>\n",
       "</table>\n",
       "<p>1000 rows × 6 columns</p>\n",
       "</div>"
      ],
      "text/plain": [
       "                                                  Name       dov  Topic  \\\n",
       "0                             76_dog_dogs_pet_dog food  1.730655     76   \n",
       "1       1_word_cryptocurrencies_indicates_word markets  3.919238      1   \n",
       "2             41_cards_buying guides_originals_highest  2.177887     41   \n",
       "3             36_cards_buying guides_originals_highest  3.752151     36   \n",
       "4               462_shrimp_frozen shrimp_frozen_avanti  0.749235    462   \n",
       "..                                                 ...       ...    ...   \n",
       "995  997_jax_news jax_action news_unavailable location  0.583090    997   \n",
       "996  962_jax_news jax_action news_unavailable location  0.714956    962   \n",
       "997  939_companies products_services software_produ...  1.130652    939   \n",
       "998                284_quaker_granola_quaker oats_oats  8.876800    284   \n",
       "999  984_supplement_cholesterol_26 hospitalized_hos...  2.112041    984   \n",
       "\n",
       "     Count                                     Representation  \\\n",
       "0      217  [dog, dogs, pet, dog food, pet food, purina, c...   \n",
       "1      464  [word, cryptocurrencies, indicates, word marke...   \n",
       "2      254  [cards, buying guides, originals, highest, buy...   \n",
       "3      262  [cards, buying guides, originals, highest, buy...   \n",
       "4       77  [shrimp, frozen shrimp, frozen, avanti, avanti...   \n",
       "..     ...                                                ...   \n",
       "995      2  [jax, news jax, action news, unavailable locat...   \n",
       "996     10  [jax, news jax, action news, unavailable locat...   \n",
       "997     13  [companies products, services software, produc...   \n",
       "998    118  [quaker, granola, quaker oats, oats, granola b...   \n",
       "999      6  [supplement, cholesterol, 26 hospitalized, hos...   \n",
       "\n",
       "                                   Representative_Docs  \n",
       "0    [fda says recalled pet food may be linked to 1...  \n",
       "1    [workcred releases four-part series on the imp...  \n",
       "2    [grilling your food wrong how to prepare that ...  \n",
       "3    [saturday is national hamburger day. here's wh...  \n",
       "4    [major expanded recall on frozen shrimp sold a...  \n",
       "..                                                 ...  \n",
       "995  [this website is unavailable in your location....  \n",
       "996  [this website is unavailable in your location....  \n",
       "997  [certified reference materials for the quantif...  \n",
       "998  [quaker oats recalls more products over potent...  \n",
       "999  [japan recalls supplement after 2 , over hundr...  \n",
       "\n",
       "[1000 rows x 6 columns]"
      ]
     },
     "execution_count": 43,
     "metadata": {},
     "output_type": "execute_result"
    }
   ],
   "source": [
    "# Split the data based on the selected time unit\n",
    "paper_split = dict(tuple(doc_info3.groupby('Time')))\n",
    "\n",
    "# Get the maximum time value (e.g., year, month, or day)\n",
    "max_time = doc_info3['Time'].max()\n",
    "\n",
    "# Initialize an empty DataFrame\n",
    "dov = pd.DataFrame()\n",
    "\n",
    "# Create a list to store individual DataFrames for each time group (year, month, or day)\n",
    "dfs = []\n",
    "\n",
    "# Set the time weight (tw)\n",
    "tw = 0.05\n",
    "\n",
    "# Iterate over each time group's data\n",
    "for time_value, group in doc_info3.groupby('Time'):\n",
    "    topic_count = group['Name'].value_counts().reset_index()\n",
    "    topic_count.columns = ['Name', 'Count']\n",
    "    topic_count['Time'] = time_value\n",
    "\n",
    "    # Get min and max time for this group\n",
    "    min_time = group['Time'].min()\n",
    "    max_time = group['Time'].max()\n",
    "\n",
    "    # Calculate the time difference (based on the time unit)\n",
    "    time_diff = time_difference(max_time, min_time, time_unit)\n",
    "\n",
    "    # Create a DataFrame for the current time's DoV values\n",
    "    df = pd.DataFrame(index=[min_time], columns=topic_count['Name'])\n",
    "    for _, row in topic_count.iterrows():\n",
    "        topic = row['Name']\n",
    "        frequency = row['Count']\n",
    "        # Ensure the time difference is factored in correctly\n",
    "        df[topic] = (frequency / len(group)) * (1 - tw * time_diff)\n",
    "\n",
    "    dfs.append(df)\n",
    "\n",
    "# Concatenate all the time-based DataFrames into a single DataFrame\n",
    "dov = pd.concat(dfs)\n",
    "\n",
    "# Compute the geometric mean for each topic across time units\n",
    "dov_means = pd.DataFrame(columns=dov.columns)\n",
    "\n",
    "for column in dov.columns:\n",
    "    column_mean = gmean(dov[column].dropna())\n",
    "    dov_means[column] = [column_mean * 1000]\n",
    "\n",
    "t_DoV = dov_means.melt(var_name=\"Name\", value_name=\"dov\")\n",
    "\n",
    "# Merge with topic information\n",
    "wsm_dov = pd.merge(t_DoV, topic_info3, on='Name')\n",
    "wsm_dov"
   ]
  },
  {
   "cell_type": "code",
   "execution_count": 44,
   "metadata": {
    "tags": []
   },
   "outputs": [],
   "source": [
    "wsm_dov.to_csv('data/wsm_dov3.csv', index=False)"
   ]
  },
  {
   "cell_type": "code",
   "execution_count": 45,
   "metadata": {
    "tags": []
   },
   "outputs": [
    {
     "data": {
      "application/vnd.plotly.v1+json": {
       "config": {
        "plotlyServerURL": "https://plot.ly"
       },
       "data": [
        {
         "customdata": [
          [
           "76_dog_dogs_pet_dog food"
          ],
          [
           "1_word_cryptocurrencies_indicates_word markets"
          ],
          [
           "41_cards_buying guides_originals_highest"
          ],
          [
           "36_cards_buying guides_originals_highest"
          ],
          [
           "462_shrimp_frozen shrimp_frozen_avanti"
          ],
          [
           "13_fssai_fnb_fnb news_emagazine links"
          ],
          [
           "406_scratchings_pork scratchings_salmonella_porky"
          ],
          [
           "320_peloton_treadmill_treadmills_tread"
          ],
          [
           "35_seaweed_vessel_aquaculture_fish"
          ],
          [
           "557_20240521_2024 20240521_22 whos_reacting 20240521"
          ],
          [
           "54_new window_opens new_window click_opens"
          ],
          [
           "7_transportation_auto transportation_news releases_computer"
          ],
          [
           "142_instruct_counsel_whos_shareholders"
          ],
          [
           "296_chicken_health alert_chicken products_inspection service"
          ],
          [
           "50_cards_buying guides_originals_highest"
          ],
          [
           "24_oman_qatar_doha_muscat"
          ],
          [
           "34_commentary_earnings_calendars_biotech"
          ],
          [
           "176_pakistan_islamabad_lahore_karachi"
          ],
          [
           "75_afl_region page_heartbeat australia_links todays"
          ],
          [
           "5_benzinga_stocks best_ideas_penny stocks"
          ],
          [
           "115_azerbaijan_azerbaijani_safety agency_azernewsaz"
          ],
          [
           "16_edt_forbes_entrepreneur_beta"
          ],
          [
           "3_transportation_auto transportation_news releases_computer"
          ],
          [
           "19_toggle dropdown_dropdown_toggle_straits times"
          ],
          [
           "119_food traceability_catering_release_traceability"
          ],
          [
           "15_seafood_expo_photo courtesy_courtesy"
          ],
          [
           "17_vietnam_ting_ting vit_vietnamese"
          ],
          [
           "207_listeria_milk_raw milk_raw"
          ],
          [
           "70_psl_pakistan_news psl_lahore"
          ],
          [
           "851_vr_remote work_remote_oculus"
          ],
          [
           "12_blood pressure_medication_drug_tablets"
          ],
          [
           "97_noodls_transportation_chemicals commodities_textile apparel"
          ],
          [
           "21_florida_orlando_fox_love florida"
          ],
          [
           "0_parliament_committees_european parliament_delegations"
          ],
          [
           "315_sprouts_alfalfa_pams_bean sprouts"
          ],
          [
           "10_hygiene_rating_hygiene rating_food hygiene"
          ],
          [
           "114_rate today_elections 2024_businessline_portfolio"
          ],
          [
           "181_sauce_woolworths_undeclared_recall"
          ],
          [
           "4_devices_devices market_surgical_market"
          ],
          [
           "141_pakistan_islamabad_karachi_psl"
          ],
          [
           "475_masks_mask_wuhan_covid"
          ],
          [
           "53_thailand_thailand news_news thailand_bangkok"
          ],
          [
           "51_focus_tillage_beef_sheep"
          ],
          [
           "88_psl_news psl_peshawar_food authority"
          ],
          [
           "688_open dropdown_dropdown menu_santa barbara_barbara"
          ],
          [
           "433_buns_hostess_hot dog_hamburger"
          ],
          [
           "153_journals_open access_journal_mdpi"
          ],
          [
           "89_2024 product_palos_startup funding_masterclass"
          ],
          [
           "710_costs_pricey_wished_pals"
          ],
          [
           "46_taiwan_taiwan news_cases_entertainment variety"
          ],
          [
           "352_listeria_botulism_monocytogenes_listeria monocytogenes"
          ],
          [
           "285_casino_sales org_business 21_org"
          ],
          [
           "62_vaccine_covid19_vaccination_vaccines"
          ],
          [
           "68_monkeypox_covid_vaccine_vaccines"
          ],
          [
           "61_trump_minutes ago_health care_national security"
          ],
          [
           "240_transportation_auto transportation_computer_news releases"
          ],
          [
           "310_rice_fortified rice_fortified_india"
          ],
          [
           "291_listen token_token stichworte_stichworte_fragen listen"
          ],
          [
           "876_cards_buying guides_originals_highest"
          ],
          [
           "33_el sitio_sitio_america asia_site"
          ],
          [
           "49_islamic_islamic finance_subcontinent china_mena english"
          ],
          [
           "625_louth_dundalk_news dundalk_safety council"
          ],
          [
           "252_salmonella_outbreak_salmonella outbreak_outbreak salmonella"
          ],
          [
           "23_farm progress_informa_america 21_progress"
          ],
          [
           "205_esm_abrands_today esm_00logolightlogotype"
          ],
          [
           "604_cards_screener_buying guides_highest"
          ],
          [
           "216_fao_agrifood systems_hunger_food agriculture"
          ],
          [
           "98_offaly_commercial property_ireland_ulster"
          ],
          [
           "162_rhode_rhode island_chicago_love letters"
          ],
          [
           "314_legal affairs_kebs_food agriculture_kenya"
          ],
          [
           "189_transportation_auto transportation_news releases_computer"
          ],
          [
           "171_shipping news_government health_energy research_shipping"
          ],
          [
           "58_code_loyalty_use paper_9pm"
          ],
          [
           "192_arkansas_adg_learns_legal notices"
          ],
          [
           "67_newswires_ein presswire_presswire_ein"
          ],
          [
           "157_market_food market_growth_halal food"
          ],
          [
           "29_newswires_ein presswire_presswire_ein"
          ],
          [
           "27_express_tesco_tech garden_wins life"
          ],
          [
           "87_tesco_asda_sainsburys_aldi"
          ],
          [
           "39_transplant_heart_pig_pig heart"
          ],
          [
           "74_class_class action_integra_securities"
          ],
          [
           "338_payment_payment details_update payment_glasgow"
          ],
          [
           "8_listeria monocytogenes_monocytogenes_listeria_foodworld"
          ],
          [
           "382_nutritional analysis_low calorie_snacks market_nutritional"
          ],
          [
           "137_hot topic_jd_custom_topic"
          ],
          [
           "293_star_daily star_dhaka_youth"
          ],
          [
           "437_ice cream_cream_ice_haagendazs"
          ],
          [
           "149_cna_asia usuk_indonesia asia_singapore indonesia"
          ],
          [
           "210_medien_indizes_alle_nasdaq 100"
          ],
          [
           "127_fish_bfar_fishing_fisheries"
          ],
          [
           "31_backpage_tinubu_nigeria_wike"
          ],
          [
           "194_markets money_view view_ipl 2024_ipl"
          ],
          [
           "126_stuff stuff_stuff__"
          ],
          [
           "110_ingredients_send covid19_covid19 obesity_obesity industry"
          ],
          [
           "37_ingredients_site archive_archive 2024_podcasts photo"
          ],
          [
           "100_guardian_voices_edition_electric vehicles"
          ],
          [
           "916_brussels times_brussels_times_"
          ],
          [
           "308_sun_chef_edt_gifts"
          ],
          [
           "332_agtech_nondilutive_agtech innovation_investment industry"
          ],
          [
           "79_philips_medtech_device_medical device"
          ],
          [
           "116_sasa_eastern_counties_star"
          ],
          [
           "125_gift account_data health_story data_visual story"
          ],
          [
           "955_liquide_air liquide_join join_2023 sustainability"
          ],
          [
           "292_mirage news_mirage_national tribune_news mirage"
          ],
          [
           "130_52 week_100 cash_credit score_reward"
          ],
          [
           "84_open access_journals_mdpi_journal"
          ],
          [
           "488_milk_adulterated milk_psl_adulterated"
          ],
          [
           "270_dog_dog food_pet_pet food"
          ],
          [
           "174_genetically_techniques_new genomic_modified"
          ],
          [
           "454_dingdong_dingdong cayman_biggest_ddl"
          ],
          [
           "721_het_juli_van_dat"
          ],
          [
           "459_alabama_atlanta_alert weather_alert"
          ],
          [
           "129_healthy_children_sugar_diet"
          ],
          [
           "880_hamdard_research students_restrains_universities"
          ],
          [
           "275_explainer_factcheck_weekly_contribute"
          ],
          [
           "40_law_food drugs_drugs healthcare_healthcare life"
          ],
          [
           "408_guyana_perspective_mind_kissoon"
          ],
          [
           "265_te_nzme_nz herald_herald"
          ],
          [
           "169_ham_pepperoni_listeria_ham pepperoni"
          ],
          [
           "496_charcuterie_beretta_fratelli_fratelli beretta"
          ],
          [
           "106_commentary_earnings_calendars_biotech"
          ],
          [
           "464_transportation_auto transportation_news releases_computer"
          ],
          [
           "221_wfp_reliefweb_country brief_assistance"
          ],
          [
           "428_404_404 page_oops_template"
          ],
          [
           "830_soybean_tonnes genetically_soyameal_soymeal"
          ],
          [
           "565_4x4_ford_kia_car"
          ],
          [
           "353_mp_16c_king charles_prince harry"
          ],
          [
           "230_ipl_schedule 2024_cap_ht"
          ],
          [
           "236_poultry_world poultry_healthnutrition_poultry genetics"
          ],
          [
           "69_vietnam_aa_vietnamnet_gmt0700"
          ],
          [
           "409_ministry spokesperson_foreign ministry_spokesperson_diplomat"
          ],
          [
           "185_ukraine_ukrainian_bh_grain"
          ],
          [
           "57_vietnam_vietnamese_ting_ting vit"
          ],
          [
           "476_cell_lcms_clinical_cell gene"
          ],
          [
           "18_medien_indizes_xetraorderbuch_atx nikkei"
          ],
          [
           "52_salmonella_foodworld_food microbiology_tahini"
          ],
          [
           "247_modified_genetically_genetically modified_gene"
          ],
          [
           "226_health security_election ukraine_general election_global health"
          ],
          [
           "193_scoop_mirage news_mirage_scoop werewolf"
          ],
          [
           "245_pizza hut_hut_pizza_supervision"
          ],
          [
           "145_chromatography_spectroscopy_analytical_spectroscopy market"
          ],
          [
           "190_kathmandu_sri_budget_lanka"
          ],
          [
           "42_solar_tesla_cleantechnica_vehicles"
          ],
          [
           "178_meat_meat market_farming market_vertical farming"
          ],
          [
           "71_corn_mexico_datanetchng_datanetchng number"
          ],
          [
           "470_cellbased food_cellbased_food control_jemra"
          ],
          [
           "403_pathogen_food pathogen_pathogen testing_testing market"
          ],
          [
           "9_cbs_cbs news_baltimore_pittsburgh"
          ],
          [
           "161_shanghai_epidemic_epidemic prevention_china"
          ],
          [
           "513_continue_min_social account_account continue"
          ],
          [
           "220_nafdac_nigeria_lagos_adeyeye"
          ],
          [
           "43_cinnamon_pouches_applesauce_lead"
          ],
          [
           "105_open access_journals_mdpi_journal"
          ],
          [
           "20_open access_journals_mdpi_journal"
          ],
          [
           "66_malaysia_page link_ago_link page"
          ],
          [
           "556_animals_animal_welfare_swiss"
          ],
          [
           "55_safety testing_testing_testing market_global food"
          ],
          [
           "648_slow cooker_sperm_cooker_cookbooks"
          ],
          [
           "82_la_la times_short docs_docs"
          ],
          [
           "183_pesticides_pesticide_guardian_residues"
          ],
          [
           "175_cold chain_cold_refrigerated_refrigeration"
          ],
          [
           "135_release_market_imprint_submit release"
          ],
          [
           "131_hepatitis_strawberries_frozen_berries"
          ],
          [
           "30_medien_indizes_kurs_kurs news"
          ],
          [
           "163_govuk_additional_additional change_search govuk"
          ],
          [
           "133_taiwan_taiwan news_taipei_features bilingual"
          ],
          [
           "678_cork_subscriber content_gaa_subscriber"
          ],
          [
           "669_passenger killed_turbulence_ohtani_brit"
          ],
          [
           "278_military defense_indicates_food health_mortgages"
          ],
          [
           "92_cardiac_vascular_devices_devices market"
          ],
          [
           "244_nutrition_category news_ingredients_category"
          ],
          [
           "72_sound_cam_snd_hour"
          ],
          [
           "523_edt_grantham_jeremy grantham_forbes"
          ],
          [
           "411_pret_dancer_eating_allergy"
          ],
          [
           "214_commentary_earnings_calendars_biotech"
          ],
          [
           "690_govuk_additional_additional change_search govuk"
          ],
          [
           "102_plastic_food packaging_plastics_packaging"
          ],
          [
           "388_allergens_mycotoxins_food control_allergen"
          ],
          [
           "301_kent_kmtv_ashford_gravesend"
          ],
          [
           "540_ingredients_site archive_archive 2024_podcasts photo"
          ],
          [
           "233_worcester_worcestershire_eeditions_hygiene"
          ],
          [
           "47_open access_journals_nutrients fulltext_journal"
          ],
          [
           "199_nuclear_hours ago_markets data_safeguards"
          ],
          [
           "624____"
          ],
          [
           "333_shanahan_clare_food waste_months ago"
          ],
          [
           "334_codex_fao_food control_seychelles"
          ],
          [
           "514_mua_ng_ton_thi"
          ],
          [
           "772_dumpster_grocery_dumpster diving_cbc"
          ],
          [
           "59_seachtain_left wing_wing_irish"
          ],
          [
           "134_kenya_uganda_purchases sign_password purchases"
          ],
          [
           "150_track trace_trace solutions_solutions market_trace"
          ],
          [
           "281_newsbulletins_nlr_publish_law"
          ],
          [
           "140_pradesh_educational news_india education_educational"
          ],
          [
           "26_maine_news nigeria_bangor_nigeria"
          ],
          [
           "878_jakubowitz_jakubowitz law_lawsuits_shareholders"
          ],
          [
           "534_limerick_port_harbour_featured"
          ],
          [
           "25_ipl_ht_quickreads_live ipl"
          ],
          [
           "524_sunscreen_banana boat_banana_boat"
          ],
          [
           "311_food standards_standards_standards scotland_scotland"
          ],
          [
           "489_acne_clearasil_cancercausing chemical_clinique"
          ],
          [
           "143_aflatoxin_pistachios_foodworld_ochratoxin"
          ],
          [
           "550_food irradiation_irradiation_testing market_chromatography food"
          ],
          [
           "201_attempt_wait_request_load"
          ],
          [
           "494_puzzmo_newsletters financial_women puzzmo_financialpostcom perform"
          ],
          [
           "138_gaza_israeli_israel_gaza strip"
          ],
          [
           "538_listen_listen live_talksport_96fm"
          ],
          [
           "346_ikea_chairs_blankets_highchairs"
          ],
          [
           "232_ann arbor_arbor_ann_stats"
          ],
          [
           "217_philippine_convertible currencies_convertible_bsp"
          ],
          [
           "530_capital news_kenya_news featured_flood"
          ],
          [
           "582_wheelers_healthcarebiotech_cons products_economic times"
          ],
          [
           "117_sucralose_cells_cancer_sweetener"
          ],
          [
           "164_tesco_buy_whats_expand"
          ],
          [
           "507_krhd_county_kxxv_25 news"
          ],
          [
           "434_processing_suntory_materials handling_prepared food"
          ],
          [
           "387_new mexico_wafb_kob_albuquerque"
          ],
          [
           "206_cebu_philstar_commentaries_philstarcom"
          ],
          [
           "288_eze_athletics basketball_quits_sport athletics"
          ],
          [
           "2_mumbai_noida_ahmedabad_maliwal"
          ],
          [
           "202_nutrition_food ingredients_category news_sports nutrition"
          ],
          [
           "555_cholera_taliban_afghanistan_afghan"
          ],
          [
           "60_bees_chemicals energy_climate land_infringements"
          ],
          [
           "517_luxembourg_lodges_hereditary_sos"
          ],
          [
           "200_soccer_horses_epaper business_bets"
          ],
          [
           "441_taiwan_taipei_taiwan news_crabs"
          ],
          [
           "215_noodles_indomie_myanmar_indomie noodles"
          ],
          [
           "186_incert_moldova_moldpres_incert email"
          ],
          [
           "231_high school_college_school_disney"
          ],
          [
           "727_boars_health wise_release features_weekly business"
          ],
          [
           "414_seed_seeds market_seeds_seed market"
          ],
          [
           "396_resistance_antibiotics_antimicrobial_antibiotic"
          ],
          [
           "429_gift account_data health_opinion search_health opinion"
          ],
          [
           "85_rate india_ipo_rate_ipo stock"
          ],
          [
           "64_formula_cronobacter_infant_infant formula"
          ],
          [
           "249_caribbean_haiti_svg_grenadines"
          ],
          [
           "920_word_cryptocurrencies_indicates_word markets"
          ],
          [
           "510_closure_closure orders_orders_served"
          ],
          [
           "347_euronews_policy green_business eu_eu policy"
          ],
          [
           "477_ghana_fsqa_entertainment africa_expired"
          ],
          [
           "410_food fraud_fraud_foodauthenticity_fraud prevention"
          ],
          [
           "11_salad_spinach_listeria_dole"
          ],
          [
           "482_boda_david_uganda_uncle"
          ],
          [
           "121_medien_indizes_smi atx_sdax mdax"
          ],
          [
           "306_expat corner_expat_corner_trkiye"
          ],
          [
           "187_arable_livestock_prices_farmer"
          ],
          [
           "442_focus_tillage_beef_sheep"
          ],
          [
           "273_hong_hong kong_kong_gba"
          ],
          [
           "93_wral_community calendar_traffic_alert"
          ],
          [
           "318_cockroach_cockroaches_rats_rat"
          ],
          [
           "701_edt_green_transition_20 2024"
          ],
          [
           "197_grain_china_chinas_food security"
          ],
          [
           "159_sudan_security council_humanitarian_lebanon"
          ],
          [
           "647_banned tobacco_gift account_data health_visual story"
          ],
          [
           "483_cbd_hemp_thc_cbd oil"
          ],
          [
           "191_gift account_data health_visual story_story data"
          ],
          [
           "251_decreased_increased_afternoons_breakfast"
          ],
          [
           "348_stat_tracker_biotech pharma_tracker breakthrough"
          ],
          [
           "739_admin 21_admin_starfield_21 2024"
          ],
          [
           "327_new window_opens new_opens_window"
          ],
          [
           "641_stripes_veterans_military_force"
          ],
          [
           "128_tmt_public square_csi tmt_advice fast"
          ],
          [
           "614_law_newsbulletins_nlr_intellectual"
          ],
          [
           "723_newswires_ein presswire_presswire_ein"
          ],
          [
           "543_feed_animal feed_feed additives_probiotics"
          ],
          [
           "901_reindeer_polar_norway_fence"
          ],
          [
           "921_catering_saudi_catering services_saudi arabia"
          ],
          [
           "371_northern ireland_protocol_brexit_ireland protocol"
          ],
          [
           "546_scoop_social sector_salary survey_volunteer"
          ],
          [
           "146_style style_version version_submenu item_style"
          ],
          [
           "983_siberian_arctic_tsu_indigenous peoples"
          ],
          [
           "401_protein_soy_protein market_soy protein"
          ],
          [
           "609_safety day_world food_firstpost_day 2023"
          ],
          [
           "630_violence_insecurity_displacement_tracker"
          ],
          [
           "271_animal_animal welfare_welfare_european commission"
          ],
          [
           "627_titanium dioxide_titanium_dioxide_additive"
          ],
          [
           "449_blood pressure_blood_cholesterol_pressure"
          ],
          [
           "374_business marketing_sony_bullfrag_naruto"
          ],
          [
           "32_market_release_health medicine_imprint"
          ],
          [
           "657_honey_applied science_society humanities_pdf print"
          ],
          [
           "499_fish_aquarium_fishing_berlin"
          ],
          [
           "362_russian_nuclear_ukraine_russia"
          ],
          [
           "492_packaging market_packaging_resins_polymers"
          ],
          [
           "358_subsections_western australia_sydney_queensland"
          ],
          [
           "45_agrifood_capitals_ukraine intelligence_capitals brief"
          ],
          [
           "521_gambia_melt_sports featured_2024 letters"
          ],
          [
           "404_toronto_puzzmo_kingston_reddit pinterest"
          ],
          [
           "300_norovirus_tests_norovirus cases_sun"
          ],
          [
           "599_slovenina_navigation language_en english_lietuvi kalba"
          ],
          [
           "884_energy drinks_drinks_newswires_drinkers"
          ],
          [
           "935_govuk_additional_additional change_search govuk"
          ],
          [
           "469_minister foreign_geopolitics_april 16_foreign policy"
          ],
          [
           "453_food poisoning_poisoning_kerala_suspected food"
          ],
          [
           "580_formula market_baby infant_baby_infant formula"
          ],
          [
           "152_agence europe_agence_connection_connection fr"
          ],
          [
           "297_costa_cristiano_cristiano ronaldo_ronaldo reacts"
          ],
          [
           "234_listen token_fragen listen_stichworte_token stichworte"
          ],
          [
           "478_2024 business_business wire_caribbean news_caribbean"
          ],
          [
           "219_guardian_europe edition_edition_guardian licensing"
          ],
          [
           "237_loungers_boppy_newborn_infant deaths"
          ],
          [
           "564_product safety_rohs_gpsr_course"
          ],
          [
           "360_nj_ct_ny_communities"
          ],
          [
           "312_glyphosate_herbicide_controversial_scoop"
          ],
          [
           "235_world scotland_ian_scotland health_puzzles"
          ],
          [
           "585_noodles_banana_instant noodles_instant"
          ],
          [
           "168_mcdonalds_hawaii_hawaii news_print replica"
          ],
          [
           "520_fridge_freezer_power outage_outage"
          ],
          [
           "78_supervision_teller report_teller_administration market"
          ],
          [
           "990_chicken meat_tmt_ph_korean government"
          ],
          [
           "90_subscriber content_subscriber_gaa_munster"
          ],
          [
           "693_jamaica_emancipation_jis_jis news"
          ],
          [
           "398_midday_mumbai_news mumbai_bm"
          ],
          [
           "620_fnb_fnb news_fssai_mart feedback"
          ],
          [
           "897_coast fm_hot tub_tub_coast"
          ],
          [
           "863_5g_nand_techradar_tech radar"
          ],
          [
           "522_ultraviolet_disinfectant_mycoplasma_glutamate msg"
          ],
          [
           "501_ai food_food beverage_beverage_artificial intelligence"
          ],
          [
           "635_tea_milk tea_zibo_barbecue"
          ],
          [
           "28_fukushima_nuclear_japan_japans"
          ],
          [
           "503_stylized_indicates_logo_search markets"
          ],
          [
           "680_wptv_florida_orlando_fox"
          ],
          [
           "416_site archive_archive 2024_podcasts photo_news multimedia"
          ],
          [
           "702_newswires_ein presswire_presswire_ein"
          ],
          [
           "376_dr_assange_war terror_terror"
          ],
          [
           "632_transportation_auto transportation_computer_news releases"
          ],
          [
           "204_focus taiwan_2nd_taiwan_pass"
          ],
          [
           "726_newschannel_nashville_salvation_broken"
          ],
          [
           "430_ethiopia_djibouti_new business_somalia"
          ],
          [
           "818_samoa_american samoa_pago_samoa news"
          ],
          [
           "859_food inspection_search chathamdailynewsca_chathamdailynewsca_chatham daily"
          ],
          [
           "246_bangladesh_30th anniversary_30th_bss"
          ],
          [
           "445_law_life sciences_litigation_european union"
          ],
          [
           "559_news4jax_river city_city live_snapjax"
          ],
          [
           "165_national tribune_tribune_biosecurity_mirage news"
          ],
          [
           "770_guardian_subsections_europe edition_edition"
          ],
          [
           "248_tobacco_priorities_nicotine_worry"
          ],
          [
           "261_columns_young life_columns lifestyle_mining energy"
          ],
          [
           "269_politico_playbook_influence_living cities"
          ],
          [
           "988_forums_new posts_ya_uovu"
          ],
          [
           "704_bradford_yorkshire_ilkley_keighley"
          ],
          [
           "455_reverse logistics_freight chartered_chartered air_air transport"
          ],
          [
           "420_plant protection_slovenia_sta_tp organics"
          ],
          [
           "283_global insight_insight services_report includes_market report"
          ],
          [
           "188_agents_drugs_analgesics_intermediates"
          ],
          [
           "495_saudi_arab news_arab_saudi arabia"
          ],
          [
           "827_cards_buying guides_originals_highest"
          ],
          [
           "212_swine fever_swine_fever_african swine"
          ],
          [
           "172_ctv_ctv news_vancouver_ottawa"
          ],
          [
           "558_aldi_aldi issues_expand_buy"
          ],
          [
           "156_cuba_mercopress_dominican_cuban"
          ],
          [
           "511_open access_journals_animals fulltext_mdpi"
          ],
          [
           "242_nigeria_result_view result_result view"
          ],
          [
           "111_word_cryptocurrencies_indicates_word markets"
          ],
          [
           "622_pulse_law360_delaware_bloomberg"
          ],
          [
           "554_longford_pattaya_mail_sports classifieds"
          ],
          [
           "763_open access_journals_journal_mdpi"
          ],
          [
           "598_lateral flow_lateral_flow_flow assay"
          ],
          [
           "253_oysters_norovirus_shellfish_vibrio"
          ],
          [
           "438_acid_acid market_calcium_propionate"
          ],
          [
           "689_glufosinate_enzymes_enzymes market_food enzymes"
          ],
          [
           "940_cayman_compass_cayman islands_islands"
          ],
          [
           "525_houston_kprc_houston sports_astros"
          ],
          [
           "877_gifts_storage tools_entertaining_kitchen"
          ],
          [
           "450_abu_abu dhabi_dhabi_psl"
          ],
          [
           "343_milk_meiji_almond milk_nj"
          ],
          [
           "716_law_international law_intellectual_intellectual property"
          ],
          [
           "154_resource_resource center_center_center food"
          ],
          [
           "319_olive_olive oil_costa_blanca"
          ],
          [
           "443_resource center_resource_center_center food"
          ],
          [
           "597_movie pageant_cannes movie_pageant_gta"
          ],
          [
           "351_chromosome_trillion_20240522_military defense"
          ],
          [
           "457_latvian_tiri_aboneazte_aboneazte intr"
          ],
          [
           "422_swine_pig_el sitio_sitio"
          ],
          [
           "833_newswires_transportation_auto transportation_news releases"
          ],
          [
           "304_lettuce_washing_wash_leafy"
          ],
          [
           "369_biosensors_open access_journals_electrochemical"
          ],
          [
           "970_japan_japan today_distilleries_kyodo"
          ],
          [
           "294_basmati_basmati rice_fssai_rice"
          ],
          [
           "139_sting_union news_european_insights european"
          ],
          [
           "655_open access_mdpi_journals_journal"
          ],
          [
           "363_nutrition_category news_agree_category"
          ],
          [
           "255_bpa_bisphenol_pfas_bonding"
          ],
          [
           "103_fryers_air fryers_burn_air"
          ],
          [
           "155_islamic_islamic finance_americas russia_mena english"
          ],
          [
           "473_vaccines_vaccines market_vaccine_vaccine market"
          ],
          [
           "758_monitoring_water_quality monitoring_monitoring water"
          ],
          [
           "63_uae_00_dubai_00 00"
          ],
          [
           "390_poll_african youth_arrested murder_preelection"
          ],
          [
           "751_open access_journals_journal_mdpi"
          ],
          [
           "845_newswires_ein presswire_presswire_ein"
          ],
          [
           "588_phase_grants_nifa_official website"
          ],
          [
           "256_undeclared_allergen_allergy_allergic"
          ],
          [
           "533_milk_multivitamin_d3_vitamin d3"
          ],
          [
           "481_milk_delhi_adulteration_nandini"
          ],
          [
           "804_acres farms_80 acres_indoor_digital agriculture"
          ],
          [
           "606_cgiar_dashboards_dashboard_great day"
          ],
          [
           "402_items agenda_agenda_deadlines_session"
          ],
          [
           "729_market news_congressional fix_coalition urge_urge congressional"
          ],
          [
           "665_edt_headphones_sonos_lightroom"
          ],
          [
           "537_20th 2024_20th_21st 2024_changemakers"
          ],
          [
           "974_newswires_calorie_ein presswire_presswire"
          ],
          [
           "667_cebu_philippine_rappler_philippines"
          ],
          [
           "637_ccf_penh_phnom penh_phnom"
          ],
          [
           "755_chicago_abbott_naperville_marianas"
          ],
          [
           "290_story data_visual story_gift account_data health"
          ],
          [
           "875_jellies_cannabis jellies_halloween_sweets"
          ],
          [
           "834_optical sorter_sorter_optical_sorter market"
          ],
          [
           "646_globalsign_3d_zone_3d printing"
          ],
          [
           "222_ghana_password_news ghana_live radio"
          ],
          [
           "967_yooma wellness_yooma_cards_market domination"
          ],
          [
           "651_ipl_fssai_schedule 2024_cap"
          ],
          [
           "354_chocolate_gluten_milk_allergy"
          ],
          [
           "677_tylenol_tuscaloosa_suspect_1982"
          ],
          [
           "266_21052024_raadio_yle_uudised"
          ],
          [
           "303_graffiti_kapoor_khan_abhishek"
          ],
          [
           "451_wto_trade development_newsday_developing countries"
          ],
          [
           "209_organic_organic dairy_dairy_milk"
          ],
          [
           "636_toggle dropdown_dropdown_toggle_salmonella"
          ],
          [
           "629_ideas_benzinga_stocks best_penny stocks"
          ],
          [
           "122_diseases_animal_zoonotic_disease"
          ],
          [
           "760_commentary_earnings_calendars_biotech"
          ],
          [
           "355_blockchain_standards_blockchain agriculture_blockchain technology"
          ],
          [
           "427_sfa_perspectives history_babelfish_parliament perspectives"
          ],
          [
           "86_genetically_genetically modified_modified_genetic"
          ],
          [
           "779_noodls_transportation_execution scripts_blocking execution"
          ],
          [
           "289_cyprus_greek_pin_cyprus mail"
          ],
          [
           "239_xinhua_chinas_china_chinese"
          ],
          [
           "329_release_imprint_submit release_market"
          ],
          [
           "260_bristol_county dragons_dragons_buy"
          ],
          [
           "393_cebu_tmt_philstar_entertainment lifestyle"
          ],
          [
           "551_turkey_thanksgiving_leftovers_pumpkin"
          ],
          [
           "782_implementation global_biodiversity framework_global biodiversity_climate"
          ],
          [
           "662_gut_microbiome_uci_gut microbiome"
          ],
          [
           "748_crickets_insects_house crickets_grasshoppers"
          ],
          [
           "781_cnn_sign cnn_cnn account_tech calculators"
          ],
          [
           "764_altex_moah_ethylene oxide_ethylene"
          ],
          [
           "532_azerbaijan_todayaz_cooperation_baku"
          ],
          [
           "787_crispr_editing_gene editing_gene"
          ],
          [
           "561_chairs_mark_quote_arrow"
          ],
          [
           "713_formulation_cosmetics_mocra_nutricosmetics"
          ],
          [
           "617_iftf_food waste_waste_composting"
          ],
          [
           "384_hand_hand sanitizer_sanitizer_methanol"
          ],
          [
           "746_focus_beef_tillage_sheep"
          ],
          [
           "757_laois_memory lane_crime court_read latest"
          ],
          [
           "968_newswires_ein presswire_presswire_ein"
          ],
          [
           "829_asf vaccine_vaccine_asf_tmt"
          ],
          [
           "468_gophers_beat_lynx_vikings"
          ],
          [
           "418_open access_journals_ijerph_ijerph fulltext"
          ],
          [
           "435_newswires_ein presswire_presswire_ein"
          ],
          [
           "77_smoked_salmon_smoked salmon_quebec"
          ],
          [
           "803_nucleic_nucleic acid_masks_taiwan"
          ],
          [
           "375_enoki_mushrooms_enoki mushrooms_mushroom"
          ],
          [
           "907_replies_16c_invest money_pay"
          ],
          [
           "642_child labor_meatpacking_labor_meatpacking plants"
          ],
          [
           "638_funding_research innovation_scholarship_bbsrc"
          ],
          [
           "697_phnom_penh_phnom penh_penh post"
          ],
          [
           "195_pesticides_pesticide_agrifood_capitals"
          ],
          [
           "325_swine fever_fever_swine_african swine"
          ],
          [
           "942_vessel_insectbased food_food feed_insect"
          ],
          [
           "563_derby_derbyshire_buy_derby county"
          ],
          [
           "978_daddy_sniffing_robot_antennae"
          ],
          [
           "544_fox news_fox_fox nation_puzzle"
          ],
          [
           "616_supreme court_supreme_court_california"
          ],
          [
           "335_rt_cork_gaeilge_brainstorm history"
          ],
          [
           "966_herbicides_drift_crop protection_crop"
          ],
          [
           "361_cebu_philstarcom_philstar_palaro"
          ],
          [
           "274_mosquitoes_mosquito_malaria_dengue"
          ],
          [
           "330_pilot news_nigerian_password_pilot"
          ],
          [
           "359_prince harry_king charles_charles_harry"
          ],
          [
           "264_jax_news jax_action news_unavailable location"
          ],
          [
           "177_globaldata_alternatives_latest uk_latest explainer"
          ],
          [
           "725_open access_journals_mdpi_journal"
          ],
          [
           "954_wheelers_cons products_cons_delist"
          ],
          [
           "38_food additives_release_additives market_additives"
          ],
          [
           "899_syngenta_china_hungry_chinas"
          ],
          [
           "749_jiangxi_head_canteen_orange juice"
          ],
          [
           "173_toys_choking_toy_choking hazard"
          ],
          [
           "774_footwear_leaders new_new uk_uk policy"
          ],
          [
           "258_genetically modified_genetically_modified_gmo testing"
          ],
          [
           "567_offaly_iceland_irish_ireland"
          ],
          [
           "118_insight eu_insight_eu_eu environment"
          ],
          [
           "461_candy_rolling_sun_lidl"
          ],
          [
           "471_georgia_georgian_belarus_tbilisi"
          ],
          [
           "6_cheese_listeria_cheeses_listeria outbreak"
          ],
          [
           "321_salmonella_usda_poultry_chicken"
          ],
          [
           "596_mangoes_ripened_gift account_data health"
          ],
          [
           "963_erie_weather safety_text alerts_mug"
          ],
          [
           "213_pet_pet food_veterinary_global pet"
          ],
          [
           "681_devon_exeter_torquay_news devon"
          ],
          [
           "566_kilkenny_crime court_read latest_ecolive"
          ],
          [
           "819_drua_fijian drua_fijian_fiji"
          ],
          [
           "752_raising_join renew_gardening_homesteading"
          ],
          [
           "854_newswires_ein presswire_presswire_ein"
          ],
          [
           "378_lavoro_di_votre_la"
          ],
          [
           "800_bottled_water_bottled water_bh"
          ],
          [
           "467_bacteria_nanotechnology_sensor_detect"
          ],
          [
           "811_optical genome_genome mapping_mapping_genome"
          ],
          [
           "364_cowpea_nigeria_nabda_result"
          ],
          [
           "577_kildare_leinster_govuk_crime court"
          ],
          [
           "741_curd_dahi_railway_railway station"
          ],
          [
           "465_mumbai_noida_swati_swati maliwal"
          ],
          [
           "180_china_xi_chinese_communist"
          ],
          [
           "182_vietnam_hanoi_aa_vietnam news"
          ],
          [
           "340_flour_medal_listeria_general mills"
          ],
          [
           "287_africa magazine_safety africa_africa_magazine"
          ],
          [
           "849_flame_bengals_salute heroes_nati"
          ],
          [
           "600_kenya_tanzania_rest_science health"
          ],
          [
           "850_stabroek_guyana_just 27_europe think"
          ],
          [
           "96_ukraine_ukrainian_russian_russias"
          ],
          [
           "663_indicates_search markets_stylized_click perform"
          ],
          [
           "394_beverage_insurance market_beverages_beverages market"
          ],
          [
           "837_mangoceuticals_mangorx_developing marketing_marketing selling"
          ],
          [
           "707_sushi_japan_asahi_asahi shimbun"
          ],
          [
           "436_kashmir_srinagar_jammu_greater kashmir"
          ],
          [
           "309_sports esports_style money_esports entertainment_australia world"
          ],
          [
           "848_cooking oil_used cooking_oil_biodiesel"
          ],
          [
           "634_agrifood_capitals_brief_ukraine intelligence"
          ],
          [
           "592_hills_allegheny_plum_penn"
          ],
          [
           "395_temperature_food poisoning_foodborne illness_poisoning"
          ],
          [
           "547_candles_safes_laceration_burn"
          ],
          [
           "80_swine fever_swine_fever_african swine"
          ],
          [
           "640_aktien_aktie_realtimekurse_nachricht"
          ],
          [
           "913_values_monitor_christian_monitor daily"
          ],
          [
           "919_globaldata_alternatives_explainer did_dairy soy"
          ],
          [
           "447_profile_16c_virgin uber_travel podcasts"
          ],
          [
           "672_slot_gacor_slot gacor_resmi"
          ],
          [
           "505_documenti_pollution_sicurezza_ce"
          ],
          [
           "691_story tell_tell story_submit story_economics markets"
          ],
          [
           "326_salmonella_sesame seeds_sesame_elite"
          ],
          [
           "425_packaging market_food packaging_packaging_beverage packaging"
          ],
          [
           "531_eagle_berks_newspapers_reading"
          ],
          [
           "594_tuna_histamine_canned tuna_fish"
          ],
          [
           "994_military defense_markets loading_intelligence markets_loading close"
          ],
          [
           "452_global news_caffeine_light dark_energy drinks"
          ],
          [
           "671_gutkha_tobacco_gutka_masala"
          ],
          [
           "198_baby formula_formula_baby_formula shortage"
          ],
          [
           "826_halal_halal certification_vishwas_jan vishwas"
          ],
          [
           "426_ideas_benzinga_stocks best_penny stocks"
          ],
          [
           "357_sun_girl_money travel_esports entertainment"
          ],
          [
           "400_peaches_nectarines_frozen fruit_plums"
          ],
          [
           "383_kitchen_wash_cutting_wooden"
          ],
          [
           "458_onewheel_pv_battery_lg"
          ],
          [
           "506_coli_coli outbreak_wendys_lettuce"
          ],
          [
           "864_jax_news jax_action news_unavailable location"
          ],
          [
           "379_toxins_toxins fulltext_journals_open access"
          ],
          [
           "107_disorders_cancer_disease_disease dementia"
          ],
          [
           "700_taiwan_pork_taiwan news_swine"
          ],
          [
           "936_disorders_cancer_disease_disease dementia"
          ],
          [
           "832_hours ago_ago_hours_ago trump"
          ],
          [
           "959_cards_buying guides_market domination_domination"
          ],
          [
           "823_opinion podcasts_eb_bahasa_pacific china"
          ],
          [
           "619_laboratory_news views_sterilising_medical diagnostics"
          ],
          [
           "259_tesco_lidl_metal_cars homes"
          ],
          [
           "486_troublemaker_pernice_fester_giovanni"
          ],
          [
           "806_word_diseases_diseases liver_alternative health"
          ],
          [
           "660_macau_macau daily_daily times_selectors"
          ],
          [
           "229_bernama_slideshow_admin 22_mapo corporate"
          ],
          [
           "336_pest_pest control_control market_biofertilizers"
          ],
          [
           "407_evoke pharma_evoke_gimoti_quarter"
          ],
          [
           "795_sterilization_disinfection_disinfection market_beverage disinfection"
          ],
          [
           "104_hot topic_jd_custom_topic"
          ],
          [
           "276_egg_eggs_egg industry_cage"
          ],
          [
           "109_fox business_fox_factset_captioning policy"
          ],
          [
           "694_baby shark_shark_bath_shark bath"
          ],
          [
           "785_astana_kazakhstan_bishkek_24kg"
          ],
          [
           "144_japanese_fukushima_hong_japan"
          ],
          [
           "706_global news_light dark_dark_light"
          ],
          [
           "391_agence europe_agence_policy report_european"
          ],
          [
           "756_heydon_uga_food marine_minister heydon"
          ],
          [
           "593_british_sleepwalking_uk sleepwalking_food fraud"
          ],
          [
           "73_sweeteners_artificial sweeteners_artificial_sugar"
          ],
          [
           "765_brain_cerebellar_memory_granule"
          ],
          [
           "692_beds_bed_bunk_mattresses"
          ],
          [
           "344_eye_cbs_cbs news_eye drops"
          ],
          [
           "166_uae_digital printdigital_bundle epaper_printdigital"
          ],
          [
           "432_story data_visual story_gift account_data health"
          ],
          [
           "541_indigenous_scientific world_indigenous people_closer look"
          ],
          [
           "328_zimbabwe_sierra_sierra leone_leone"
          ],
          [
           "440_modern diplomacy_economist_diplomacy_diplomacy views"
          ],
          [
           "618_msnbc_trump_et_maddow"
          ],
          [
           "927_neovasc_medien_indizes_kurs news"
          ],
          [
           "491_food robotics_robotics market_robots_robotics"
          ],
          [
           "218_manage_asean business_starplus news_starplus"
          ],
          [
           "571_asian games_uni_games_states east"
          ],
          [
           "267_grain_russian_grain deal_ukraine"
          ],
          [
           "518_rappler_newsbreak_rappler talk_brandrap"
          ],
          [
           "670_ghost_junk food_food scraps_ghost kitchens"
          ],
          [
           "796_high school_college_school_disney"
          ],
          [
           "575_edt_20 2024_2024 0900am_0900am edt"
          ],
          [
           "342_lithuanian_civil protection_ukrainian_western balkans"
          ],
          [
           "615_eca_tires_olive_leads"
          ],
          [
           "386_market news_urge congressional_coalition urge_fix california"
          ],
          [
           "835_acrylamide_substance_burnt_carcinogenic"
          ],
          [
           "44_syrup_cough_baby powder_trader"
          ],
          [
           "810_labor employment_hot topic_jd_custom"
          ],
          [
           "903_walmart_cards_eedition_mutual"
          ],
          [
           "268_gift account_data health_opinion search_story data"
          ],
          [
           "480_supplements_dietary supplements_dietary_protein"
          ],
          [
           "484_safety day_world food_food safety_day"
          ],
          [
           "148_foodborne_outbreaks_foodworld_pathogens"
          ],
          [
           "745_agrifood_capitals_eu elections_capitals brief"
          ],
          [
           "151_packaging summit_sustainable packaging_packaging_navigation item"
          ],
          [
           "573_javascript required_redirected_javascript_enable javascript"
          ],
          [
           "323_xinhua_peach_chinas_xinjiang"
          ],
          [
           "324_salt_sodium_bishkek_classified education"
          ],
          [
           "603_xray_inspection_mettlertoledo_inspection equipment"
          ],
          [
           "805_ipo news_markets money_ipl 2024_ipl"
          ],
          [
           "687_monsoon_spoon_husk_hindu"
          ],
          [
           "791_benefits_health benefits_good health_nutrition"
          ],
          [
           "208_pork_pig_china_chinas"
          ],
          [
           "868_nestl_technology centre_proteins_dil"
          ],
          [
           "350_profile_mail online_daily mail_bookingcom asos"
          ],
          [
           "339_russian_russia_tass_section"
          ],
          [
           "809_federal_posted site_cfr_prototype"
          ],
          [
           "846_chains climate_involved business_procurement news_member states"
          ],
          [
           "908_poison_warns eating_food make_mites"
          ],
          [
           "569_harry_prince_prince harry_profile"
          ],
          [
           "381_gossip_digger_group plc_kenya"
          ],
          [
           "922_ctv_ash_cbc news_cbc"
          ],
          [
           "298_pizza_charms_lucky charms_lucky"
          ],
          [
           "415_lumpy_cow_lumpy skin_skin disease"
          ],
          [
           "645_antwerp_fourth place_place house_crew"
          ],
          [
           "83_eu_agence europe_agence_insight eu"
          ],
          [
           "562_trade news_dubai_abu_uae"
          ],
          [
           "302_swings_rockers_rock play_fisher"
          ],
          [
           "698_human bones_easton_brook_bones"
          ],
          [
           "886_bull_toto_minibus_nile"
          ],
          [
           "666_mla_polling_rajasthan board_20240522"
          ],
          [
           "385_hungary_hungarian_budapest_trademagazin"
          ],
          [
           "317_education going_spotlight berita_sport motoring_viral spotlight"
          ],
          [
           "295_cloud_security_vendor voice_vendor"
          ],
          [
           "682_trade africa_tourism trade_development education_commission parliament"
          ],
          [
           "539_commentary_earnings_calendars_biotech"
          ],
          [
           "737_mooncakes_mooncake_moon_midautumn"
          ],
          [
           "167_1month_paper betting_1month 1month_1month sign"
          ],
          [
           "243_capri sun_capri_kombucha_kraft"
          ],
          [
           "367_policy report_news european_european_eeas"
          ],
          [
           "516_fukushima_taiwan_japanese_japan"
          ],
          [
           "224_labgrown_meat_labgrown meat_upside"
          ],
          [
           "272_checks_lamb_postbrexit_border"
          ],
          [
           "136_agripulse_2023 2022_2022 2021_ag"
          ],
          [
           "405_taiwan_affairs crossstrait_directory taiwan_entertainment variety"
          ],
          [
           "508_serbia_agroberichten_agroberichten buitenland_buitenland"
          ],
          [
           "867_rate today_elections 2024_portfolio_businessline"
          ],
          [
           "399_iowa_sports iowa_edition account_manage account"
          ],
          [
           "316_market news_nppc_bureau lead_congressional fix"
          ],
          [
           "643_member sign_bond_got gift_time jail"
          ],
          [
           "101_maize_kenya_gmo_gmos"
          ],
          [
           "113_agence europe_agence_connection_connection fr"
          ],
          [
           "56_ground beef_ground_beef_pounds"
          ],
          [
           "497_ut_san diego_diego_ut store"
          ],
          [
           "280_european_european health_eu_eu health"
          ],
          [
           "676_law_life sciences_healthcare life_kingdom topics"
          ],
          [
           "754_dubai_dubai municipality_municipality_emirate"
          ],
          [
           "365_kerala_food poisoning_poisoning_ipl"
          ],
          [
           "767_security documents_accessories security_electronics industrial_care clothing"
          ],
          [
           "591_millets_millet_visual story_story data"
          ],
          [
           "610_sausage_kielbasa_johnsonville_bob evans"
          ],
          [
           "397_peanut_butter_peanut butter_cashews"
          ],
          [
           "196_avian_avian flu_flu_ctv"
          ],
          [
           "479_packaging_paper board_paper_paper industry"
          ],
          [
           "515_food safety_foresight_uga_safety"
          ],
          [
           "299_modi_narendra_narendra modi_gujarat"
          ],
          [
           "286_africa_tvradio elections_receive news_opinion research"
          ],
          [
           "992_intervention primary_longer term_decisive_epilepsy"
          ],
          [
           "112_benzene_shampoo_dry_dry shampoo"
          ],
          [
           "720_biological_russian_biological weapons_weapons"
          ],
          [
           "502_africa magazine_safety africa_food safety_magazine"
          ],
          [
           "223_asf_hog_hogs_raisers"
          ],
          [
           "431_expand_moths_stuffing_tesco"
          ],
          [
           "184_dishes_premade_pot_hot pot"
          ],
          [
           "928_vegnews_vegan_vip_guides health"
          ],
          [
           "778_cop15_biodiversity_warming_co2"
          ],
          [
           "714_tea_tea board_teas_indian tea"
          ],
          [
           "170_packaging_packaging market_flexible_flexible packaging"
          ],
          [
           "679_bin_bin zayed_zayed_mansour"
          ],
          [
           "658_ifc_algiers_agrofood production_agrofood"
          ],
          [
           "649_cosmos_cosmos health_univar_univar solutions"
          ],
          [
           "349_oatly_lyons_magnus_lyons magnus"
          ],
          [
           "817_trans_trans fat_fat_exposed toxic"
          ],
          [
           "612_albanese_australias_anthony albanese_prime minister"
          ],
          [
           "753_website unavailable_unavailable location_law national_technology local"
          ],
          [
           "94_nbih_ministry health_recall_yoghurt"
          ],
          [
           "889_silk_spider_synthetic_newswires"
          ],
          [
           "628_joes_trader joes_trader_informs"
          ],
          [
           "801_bloomberg_products bloomberg_bloomberg terminal_company bloomberg"
          ],
          [
           "722_oil city_readers year_casper_million readers"
          ],
          [
           "883_mongolia_billion trees_development projects_trees"
          ],
          [
           "528_insect_insects_edible insects_edible"
          ],
          [
           "793_rice_health farming_gamechangers_lifestyle beauty"
          ],
          [
           "738_labels_animal welfare_food labels_welfare"
          ],
          [
           "456_morningstar_business telegraph_quarter_pr newswire"
          ],
          [
           "590_leitrim_motion resolution_b9_resolution"
          ],
          [
           "948_ben_lao_phnom_phnom penh"
          ],
          [
           "999_brussels times_brussels_times_"
          ],
          [
           "973_danish_leaps_accelerate transition_jeanine"
          ],
          [
           "211_maize_kuria_gmo_kenya"
          ],
          [
           "421_open access_journals_mdpi_journal"
          ],
          [
           "493_rice_nasa_modified rice_fsanz"
          ],
          [
           "898_collagen_cellulose_gelatin_neonatal"
          ],
          [
           "472_cookie dough_dough_toll house_nestl"
          ],
          [
           "683_water analysis_analysis_agrolab_analysis soil"
          ],
          [
           "95_cantaloupe_cantaloupes_salmonella outbreak_salmonella"
          ],
          [
           "786_wer_sind_wir_bilder"
          ],
          [
           "923_budapest_executives_hungary_business people"
          ],
          [
           "703_amr_antimicrobial_antimicrobial resistance_resistance"
          ],
          [
           "696_buffalo_news tips_wkbw_weather alerts"
          ],
          [
           "611_joes_trader joes_trader_dumplings"
          ],
          [
           "132_commentary_earnings_calendars_biotech"
          ],
          [
           "584_cyber_insurance news_claims_reinsurance"
          ],
          [
           "626_illegally_sfa_new paper_kueh"
          ],
          [
           "519_cebu_asf_tmt_nation"
          ],
          [
           "975_toggle dropdown_dropdown_toggle_wok"
          ],
          [
           "816_eit_eit food_continue reading_food innovation"
          ],
          [
           "797_prince harry_king charles_charles_harry"
          ],
          [
           "262_open access_journals_mdpi_journal"
          ],
          [
           "924_g20_kebab_g20 countries_economic framework"
          ],
          [
           "790_dhabi_abu dhabi_abu_dhabi agriculture"
          ],
          [
           "560_buzzfeed_rnz_pacific_tasty"
          ],
          [
           "313_open access_journals_mdpi_journal"
          ],
          [
           "734_violations_cleveland_clevelandcom_food inspection"
          ],
          [
           "882_hot topic_jd_custom_topic"
          ],
          [
           "568_mustard_gm mustard_gm_environmental release"
          ],
          [
           "841_government hospital_casualties_reported watch_pixar"
          ],
          [
           "552_meet man_man used_iit_english hindi"
          ],
          [
           "855_idaho_east idaho_idaho falls_rexburg"
          ],
          [
           "661_2023 2022_2022 2021_ag_food policy"
          ],
          [
           "254_supreme peoples_peoples_procuratorate_supreme"
          ],
          [
           "282_sports esports_esports entertainment_style money_australia world"
          ],
          [
           "370_buddha_purnima_capricorn_triumphs"
          ],
          [
           "331_rwanda_new times_zanzibar_uganda"
          ],
          [
           "953_guardian_cna_banga_female students"
          ],
          [
           "542_utah_favorites saved_listings favorites_ksl"
          ],
          [
           "653_magnetic_magnetic balls_sleep_balls"
          ],
          [
           "825_edt_1000am_1000am edt_2024 1000am"
          ],
          [
           "579_open access_journals_journal_mdpi"
          ],
          [
           "788_meat_new republic_protein_meat consumption"
          ],
          [
           "574_20240522_22 2024_22_netanyahu"
          ],
          [
           "879_seahorses_guardian_snakes_toggle dropdown"
          ],
          [
           "526_marijuana_cannabis_michigan_hot topic"
          ],
          [
           "945_pheromones_pheromone_pests_plants"
          ],
          [
           "389_charger_electric shock_usb_shock"
          ],
          [
           "773_gov_biometric_search bar_gov website"
          ],
          [
           "686_darlington_middlesbrough_northern echo_level north"
          ],
          [
           "238_quarter_adjusted_fourth quarter_net"
          ],
          [
           "977_luxembourg_luxembourg times_luxembourg business_eu elections"
          ],
          [
           "91_realtimekurse_aktien_aktie_nachricht"
          ],
          [
           "444_news5_news5 investigates_news5 originals_bostoncom"
          ],
          [
           "631_slashdot_github_offtopic_dupe"
          ],
          [
           "337_cadbury_chocolate_dessert_chocolate dessert"
          ],
          [
           "820_market news_coalition urge_fix california_bureau lead"
          ],
          [
           "633_sequencing_generation sequencing_ngs_rodenticides"
          ],
          [
           "858_firstonline_hours ago_unicredit_piazza affari"
          ],
          [
           "608_biological_biolabs_russian_weapons"
          ],
          [
           "446_ultraprocessed_ultraprocessed foods_foods_adolescents"
          ],
          [
           "123_bird_bird flu_flu_birds"
          ],
          [
           "684_pangasius_shrimp_vietnam_tra"
          ],
          [
           "705_ng_na_mga_ang"
          ],
          [
           "466_open access_journals_mdpi_journal"
          ],
          [
           "460_beijing_winter_winter olympics_shanghai"
          ],
          [
           "862_hours ago_ago_hours_grenada"
          ],
          [
           "673_commentary_earnings_calendars_biotech"
          ],
          [
           "650_cultured meat_cultured_meat_plantbased"
          ],
          [
           "322_italian_italy_veg world_zootechny"
          ],
          [
           "368_flu_bird_bird flu_avian"
          ],
          [
           "932_cotton_mission produce_mission_organic cotton"
          ],
          [
           "439_onions_salmonella_diced_onion"
          ],
          [
           "715_aromatherapy_spray_aromatherapy spray_walmart"
          ],
          [
           "918_ground turkey_butterball_turkey_14000 pounds"
          ],
          [
           "158_fruit_adblocker_message_date subscriber"
          ],
          [
           "179_final_iyer_timing ist_telecast timing"
          ],
          [
           "869_biscuits_oreo_crackers_oreo biscuits"
          ],
          [
           "22_fruit_adblocker_message_subscriber receiving"
          ],
          [
           "341_convertible currencies_convertible_philippine_bsp"
          ],
          [
           "910_2024 20240521_20240521_anno_1800"
          ],
          [
           "485_fruit_adblocker_time visiting_receiving popup"
          ],
          [
           "917_meet man_man used_iit_english hindi"
          ],
          [
           "944_primary time_ministry business_defeated_ladiess"
          ],
          [
           "490_salmonella_ctv_kernel corn_ctv news"
          ],
          [
           "742_rabat_navy_bariz_armed forces"
          ],
          [
           "536_fruit_adblocker_message_global fresh"
          ],
          [
           "675_weight_sun_pills_weight loss"
          ],
          [
           "719_bss_new age_power energy_apa"
          ],
          [
           "586_admin 21_admin_starfield_21 2024"
          ],
          [
           "587_pelvic_endovascular_study examines_informa"
          ],
          [
           "931_eipagri_eu cap_cap network_research needs"
          ],
          [
           "900_word_cryptocurrencies_indicates_word markets"
          ],
          [
           "747_plasma_gloves_cold plasma_plasma market"
          ],
          [
           "380_market news_agribusiness news_fix california_urge congressional"
          ],
          [
           "926_law_europe topics_firm_clients"
          ],
          [
           "345_cnn_sign cnn_cnn account_food sleep"
          ],
          [
           "885_cancun_coma_exhibition_architecture"
          ],
          [
           "419_iceland_tesco_whats_expand"
          ],
          [
           "203_il_delle_mondo_politica"
          ],
          [
           "732_fda_human foods_foods program_califf"
          ],
          [
           "762_catheter_catheter precision_vivo_rheumatoid"
          ],
          [
           "828_georgia_azerbaijan_azrbaycanca_armenia"
          ],
          [
           "412_wheat_bioceres_gmo wheat_gmo"
          ],
          [
           "602_daily harvest_harvest_crumbles_lentil"
          ],
          [
           "356_fabuloso_pinesol_bacteria_clorox"
          ],
          [
           "581_campylobacter_resistance_sequencing_salmonella campylobacter"
          ],
          [
           "780_lizard_mumbai_noida_delhi"
          ],
          [
           "377_bird_bird flu_flu_birds"
          ],
          [
           "853_womens voices_transport womens_screen music_eedition education"
          ],
          [
           "463_huffpost_voices_pyramid scheme_pyramid"
          ],
          [
           "934_coffee_decaffeinated_decaffeinated coffee_coffee market"
          ],
          [
           "656_prince harry_king charles_charles_harry"
          ],
          [
           "659_aktien_aktie_nachricht_der"
          ],
          [
           "639_carolina_school football_cam_sports big"
          ],
          [
           "769_final_iyer_timing ist_telecast timing"
          ],
          [
           "815_coffee_drinking coffee_drinking_caffeine"
          ],
          [
           "279_cheese_kirkhams_mrs kirkhams_lancashire"
          ],
          [
           "902_binh_quang_giang_ninh"
          ],
          [
           "576_fitbit_ionic_smartwatches_burn"
          ],
          [
           "766_esg_esg news_weeks ago_news february"
          ],
          [
           "777_sasa_eastern_counties_star"
          ],
          [
           "373_marketers_fuel_petroleum_petrol"
          ],
          [
           "909_newswires_lateral flow_ein presswire_presswire"
          ],
          [
           "81_eye_eye drops_drops_eyedrops"
          ],
          [
           "943_denmark_danish_news country_gastronomy"
          ],
          [
           "888_zomato_haccp_food fortification_anemia"
          ],
          [
           "65_pfa_psl_news psl_pakistan"
          ],
          [
           "307_ice cream_cream_ice_big olaf"
          ],
          [
           "570_ruto_kenya_raila_william"
          ],
          [
           "812_newsbulletins_nlr_biometrics_publish"
          ],
          [
           "802_bumble bee_bumble_pedigree dog_pieces fda"
          ],
          [
           "989_word_cryptocurrencies_indicates_word markets"
          ],
          [
           "527_starbucks_frappuccino_mugs_vanilla"
          ],
          [
           "160_abbott_formula_baby formula_infant formula"
          ],
          [
           "644_negros_tmt_negros occidental_occidental"
          ],
          [
           "545_rahul_hyderabad clash_vs sunrisers_riders vs"
          ],
          [
           "799_ctv_ctv news_vancouver_news ctv"
          ],
          [
           "718_urine_bacteria_multidrugresistant_supermarket meat"
          ],
          [
           "761_breastfeeding_formula milk_breast milk_mothers"
          ],
          [
           "836_recycle_gear_green economy_waste collection"
          ],
          [
           "372_ctv news_ctv_search ctvnewsca_ctvnewsca search"
          ],
          [
           "708_shook_hardy_hot topic_jd"
          ],
          [
           "847_penang_classified education_sport motoring_viral spotlight"
          ],
          [
           "982_macrophages_lanzhou_orcid_alveolar"
          ],
          [
           "227_chicken_nuggets_tyson_pounds"
          ],
          [
           "99_flu_bird flu_bird_avian"
          ],
          [
           "695_pei_potato_wart_potato wart"
          ],
          [
           "743_soil_grassland_breeding genetics_crops"
          ],
          [
           "831_22 2024_chico_22_draghi"
          ],
          [
           "553_japanese encephalitis_encephalitis_foot mouth_mouth disease"
          ],
          [
           "305_dates_food waste_waste_best dates"
          ],
          [
           "601_eggs_salmonella_ica_sweden"
          ],
          [
           "512_vitamin_supplements_deficiency_folic acid"
          ],
          [
           "48_realtimekurse_aktien_aktie_nachricht"
          ],
          [
           "674_kr_korea_nk_dprk"
          ],
          [
           "842_3d_3dprinted_cheesecake_printing"
          ],
          [
           "937_iyer_shreyas iyer_shreyas_kkr"
          ],
          [
           "890_dot com_dot_com_agencies"
          ],
          [
           "413_ctv_ctv news_w5_ctv national"
          ],
          [
           "881_aerofarms_indoor vertical_indoor_vertical farming"
          ],
          [
           "960_allegro_allegro microsystems_microsystems_crocus"
          ],
          [
           "852_cooking spray_71 million_balloon_fireball"
          ],
          [
           "949_stuff stuff_stuff__"
          ],
          [
           "976_edt_odds_matchups_pga"
          ],
          [
           "814_stuff stuff_stuff__"
          ],
          [
           "14_formula_baby formula_shortage_baby"
          ],
          [
           "843_realtimekurse_jones sustainability_aktien_aktie"
          ],
          [
           "120_adblocker_cultivation_time visiting_daily stay"
          ],
          [
           "838_iyer_srh_shreyas iyer_shreyas"
          ],
          [
           "813_prunes_water_sparkling water_hydration"
          ],
          [
           "124_virus_fever virus_journals_open access"
          ],
          [
           "964_malaysia_page link_ago_link page"
          ],
          [
           "794_agricultural policy_agricultural_common agricultural_agrifood"
          ],
          [
           "225_iyer_srh_shreyas iyer_shreyas"
          ],
          [
           "857_iphone_apple_ipad_windows"
          ],
          [
           "950_site archive_archive 2024_podcasts photo_news multimedia"
          ],
          [
           "607_biggest_stocks biggest_stocks_companies biggest"
          ],
          [
           "821_foxconn_apple_probation_dorms"
          ],
          [
           "733_starbucks_coffee_expired_expired ingredients"
          ],
          [
           "589_cocacola_sprite_minute maid_maid"
          ],
          [
           "277_aktien_realtimekurse_aktie_nachricht"
          ],
          [
           "952_arteries_toxic metals_clogged arteries_clogged"
          ],
          [
           "840_strauss_elite_salmonella_chocolate"
          ],
          [
           "448_iyer_srh_shreyas iyer_shreyas"
          ],
          [
           "784_mince_mince pies_pies_metal"
          ],
          [
           "929_univar solutions_univar_medien_indizes"
          ],
          [
           "893_fishing_iuu_iuu fishing_illegal unreported"
          ],
          [
           "423_fox 12_oregon_hunger project_city remix"
          ],
          [
           "807_chocolate_chocolates_kinder_ferrero"
          ],
          [
           "578_subscribers_paris_leaders international_intimacy"
          ],
          [
           "498_server_overloaded_timed_524"
          ],
          [
           "504_kobayashi_kobayashi pharmaceutical_supplements_japanese"
          ],
          [
           "930_zone_hydrogen_gases_buyers guide"
          ],
          [
           "946_bayer_supreme court_weedkiller suits_suits"
          ],
          [
           "987_och_pc_mina_macos"
          ],
          [
           "951_bord_bord bia_bia_beef"
          ],
          [
           "783_yearbook_news magazine_databases_edizioni"
          ],
          [
           "912_birmingham_tornado_shot_shot death"
          ],
          [
           "623_meat loaf_loaf_patterson_erin patterson"
          ],
          [
           "735_admin 21_admin_d1softballnews_health admin"
          ],
          [
           "535_pork_korea_yonhap_swine"
          ],
          [
           "776_tmt_weather classifieds_tv tmt_tmt tv"
          ],
          [
           "424_asf_cebu_pork_superbalita"
          ],
          [
           "548_inflation_gvh_prices_basket"
          ],
          [
           "250_farmers_protests_tractors_protest"
          ],
          [
           "500_swine fever_swine_fever_african swine"
          ],
          [
           "366_adblocker_site getting_message enable_date subscriber"
          ],
          [
           "108_pigs_african swine_swine_swine fever"
          ],
          [
           "730_iyer_srh_kkr_shreyas iyer"
          ],
          [
           "771_upsc_indian railways_trains_railways"
          ],
          [
           "991_disorders_iron_alzheimers_brain"
          ],
          [
           "668_admin 21_admin_21 2024_business admin"
          ],
          [
           "860_iyer_srh_shreyas iyer_shreyas"
          ],
          [
           "740_fox_fox news_atlanta_news fox"
          ],
          [
           "744_commentary_earnings_calendars_biotech"
          ],
          [
           "996_recall started_vodka_newswires_imminent"
          ],
          [
           "958_high tide_transportation_auto transportation_news releases"
          ],
          [
           "605_family dollar_dollar_infestation_rodent infestation"
          ],
          [
           "664_peloton_bikes_exercise bikes_million exercise"
          ],
          [
           "822_liberia_finance investment_special feature_ecowas"
          ],
          [
           "969_edt_0900am_2024 0900am_0900am edt"
          ],
          [
           "509_expand_cardiff_swansea_rugby football"
          ],
          [
           "993_cards best_credit_credit cards_cards"
          ],
          [
           "866_mushroom_mushrooms_mushroom poisoning_abc"
          ],
          [
           "392_heritage_heritage foundation_spending_budget spending"
          ],
          [
           "798_federal_federal council_federal department_switzerland"
          ],
          [
           "595_family dollar_dollar_dollar recalls_toothpaste"
          ],
          [
           "957_postgraduate_quantum_stem education_programmes"
          ],
          [
           "896_deals_global travel_destination_florida hawaii"
          ],
          [
           "808_eggs_salmonella_eggs recalled_egg"
          ],
          [
           "925_representation_causes cancer_cancer_choose"
          ],
          [
           "724_morrisons_asda_morrisons asda_recall cheese"
          ],
          [
           "865_iphone_iphone 12_apple_iphone users"
          ],
          [
           "654_salman rushdie_rushdie_interfaith_opinion travel"
          ],
          [
           "583_rt_kinder_easter_eggs"
          ],
          [
           "241_kinder_chocolate_ferrero_salmonella"
          ],
          [
           "652_open access_mdpi_journals_journal"
          ],
          [
           "971_vs sunrisers_vs_kkr_hyderabad clash"
          ],
          [
           "147_peanut butter_peanut_butter_jif"
          ],
          [
           "257_kinder_kinder surprise_ferrero_kinder products"
          ],
          [
           "759_buitoni_pizzas_nestl_buitoni brand"
          ],
          [
           "874_web application_javascript use_refresh_enable javascript"
          ],
          [
           "709_billion meals_meals_mohammed bin_mohammed"
          ],
          [
           "915_beloved pets_rescued_stayed_volunteers"
          ],
          [
           "263_fukushima_japan_wastewater_nuclear"
          ],
          [
           "873_uae_00_dubai_00 00"
          ],
          [
           "871_washing machines_washing_samsung_machines"
          ],
          [
           "474_21052024_turkish_0105_bulgarian"
          ],
          [
           "728_chip challenge_chip_challenge_teens death"
          ],
          [
           "711_france_residency_visas_people interviews"
          ],
          [
           "712_democratic party_democratic_officers near_closed employees"
          ],
          [
           "887_fox business_fox_factset_captioning policy"
          ],
          [
           "487_ferrero_kinder_arlon_factory"
          ],
          [
           "895_auction_charity auction_plate_billion meals"
          ],
          [
           "905_admin 22_admin_admin 21_cassel"
          ],
          [
           "904_poppy_poppy seeds_seeds_blue poppy"
          ],
          [
           "572_study centre_world champs_champs_editorial supplements"
          ],
          [
           "980_zantac_drug zantac_heartburn drug_heartburn"
          ],
          [
           "417_realtimekurse_aktien_aktie_nachricht"
          ],
          [
           "792_calmaine_egg producer_calmaine foods_flu chickens"
          ],
          [
           "768_pharma_drugmakers_ipl_india"
          ],
          [
           "549_voice nigeria_prev_nigeria_lg"
          ],
          [
           "613_vaccine_vietnam_fever vaccine_african swine"
          ],
          [
           "717_dark chocolate_gummies_dark_chocolate"
          ],
          [
           "870_mumbai_noida_sabha election_bomb"
          ],
          [
           "956_talk radio_ottawas_580_talk"
          ],
          [
           "941_tillage_focus_beef_sheep"
          ],
          [
           "981_final_kkr_updates today_final watch"
          ],
          [
           "736_barry callebaut_callebaut_barry_chocolate"
          ],
          [
           "824_lrf_prices domestic_stud_domestic pork"
          ],
          [
           "750_robitussin_cough_honey_robitussin cough"
          ],
          [
           "933_phathom_phathom pharmaceuticals_voquezna_vonoprazan"
          ],
          [
           "621_skittles_titanium dioxide_titanium_dioxide"
          ],
          [
           "789_nitrites_nitrates_anses_charcuterie"
          ],
          [
           "699_indiana_indy_multicultural_zone"
          ],
          [
           "856_cups_bottles_lead poisoning_sippy"
          ],
          [
           "911_pufferfish_taste_asahi shimbun_shimbun"
          ],
          [
           "894_haitian_soy sauce_sauce_soy"
          ],
          [
           "965_20240522_apolymeni_antonis_theater"
          ],
          [
           "914_seminars_peru_chile_mexico"
          ],
          [
           "906_cbs_chicago_target recalls_recalls 22"
          ],
          [
           "529_kobayashi_red yeast_yeast rice_drugmaker"
          ],
          [
           "844_nitrosamines_compounds_efsa_nitrosamines food"
          ],
          [
           "685_aspartame_sweetener_coke_diet coke"
          ],
          [
           "861_mars_magnum_mars wrigley_wrigley"
          ],
          [
           "731_job_job job_sign create_salary"
          ],
          [
           "979_asf_dr_assange_war terror"
          ],
          [
           "947_granola_fox 12_news5_catalina"
          ],
          [
           "985_military defense_indicates_story health_food health"
          ],
          [
           "986_diet coke_coke_cancer treatments_cancer"
          ],
          [
           "938_roundworm_womans_brain_python"
          ],
          [
           "775_plantbased_fulfillment_onestop shop_vegan"
          ],
          [
           "891_scitech culture_opinions scitech_americas africa_documentary"
          ],
          [
           "839_yeti_coolers_spokesmanreview_spokane"
          ],
          [
           "972_norvasc_edo_tablets_5mg"
          ],
          [
           "892_sultry_boat_turnout_dam"
          ],
          [
           "998_stuff___"
          ],
          [
           "961_eagle_berks_newspapers_montgomery county"
          ],
          [
           "228_aspartame_sweetener_carcinogenic_possibly carcinogenic"
          ],
          [
           "872_aspartame_cards best_rt_credit"
          ],
          [
           "995_silvio_berlusconis_gaffes_quotes"
          ],
          [
           "997_jax_news jax_action news_unavailable location"
          ],
          [
           "962_jax_news jax_action news_unavailable location"
          ],
          [
           "939_companies products_services software_products services_activated carbon"
          ],
          [
           "284_quaker_granola_quaker oats_oats"
          ],
          [
           "984_supplement_cholesterol_26 hospitalized_hospitalized"
          ]
         ],
         "hovertemplate": "Count=%{x}<br>dov=%{y}<br>Name=%{customdata[0]}<extra></extra>",
         "legendgroup": "",
         "marker": {
          "color": "#636efa",
          "symbol": "circle"
         },
         "mode": "markers",
         "name": "",
         "orientation": "v",
         "showlegend": false,
         "type": "scatter",
         "x": [
          217,
          464,
          254,
          262,
          77,
          316,
          86,
          108,
          262,
          62,
          237,
          351,
          169,
          115,
          244,
          287,
          263,
          155,
          218,
          394,
          188,
          308,
          421,
          297,
          187,
          311,
          304,
          141,
          225,
          24,
          319,
          202,
          290,
          537,
          109,
          332,
          189,
          153,
          400,
          170,
          74,
          242,
          243,
          213,
          43,
          82,
          166,
          210,
          41,
          248,
          100,
          118,
          230,
          227,
          231,
          129,
          110,
          116,
          22,
          264,
          245,
          52,
          127,
          288,
          141,
          55,
          137,
          202,
          162,
          109,
          148,
          158,
          233,
          148,
          228,
          163,
          275,
          283,
          214,
          256,
          219,
          105,
          349,
          93,
          171,
          116,
          82,
          167,
          138,
          179,
          273,
          147,
          179,
          190,
          259,
          199,
          17,
          110,
          105,
          216,
          188,
          180,
          10,
          116,
          176,
          215,
          72,
          122,
          157,
          78,
          40,
          77,
          177,
          21,
          121,
          255,
          86,
          124,
          158,
          71,
          194,
          77,
          135,
          83,
          27,
          61,
          100,
          132,
          130,
          226,
          86,
          151,
          234,
          74,
          297,
          242,
          128,
          133,
          148,
          129,
          168,
          148,
          252,
          154,
          222,
          75,
          87,
          344,
          162,
          69,
          135,
          252,
          195,
          292,
          228,
          62,
          236,
          49,
          216,
          151,
          156,
          172,
          175,
          275,
          160,
          174,
          45,
          45,
          120,
          204,
          129,
          220,
          68,
          86,
          137,
          43,
          198,
          90,
          111,
          66,
          131,
          248,
          143,
          53,
          105,
          105,
          69,
          34,
          232,
          173,
          167,
          120,
          170,
          283,
          21,
          66,
          284,
          68,
          110,
          72,
          169,
          64,
          142,
          72,
          170,
          66,
          102,
          132,
          136,
          67,
          57,
          187,
          160,
          70,
          82,
          91,
          141,
          116,
          443,
          142,
          63,
          231,
          69,
          143,
          81,
          137,
          151,
          132,
          38,
          85,
          89,
          83,
          214,
          229,
          127,
          16,
          70,
          101,
          74,
          86,
          327,
          73,
          185,
          111,
          151,
          81,
          121,
          203,
          108,
          42,
          146,
          162,
          49,
          73,
          148,
          127,
          101,
          37,
          107,
          50,
          177,
          53,
          39,
          65,
          19,
          16,
          96,
          65,
          168,
          7,
          88,
          54,
          52,
          122,
          52,
          79,
          95,
          272,
          47,
          71,
          98,
          72,
          99,
          250,
          69,
          87,
          111,
          55,
          20,
          14,
          76,
          78,
          57,
          166,
          115,
          131,
          74,
          135,
          130,
          61,
          98,
          109,
          130,
          57,
          159,
          69,
          216,
          6,
          208,
          43,
          89,
          53,
          19,
          23,
          68,
          71,
          51,
          276,
          70,
          45,
          85,
          42,
          94,
          52,
          141,
          39,
          83,
          29,
          24,
          128,
          81,
          62,
          160,
          34,
          128,
          125,
          122,
          6,
          42,
          78,
          84,
          119,
          148,
          72,
          28,
          138,
          158,
          62,
          164,
          69,
          129,
          190,
          53,
          63,
          34,
          55,
          126,
          82,
          43,
          13,
          68,
          21,
          78,
          103,
          41,
          166,
          108,
          81,
          55,
          100,
          78,
          84,
          27,
          111,
          96,
          9,
          116,
          170,
          48,
          98,
          126,
          198,
          165,
          75,
          35,
          229,
          90,
          36,
          25,
          56,
          126,
          67,
          73,
          30,
          54,
          88,
          38,
          46,
          66,
          8,
          46,
          51,
          35,
          116,
          22,
          27,
          50,
          135,
          9,
          48,
          100,
          45,
          124,
          111,
          78,
          139,
          51,
          52,
          184,
          35,
          100,
          83,
          214,
          33,
          116,
          130,
          106,
          125,
          89,
          64,
          33,
          46,
          36,
          33,
          34,
          67,
          31,
          61,
          41,
          53,
          92,
          36,
          35,
          9,
          27,
          76,
          85,
          82,
          217,
          30,
          94,
          18,
          50,
          51,
          43,
          147,
          107,
          13,
          61,
          8,
          65,
          53,
          105,
          9,
          98,
          121,
          106,
          98,
          124,
          155,
          39,
          11,
          256,
          19,
          36,
          158,
          33,
          125,
          61,
          187,
          77,
          75,
          360,
          108,
          55,
          9,
          138,
          44,
          61,
          29,
          36,
          24,
          94,
          30,
          76,
          29,
          97,
          58,
          37,
          76,
          154,
          152,
          104,
          117,
          24,
          55,
          24,
          202,
          46,
          89,
          27,
          42,
          82,
          110,
          24,
          51,
          56,
          89,
          65,
          216,
          50,
          18,
          16,
          80,
          45,
          70,
          43,
          107,
          83,
          67,
          55,
          4,
          78,
          45,
          143,
          28,
          83,
          99,
          88,
          93,
          78,
          70,
          23,
          94,
          191,
          42,
          13,
          27,
          10,
          28,
          53,
          125,
          73,
          29,
          47,
          133,
          105,
          86,
          30,
          195,
          120,
          190,
          43,
          32,
          169,
          42,
          90,
          35,
          56,
          219,
          34,
          43,
          102,
          159,
          82,
          65,
          106,
          81,
          53,
          15,
          72,
          135,
          60,
          123,
          69,
          45,
          30,
          59,
          103,
          53,
          91,
          27,
          252,
          29,
          19,
          122,
          74,
          73,
          167,
          36,
          166,
          60,
          107,
          107,
          55,
          30,
          44,
          31,
          139,
          22,
          101,
          104,
          29,
          25,
          18,
          60,
          93,
          16,
          114,
          85,
          50,
          215,
          61,
          111,
          42,
          20,
          46,
          92,
          108,
          115,
          44,
          66,
          37,
          159,
          129,
          97,
          69,
          134,
          121,
          172,
          87,
          70,
          22,
          89,
          109,
          50,
          198,
          189,
          235,
          71,
          120,
          45,
          36,
          97,
          34,
          56,
          54,
          89,
          146,
          74,
          69,
          112,
          118,
          5,
          190,
          40,
          71,
          134,
          82,
          151,
          14,
          33,
          41,
          158,
          45,
          47,
          49,
          101,
          29,
          54,
          36,
          203,
          20,
          52,
          30,
          39,
          21,
          67,
          31,
          37,
          78,
          56,
          12,
          1,
          8,
          138,
          84,
          72,
          19,
          75,
          44,
          203,
          31,
          15,
          42,
          43,
          54,
          174,
          57,
          52,
          69,
          8,
          29,
          30,
          125,
          15,
          31,
          62,
          109,
          37,
          21,
          60,
          26,
          63,
          24,
          47,
          126,
          120,
          96,
          105,
          11,
          65,
          48,
          28,
          58,
          31,
          60,
          21,
          67,
          12,
          90,
          34,
          44,
          130,
          8,
          204,
          81,
          52,
          105,
          28,
          51,
          24,
          54,
          80,
          182,
          44,
          42,
          76,
          77,
          23,
          45,
          48,
          108,
          97,
          14,
          82,
          41,
          17,
          163,
          154,
          22,
          289,
          104,
          18,
          73,
          17,
          12,
          72,
          36,
          66,
          45,
          40,
          56,
          56,
          14,
          19,
          36,
          94,
          15,
          102,
          20,
          85,
          142,
          38,
          35,
          28,
          86,
          55,
          100,
          57,
          33,
          94,
          24,
          77,
          14,
          48,
          47,
          51,
          34,
          29,
          120,
          19,
          59,
          34,
          33,
          95,
          18,
          216,
          13,
          20,
          229,
          110,
          60,
          29,
          30,
          6,
          67,
          162,
          50,
          65,
          30,
          40,
          35,
          27,
          96,
          42,
          25,
          7,
          133,
          201,
          43,
          36,
          27,
          63,
          111,
          55,
          69,
          246,
          45,
          26,
          13,
          19,
          86,
          21,
          10,
          24,
          12,
          8,
          29,
          314,
          25,
          186,
          26,
          29,
          182,
          9,
          30,
          134,
          24,
          12,
          54,
          28,
          38,
          56,
          120,
          11,
          26,
          79,
          32,
          14,
          19,
          83,
          29,
          58,
          71,
          70,
          14,
          12,
          6,
          11,
          32,
          18,
          53,
          37,
          66,
          33,
          83,
          65,
          127,
          71,
          97,
          191,
          38,
          34,
          6,
          46,
          24,
          37,
          36,
          3,
          10,
          55,
          46,
          28,
          9,
          70,
          5,
          23,
          89,
          30,
          55,
          10,
          19,
          29,
          15,
          39,
          23,
          48,
          57,
          129,
          48,
          8,
          168,
          125,
          35,
          22,
          41,
          17,
          125,
          22,
          22,
          74,
          38,
          41,
          41,
          20,
          73,
          19,
          19,
          19,
          60,
          7,
          85,
          31,
          34,
          65,
          54,
          40,
          22,
          10,
          13,
          7,
          37,
          28,
          36,
          14,
          53,
          31,
          42,
          24,
          18,
          19,
          9,
          17,
          18,
          67,
          25,
          44,
          23,
          38,
          7,
          12,
          6,
          6,
          13,
          33,
          19,
          26,
          8,
          19,
          1,
          10,
          133,
          22,
          4,
          2,
          10,
          13,
          118,
          6
         ],
         "xaxis": "x",
         "y": [
          1.7306554327742982,
          3.9192382351260084,
          2.1778873441594557,
          3.752151296836059,
          0.7492352645657845,
          2.595524185096075,
          0.7488440768863556,
          1.2157560879093554,
          2.3734549941623313,
          1.336105479542171,
          2.1740924915492843,
          3.8730233201130058,
          1.3651422433497784,
          1.0317975488751328,
          2.3449639484206615,
          2.9616824490696247,
          2.678782771631914,
          1.3940386370247873,
          1.7503291545495738,
          3.858812824345455,
          1.9406060710975173,
          3.2692595822721064,
          4.333566179929223,
          2.8805810963552725,
          1.6351700145687524,
          2.812934817415639,
          3.0458715175968423,
          1.2306221228890404,
          2.2113699708140455,
          0.5413594774085578,
          2.9600350492377756,
          3.912233952732171,
          3.0167435420812625,
          4.8671085065375985,
          1.0200536556023563,
          3.268835115122542,
          1.726921833993769,
          1.5526489364036715,
          4.225498933288822,
          1.5863990172638684,
          0.9164961185171866,
          1.872041467602972,
          2.3424320171728232,
          2.0177365261457805,
          0.660252837590559,
          0.870108001930383,
          1.552546769009118,
          1.6245733755798686,
          0.9872429125946419,
          2.4161520646453134,
          1.0311583447136485,
          1.0891265875788485,
          1.855764085578748,
          2.0862655966312738,
          1.6840938781762762,
          1.4787715684448808,
          1.047918540415862,
          0.9914278820768623,
          0.9019212907134923,
          2.687136153783178,
          2.366136646295835,
          0.8041516795926863,
          1.2117947415170227,
          2.727481323035084,
          1.435068664773457,
          0.7098734574791983,
          1.3085192313599352,
          1.8647949612394341,
          1.5325846699265644,
          1.1521746227734495,
          1.4934329358692988,
          1.4904408638984745,
          2.1453822261112303,
          1.4202886046778902,
          1.7571936320650359,
          1.5352524769511902,
          2.6523984660480133,
          2.9309582382667525,
          1.7729613859781854,
          1.3341081338494274,
          1.725416406179595,
          0.9918640376591598,
          3.656290796312758,
          0.9577769837376428,
          1.9020744498177768,
          1.197404554395681,
          1.128493878653437,
          1.4792790413428734,
          1.4221622208460103,
          1.5093220882325395,
          2.569676029122128,
          1.429954519845524,
          1.845734501052143,
          1.9160838278351409,
          2.4339604751857133,
          2.053456914678607,
          1.7893663702658364,
          1.1297116065316932,
          0.9977031796442983,
          1.9802252055610894,
          1.307042572508143,
          1.7913631407802375,
          0.5466910816370271,
          1.2767366134164069,
          1.7387192774998206,
          1.8469948893567247,
          0.8340835934392388,
          1.4752666351039965,
          1.443265852570374,
          0.8213343265845423,
          1.4372287750710337,
          0.780796141542426,
          1.6598776728810771,
          0.8201334882062395,
          1.1764127630512793,
          2.614304837101336,
          0.7762130389674851,
          1.130752719370331,
          1.4106230949196128,
          1.0493206889080495,
          2.0414442733708316,
          0.7981691713858996,
          1.2142768643258859,
          0.885549357270808,
          0.9095784091411764,
          0.7764026480240883,
          1.138433632942113,
          1.217198970487954,
          1.3218313071852126,
          2.1151560145976602,
          0.8070670383138535,
          1.4002914696824267,
          2.118781744193684,
          0.7808406978252893,
          3.0085533250974934,
          2.4902547209267603,
          1.4302691241730165,
          1.5062626292662016,
          1.5001336886606425,
          1.2300841622014518,
          1.5623292617610596,
          1.4828294971277831,
          2.49701068221956,
          1.2426827571607362,
          1.7343024524656376,
          0.8168561941576665,
          0.8559287747263402,
          2.6270453280084487,
          1.8092418803760362,
          0.8420591875009428,
          1.3076532613006364,
          1.4093408811350279,
          1.6898085516371806,
          2.381274919044384,
          2.137674451894325,
          0.721806977024609,
          2.008714713411523,
          0.7157434609543537,
          2.195151610162148,
          1.3455304086663658,
          1.5231296477001832,
          1.6887139571776817,
          1.5521926326191324,
          2.504790908785069,
          1.0737617174866527,
          1.5671866460376678,
          0.5791368863753658,
          0.6352589156627697,
          1.2277969967869216,
          2.15021301131745,
          1.3674862255266549,
          2.261712109356018,
          0.7982325390625779,
          0.8332694187184744,
          1.3848086595264573,
          0.7078073858672723,
          1.8536780618195963,
          1.0239735463502755,
          1.160222197170123,
          0.7039319503212121,
          1.2612852868124098,
          2.2883448709942984,
          1.498006594579585,
          0.7081335963201414,
          1.0542714149334478,
          1.0483919366026901,
          1.0049821915637065,
          0.5890313733812348,
          2.125258470734823,
          1.758083438995359,
          1.6567010380893525,
          1.2190238601031427,
          1.7367619592771881,
          2.641596313154868,
          1.9272365174094104,
          0.6705791416093383,
          2.575516519757967,
          1.0119557223515772,
          1.0680901921615231,
          0.5663733022662155,
          1.7466293371750374,
          0.7409838645166688,
          1.4232496340718146,
          0.8447200725758622,
          1.4966890269592326,
          0.9655246667312419,
          0.9644319049318067,
          1.344756235520974,
          1.191005270528003,
          0.6519634041148762,
          0.7256957436863407,
          1.6842860864628835,
          1.3816905042721659,
          0.780928874626675,
          0.7803120431231003,
          0.9326022075157333,
          1.4808691862193484,
          1.2052119331843754,
          4.329328213797808,
          1.4590431044095646,
          0.6888451211382108,
          2.227749290863505,
          0.7364096878624723,
          1.1930754743153813,
          0.8315116778890168,
          1.2658132380117282,
          1.474869032773798,
          1.5064901011849388,
          0.613665522355947,
          1.0530392810868217,
          0.8461365494196866,
          0.8632180402987267,
          1.9312817289430328,
          1.5148605251934844,
          1.3112848101458876,
          0.7835242899742855,
          0.7081305505062291,
          1.0053740970770315,
          0.7661285006718942,
          0.9416196465001845,
          2.3329986452386953,
          0.8076771082892567,
          1.6380906368029364,
          1.0777577096743935,
          1.2928905813537184,
          0.8849032999344125,
          1.0903827174379974,
          2.105864843075331,
          1.193135225015064,
          0.5602979948333022,
          1.506501362165673,
          1.5550573153193779,
          0.6666009454868296,
          0.763421692034881,
          0.9586877385792026,
          1.3427868599041823,
          0.9833736534393435,
          0.7317629507454817,
          1.183144533380386,
          0.6234937121880654,
          1.7225160092399203,
          0.6663573669411236,
          0.5865457792215649,
          0.7029187380418683,
          0.6166790698107394,
          0.39981294995648514,
          1.1133761759012175,
          0.7802928287612929,
          1.5058170906924704,
          0.48295816151670123,
          0.9384222542815664,
          0.6103271983365656,
          0.6528643028241601,
          1.3794200659155997,
          0.5685057999178521,
          0.8729068696379878,
          1.1595171003865241,
          2.677099711309114,
          0.6802077133177536,
          0.7388525461048664,
          0.9399853322421284,
          0.7888953835825396,
          0.9487321832590747,
          2.6444888712446133,
          0.7935661101014799,
          0.8877864898994909,
          1.0685784903389615,
          0.6197119781915407,
          0.4873568448434925,
          0.4944150705168981,
          0.8825904605844513,
          0.731004407374588,
          0.6987034992161903,
          1.6766185312112916,
          0.9972728671592928,
          1.086297296555752,
          0.7360562751602783,
          1.403097265898864,
          1.4035512705686486,
          0.6750204667410334,
          0.9991042228043355,
          1.1267400301773018,
          1.283970121398134,
          0.79938898000403,
          1.40077126653612,
          0.7437003411233115,
          1.9743833246506797,
          0.92729593969653,
          2.044239086607282,
          0.6932076162218176,
          1.0925150343395205,
          0.8907276679942872,
          0.5761698764042534,
          0.5376532667863618,
          0.865653895666808,
          0.8251220937173721,
          0.7763601662626879,
          1.2257526162310382,
          0.8823225103807758,
          0.6532913714246484,
          0.97603557228369,
          0.5461160789665077,
          0.9651860005500845,
          0.6715838355683995,
          1.4347319116715354,
          0.5390117349088557,
          0.8990487433637061,
          0.6096210845642482,
          0.49921046101836697,
          1.2651075826143603,
          0.7699645870717484,
          0.7122718502756297,
          1.5798303038748918,
          0.44741336947319427,
          1.144561088242039,
          1.3306129746380102,
          1.175698156930398,
          0.44496204564451713,
          0.566801193957525,
          0.7910813775183965,
          0.8831603845562304,
          1.1089297659733204,
          1.512263839467474,
          0.8192782423020087,
          0.6268815336135969,
          1.2010018089067511,
          1.5244998177542197,
          0.8247577268336203,
          1.6931934109531304,
          0.7472832229070995,
          1.3434261458784138,
          1.7142079200329703,
          0.656244181011253,
          0.6842822353753392,
          0.47492461230501726,
          0.6174450649536953,
          1.1305782134835516,
          0.8558044990877746,
          0.6169520269118018,
          0.4526945991242717,
          0.7094510023759035,
          0.4682241479890502,
          0.8236341022960413,
          1.056641999632927,
          0.5899881894664727,
          1.5193981623296016,
          1.1183455727775615,
          0.9153918473789706,
          0.5850983560701781,
          1.4964309228136132,
          0.8445182804462732,
          0.9625727990405136,
          0.4802996923039038,
          1.143023340859015,
          0.8984532801326268,
          0.5407509707266692,
          1.0672859091833102,
          1.5367571687749149,
          0.6739567979441002,
          1.0081906122431203,
          1.1975544123493083,
          1.542876667420187,
          1.583987352827532,
          0.7879654809802554,
          0.4773969745548727,
          1.9688089866292287,
          0.941745047411534,
          0.5435999188638119,
          0.525211323103746,
          0.7877824897711067,
          1.3226272783499886,
          0.7827909593247305,
          0.7641317895340145,
          0.5186937371102037,
          0.7006615212642407,
          0.962564009896639,
          0.4982993907689968,
          0.6628263774799985,
          0.9386112128148941,
          0.4474477492825662,
          0.6645682559853092,
          0.6606718140018779,
          0.8566890103839508,
          1.0703889859204623,
          0.6406156628626153,
          0.4231516797087157,
          0.6341502133512937,
          1.0323677607166881,
          0.41972966829799085,
          0.6109541980106967,
          1.0324887350539147,
          0.6608576502007618,
          1.1760112732312973,
          1.0526530761861843,
          0.7777648182789728,
          1.4530723614223355,
          0.8782584440806583,
          0.7049511073005086,
          1.7740650430782106,
          0.5611553190986867,
          0.961101516465663,
          0.9587434116540119,
          2.2916036414974634,
          1.0620198049038172,
          1.1372017485073083,
          1.2725707643942037,
          1.0760951243106498,
          1.1593722833155296,
          1.026525934733249,
          0.7237759495787505,
          0.4760637725084438,
          0.5382832847083703,
          0.6633063273538817,
          0.6464179593199197,
          0.5746846643261382,
          0.6958771077298147,
          0.5279257478247517,
          0.7821485893375336,
          0.5945001792674417,
          0.7565392844815018,
          0.9197076139728799,
          0.5330735752117567,
          0.5026397896227437,
          0.44073496672631146,
          0.4746120877120977,
          0.7552975883291483,
          0.8485797938152705,
          0.8284028038873492,
          1.9971989376416421,
          0.5046977023002888,
          1.1261520165517314,
          0.41975813865740774,
          0.5875012523902224,
          0.6375272904474913,
          0.5850899497989976,
          1.4520567825807145,
          1.1562571026605728,
          0.38519733305504006,
          1.0449684439311238,
          0.6494573631900893,
          0.6972285394596127,
          0.642202213749493,
          1.0627428722026406,
          0.4490206709775674,
          0.9300257483627096,
          1.0542866980236603,
          1.1117096598533938,
          1.0782018461690515,
          1.1720298951080081,
          1.5488821806894082,
          0.5322572285680004,
          0.4904059431309291,
          2.400925903136213,
          0.4267897786502347,
          0.5087162244722345,
          1.6555287036971376,
          0.5472762928344325,
          1.3031009024179565,
          0.6533165137696312,
          1.7776737243589233,
          1.1363778785817782,
          0.7676833210794205,
          2.317583823370201,
          1.0258059281078407,
          0.6225724880810894,
          0.5416620608486101,
          1.2388078575486363,
          0.6392584581636224,
          0.7675586372423168,
          0.6418900132833482,
          0.4963472059358576,
          0.4567942641262361,
          0.9254955596427834,
          0.5434009472825799,
          0.8620174532198523,
          0.39905377387959307,
          1.0107615355655177,
          0.7359936725534925,
          0.6490749996852941,
          0.767184911104481,
          1.4929631183914889,
          1.4233882942035172,
          0.8757726704717821,
          1.1228480491001445,
          0.48252744892885435,
          0.7569312971413319,
          0.45546131357547115,
          1.979639636080653,
          0.6868144471089126,
          0.8913380290934775,
          0.644846907437854,
          0.5827998145744707,
          0.7608607866412588,
          1.0652304232219838,
          0.40842847725938564,
          0.6328819447236075,
          0.6563902204174837,
          0.8875731763465844,
          1.03677157635186,
          1.6736395495516287,
          0.6746578625433163,
          0.4471054047814574,
          0.3797330204281566,
          0.7781735795900381,
          0.6999620463194598,
          0.7305828141278988,
          0.6252723514354463,
          1.0702457755381478,
          0.8340114599904652,
          0.7134074024081672,
          0.614514495811739,
          0.32356087031893105,
          1.0263029360091298,
          0.7323849447958859,
          0.8539921280106789,
          0.7392894944939851,
          0.9092024524204114,
          1.132309438343504,
          0.8330010511380509,
          0.9348972640056492,
          0.8583050516912702,
          0.6624821781652686,
          0.5587410176244215,
          0.9619695784641442,
          1.7609187376258817,
          0.5883036975725798,
          0.36910629232451625,
          0.5695808091587155,
          0.39473333643358965,
          0.4762056517051871,
          0.6597721609547691,
          1.2273832186373004,
          0.7100870466585344,
          0.5745338056277097,
          0.6567415133558226,
          1.1793850212416224,
          1.0502157390609794,
          0.9296801241458218,
          0.5063929063106716,
          1.9010557123129985,
          1.2167423397362214,
          1.8957949242147245,
          0.6545230228704275,
          0.47504774243390274,
          1.2738518913142751,
          0.5275062408082131,
          0.8236116840273578,
          0.515516935598888,
          0.5493341842453576,
          1.3747077200151798,
          0.49362042933049016,
          0.9116492379912513,
          1.2416579351313668,
          1.5365122991749545,
          0.9954275690672683,
          0.6983855876175018,
          0.878900493138186,
          0.7562527467128758,
          0.6922517413780945,
          0.434390857288875,
          0.7468962295593932,
          1.196933097126722,
          0.7026299948741115,
          1.1513951743849877,
          0.8072094693085435,
          0.5794239111111521,
          0.6253112752756783,
          0.6562814423242338,
          1.05580214309753,
          0.5786297992097433,
          0.9759835323067304,
          0.49876602221412764,
          2.284668867886413,
          0.7051825783943713,
          0.5566069239623949,
          1.0787997668052791,
          0.7356588042819474,
          0.6521614716785097,
          1.655666527510763,
          0.5687066243408787,
          1.5522702977934493,
          0.731371708655997,
          1.1000669769545002,
          1.0589031069290178,
          0.6457843620290253,
          0.48659463124553326,
          0.5661926326175268,
          0.5445482509580393,
          1.3202912197194088,
          0.3988841515904199,
          0.845556397893572,
          0.9906854154541652,
          0.4681614692429498,
          0.5222639036973258,
          0.5063607012580097,
          0.7376955136141501,
          0.959922815390379,
          0.47053036736383524,
          1.042808301042904,
          0.8489731149220787,
          2.0134434822576748,
          2.08103204553943,
          0.7623834122752065,
          1.060860201980841,
          1.6798905640091686,
          0.856221393022291,
          0.9895209761114796,
          1.0651197025295038,
          1.1513380564459221,
          1.064687076695298,
          0.561923831919037,
          0.7347877853268616,
          0.9730611685680128,
          1.7951989967241546,
          1.0865556614251681,
          0.9821234115439698,
          0.7508918237634328,
          1.0911190371833985,
          1.2714432221696361,
          1.654024232516032,
          0.8740727630590732,
          0.7655775932051329,
          0.5321114660656824,
          0.917426175221512,
          1.1385275232905627,
          0.6950641993231291,
          1.464647397966648,
          1.7714052917440533,
          1.8869544799404192,
          0.827690714234827,
          1.209026221437097,
          0.6423932658217416,
          0.722220100836569,
          0.8896615021339346,
          0.513370271387748,
          0.6922068127915392,
          0.8938420661307152,
          0.9453093838222453,
          1.2324852080906863,
          0.8336781434024941,
          0.7696843570363149,
          1.1346145842454194,
          1.2149313497963234,
          0.8183650408664835,
          1.0128636345045914,
          0.6021785599838343,
          0.9756452785413635,
          1.4737811676882335,
          0.8557802534499461,
          1.5163816914198842,
          0.40421111302964796,
          0.6274174253837344,
          0.650997164984655,
          1.6018876198943266,
          0.6097554978411273,
          0.5845663696230615,
          0.7057923846688081,
          0.7811330061339603,
          0.5757169062770137,
          0.636259494313657,
          0.5661923754427055,
          1.9406179427966783,
          0.4789809850661421,
          0.7933563069760792,
          0.6264402451853102,
          0.520068641167494,
          0.4420668716151614,
          0.7796308305172902,
          0.45004138627730594,
          0.6032283184040773,
          0.9969329641346489,
          0.7011192027039114,
          0.4427790102289641,
          0.39904229848363953,
          0.3679237813134129,
          1.0213102726364218,
          0.9726191120566285,
          0.8057168672562062,
          0.52994476566901,
          1.060172870844558,
          0.6470094549619202,
          1.178847470714344,
          0.4725532409598359,
          0.4698139478066095,
          0.682939210022088,
          0.6119506170338115,
          0.6108829454005666,
          1.8042036129283525,
          0.6752896275049974,
          0.699104267951419,
          0.786228154995488,
          0.5096060293680263,
          0.49582316495215223,
          0.6663856217667842,
          1.1660349162357748,
          0.6692919543829113,
          0.6317880011576301,
          0.7701275633717526,
          1.0943122272805916,
          0.5499538496736702,
          0.46957011355347705,
          1.0292269876670126,
          1.6057580435144794,
          0.7832046069765604,
          0.5595651947962116,
          0.6631644487565466,
          1.2535168117437097,
          1.241016300255041,
          1.278314846704043,
          1.0528737278077547,
          0.47604977039570395,
          0.6981003511439884,
          0.5837900012467961,
          0.4790841531137722,
          0.7480525404372568,
          0.5444528397841256,
          1.228393221066161,
          0.4558944482871708,
          0.8786613162324666,
          0.5107326708946639,
          1.0057104394757646,
          0.5335765604193611,
          0.6240494894262846,
          1.0282120104179457,
          0.3688753252059566,
          2.197291870525373,
          0.8648218334727656,
          0.6215401999661181,
          1.0759206894481776,
          0.4799589893435172,
          0.656204178851818,
          0.47390632770237806,
          0.5201104876907974,
          0.8339662386533396,
          2.024331347213239,
          0.5941586602737611,
          0.7038354852693045,
          0.9446031813006707,
          0.7803828303158228,
          0.4844381574253442,
          0.5591772027348583,
          0.6095040044289942,
          1.1126729418685248,
          0.8674849448540687,
          0.5910296081552759,
          0.8927680479304533,
          0.7219073235790844,
          6.938775510204084,
          1.5572355144048364,
          1.578722708708418,
          0.5690961386395889,
          2.780132265783943,
          1.21689601255205,
          0.9067732838292618,
          0.822708819259934,
          0.5363201409639969,
          1.0472825893913753,
          1.0380572564421784,
          0.9317549457481489,
          2.9150044514905673,
          0.549612759301117,
          0.5197261650460627,
          1.0435844196827317,
          0.8757454996504326,
          0.4121738930974821,
          0.5639462013177546,
          0.5778195187044907,
          1.156950051044012,
          0.6134700675011588,
          1.1046896721839423,
          0.5260385623553459,
          0.9004974719880374,
          1.0516462962702728,
          0.588945834151264,
          0.6556804940140109,
          0.49362252441239707,
          1.0668146486442442,
          0.6517719025411557,
          0.7712406869657576,
          0.8052241135132756,
          0.5172525597896374,
          0.9676127660418884,
          0.40599248931165904,
          0.7798858774092965,
          0.4441640414626381,
          1.1629240981737012,
          0.8453974932457795,
          0.6706706721818025,
          0.6940418290193626,
          0.47319512990050555,
          0.8907521491845747,
          0.42356387261829026,
          0.7079067038205034,
          0.46495094299164813,
          0.6226108814035088,
          0.9078293964500044,
          0.417520737041006,
          2.0782228165784193,
          0.3756949933395493,
          0.5149867377423065,
          2.1875074978441122,
          1.0115951453661587,
          0.7537074083304023,
          0.5886943188023153,
          0.5777805997266641,
          0.3268774972884194,
          0.778609640924917,
          1.111629480886084,
          0.8454052254036428,
          0.9452524917821955,
          0.46714692137178504,
          0.5366304589212886,
          0.5728615944774982,
          0.46566880282032164,
          0.9632834047762565,
          0.5130832743217694,
          0.5842902235119053,
          0.3178749136645241,
          1.0215966373657512,
          1.773552307703871,
          0.6623485566766241,
          0.6378317819697249,
          0.7235917964383629,
          0.864146537503187,
          1.1932893581782875,
          0.9035706599629025,
          0.7455107185704041,
          2.8277560224799063,
          0.597940672601813,
          0.6493127469654155,
          0.45467630238077045,
          0.4320951576511737,
          0.9527885494172097,
          0.45752377402101335,
          0.6373765434808828,
          0.5745498830937561,
          0.36825517796166507,
          0.3341327367817673,
          0.48874026871574744,
          1.3608606253218598,
          0.4554924854590226,
          1.8094373497026,
          0.5023590352482697,
          0.5039697969882834,
          2.0274406558276676,
          0.3210832553098528,
          0.5149311209047529,
          1.469193734073388,
          0.5574227795701319,
          0.43003405569685604,
          0.7433311503813784,
          0.9634792568126296,
          0.5815753525722109,
          0.9364833717483693,
          1.3629011438743293,
          0.45644254461621103,
          0.5731487928870987,
          0.9763905281012433,
          0.5784445290093486,
          0.43406484194417383,
          0.3950647381830631,
          1.4611100768123062,
          0.5322940739815593,
          0.7617184095312609,
          0.9154196100761011,
          1.8516754841310368,
          0.41452051438441323,
          0.6393785584045215,
          0.3225541592368747,
          0.3512180125288254,
          0.6598390735779108,
          0.5918854426504032,
          0.5915966468594368,
          0.9648982191923355,
          0.7811824928425383,
          0.6153339809766146,
          1.0543027886407614,
          0.801300313381112,
          1.2087497828833735,
          0.5637447817654888,
          1.1663341825386984,
          1.5421569231645038,
          0.5077733065971818,
          0.5450353621542587,
          0.36006557326010963,
          0.666782354644483,
          0.517818410275948,
          0.5133149352683931,
          0.5712170152365765,
          0.3254856182564198,
          0.35372707164363687,
          0.9763359754642759,
          0.5864781171544033,
          0.6574274806530835,
          0.3949133647348093,
          1.1632096734835984,
          0.6435011098221843,
          0.46639592082868325,
          1.0537901181941347,
          0.48674851878190156,
          1.2205894161541273,
          0.42721887634797934,
          0.47566588270291155,
          0.8681599208738868,
          0.4495793680496899,
          0.7987743864910226,
          0.7179597555311589,
          0.653364226180157,
          0.6634328275026099,
          0.898105826734188,
          0.672822111979207,
          0.39652423773067613,
          0.933936665382557,
          1.2911539922609105,
          0.6863523909276993,
          0.4935233294738659,
          1.3218812593790694,
          0.636950518513133,
          1.1145222047842394,
          1.0974559314100196,
          0.63801519233388,
          0.981860717844417,
          0.9341098447436695,
          0.6067344043825539,
          0.8981081106101593,
          0.5242832014763433,
          0.8837863718084578,
          1.5509705918470766,
          0.9746145441038007,
          0.9663824730428092,
          0.8022897462398687,
          0.45555137637615994,
          0.7701461559763905,
          2.789264071622034,
          0.8235298400432545,
          1.04454711913233,
          0.6099876872522279,
          1.0530116344862757,
          0.5546990097520644,
          0.3525533885060438,
          0.3562976043036754,
          0.3215277444395059,
          1.1468467692090667,
          0.492123178002363,
          1.067159262048587,
          0.5446505997995491,
          1.2002964958704183,
          0.7511069909792099,
          1.018430105407988,
          0.7985882146434536,
          0.5607259795041651,
          1.138011289274009,
          0.5439516688613502,
          0.5130609907826176,
          0.4976773700008588,
          1.2709940536369047,
          0.5476173406156054,
          1.4105888342596273,
          1.0884708069395261,
          0.7449746442369588,
          0.3643028884078453,
          0.6714433206361302,
          0.6123927248460257,
          0.5321720371780256,
          0.6233752928666925,
          0.97877282143127,
          1.1672656225684834,
          0.9672672927878545,
          2.4308720753570348,
          4.9108296717498074,
          0.25846471956577916,
          0.6324227074489809,
          4.901145026674346,
          1.538088292939936,
          1.1132758140829389,
          0.5830903790087466,
          0.7149564554365775,
          1.1306518330924102,
          8.876800310319474,
          2.11204098932129
         ],
         "yaxis": "y"
        }
       ],
       "layout": {
        "autosize": true,
        "legend": {
         "tracegroupgap": 0
        },
        "margin": {
         "t": 60
        },
        "template": {
         "data": {
          "bar": [
           {
            "error_x": {
             "color": "#2a3f5f"
            },
            "error_y": {
             "color": "#2a3f5f"
            },
            "marker": {
             "line": {
              "color": "#E5ECF6",
              "width": 0.5
             },
             "pattern": {
              "fillmode": "overlay",
              "size": 10,
              "solidity": 0.2
             }
            },
            "type": "bar"
           }
          ],
          "barpolar": [
           {
            "marker": {
             "line": {
              "color": "#E5ECF6",
              "width": 0.5
             },
             "pattern": {
              "fillmode": "overlay",
              "size": 10,
              "solidity": 0.2
             }
            },
            "type": "barpolar"
           }
          ],
          "carpet": [
           {
            "aaxis": {
             "endlinecolor": "#2a3f5f",
             "gridcolor": "white",
             "linecolor": "white",
             "minorgridcolor": "white",
             "startlinecolor": "#2a3f5f"
            },
            "baxis": {
             "endlinecolor": "#2a3f5f",
             "gridcolor": "white",
             "linecolor": "white",
             "minorgridcolor": "white",
             "startlinecolor": "#2a3f5f"
            },
            "type": "carpet"
           }
          ],
          "choropleth": [
           {
            "colorbar": {
             "outlinewidth": 0,
             "ticks": ""
            },
            "type": "choropleth"
           }
          ],
          "contour": [
           {
            "colorbar": {
             "outlinewidth": 0,
             "ticks": ""
            },
            "colorscale": [
             [
              0,
              "#0d0887"
             ],
             [
              0.1111111111111111,
              "#46039f"
             ],
             [
              0.2222222222222222,
              "#7201a8"
             ],
             [
              0.3333333333333333,
              "#9c179e"
             ],
             [
              0.4444444444444444,
              "#bd3786"
             ],
             [
              0.5555555555555556,
              "#d8576b"
             ],
             [
              0.6666666666666666,
              "#ed7953"
             ],
             [
              0.7777777777777778,
              "#fb9f3a"
             ],
             [
              0.8888888888888888,
              "#fdca26"
             ],
             [
              1,
              "#f0f921"
             ]
            ],
            "type": "contour"
           }
          ],
          "contourcarpet": [
           {
            "colorbar": {
             "outlinewidth": 0,
             "ticks": ""
            },
            "type": "contourcarpet"
           }
          ],
          "heatmap": [
           {
            "colorbar": {
             "outlinewidth": 0,
             "ticks": ""
            },
            "colorscale": [
             [
              0,
              "#0d0887"
             ],
             [
              0.1111111111111111,
              "#46039f"
             ],
             [
              0.2222222222222222,
              "#7201a8"
             ],
             [
              0.3333333333333333,
              "#9c179e"
             ],
             [
              0.4444444444444444,
              "#bd3786"
             ],
             [
              0.5555555555555556,
              "#d8576b"
             ],
             [
              0.6666666666666666,
              "#ed7953"
             ],
             [
              0.7777777777777778,
              "#fb9f3a"
             ],
             [
              0.8888888888888888,
              "#fdca26"
             ],
             [
              1,
              "#f0f921"
             ]
            ],
            "type": "heatmap"
           }
          ],
          "heatmapgl": [
           {
            "colorbar": {
             "outlinewidth": 0,
             "ticks": ""
            },
            "colorscale": [
             [
              0,
              "#0d0887"
             ],
             [
              0.1111111111111111,
              "#46039f"
             ],
             [
              0.2222222222222222,
              "#7201a8"
             ],
             [
              0.3333333333333333,
              "#9c179e"
             ],
             [
              0.4444444444444444,
              "#bd3786"
             ],
             [
              0.5555555555555556,
              "#d8576b"
             ],
             [
              0.6666666666666666,
              "#ed7953"
             ],
             [
              0.7777777777777778,
              "#fb9f3a"
             ],
             [
              0.8888888888888888,
              "#fdca26"
             ],
             [
              1,
              "#f0f921"
             ]
            ],
            "type": "heatmapgl"
           }
          ],
          "histogram": [
           {
            "marker": {
             "pattern": {
              "fillmode": "overlay",
              "size": 10,
              "solidity": 0.2
             }
            },
            "type": "histogram"
           }
          ],
          "histogram2d": [
           {
            "colorbar": {
             "outlinewidth": 0,
             "ticks": ""
            },
            "colorscale": [
             [
              0,
              "#0d0887"
             ],
             [
              0.1111111111111111,
              "#46039f"
             ],
             [
              0.2222222222222222,
              "#7201a8"
             ],
             [
              0.3333333333333333,
              "#9c179e"
             ],
             [
              0.4444444444444444,
              "#bd3786"
             ],
             [
              0.5555555555555556,
              "#d8576b"
             ],
             [
              0.6666666666666666,
              "#ed7953"
             ],
             [
              0.7777777777777778,
              "#fb9f3a"
             ],
             [
              0.8888888888888888,
              "#fdca26"
             ],
             [
              1,
              "#f0f921"
             ]
            ],
            "type": "histogram2d"
           }
          ],
          "histogram2dcontour": [
           {
            "colorbar": {
             "outlinewidth": 0,
             "ticks": ""
            },
            "colorscale": [
             [
              0,
              "#0d0887"
             ],
             [
              0.1111111111111111,
              "#46039f"
             ],
             [
              0.2222222222222222,
              "#7201a8"
             ],
             [
              0.3333333333333333,
              "#9c179e"
             ],
             [
              0.4444444444444444,
              "#bd3786"
             ],
             [
              0.5555555555555556,
              "#d8576b"
             ],
             [
              0.6666666666666666,
              "#ed7953"
             ],
             [
              0.7777777777777778,
              "#fb9f3a"
             ],
             [
              0.8888888888888888,
              "#fdca26"
             ],
             [
              1,
              "#f0f921"
             ]
            ],
            "type": "histogram2dcontour"
           }
          ],
          "mesh3d": [
           {
            "colorbar": {
             "outlinewidth": 0,
             "ticks": ""
            },
            "type": "mesh3d"
           }
          ],
          "parcoords": [
           {
            "line": {
             "colorbar": {
              "outlinewidth": 0,
              "ticks": ""
             }
            },
            "type": "parcoords"
           }
          ],
          "pie": [
           {
            "automargin": true,
            "type": "pie"
           }
          ],
          "scatter": [
           {
            "fillpattern": {
             "fillmode": "overlay",
             "size": 10,
             "solidity": 0.2
            },
            "type": "scatter"
           }
          ],
          "scatter3d": [
           {
            "line": {
             "colorbar": {
              "outlinewidth": 0,
              "ticks": ""
             }
            },
            "marker": {
             "colorbar": {
              "outlinewidth": 0,
              "ticks": ""
             }
            },
            "type": "scatter3d"
           }
          ],
          "scattercarpet": [
           {
            "marker": {
             "colorbar": {
              "outlinewidth": 0,
              "ticks": ""
             }
            },
            "type": "scattercarpet"
           }
          ],
          "scattergeo": [
           {
            "marker": {
             "colorbar": {
              "outlinewidth": 0,
              "ticks": ""
             }
            },
            "type": "scattergeo"
           }
          ],
          "scattergl": [
           {
            "marker": {
             "colorbar": {
              "outlinewidth": 0,
              "ticks": ""
             }
            },
            "type": "scattergl"
           }
          ],
          "scattermapbox": [
           {
            "marker": {
             "colorbar": {
              "outlinewidth": 0,
              "ticks": ""
             }
            },
            "type": "scattermapbox"
           }
          ],
          "scatterpolar": [
           {
            "marker": {
             "colorbar": {
              "outlinewidth": 0,
              "ticks": ""
             }
            },
            "type": "scatterpolar"
           }
          ],
          "scatterpolargl": [
           {
            "marker": {
             "colorbar": {
              "outlinewidth": 0,
              "ticks": ""
             }
            },
            "type": "scatterpolargl"
           }
          ],
          "scatterternary": [
           {
            "marker": {
             "colorbar": {
              "outlinewidth": 0,
              "ticks": ""
             }
            },
            "type": "scatterternary"
           }
          ],
          "surface": [
           {
            "colorbar": {
             "outlinewidth": 0,
             "ticks": ""
            },
            "colorscale": [
             [
              0,
              "#0d0887"
             ],
             [
              0.1111111111111111,
              "#46039f"
             ],
             [
              0.2222222222222222,
              "#7201a8"
             ],
             [
              0.3333333333333333,
              "#9c179e"
             ],
             [
              0.4444444444444444,
              "#bd3786"
             ],
             [
              0.5555555555555556,
              "#d8576b"
             ],
             [
              0.6666666666666666,
              "#ed7953"
             ],
             [
              0.7777777777777778,
              "#fb9f3a"
             ],
             [
              0.8888888888888888,
              "#fdca26"
             ],
             [
              1,
              "#f0f921"
             ]
            ],
            "type": "surface"
           }
          ],
          "table": [
           {
            "cells": {
             "fill": {
              "color": "#EBF0F8"
             },
             "line": {
              "color": "white"
             }
            },
            "header": {
             "fill": {
              "color": "#C8D4E3"
             },
             "line": {
              "color": "white"
             }
            },
            "type": "table"
           }
          ]
         },
         "layout": {
          "annotationdefaults": {
           "arrowcolor": "#2a3f5f",
           "arrowhead": 0,
           "arrowwidth": 1
          },
          "autotypenumbers": "strict",
          "coloraxis": {
           "colorbar": {
            "outlinewidth": 0,
            "ticks": ""
           }
          },
          "colorscale": {
           "diverging": [
            [
             0,
             "#8e0152"
            ],
            [
             0.1,
             "#c51b7d"
            ],
            [
             0.2,
             "#de77ae"
            ],
            [
             0.3,
             "#f1b6da"
            ],
            [
             0.4,
             "#fde0ef"
            ],
            [
             0.5,
             "#f7f7f7"
            ],
            [
             0.6,
             "#e6f5d0"
            ],
            [
             0.7,
             "#b8e186"
            ],
            [
             0.8,
             "#7fbc41"
            ],
            [
             0.9,
             "#4d9221"
            ],
            [
             1,
             "#276419"
            ]
           ],
           "sequential": [
            [
             0,
             "#0d0887"
            ],
            [
             0.1111111111111111,
             "#46039f"
            ],
            [
             0.2222222222222222,
             "#7201a8"
            ],
            [
             0.3333333333333333,
             "#9c179e"
            ],
            [
             0.4444444444444444,
             "#bd3786"
            ],
            [
             0.5555555555555556,
             "#d8576b"
            ],
            [
             0.6666666666666666,
             "#ed7953"
            ],
            [
             0.7777777777777778,
             "#fb9f3a"
            ],
            [
             0.8888888888888888,
             "#fdca26"
            ],
            [
             1,
             "#f0f921"
            ]
           ],
           "sequentialminus": [
            [
             0,
             "#0d0887"
            ],
            [
             0.1111111111111111,
             "#46039f"
            ],
            [
             0.2222222222222222,
             "#7201a8"
            ],
            [
             0.3333333333333333,
             "#9c179e"
            ],
            [
             0.4444444444444444,
             "#bd3786"
            ],
            [
             0.5555555555555556,
             "#d8576b"
            ],
            [
             0.6666666666666666,
             "#ed7953"
            ],
            [
             0.7777777777777778,
             "#fb9f3a"
            ],
            [
             0.8888888888888888,
             "#fdca26"
            ],
            [
             1,
             "#f0f921"
            ]
           ]
          },
          "colorway": [
           "#636efa",
           "#EF553B",
           "#00cc96",
           "#ab63fa",
           "#FFA15A",
           "#19d3f3",
           "#FF6692",
           "#B6E880",
           "#FF97FF",
           "#FECB52"
          ],
          "font": {
           "color": "#2a3f5f"
          },
          "geo": {
           "bgcolor": "white",
           "lakecolor": "white",
           "landcolor": "#E5ECF6",
           "showlakes": true,
           "showland": true,
           "subunitcolor": "white"
          },
          "hoverlabel": {
           "align": "left"
          },
          "hovermode": "closest",
          "mapbox": {
           "style": "light"
          },
          "paper_bgcolor": "white",
          "plot_bgcolor": "#E5ECF6",
          "polar": {
           "angularaxis": {
            "gridcolor": "white",
            "linecolor": "white",
            "ticks": ""
           },
           "bgcolor": "#E5ECF6",
           "radialaxis": {
            "gridcolor": "white",
            "linecolor": "white",
            "ticks": ""
           }
          },
          "scene": {
           "xaxis": {
            "backgroundcolor": "#E5ECF6",
            "gridcolor": "white",
            "gridwidth": 2,
            "linecolor": "white",
            "showbackground": true,
            "ticks": "",
            "zerolinecolor": "white"
           },
           "yaxis": {
            "backgroundcolor": "#E5ECF6",
            "gridcolor": "white",
            "gridwidth": 2,
            "linecolor": "white",
            "showbackground": true,
            "ticks": "",
            "zerolinecolor": "white"
           },
           "zaxis": {
            "backgroundcolor": "#E5ECF6",
            "gridcolor": "white",
            "gridwidth": 2,
            "linecolor": "white",
            "showbackground": true,
            "ticks": "",
            "zerolinecolor": "white"
           }
          },
          "shapedefaults": {
           "line": {
            "color": "#2a3f5f"
           }
          },
          "ternary": {
           "aaxis": {
            "gridcolor": "white",
            "linecolor": "white",
            "ticks": ""
           },
           "baxis": {
            "gridcolor": "white",
            "linecolor": "white",
            "ticks": ""
           },
           "bgcolor": "#E5ECF6",
           "caxis": {
            "gridcolor": "white",
            "linecolor": "white",
            "ticks": ""
           }
          },
          "title": {
           "x": 0.05
          },
          "xaxis": {
           "automargin": true,
           "gridcolor": "white",
           "linecolor": "white",
           "ticks": "",
           "title": {
            "standoff": 15
           },
           "zerolinecolor": "white",
           "zerolinewidth": 2
          },
          "yaxis": {
           "automargin": true,
           "gridcolor": "white",
           "linecolor": "white",
           "ticks": "",
           "title": {
            "standoff": 15
           },
           "zerolinecolor": "white",
           "zerolinewidth": 2
          }
         }
        },
        "xaxis": {
         "anchor": "y",
         "autorange": true,
         "domain": [
          0,
          1
         ],
         "range": [
          -31.92420400112708,
          569.9242040011271
         ],
         "title": {
          "text": "Count"
         },
         "type": "linear"
        },
        "yaxis": {
         "anchor": "x",
         "autorange": true,
         "domain": [
          0,
          1
         ],
         "range": [
          -0.4088342303744676,
          9.54409926025972
         ],
         "title": {
          "text": "dov"
         },
         "type": "linear"
        }
       }
      },
      "image/png": "[encoded data removed]",
      "text/html": [
       "<div>                            <div id=\"f595acd5-289e-442f-a4e3-c3f48a7d43ed\" class=\"plotly-graph-div\" style=\"height:525px; width:100%;\"></div>            <script type=\"text/javascript\">                require([\"plotly\"], function(Plotly) {                    window.PLOTLYENV=window.PLOTLYENV || {};                                    if (document.getElementById(\"f595acd5-289e-442f-a4e3-c3f48a7d43ed\")) {                    Plotly.newPlot(                        \"f595acd5-289e-442f-a4e3-c3f48a7d43ed\",                        [{\"customdata\":[[\"76_dog_dogs_pet_dog food\"],[\"1_word_cryptocurrencies_indicates_word markets\"],[\"41_cards_buying guides_originals_highest\"],[\"36_cards_buying guides_originals_highest\"],[\"462_shrimp_frozen shrimp_frozen_avanti\"],[\"13_fssai_fnb_fnb news_emagazine links\"],[\"406_scratchings_pork scratchings_salmonella_porky\"],[\"320_peloton_treadmill_treadmills_tread\"],[\"35_seaweed_vessel_aquaculture_fish\"],[\"557_20240521_2024 20240521_22 whos_reacting 20240521\"],[\"54_new window_opens new_window click_opens\"],[\"7_transportation_auto transportation_news releases_computer\"],[\"142_instruct_counsel_whos_shareholders\"],[\"296_chicken_health alert_chicken products_inspection service\"],[\"50_cards_buying guides_originals_highest\"],[\"24_oman_qatar_doha_muscat\"],[\"34_commentary_earnings_calendars_biotech\"],[\"176_pakistan_islamabad_lahore_karachi\"],[\"75_afl_region page_heartbeat australia_links todays\"],[\"5_benzinga_stocks best_ideas_penny stocks\"],[\"115_azerbaijan_azerbaijani_safety agency_azernewsaz\"],[\"16_edt_forbes_entrepreneur_beta\"],[\"3_transportation_auto transportation_news releases_computer\"],[\"19_toggle dropdown_dropdown_toggle_straits times\"],[\"119_food traceability_catering_release_traceability\"],[\"15_seafood_expo_photo courtesy_courtesy\"],[\"17_vietnam_ting_ting vit_vietnamese\"],[\"207_listeria_milk_raw milk_raw\"],[\"70_psl_pakistan_news psl_lahore\"],[\"851_vr_remote work_remote_oculus\"],[\"12_blood pressure_medication_drug_tablets\"],[\"97_noodls_transportation_chemicals commodities_textile apparel\"],[\"21_florida_orlando_fox_love florida\"],[\"0_parliament_committees_european parliament_delegations\"],[\"315_sprouts_alfalfa_pams_bean sprouts\"],[\"10_hygiene_rating_hygiene rating_food hygiene\"],[\"114_rate today_elections 2024_businessline_portfolio\"],[\"181_sauce_woolworths_undeclared_recall\"],[\"4_devices_devices market_surgical_market\"],[\"141_pakistan_islamabad_karachi_psl\"],[\"475_masks_mask_wuhan_covid\"],[\"53_thailand_thailand news_news thailand_bangkok\"],[\"51_focus_tillage_beef_sheep\"],[\"88_psl_news psl_peshawar_food authority\"],[\"688_open dropdown_dropdown menu_santa barbara_barbara\"],[\"433_buns_hostess_hot dog_hamburger\"],[\"153_journals_open access_journal_mdpi\"],[\"89_2024 product_palos_startup funding_masterclass\"],[\"710_costs_pricey_wished_pals\"],[\"46_taiwan_taiwan news_cases_entertainment variety\"],[\"352_listeria_botulism_monocytogenes_listeria monocytogenes\"],[\"285_casino_sales org_business 21_org\"],[\"62_vaccine_covid19_vaccination_vaccines\"],[\"68_monkeypox_covid_vaccine_vaccines\"],[\"61_trump_minutes ago_health care_national security\"],[\"240_transportation_auto transportation_computer_news releases\"],[\"310_rice_fortified rice_fortified_india\"],[\"291_listen token_token stichworte_stichworte_fragen listen\"],[\"876_cards_buying guides_originals_highest\"],[\"33_el sitio_sitio_america asia_site\"],[\"49_islamic_islamic finance_subcontinent china_mena english\"],[\"625_louth_dundalk_news dundalk_safety council\"],[\"252_salmonella_outbreak_salmonella outbreak_outbreak salmonella\"],[\"23_farm progress_informa_america 21_progress\"],[\"205_esm_abrands_today esm_00logolightlogotype\"],[\"604_cards_screener_buying guides_highest\"],[\"216_fao_agrifood systems_hunger_food agriculture\"],[\"98_offaly_commercial property_ireland_ulster\"],[\"162_rhode_rhode island_chicago_love letters\"],[\"314_legal affairs_kebs_food agriculture_kenya\"],[\"189_transportation_auto transportation_news releases_computer\"],[\"171_shipping news_government health_energy research_shipping\"],[\"58_code_loyalty_use paper_9pm\"],[\"192_arkansas_adg_learns_legal notices\"],[\"67_newswires_ein presswire_presswire_ein\"],[\"157_market_food market_growth_halal food\"],[\"29_newswires_ein presswire_presswire_ein\"],[\"27_express_tesco_tech garden_wins life\"],[\"87_tesco_asda_sainsburys_aldi\"],[\"39_transplant_heart_pig_pig heart\"],[\"74_class_class action_integra_securities\"],[\"338_payment_payment details_update payment_glasgow\"],[\"8_listeria monocytogenes_monocytogenes_listeria_foodworld\"],[\"382_nutritional analysis_low calorie_snacks market_nutritional\"],[\"137_hot topic_jd_custom_topic\"],[\"293_star_daily star_dhaka_youth\"],[\"437_ice cream_cream_ice_haagendazs\"],[\"149_cna_asia usuk_indonesia asia_singapore indonesia\"],[\"210_medien_indizes_alle_nasdaq 100\"],[\"127_fish_bfar_fishing_fisheries\"],[\"31_backpage_tinubu_nigeria_wike\"],[\"194_markets money_view view_ipl 2024_ipl\"],[\"126_stuff stuff_stuff__\"],[\"110_ingredients_send covid19_covid19 obesity_obesity industry\"],[\"37_ingredients_site archive_archive 2024_podcasts photo\"],[\"100_guardian_voices_edition_electric vehicles\"],[\"916_brussels times_brussels_times_\"],[\"308_sun_chef_edt_gifts\"],[\"332_agtech_nondilutive_agtech innovation_investment industry\"],[\"79_philips_medtech_device_medical device\"],[\"116_sasa_eastern_counties_star\"],[\"125_gift account_data health_story data_visual story\"],[\"955_liquide_air liquide_join join_2023 sustainability\"],[\"292_mirage news_mirage_national tribune_news mirage\"],[\"130_52 week_100 cash_credit score_reward\"],[\"84_open access_journals_mdpi_journal\"],[\"488_milk_adulterated milk_psl_adulterated\"],[\"270_dog_dog food_pet_pet food\"],[\"174_genetically_techniques_new genomic_modified\"],[\"454_dingdong_dingdong cayman_biggest_ddl\"],[\"721_het_juli_van_dat\"],[\"459_alabama_atlanta_alert weather_alert\"],[\"129_healthy_children_sugar_diet\"],[\"880_hamdard_research students_restrains_universities\"],[\"275_explainer_factcheck_weekly_contribute\"],[\"40_law_food drugs_drugs healthcare_healthcare life\"],[\"408_guyana_perspective_mind_kissoon\"],[\"265_te_nzme_nz herald_herald\"],[\"169_ham_pepperoni_listeria_ham pepperoni\"],[\"496_charcuterie_beretta_fratelli_fratelli beretta\"],[\"106_commentary_earnings_calendars_biotech\"],[\"464_transportation_auto transportation_news releases_computer\"],[\"221_wfp_reliefweb_country brief_assistance\"],[\"428_404_404 page_oops_template\"],[\"830_soybean_tonnes genetically_soyameal_soymeal\"],[\"565_4x4_ford_kia_car\"],[\"353_mp_16c_king charles_prince harry\"],[\"230_ipl_schedule 2024_cap_ht\"],[\"236_poultry_world poultry_healthnutrition_poultry genetics\"],[\"69_vietnam_aa_vietnamnet_gmt0700\"],[\"409_ministry spokesperson_foreign ministry_spokesperson_diplomat\"],[\"185_ukraine_ukrainian_bh_grain\"],[\"57_vietnam_vietnamese_ting_ting vit\"],[\"476_cell_lcms_clinical_cell gene\"],[\"18_medien_indizes_xetraorderbuch_atx nikkei\"],[\"52_salmonella_foodworld_food microbiology_tahini\"],[\"247_modified_genetically_genetically modified_gene\"],[\"226_health security_election ukraine_general election_global health\"],[\"193_scoop_mirage news_mirage_scoop werewolf\"],[\"245_pizza hut_hut_pizza_supervision\"],[\"145_chromatography_spectroscopy_analytical_spectroscopy market\"],[\"190_kathmandu_sri_budget_lanka\"],[\"42_solar_tesla_cleantechnica_vehicles\"],[\"178_meat_meat market_farming market_vertical farming\"],[\"71_corn_mexico_datanetchng_datanetchng number\"],[\"470_cellbased food_cellbased_food control_jemra\"],[\"403_pathogen_food pathogen_pathogen testing_testing market\"],[\"9_cbs_cbs news_baltimore_pittsburgh\"],[\"161_shanghai_epidemic_epidemic prevention_china\"],[\"513_continue_min_social account_account continue\"],[\"220_nafdac_nigeria_lagos_adeyeye\"],[\"43_cinnamon_pouches_applesauce_lead\"],[\"105_open access_journals_mdpi_journal\"],[\"20_open access_journals_mdpi_journal\"],[\"66_malaysia_page link_ago_link page\"],[\"556_animals_animal_welfare_swiss\"],[\"55_safety testing_testing_testing market_global food\"],[\"648_slow cooker_sperm_cooker_cookbooks\"],[\"82_la_la times_short docs_docs\"],[\"183_pesticides_pesticide_guardian_residues\"],[\"175_cold chain_cold_refrigerated_refrigeration\"],[\"135_release_market_imprint_submit release\"],[\"131_hepatitis_strawberries_frozen_berries\"],[\"30_medien_indizes_kurs_kurs news\"],[\"163_govuk_additional_additional change_search govuk\"],[\"133_taiwan_taiwan news_taipei_features bilingual\"],[\"678_cork_subscriber content_gaa_subscriber\"],[\"669_passenger killed_turbulence_ohtani_brit\"],[\"278_military defense_indicates_food health_mortgages\"],[\"92_cardiac_vascular_devices_devices market\"],[\"244_nutrition_category news_ingredients_category\"],[\"72_sound_cam_snd_hour\"],[\"523_edt_grantham_jeremy grantham_forbes\"],[\"411_pret_dancer_eating_allergy\"],[\"214_commentary_earnings_calendars_biotech\"],[\"690_govuk_additional_additional change_search govuk\"],[\"102_plastic_food packaging_plastics_packaging\"],[\"388_allergens_mycotoxins_food control_allergen\"],[\"301_kent_kmtv_ashford_gravesend\"],[\"540_ingredients_site archive_archive 2024_podcasts photo\"],[\"233_worcester_worcestershire_eeditions_hygiene\"],[\"47_open access_journals_nutrients fulltext_journal\"],[\"199_nuclear_hours ago_markets data_safeguards\"],[\"624____\"],[\"333_shanahan_clare_food waste_months ago\"],[\"334_codex_fao_food control_seychelles\"],[\"514_mua_ng_ton_thi\"],[\"772_dumpster_grocery_dumpster diving_cbc\"],[\"59_seachtain_left wing_wing_irish\"],[\"134_kenya_uganda_purchases sign_password purchases\"],[\"150_track trace_trace solutions_solutions market_trace\"],[\"281_newsbulletins_nlr_publish_law\"],[\"140_pradesh_educational news_india education_educational\"],[\"26_maine_news nigeria_bangor_nigeria\"],[\"878_jakubowitz_jakubowitz law_lawsuits_shareholders\"],[\"534_limerick_port_harbour_featured\"],[\"25_ipl_ht_quickreads_live ipl\"],[\"524_sunscreen_banana boat_banana_boat\"],[\"311_food standards_standards_standards scotland_scotland\"],[\"489_acne_clearasil_cancercausing chemical_clinique\"],[\"143_aflatoxin_pistachios_foodworld_ochratoxin\"],[\"550_food irradiation_irradiation_testing market_chromatography food\"],[\"201_attempt_wait_request_load\"],[\"494_puzzmo_newsletters financial_women puzzmo_financialpostcom perform\"],[\"138_gaza_israeli_israel_gaza strip\"],[\"538_listen_listen live_talksport_96fm\"],[\"346_ikea_chairs_blankets_highchairs\"],[\"232_ann arbor_arbor_ann_stats\"],[\"217_philippine_convertible currencies_convertible_bsp\"],[\"530_capital news_kenya_news featured_flood\"],[\"582_wheelers_healthcarebiotech_cons products_economic times\"],[\"117_sucralose_cells_cancer_sweetener\"],[\"164_tesco_buy_whats_expand\"],[\"507_krhd_county_kxxv_25 news\"],[\"434_processing_suntory_materials handling_prepared food\"],[\"387_new mexico_wafb_kob_albuquerque\"],[\"206_cebu_philstar_commentaries_philstarcom\"],[\"288_eze_athletics basketball_quits_sport athletics\"],[\"2_mumbai_noida_ahmedabad_maliwal\"],[\"202_nutrition_food ingredients_category news_sports nutrition\"],[\"555_cholera_taliban_afghanistan_afghan\"],[\"60_bees_chemicals energy_climate land_infringements\"],[\"517_luxembourg_lodges_hereditary_sos\"],[\"200_soccer_horses_epaper business_bets\"],[\"441_taiwan_taipei_taiwan news_crabs\"],[\"215_noodles_indomie_myanmar_indomie noodles\"],[\"186_incert_moldova_moldpres_incert email\"],[\"231_high school_college_school_disney\"],[\"727_boars_health wise_release features_weekly business\"],[\"414_seed_seeds market_seeds_seed market\"],[\"396_resistance_antibiotics_antimicrobial_antibiotic\"],[\"429_gift account_data health_opinion search_health opinion\"],[\"85_rate india_ipo_rate_ipo stock\"],[\"64_formula_cronobacter_infant_infant formula\"],[\"249_caribbean_haiti_svg_grenadines\"],[\"920_word_cryptocurrencies_indicates_word markets\"],[\"510_closure_closure orders_orders_served\"],[\"347_euronews_policy green_business eu_eu policy\"],[\"477_ghana_fsqa_entertainment africa_expired\"],[\"410_food fraud_fraud_foodauthenticity_fraud prevention\"],[\"11_salad_spinach_listeria_dole\"],[\"482_boda_david_uganda_uncle\"],[\"121_medien_indizes_smi atx_sdax mdax\"],[\"306_expat corner_expat_corner_trkiye\"],[\"187_arable_livestock_prices_farmer\"],[\"442_focus_tillage_beef_sheep\"],[\"273_hong_hong kong_kong_gba\"],[\"93_wral_community calendar_traffic_alert\"],[\"318_cockroach_cockroaches_rats_rat\"],[\"701_edt_green_transition_20 2024\"],[\"197_grain_china_chinas_food security\"],[\"159_sudan_security council_humanitarian_lebanon\"],[\"647_banned tobacco_gift account_data health_visual story\"],[\"483_cbd_hemp_thc_cbd oil\"],[\"191_gift account_data health_visual story_story data\"],[\"251_decreased_increased_afternoons_breakfast\"],[\"348_stat_tracker_biotech pharma_tracker breakthrough\"],[\"739_admin 21_admin_starfield_21 2024\"],[\"327_new window_opens new_opens_window\"],[\"641_stripes_veterans_military_force\"],[\"128_tmt_public square_csi tmt_advice fast\"],[\"614_law_newsbulletins_nlr_intellectual\"],[\"723_newswires_ein presswire_presswire_ein\"],[\"543_feed_animal feed_feed additives_probiotics\"],[\"901_reindeer_polar_norway_fence\"],[\"921_catering_saudi_catering services_saudi arabia\"],[\"371_northern ireland_protocol_brexit_ireland protocol\"],[\"546_scoop_social sector_salary survey_volunteer\"],[\"146_style style_version version_submenu item_style\"],[\"983_siberian_arctic_tsu_indigenous peoples\"],[\"401_protein_soy_protein market_soy protein\"],[\"609_safety day_world food_firstpost_day 2023\"],[\"630_violence_insecurity_displacement_tracker\"],[\"271_animal_animal welfare_welfare_european commission\"],[\"627_titanium dioxide_titanium_dioxide_additive\"],[\"449_blood pressure_blood_cholesterol_pressure\"],[\"374_business marketing_sony_bullfrag_naruto\"],[\"32_market_release_health medicine_imprint\"],[\"657_honey_applied science_society humanities_pdf print\"],[\"499_fish_aquarium_fishing_berlin\"],[\"362_russian_nuclear_ukraine_russia\"],[\"492_packaging market_packaging_resins_polymers\"],[\"358_subsections_western australia_sydney_queensland\"],[\"45_agrifood_capitals_ukraine intelligence_capitals brief\"],[\"521_gambia_melt_sports featured_2024 letters\"],[\"404_toronto_puzzmo_kingston_reddit pinterest\"],[\"300_norovirus_tests_norovirus cases_sun\"],[\"599_slovenina_navigation language_en english_lietuvi kalba\"],[\"884_energy drinks_drinks_newswires_drinkers\"],[\"935_govuk_additional_additional change_search govuk\"],[\"469_minister foreign_geopolitics_april 16_foreign policy\"],[\"453_food poisoning_poisoning_kerala_suspected food\"],[\"580_formula market_baby infant_baby_infant formula\"],[\"152_agence europe_agence_connection_connection fr\"],[\"297_costa_cristiano_cristiano ronaldo_ronaldo reacts\"],[\"234_listen token_fragen listen_stichworte_token stichworte\"],[\"478_2024 business_business wire_caribbean news_caribbean\"],[\"219_guardian_europe edition_edition_guardian licensing\"],[\"237_loungers_boppy_newborn_infant deaths\"],[\"564_product safety_rohs_gpsr_course\"],[\"360_nj_ct_ny_communities\"],[\"312_glyphosate_herbicide_controversial_scoop\"],[\"235_world scotland_ian_scotland health_puzzles\"],[\"585_noodles_banana_instant noodles_instant\"],[\"168_mcdonalds_hawaii_hawaii news_print replica\"],[\"520_fridge_freezer_power outage_outage\"],[\"78_supervision_teller report_teller_administration market\"],[\"990_chicken meat_tmt_ph_korean government\"],[\"90_subscriber content_subscriber_gaa_munster\"],[\"693_jamaica_emancipation_jis_jis news\"],[\"398_midday_mumbai_news mumbai_bm\"],[\"620_fnb_fnb news_fssai_mart feedback\"],[\"897_coast fm_hot tub_tub_coast\"],[\"863_5g_nand_techradar_tech radar\"],[\"522_ultraviolet_disinfectant_mycoplasma_glutamate msg\"],[\"501_ai food_food beverage_beverage_artificial intelligence\"],[\"635_tea_milk tea_zibo_barbecue\"],[\"28_fukushima_nuclear_japan_japans\"],[\"503_stylized_indicates_logo_search markets\"],[\"680_wptv_florida_orlando_fox\"],[\"416_site archive_archive 2024_podcasts photo_news multimedia\"],[\"702_newswires_ein presswire_presswire_ein\"],[\"376_dr_assange_war terror_terror\"],[\"632_transportation_auto transportation_computer_news releases\"],[\"204_focus taiwan_2nd_taiwan_pass\"],[\"726_newschannel_nashville_salvation_broken\"],[\"430_ethiopia_djibouti_new business_somalia\"],[\"818_samoa_american samoa_pago_samoa news\"],[\"859_food inspection_search chathamdailynewsca_chathamdailynewsca_chatham daily\"],[\"246_bangladesh_30th anniversary_30th_bss\"],[\"445_law_life sciences_litigation_european union\"],[\"559_news4jax_river city_city live_snapjax\"],[\"165_national tribune_tribune_biosecurity_mirage news\"],[\"770_guardian_subsections_europe edition_edition\"],[\"248_tobacco_priorities_nicotine_worry\"],[\"261_columns_young life_columns lifestyle_mining energy\"],[\"269_politico_playbook_influence_living cities\"],[\"988_forums_new posts_ya_uovu\"],[\"704_bradford_yorkshire_ilkley_keighley\"],[\"455_reverse logistics_freight chartered_chartered air_air transport\"],[\"420_plant protection_slovenia_sta_tp organics\"],[\"283_global insight_insight services_report includes_market report\"],[\"188_agents_drugs_analgesics_intermediates\"],[\"495_saudi_arab news_arab_saudi arabia\"],[\"827_cards_buying guides_originals_highest\"],[\"212_swine fever_swine_fever_african swine\"],[\"172_ctv_ctv news_vancouver_ottawa\"],[\"558_aldi_aldi issues_expand_buy\"],[\"156_cuba_mercopress_dominican_cuban\"],[\"511_open access_journals_animals fulltext_mdpi\"],[\"242_nigeria_result_view result_result view\"],[\"111_word_cryptocurrencies_indicates_word markets\"],[\"622_pulse_law360_delaware_bloomberg\"],[\"554_longford_pattaya_mail_sports classifieds\"],[\"763_open access_journals_journal_mdpi\"],[\"598_lateral flow_lateral_flow_flow assay\"],[\"253_oysters_norovirus_shellfish_vibrio\"],[\"438_acid_acid market_calcium_propionate\"],[\"689_glufosinate_enzymes_enzymes market_food enzymes\"],[\"940_cayman_compass_cayman islands_islands\"],[\"525_houston_kprc_houston sports_astros\"],[\"877_gifts_storage tools_entertaining_kitchen\"],[\"450_abu_abu dhabi_dhabi_psl\"],[\"343_milk_meiji_almond milk_nj\"],[\"716_law_international law_intellectual_intellectual property\"],[\"154_resource_resource center_center_center food\"],[\"319_olive_olive oil_costa_blanca\"],[\"443_resource center_resource_center_center food\"],[\"597_movie pageant_cannes movie_pageant_gta\"],[\"351_chromosome_trillion_20240522_military defense\"],[\"457_latvian_tiri_aboneazte_aboneazte intr\"],[\"422_swine_pig_el sitio_sitio\"],[\"833_newswires_transportation_auto transportation_news releases\"],[\"304_lettuce_washing_wash_leafy\"],[\"369_biosensors_open access_journals_electrochemical\"],[\"970_japan_japan today_distilleries_kyodo\"],[\"294_basmati_basmati rice_fssai_rice\"],[\"139_sting_union news_european_insights european\"],[\"655_open access_mdpi_journals_journal\"],[\"363_nutrition_category news_agree_category\"],[\"255_bpa_bisphenol_pfas_bonding\"],[\"103_fryers_air fryers_burn_air\"],[\"155_islamic_islamic finance_americas russia_mena english\"],[\"473_vaccines_vaccines market_vaccine_vaccine market\"],[\"758_monitoring_water_quality monitoring_monitoring water\"],[\"63_uae_00_dubai_00 00\"],[\"390_poll_african youth_arrested murder_preelection\"],[\"751_open access_journals_journal_mdpi\"],[\"845_newswires_ein presswire_presswire_ein\"],[\"588_phase_grants_nifa_official website\"],[\"256_undeclared_allergen_allergy_allergic\"],[\"533_milk_multivitamin_d3_vitamin d3\"],[\"481_milk_delhi_adulteration_nandini\"],[\"804_acres farms_80 acres_indoor_digital agriculture\"],[\"606_cgiar_dashboards_dashboard_great day\"],[\"402_items agenda_agenda_deadlines_session\"],[\"729_market news_congressional fix_coalition urge_urge congressional\"],[\"665_edt_headphones_sonos_lightroom\"],[\"537_20th 2024_20th_21st 2024_changemakers\"],[\"974_newswires_calorie_ein presswire_presswire\"],[\"667_cebu_philippine_rappler_philippines\"],[\"637_ccf_penh_phnom penh_phnom\"],[\"755_chicago_abbott_naperville_marianas\"],[\"290_story data_visual story_gift account_data health\"],[\"875_jellies_cannabis jellies_halloween_sweets\"],[\"834_optical sorter_sorter_optical_sorter market\"],[\"646_globalsign_3d_zone_3d printing\"],[\"222_ghana_password_news ghana_live radio\"],[\"967_yooma wellness_yooma_cards_market domination\"],[\"651_ipl_fssai_schedule 2024_cap\"],[\"354_chocolate_gluten_milk_allergy\"],[\"677_tylenol_tuscaloosa_suspect_1982\"],[\"266_21052024_raadio_yle_uudised\"],[\"303_graffiti_kapoor_khan_abhishek\"],[\"451_wto_trade development_newsday_developing countries\"],[\"209_organic_organic dairy_dairy_milk\"],[\"636_toggle dropdown_dropdown_toggle_salmonella\"],[\"629_ideas_benzinga_stocks best_penny stocks\"],[\"122_diseases_animal_zoonotic_disease\"],[\"760_commentary_earnings_calendars_biotech\"],[\"355_blockchain_standards_blockchain agriculture_blockchain technology\"],[\"427_sfa_perspectives history_babelfish_parliament perspectives\"],[\"86_genetically_genetically modified_modified_genetic\"],[\"779_noodls_transportation_execution scripts_blocking execution\"],[\"289_cyprus_greek_pin_cyprus mail\"],[\"239_xinhua_chinas_china_chinese\"],[\"329_release_imprint_submit release_market\"],[\"260_bristol_county dragons_dragons_buy\"],[\"393_cebu_tmt_philstar_entertainment lifestyle\"],[\"551_turkey_thanksgiving_leftovers_pumpkin\"],[\"782_implementation global_biodiversity framework_global biodiversity_climate\"],[\"662_gut_microbiome_uci_gut microbiome\"],[\"748_crickets_insects_house crickets_grasshoppers\"],[\"781_cnn_sign cnn_cnn account_tech calculators\"],[\"764_altex_moah_ethylene oxide_ethylene\"],[\"532_azerbaijan_todayaz_cooperation_baku\"],[\"787_crispr_editing_gene editing_gene\"],[\"561_chairs_mark_quote_arrow\"],[\"713_formulation_cosmetics_mocra_nutricosmetics\"],[\"617_iftf_food waste_waste_composting\"],[\"384_hand_hand sanitizer_sanitizer_methanol\"],[\"746_focus_beef_tillage_sheep\"],[\"757_laois_memory lane_crime court_read latest\"],[\"968_newswires_ein presswire_presswire_ein\"],[\"829_asf vaccine_vaccine_asf_tmt\"],[\"468_gophers_beat_lynx_vikings\"],[\"418_open access_journals_ijerph_ijerph fulltext\"],[\"435_newswires_ein presswire_presswire_ein\"],[\"77_smoked_salmon_smoked salmon_quebec\"],[\"803_nucleic_nucleic acid_masks_taiwan\"],[\"375_enoki_mushrooms_enoki mushrooms_mushroom\"],[\"907_replies_16c_invest money_pay\"],[\"642_child labor_meatpacking_labor_meatpacking plants\"],[\"638_funding_research innovation_scholarship_bbsrc\"],[\"697_phnom_penh_phnom penh_penh post\"],[\"195_pesticides_pesticide_agrifood_capitals\"],[\"325_swine fever_fever_swine_african swine\"],[\"942_vessel_insectbased food_food feed_insect\"],[\"563_derby_derbyshire_buy_derby county\"],[\"978_daddy_sniffing_robot_antennae\"],[\"544_fox news_fox_fox nation_puzzle\"],[\"616_supreme court_supreme_court_california\"],[\"335_rt_cork_gaeilge_brainstorm history\"],[\"966_herbicides_drift_crop protection_crop\"],[\"361_cebu_philstarcom_philstar_palaro\"],[\"274_mosquitoes_mosquito_malaria_dengue\"],[\"330_pilot news_nigerian_password_pilot\"],[\"359_prince harry_king charles_charles_harry\"],[\"264_jax_news jax_action news_unavailable location\"],[\"177_globaldata_alternatives_latest uk_latest explainer\"],[\"725_open access_journals_mdpi_journal\"],[\"954_wheelers_cons products_cons_delist\"],[\"38_food additives_release_additives market_additives\"],[\"899_syngenta_china_hungry_chinas\"],[\"749_jiangxi_head_canteen_orange juice\"],[\"173_toys_choking_toy_choking hazard\"],[\"774_footwear_leaders new_new uk_uk policy\"],[\"258_genetically modified_genetically_modified_gmo testing\"],[\"567_offaly_iceland_irish_ireland\"],[\"118_insight eu_insight_eu_eu environment\"],[\"461_candy_rolling_sun_lidl\"],[\"471_georgia_georgian_belarus_tbilisi\"],[\"6_cheese_listeria_cheeses_listeria outbreak\"],[\"321_salmonella_usda_poultry_chicken\"],[\"596_mangoes_ripened_gift account_data health\"],[\"963_erie_weather safety_text alerts_mug\"],[\"213_pet_pet food_veterinary_global pet\"],[\"681_devon_exeter_torquay_news devon\"],[\"566_kilkenny_crime court_read latest_ecolive\"],[\"819_drua_fijian drua_fijian_fiji\"],[\"752_raising_join renew_gardening_homesteading\"],[\"854_newswires_ein presswire_presswire_ein\"],[\"378_lavoro_di_votre_la\"],[\"800_bottled_water_bottled water_bh\"],[\"467_bacteria_nanotechnology_sensor_detect\"],[\"811_optical genome_genome mapping_mapping_genome\"],[\"364_cowpea_nigeria_nabda_result\"],[\"577_kildare_leinster_govuk_crime court\"],[\"741_curd_dahi_railway_railway station\"],[\"465_mumbai_noida_swati_swati maliwal\"],[\"180_china_xi_chinese_communist\"],[\"182_vietnam_hanoi_aa_vietnam news\"],[\"340_flour_medal_listeria_general mills\"],[\"287_africa magazine_safety africa_africa_magazine\"],[\"849_flame_bengals_salute heroes_nati\"],[\"600_kenya_tanzania_rest_science health\"],[\"850_stabroek_guyana_just 27_europe think\"],[\"96_ukraine_ukrainian_russian_russias\"],[\"663_indicates_search markets_stylized_click perform\"],[\"394_beverage_insurance market_beverages_beverages market\"],[\"837_mangoceuticals_mangorx_developing marketing_marketing selling\"],[\"707_sushi_japan_asahi_asahi shimbun\"],[\"436_kashmir_srinagar_jammu_greater kashmir\"],[\"309_sports esports_style money_esports entertainment_australia world\"],[\"848_cooking oil_used cooking_oil_biodiesel\"],[\"634_agrifood_capitals_brief_ukraine intelligence\"],[\"592_hills_allegheny_plum_penn\"],[\"395_temperature_food poisoning_foodborne illness_poisoning\"],[\"547_candles_safes_laceration_burn\"],[\"80_swine fever_swine_fever_african swine\"],[\"640_aktien_aktie_realtimekurse_nachricht\"],[\"913_values_monitor_christian_monitor daily\"],[\"919_globaldata_alternatives_explainer did_dairy soy\"],[\"447_profile_16c_virgin uber_travel podcasts\"],[\"672_slot_gacor_slot gacor_resmi\"],[\"505_documenti_pollution_sicurezza_ce\"],[\"691_story tell_tell story_submit story_economics markets\"],[\"326_salmonella_sesame seeds_sesame_elite\"],[\"425_packaging market_food packaging_packaging_beverage packaging\"],[\"531_eagle_berks_newspapers_reading\"],[\"594_tuna_histamine_canned tuna_fish\"],[\"994_military defense_markets loading_intelligence markets_loading close\"],[\"452_global news_caffeine_light dark_energy drinks\"],[\"671_gutkha_tobacco_gutka_masala\"],[\"198_baby formula_formula_baby_formula shortage\"],[\"826_halal_halal certification_vishwas_jan vishwas\"],[\"426_ideas_benzinga_stocks best_penny stocks\"],[\"357_sun_girl_money travel_esports entertainment\"],[\"400_peaches_nectarines_frozen fruit_plums\"],[\"383_kitchen_wash_cutting_wooden\"],[\"458_onewheel_pv_battery_lg\"],[\"506_coli_coli outbreak_wendys_lettuce\"],[\"864_jax_news jax_action news_unavailable location\"],[\"379_toxins_toxins fulltext_journals_open access\"],[\"107_disorders_cancer_disease_disease dementia\"],[\"700_taiwan_pork_taiwan news_swine\"],[\"936_disorders_cancer_disease_disease dementia\"],[\"832_hours ago_ago_hours_ago trump\"],[\"959_cards_buying guides_market domination_domination\"],[\"823_opinion podcasts_eb_bahasa_pacific china\"],[\"619_laboratory_news views_sterilising_medical diagnostics\"],[\"259_tesco_lidl_metal_cars homes\"],[\"486_troublemaker_pernice_fester_giovanni\"],[\"806_word_diseases_diseases liver_alternative health\"],[\"660_macau_macau daily_daily times_selectors\"],[\"229_bernama_slideshow_admin 22_mapo corporate\"],[\"336_pest_pest control_control market_biofertilizers\"],[\"407_evoke pharma_evoke_gimoti_quarter\"],[\"795_sterilization_disinfection_disinfection market_beverage disinfection\"],[\"104_hot topic_jd_custom_topic\"],[\"276_egg_eggs_egg industry_cage\"],[\"109_fox business_fox_factset_captioning policy\"],[\"694_baby shark_shark_bath_shark bath\"],[\"785_astana_kazakhstan_bishkek_24kg\"],[\"144_japanese_fukushima_hong_japan\"],[\"706_global news_light dark_dark_light\"],[\"391_agence europe_agence_policy report_european\"],[\"756_heydon_uga_food marine_minister heydon\"],[\"593_british_sleepwalking_uk sleepwalking_food fraud\"],[\"73_sweeteners_artificial sweeteners_artificial_sugar\"],[\"765_brain_cerebellar_memory_granule\"],[\"692_beds_bed_bunk_mattresses\"],[\"344_eye_cbs_cbs news_eye drops\"],[\"166_uae_digital printdigital_bundle epaper_printdigital\"],[\"432_story data_visual story_gift account_data health\"],[\"541_indigenous_scientific world_indigenous people_closer look\"],[\"328_zimbabwe_sierra_sierra leone_leone\"],[\"440_modern diplomacy_economist_diplomacy_diplomacy views\"],[\"618_msnbc_trump_et_maddow\"],[\"927_neovasc_medien_indizes_kurs news\"],[\"491_food robotics_robotics market_robots_robotics\"],[\"218_manage_asean business_starplus news_starplus\"],[\"571_asian games_uni_games_states east\"],[\"267_grain_russian_grain deal_ukraine\"],[\"518_rappler_newsbreak_rappler talk_brandrap\"],[\"670_ghost_junk food_food scraps_ghost kitchens\"],[\"796_high school_college_school_disney\"],[\"575_edt_20 2024_2024 0900am_0900am edt\"],[\"342_lithuanian_civil protection_ukrainian_western balkans\"],[\"615_eca_tires_olive_leads\"],[\"386_market news_urge congressional_coalition urge_fix california\"],[\"835_acrylamide_substance_burnt_carcinogenic\"],[\"44_syrup_cough_baby powder_trader\"],[\"810_labor employment_hot topic_jd_custom\"],[\"903_walmart_cards_eedition_mutual\"],[\"268_gift account_data health_opinion search_story data\"],[\"480_supplements_dietary supplements_dietary_protein\"],[\"484_safety day_world food_food safety_day\"],[\"148_foodborne_outbreaks_foodworld_pathogens\"],[\"745_agrifood_capitals_eu elections_capitals brief\"],[\"151_packaging summit_sustainable packaging_packaging_navigation item\"],[\"573_javascript required_redirected_javascript_enable javascript\"],[\"323_xinhua_peach_chinas_xinjiang\"],[\"324_salt_sodium_bishkek_classified education\"],[\"603_xray_inspection_mettlertoledo_inspection equipment\"],[\"805_ipo news_markets money_ipl 2024_ipl\"],[\"687_monsoon_spoon_husk_hindu\"],[\"791_benefits_health benefits_good health_nutrition\"],[\"208_pork_pig_china_chinas\"],[\"868_nestl_technology centre_proteins_dil\"],[\"350_profile_mail online_daily mail_bookingcom asos\"],[\"339_russian_russia_tass_section\"],[\"809_federal_posted site_cfr_prototype\"],[\"846_chains climate_involved business_procurement news_member states\"],[\"908_poison_warns eating_food make_mites\"],[\"569_harry_prince_prince harry_profile\"],[\"381_gossip_digger_group plc_kenya\"],[\"922_ctv_ash_cbc news_cbc\"],[\"298_pizza_charms_lucky charms_lucky\"],[\"415_lumpy_cow_lumpy skin_skin disease\"],[\"645_antwerp_fourth place_place house_crew\"],[\"83_eu_agence europe_agence_insight eu\"],[\"562_trade news_dubai_abu_uae\"],[\"302_swings_rockers_rock play_fisher\"],[\"698_human bones_easton_brook_bones\"],[\"886_bull_toto_minibus_nile\"],[\"666_mla_polling_rajasthan board_20240522\"],[\"385_hungary_hungarian_budapest_trademagazin\"],[\"317_education going_spotlight berita_sport motoring_viral spotlight\"],[\"295_cloud_security_vendor voice_vendor\"],[\"682_trade africa_tourism trade_development education_commission parliament\"],[\"539_commentary_earnings_calendars_biotech\"],[\"737_mooncakes_mooncake_moon_midautumn\"],[\"167_1month_paper betting_1month 1month_1month sign\"],[\"243_capri sun_capri_kombucha_kraft\"],[\"367_policy report_news european_european_eeas\"],[\"516_fukushima_taiwan_japanese_japan\"],[\"224_labgrown_meat_labgrown meat_upside\"],[\"272_checks_lamb_postbrexit_border\"],[\"136_agripulse_2023 2022_2022 2021_ag\"],[\"405_taiwan_affairs crossstrait_directory taiwan_entertainment variety\"],[\"508_serbia_agroberichten_agroberichten buitenland_buitenland\"],[\"867_rate today_elections 2024_portfolio_businessline\"],[\"399_iowa_sports iowa_edition account_manage account\"],[\"316_market news_nppc_bureau lead_congressional fix\"],[\"643_member sign_bond_got gift_time jail\"],[\"101_maize_kenya_gmo_gmos\"],[\"113_agence europe_agence_connection_connection fr\"],[\"56_ground beef_ground_beef_pounds\"],[\"497_ut_san diego_diego_ut store\"],[\"280_european_european health_eu_eu health\"],[\"676_law_life sciences_healthcare life_kingdom topics\"],[\"754_dubai_dubai municipality_municipality_emirate\"],[\"365_kerala_food poisoning_poisoning_ipl\"],[\"767_security documents_accessories security_electronics industrial_care clothing\"],[\"591_millets_millet_visual story_story data\"],[\"610_sausage_kielbasa_johnsonville_bob evans\"],[\"397_peanut_butter_peanut butter_cashews\"],[\"196_avian_avian flu_flu_ctv\"],[\"479_packaging_paper board_paper_paper industry\"],[\"515_food safety_foresight_uga_safety\"],[\"299_modi_narendra_narendra modi_gujarat\"],[\"286_africa_tvradio elections_receive news_opinion research\"],[\"992_intervention primary_longer term_decisive_epilepsy\"],[\"112_benzene_shampoo_dry_dry shampoo\"],[\"720_biological_russian_biological weapons_weapons\"],[\"502_africa magazine_safety africa_food safety_magazine\"],[\"223_asf_hog_hogs_raisers\"],[\"431_expand_moths_stuffing_tesco\"],[\"184_dishes_premade_pot_hot pot\"],[\"928_vegnews_vegan_vip_guides health\"],[\"778_cop15_biodiversity_warming_co2\"],[\"714_tea_tea board_teas_indian tea\"],[\"170_packaging_packaging market_flexible_flexible packaging\"],[\"679_bin_bin zayed_zayed_mansour\"],[\"658_ifc_algiers_agrofood production_agrofood\"],[\"649_cosmos_cosmos health_univar_univar solutions\"],[\"349_oatly_lyons_magnus_lyons magnus\"],[\"817_trans_trans fat_fat_exposed toxic\"],[\"612_albanese_australias_anthony albanese_prime minister\"],[\"753_website unavailable_unavailable location_law national_technology local\"],[\"94_nbih_ministry health_recall_yoghurt\"],[\"889_silk_spider_synthetic_newswires\"],[\"628_joes_trader joes_trader_informs\"],[\"801_bloomberg_products bloomberg_bloomberg terminal_company bloomberg\"],[\"722_oil city_readers year_casper_million readers\"],[\"883_mongolia_billion trees_development projects_trees\"],[\"528_insect_insects_edible insects_edible\"],[\"793_rice_health farming_gamechangers_lifestyle beauty\"],[\"738_labels_animal welfare_food labels_welfare\"],[\"456_morningstar_business telegraph_quarter_pr newswire\"],[\"590_leitrim_motion resolution_b9_resolution\"],[\"948_ben_lao_phnom_phnom penh\"],[\"999_brussels times_brussels_times_\"],[\"973_danish_leaps_accelerate transition_jeanine\"],[\"211_maize_kuria_gmo_kenya\"],[\"421_open access_journals_mdpi_journal\"],[\"493_rice_nasa_modified rice_fsanz\"],[\"898_collagen_cellulose_gelatin_neonatal\"],[\"472_cookie dough_dough_toll house_nestl\"],[\"683_water analysis_analysis_agrolab_analysis soil\"],[\"95_cantaloupe_cantaloupes_salmonella outbreak_salmonella\"],[\"786_wer_sind_wir_bilder\"],[\"923_budapest_executives_hungary_business people\"],[\"703_amr_antimicrobial_antimicrobial resistance_resistance\"],[\"696_buffalo_news tips_wkbw_weather alerts\"],[\"611_joes_trader joes_trader_dumplings\"],[\"132_commentary_earnings_calendars_biotech\"],[\"584_cyber_insurance news_claims_reinsurance\"],[\"626_illegally_sfa_new paper_kueh\"],[\"519_cebu_asf_tmt_nation\"],[\"975_toggle dropdown_dropdown_toggle_wok\"],[\"816_eit_eit food_continue reading_food innovation\"],[\"797_prince harry_king charles_charles_harry\"],[\"262_open access_journals_mdpi_journal\"],[\"924_g20_kebab_g20 countries_economic framework\"],[\"790_dhabi_abu dhabi_abu_dhabi agriculture\"],[\"560_buzzfeed_rnz_pacific_tasty\"],[\"313_open access_journals_mdpi_journal\"],[\"734_violations_cleveland_clevelandcom_food inspection\"],[\"882_hot topic_jd_custom_topic\"],[\"568_mustard_gm mustard_gm_environmental release\"],[\"841_government hospital_casualties_reported watch_pixar\"],[\"552_meet man_man used_iit_english hindi\"],[\"855_idaho_east idaho_idaho falls_rexburg\"],[\"661_2023 2022_2022 2021_ag_food policy\"],[\"254_supreme peoples_peoples_procuratorate_supreme\"],[\"282_sports esports_esports entertainment_style money_australia world\"],[\"370_buddha_purnima_capricorn_triumphs\"],[\"331_rwanda_new times_zanzibar_uganda\"],[\"953_guardian_cna_banga_female students\"],[\"542_utah_favorites saved_listings favorites_ksl\"],[\"653_magnetic_magnetic balls_sleep_balls\"],[\"825_edt_1000am_1000am edt_2024 1000am\"],[\"579_open access_journals_journal_mdpi\"],[\"788_meat_new republic_protein_meat consumption\"],[\"574_20240522_22 2024_22_netanyahu\"],[\"879_seahorses_guardian_snakes_toggle dropdown\"],[\"526_marijuana_cannabis_michigan_hot topic\"],[\"945_pheromones_pheromone_pests_plants\"],[\"389_charger_electric shock_usb_shock\"],[\"773_gov_biometric_search bar_gov website\"],[\"686_darlington_middlesbrough_northern echo_level north\"],[\"238_quarter_adjusted_fourth quarter_net\"],[\"977_luxembourg_luxembourg times_luxembourg business_eu elections\"],[\"91_realtimekurse_aktien_aktie_nachricht\"],[\"444_news5_news5 investigates_news5 originals_bostoncom\"],[\"631_slashdot_github_offtopic_dupe\"],[\"337_cadbury_chocolate_dessert_chocolate dessert\"],[\"820_market news_coalition urge_fix california_bureau lead\"],[\"633_sequencing_generation sequencing_ngs_rodenticides\"],[\"858_firstonline_hours ago_unicredit_piazza affari\"],[\"608_biological_biolabs_russian_weapons\"],[\"446_ultraprocessed_ultraprocessed foods_foods_adolescents\"],[\"123_bird_bird flu_flu_birds\"],[\"684_pangasius_shrimp_vietnam_tra\"],[\"705_ng_na_mga_ang\"],[\"466_open access_journals_mdpi_journal\"],[\"460_beijing_winter_winter olympics_shanghai\"],[\"862_hours ago_ago_hours_grenada\"],[\"673_commentary_earnings_calendars_biotech\"],[\"650_cultured meat_cultured_meat_plantbased\"],[\"322_italian_italy_veg world_zootechny\"],[\"368_flu_bird_bird flu_avian\"],[\"932_cotton_mission produce_mission_organic cotton\"],[\"439_onions_salmonella_diced_onion\"],[\"715_aromatherapy_spray_aromatherapy spray_walmart\"],[\"918_ground turkey_butterball_turkey_14000 pounds\"],[\"158_fruit_adblocker_message_date subscriber\"],[\"179_final_iyer_timing ist_telecast timing\"],[\"869_biscuits_oreo_crackers_oreo biscuits\"],[\"22_fruit_adblocker_message_subscriber receiving\"],[\"341_convertible currencies_convertible_philippine_bsp\"],[\"910_2024 20240521_20240521_anno_1800\"],[\"485_fruit_adblocker_time visiting_receiving popup\"],[\"917_meet man_man used_iit_english hindi\"],[\"944_primary time_ministry business_defeated_ladiess\"],[\"490_salmonella_ctv_kernel corn_ctv news\"],[\"742_rabat_navy_bariz_armed forces\"],[\"536_fruit_adblocker_message_global fresh\"],[\"675_weight_sun_pills_weight loss\"],[\"719_bss_new age_power energy_apa\"],[\"586_admin 21_admin_starfield_21 2024\"],[\"587_pelvic_endovascular_study examines_informa\"],[\"931_eipagri_eu cap_cap network_research needs\"],[\"900_word_cryptocurrencies_indicates_word markets\"],[\"747_plasma_gloves_cold plasma_plasma market\"],[\"380_market news_agribusiness news_fix california_urge congressional\"],[\"926_law_europe topics_firm_clients\"],[\"345_cnn_sign cnn_cnn account_food sleep\"],[\"885_cancun_coma_exhibition_architecture\"],[\"419_iceland_tesco_whats_expand\"],[\"203_il_delle_mondo_politica\"],[\"732_fda_human foods_foods program_califf\"],[\"762_catheter_catheter precision_vivo_rheumatoid\"],[\"828_georgia_azerbaijan_azrbaycanca_armenia\"],[\"412_wheat_bioceres_gmo wheat_gmo\"],[\"602_daily harvest_harvest_crumbles_lentil\"],[\"356_fabuloso_pinesol_bacteria_clorox\"],[\"581_campylobacter_resistance_sequencing_salmonella campylobacter\"],[\"780_lizard_mumbai_noida_delhi\"],[\"377_bird_bird flu_flu_birds\"],[\"853_womens voices_transport womens_screen music_eedition education\"],[\"463_huffpost_voices_pyramid scheme_pyramid\"],[\"934_coffee_decaffeinated_decaffeinated coffee_coffee market\"],[\"656_prince harry_king charles_charles_harry\"],[\"659_aktien_aktie_nachricht_der\"],[\"639_carolina_school football_cam_sports big\"],[\"769_final_iyer_timing ist_telecast timing\"],[\"815_coffee_drinking coffee_drinking_caffeine\"],[\"279_cheese_kirkhams_mrs kirkhams_lancashire\"],[\"902_binh_quang_giang_ninh\"],[\"576_fitbit_ionic_smartwatches_burn\"],[\"766_esg_esg news_weeks ago_news february\"],[\"777_sasa_eastern_counties_star\"],[\"373_marketers_fuel_petroleum_petrol\"],[\"909_newswires_lateral flow_ein presswire_presswire\"],[\"81_eye_eye drops_drops_eyedrops\"],[\"943_denmark_danish_news country_gastronomy\"],[\"888_zomato_haccp_food fortification_anemia\"],[\"65_pfa_psl_news psl_pakistan\"],[\"307_ice cream_cream_ice_big olaf\"],[\"570_ruto_kenya_raila_william\"],[\"812_newsbulletins_nlr_biometrics_publish\"],[\"802_bumble bee_bumble_pedigree dog_pieces fda\"],[\"989_word_cryptocurrencies_indicates_word markets\"],[\"527_starbucks_frappuccino_mugs_vanilla\"],[\"160_abbott_formula_baby formula_infant formula\"],[\"644_negros_tmt_negros occidental_occidental\"],[\"545_rahul_hyderabad clash_vs sunrisers_riders vs\"],[\"799_ctv_ctv news_vancouver_news ctv\"],[\"718_urine_bacteria_multidrugresistant_supermarket meat\"],[\"761_breastfeeding_formula milk_breast milk_mothers\"],[\"836_recycle_gear_green economy_waste collection\"],[\"372_ctv news_ctv_search ctvnewsca_ctvnewsca search\"],[\"708_shook_hardy_hot topic_jd\"],[\"847_penang_classified education_sport motoring_viral spotlight\"],[\"982_macrophages_lanzhou_orcid_alveolar\"],[\"227_chicken_nuggets_tyson_pounds\"],[\"99_flu_bird flu_bird_avian\"],[\"695_pei_potato_wart_potato wart\"],[\"743_soil_grassland_breeding genetics_crops\"],[\"831_22 2024_chico_22_draghi\"],[\"553_japanese encephalitis_encephalitis_foot mouth_mouth disease\"],[\"305_dates_food waste_waste_best dates\"],[\"601_eggs_salmonella_ica_sweden\"],[\"512_vitamin_supplements_deficiency_folic acid\"],[\"48_realtimekurse_aktien_aktie_nachricht\"],[\"674_kr_korea_nk_dprk\"],[\"842_3d_3dprinted_cheesecake_printing\"],[\"937_iyer_shreyas iyer_shreyas_kkr\"],[\"890_dot com_dot_com_agencies\"],[\"413_ctv_ctv news_w5_ctv national\"],[\"881_aerofarms_indoor vertical_indoor_vertical farming\"],[\"960_allegro_allegro microsystems_microsystems_crocus\"],[\"852_cooking spray_71 million_balloon_fireball\"],[\"949_stuff stuff_stuff__\"],[\"976_edt_odds_matchups_pga\"],[\"814_stuff stuff_stuff__\"],[\"14_formula_baby formula_shortage_baby\"],[\"843_realtimekurse_jones sustainability_aktien_aktie\"],[\"120_adblocker_cultivation_time visiting_daily stay\"],[\"838_iyer_srh_shreyas iyer_shreyas\"],[\"813_prunes_water_sparkling water_hydration\"],[\"124_virus_fever virus_journals_open access\"],[\"964_malaysia_page link_ago_link page\"],[\"794_agricultural policy_agricultural_common agricultural_agrifood\"],[\"225_iyer_srh_shreyas iyer_shreyas\"],[\"857_iphone_apple_ipad_windows\"],[\"950_site archive_archive 2024_podcasts photo_news multimedia\"],[\"607_biggest_stocks biggest_stocks_companies biggest\"],[\"821_foxconn_apple_probation_dorms\"],[\"733_starbucks_coffee_expired_expired ingredients\"],[\"589_cocacola_sprite_minute maid_maid\"],[\"277_aktien_realtimekurse_aktie_nachricht\"],[\"952_arteries_toxic metals_clogged arteries_clogged\"],[\"840_strauss_elite_salmonella_chocolate\"],[\"448_iyer_srh_shreyas iyer_shreyas\"],[\"784_mince_mince pies_pies_metal\"],[\"929_univar solutions_univar_medien_indizes\"],[\"893_fishing_iuu_iuu fishing_illegal unreported\"],[\"423_fox 12_oregon_hunger project_city remix\"],[\"807_chocolate_chocolates_kinder_ferrero\"],[\"578_subscribers_paris_leaders international_intimacy\"],[\"498_server_overloaded_timed_524\"],[\"504_kobayashi_kobayashi pharmaceutical_supplements_japanese\"],[\"930_zone_hydrogen_gases_buyers guide\"],[\"946_bayer_supreme court_weedkiller suits_suits\"],[\"987_och_pc_mina_macos\"],[\"951_bord_bord bia_bia_beef\"],[\"783_yearbook_news magazine_databases_edizioni\"],[\"912_birmingham_tornado_shot_shot death\"],[\"623_meat loaf_loaf_patterson_erin patterson\"],[\"735_admin 21_admin_d1softballnews_health admin\"],[\"535_pork_korea_yonhap_swine\"],[\"776_tmt_weather classifieds_tv tmt_tmt tv\"],[\"424_asf_cebu_pork_superbalita\"],[\"548_inflation_gvh_prices_basket\"],[\"250_farmers_protests_tractors_protest\"],[\"500_swine fever_swine_fever_african swine\"],[\"366_adblocker_site getting_message enable_date subscriber\"],[\"108_pigs_african swine_swine_swine fever\"],[\"730_iyer_srh_kkr_shreyas iyer\"],[\"771_upsc_indian railways_trains_railways\"],[\"991_disorders_iron_alzheimers_brain\"],[\"668_admin 21_admin_21 2024_business admin\"],[\"860_iyer_srh_shreyas iyer_shreyas\"],[\"740_fox_fox news_atlanta_news fox\"],[\"744_commentary_earnings_calendars_biotech\"],[\"996_recall started_vodka_newswires_imminent\"],[\"958_high tide_transportation_auto transportation_news releases\"],[\"605_family dollar_dollar_infestation_rodent infestation\"],[\"664_peloton_bikes_exercise bikes_million exercise\"],[\"822_liberia_finance investment_special feature_ecowas\"],[\"969_edt_0900am_2024 0900am_0900am edt\"],[\"509_expand_cardiff_swansea_rugby football\"],[\"993_cards best_credit_credit cards_cards\"],[\"866_mushroom_mushrooms_mushroom poisoning_abc\"],[\"392_heritage_heritage foundation_spending_budget spending\"],[\"798_federal_federal council_federal department_switzerland\"],[\"595_family dollar_dollar_dollar recalls_toothpaste\"],[\"957_postgraduate_quantum_stem education_programmes\"],[\"896_deals_global travel_destination_florida hawaii\"],[\"808_eggs_salmonella_eggs recalled_egg\"],[\"925_representation_causes cancer_cancer_choose\"],[\"724_morrisons_asda_morrisons asda_recall cheese\"],[\"865_iphone_iphone 12_apple_iphone users\"],[\"654_salman rushdie_rushdie_interfaith_opinion travel\"],[\"583_rt_kinder_easter_eggs\"],[\"241_kinder_chocolate_ferrero_salmonella\"],[\"652_open access_mdpi_journals_journal\"],[\"971_vs sunrisers_vs_kkr_hyderabad clash\"],[\"147_peanut butter_peanut_butter_jif\"],[\"257_kinder_kinder surprise_ferrero_kinder products\"],[\"759_buitoni_pizzas_nestl_buitoni brand\"],[\"874_web application_javascript use_refresh_enable javascript\"],[\"709_billion meals_meals_mohammed bin_mohammed\"],[\"915_beloved pets_rescued_stayed_volunteers\"],[\"263_fukushima_japan_wastewater_nuclear\"],[\"873_uae_00_dubai_00 00\"],[\"871_washing machines_washing_samsung_machines\"],[\"474_21052024_turkish_0105_bulgarian\"],[\"728_chip challenge_chip_challenge_teens death\"],[\"711_france_residency_visas_people interviews\"],[\"712_democratic party_democratic_officers near_closed employees\"],[\"887_fox business_fox_factset_captioning policy\"],[\"487_ferrero_kinder_arlon_factory\"],[\"895_auction_charity auction_plate_billion meals\"],[\"905_admin 22_admin_admin 21_cassel\"],[\"904_poppy_poppy seeds_seeds_blue poppy\"],[\"572_study centre_world champs_champs_editorial supplements\"],[\"980_zantac_drug zantac_heartburn drug_heartburn\"],[\"417_realtimekurse_aktien_aktie_nachricht\"],[\"792_calmaine_egg producer_calmaine foods_flu chickens\"],[\"768_pharma_drugmakers_ipl_india\"],[\"549_voice nigeria_prev_nigeria_lg\"],[\"613_vaccine_vietnam_fever vaccine_african swine\"],[\"717_dark chocolate_gummies_dark_chocolate\"],[\"870_mumbai_noida_sabha election_bomb\"],[\"956_talk radio_ottawas_580_talk\"],[\"941_tillage_focus_beef_sheep\"],[\"981_final_kkr_updates today_final watch\"],[\"736_barry callebaut_callebaut_barry_chocolate\"],[\"824_lrf_prices domestic_stud_domestic pork\"],[\"750_robitussin_cough_honey_robitussin cough\"],[\"933_phathom_phathom pharmaceuticals_voquezna_vonoprazan\"],[\"621_skittles_titanium dioxide_titanium_dioxide\"],[\"789_nitrites_nitrates_anses_charcuterie\"],[\"699_indiana_indy_multicultural_zone\"],[\"856_cups_bottles_lead poisoning_sippy\"],[\"911_pufferfish_taste_asahi shimbun_shimbun\"],[\"894_haitian_soy sauce_sauce_soy\"],[\"965_20240522_apolymeni_antonis_theater\"],[\"914_seminars_peru_chile_mexico\"],[\"906_cbs_chicago_target recalls_recalls 22\"],[\"529_kobayashi_red yeast_yeast rice_drugmaker\"],[\"844_nitrosamines_compounds_efsa_nitrosamines food\"],[\"685_aspartame_sweetener_coke_diet coke\"],[\"861_mars_magnum_mars wrigley_wrigley\"],[\"731_job_job job_sign create_salary\"],[\"979_asf_dr_assange_war terror\"],[\"947_granola_fox 12_news5_catalina\"],[\"985_military defense_indicates_story health_food health\"],[\"986_diet coke_coke_cancer treatments_cancer\"],[\"938_roundworm_womans_brain_python\"],[\"775_plantbased_fulfillment_onestop shop_vegan\"],[\"891_scitech culture_opinions scitech_americas africa_documentary\"],[\"839_yeti_coolers_spokesmanreview_spokane\"],[\"972_norvasc_edo_tablets_5mg\"],[\"892_sultry_boat_turnout_dam\"],[\"998_stuff___\"],[\"961_eagle_berks_newspapers_montgomery county\"],[\"228_aspartame_sweetener_carcinogenic_possibly carcinogenic\"],[\"872_aspartame_cards best_rt_credit\"],[\"995_silvio_berlusconis_gaffes_quotes\"],[\"997_jax_news jax_action news_unavailable location\"],[\"962_jax_news jax_action news_unavailable location\"],[\"939_companies products_services software_products services_activated carbon\"],[\"284_quaker_granola_quaker oats_oats\"],[\"984_supplement_cholesterol_26 hospitalized_hospitalized\"]],\"hovertemplate\":\"Count=%{x}\\u003cbr\\u003edov=%{y}\\u003cbr\\u003eName=%{customdata[0]}\\u003cextra\\u003e\\u003c\\u002fextra\\u003e\",\"legendgroup\":\"\",\"marker\":{\"color\":\"#636efa\",\"symbol\":\"circle\"},\"mode\":\"markers\",\"name\":\"\",\"orientation\":\"v\",\"showlegend\":false,\"x\":[217,464,254,262,77,316,86,108,262,62,237,351,169,115,244,287,263,155,218,394,188,308,421,297,187,311,304,141,225,24,319,202,290,537,109,332,189,153,400,170,74,242,243,213,43,82,166,210,41,248,100,118,230,227,231,129,110,116,22,264,245,52,127,288,141,55,137,202,162,109,148,158,233,148,228,163,275,283,214,256,219,105,349,93,171,116,82,167,138,179,273,147,179,190,259,199,17,110,105,216,188,180,10,116,176,215,72,122,157,78,40,77,177,21,121,255,86,124,158,71,194,77,135,83,27,61,100,132,130,226,86,151,234,74,297,242,128,133,148,129,168,148,252,154,222,75,87,344,162,69,135,252,195,292,228,62,236,49,216,151,156,172,175,275,160,174,45,45,120,204,129,220,68,86,137,43,198,90,111,66,131,248,143,53,105,105,69,34,232,173,167,120,170,283,21,66,284,68,110,72,169,64,142,72,170,66,102,132,136,67,57,187,160,70,82,91,141,116,443,142,63,231,69,143,81,137,151,132,38,85,89,83,214,229,127,16,70,101,74,86,327,73,185,111,151,81,121,203,108,42,146,162,49,73,148,127,101,37,107,50,177,53,39,65,19,16,96,65,168,7,88,54,52,122,52,79,95,272,47,71,98,72,99,250,69,87,111,55,20,14,76,78,57,166,115,131,74,135,130,61,98,109,130,57,159,69,216,6,208,43,89,53,19,23,68,71,51,276,70,45,85,42,94,52,141,39,83,29,24,128,81,62,160,34,128,125,122,6,42,78,84,119,148,72,28,138,158,62,164,69,129,190,53,63,34,55,126,82,43,13,68,21,78,103,41,166,108,81,55,100,78,84,27,111,96,9,116,170,48,98,126,198,165,75,35,229,90,36,25,56,126,67,73,30,54,88,38,46,66,8,46,51,35,116,22,27,50,135,9,48,100,45,124,111,78,139,51,52,184,35,100,83,214,33,116,130,106,125,89,64,33,46,36,33,34,67,31,61,41,53,92,36,35,9,27,76,85,82,217,30,94,18,50,51,43,147,107,13,61,8,65,53,105,9,98,121,106,98,124,155,39,11,256,19,36,158,33,125,61,187,77,75,360,108,55,9,138,44,61,29,36,24,94,30,76,29,97,58,37,76,154,152,104,117,24,55,24,202,46,89,27,42,82,110,24,51,56,89,65,216,50,18,16,80,45,70,43,107,83,67,55,4,78,45,143,28,83,99,88,93,78,70,23,94,191,42,13,27,10,28,53,125,73,29,47,133,105,86,30,195,120,190,43,32,169,42,90,35,56,219,34,43,102,159,82,65,106,81,53,15,72,135,60,123,69,45,30,59,103,53,91,27,252,29,19,122,74,73,167,36,166,60,107,107,55,30,44,31,139,22,101,104,29,25,18,60,93,16,114,85,50,215,61,111,42,20,46,92,108,115,44,66,37,159,129,97,69,134,121,172,87,70,22,89,109,50,198,189,235,71,120,45,36,97,34,56,54,89,146,74,69,112,118,5,190,40,71,134,82,151,14,33,41,158,45,47,49,101,29,54,36,203,20,52,30,39,21,67,31,37,78,56,12,1,8,138,84,72,19,75,44,203,31,15,42,43,54,174,57,52,69,8,29,30,125,15,31,62,109,37,21,60,26,63,24,47,126,120,96,105,11,65,48,28,58,31,60,21,67,12,90,34,44,130,8,204,81,52,105,28,51,24,54,80,182,44,42,76,77,23,45,48,108,97,14,82,41,17,163,154,22,289,104,18,73,17,12,72,36,66,45,40,56,56,14,19,36,94,15,102,20,85,142,38,35,28,86,55,100,57,33,94,24,77,14,48,47,51,34,29,120,19,59,34,33,95,18,216,13,20,229,110,60,29,30,6,67,162,50,65,30,40,35,27,96,42,25,7,133,201,43,36,27,63,111,55,69,246,45,26,13,19,86,21,10,24,12,8,29,314,25,186,26,29,182,9,30,134,24,12,54,28,38,56,120,11,26,79,32,14,19,83,29,58,71,70,14,12,6,11,32,18,53,37,66,33,83,65,127,71,97,191,38,34,6,46,24,37,36,3,10,55,46,28,9,70,5,23,89,30,55,10,19,29,15,39,23,48,57,129,48,8,168,125,35,22,41,17,125,22,22,74,38,41,41,20,73,19,19,19,60,7,85,31,34,65,54,40,22,10,13,7,37,28,36,14,53,31,42,24,18,19,9,17,18,67,25,44,23,38,7,12,6,6,13,33,19,26,8,19,1,10,133,22,4,2,10,13,118,6],\"xaxis\":\"x\",\"y\":[1.7306554327742982,3.9192382351260084,2.1778873441594557,3.752151296836059,0.7492352645657845,2.595524185096075,0.7488440768863556,1.2157560879093554,2.3734549941623313,1.336105479542171,2.1740924915492843,3.8730233201130058,1.3651422433497784,1.0317975488751328,2.3449639484206615,2.9616824490696247,2.678782771631914,1.3940386370247873,1.7503291545495738,3.858812824345455,1.9406060710975173,3.2692595822721064,4.333566179929223,2.8805810963552725,1.6351700145687524,2.812934817415639,3.0458715175968423,1.2306221228890404,2.2113699708140455,0.5413594774085578,2.9600350492377756,3.912233952732171,3.0167435420812625,4.8671085065375985,1.0200536556023563,3.268835115122542,1.726921833993769,1.5526489364036715,4.225498933288822,1.5863990172638684,0.9164961185171866,1.872041467602972,2.3424320171728232,2.0177365261457805,0.660252837590559,0.870108001930383,1.552546769009118,1.6245733755798686,0.9872429125946419,2.4161520646453134,1.0311583447136485,1.0891265875788485,1.855764085578748,2.0862655966312738,1.6840938781762762,1.4787715684448808,1.047918540415862,0.9914278820768623,0.9019212907134923,2.687136153783178,2.366136646295835,0.8041516795926863,1.2117947415170227,2.727481323035084,1.435068664773457,0.7098734574791983,1.3085192313599352,1.8647949612394341,1.5325846699265644,1.1521746227734495,1.4934329358692988,1.4904408638984745,2.1453822261112303,1.4202886046778902,1.7571936320650359,1.5352524769511902,2.6523984660480133,2.9309582382667525,1.7729613859781854,1.3341081338494274,1.725416406179595,0.9918640376591598,3.656290796312758,0.9577769837376428,1.9020744498177768,1.197404554395681,1.128493878653437,1.4792790413428734,1.4221622208460103,1.5093220882325395,2.569676029122128,1.429954519845524,1.845734501052143,1.9160838278351409,2.4339604751857133,2.053456914678607,1.7893663702658364,1.1297116065316932,0.9977031796442983,1.9802252055610894,1.307042572508143,1.7913631407802375,0.5466910816370271,1.2767366134164069,1.7387192774998206,1.8469948893567247,0.8340835934392388,1.4752666351039965,1.443265852570374,0.8213343265845423,1.4372287750710337,0.780796141542426,1.6598776728810771,0.8201334882062395,1.1764127630512793,2.614304837101336,0.7762130389674851,1.130752719370331,1.4106230949196128,1.0493206889080495,2.0414442733708316,0.7981691713858996,1.2142768643258859,0.885549357270808,0.9095784091411764,0.7764026480240883,1.138433632942113,1.217198970487954,1.3218313071852126,2.1151560145976602,0.8070670383138535,1.4002914696824267,2.118781744193684,0.7808406978252893,3.0085533250974934,2.4902547209267603,1.4302691241730165,1.5062626292662016,1.5001336886606425,1.2300841622014518,1.5623292617610596,1.4828294971277831,2.49701068221956,1.2426827571607362,1.7343024524656376,0.8168561941576665,0.8559287747263402,2.6270453280084487,1.8092418803760362,0.8420591875009428,1.3076532613006364,1.4093408811350279,1.6898085516371806,2.381274919044384,2.137674451894325,0.721806977024609,2.008714713411523,0.7157434609543537,2.195151610162148,1.3455304086663658,1.5231296477001832,1.6887139571776817,1.5521926326191324,2.504790908785069,1.0737617174866527,1.5671866460376678,0.5791368863753658,0.6352589156627697,1.2277969967869216,2.15021301131745,1.3674862255266549,2.261712109356018,0.7982325390625779,0.8332694187184744,1.3848086595264573,0.7078073858672723,1.8536780618195963,1.0239735463502755,1.160222197170123,0.7039319503212121,1.2612852868124098,2.2883448709942984,1.498006594579585,0.7081335963201414,1.0542714149334478,1.0483919366026901,1.0049821915637065,0.5890313733812348,2.125258470734823,1.758083438995359,1.6567010380893525,1.2190238601031427,1.7367619592771881,2.641596313154868,1.9272365174094104,0.6705791416093383,2.575516519757967,1.0119557223515772,1.0680901921615231,0.5663733022662155,1.7466293371750374,0.7409838645166688,1.4232496340718146,0.8447200725758622,1.4966890269592326,0.9655246667312419,0.9644319049318067,1.344756235520974,1.191005270528003,0.6519634041148762,0.7256957436863407,1.6842860864628835,1.3816905042721659,0.780928874626675,0.7803120431231003,0.9326022075157333,1.4808691862193484,1.2052119331843754,4.329328213797808,1.4590431044095646,0.6888451211382108,2.227749290863505,0.7364096878624723,1.1930754743153813,0.8315116778890168,1.2658132380117282,1.474869032773798,1.5064901011849388,0.613665522355947,1.0530392810868217,0.8461365494196866,0.8632180402987267,1.9312817289430328,1.5148605251934844,1.3112848101458876,0.7835242899742855,0.7081305505062291,1.0053740970770315,0.7661285006718942,0.9416196465001845,2.3329986452386953,0.8076771082892567,1.6380906368029364,1.0777577096743935,1.2928905813537184,0.8849032999344125,1.0903827174379974,2.105864843075331,1.193135225015064,0.5602979948333022,1.506501362165673,1.5550573153193779,0.6666009454868296,0.763421692034881,0.9586877385792026,1.3427868599041823,0.9833736534393435,0.7317629507454817,1.183144533380386,0.6234937121880654,1.7225160092399203,0.6663573669411236,0.5865457792215649,0.7029187380418683,0.6166790698107394,0.39981294995648514,1.1133761759012175,0.7802928287612929,1.5058170906924704,0.48295816151670123,0.9384222542815664,0.6103271983365656,0.6528643028241601,1.3794200659155997,0.5685057999178521,0.8729068696379878,1.1595171003865241,2.677099711309114,0.6802077133177536,0.7388525461048664,0.9399853322421284,0.7888953835825396,0.9487321832590747,2.6444888712446133,0.7935661101014799,0.8877864898994909,1.0685784903389615,0.6197119781915407,0.4873568448434925,0.4944150705168981,0.8825904605844513,0.731004407374588,0.6987034992161903,1.6766185312112916,0.9972728671592928,1.086297296555752,0.7360562751602783,1.403097265898864,1.4035512705686486,0.6750204667410334,0.9991042228043355,1.1267400301773018,1.283970121398134,0.79938898000403,1.40077126653612,0.7437003411233115,1.9743833246506797,0.92729593969653,2.044239086607282,0.6932076162218176,1.0925150343395205,0.8907276679942872,0.5761698764042534,0.5376532667863618,0.865653895666808,0.8251220937173721,0.7763601662626879,1.2257526162310382,0.8823225103807758,0.6532913714246484,0.97603557228369,0.5461160789665077,0.9651860005500845,0.6715838355683995,1.4347319116715354,0.5390117349088557,0.8990487433637061,0.6096210845642482,0.49921046101836697,1.2651075826143603,0.7699645870717484,0.7122718502756297,1.5798303038748918,0.44741336947319427,1.144561088242039,1.3306129746380102,1.175698156930398,0.44496204564451713,0.566801193957525,0.7910813775183965,0.8831603845562304,1.1089297659733204,1.512263839467474,0.8192782423020087,0.6268815336135969,1.2010018089067511,1.5244998177542197,0.8247577268336203,1.6931934109531304,0.7472832229070995,1.3434261458784138,1.7142079200329703,0.656244181011253,0.6842822353753392,0.47492461230501726,0.6174450649536953,1.1305782134835516,0.8558044990877746,0.6169520269118018,0.4526945991242717,0.7094510023759035,0.4682241479890502,0.8236341022960413,1.056641999632927,0.5899881894664727,1.5193981623296016,1.1183455727775615,0.9153918473789706,0.5850983560701781,1.4964309228136132,0.8445182804462732,0.9625727990405136,0.4802996923039038,1.143023340859015,0.8984532801326268,0.5407509707266692,1.0672859091833102,1.5367571687749149,0.6739567979441002,1.0081906122431203,1.1975544123493083,1.542876667420187,1.583987352827532,0.7879654809802554,0.4773969745548727,1.9688089866292287,0.941745047411534,0.5435999188638119,0.525211323103746,0.7877824897711067,1.3226272783499886,0.7827909593247305,0.7641317895340145,0.5186937371102037,0.7006615212642407,0.962564009896639,0.4982993907689968,0.6628263774799985,0.9386112128148941,0.4474477492825662,0.6645682559853092,0.6606718140018779,0.8566890103839508,1.0703889859204623,0.6406156628626153,0.4231516797087157,0.6341502133512937,1.0323677607166881,0.41972966829799085,0.6109541980106967,1.0324887350539147,0.6608576502007618,1.1760112732312973,1.0526530761861843,0.7777648182789728,1.4530723614223355,0.8782584440806583,0.7049511073005086,1.7740650430782106,0.5611553190986867,0.961101516465663,0.9587434116540119,2.2916036414974634,1.0620198049038172,1.1372017485073083,1.2725707643942037,1.0760951243106498,1.1593722833155296,1.026525934733249,0.7237759495787505,0.4760637725084438,0.5382832847083703,0.6633063273538817,0.6464179593199197,0.5746846643261382,0.6958771077298147,0.5279257478247517,0.7821485893375336,0.5945001792674417,0.7565392844815018,0.9197076139728799,0.5330735752117567,0.5026397896227437,0.44073496672631146,0.4746120877120977,0.7552975883291483,0.8485797938152705,0.8284028038873492,1.9971989376416421,0.5046977023002888,1.1261520165517314,0.41975813865740774,0.5875012523902224,0.6375272904474913,0.5850899497989976,1.4520567825807145,1.1562571026605728,0.38519733305504006,1.0449684439311238,0.6494573631900893,0.6972285394596127,0.642202213749493,1.0627428722026406,0.4490206709775674,0.9300257483627096,1.0542866980236603,1.1117096598533938,1.0782018461690515,1.1720298951080081,1.5488821806894082,0.5322572285680004,0.4904059431309291,2.400925903136213,0.4267897786502347,0.5087162244722345,1.6555287036971376,0.5472762928344325,1.3031009024179565,0.6533165137696312,1.7776737243589233,1.1363778785817782,0.7676833210794205,2.317583823370201,1.0258059281078407,0.6225724880810894,0.5416620608486101,1.2388078575486363,0.6392584581636224,0.7675586372423168,0.6418900132833482,0.4963472059358576,0.4567942641262361,0.9254955596427834,0.5434009472825799,0.8620174532198523,0.39905377387959307,1.0107615355655177,0.7359936725534925,0.6490749996852941,0.767184911104481,1.4929631183914889,1.4233882942035172,0.8757726704717821,1.1228480491001445,0.48252744892885435,0.7569312971413319,0.45546131357547115,1.979639636080653,0.6868144471089126,0.8913380290934775,0.644846907437854,0.5827998145744707,0.7608607866412588,1.0652304232219838,0.40842847725938564,0.6328819447236075,0.6563902204174837,0.8875731763465844,1.03677157635186,1.6736395495516287,0.6746578625433163,0.4471054047814574,0.3797330204281566,0.7781735795900381,0.6999620463194598,0.7305828141278988,0.6252723514354463,1.0702457755381478,0.8340114599904652,0.7134074024081672,0.614514495811739,0.32356087031893105,1.0263029360091298,0.7323849447958859,0.8539921280106789,0.7392894944939851,0.9092024524204114,1.132309438343504,0.8330010511380509,0.9348972640056492,0.8583050516912702,0.6624821781652686,0.5587410176244215,0.9619695784641442,1.7609187376258817,0.5883036975725798,0.36910629232451625,0.5695808091587155,0.39473333643358965,0.4762056517051871,0.6597721609547691,1.2273832186373004,0.7100870466585344,0.5745338056277097,0.6567415133558226,1.1793850212416224,1.0502157390609794,0.9296801241458218,0.5063929063106716,1.9010557123129985,1.2167423397362214,1.8957949242147245,0.6545230228704275,0.47504774243390274,1.2738518913142751,0.5275062408082131,0.8236116840273578,0.515516935598888,0.5493341842453576,1.3747077200151798,0.49362042933049016,0.9116492379912513,1.2416579351313668,1.5365122991749545,0.9954275690672683,0.6983855876175018,0.878900493138186,0.7562527467128758,0.6922517413780945,0.434390857288875,0.7468962295593932,1.196933097126722,0.7026299948741115,1.1513951743849877,0.8072094693085435,0.5794239111111521,0.6253112752756783,0.6562814423242338,1.05580214309753,0.5786297992097433,0.9759835323067304,0.49876602221412764,2.284668867886413,0.7051825783943713,0.5566069239623949,1.0787997668052791,0.7356588042819474,0.6521614716785097,1.655666527510763,0.5687066243408787,1.5522702977934493,0.731371708655997,1.1000669769545002,1.0589031069290178,0.6457843620290253,0.48659463124553326,0.5661926326175268,0.5445482509580393,1.3202912197194088,0.3988841515904199,0.845556397893572,0.9906854154541652,0.4681614692429498,0.5222639036973258,0.5063607012580097,0.7376955136141501,0.959922815390379,0.47053036736383524,1.042808301042904,0.8489731149220787,2.0134434822576748,2.08103204553943,0.7623834122752065,1.060860201980841,1.6798905640091686,0.856221393022291,0.9895209761114796,1.0651197025295038,1.1513380564459221,1.064687076695298,0.561923831919037,0.7347877853268616,0.9730611685680128,1.7951989967241546,1.0865556614251681,0.9821234115439698,0.7508918237634328,1.0911190371833985,1.2714432221696361,1.654024232516032,0.8740727630590732,0.7655775932051329,0.5321114660656824,0.917426175221512,1.1385275232905627,0.6950641993231291,1.464647397966648,1.7714052917440533,1.8869544799404192,0.827690714234827,1.209026221437097,0.6423932658217416,0.722220100836569,0.8896615021339346,0.513370271387748,0.6922068127915392,0.8938420661307152,0.9453093838222453,1.2324852080906863,0.8336781434024941,0.7696843570363149,1.1346145842454194,1.2149313497963234,0.8183650408664835,1.0128636345045914,0.6021785599838343,0.9756452785413635,1.4737811676882335,0.8557802534499461,1.5163816914198842,0.40421111302964796,0.6274174253837344,0.650997164984655,1.6018876198943266,0.6097554978411273,0.5845663696230615,0.7057923846688081,0.7811330061339603,0.5757169062770137,0.636259494313657,0.5661923754427055,1.9406179427966783,0.4789809850661421,0.7933563069760792,0.6264402451853102,0.520068641167494,0.4420668716151614,0.7796308305172902,0.45004138627730594,0.6032283184040773,0.9969329641346489,0.7011192027039114,0.4427790102289641,0.39904229848363953,0.3679237813134129,1.0213102726364218,0.9726191120566285,0.8057168672562062,0.52994476566901,1.060172870844558,0.6470094549619202,1.178847470714344,0.4725532409598359,0.4698139478066095,0.682939210022088,0.6119506170338115,0.6108829454005666,1.8042036129283525,0.6752896275049974,0.699104267951419,0.786228154995488,0.5096060293680263,0.49582316495215223,0.6663856217667842,1.1660349162357748,0.6692919543829113,0.6317880011576301,0.7701275633717526,1.0943122272805916,0.5499538496736702,0.46957011355347705,1.0292269876670126,1.6057580435144794,0.7832046069765604,0.5595651947962116,0.6631644487565466,1.2535168117437097,1.241016300255041,1.278314846704043,1.0528737278077547,0.47604977039570395,0.6981003511439884,0.5837900012467961,0.4790841531137722,0.7480525404372568,0.5444528397841256,1.228393221066161,0.4558944482871708,0.8786613162324666,0.5107326708946639,1.0057104394757646,0.5335765604193611,0.6240494894262846,1.0282120104179457,0.3688753252059566,2.197291870525373,0.8648218334727656,0.6215401999661181,1.0759206894481776,0.4799589893435172,0.656204178851818,0.47390632770237806,0.5201104876907974,0.8339662386533396,2.024331347213239,0.5941586602737611,0.7038354852693045,0.9446031813006707,0.7803828303158228,0.4844381574253442,0.5591772027348583,0.6095040044289942,1.1126729418685248,0.8674849448540687,0.5910296081552759,0.8927680479304533,0.7219073235790844,6.938775510204084,1.5572355144048364,1.578722708708418,0.5690961386395889,2.780132265783943,1.21689601255205,0.9067732838292618,0.822708819259934,0.5363201409639969,1.0472825893913753,1.0380572564421784,0.9317549457481489,2.9150044514905673,0.549612759301117,0.5197261650460627,1.0435844196827317,0.8757454996504326,0.4121738930974821,0.5639462013177546,0.5778195187044907,1.156950051044012,0.6134700675011588,1.1046896721839423,0.5260385623553459,0.9004974719880374,1.0516462962702728,0.588945834151264,0.6556804940140109,0.49362252441239707,1.0668146486442442,0.6517719025411557,0.7712406869657576,0.8052241135132756,0.5172525597896374,0.9676127660418884,0.40599248931165904,0.7798858774092965,0.4441640414626381,1.1629240981737012,0.8453974932457795,0.6706706721818025,0.6940418290193626,0.47319512990050555,0.8907521491845747,0.42356387261829026,0.7079067038205034,0.46495094299164813,0.6226108814035088,0.9078293964500044,0.417520737041006,2.0782228165784193,0.3756949933395493,0.5149867377423065,2.1875074978441122,1.0115951453661587,0.7537074083304023,0.5886943188023153,0.5777805997266641,0.3268774972884194,0.778609640924917,1.111629480886084,0.8454052254036428,0.9452524917821955,0.46714692137178504,0.5366304589212886,0.5728615944774982,0.46566880282032164,0.9632834047762565,0.5130832743217694,0.5842902235119053,0.3178749136645241,1.0215966373657512,1.773552307703871,0.6623485566766241,0.6378317819697249,0.7235917964383629,0.864146537503187,1.1932893581782875,0.9035706599629025,0.7455107185704041,2.8277560224799063,0.597940672601813,0.6493127469654155,0.45467630238077045,0.4320951576511737,0.9527885494172097,0.45752377402101335,0.6373765434808828,0.5745498830937561,0.36825517796166507,0.3341327367817673,0.48874026871574744,1.3608606253218598,0.4554924854590226,1.8094373497026,0.5023590352482697,0.5039697969882834,2.0274406558276676,0.3210832553098528,0.5149311209047529,1.469193734073388,0.5574227795701319,0.43003405569685604,0.7433311503813784,0.9634792568126296,0.5815753525722109,0.9364833717483693,1.3629011438743293,0.45644254461621103,0.5731487928870987,0.9763905281012433,0.5784445290093486,0.43406484194417383,0.3950647381830631,1.4611100768123062,0.5322940739815593,0.7617184095312609,0.9154196100761011,1.8516754841310368,0.41452051438441323,0.6393785584045215,0.3225541592368747,0.3512180125288254,0.6598390735779108,0.5918854426504032,0.5915966468594368,0.9648982191923355,0.7811824928425383,0.6153339809766146,1.0543027886407614,0.801300313381112,1.2087497828833735,0.5637447817654888,1.1663341825386984,1.5421569231645038,0.5077733065971818,0.5450353621542587,0.36006557326010963,0.666782354644483,0.517818410275948,0.5133149352683931,0.5712170152365765,0.3254856182564198,0.35372707164363687,0.9763359754642759,0.5864781171544033,0.6574274806530835,0.3949133647348093,1.1632096734835984,0.6435011098221843,0.46639592082868325,1.0537901181941347,0.48674851878190156,1.2205894161541273,0.42721887634797934,0.47566588270291155,0.8681599208738868,0.4495793680496899,0.7987743864910226,0.7179597555311589,0.653364226180157,0.6634328275026099,0.898105826734188,0.672822111979207,0.39652423773067613,0.933936665382557,1.2911539922609105,0.6863523909276993,0.4935233294738659,1.3218812593790694,0.636950518513133,1.1145222047842394,1.0974559314100196,0.63801519233388,0.981860717844417,0.9341098447436695,0.6067344043825539,0.8981081106101593,0.5242832014763433,0.8837863718084578,1.5509705918470766,0.9746145441038007,0.9663824730428092,0.8022897462398687,0.45555137637615994,0.7701461559763905,2.789264071622034,0.8235298400432545,1.04454711913233,0.6099876872522279,1.0530116344862757,0.5546990097520644,0.3525533885060438,0.3562976043036754,0.3215277444395059,1.1468467692090667,0.492123178002363,1.067159262048587,0.5446505997995491,1.2002964958704183,0.7511069909792099,1.018430105407988,0.7985882146434536,0.5607259795041651,1.138011289274009,0.5439516688613502,0.5130609907826176,0.4976773700008588,1.2709940536369047,0.5476173406156054,1.4105888342596273,1.0884708069395261,0.7449746442369588,0.3643028884078453,0.6714433206361302,0.6123927248460257,0.5321720371780256,0.6233752928666925,0.97877282143127,1.1672656225684834,0.9672672927878545,2.4308720753570348,4.9108296717498074,0.25846471956577916,0.6324227074489809,4.901145026674346,1.538088292939936,1.1132758140829389,0.5830903790087466,0.7149564554365775,1.1306518330924102,8.876800310319474,2.11204098932129],\"yaxis\":\"y\",\"type\":\"scatter\"}],                        {\"template\":{\"data\":{\"histogram2dcontour\":[{\"type\":\"histogram2dcontour\",\"colorbar\":{\"outlinewidth\":0,\"ticks\":\"\"},\"colorscale\":[[0.0,\"#0d0887\"],[0.1111111111111111,\"#46039f\"],[0.2222222222222222,\"#7201a8\"],[0.3333333333333333,\"#9c179e\"],[0.4444444444444444,\"#bd3786\"],[0.5555555555555556,\"#d8576b\"],[0.6666666666666666,\"#ed7953\"],[0.7777777777777778,\"#fb9f3a\"],[0.8888888888888888,\"#fdca26\"],[1.0,\"#f0f921\"]]}],\"choropleth\":[{\"type\":\"choropleth\",\"colorbar\":{\"outlinewidth\":0,\"ticks\":\"\"}}],\"histogram2d\":[{\"type\":\"histogram2d\",\"colorbar\":{\"outlinewidth\":0,\"ticks\":\"\"},\"colorscale\":[[0.0,\"#0d0887\"],[0.1111111111111111,\"#46039f\"],[0.2222222222222222,\"#7201a8\"],[0.3333333333333333,\"#9c179e\"],[0.4444444444444444,\"#bd3786\"],[0.5555555555555556,\"#d8576b\"],[0.6666666666666666,\"#ed7953\"],[0.7777777777777778,\"#fb9f3a\"],[0.8888888888888888,\"#fdca26\"],[1.0,\"#f0f921\"]]}],\"heatmap\":[{\"type\":\"heatmap\",\"colorbar\":{\"outlinewidth\":0,\"ticks\":\"\"},\"colorscale\":[[0.0,\"#0d0887\"],[0.1111111111111111,\"#46039f\"],[0.2222222222222222,\"#7201a8\"],[0.3333333333333333,\"#9c179e\"],[0.4444444444444444,\"#bd3786\"],[0.5555555555555556,\"#d8576b\"],[0.6666666666666666,\"#ed7953\"],[0.7777777777777778,\"#fb9f3a\"],[0.8888888888888888,\"#fdca26\"],[1.0,\"#f0f921\"]]}],\"heatmapgl\":[{\"type\":\"heatmapgl\",\"colorbar\":{\"outlinewidth\":0,\"ticks\":\"\"},\"colorscale\":[[0.0,\"#0d0887\"],[0.1111111111111111,\"#46039f\"],[0.2222222222222222,\"#7201a8\"],[0.3333333333333333,\"#9c179e\"],[0.4444444444444444,\"#bd3786\"],[0.5555555555555556,\"#d8576b\"],[0.6666666666666666,\"#ed7953\"],[0.7777777777777778,\"#fb9f3a\"],[0.8888888888888888,\"#fdca26\"],[1.0,\"#f0f921\"]]}],\"contourcarpet\":[{\"type\":\"contourcarpet\",\"colorbar\":{\"outlinewidth\":0,\"ticks\":\"\"}}],\"contour\":[{\"type\":\"contour\",\"colorbar\":{\"outlinewidth\":0,\"ticks\":\"\"},\"colorscale\":[[0.0,\"#0d0887\"],[0.1111111111111111,\"#46039f\"],[0.2222222222222222,\"#7201a8\"],[0.3333333333333333,\"#9c179e\"],[0.4444444444444444,\"#bd3786\"],[0.5555555555555556,\"#d8576b\"],[0.6666666666666666,\"#ed7953\"],[0.7777777777777778,\"#fb9f3a\"],[0.8888888888888888,\"#fdca26\"],[1.0,\"#f0f921\"]]}],\"surface\":[{\"type\":\"surface\",\"colorbar\":{\"outlinewidth\":0,\"ticks\":\"\"},\"colorscale\":[[0.0,\"#0d0887\"],[0.1111111111111111,\"#46039f\"],[0.2222222222222222,\"#7201a8\"],[0.3333333333333333,\"#9c179e\"],[0.4444444444444444,\"#bd3786\"],[0.5555555555555556,\"#d8576b\"],[0.6666666666666666,\"#ed7953\"],[0.7777777777777778,\"#fb9f3a\"],[0.8888888888888888,\"#fdca26\"],[1.0,\"#f0f921\"]]}],\"mesh3d\":[{\"type\":\"mesh3d\",\"colorbar\":{\"outlinewidth\":0,\"ticks\":\"\"}}],\"scatter\":[{\"fillpattern\":{\"fillmode\":\"overlay\",\"size\":10,\"solidity\":0.2},\"type\":\"scatter\"}],\"parcoords\":[{\"type\":\"parcoords\",\"line\":{\"colorbar\":{\"outlinewidth\":0,\"ticks\":\"\"}}}],\"scatterpolargl\":[{\"type\":\"scatterpolargl\",\"marker\":{\"colorbar\":{\"outlinewidth\":0,\"ticks\":\"\"}}}],\"bar\":[{\"error_x\":{\"color\":\"#2a3f5f\"},\"error_y\":{\"color\":\"#2a3f5f\"},\"marker\":{\"line\":{\"color\":\"#E5ECF6\",\"width\":0.5},\"pattern\":{\"fillmode\":\"overlay\",\"size\":10,\"solidity\":0.2}},\"type\":\"bar\"}],\"scattergeo\":[{\"type\":\"scattergeo\",\"marker\":{\"colorbar\":{\"outlinewidth\":0,\"ticks\":\"\"}}}],\"scatterpolar\":[{\"type\":\"scatterpolar\",\"marker\":{\"colorbar\":{\"outlinewidth\":0,\"ticks\":\"\"}}}],\"histogram\":[{\"marker\":{\"pattern\":{\"fillmode\":\"overlay\",\"size\":10,\"solidity\":0.2}},\"type\":\"histogram\"}],\"scattergl\":[{\"type\":\"scattergl\",\"marker\":{\"colorbar\":{\"outlinewidth\":0,\"ticks\":\"\"}}}],\"scatter3d\":[{\"type\":\"scatter3d\",\"line\":{\"colorbar\":{\"outlinewidth\":0,\"ticks\":\"\"}},\"marker\":{\"colorbar\":{\"outlinewidth\":0,\"ticks\":\"\"}}}],\"scattermapbox\":[{\"type\":\"scattermapbox\",\"marker\":{\"colorbar\":{\"outlinewidth\":0,\"ticks\":\"\"}}}],\"scatterternary\":[{\"type\":\"scatterternary\",\"marker\":{\"colorbar\":{\"outlinewidth\":0,\"ticks\":\"\"}}}],\"scattercarpet\":[{\"type\":\"scattercarpet\",\"marker\":{\"colorbar\":{\"outlinewidth\":0,\"ticks\":\"\"}}}],\"carpet\":[{\"aaxis\":{\"endlinecolor\":\"#2a3f5f\",\"gridcolor\":\"white\",\"linecolor\":\"white\",\"minorgridcolor\":\"white\",\"startlinecolor\":\"#2a3f5f\"},\"baxis\":{\"endlinecolor\":\"#2a3f5f\",\"gridcolor\":\"white\",\"linecolor\":\"white\",\"minorgridcolor\":\"white\",\"startlinecolor\":\"#2a3f5f\"},\"type\":\"carpet\"}],\"table\":[{\"cells\":{\"fill\":{\"color\":\"#EBF0F8\"},\"line\":{\"color\":\"white\"}},\"header\":{\"fill\":{\"color\":\"#C8D4E3\"},\"line\":{\"color\":\"white\"}},\"type\":\"table\"}],\"barpolar\":[{\"marker\":{\"line\":{\"color\":\"#E5ECF6\",\"width\":0.5},\"pattern\":{\"fillmode\":\"overlay\",\"size\":10,\"solidity\":0.2}},\"type\":\"barpolar\"}],\"pie\":[{\"automargin\":true,\"type\":\"pie\"}]},\"layout\":{\"autotypenumbers\":\"strict\",\"colorway\":[\"#636efa\",\"#EF553B\",\"#00cc96\",\"#ab63fa\",\"#FFA15A\",\"#19d3f3\",\"#FF6692\",\"#B6E880\",\"#FF97FF\",\"#FECB52\"],\"font\":{\"color\":\"#2a3f5f\"},\"hovermode\":\"closest\",\"hoverlabel\":{\"align\":\"left\"},\"paper_bgcolor\":\"white\",\"plot_bgcolor\":\"#E5ECF6\",\"polar\":{\"bgcolor\":\"#E5ECF6\",\"angularaxis\":{\"gridcolor\":\"white\",\"linecolor\":\"white\",\"ticks\":\"\"},\"radialaxis\":{\"gridcolor\":\"white\",\"linecolor\":\"white\",\"ticks\":\"\"}},\"ternary\":{\"bgcolor\":\"#E5ECF6\",\"aaxis\":{\"gridcolor\":\"white\",\"linecolor\":\"white\",\"ticks\":\"\"},\"baxis\":{\"gridcolor\":\"white\",\"linecolor\":\"white\",\"ticks\":\"\"},\"caxis\":{\"gridcolor\":\"white\",\"linecolor\":\"white\",\"ticks\":\"\"}},\"coloraxis\":{\"colorbar\":{\"outlinewidth\":0,\"ticks\":\"\"}},\"colorscale\":{\"sequential\":[[0.0,\"#0d0887\"],[0.1111111111111111,\"#46039f\"],[0.2222222222222222,\"#7201a8\"],[0.3333333333333333,\"#9c179e\"],[0.4444444444444444,\"#bd3786\"],[0.5555555555555556,\"#d8576b\"],[0.6666666666666666,\"#ed7953\"],[0.7777777777777778,\"#fb9f3a\"],[0.8888888888888888,\"#fdca26\"],[1.0,\"#f0f921\"]],\"sequentialminus\":[[0.0,\"#0d0887\"],[0.1111111111111111,\"#46039f\"],[0.2222222222222222,\"#7201a8\"],[0.3333333333333333,\"#9c179e\"],[0.4444444444444444,\"#bd3786\"],[0.5555555555555556,\"#d8576b\"],[0.6666666666666666,\"#ed7953\"],[0.7777777777777778,\"#fb9f3a\"],[0.8888888888888888,\"#fdca26\"],[1.0,\"#f0f921\"]],\"diverging\":[[0,\"#8e0152\"],[0.1,\"#c51b7d\"],[0.2,\"#de77ae\"],[0.3,\"#f1b6da\"],[0.4,\"#fde0ef\"],[0.5,\"#f7f7f7\"],[0.6,\"#e6f5d0\"],[0.7,\"#b8e186\"],[0.8,\"#7fbc41\"],[0.9,\"#4d9221\"],[1,\"#276419\"]]},\"xaxis\":{\"gridcolor\":\"white\",\"linecolor\":\"white\",\"ticks\":\"\",\"title\":{\"standoff\":15},\"zerolinecolor\":\"white\",\"automargin\":true,\"zerolinewidth\":2},\"yaxis\":{\"gridcolor\":\"white\",\"linecolor\":\"white\",\"ticks\":\"\",\"title\":{\"standoff\":15},\"zerolinecolor\":\"white\",\"automargin\":true,\"zerolinewidth\":2},\"scene\":{\"xaxis\":{\"backgroundcolor\":\"#E5ECF6\",\"gridcolor\":\"white\",\"linecolor\":\"white\",\"showbackground\":true,\"ticks\":\"\",\"zerolinecolor\":\"white\",\"gridwidth\":2},\"yaxis\":{\"backgroundcolor\":\"#E5ECF6\",\"gridcolor\":\"white\",\"linecolor\":\"white\",\"showbackground\":true,\"ticks\":\"\",\"zerolinecolor\":\"white\",\"gridwidth\":2},\"zaxis\":{\"backgroundcolor\":\"#E5ECF6\",\"gridcolor\":\"white\",\"linecolor\":\"white\",\"showbackground\":true,\"ticks\":\"\",\"zerolinecolor\":\"white\",\"gridwidth\":2}},\"shapedefaults\":{\"line\":{\"color\":\"#2a3f5f\"}},\"annotationdefaults\":{\"arrowcolor\":\"#2a3f5f\",\"arrowhead\":0,\"arrowwidth\":1},\"geo\":{\"bgcolor\":\"white\",\"landcolor\":\"#E5ECF6\",\"subunitcolor\":\"white\",\"showland\":true,\"showlakes\":true,\"lakecolor\":\"white\"},\"title\":{\"x\":0.05},\"mapbox\":{\"style\":\"light\"}}},\"xaxis\":{\"anchor\":\"y\",\"domain\":[0.0,1.0],\"title\":{\"text\":\"Count\"}},\"yaxis\":{\"anchor\":\"x\",\"domain\":[0.0,1.0],\"title\":{\"text\":\"dov\"}},\"legend\":{\"tracegroupgap\":0},\"margin\":{\"t\":60}},                        {\"responsive\": true}                    ).then(function(){\n",
       "                            \n",
       "var gd = document.getElementById('f595acd5-289e-442f-a4e3-c3f48a7d43ed');\n",
       "var x = new MutationObserver(function (mutations, observer) {{\n",
       "        var display = window.getComputedStyle(gd).display;\n",
       "        if (!display || display === 'none') {{\n",
       "            console.log([gd, 'removed!']);\n",
       "            Plotly.purge(gd);\n",
       "            observer.disconnect();\n",
       "        }}\n",
       "}});\n",
       "\n",
       "// Listen for the removal of the full notebook cells\n",
       "var notebookContainer = gd.closest('#notebook-container');\n",
       "if (notebookContainer) {{\n",
       "    x.observe(notebookContainer, {childList: true});\n",
       "}}\n",
       "\n",
       "// Listen for the clearing of the current output cell\n",
       "var outputEl = gd.closest('.output');\n",
       "if (outputEl) {{\n",
       "    x.observe(outputEl, {childList: true});\n",
       "}}\n",
       "\n",
       "                        })                };                });            </script>        </div>"
      ]
     },
     "metadata": {},
     "output_type": "display_data"
    }
   ],
   "source": [
    "import plotly.express as px\n",
    "\n",
    "# Create the scatter plot using Plotly\n",
    "fig = px.scatter(wsm_dov, x='Count', y='dov', hover_data=['Name'])\n",
    "\n",
    "# Show the plot\n",
    "fig.show()"
   ]
  },
  {
   "cell_type": "code",
   "execution_count": 49,
   "metadata": {
    "tags": []
   },
   "outputs": [
    {
     "name": "stdout",
     "output_type": "stream",
     "text": [
      "34\n"
     ]
    },
    {
     "data": {
      "text/html": [
       "<div>\n",
       "<style scoped>\n",
       "    .dataframe tbody tr th:only-of-type {\n",
       "        vertical-align: middle;\n",
       "    }\n",
       "\n",
       "    .dataframe tbody tr th {\n",
       "        vertical-align: top;\n",
       "    }\n",
       "\n",
       "    .dataframe thead th {\n",
       "        text-align: right;\n",
       "    }\n",
       "</style>\n",
       "<table border=\"1\" class=\"dataframe\">\n",
       "  <thead>\n",
       "    <tr style=\"text-align: right;\">\n",
       "      <th></th>\n",
       "      <th>Name</th>\n",
       "      <th>dov</th>\n",
       "      <th>Topic</th>\n",
       "      <th>Count</th>\n",
       "      <th>Representation</th>\n",
       "      <th>Representative_Docs</th>\n",
       "    </tr>\n",
       "  </thead>\n",
       "  <tbody>\n",
       "    <tr>\n",
       "      <th>9</th>\n",
       "      <td>557_20240521_2024 20240521_22 whos_reacting 20...</td>\n",
       "      <td>1.336105</td>\n",
       "      <td>557</td>\n",
       "      <td>62</td>\n",
       "      <td>[20240521, 2024 20240521, 22 whos, reacting 20...</td>\n",
       "      <td>[- archyde skip to content archyde menu news e...</td>\n",
       "    </tr>\n",
       "    <tr>\n",
       "      <th>96</th>\n",
       "      <td>916_brussels times_brussels_times_</td>\n",
       "      <td>1.789366</td>\n",
       "      <td>916</td>\n",
       "      <td>17</td>\n",
       "      <td>[brussels times, brussels, times, , , , , , , ]</td>\n",
       "      <td>[the brussels times, the brussels times, the b...</td>\n",
       "    </tr>\n",
       "    <tr>\n",
       "      <th>110</th>\n",
       "      <td>721_het_juli_van_dat</td>\n",
       "      <td>1.437229</td>\n",
       "      <td>721</td>\n",
       "      <td>40</td>\n",
       "      <td>[het, juli, van, dat, pdc, op, wij, aan, nu, z...</td>\n",
       "      <td>[- archyde skip to content archyde menu news e...</td>\n",
       "    </tr>\n",
       "    <tr>\n",
       "      <th>194</th>\n",
       "      <td>878_jakubowitz_jakubowitz law_lawsuits_shareho...</td>\n",
       "      <td>1.927237</td>\n",
       "      <td>878</td>\n",
       "      <td>21</td>\n",
       "      <td>[jakubowitz, jakubowitz law, lawsuits, shareho...</td>\n",
       "      <td>[lawsuits filed against qfin, coin and phg - j...</td>\n",
       "    </tr>\n",
       "    <tr>\n",
       "      <th>423</th>\n",
       "      <td>779_noodls_transportation_execution scripts_bl...</td>\n",
       "      <td>1.062020</td>\n",
       "      <td>779</td>\n",
       "      <td>33</td>\n",
       "      <td>[noodls, transportation, execution scripts, bl...</td>\n",
       "      <td>[delegation of the european union to albania v...</td>\n",
       "    </tr>\n",
       "    <tr>\n",
       "      <th>458</th>\n",
       "      <td>563_derby_derbyshire_buy_derby county</td>\n",
       "      <td>1.044968</td>\n",
       "      <td>563</td>\n",
       "      <td>61</td>\n",
       "      <td>[derby, derbyshire, buy, derby county, derbyte...</td>\n",
       "      <td>[72 eateries in derbyshire with one-star food ...</td>\n",
       "    </tr>\n",
       "    <tr>\n",
       "      <th>518</th>\n",
       "      <td>547_candles_safes_laceration_burn</td>\n",
       "      <td>1.036772</td>\n",
       "      <td>547</td>\n",
       "      <td>65</td>\n",
       "      <td>[candles, safes, laceration, burn, threshold, ...</td>\n",
       "      <td>[target recalling millions of threshold candle...</td>\n",
       "    </tr>\n",
       "    <tr>\n",
       "      <th>620</th>\n",
       "      <td>645_antwerp_fourth place_place house_crew</td>\n",
       "      <td>2.013443</td>\n",
       "      <td>645</td>\n",
       "      <td>50</td>\n",
       "      <td>[antwerp, fourth place, place house, crew, win...</td>\n",
       "      <td>[- archyde skip to content archyde menu news e...</td>\n",
       "    </tr>\n",
       "    <tr>\n",
       "      <th>624</th>\n",
       "      <td>698_human bones_easton_brook_bones</td>\n",
       "      <td>1.679891</td>\n",
       "      <td>698</td>\n",
       "      <td>42</td>\n",
       "      <td>[human bones, easton, brook, bones, second ann...</td>\n",
       "      <td>[- archyde skip to content archyde menu news e...</td>\n",
       "    </tr>\n",
       "    <tr>\n",
       "      <th>721</th>\n",
       "      <td>568_mustard_gm mustard_gm_environmental release</td>\n",
       "      <td>1.029227</td>\n",
       "      <td>568</td>\n",
       "      <td>60</td>\n",
       "      <td>[mustard, gm mustard, gm, environmental releas...</td>\n",
       "      <td>[scientists write to pm against icar gag order...</td>\n",
       "    </tr>\n",
       "    <tr>\n",
       "      <th>722</th>\n",
       "      <td>841_government hospital_casualties_reported wa...</td>\n",
       "      <td>1.605758</td>\n",
       "      <td>841</td>\n",
       "      <td>26</td>\n",
       "      <td>[government hospital, casualties, reported wat...</td>\n",
       "      <td>[world news south korea to send 21-member team...</td>\n",
       "    </tr>\n",
       "    <tr>\n",
       "      <th>736</th>\n",
       "      <td>574_20240522_22 2024_22_netanyahu</td>\n",
       "      <td>1.228393</td>\n",
       "      <td>574</td>\n",
       "      <td>60</td>\n",
       "      <td>[20240522, 22 2024, 22, netanyahu, baznas, arc...</td>\n",
       "      <td>[- archyde skip to content archyde menu news e...</td>\n",
       "    </tr>\n",
       "    <tr>\n",
       "      <th>767</th>\n",
       "      <td>918_ground turkey_butterball_turkey_14000 pounds</td>\n",
       "      <td>6.938776</td>\n",
       "      <td>918</td>\n",
       "      <td>17</td>\n",
       "      <td>[ground turkey, butterball, turkey, 14000 poun...</td>\n",
       "      <td>[ground turkey recalled after reports of plast...</td>\n",
       "    </tr>\n",
       "    <tr>\n",
       "      <th>776</th>\n",
       "      <td>944_primary time_ministry business_defeated_la...</td>\n",
       "      <td>1.047283</td>\n",
       "      <td>944</td>\n",
       "      <td>12</td>\n",
       "      <td>[primary time, ministry business, defeated, la...</td>\n",
       "      <td>[- archyde skip to content archyde menu news e...</td>\n",
       "    </tr>\n",
       "    <tr>\n",
       "      <th>782</th>\n",
       "      <td>586_admin 21_admin_starfield_21 2024</td>\n",
       "      <td>1.043584</td>\n",
       "      <td>586</td>\n",
       "      <td>56</td>\n",
       "      <td>[admin 21, admin, starfield, 21 2024, 21, d1so...</td>\n",
       "      <td>[d1softballnews - a new company that covers te...</td>\n",
       "    </tr>\n",
       "    <tr>\n",
       "      <th>805</th>\n",
       "      <td>656_prince harry_king charles_charles_harry</td>\n",
       "      <td>1.162924</td>\n",
       "      <td>656</td>\n",
       "      <td>48</td>\n",
       "      <td>[prince harry, king charles, charles, harry, k...</td>\n",
       "      <td>[gammeeok restaurant closed by nyc department ...</td>\n",
       "    </tr>\n",
       "    <tr>\n",
       "      <th>920</th>\n",
       "      <td>595_family dollar_dollar_dollar recalls_toothp...</td>\n",
       "      <td>1.220589</td>\n",
       "      <td>595</td>\n",
       "      <td>55</td>\n",
       "      <td>[family dollar, dollar, dollar recalls, toothp...</td>\n",
       "      <td>[family dollar recalls hundreds of items sold ...</td>\n",
       "    </tr>\n",
       "    <tr>\n",
       "      <th>936</th>\n",
       "      <td>709_billion meals_meals_mohammed bin_mohammed</td>\n",
       "      <td>1.321881</td>\n",
       "      <td>709</td>\n",
       "      <td>41</td>\n",
       "      <td>[billion meals, meals, mohammed bin, mohammed,...</td>\n",
       "      <td>[mohammed bin rashid supports the \"billion cam...</td>\n",
       "    </tr>\n",
       "    <tr>\n",
       "      <th>939</th>\n",
       "      <td>873_uae_00_dubai_00 00</td>\n",
       "      <td>1.097456</td>\n",
       "      <td>873</td>\n",
       "      <td>22</td>\n",
       "      <td>[uae, 00, dubai, 00 00, ramadan, reviews, btr,...</td>\n",
       "      <td>[ramadan in uae: 1 billion meals drive gets dh...</td>\n",
       "    </tr>\n",
       "    <tr>\n",
       "      <th>947</th>\n",
       "      <td>895_auction_charity auction_plate_billion meals</td>\n",
       "      <td>1.550971</td>\n",
       "      <td>895</td>\n",
       "      <td>19</td>\n",
       "      <td>[auction, charity auction, plate, billion meal...</td>\n",
       "      <td>[most noble numbers charity auction for specia...</td>\n",
       "    </tr>\n",
       "    <tr>\n",
       "      <th>953</th>\n",
       "      <td>792_calmaine_egg producer_calmaine foods_flu c...</td>\n",
       "      <td>2.789264</td>\n",
       "      <td>792</td>\n",
       "      <td>31</td>\n",
       "      <td>[calmaine, egg producer, calmaine foods, flu c...</td>\n",
       "      <td>[biggest fresh egg producer in us finds bird f...</td>\n",
       "    </tr>\n",
       "    <tr>\n",
       "      <th>955</th>\n",
       "      <td>549_voice nigeria_prev_nigeria_lg</td>\n",
       "      <td>1.044547</td>\n",
       "      <td>549</td>\n",
       "      <td>65</td>\n",
       "      <td>[voice nigeria, prev, nigeria, lg, voice, afri...</td>\n",
       "      <td>[oil subsidy: minils boss calls for dialogue b...</td>\n",
       "    </tr>\n",
       "    <tr>\n",
       "      <th>957</th>\n",
       "      <td>717_dark chocolate_gummies_dark_chocolate</td>\n",
       "      <td>1.053012</td>\n",
       "      <td>717</td>\n",
       "      <td>40</td>\n",
       "      <td>[dark chocolate, gummies, dark, chocolate, sta...</td>\n",
       "      <td>[consumer reports urges dark chocolate makers ...</td>\n",
       "    </tr>\n",
       "    <tr>\n",
       "      <th>962</th>\n",
       "      <td>736_barry callebaut_callebaut_barry_chocolate</td>\n",
       "      <td>1.146847</td>\n",
       "      <td>736</td>\n",
       "      <td>37</td>\n",
       "      <td>[barry callebaut, callebaut, barry, chocolate,...</td>\n",
       "      <td>[barry callebaut to restart contaminated facto...</td>\n",
       "    </tr>\n",
       "    <tr>\n",
       "      <th>964</th>\n",
       "      <td>750_robitussin_cough_honey_robitussin cough</td>\n",
       "      <td>1.067159</td>\n",
       "      <td>750</td>\n",
       "      <td>36</td>\n",
       "      <td>[robitussin, cough, honey, robitussin cough, c...</td>\n",
       "      <td>[robitussin cough syrup recalled; products con...</td>\n",
       "    </tr>\n",
       "    <tr>\n",
       "      <th>966</th>\n",
       "      <td>621_skittles_titanium dioxide_titanium_dioxide</td>\n",
       "      <td>1.200296</td>\n",
       "      <td>621</td>\n",
       "      <td>53</td>\n",
       "      <td>[skittles, titanium dioxide, titanium, dioxide...</td>\n",
       "      <td>[are skittles toxic from titanium dioxide scie...</td>\n",
       "    </tr>\n",
       "    <tr>\n",
       "      <th>968</th>\n",
       "      <td>699_indiana_indy_multicultural_zone</td>\n",
       "      <td>1.018430</td>\n",
       "      <td>699</td>\n",
       "      <td>42</td>\n",
       "      <td>[indiana, indy, multicultural, zone, health sp...</td>\n",
       "      <td>[salmonella outbreak from precut cantaloupe ma...</td>\n",
       "    </tr>\n",
       "    <tr>\n",
       "      <th>971</th>\n",
       "      <td>894_haitian_soy sauce_sauce_soy</td>\n",
       "      <td>1.138011</td>\n",
       "      <td>894</td>\n",
       "      <td>19</td>\n",
       "      <td>[haitian, soy sauce, sauce, soy, flavor, addit...</td>\n",
       "      <td>[haitian flavor industry and condiment associa...</td>\n",
       "    </tr>\n",
       "    <tr>\n",
       "      <th>977</th>\n",
       "      <td>685_aspartame_sweetener_coke_diet coke</td>\n",
       "      <td>1.410589</td>\n",
       "      <td>685</td>\n",
       "      <td>44</td>\n",
       "      <td>[aspartame, sweetener, coke, diet coke, possib...</td>\n",
       "      <td>[aspartame sweetener used in diet coke a possi...</td>\n",
       "    </tr>\n",
       "    <tr>\n",
       "      <th>978</th>\n",
       "      <td>861_mars_magnum_mars wrigley_wrigley</td>\n",
       "      <td>1.088471</td>\n",
       "      <td>861</td>\n",
       "      <td>23</td>\n",
       "      <td>[mars, magnum, mars wrigley, wrigley, paper pa...</td>\n",
       "      <td>[recall of magnum classic ice creams over fear...</td>\n",
       "    </tr>\n",
       "    <tr>\n",
       "      <th>986</th>\n",
       "      <td>891_scitech culture_opinions scitech_americas ...</td>\n",
       "      <td>1.167266</td>\n",
       "      <td>891</td>\n",
       "      <td>19</td>\n",
       "      <td>[scitech culture, opinions scitech, americas a...</td>\n",
       "      <td>[kobayashi scandal: 5 dead, 114 hospitalized i...</td>\n",
       "    </tr>\n",
       "    <tr>\n",
       "      <th>989</th>\n",
       "      <td>892_sultry_boat_turnout_dam</td>\n",
       "      <td>4.910830</td>\n",
       "      <td>892</td>\n",
       "      <td>19</td>\n",
       "      <td>[sultry, boat, turnout, dam, polling, deployed...</td>\n",
       "      <td>[and from across the world - samachar central ...</td>\n",
       "    </tr>\n",
       "    <tr>\n",
       "      <th>993</th>\n",
       "      <td>872_aspartame_cards best_rt_credit</td>\n",
       "      <td>1.538088</td>\n",
       "      <td>872</td>\n",
       "      <td>22</td>\n",
       "      <td>[aspartame, cards best, rt, credit, credit car...</td>\n",
       "      <td>[who aspartame decision could hurt diet soda s...</td>\n",
       "    </tr>\n",
       "    <tr>\n",
       "      <th>997</th>\n",
       "      <td>939_companies products_services software_produ...</td>\n",
       "      <td>1.130652</td>\n",
       "      <td>939</td>\n",
       "      <td>13</td>\n",
       "      <td>[companies products, services software, produc...</td>\n",
       "      <td>[certified reference materials for the quantif...</td>\n",
       "    </tr>\n",
       "  </tbody>\n",
       "</table>\n",
       "</div>"
      ],
      "text/plain": [
       "                                                  Name       dov  Topic  \\\n",
       "9    557_20240521_2024 20240521_22 whos_reacting 20...  1.336105    557   \n",
       "96                  916_brussels times_brussels_times_  1.789366    916   \n",
       "110                               721_het_juli_van_dat  1.437229    721   \n",
       "194  878_jakubowitz_jakubowitz law_lawsuits_shareho...  1.927237    878   \n",
       "423  779_noodls_transportation_execution scripts_bl...  1.062020    779   \n",
       "458              563_derby_derbyshire_buy_derby county  1.044968    563   \n",
       "518                  547_candles_safes_laceration_burn  1.036772    547   \n",
       "620          645_antwerp_fourth place_place house_crew  2.013443    645   \n",
       "624                 698_human bones_easton_brook_bones  1.679891    698   \n",
       "721    568_mustard_gm mustard_gm_environmental release  1.029227    568   \n",
       "722  841_government hospital_casualties_reported wa...  1.605758    841   \n",
       "736                  574_20240522_22 2024_22_netanyahu  1.228393    574   \n",
       "767   918_ground turkey_butterball_turkey_14000 pounds  6.938776    918   \n",
       "776  944_primary time_ministry business_defeated_la...  1.047283    944   \n",
       "782               586_admin 21_admin_starfield_21 2024  1.043584    586   \n",
       "805        656_prince harry_king charles_charles_harry  1.162924    656   \n",
       "920  595_family dollar_dollar_dollar recalls_toothp...  1.220589    595   \n",
       "936      709_billion meals_meals_mohammed bin_mohammed  1.321881    709   \n",
       "939                             873_uae_00_dubai_00 00  1.097456    873   \n",
       "947    895_auction_charity auction_plate_billion meals  1.550971    895   \n",
       "953  792_calmaine_egg producer_calmaine foods_flu c...  2.789264    792   \n",
       "955                  549_voice nigeria_prev_nigeria_lg  1.044547    549   \n",
       "957          717_dark chocolate_gummies_dark_chocolate  1.053012    717   \n",
       "962      736_barry callebaut_callebaut_barry_chocolate  1.146847    736   \n",
       "964        750_robitussin_cough_honey_robitussin cough  1.067159    750   \n",
       "966     621_skittles_titanium dioxide_titanium_dioxide  1.200296    621   \n",
       "968                699_indiana_indy_multicultural_zone  1.018430    699   \n",
       "971                    894_haitian_soy sauce_sauce_soy  1.138011    894   \n",
       "977             685_aspartame_sweetener_coke_diet coke  1.410589    685   \n",
       "978               861_mars_magnum_mars wrigley_wrigley  1.088471    861   \n",
       "986  891_scitech culture_opinions scitech_americas ...  1.167266    891   \n",
       "989                        892_sultry_boat_turnout_dam  4.910830    892   \n",
       "993                 872_aspartame_cards best_rt_credit  1.538088    872   \n",
       "997  939_companies products_services software_produ...  1.130652    939   \n",
       "\n",
       "     Count                                     Representation  \\\n",
       "9       62  [20240521, 2024 20240521, 22 whos, reacting 20...   \n",
       "96      17    [brussels times, brussels, times, , , , , , , ]   \n",
       "110     40  [het, juli, van, dat, pdc, op, wij, aan, nu, z...   \n",
       "194     21  [jakubowitz, jakubowitz law, lawsuits, shareho...   \n",
       "423     33  [noodls, transportation, execution scripts, bl...   \n",
       "458     61  [derby, derbyshire, buy, derby county, derbyte...   \n",
       "518     65  [candles, safes, laceration, burn, threshold, ...   \n",
       "620     50  [antwerp, fourth place, place house, crew, win...   \n",
       "624     42  [human bones, easton, brook, bones, second ann...   \n",
       "721     60  [mustard, gm mustard, gm, environmental releas...   \n",
       "722     26  [government hospital, casualties, reported wat...   \n",
       "736     60  [20240522, 22 2024, 22, netanyahu, baznas, arc...   \n",
       "767     17  [ground turkey, butterball, turkey, 14000 poun...   \n",
       "776     12  [primary time, ministry business, defeated, la...   \n",
       "782     56  [admin 21, admin, starfield, 21 2024, 21, d1so...   \n",
       "805     48  [prince harry, king charles, charles, harry, k...   \n",
       "920     55  [family dollar, dollar, dollar recalls, toothp...   \n",
       "936     41  [billion meals, meals, mohammed bin, mohammed,...   \n",
       "939     22  [uae, 00, dubai, 00 00, ramadan, reviews, btr,...   \n",
       "947     19  [auction, charity auction, plate, billion meal...   \n",
       "953     31  [calmaine, egg producer, calmaine foods, flu c...   \n",
       "955     65  [voice nigeria, prev, nigeria, lg, voice, afri...   \n",
       "957     40  [dark chocolate, gummies, dark, chocolate, sta...   \n",
       "962     37  [barry callebaut, callebaut, barry, chocolate,...   \n",
       "964     36  [robitussin, cough, honey, robitussin cough, c...   \n",
       "966     53  [skittles, titanium dioxide, titanium, dioxide...   \n",
       "968     42  [indiana, indy, multicultural, zone, health sp...   \n",
       "971     19  [haitian, soy sauce, sauce, soy, flavor, addit...   \n",
       "977     44  [aspartame, sweetener, coke, diet coke, possib...   \n",
       "978     23  [mars, magnum, mars wrigley, wrigley, paper pa...   \n",
       "986     19  [scitech culture, opinions scitech, americas a...   \n",
       "989     19  [sultry, boat, turnout, dam, polling, deployed...   \n",
       "993     22  [aspartame, cards best, rt, credit, credit car...   \n",
       "997     13  [companies products, services software, produc...   \n",
       "\n",
       "                                   Representative_Docs  \n",
       "9    [- archyde skip to content archyde menu news e...  \n",
       "96   [the brussels times, the brussels times, the b...  \n",
       "110  [- archyde skip to content archyde menu news e...  \n",
       "194  [lawsuits filed against qfin, coin and phg - j...  \n",
       "423  [delegation of the european union to albania v...  \n",
       "458  [72 eateries in derbyshire with one-star food ...  \n",
       "518  [target recalling millions of threshold candle...  \n",
       "620  [- archyde skip to content archyde menu news e...  \n",
       "624  [- archyde skip to content archyde menu news e...  \n",
       "721  [scientists write to pm against icar gag order...  \n",
       "722  [world news south korea to send 21-member team...  \n",
       "736  [- archyde skip to content archyde menu news e...  \n",
       "767  [ground turkey recalled after reports of plast...  \n",
       "776  [- archyde skip to content archyde menu news e...  \n",
       "782  [d1softballnews - a new company that covers te...  \n",
       "805  [gammeeok restaurant closed by nyc department ...  \n",
       "920  [family dollar recalls hundreds of items sold ...  \n",
       "936  [mohammed bin rashid supports the \"billion cam...  \n",
       "939  [ramadan in uae: 1 billion meals drive gets dh...  \n",
       "947  [most noble numbers charity auction for specia...  \n",
       "953  [biggest fresh egg producer in us finds bird f...  \n",
       "955  [oil subsidy: minils boss calls for dialogue b...  \n",
       "957  [consumer reports urges dark chocolate makers ...  \n",
       "962  [barry callebaut to restart contaminated facto...  \n",
       "964  [robitussin cough syrup recalled; products con...  \n",
       "966  [are skittles toxic from titanium dioxide scie...  \n",
       "968  [salmonella outbreak from precut cantaloupe ma...  \n",
       "971  [haitian flavor industry and condiment associa...  \n",
       "977  [aspartame sweetener used in diet coke a possi...  \n",
       "978  [recall of magnum classic ice creams over fear...  \n",
       "986  [kobayashi scandal: 5 dead, 114 hospitalized i...  \n",
       "989  [and from across the world - samachar central ...  \n",
       "993  [who aspartame decision could hurt diet soda s...  \n",
       "997  [certified reference materials for the quantif...  "
      ]
     },
     "execution_count": 49,
     "metadata": {},
     "output_type": "execute_result"
    }
   ],
   "source": [
    "# Set the desired range for 'dov' and 'frequency'\n",
    "dov_min = 1\n",
    "count_min = 10\n",
    "count_max = 65\n",
    "\n",
    "# Filter the DataFrame based on the range of values\n",
    "weak_signal_df = wsm_dov[(wsm_dov['dov'] >= dov_min) & (wsm_dov['Count'] >= count_min) & (wsm_dov['Count'] <= count_max)]\n",
    "\n",
    "# Get the values from the 'term' column in the filtered DataFrame\n",
    "weak_signals = weak_signal_df['Name'].values.tolist()\n",
    "print(len(weak_signal_df))\n",
    "weak_signal_df"
   ]
  },
  {
   "cell_type": "code",
   "execution_count": 50,
   "metadata": {
    "tags": []
   },
   "outputs": [],
   "source": [
    "weak_signal_df.to_csv('data/weak_signal_df_100k3.csv', index=False)"
   ]
  },
  {
   "cell_type": "code",
   "execution_count": null,
   "metadata": {},
   "outputs": [],
   "source": []
  }
 ],
 "metadata": {
  "accelerator": "GPU",
  "colab": {
   "gpuType": "T4",
   "machine_shape": "hm",
   "provenance": []
  },
  "environment": {
   "kernel": "conda-base-py",
   "name": "workbench-notebooks.m124",
   "type": "gcloud",
   "uri": "us-docker.pkg.dev/deeplearning-platform-release/gcr.io/workbench-notebooks:m124"
  },
  "kernelspec": {
   "display_name": "Python 3 (ipykernel) (Local)",
   "language": "python",
   "name": "conda-base-py"
  },
  "language_info": {
   "codemirror_mode": {
    "name": "ipython",
    "version": 3
   },
   "file_extension": ".py",
   "mimetype": "text/x-python",
   "name": "python",
   "nbconvert_exporter": "python",
   "pygments_lexer": "ipython3",
   "version": "3.10.14"
  }
 },
 "nbformat": 4,
 "nbformat_minor": 4
}
