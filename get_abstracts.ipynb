{
 "cells": [
  {
   "cell_type": "code",
   "execution_count": 1,
   "id": "1f12b55c-730d-444e-9152-1fc06c00c2eb",
   "metadata": {
    "tags": []
   },
   "outputs": [],
   "source": [
    "!pip install -q pandas pymed"
   ]
  },
  {
   "cell_type": "code",
   "execution_count": 2,
   "id": "503da4c4-a2c7-4cbc-8a7a-9d4d1825c306",
   "metadata": {
    "tags": []
   },
   "outputs": [
    {
     "name": "stdout",
     "output_type": "stream",
     "text": [
      "             Date                                           Abstract\n",
      "0      2015-03-10  Garlic is valued more for its flavoring and us...\n",
      "1      2015-03-10  The present investigation was undertaken to st...\n",
      "2      2015-01-01  Upland areas of southeastern U.S. tidal creek ...\n",
      "3      2014-12-10  The specific activity of 90Sr in milk and vege...\n",
      "4      2014-06-11  A survey was conducted to evaluate aflatoxin c...\n",
      "...           ...                                                ...\n",
      "12686  2020-09-29  The gluten-free food market is growing with th...\n",
      "12687  2020-09-02  Hurricane Sandy made landfall in New Jersey on...\n",
      "12688  2020-08-28  Prevalent risks in meat value-chains of sub-Sa...\n",
      "12689  2020-06-03  The presence of metal contaminants in agricult...\n",
      "12690  2019-03-04  The organochlorine pollution by chlordecone, a...\n",
      "\n",
      "[12691 rows x 2 columns]\n"
     ]
    }
   ],
   "source": [
    "# Get Papers from PubMed\n",
    "import pandas as pd\n",
    "from pymed import PubMed\n",
    "\n",
    "# Set up the PubMed instance\n",
    "pubmed = PubMed(tool=\"MyTool\", email=\"your_email@example.com\")\n",
    "\n",
    "data = []\n",
    "\n",
    "# Define the search terms\n",
    "terms = '((food[Title/Abstract]) AND (contamination[Title/Abstract]))'\n",
    "#terms = '((food[Title/Abstract]) OR (feed[Title/Abstract]) AND (additives[Title/Abstract]))'\n",
    "# Define the years range\n",
    "years = range(2013, 2023)\n",
    "\n",
    "for year in years:\n",
    "    # Construct the query for each year\n",
    "    query = f'{terms} AND (\"{year}\"[Date - Publication] : \"{year}\"[Date - Publication])'\n",
    "\n",
    "    # Perform the search\n",
    "    results = pubmed.query(query, max_results=9999)\n",
    "\n",
    "    # Extract the publication year and abstract\n",
    "    for article in results:\n",
    "        date = article.publication_date\n",
    "        abstract = article.abstract\n",
    "        data.append({\"Date\": date, \"Abstract\": abstract})\n",
    "\n",
    "# Create the DataFrame\n",
    "Paper = pd.DataFrame(data)\n",
    "\n",
    "# Print the resulting DataFrame\n",
    "print(Paper)"
   ]
  },
  {
   "cell_type": "code",
   "execution_count": 3,
   "id": "591929af-e349-4c42-9da1-975120164ce7",
   "metadata": {
    "tags": []
   },
   "outputs": [],
   "source": [
    "Paper.to_csv('data/papers.csv', index=False)"
   ]
  }
 ],
 "metadata": {
  "environment": {
   "kernel": "conda-base-py",
   "name": "workbench-notebooks.m122",
   "type": "gcloud",
   "uri": "us-docker.pkg.dev/deeplearning-platform-release/gcr.io/workbench-notebooks:m122"
  },
  "kernelspec": {
   "display_name": "Python 3 (ipykernel) (Local)",
   "language": "python",
   "name": "conda-base-py"
  },
  "language_info": {
   "codemirror_mode": {
    "name": "ipython",
    "version": 3
   },
   "file_extension": ".py",
   "mimetype": "text/x-python",
   "name": "python",
   "nbconvert_exporter": "python",
   "pygments_lexer": "ipython3",
   "version": "3.10.14"
  }
 },
 "nbformat": 4,
 "nbformat_minor": 5
}
